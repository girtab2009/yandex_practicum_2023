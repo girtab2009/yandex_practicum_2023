{
 "cells": [
  {
   "cell_type": "markdown",
   "metadata": {
    "toc": true
   },
   "source": [
    "<h1>Содержание<span class=\"tocSkip\"></span></h1>\n",
    "<div class=\"toc\"><ul class=\"toc-item\"><li><span><a href=\"#Подготовка-данных\" data-toc-modified-id=\"Подготовка-данных-1\"><span class=\"toc-item-num\">1&nbsp;&nbsp;</span>Подготовка данных</a></span></li><li><span><a href=\"#Исследование-задачи\" data-toc-modified-id=\"Исследование-задачи-2\"><span class=\"toc-item-num\">2&nbsp;&nbsp;</span>Исследование задачи</a></span></li><li><span><a href=\"#Борьба-с-дисбалансом\" data-toc-modified-id=\"Борьба-с-дисбалансом-3\"><span class=\"toc-item-num\">3&nbsp;&nbsp;</span>Борьба с дисбалансом</a></span></li><li><span><a href=\"#Тестирование-модели\" data-toc-modified-id=\"Тестирование-модели-4\"><span class=\"toc-item-num\">4&nbsp;&nbsp;</span>Тестирование модели</a></span></li><li><span><a href=\"#Общий-вывод:\" data-toc-modified-id=\"Общий-вывод:-5\"><span class=\"toc-item-num\">5&nbsp;&nbsp;</span>Общий вывод:</a></span></li><li><span><a href=\"#Чек-лист-готовности-проекта\" data-toc-modified-id=\"Чек-лист-готовности-проекта-6\"><span class=\"toc-item-num\">6&nbsp;&nbsp;</span>Чек-лист готовности проекта</a></span></li></ul></div>"
   ]
  },
  {
   "cell_type": "markdown",
   "metadata": {},
   "source": [
    "# Отток клиентов"
   ]
  },
  {
   "cell_type": "markdown",
   "metadata": {},
   "source": [
    "**Цель исследования**\n",
    "\n",
    "построить модель со значением F1-меры не менее 0.59 для осуществления прогноза: уйдёт ли клиент из «Бета-Банка» в ближайшее время или нет; проверить F1-меру на тестовой выборке. \n",
    "\n",
    "**Описание данных:**\n",
    "\n",
    "для проведения анализа представлены исторические данные о поведении клиентов «Бета-Банка» и расторжении договоров с банком (*файл /datasets/Churn.csv*). Ниже приведен перечень представленных даных: \n",
    "\n",
    "- RowNumber (индекс строки в данных);\n",
    "- CustomerId (уникальный идентификатор клиента);\n",
    "- Surname (фамилия);\n",
    "- CreditScore (кредитный рейтинг);\n",
    "- Geography (страна проживания);\n",
    "- Gender (пол);\n",
    "- Age (возраст);\n",
    "- Tenure (сколько лет человек является клиентом банка);\n",
    "- Balance (баланс на счёте);\n",
    "- NumOfProducts (количество продуктов банка, используемых клиентом);\n",
    "- HasCrCard (наличие кредитной карты);\n",
    "- IsActiveMember (активность клиента);\n",
    "- EstimatedSalary (предполагаемая зарплата);\n",
    "- Exited (факт ухода клиента).\n",
    "\n",
    "\n",
    "**План работы:**\n",
    "\n",
    "1. открыть файл с данными и изучить общую информацию;\n",
    "2. выполнить предобработку данных;\n",
    "3. исследовать баланс классов и обучить модель без учёта дисбаланса;\n",
    "4. улучшить качество модели, учитывая дисбаланс классов;\n",
    "5. провести финальное тестирование;\n",
    "6. сформулировать общий вывод."
   ]
  },
  {
   "cell_type": "markdown",
   "metadata": {},
   "source": [
    "## Подготовка данных"
   ]
  },
  {
   "cell_type": "code",
   "execution_count": 1,
   "metadata": {},
   "outputs": [],
   "source": [
    "# импортируем нужные библиотеки\n",
    "import pandas as pd\n",
    "import seaborn as sns\n",
    "sns.set()\n",
    "import re\n",
    "import numpy as np\n",
    "import matplotlib.pyplot as plt\n",
    "from sklearn import metrics\n",
    "from sklearn.metrics import (\n",
    "    accuracy_score,\n",
    "    roc_curve,\n",
    "    confusion_matrix, \n",
    "    f1_score,\n",
    "    roc_auc_score\n",
    ")\n",
    "from sklearn.model_selection import train_test_split\n",
    "from sklearn.tree import DecisionTreeClassifier\n",
    "from sklearn.ensemble import RandomForestClassifier\n",
    "from sklearn.preprocessing import StandardScaler \n",
    "from sklearn.utils import shuffle"
   ]
  },
  {
   "cell_type": "code",
   "execution_count": 2,
   "metadata": {},
   "outputs": [
    {
     "name": "stdout",
     "output_type": "stream",
     "text": [
      "<class 'pandas.core.frame.DataFrame'>\n",
      "RangeIndex: 10000 entries, 0 to 9999\n",
      "Data columns (total 14 columns):\n",
      " #   Column           Non-Null Count  Dtype  \n",
      "---  ------           --------------  -----  \n",
      " 0   RowNumber        10000 non-null  int64  \n",
      " 1   CustomerId       10000 non-null  int64  \n",
      " 2   Surname          10000 non-null  object \n",
      " 3   CreditScore      10000 non-null  int64  \n",
      " 4   Geography        10000 non-null  object \n",
      " 5   Gender           10000 non-null  object \n",
      " 6   Age              10000 non-null  int64  \n",
      " 7   Tenure           9091 non-null   float64\n",
      " 8   Balance          10000 non-null  float64\n",
      " 9   NumOfProducts    10000 non-null  int64  \n",
      " 10  HasCrCard        10000 non-null  int64  \n",
      " 11  IsActiveMember   10000 non-null  int64  \n",
      " 12  EstimatedSalary  10000 non-null  float64\n",
      " 13  Exited           10000 non-null  int64  \n",
      "dtypes: float64(3), int64(8), object(3)\n",
      "memory usage: 1.1+ MB\n"
     ]
    }
   ],
   "source": [
    "# загружаем данные из файла в датафрейм\n",
    "data = pd.read_csv('/datasets/Churn.csv')\n",
    "# выводим основную информацию о датафреймах с помощью метода info()\n",
    "data.info()"
   ]
  },
  {
   "cell_type": "markdown",
   "metadata": {},
   "source": [
    "Как мы видим, в датафрейме 14 столбцов и 10 000 строк. Значения **8 столбцов относятся к целочисленному типу. Это:**\n",
    "\n",
    "- RowNumber (индекс строки в данных);\n",
    "- CustomerId (уникальный идентификатор клиента);\n",
    "- CreditScore (кредитный рейтинг);\n",
    "- Age (возраст);\n",
    "- NumOfProducts (количество продуктов банка, используемых клиентом);\n",
    "- HasCrCard (наличие кредитной карты);\n",
    "- IsActiveMember (активность клиента);\n",
    "- Exited (факт ухода клиента).\n",
    "\n",
    "Значения **3 столбцов относятся к вещественному типу. Это:**\n",
    "\n",
    "- Tenure (сколько лет человек является клиентом банка);\n",
    "- Balance (баланс на счёте);\n",
    "- EstimatedSalary (предполагаемая зарплата).\n",
    "\n",
    "Значения **3 столбцов относятся к строковому типу. Это:**\n",
    "\n",
    "- Surname (фамилия);\n",
    "- Geography (страна проживания);\n",
    "- Gender (пол).\n",
    "\n",
    "Таким образом, в датафрейме используются корректные типы данных, менять их мы не будем. При этом названия столбцов стоит привести в соответствие со \"змеиным регистром\". "
   ]
  },
  {
   "cell_type": "code",
   "execution_count": 3,
   "metadata": {},
   "outputs": [
    {
     "name": "stdout",
     "output_type": "stream",
     "text": [
      "<class 'pandas.core.frame.DataFrame'>\n",
      "RangeIndex: 10000 entries, 0 to 9999\n",
      "Data columns (total 14 columns):\n",
      " #   Column            Non-Null Count  Dtype  \n",
      "---  ------            --------------  -----  \n",
      " 0   row_number        10000 non-null  int64  \n",
      " 1   customer_id       10000 non-null  int64  \n",
      " 2   surname           10000 non-null  object \n",
      " 3   credit_score      10000 non-null  int64  \n",
      " 4   geography         10000 non-null  object \n",
      " 5   gender            10000 non-null  object \n",
      " 6   age               10000 non-null  int64  \n",
      " 7   tenure            9091 non-null   float64\n",
      " 8   balance           10000 non-null  float64\n",
      " 9   num_of_products   10000 non-null  int64  \n",
      " 10  has_cr_card       10000 non-null  int64  \n",
      " 11  is_active_member  10000 non-null  int64  \n",
      " 12  estimated_salary  10000 non-null  float64\n",
      " 13  exited            10000 non-null  int64  \n",
      "dtypes: float64(3), int64(8), object(3)\n",
      "memory usage: 1.1+ MB\n"
     ]
    }
   ],
   "source": [
    "data.columns = [re.sub(r'(?<!^)(?=[A-Z])', '_', i).lower() for i in data.columns]\n",
    "data.info()"
   ]
  },
  {
   "cell_type": "code",
   "execution_count": 4,
   "metadata": {},
   "outputs": [],
   "source": [
    "# приведем названия стобцов датафрейма к змеиному регистру\n",
    "#data.columns = data.columns.str.lower()\n",
    "#data = data.rename(columns={'rownumber': 'row_number', 'customerid': 'customer_id', 'creditscore': 'credit_score',\\\n",
    "#'numofproducts':'num_of_products', 'hascrcard':'has_cr_card', 'isactivemember':'is_active_member',\\\n",
    "                            #'isactivemember':'is_active_member', 'estimatedsalary':'estimated_salary'})\n",
    "#data.info()"
   ]
  },
  {
   "cell_type": "markdown",
   "metadata": {},
   "source": [
    "Таким образом, все названия столбцов нашего датафрейма соответствуют \"змеиному регистру\". Теперь выведем первые 20 строчек датафрейма на экран."
   ]
  },
  {
   "cell_type": "code",
   "execution_count": 5,
   "metadata": {},
   "outputs": [
    {
     "data": {
      "text/html": [
       "<div>\n",
       "<style scoped>\n",
       "    .dataframe tbody tr th:only-of-type {\n",
       "        vertical-align: middle;\n",
       "    }\n",
       "\n",
       "    .dataframe tbody tr th {\n",
       "        vertical-align: top;\n",
       "    }\n",
       "\n",
       "    .dataframe thead th {\n",
       "        text-align: right;\n",
       "    }\n",
       "</style>\n",
       "<table border=\"1\" class=\"dataframe\">\n",
       "  <thead>\n",
       "    <tr style=\"text-align: right;\">\n",
       "      <th></th>\n",
       "      <th>row_number</th>\n",
       "      <th>customer_id</th>\n",
       "      <th>surname</th>\n",
       "      <th>credit_score</th>\n",
       "      <th>geography</th>\n",
       "      <th>gender</th>\n",
       "      <th>age</th>\n",
       "      <th>tenure</th>\n",
       "      <th>balance</th>\n",
       "      <th>num_of_products</th>\n",
       "      <th>has_cr_card</th>\n",
       "      <th>is_active_member</th>\n",
       "      <th>estimated_salary</th>\n",
       "      <th>exited</th>\n",
       "    </tr>\n",
       "  </thead>\n",
       "  <tbody>\n",
       "    <tr>\n",
       "      <th>0</th>\n",
       "      <td>1</td>\n",
       "      <td>15634602</td>\n",
       "      <td>Hargrave</td>\n",
       "      <td>619</td>\n",
       "      <td>France</td>\n",
       "      <td>Female</td>\n",
       "      <td>42</td>\n",
       "      <td>2.0</td>\n",
       "      <td>0.00</td>\n",
       "      <td>1</td>\n",
       "      <td>1</td>\n",
       "      <td>1</td>\n",
       "      <td>101348.88</td>\n",
       "      <td>1</td>\n",
       "    </tr>\n",
       "    <tr>\n",
       "      <th>1</th>\n",
       "      <td>2</td>\n",
       "      <td>15647311</td>\n",
       "      <td>Hill</td>\n",
       "      <td>608</td>\n",
       "      <td>Spain</td>\n",
       "      <td>Female</td>\n",
       "      <td>41</td>\n",
       "      <td>1.0</td>\n",
       "      <td>83807.86</td>\n",
       "      <td>1</td>\n",
       "      <td>0</td>\n",
       "      <td>1</td>\n",
       "      <td>112542.58</td>\n",
       "      <td>0</td>\n",
       "    </tr>\n",
       "    <tr>\n",
       "      <th>2</th>\n",
       "      <td>3</td>\n",
       "      <td>15619304</td>\n",
       "      <td>Onio</td>\n",
       "      <td>502</td>\n",
       "      <td>France</td>\n",
       "      <td>Female</td>\n",
       "      <td>42</td>\n",
       "      <td>8.0</td>\n",
       "      <td>159660.80</td>\n",
       "      <td>3</td>\n",
       "      <td>1</td>\n",
       "      <td>0</td>\n",
       "      <td>113931.57</td>\n",
       "      <td>1</td>\n",
       "    </tr>\n",
       "    <tr>\n",
       "      <th>3</th>\n",
       "      <td>4</td>\n",
       "      <td>15701354</td>\n",
       "      <td>Boni</td>\n",
       "      <td>699</td>\n",
       "      <td>France</td>\n",
       "      <td>Female</td>\n",
       "      <td>39</td>\n",
       "      <td>1.0</td>\n",
       "      <td>0.00</td>\n",
       "      <td>2</td>\n",
       "      <td>0</td>\n",
       "      <td>0</td>\n",
       "      <td>93826.63</td>\n",
       "      <td>0</td>\n",
       "    </tr>\n",
       "    <tr>\n",
       "      <th>4</th>\n",
       "      <td>5</td>\n",
       "      <td>15737888</td>\n",
       "      <td>Mitchell</td>\n",
       "      <td>850</td>\n",
       "      <td>Spain</td>\n",
       "      <td>Female</td>\n",
       "      <td>43</td>\n",
       "      <td>2.0</td>\n",
       "      <td>125510.82</td>\n",
       "      <td>1</td>\n",
       "      <td>1</td>\n",
       "      <td>1</td>\n",
       "      <td>79084.10</td>\n",
       "      <td>0</td>\n",
       "    </tr>\n",
       "    <tr>\n",
       "      <th>5</th>\n",
       "      <td>6</td>\n",
       "      <td>15574012</td>\n",
       "      <td>Chu</td>\n",
       "      <td>645</td>\n",
       "      <td>Spain</td>\n",
       "      <td>Male</td>\n",
       "      <td>44</td>\n",
       "      <td>8.0</td>\n",
       "      <td>113755.78</td>\n",
       "      <td>2</td>\n",
       "      <td>1</td>\n",
       "      <td>0</td>\n",
       "      <td>149756.71</td>\n",
       "      <td>1</td>\n",
       "    </tr>\n",
       "    <tr>\n",
       "      <th>6</th>\n",
       "      <td>7</td>\n",
       "      <td>15592531</td>\n",
       "      <td>Bartlett</td>\n",
       "      <td>822</td>\n",
       "      <td>France</td>\n",
       "      <td>Male</td>\n",
       "      <td>50</td>\n",
       "      <td>7.0</td>\n",
       "      <td>0.00</td>\n",
       "      <td>2</td>\n",
       "      <td>1</td>\n",
       "      <td>1</td>\n",
       "      <td>10062.80</td>\n",
       "      <td>0</td>\n",
       "    </tr>\n",
       "    <tr>\n",
       "      <th>7</th>\n",
       "      <td>8</td>\n",
       "      <td>15656148</td>\n",
       "      <td>Obinna</td>\n",
       "      <td>376</td>\n",
       "      <td>Germany</td>\n",
       "      <td>Female</td>\n",
       "      <td>29</td>\n",
       "      <td>4.0</td>\n",
       "      <td>115046.74</td>\n",
       "      <td>4</td>\n",
       "      <td>1</td>\n",
       "      <td>0</td>\n",
       "      <td>119346.88</td>\n",
       "      <td>1</td>\n",
       "    </tr>\n",
       "    <tr>\n",
       "      <th>8</th>\n",
       "      <td>9</td>\n",
       "      <td>15792365</td>\n",
       "      <td>He</td>\n",
       "      <td>501</td>\n",
       "      <td>France</td>\n",
       "      <td>Male</td>\n",
       "      <td>44</td>\n",
       "      <td>4.0</td>\n",
       "      <td>142051.07</td>\n",
       "      <td>2</td>\n",
       "      <td>0</td>\n",
       "      <td>1</td>\n",
       "      <td>74940.50</td>\n",
       "      <td>0</td>\n",
       "    </tr>\n",
       "    <tr>\n",
       "      <th>9</th>\n",
       "      <td>10</td>\n",
       "      <td>15592389</td>\n",
       "      <td>H?</td>\n",
       "      <td>684</td>\n",
       "      <td>France</td>\n",
       "      <td>Male</td>\n",
       "      <td>27</td>\n",
       "      <td>2.0</td>\n",
       "      <td>134603.88</td>\n",
       "      <td>1</td>\n",
       "      <td>1</td>\n",
       "      <td>1</td>\n",
       "      <td>71725.73</td>\n",
       "      <td>0</td>\n",
       "    </tr>\n",
       "    <tr>\n",
       "      <th>10</th>\n",
       "      <td>11</td>\n",
       "      <td>15767821</td>\n",
       "      <td>Bearce</td>\n",
       "      <td>528</td>\n",
       "      <td>France</td>\n",
       "      <td>Male</td>\n",
       "      <td>31</td>\n",
       "      <td>6.0</td>\n",
       "      <td>102016.72</td>\n",
       "      <td>2</td>\n",
       "      <td>0</td>\n",
       "      <td>0</td>\n",
       "      <td>80181.12</td>\n",
       "      <td>0</td>\n",
       "    </tr>\n",
       "    <tr>\n",
       "      <th>11</th>\n",
       "      <td>12</td>\n",
       "      <td>15737173</td>\n",
       "      <td>Andrews</td>\n",
       "      <td>497</td>\n",
       "      <td>Spain</td>\n",
       "      <td>Male</td>\n",
       "      <td>24</td>\n",
       "      <td>3.0</td>\n",
       "      <td>0.00</td>\n",
       "      <td>2</td>\n",
       "      <td>1</td>\n",
       "      <td>0</td>\n",
       "      <td>76390.01</td>\n",
       "      <td>0</td>\n",
       "    </tr>\n",
       "    <tr>\n",
       "      <th>12</th>\n",
       "      <td>13</td>\n",
       "      <td>15632264</td>\n",
       "      <td>Kay</td>\n",
       "      <td>476</td>\n",
       "      <td>France</td>\n",
       "      <td>Female</td>\n",
       "      <td>34</td>\n",
       "      <td>10.0</td>\n",
       "      <td>0.00</td>\n",
       "      <td>2</td>\n",
       "      <td>1</td>\n",
       "      <td>0</td>\n",
       "      <td>26260.98</td>\n",
       "      <td>0</td>\n",
       "    </tr>\n",
       "    <tr>\n",
       "      <th>13</th>\n",
       "      <td>14</td>\n",
       "      <td>15691483</td>\n",
       "      <td>Chin</td>\n",
       "      <td>549</td>\n",
       "      <td>France</td>\n",
       "      <td>Female</td>\n",
       "      <td>25</td>\n",
       "      <td>5.0</td>\n",
       "      <td>0.00</td>\n",
       "      <td>2</td>\n",
       "      <td>0</td>\n",
       "      <td>0</td>\n",
       "      <td>190857.79</td>\n",
       "      <td>0</td>\n",
       "    </tr>\n",
       "    <tr>\n",
       "      <th>14</th>\n",
       "      <td>15</td>\n",
       "      <td>15600882</td>\n",
       "      <td>Scott</td>\n",
       "      <td>635</td>\n",
       "      <td>Spain</td>\n",
       "      <td>Female</td>\n",
       "      <td>35</td>\n",
       "      <td>7.0</td>\n",
       "      <td>0.00</td>\n",
       "      <td>2</td>\n",
       "      <td>1</td>\n",
       "      <td>1</td>\n",
       "      <td>65951.65</td>\n",
       "      <td>0</td>\n",
       "    </tr>\n",
       "    <tr>\n",
       "      <th>15</th>\n",
       "      <td>16</td>\n",
       "      <td>15643966</td>\n",
       "      <td>Goforth</td>\n",
       "      <td>616</td>\n",
       "      <td>Germany</td>\n",
       "      <td>Male</td>\n",
       "      <td>45</td>\n",
       "      <td>3.0</td>\n",
       "      <td>143129.41</td>\n",
       "      <td>2</td>\n",
       "      <td>0</td>\n",
       "      <td>1</td>\n",
       "      <td>64327.26</td>\n",
       "      <td>0</td>\n",
       "    </tr>\n",
       "    <tr>\n",
       "      <th>16</th>\n",
       "      <td>17</td>\n",
       "      <td>15737452</td>\n",
       "      <td>Romeo</td>\n",
       "      <td>653</td>\n",
       "      <td>Germany</td>\n",
       "      <td>Male</td>\n",
       "      <td>58</td>\n",
       "      <td>1.0</td>\n",
       "      <td>132602.88</td>\n",
       "      <td>1</td>\n",
       "      <td>1</td>\n",
       "      <td>0</td>\n",
       "      <td>5097.67</td>\n",
       "      <td>1</td>\n",
       "    </tr>\n",
       "    <tr>\n",
       "      <th>17</th>\n",
       "      <td>18</td>\n",
       "      <td>15788218</td>\n",
       "      <td>Henderson</td>\n",
       "      <td>549</td>\n",
       "      <td>Spain</td>\n",
       "      <td>Female</td>\n",
       "      <td>24</td>\n",
       "      <td>9.0</td>\n",
       "      <td>0.00</td>\n",
       "      <td>2</td>\n",
       "      <td>1</td>\n",
       "      <td>1</td>\n",
       "      <td>14406.41</td>\n",
       "      <td>0</td>\n",
       "    </tr>\n",
       "    <tr>\n",
       "      <th>18</th>\n",
       "      <td>19</td>\n",
       "      <td>15661507</td>\n",
       "      <td>Muldrow</td>\n",
       "      <td>587</td>\n",
       "      <td>Spain</td>\n",
       "      <td>Male</td>\n",
       "      <td>45</td>\n",
       "      <td>6.0</td>\n",
       "      <td>0.00</td>\n",
       "      <td>1</td>\n",
       "      <td>0</td>\n",
       "      <td>0</td>\n",
       "      <td>158684.81</td>\n",
       "      <td>0</td>\n",
       "    </tr>\n",
       "    <tr>\n",
       "      <th>19</th>\n",
       "      <td>20</td>\n",
       "      <td>15568982</td>\n",
       "      <td>Hao</td>\n",
       "      <td>726</td>\n",
       "      <td>France</td>\n",
       "      <td>Female</td>\n",
       "      <td>24</td>\n",
       "      <td>6.0</td>\n",
       "      <td>0.00</td>\n",
       "      <td>2</td>\n",
       "      <td>1</td>\n",
       "      <td>1</td>\n",
       "      <td>54724.03</td>\n",
       "      <td>0</td>\n",
       "    </tr>\n",
       "  </tbody>\n",
       "</table>\n",
       "</div>"
      ],
      "text/plain": [
       "    row_number  customer_id    surname  credit_score geography  gender  age  \\\n",
       "0            1     15634602   Hargrave           619    France  Female   42   \n",
       "1            2     15647311       Hill           608     Spain  Female   41   \n",
       "2            3     15619304       Onio           502    France  Female   42   \n",
       "3            4     15701354       Boni           699    France  Female   39   \n",
       "4            5     15737888   Mitchell           850     Spain  Female   43   \n",
       "5            6     15574012        Chu           645     Spain    Male   44   \n",
       "6            7     15592531   Bartlett           822    France    Male   50   \n",
       "7            8     15656148     Obinna           376   Germany  Female   29   \n",
       "8            9     15792365         He           501    France    Male   44   \n",
       "9           10     15592389         H?           684    France    Male   27   \n",
       "10          11     15767821     Bearce           528    France    Male   31   \n",
       "11          12     15737173    Andrews           497     Spain    Male   24   \n",
       "12          13     15632264        Kay           476    France  Female   34   \n",
       "13          14     15691483       Chin           549    France  Female   25   \n",
       "14          15     15600882      Scott           635     Spain  Female   35   \n",
       "15          16     15643966    Goforth           616   Germany    Male   45   \n",
       "16          17     15737452      Romeo           653   Germany    Male   58   \n",
       "17          18     15788218  Henderson           549     Spain  Female   24   \n",
       "18          19     15661507    Muldrow           587     Spain    Male   45   \n",
       "19          20     15568982        Hao           726    France  Female   24   \n",
       "\n",
       "    tenure    balance  num_of_products  has_cr_card  is_active_member  \\\n",
       "0      2.0       0.00                1            1                 1   \n",
       "1      1.0   83807.86                1            0                 1   \n",
       "2      8.0  159660.80                3            1                 0   \n",
       "3      1.0       0.00                2            0                 0   \n",
       "4      2.0  125510.82                1            1                 1   \n",
       "5      8.0  113755.78                2            1                 0   \n",
       "6      7.0       0.00                2            1                 1   \n",
       "7      4.0  115046.74                4            1                 0   \n",
       "8      4.0  142051.07                2            0                 1   \n",
       "9      2.0  134603.88                1            1                 1   \n",
       "10     6.0  102016.72                2            0                 0   \n",
       "11     3.0       0.00                2            1                 0   \n",
       "12    10.0       0.00                2            1                 0   \n",
       "13     5.0       0.00                2            0                 0   \n",
       "14     7.0       0.00                2            1                 1   \n",
       "15     3.0  143129.41                2            0                 1   \n",
       "16     1.0  132602.88                1            1                 0   \n",
       "17     9.0       0.00                2            1                 1   \n",
       "18     6.0       0.00                1            0                 0   \n",
       "19     6.0       0.00                2            1                 1   \n",
       "\n",
       "    estimated_salary  exited  \n",
       "0          101348.88       1  \n",
       "1          112542.58       0  \n",
       "2          113931.57       1  \n",
       "3           93826.63       0  \n",
       "4           79084.10       0  \n",
       "5          149756.71       1  \n",
       "6           10062.80       0  \n",
       "7          119346.88       1  \n",
       "8           74940.50       0  \n",
       "9           71725.73       0  \n",
       "10          80181.12       0  \n",
       "11          76390.01       0  \n",
       "12          26260.98       0  \n",
       "13         190857.79       0  \n",
       "14          65951.65       0  \n",
       "15          64327.26       0  \n",
       "16           5097.67       1  \n",
       "17          14406.41       0  \n",
       "18         158684.81       0  \n",
       "19          54724.03       0  "
      ]
     },
     "execution_count": 5,
     "metadata": {},
     "output_type": "execute_result"
    }
   ],
   "source": [
    "data.head(20)"
   ]
  },
  {
   "cell_type": "markdown",
   "metadata": {},
   "source": [
    "В выведенных на экран строчках датафрейма пропуски отсутствуют. Очевидных противоречий либо маловероятных значений в представленном фрагменте также не наблюдается. Теперь посмотрим распределение по каждому из столбцов датафрейма и проведем проверку на наличие пропусков и дубликатов."
   ]
  },
  {
   "cell_type": "code",
   "execution_count": 6,
   "metadata": {},
   "outputs": [
    {
     "data": {
      "text/html": [
       "<div>\n",
       "<style scoped>\n",
       "    .dataframe tbody tr th:only-of-type {\n",
       "        vertical-align: middle;\n",
       "    }\n",
       "\n",
       "    .dataframe tbody tr th {\n",
       "        vertical-align: top;\n",
       "    }\n",
       "\n",
       "    .dataframe thead th {\n",
       "        text-align: right;\n",
       "    }\n",
       "</style>\n",
       "<table border=\"1\" class=\"dataframe\">\n",
       "  <thead>\n",
       "    <tr style=\"text-align: right;\">\n",
       "      <th></th>\n",
       "      <th>row_number</th>\n",
       "      <th>customer_id</th>\n",
       "      <th>credit_score</th>\n",
       "      <th>age</th>\n",
       "      <th>tenure</th>\n",
       "      <th>balance</th>\n",
       "      <th>num_of_products</th>\n",
       "      <th>has_cr_card</th>\n",
       "      <th>is_active_member</th>\n",
       "      <th>estimated_salary</th>\n",
       "      <th>exited</th>\n",
       "    </tr>\n",
       "  </thead>\n",
       "  <tbody>\n",
       "    <tr>\n",
       "      <th>count</th>\n",
       "      <td>10000.00000</td>\n",
       "      <td>1.000000e+04</td>\n",
       "      <td>10000.000000</td>\n",
       "      <td>10000.000000</td>\n",
       "      <td>9091.000000</td>\n",
       "      <td>10000.000000</td>\n",
       "      <td>10000.000000</td>\n",
       "      <td>10000.00000</td>\n",
       "      <td>10000.000000</td>\n",
       "      <td>10000.000000</td>\n",
       "      <td>10000.000000</td>\n",
       "    </tr>\n",
       "    <tr>\n",
       "      <th>mean</th>\n",
       "      <td>5000.50000</td>\n",
       "      <td>1.569094e+07</td>\n",
       "      <td>650.528800</td>\n",
       "      <td>38.921800</td>\n",
       "      <td>4.997690</td>\n",
       "      <td>76485.889288</td>\n",
       "      <td>1.530200</td>\n",
       "      <td>0.70550</td>\n",
       "      <td>0.515100</td>\n",
       "      <td>100090.239881</td>\n",
       "      <td>0.203700</td>\n",
       "    </tr>\n",
       "    <tr>\n",
       "      <th>std</th>\n",
       "      <td>2886.89568</td>\n",
       "      <td>7.193619e+04</td>\n",
       "      <td>96.653299</td>\n",
       "      <td>10.487806</td>\n",
       "      <td>2.894723</td>\n",
       "      <td>62397.405202</td>\n",
       "      <td>0.581654</td>\n",
       "      <td>0.45584</td>\n",
       "      <td>0.499797</td>\n",
       "      <td>57510.492818</td>\n",
       "      <td>0.402769</td>\n",
       "    </tr>\n",
       "    <tr>\n",
       "      <th>min</th>\n",
       "      <td>1.00000</td>\n",
       "      <td>1.556570e+07</td>\n",
       "      <td>350.000000</td>\n",
       "      <td>18.000000</td>\n",
       "      <td>0.000000</td>\n",
       "      <td>0.000000</td>\n",
       "      <td>1.000000</td>\n",
       "      <td>0.00000</td>\n",
       "      <td>0.000000</td>\n",
       "      <td>11.580000</td>\n",
       "      <td>0.000000</td>\n",
       "    </tr>\n",
       "    <tr>\n",
       "      <th>25%</th>\n",
       "      <td>2500.75000</td>\n",
       "      <td>1.562853e+07</td>\n",
       "      <td>584.000000</td>\n",
       "      <td>32.000000</td>\n",
       "      <td>2.000000</td>\n",
       "      <td>0.000000</td>\n",
       "      <td>1.000000</td>\n",
       "      <td>0.00000</td>\n",
       "      <td>0.000000</td>\n",
       "      <td>51002.110000</td>\n",
       "      <td>0.000000</td>\n",
       "    </tr>\n",
       "    <tr>\n",
       "      <th>50%</th>\n",
       "      <td>5000.50000</td>\n",
       "      <td>1.569074e+07</td>\n",
       "      <td>652.000000</td>\n",
       "      <td>37.000000</td>\n",
       "      <td>5.000000</td>\n",
       "      <td>97198.540000</td>\n",
       "      <td>1.000000</td>\n",
       "      <td>1.00000</td>\n",
       "      <td>1.000000</td>\n",
       "      <td>100193.915000</td>\n",
       "      <td>0.000000</td>\n",
       "    </tr>\n",
       "    <tr>\n",
       "      <th>75%</th>\n",
       "      <td>7500.25000</td>\n",
       "      <td>1.575323e+07</td>\n",
       "      <td>718.000000</td>\n",
       "      <td>44.000000</td>\n",
       "      <td>7.000000</td>\n",
       "      <td>127644.240000</td>\n",
       "      <td>2.000000</td>\n",
       "      <td>1.00000</td>\n",
       "      <td>1.000000</td>\n",
       "      <td>149388.247500</td>\n",
       "      <td>0.000000</td>\n",
       "    </tr>\n",
       "    <tr>\n",
       "      <th>max</th>\n",
       "      <td>10000.00000</td>\n",
       "      <td>1.581569e+07</td>\n",
       "      <td>850.000000</td>\n",
       "      <td>92.000000</td>\n",
       "      <td>10.000000</td>\n",
       "      <td>250898.090000</td>\n",
       "      <td>4.000000</td>\n",
       "      <td>1.00000</td>\n",
       "      <td>1.000000</td>\n",
       "      <td>199992.480000</td>\n",
       "      <td>1.000000</td>\n",
       "    </tr>\n",
       "  </tbody>\n",
       "</table>\n",
       "</div>"
      ],
      "text/plain": [
       "        row_number   customer_id  credit_score           age       tenure  \\\n",
       "count  10000.00000  1.000000e+04  10000.000000  10000.000000  9091.000000   \n",
       "mean    5000.50000  1.569094e+07    650.528800     38.921800     4.997690   \n",
       "std     2886.89568  7.193619e+04     96.653299     10.487806     2.894723   \n",
       "min        1.00000  1.556570e+07    350.000000     18.000000     0.000000   \n",
       "25%     2500.75000  1.562853e+07    584.000000     32.000000     2.000000   \n",
       "50%     5000.50000  1.569074e+07    652.000000     37.000000     5.000000   \n",
       "75%     7500.25000  1.575323e+07    718.000000     44.000000     7.000000   \n",
       "max    10000.00000  1.581569e+07    850.000000     92.000000    10.000000   \n",
       "\n",
       "             balance  num_of_products  has_cr_card  is_active_member  \\\n",
       "count   10000.000000     10000.000000  10000.00000      10000.000000   \n",
       "mean    76485.889288         1.530200      0.70550          0.515100   \n",
       "std     62397.405202         0.581654      0.45584          0.499797   \n",
       "min         0.000000         1.000000      0.00000          0.000000   \n",
       "25%         0.000000         1.000000      0.00000          0.000000   \n",
       "50%     97198.540000         1.000000      1.00000          1.000000   \n",
       "75%    127644.240000         2.000000      1.00000          1.000000   \n",
       "max    250898.090000         4.000000      1.00000          1.000000   \n",
       "\n",
       "       estimated_salary        exited  \n",
       "count      10000.000000  10000.000000  \n",
       "mean      100090.239881      0.203700  \n",
       "std        57510.492818      0.402769  \n",
       "min           11.580000      0.000000  \n",
       "25%        51002.110000      0.000000  \n",
       "50%       100193.915000      0.000000  \n",
       "75%       149388.247500      0.000000  \n",
       "max       199992.480000      1.000000  "
      ]
     },
     "execution_count": 6,
     "metadata": {},
     "output_type": "execute_result"
    }
   ],
   "source": [
    "# запрашиваем распределение по каждому из столбцов датафрейма\n",
    "data.describe()"
   ]
  },
  {
   "cell_type": "code",
   "execution_count": 7,
   "metadata": {},
   "outputs": [
    {
     "data": {
      "text/html": [
       "<div>\n",
       "<style scoped>\n",
       "    .dataframe tbody tr th:only-of-type {\n",
       "        vertical-align: middle;\n",
       "    }\n",
       "\n",
       "    .dataframe tbody tr th {\n",
       "        vertical-align: top;\n",
       "    }\n",
       "\n",
       "    .dataframe thead th {\n",
       "        text-align: right;\n",
       "    }\n",
       "</style>\n",
       "<table border=\"1\" class=\"dataframe\">\n",
       "  <thead>\n",
       "    <tr style=\"text-align: right;\">\n",
       "      <th></th>\n",
       "      <th>count</th>\n",
       "      <th>unique</th>\n",
       "      <th>top</th>\n",
       "      <th>freq</th>\n",
       "      <th>mean</th>\n",
       "      <th>std</th>\n",
       "      <th>min</th>\n",
       "      <th>25%</th>\n",
       "      <th>50%</th>\n",
       "      <th>75%</th>\n",
       "      <th>max</th>\n",
       "    </tr>\n",
       "  </thead>\n",
       "  <tbody>\n",
       "    <tr>\n",
       "      <th>row_number</th>\n",
       "      <td>10000.0</td>\n",
       "      <td>NaN</td>\n",
       "      <td>NaN</td>\n",
       "      <td>NaN</td>\n",
       "      <td>5000.5</td>\n",
       "      <td>2886.89568</td>\n",
       "      <td>1.0</td>\n",
       "      <td>2500.75</td>\n",
       "      <td>5000.5</td>\n",
       "      <td>7500.25</td>\n",
       "      <td>10000.0</td>\n",
       "    </tr>\n",
       "    <tr>\n",
       "      <th>customer_id</th>\n",
       "      <td>10000.0</td>\n",
       "      <td>NaN</td>\n",
       "      <td>NaN</td>\n",
       "      <td>NaN</td>\n",
       "      <td>15690940.5694</td>\n",
       "      <td>71936.186123</td>\n",
       "      <td>15565701.0</td>\n",
       "      <td>15628528.25</td>\n",
       "      <td>15690738.0</td>\n",
       "      <td>15753233.75</td>\n",
       "      <td>15815690.0</td>\n",
       "    </tr>\n",
       "    <tr>\n",
       "      <th>surname</th>\n",
       "      <td>10000</td>\n",
       "      <td>2932</td>\n",
       "      <td>Smith</td>\n",
       "      <td>32</td>\n",
       "      <td>NaN</td>\n",
       "      <td>NaN</td>\n",
       "      <td>NaN</td>\n",
       "      <td>NaN</td>\n",
       "      <td>NaN</td>\n",
       "      <td>NaN</td>\n",
       "      <td>NaN</td>\n",
       "    </tr>\n",
       "    <tr>\n",
       "      <th>credit_score</th>\n",
       "      <td>10000.0</td>\n",
       "      <td>NaN</td>\n",
       "      <td>NaN</td>\n",
       "      <td>NaN</td>\n",
       "      <td>650.5288</td>\n",
       "      <td>96.653299</td>\n",
       "      <td>350.0</td>\n",
       "      <td>584.0</td>\n",
       "      <td>652.0</td>\n",
       "      <td>718.0</td>\n",
       "      <td>850.0</td>\n",
       "    </tr>\n",
       "    <tr>\n",
       "      <th>geography</th>\n",
       "      <td>10000</td>\n",
       "      <td>3</td>\n",
       "      <td>France</td>\n",
       "      <td>5014</td>\n",
       "      <td>NaN</td>\n",
       "      <td>NaN</td>\n",
       "      <td>NaN</td>\n",
       "      <td>NaN</td>\n",
       "      <td>NaN</td>\n",
       "      <td>NaN</td>\n",
       "      <td>NaN</td>\n",
       "    </tr>\n",
       "    <tr>\n",
       "      <th>gender</th>\n",
       "      <td>10000</td>\n",
       "      <td>2</td>\n",
       "      <td>Male</td>\n",
       "      <td>5457</td>\n",
       "      <td>NaN</td>\n",
       "      <td>NaN</td>\n",
       "      <td>NaN</td>\n",
       "      <td>NaN</td>\n",
       "      <td>NaN</td>\n",
       "      <td>NaN</td>\n",
       "      <td>NaN</td>\n",
       "    </tr>\n",
       "    <tr>\n",
       "      <th>age</th>\n",
       "      <td>10000.0</td>\n",
       "      <td>NaN</td>\n",
       "      <td>NaN</td>\n",
       "      <td>NaN</td>\n",
       "      <td>38.9218</td>\n",
       "      <td>10.487806</td>\n",
       "      <td>18.0</td>\n",
       "      <td>32.0</td>\n",
       "      <td>37.0</td>\n",
       "      <td>44.0</td>\n",
       "      <td>92.0</td>\n",
       "    </tr>\n",
       "    <tr>\n",
       "      <th>tenure</th>\n",
       "      <td>9091.0</td>\n",
       "      <td>NaN</td>\n",
       "      <td>NaN</td>\n",
       "      <td>NaN</td>\n",
       "      <td>4.99769</td>\n",
       "      <td>2.894723</td>\n",
       "      <td>0.0</td>\n",
       "      <td>2.0</td>\n",
       "      <td>5.0</td>\n",
       "      <td>7.0</td>\n",
       "      <td>10.0</td>\n",
       "    </tr>\n",
       "    <tr>\n",
       "      <th>balance</th>\n",
       "      <td>10000.0</td>\n",
       "      <td>NaN</td>\n",
       "      <td>NaN</td>\n",
       "      <td>NaN</td>\n",
       "      <td>76485.889288</td>\n",
       "      <td>62397.405202</td>\n",
       "      <td>0.0</td>\n",
       "      <td>0.0</td>\n",
       "      <td>97198.54</td>\n",
       "      <td>127644.24</td>\n",
       "      <td>250898.09</td>\n",
       "    </tr>\n",
       "    <tr>\n",
       "      <th>num_of_products</th>\n",
       "      <td>10000.0</td>\n",
       "      <td>NaN</td>\n",
       "      <td>NaN</td>\n",
       "      <td>NaN</td>\n",
       "      <td>1.5302</td>\n",
       "      <td>0.581654</td>\n",
       "      <td>1.0</td>\n",
       "      <td>1.0</td>\n",
       "      <td>1.0</td>\n",
       "      <td>2.0</td>\n",
       "      <td>4.0</td>\n",
       "    </tr>\n",
       "    <tr>\n",
       "      <th>has_cr_card</th>\n",
       "      <td>10000.0</td>\n",
       "      <td>NaN</td>\n",
       "      <td>NaN</td>\n",
       "      <td>NaN</td>\n",
       "      <td>0.7055</td>\n",
       "      <td>0.45584</td>\n",
       "      <td>0.0</td>\n",
       "      <td>0.0</td>\n",
       "      <td>1.0</td>\n",
       "      <td>1.0</td>\n",
       "      <td>1.0</td>\n",
       "    </tr>\n",
       "    <tr>\n",
       "      <th>is_active_member</th>\n",
       "      <td>10000.0</td>\n",
       "      <td>NaN</td>\n",
       "      <td>NaN</td>\n",
       "      <td>NaN</td>\n",
       "      <td>0.5151</td>\n",
       "      <td>0.499797</td>\n",
       "      <td>0.0</td>\n",
       "      <td>0.0</td>\n",
       "      <td>1.0</td>\n",
       "      <td>1.0</td>\n",
       "      <td>1.0</td>\n",
       "    </tr>\n",
       "    <tr>\n",
       "      <th>estimated_salary</th>\n",
       "      <td>10000.0</td>\n",
       "      <td>NaN</td>\n",
       "      <td>NaN</td>\n",
       "      <td>NaN</td>\n",
       "      <td>100090.239881</td>\n",
       "      <td>57510.492818</td>\n",
       "      <td>11.58</td>\n",
       "      <td>51002.11</td>\n",
       "      <td>100193.915</td>\n",
       "      <td>149388.2475</td>\n",
       "      <td>199992.48</td>\n",
       "    </tr>\n",
       "    <tr>\n",
       "      <th>exited</th>\n",
       "      <td>10000.0</td>\n",
       "      <td>NaN</td>\n",
       "      <td>NaN</td>\n",
       "      <td>NaN</td>\n",
       "      <td>0.2037</td>\n",
       "      <td>0.402769</td>\n",
       "      <td>0.0</td>\n",
       "      <td>0.0</td>\n",
       "      <td>0.0</td>\n",
       "      <td>0.0</td>\n",
       "      <td>1.0</td>\n",
       "    </tr>\n",
       "  </tbody>\n",
       "</table>\n",
       "</div>"
      ],
      "text/plain": [
       "                    count unique     top  freq           mean           std  \\\n",
       "row_number        10000.0    NaN     NaN   NaN         5000.5    2886.89568   \n",
       "customer_id       10000.0    NaN     NaN   NaN  15690940.5694  71936.186123   \n",
       "surname             10000   2932   Smith    32            NaN           NaN   \n",
       "credit_score      10000.0    NaN     NaN   NaN       650.5288     96.653299   \n",
       "geography           10000      3  France  5014            NaN           NaN   \n",
       "gender              10000      2    Male  5457            NaN           NaN   \n",
       "age               10000.0    NaN     NaN   NaN        38.9218     10.487806   \n",
       "tenure             9091.0    NaN     NaN   NaN        4.99769      2.894723   \n",
       "balance           10000.0    NaN     NaN   NaN   76485.889288  62397.405202   \n",
       "num_of_products   10000.0    NaN     NaN   NaN         1.5302      0.581654   \n",
       "has_cr_card       10000.0    NaN     NaN   NaN         0.7055       0.45584   \n",
       "is_active_member  10000.0    NaN     NaN   NaN         0.5151      0.499797   \n",
       "estimated_salary  10000.0    NaN     NaN   NaN  100090.239881  57510.492818   \n",
       "exited            10000.0    NaN     NaN   NaN         0.2037      0.402769   \n",
       "\n",
       "                         min          25%         50%          75%         max  \n",
       "row_number               1.0      2500.75      5000.5      7500.25     10000.0  \n",
       "customer_id       15565701.0  15628528.25  15690738.0  15753233.75  15815690.0  \n",
       "surname                  NaN          NaN         NaN          NaN         NaN  \n",
       "credit_score           350.0        584.0       652.0        718.0       850.0  \n",
       "geography                NaN          NaN         NaN          NaN         NaN  \n",
       "gender                   NaN          NaN         NaN          NaN         NaN  \n",
       "age                     18.0         32.0        37.0         44.0        92.0  \n",
       "tenure                   0.0          2.0         5.0          7.0        10.0  \n",
       "balance                  0.0          0.0    97198.54    127644.24   250898.09  \n",
       "num_of_products          1.0          1.0         1.0          2.0         4.0  \n",
       "has_cr_card              0.0          0.0         1.0          1.0         1.0  \n",
       "is_active_member         0.0          0.0         1.0          1.0         1.0  \n",
       "estimated_salary       11.58     51002.11  100193.915  149388.2475   199992.48  \n",
       "exited                   0.0          0.0         0.0          0.0         1.0  "
      ]
     },
     "execution_count": 7,
     "metadata": {},
     "output_type": "execute_result"
    }
   ],
   "source": [
    "data.describe(include='all').T"
   ]
  },
  {
   "cell_type": "markdown",
   "metadata": {},
   "source": [
    "Видим, что средний возраст клиентов банка составляет почти 39 лет при медиане 37. Наименьший возраст клиента - 18 лет, а наиболее старшему из клиентов 92 года. В среднем жизненный цикл клиента банка составляет 5 лет. Максимальное количество продуктов, которое использует 1 клиент, - 4 при медиане 1. Наличие у клиента кредитной карты, а также информация о том, является ли клиент активным или неактивным и факт ухода клиента обозначены заначениями 0 или 1. Таким образом, явных противоречий, либо маловероятных значений в представленном выше распределении не наблюдается. Теперь проверим датафрейм на наличие пропусков."
   ]
  },
  {
   "cell_type": "code",
   "execution_count": 8,
   "metadata": {},
   "outputs": [
    {
     "data": {
      "text/html": [
       "<style  type=\"text/css\" >\n",
       "#T_219e7_row0_col0{\n",
       "            background-color:  #b40426;\n",
       "            color:  #f1f1f1;\n",
       "        }#T_219e7_row1_col0,#T_219e7_row2_col0,#T_219e7_row3_col0,#T_219e7_row4_col0,#T_219e7_row5_col0,#T_219e7_row6_col0,#T_219e7_row7_col0,#T_219e7_row8_col0,#T_219e7_row9_col0,#T_219e7_row10_col0,#T_219e7_row11_col0,#T_219e7_row12_col0,#T_219e7_row13_col0{\n",
       "            background-color:  #3b4cc0;\n",
       "            color:  #f1f1f1;\n",
       "        }</style><table id=\"T_219e7_\" ><thead>    <tr>        <th class=\"blank level0\" ></th>        <th class=\"col_heading level0 col0\" >0</th>    </tr></thead><tbody>\n",
       "                <tr>\n",
       "                        <th id=\"T_219e7_level0_row0\" class=\"row_heading level0 row0\" >tenure</th>\n",
       "                        <td id=\"T_219e7_row0_col0\" class=\"data row0 col0\" >9.000000</td>\n",
       "            </tr>\n",
       "            <tr>\n",
       "                        <th id=\"T_219e7_level0_row1\" class=\"row_heading level0 row1\" >row_number</th>\n",
       "                        <td id=\"T_219e7_row1_col0\" class=\"data row1 col0\" >0.000000</td>\n",
       "            </tr>\n",
       "            <tr>\n",
       "                        <th id=\"T_219e7_level0_row2\" class=\"row_heading level0 row2\" >customer_id</th>\n",
       "                        <td id=\"T_219e7_row2_col0\" class=\"data row2 col0\" >0.000000</td>\n",
       "            </tr>\n",
       "            <tr>\n",
       "                        <th id=\"T_219e7_level0_row3\" class=\"row_heading level0 row3\" >surname</th>\n",
       "                        <td id=\"T_219e7_row3_col0\" class=\"data row3 col0\" >0.000000</td>\n",
       "            </tr>\n",
       "            <tr>\n",
       "                        <th id=\"T_219e7_level0_row4\" class=\"row_heading level0 row4\" >credit_score</th>\n",
       "                        <td id=\"T_219e7_row4_col0\" class=\"data row4 col0\" >0.000000</td>\n",
       "            </tr>\n",
       "            <tr>\n",
       "                        <th id=\"T_219e7_level0_row5\" class=\"row_heading level0 row5\" >geography</th>\n",
       "                        <td id=\"T_219e7_row5_col0\" class=\"data row5 col0\" >0.000000</td>\n",
       "            </tr>\n",
       "            <tr>\n",
       "                        <th id=\"T_219e7_level0_row6\" class=\"row_heading level0 row6\" >gender</th>\n",
       "                        <td id=\"T_219e7_row6_col0\" class=\"data row6 col0\" >0.000000</td>\n",
       "            </tr>\n",
       "            <tr>\n",
       "                        <th id=\"T_219e7_level0_row7\" class=\"row_heading level0 row7\" >age</th>\n",
       "                        <td id=\"T_219e7_row7_col0\" class=\"data row7 col0\" >0.000000</td>\n",
       "            </tr>\n",
       "            <tr>\n",
       "                        <th id=\"T_219e7_level0_row8\" class=\"row_heading level0 row8\" >balance</th>\n",
       "                        <td id=\"T_219e7_row8_col0\" class=\"data row8 col0\" >0.000000</td>\n",
       "            </tr>\n",
       "            <tr>\n",
       "                        <th id=\"T_219e7_level0_row9\" class=\"row_heading level0 row9\" >num_of_products</th>\n",
       "                        <td id=\"T_219e7_row9_col0\" class=\"data row9 col0\" >0.000000</td>\n",
       "            </tr>\n",
       "            <tr>\n",
       "                        <th id=\"T_219e7_level0_row10\" class=\"row_heading level0 row10\" >has_cr_card</th>\n",
       "                        <td id=\"T_219e7_row10_col0\" class=\"data row10 col0\" >0.000000</td>\n",
       "            </tr>\n",
       "            <tr>\n",
       "                        <th id=\"T_219e7_level0_row11\" class=\"row_heading level0 row11\" >is_active_member</th>\n",
       "                        <td id=\"T_219e7_row11_col0\" class=\"data row11 col0\" >0.000000</td>\n",
       "            </tr>\n",
       "            <tr>\n",
       "                        <th id=\"T_219e7_level0_row12\" class=\"row_heading level0 row12\" >estimated_salary</th>\n",
       "                        <td id=\"T_219e7_row12_col0\" class=\"data row12 col0\" >0.000000</td>\n",
       "            </tr>\n",
       "            <tr>\n",
       "                        <th id=\"T_219e7_level0_row13\" class=\"row_heading level0 row13\" >exited</th>\n",
       "                        <td id=\"T_219e7_row13_col0\" class=\"data row13 col0\" >0.000000</td>\n",
       "            </tr>\n",
       "    </tbody></table>"
      ],
      "text/plain": [
       "<pandas.io.formats.style.Styler at 0x7f38464de640>"
      ]
     },
     "execution_count": 8,
     "metadata": {},
     "output_type": "execute_result"
    }
   ],
   "source": [
    "# проверим количество пропусков в % \n",
    "pd.DataFrame(round(data.isna().mean()*100,).sort_values(ascending=False)).style.background_gradient('coolwarm')"
   ]
  },
  {
   "cell_type": "code",
   "execution_count": 9,
   "metadata": {},
   "outputs": [
    {
     "data": {
      "text/plain": [
       "909"
      ]
     },
     "execution_count": 9,
     "metadata": {},
     "output_type": "execute_result"
    }
   ],
   "source": [
    "data['tenure'].isna().sum()"
   ]
  },
  {
   "cell_type": "markdown",
   "metadata": {},
   "source": [
    "Видим, что пропуски имеются только в одном столбце датафрейма - tenure (сколько лет человек является клиентом банка). Их количество 909, что составляет 9% от общего количества данных в столбце. Наличие этих пропусков может быть связано как с ошибкой при записи данных, так и с \"человеческим фактором\" (небрежным заполнением клиентской базы).\n",
    "\n",
    "Учитывая, что:\n",
    "\n",
    "- доля пропущенных значений невелика;\n",
    "- восстановить информацию мы не можем;\n",
    "- замена пропущенных значений на 0 может повлиять на точность нашего исследования;\n",
    "- оставление пропусков \"как есть\" создаст препятствие для обучения модели;\n",
    "- удаление пропущенных строк приведет к потере данных в других столбцах;\n",
    "- данные столбца tenure не являются целевым признаком для нашего исследования,\n",
    "\n",
    "проведем замену пропусков на случайные значения. Как видно из представленного выше распределения по столбцам датафрейма, данные в столбце tenure принимают значение в диапазоне от 0 до 10. Поэтому для заполнения используем случайные значения именно из этого диапазона."
   ]
  },
  {
   "cell_type": "code",
   "execution_count": 10,
   "metadata": {},
   "outputs": [
    {
     "data": {
      "text/plain": [
       "0"
      ]
     },
     "execution_count": 10,
     "metadata": {},
     "output_type": "execute_result"
    }
   ],
   "source": [
    "data['tenure'] = data['tenure'].mask(data['tenure'].isna(), np.random.uniform(0, 10, size=len(data))).astype('float64')\n",
    "data['tenure'].isna().sum()"
   ]
  },
  {
   "cell_type": "code",
   "execution_count": 11,
   "metadata": {},
   "outputs": [
    {
     "data": {
      "text/plain": [
       "count    10000.000000\n",
       "mean         4.996241\n",
       "std          2.898855\n",
       "min          0.000000\n",
       "25%          2.190257\n",
       "50%          5.000000\n",
       "75%          7.372140\n",
       "max         10.000000\n",
       "Name: tenure, dtype: float64"
      ]
     },
     "execution_count": 11,
     "metadata": {},
     "output_type": "execute_result"
    }
   ],
   "source": [
    "data['tenure'].describe()"
   ]
  },
  {
   "cell_type": "markdown",
   "metadata": {},
   "source": [
    "Все пропуски заполнены. Как видим, заполнение пропусков случайными значениями не оказало существенного влияния на распределение:\n",
    "- среднее до заполнения пропусков было 4.997690, стало 4.996241;\n",
    "- медиана осталась прежней: 5.000000;\n",
    "- стандартное отклонение было 2.894723, стало 2.898855"
   ]
  },
  {
   "cell_type": "code",
   "execution_count": 12,
   "metadata": {},
   "outputs": [
    {
     "data": {
      "text/plain": [
       "0"
      ]
     },
     "execution_count": 12,
     "metadata": {},
     "output_type": "execute_result"
    }
   ],
   "source": [
    "# проведем проверку на наличие дубликатов\n",
    "data.duplicated().sum()"
   ]
  },
  {
   "cell_type": "markdown",
   "metadata": {},
   "source": [
    "Таким образом, явные дубликаты в представленном датафрейме отсутствуют. При этом, учитывая, что все значения столбцов нашего датафрейма (за исключением информации о фамилии, стране проживания и поле клиента) являются числовыми, осуществлять поиск неявных дубликатов не имеет смысла. На этом мы закончили этап подготовки данных и можем перейти к следующему шагу. "
   ]
  },
  {
   "cell_type": "markdown",
   "metadata": {},
   "source": [
    "Таким образом, на данном этапе мы выяснили следующее:\n",
    "\n",
    "- датафрейм состоит из 14 столбцов и 10 000 строк, значения 8 столбцов относятся к целочисленному типу, 3 - к вещественному и 3 - к строковому.\n",
    "- Использованные типы данных корректны.\n",
    "- Средний возраст клиентов банка составляет почти 39 лет при медиане 37. Наименьший возраст клиента - 18 лет, а наиболее старшему из клиентов 92 года.\n",
    "- В среднем жизненный цикл клиента банка составляет 5 лет.\n",
    "- Максимальное количество продуктов, которое использует 1 клиент, - 4 при медиане 1. \n",
    "- Наличие у клиента кредитной карты, а также информация о том, является ли клиент активным или неактивным и факт ухода клиента обозначены заначениями 0 или 1. \n",
    "- Явные противоречия в данных, либо маловероятные значения отсутствуют.\n",
    "- Пропуски имелись только в одном столбце датафрейма - tenure (сколько лет человек является клиентом банка). Их количество было 909, что составляло 9% от общего количества данных в столбце. Мы их обработали (заменили случайными значениями).\n",
    "- Явные и неявные дубликаты отсутствуют.\n",
    "\n",
    "Кроме того, названия всех столбцов датафрейма привели к \"змеиному регистру\".\n",
    "\n",
    "Теперь данные готовы для проведения исследования и мы можем приступить к исследованию баланса классов и обучению нашей модели.\n"
   ]
  },
  {
   "cell_type": "markdown",
   "metadata": {},
   "source": [
    "## Исследование задачи"
   ]
  },
  {
   "cell_type": "markdown",
   "metadata": {},
   "source": [
    "Учитывая, что для индентификации пользователя у нас имеются числовые значения в столбце customer_id, информация о фамилиях клиентов банка нам для дальнейшего исследования не требуется. Поэтому мы удалим столбец surname"
   ]
  },
  {
   "cell_type": "code",
   "execution_count": 13,
   "metadata": {},
   "outputs": [],
   "source": [
    "data = data.drop(['surname'], axis = 1)"
   ]
  },
  {
   "cell_type": "markdown",
   "metadata": {},
   "source": [
    "Столбец row_number (индекс строки в данных) дублирует информацию стандартного датафрейма и не несет ценности для обучения модели. Его мы также удалим."
   ]
  },
  {
   "cell_type": "code",
   "execution_count": 14,
   "metadata": {},
   "outputs": [],
   "source": [
    "data = data.drop(['row_number'], axis = 1)"
   ]
  },
  {
   "cell_type": "code",
   "execution_count": 15,
   "metadata": {},
   "outputs": [],
   "source": [
    "data = data.drop(['customer_id'], axis = 1)"
   ]
  },
  {
   "cell_type": "markdown",
   "metadata": {},
   "source": [
    "С помощью техники OHE подготовим данные из столбцов gender и geography. Используем параметр drop_first=True, чтобы избежать дамми-ловушки."
   ]
  },
  {
   "cell_type": "code",
   "execution_count": 16,
   "metadata": {},
   "outputs": [
    {
     "name": "stdout",
     "output_type": "stream",
     "text": [
      "Male      5457\n",
      "Female    4543\n",
      "Name: gender, dtype: int64\n",
      "\n",
      "France     5014\n",
      "Germany    2509\n",
      "Spain      2477\n",
      "Name: geography, dtype: int64\n"
     ]
    }
   ],
   "source": [
    "print(data['gender'].value_counts())\n",
    "print()\n",
    "print(data['geography'].value_counts())"
   ]
  },
  {
   "cell_type": "code",
   "execution_count": 17,
   "metadata": {},
   "outputs": [
    {
     "data": {
      "text/html": [
       "<div>\n",
       "<style scoped>\n",
       "    .dataframe tbody tr th:only-of-type {\n",
       "        vertical-align: middle;\n",
       "    }\n",
       "\n",
       "    .dataframe tbody tr th {\n",
       "        vertical-align: top;\n",
       "    }\n",
       "\n",
       "    .dataframe thead th {\n",
       "        text-align: right;\n",
       "    }\n",
       "</style>\n",
       "<table border=\"1\" class=\"dataframe\">\n",
       "  <thead>\n",
       "    <tr style=\"text-align: right;\">\n",
       "      <th></th>\n",
       "      <th>credit_score</th>\n",
       "      <th>age</th>\n",
       "      <th>tenure</th>\n",
       "      <th>balance</th>\n",
       "      <th>num_of_products</th>\n",
       "      <th>has_cr_card</th>\n",
       "      <th>is_active_member</th>\n",
       "      <th>estimated_salary</th>\n",
       "      <th>exited</th>\n",
       "      <th>gender_Male</th>\n",
       "      <th>geography_Germany</th>\n",
       "      <th>geography_Spain</th>\n",
       "    </tr>\n",
       "  </thead>\n",
       "  <tbody>\n",
       "    <tr>\n",
       "      <th>0</th>\n",
       "      <td>619</td>\n",
       "      <td>42</td>\n",
       "      <td>2.0</td>\n",
       "      <td>0.00</td>\n",
       "      <td>1</td>\n",
       "      <td>1</td>\n",
       "      <td>1</td>\n",
       "      <td>101348.88</td>\n",
       "      <td>1</td>\n",
       "      <td>0</td>\n",
       "      <td>0</td>\n",
       "      <td>0</td>\n",
       "    </tr>\n",
       "    <tr>\n",
       "      <th>1</th>\n",
       "      <td>608</td>\n",
       "      <td>41</td>\n",
       "      <td>1.0</td>\n",
       "      <td>83807.86</td>\n",
       "      <td>1</td>\n",
       "      <td>0</td>\n",
       "      <td>1</td>\n",
       "      <td>112542.58</td>\n",
       "      <td>0</td>\n",
       "      <td>0</td>\n",
       "      <td>0</td>\n",
       "      <td>1</td>\n",
       "    </tr>\n",
       "    <tr>\n",
       "      <th>2</th>\n",
       "      <td>502</td>\n",
       "      <td>42</td>\n",
       "      <td>8.0</td>\n",
       "      <td>159660.80</td>\n",
       "      <td>3</td>\n",
       "      <td>1</td>\n",
       "      <td>0</td>\n",
       "      <td>113931.57</td>\n",
       "      <td>1</td>\n",
       "      <td>0</td>\n",
       "      <td>0</td>\n",
       "      <td>0</td>\n",
       "    </tr>\n",
       "    <tr>\n",
       "      <th>3</th>\n",
       "      <td>699</td>\n",
       "      <td>39</td>\n",
       "      <td>1.0</td>\n",
       "      <td>0.00</td>\n",
       "      <td>2</td>\n",
       "      <td>0</td>\n",
       "      <td>0</td>\n",
       "      <td>93826.63</td>\n",
       "      <td>0</td>\n",
       "      <td>0</td>\n",
       "      <td>0</td>\n",
       "      <td>0</td>\n",
       "    </tr>\n",
       "    <tr>\n",
       "      <th>4</th>\n",
       "      <td>850</td>\n",
       "      <td>43</td>\n",
       "      <td>2.0</td>\n",
       "      <td>125510.82</td>\n",
       "      <td>1</td>\n",
       "      <td>1</td>\n",
       "      <td>1</td>\n",
       "      <td>79084.10</td>\n",
       "      <td>0</td>\n",
       "      <td>0</td>\n",
       "      <td>0</td>\n",
       "      <td>1</td>\n",
       "    </tr>\n",
       "    <tr>\n",
       "      <th>5</th>\n",
       "      <td>645</td>\n",
       "      <td>44</td>\n",
       "      <td>8.0</td>\n",
       "      <td>113755.78</td>\n",
       "      <td>2</td>\n",
       "      <td>1</td>\n",
       "      <td>0</td>\n",
       "      <td>149756.71</td>\n",
       "      <td>1</td>\n",
       "      <td>1</td>\n",
       "      <td>0</td>\n",
       "      <td>1</td>\n",
       "    </tr>\n",
       "    <tr>\n",
       "      <th>6</th>\n",
       "      <td>822</td>\n",
       "      <td>50</td>\n",
       "      <td>7.0</td>\n",
       "      <td>0.00</td>\n",
       "      <td>2</td>\n",
       "      <td>1</td>\n",
       "      <td>1</td>\n",
       "      <td>10062.80</td>\n",
       "      <td>0</td>\n",
       "      <td>1</td>\n",
       "      <td>0</td>\n",
       "      <td>0</td>\n",
       "    </tr>\n",
       "    <tr>\n",
       "      <th>7</th>\n",
       "      <td>376</td>\n",
       "      <td>29</td>\n",
       "      <td>4.0</td>\n",
       "      <td>115046.74</td>\n",
       "      <td>4</td>\n",
       "      <td>1</td>\n",
       "      <td>0</td>\n",
       "      <td>119346.88</td>\n",
       "      <td>1</td>\n",
       "      <td>0</td>\n",
       "      <td>1</td>\n",
       "      <td>0</td>\n",
       "    </tr>\n",
       "    <tr>\n",
       "      <th>8</th>\n",
       "      <td>501</td>\n",
       "      <td>44</td>\n",
       "      <td>4.0</td>\n",
       "      <td>142051.07</td>\n",
       "      <td>2</td>\n",
       "      <td>0</td>\n",
       "      <td>1</td>\n",
       "      <td>74940.50</td>\n",
       "      <td>0</td>\n",
       "      <td>1</td>\n",
       "      <td>0</td>\n",
       "      <td>0</td>\n",
       "    </tr>\n",
       "    <tr>\n",
       "      <th>9</th>\n",
       "      <td>684</td>\n",
       "      <td>27</td>\n",
       "      <td>2.0</td>\n",
       "      <td>134603.88</td>\n",
       "      <td>1</td>\n",
       "      <td>1</td>\n",
       "      <td>1</td>\n",
       "      <td>71725.73</td>\n",
       "      <td>0</td>\n",
       "      <td>1</td>\n",
       "      <td>0</td>\n",
       "      <td>0</td>\n",
       "    </tr>\n",
       "  </tbody>\n",
       "</table>\n",
       "</div>"
      ],
      "text/plain": [
       "   credit_score  age  tenure    balance  num_of_products  has_cr_card  \\\n",
       "0           619   42     2.0       0.00                1            1   \n",
       "1           608   41     1.0   83807.86                1            0   \n",
       "2           502   42     8.0  159660.80                3            1   \n",
       "3           699   39     1.0       0.00                2            0   \n",
       "4           850   43     2.0  125510.82                1            1   \n",
       "5           645   44     8.0  113755.78                2            1   \n",
       "6           822   50     7.0       0.00                2            1   \n",
       "7           376   29     4.0  115046.74                4            1   \n",
       "8           501   44     4.0  142051.07                2            0   \n",
       "9           684   27     2.0  134603.88                1            1   \n",
       "\n",
       "   is_active_member  estimated_salary  exited  gender_Male  geography_Germany  \\\n",
       "0                 1         101348.88       1            0                  0   \n",
       "1                 1         112542.58       0            0                  0   \n",
       "2                 0         113931.57       1            0                  0   \n",
       "3                 0          93826.63       0            0                  0   \n",
       "4                 1          79084.10       0            0                  0   \n",
       "5                 0         149756.71       1            1                  0   \n",
       "6                 1          10062.80       0            1                  0   \n",
       "7                 0         119346.88       1            0                  1   \n",
       "8                 1          74940.50       0            1                  0   \n",
       "9                 1          71725.73       0            1                  0   \n",
       "\n",
       "   geography_Spain  \n",
       "0                0  \n",
       "1                1  \n",
       "2                0  \n",
       "3                0  \n",
       "4                1  \n",
       "5                1  \n",
       "6                0  \n",
       "7                0  \n",
       "8                0  \n",
       "9                0  "
      ]
     },
     "execution_count": 17,
     "metadata": {},
     "output_type": "execute_result"
    }
   ],
   "source": [
    "data_ohe = pd.get_dummies(data, columns = ['gender', 'geography'], drop_first=True)\n",
    "data_ohe.head(10)"
   ]
  },
  {
   "cell_type": "markdown",
   "metadata": {},
   "source": [
    "Разделим исходные данные на обучающую, валидационную и тестовую выборки. При деоении на три части размеры тестового и валидационного наборов обычно равны. Исходные данные разбивают в соотношении 3:1:1. Для этого используем функцию train_test_split"
   ]
  },
  {
   "cell_type": "code",
   "execution_count": 18,
   "metadata": {},
   "outputs": [],
   "source": [
    "# создаем обучающую выборку - data_train\n",
    "data_train, data_other = train_test_split(data_ohe, test_size=0.4, random_state=12345)\n",
    "# создаем тестовую и валидационную выборки - data_test, data_valid (на них будет приходиться по 20%)\n",
    "data_test, data_valid = train_test_split(data_other, test_size=0.5, random_state=12345)"
   ]
  },
  {
   "cell_type": "code",
   "execution_count": 19,
   "metadata": {},
   "outputs": [
    {
     "name": "stdout",
     "output_type": "stream",
     "text": [
      "Размер обучающей выборки составляет: (6000, 12)\n",
      "Размер тестовой выборки составляет: (2000, 12)\n",
      "Размер валидационной выборки составляет: (2000, 12)\n"
     ]
    }
   ],
   "source": [
    "# вывелем на экран размеры выборок\n",
    "print('Размер обучающей выборки составляет:', data_train.shape)\n",
    "print('Размер тестовой выборки составляет:', data_test.shape)\n",
    "print('Размер валидационной выборки составляет:', data_valid.shape)"
   ]
  },
  {
   "cell_type": "code",
   "execution_count": 20,
   "metadata": {},
   "outputs": [
    {
     "data": {
      "text/html": [
       "<div>\n",
       "<style scoped>\n",
       "    .dataframe tbody tr th:only-of-type {\n",
       "        vertical-align: middle;\n",
       "    }\n",
       "\n",
       "    .dataframe tbody tr th {\n",
       "        vertical-align: top;\n",
       "    }\n",
       "\n",
       "    .dataframe thead th {\n",
       "        text-align: right;\n",
       "    }\n",
       "</style>\n",
       "<table border=\"1\" class=\"dataframe\">\n",
       "  <thead>\n",
       "    <tr style=\"text-align: right;\">\n",
       "      <th></th>\n",
       "      <th>credit_score</th>\n",
       "      <th>age</th>\n",
       "      <th>tenure</th>\n",
       "      <th>balance</th>\n",
       "      <th>num_of_products</th>\n",
       "      <th>has_cr_card</th>\n",
       "      <th>is_active_member</th>\n",
       "      <th>estimated_salary</th>\n",
       "      <th>exited</th>\n",
       "      <th>gender_Male</th>\n",
       "      <th>geography_Germany</th>\n",
       "      <th>geography_Spain</th>\n",
       "    </tr>\n",
       "  </thead>\n",
       "  <tbody>\n",
       "    <tr>\n",
       "      <th>7479</th>\n",
       "      <td>567</td>\n",
       "      <td>35</td>\n",
       "      <td>8.0</td>\n",
       "      <td>153137.74</td>\n",
       "      <td>1</td>\n",
       "      <td>1</td>\n",
       "      <td>0</td>\n",
       "      <td>88659.07</td>\n",
       "      <td>0</td>\n",
       "      <td>1</td>\n",
       "      <td>0</td>\n",
       "      <td>1</td>\n",
       "    </tr>\n",
       "    <tr>\n",
       "      <th>3411</th>\n",
       "      <td>711</td>\n",
       "      <td>37</td>\n",
       "      <td>8.0</td>\n",
       "      <td>113899.92</td>\n",
       "      <td>1</td>\n",
       "      <td>0</td>\n",
       "      <td>0</td>\n",
       "      <td>80215.20</td>\n",
       "      <td>0</td>\n",
       "      <td>0</td>\n",
       "      <td>0</td>\n",
       "      <td>0</td>\n",
       "    </tr>\n",
       "    <tr>\n",
       "      <th>6027</th>\n",
       "      <td>850</td>\n",
       "      <td>44</td>\n",
       "      <td>3.0</td>\n",
       "      <td>140393.65</td>\n",
       "      <td>2</td>\n",
       "      <td>0</td>\n",
       "      <td>1</td>\n",
       "      <td>186285.52</td>\n",
       "      <td>0</td>\n",
       "      <td>1</td>\n",
       "      <td>1</td>\n",
       "      <td>0</td>\n",
       "    </tr>\n",
       "    <tr>\n",
       "      <th>1247</th>\n",
       "      <td>512</td>\n",
       "      <td>24</td>\n",
       "      <td>6.0</td>\n",
       "      <td>0.00</td>\n",
       "      <td>2</td>\n",
       "      <td>1</td>\n",
       "      <td>0</td>\n",
       "      <td>37654.31</td>\n",
       "      <td>0</td>\n",
       "      <td>1</td>\n",
       "      <td>0</td>\n",
       "      <td>0</td>\n",
       "    </tr>\n",
       "    <tr>\n",
       "      <th>3716</th>\n",
       "      <td>665</td>\n",
       "      <td>27</td>\n",
       "      <td>2.0</td>\n",
       "      <td>147435.96</td>\n",
       "      <td>1</td>\n",
       "      <td>0</td>\n",
       "      <td>0</td>\n",
       "      <td>187508.06</td>\n",
       "      <td>0</td>\n",
       "      <td>0</td>\n",
       "      <td>1</td>\n",
       "      <td>0</td>\n",
       "    </tr>\n",
       "  </tbody>\n",
       "</table>\n",
       "</div>"
      ],
      "text/plain": [
       "      credit_score  age  tenure    balance  num_of_products  has_cr_card  \\\n",
       "7479           567   35     8.0  153137.74                1            1   \n",
       "3411           711   37     8.0  113899.92                1            0   \n",
       "6027           850   44     3.0  140393.65                2            0   \n",
       "1247           512   24     6.0       0.00                2            1   \n",
       "3716           665   27     2.0  147435.96                1            0   \n",
       "\n",
       "      is_active_member  estimated_salary  exited  gender_Male  \\\n",
       "7479                 0          88659.07       0            1   \n",
       "3411                 0          80215.20       0            0   \n",
       "6027                 1         186285.52       0            1   \n",
       "1247                 0          37654.31       0            1   \n",
       "3716                 0         187508.06       0            0   \n",
       "\n",
       "      geography_Germany  geography_Spain  \n",
       "7479                  0                1  \n",
       "3411                  0                0  \n",
       "6027                  1                0  \n",
       "1247                  0                0  \n",
       "3716                  1                0  "
      ]
     },
     "metadata": {},
     "output_type": "display_data"
    },
    {
     "data": {
      "text/html": [
       "<div>\n",
       "<style scoped>\n",
       "    .dataframe tbody tr th:only-of-type {\n",
       "        vertical-align: middle;\n",
       "    }\n",
       "\n",
       "    .dataframe tbody tr th {\n",
       "        vertical-align: top;\n",
       "    }\n",
       "\n",
       "    .dataframe thead th {\n",
       "        text-align: right;\n",
       "    }\n",
       "</style>\n",
       "<table border=\"1\" class=\"dataframe\">\n",
       "  <thead>\n",
       "    <tr style=\"text-align: right;\">\n",
       "      <th></th>\n",
       "      <th>credit_score</th>\n",
       "      <th>age</th>\n",
       "      <th>tenure</th>\n",
       "      <th>balance</th>\n",
       "      <th>num_of_products</th>\n",
       "      <th>has_cr_card</th>\n",
       "      <th>is_active_member</th>\n",
       "      <th>estimated_salary</th>\n",
       "      <th>exited</th>\n",
       "      <th>gender_Male</th>\n",
       "      <th>geography_Germany</th>\n",
       "      <th>geography_Spain</th>\n",
       "    </tr>\n",
       "  </thead>\n",
       "  <tbody>\n",
       "    <tr>\n",
       "      <th>8532</th>\n",
       "      <td>585</td>\n",
       "      <td>35</td>\n",
       "      <td>2.0</td>\n",
       "      <td>0.00</td>\n",
       "      <td>2</td>\n",
       "      <td>1</td>\n",
       "      <td>0</td>\n",
       "      <td>98621.04</td>\n",
       "      <td>1</td>\n",
       "      <td>0</td>\n",
       "      <td>0</td>\n",
       "      <td>0</td>\n",
       "    </tr>\n",
       "    <tr>\n",
       "      <th>5799</th>\n",
       "      <td>625</td>\n",
       "      <td>45</td>\n",
       "      <td>3.0</td>\n",
       "      <td>0.00</td>\n",
       "      <td>1</td>\n",
       "      <td>1</td>\n",
       "      <td>1</td>\n",
       "      <td>184474.15</td>\n",
       "      <td>1</td>\n",
       "      <td>0</td>\n",
       "      <td>0</td>\n",
       "      <td>0</td>\n",
       "    </tr>\n",
       "    <tr>\n",
       "      <th>5511</th>\n",
       "      <td>667</td>\n",
       "      <td>32</td>\n",
       "      <td>0.0</td>\n",
       "      <td>103846.65</td>\n",
       "      <td>1</td>\n",
       "      <td>1</td>\n",
       "      <td>0</td>\n",
       "      <td>20560.69</td>\n",
       "      <td>0</td>\n",
       "      <td>1</td>\n",
       "      <td>1</td>\n",
       "      <td>0</td>\n",
       "    </tr>\n",
       "    <tr>\n",
       "      <th>7365</th>\n",
       "      <td>568</td>\n",
       "      <td>36</td>\n",
       "      <td>10.0</td>\n",
       "      <td>153610.61</td>\n",
       "      <td>1</td>\n",
       "      <td>1</td>\n",
       "      <td>1</td>\n",
       "      <td>54083.80</td>\n",
       "      <td>1</td>\n",
       "      <td>0</td>\n",
       "      <td>0</td>\n",
       "      <td>1</td>\n",
       "    </tr>\n",
       "    <tr>\n",
       "      <th>7367</th>\n",
       "      <td>606</td>\n",
       "      <td>42</td>\n",
       "      <td>10.0</td>\n",
       "      <td>0.00</td>\n",
       "      <td>2</td>\n",
       "      <td>1</td>\n",
       "      <td>0</td>\n",
       "      <td>177938.52</td>\n",
       "      <td>0</td>\n",
       "      <td>1</td>\n",
       "      <td>0</td>\n",
       "      <td>1</td>\n",
       "    </tr>\n",
       "  </tbody>\n",
       "</table>\n",
       "</div>"
      ],
      "text/plain": [
       "      credit_score  age  tenure    balance  num_of_products  has_cr_card  \\\n",
       "8532           585   35     2.0       0.00                2            1   \n",
       "5799           625   45     3.0       0.00                1            1   \n",
       "5511           667   32     0.0  103846.65                1            1   \n",
       "7365           568   36    10.0  153610.61                1            1   \n",
       "7367           606   42    10.0       0.00                2            1   \n",
       "\n",
       "      is_active_member  estimated_salary  exited  gender_Male  \\\n",
       "8532                 0          98621.04       1            0   \n",
       "5799                 1         184474.15       1            0   \n",
       "5511                 0          20560.69       0            1   \n",
       "7365                 1          54083.80       1            0   \n",
       "7367                 0         177938.52       0            1   \n",
       "\n",
       "      geography_Germany  geography_Spain  \n",
       "8532                  0                0  \n",
       "5799                  0                0  \n",
       "5511                  1                0  \n",
       "7365                  0                1  \n",
       "7367                  0                1  "
      ]
     },
     "metadata": {},
     "output_type": "display_data"
    },
    {
     "data": {
      "text/html": [
       "<div>\n",
       "<style scoped>\n",
       "    .dataframe tbody tr th:only-of-type {\n",
       "        vertical-align: middle;\n",
       "    }\n",
       "\n",
       "    .dataframe tbody tr th {\n",
       "        vertical-align: top;\n",
       "    }\n",
       "\n",
       "    .dataframe thead th {\n",
       "        text-align: right;\n",
       "    }\n",
       "</style>\n",
       "<table border=\"1\" class=\"dataframe\">\n",
       "  <thead>\n",
       "    <tr style=\"text-align: right;\">\n",
       "      <th></th>\n",
       "      <th>credit_score</th>\n",
       "      <th>age</th>\n",
       "      <th>tenure</th>\n",
       "      <th>balance</th>\n",
       "      <th>num_of_products</th>\n",
       "      <th>has_cr_card</th>\n",
       "      <th>is_active_member</th>\n",
       "      <th>estimated_salary</th>\n",
       "      <th>exited</th>\n",
       "      <th>gender_Male</th>\n",
       "      <th>geography_Germany</th>\n",
       "      <th>geography_Spain</th>\n",
       "    </tr>\n",
       "  </thead>\n",
       "  <tbody>\n",
       "    <tr>\n",
       "      <th>7041</th>\n",
       "      <td>438</td>\n",
       "      <td>38</td>\n",
       "      <td>2.0</td>\n",
       "      <td>0.00</td>\n",
       "      <td>2</td>\n",
       "      <td>1</td>\n",
       "      <td>0</td>\n",
       "      <td>136859.55</td>\n",
       "      <td>0</td>\n",
       "      <td>1</td>\n",
       "      <td>0</td>\n",
       "      <td>0</td>\n",
       "    </tr>\n",
       "    <tr>\n",
       "      <th>5709</th>\n",
       "      <td>644</td>\n",
       "      <td>39</td>\n",
       "      <td>9.0</td>\n",
       "      <td>0.00</td>\n",
       "      <td>1</td>\n",
       "      <td>1</td>\n",
       "      <td>0</td>\n",
       "      <td>3740.93</td>\n",
       "      <td>0</td>\n",
       "      <td>0</td>\n",
       "      <td>0</td>\n",
       "      <td>0</td>\n",
       "    </tr>\n",
       "    <tr>\n",
       "      <th>7117</th>\n",
       "      <td>564</td>\n",
       "      <td>31</td>\n",
       "      <td>5.0</td>\n",
       "      <td>121461.87</td>\n",
       "      <td>1</td>\n",
       "      <td>1</td>\n",
       "      <td>1</td>\n",
       "      <td>20432.09</td>\n",
       "      <td>1</td>\n",
       "      <td>1</td>\n",
       "      <td>0</td>\n",
       "      <td>1</td>\n",
       "    </tr>\n",
       "    <tr>\n",
       "      <th>7775</th>\n",
       "      <td>628</td>\n",
       "      <td>40</td>\n",
       "      <td>10.0</td>\n",
       "      <td>0.00</td>\n",
       "      <td>2</td>\n",
       "      <td>1</td>\n",
       "      <td>0</td>\n",
       "      <td>103832.58</td>\n",
       "      <td>0</td>\n",
       "      <td>1</td>\n",
       "      <td>0</td>\n",
       "      <td>1</td>\n",
       "    </tr>\n",
       "    <tr>\n",
       "      <th>8735</th>\n",
       "      <td>728</td>\n",
       "      <td>30</td>\n",
       "      <td>10.0</td>\n",
       "      <td>114835.43</td>\n",
       "      <td>1</td>\n",
       "      <td>0</td>\n",
       "      <td>1</td>\n",
       "      <td>37662.49</td>\n",
       "      <td>0</td>\n",
       "      <td>1</td>\n",
       "      <td>0</td>\n",
       "      <td>0</td>\n",
       "    </tr>\n",
       "  </tbody>\n",
       "</table>\n",
       "</div>"
      ],
      "text/plain": [
       "      credit_score  age  tenure    balance  num_of_products  has_cr_card  \\\n",
       "7041           438   38     2.0       0.00                2            1   \n",
       "5709           644   39     9.0       0.00                1            1   \n",
       "7117           564   31     5.0  121461.87                1            1   \n",
       "7775           628   40    10.0       0.00                2            1   \n",
       "8735           728   30    10.0  114835.43                1            0   \n",
       "\n",
       "      is_active_member  estimated_salary  exited  gender_Male  \\\n",
       "7041                 0         136859.55       0            1   \n",
       "5709                 0           3740.93       0            0   \n",
       "7117                 1          20432.09       1            1   \n",
       "7775                 0         103832.58       0            1   \n",
       "8735                 1          37662.49       0            1   \n",
       "\n",
       "      geography_Germany  geography_Spain  \n",
       "7041                  0                0  \n",
       "5709                  0                0  \n",
       "7117                  0                1  \n",
       "7775                  0                1  \n",
       "8735                  0                0  "
      ]
     },
     "metadata": {},
     "output_type": "display_data"
    }
   ],
   "source": [
    "# выведем на экран первые 5 строк для каждой из выборок\n",
    "display(data_train.head())\n",
    "display(data_test.head())\n",
    "display(data_valid.head())"
   ]
  },
  {
   "cell_type": "code",
   "execution_count": 21,
   "metadata": {},
   "outputs": [],
   "source": [
    "# извлекаем признаки - features и целевой признак - target\n",
    "# для обучающей выборки\n",
    "features_train = data_train.drop(['exited'], axis=1)\n",
    "target_train = data_train['exited']\n",
    "# для тестовой выборки\n",
    "features_test = data_test.drop(['exited'], axis=1)\n",
    "target_test = data_test['exited']\n",
    "# для валидационной выборки\n",
    "features_valid = data_valid.drop(['exited'], axis=1)\n",
    "target_valid = data_valid['exited']"
   ]
  },
  {
   "cell_type": "code",
   "execution_count": 22,
   "metadata": {},
   "outputs": [
    {
     "data": {
      "text/html": [
       "<div>\n",
       "<style scoped>\n",
       "    .dataframe tbody tr th:only-of-type {\n",
       "        vertical-align: middle;\n",
       "    }\n",
       "\n",
       "    .dataframe tbody tr th {\n",
       "        vertical-align: top;\n",
       "    }\n",
       "\n",
       "    .dataframe thead th {\n",
       "        text-align: right;\n",
       "    }\n",
       "</style>\n",
       "<table border=\"1\" class=\"dataframe\">\n",
       "  <thead>\n",
       "    <tr style=\"text-align: right;\">\n",
       "      <th></th>\n",
       "      <th>credit_score</th>\n",
       "      <th>age</th>\n",
       "      <th>tenure</th>\n",
       "      <th>balance</th>\n",
       "      <th>num_of_products</th>\n",
       "      <th>has_cr_card</th>\n",
       "      <th>is_active_member</th>\n",
       "      <th>estimated_salary</th>\n",
       "      <th>gender_Male</th>\n",
       "      <th>geography_Germany</th>\n",
       "      <th>geography_Spain</th>\n",
       "    </tr>\n",
       "  </thead>\n",
       "  <tbody>\n",
       "    <tr>\n",
       "      <th>7479</th>\n",
       "      <td>567</td>\n",
       "      <td>35</td>\n",
       "      <td>8.0</td>\n",
       "      <td>153137.74</td>\n",
       "      <td>1</td>\n",
       "      <td>1</td>\n",
       "      <td>0</td>\n",
       "      <td>88659.07</td>\n",
       "      <td>1</td>\n",
       "      <td>0</td>\n",
       "      <td>1</td>\n",
       "    </tr>\n",
       "    <tr>\n",
       "      <th>3411</th>\n",
       "      <td>711</td>\n",
       "      <td>37</td>\n",
       "      <td>8.0</td>\n",
       "      <td>113899.92</td>\n",
       "      <td>1</td>\n",
       "      <td>0</td>\n",
       "      <td>0</td>\n",
       "      <td>80215.20</td>\n",
       "      <td>0</td>\n",
       "      <td>0</td>\n",
       "      <td>0</td>\n",
       "    </tr>\n",
       "    <tr>\n",
       "      <th>6027</th>\n",
       "      <td>850</td>\n",
       "      <td>44</td>\n",
       "      <td>3.0</td>\n",
       "      <td>140393.65</td>\n",
       "      <td>2</td>\n",
       "      <td>0</td>\n",
       "      <td>1</td>\n",
       "      <td>186285.52</td>\n",
       "      <td>1</td>\n",
       "      <td>1</td>\n",
       "      <td>0</td>\n",
       "    </tr>\n",
       "    <tr>\n",
       "      <th>1247</th>\n",
       "      <td>512</td>\n",
       "      <td>24</td>\n",
       "      <td>6.0</td>\n",
       "      <td>0.00</td>\n",
       "      <td>2</td>\n",
       "      <td>1</td>\n",
       "      <td>0</td>\n",
       "      <td>37654.31</td>\n",
       "      <td>1</td>\n",
       "      <td>0</td>\n",
       "      <td>0</td>\n",
       "    </tr>\n",
       "    <tr>\n",
       "      <th>3716</th>\n",
       "      <td>665</td>\n",
       "      <td>27</td>\n",
       "      <td>2.0</td>\n",
       "      <td>147435.96</td>\n",
       "      <td>1</td>\n",
       "      <td>0</td>\n",
       "      <td>0</td>\n",
       "      <td>187508.06</td>\n",
       "      <td>0</td>\n",
       "      <td>1</td>\n",
       "      <td>0</td>\n",
       "    </tr>\n",
       "  </tbody>\n",
       "</table>\n",
       "</div>"
      ],
      "text/plain": [
       "      credit_score  age  tenure    balance  num_of_products  has_cr_card  \\\n",
       "7479           567   35     8.0  153137.74                1            1   \n",
       "3411           711   37     8.0  113899.92                1            0   \n",
       "6027           850   44     3.0  140393.65                2            0   \n",
       "1247           512   24     6.0       0.00                2            1   \n",
       "3716           665   27     2.0  147435.96                1            0   \n",
       "\n",
       "      is_active_member  estimated_salary  gender_Male  geography_Germany  \\\n",
       "7479                 0          88659.07            1                  0   \n",
       "3411                 0          80215.20            0                  0   \n",
       "6027                 1         186285.52            1                  1   \n",
       "1247                 0          37654.31            1                  0   \n",
       "3716                 0         187508.06            0                  1   \n",
       "\n",
       "      geography_Spain  \n",
       "7479                1  \n",
       "3411                0  \n",
       "6027                0  \n",
       "1247                0  \n",
       "3716                0  "
      ]
     },
     "metadata": {},
     "output_type": "display_data"
    },
    {
     "data": {
      "text/plain": [
       "7479    0\n",
       "3411    0\n",
       "6027    0\n",
       "1247    0\n",
       "3716    0\n",
       "Name: exited, dtype: int64"
      ]
     },
     "metadata": {},
     "output_type": "display_data"
    }
   ],
   "source": [
    "# выведем на экран первые 5 строк для обучающей выборки\n",
    "display(features_train.head(5))\n",
    "display(target_train.head(5))"
   ]
  },
  {
   "cell_type": "code",
   "execution_count": 23,
   "metadata": {},
   "outputs": [
    {
     "data": {
      "text/html": [
       "<div>\n",
       "<style scoped>\n",
       "    .dataframe tbody tr th:only-of-type {\n",
       "        vertical-align: middle;\n",
       "    }\n",
       "\n",
       "    .dataframe tbody tr th {\n",
       "        vertical-align: top;\n",
       "    }\n",
       "\n",
       "    .dataframe thead th {\n",
       "        text-align: right;\n",
       "    }\n",
       "</style>\n",
       "<table border=\"1\" class=\"dataframe\">\n",
       "  <thead>\n",
       "    <tr style=\"text-align: right;\">\n",
       "      <th></th>\n",
       "      <th>credit_score</th>\n",
       "      <th>age</th>\n",
       "      <th>tenure</th>\n",
       "      <th>balance</th>\n",
       "      <th>num_of_products</th>\n",
       "      <th>has_cr_card</th>\n",
       "      <th>is_active_member</th>\n",
       "      <th>estimated_salary</th>\n",
       "      <th>gender_Male</th>\n",
       "      <th>geography_Germany</th>\n",
       "      <th>geography_Spain</th>\n",
       "    </tr>\n",
       "  </thead>\n",
       "  <tbody>\n",
       "    <tr>\n",
       "      <th>7479</th>\n",
       "      <td>-0.886751</td>\n",
       "      <td>-0.373192</td>\n",
       "      <td>1.032703</td>\n",
       "      <td>1.232271</td>\n",
       "      <td>-0.891560</td>\n",
       "      <td>1</td>\n",
       "      <td>0</td>\n",
       "      <td>-0.187705</td>\n",
       "      <td>1</td>\n",
       "      <td>0</td>\n",
       "      <td>1</td>\n",
       "    </tr>\n",
       "    <tr>\n",
       "      <th>3411</th>\n",
       "      <td>0.608663</td>\n",
       "      <td>-0.183385</td>\n",
       "      <td>1.032703</td>\n",
       "      <td>0.600563</td>\n",
       "      <td>-0.891560</td>\n",
       "      <td>0</td>\n",
       "      <td>0</td>\n",
       "      <td>-0.333945</td>\n",
       "      <td>0</td>\n",
       "      <td>0</td>\n",
       "      <td>0</td>\n",
       "    </tr>\n",
       "    <tr>\n",
       "      <th>6027</th>\n",
       "      <td>2.052152</td>\n",
       "      <td>0.480939</td>\n",
       "      <td>-0.699005</td>\n",
       "      <td>1.027098</td>\n",
       "      <td>0.830152</td>\n",
       "      <td>0</td>\n",
       "      <td>1</td>\n",
       "      <td>1.503095</td>\n",
       "      <td>1</td>\n",
       "      <td>1</td>\n",
       "      <td>0</td>\n",
       "    </tr>\n",
       "    <tr>\n",
       "      <th>1247</th>\n",
       "      <td>-1.457915</td>\n",
       "      <td>-1.417129</td>\n",
       "      <td>0.340020</td>\n",
       "      <td>-1.233163</td>\n",
       "      <td>0.830152</td>\n",
       "      <td>1</td>\n",
       "      <td>0</td>\n",
       "      <td>-1.071061</td>\n",
       "      <td>1</td>\n",
       "      <td>0</td>\n",
       "      <td>0</td>\n",
       "    </tr>\n",
       "    <tr>\n",
       "      <th>3716</th>\n",
       "      <td>0.130961</td>\n",
       "      <td>-1.132419</td>\n",
       "      <td>-1.045346</td>\n",
       "      <td>1.140475</td>\n",
       "      <td>-0.891560</td>\n",
       "      <td>0</td>\n",
       "      <td>0</td>\n",
       "      <td>1.524268</td>\n",
       "      <td>0</td>\n",
       "      <td>1</td>\n",
       "      <td>0</td>\n",
       "    </tr>\n",
       "  </tbody>\n",
       "</table>\n",
       "</div>"
      ],
      "text/plain": [
       "      credit_score       age    tenure   balance  num_of_products  \\\n",
       "7479     -0.886751 -0.373192  1.032703  1.232271        -0.891560   \n",
       "3411      0.608663 -0.183385  1.032703  0.600563        -0.891560   \n",
       "6027      2.052152  0.480939 -0.699005  1.027098         0.830152   \n",
       "1247     -1.457915 -1.417129  0.340020 -1.233163         0.830152   \n",
       "3716      0.130961 -1.132419 -1.045346  1.140475        -0.891560   \n",
       "\n",
       "      has_cr_card  is_active_member  estimated_salary  gender_Male  \\\n",
       "7479            1                 0         -0.187705            1   \n",
       "3411            0                 0         -0.333945            0   \n",
       "6027            0                 1          1.503095            1   \n",
       "1247            1                 0         -1.071061            1   \n",
       "3716            0                 0          1.524268            0   \n",
       "\n",
       "      geography_Germany  geography_Spain  \n",
       "7479                  0                1  \n",
       "3411                  0                0  \n",
       "6027                  1                0  \n",
       "1247                  0                0  \n",
       "3716                  1                0  "
      ]
     },
     "execution_count": 23,
     "metadata": {},
     "output_type": "execute_result"
    }
   ],
   "source": [
    "# проводим масштабирование (стандартизацию данных)\n",
    "numeric = ['credit_score', 'age', 'tenure', 'balance', 'num_of_products', 'estimated_salary']\n",
    "scaler = StandardScaler()\n",
    "scaler.fit(features_train[numeric]) \n",
    "features_train[numeric] = scaler.transform(features_train[numeric])\n",
    "scaler.fit(features_valid[numeric]) \n",
    "features_valid[numeric] = scaler.transform(features_valid[numeric])\n",
    "scaler.fit(features_test[numeric])\n",
    "features_test[numeric] = scaler.transform(features_test[numeric])\n",
    "\n",
    "features_train.head()"
   ]
  },
  {
   "cell_type": "markdown",
   "metadata": {},
   "source": [
    "На этом шаге мы:\n",
    "\n",
    "- удалили столбцы surname, customer_id и row_number (как не несущие ценности для обучения модели);\n",
    "- с помощью техники OHE подготовили данные из столбцов gender и geography;\n",
    "- разделили исходные данные на обучающую, валидационную и тестовую выборки в соотношении 3:1:1;\n",
    "- извлекли признаки (features) и целевой признак (target) для каждой из указанных выше выборок;\n",
    "- провели стандартизацию данных.\n",
    "\n",
    "Теперь приступим к исследованию баланса классов и обучению модели без учёта дисбаланса."
   ]
  },
  {
   "cell_type": "code",
   "execution_count": 24,
   "metadata": {},
   "outputs": [
    {
     "name": "stdout",
     "output_type": "stream",
     "text": [
      "0    7963\n",
      "1    2037\n",
      "Name: exited, dtype: int64\n",
      "\n",
      "0    0.800667\n",
      "1    0.199333\n",
      "Name: exited, dtype: float64\n",
      "\n",
      "0    0.7885\n",
      "1    0.2115\n",
      "Name: exited, dtype: float64\n"
     ]
    }
   ],
   "source": [
    "print(data['exited'].value_counts())\n",
    "print()\n",
    "print(target_train.value_counts(normalize = 1))\n",
    "print()\n",
    "print(target_valid.value_counts(normalize = 1))"
   ]
  },
  {
   "cell_type": "markdown",
   "metadata": {},
   "source": [
    "Таким образом, у обучающией и валидационной выборок **наблюдается заметный дисбаланс класов (примерно 80/20)**, поэтому можно ожидать, что результаты предсказаний модели будут сильно склоняться к одному варианту ответов."
   ]
  },
  {
   "cell_type": "markdown",
   "metadata": {},
   "source": [
    "Теперь изучим модели без учета дисбаланса. Выберем лучшие гиперпараметры для моделей \"Дерево решений\" (DecisionTreeClassifier) и \"Случайный лес\" (RandomForestClassifier) и сравним результаты."
   ]
  },
  {
   "cell_type": "code",
   "execution_count": 25,
   "metadata": {},
   "outputs": [
    {
     "name": "stdout",
     "output_type": "stream",
     "text": [
      "F1-мера лучшей модели:  0.4986301369863014\n",
      "AUC-ROC лучшей модели:  0.7280154586243442\n",
      "Глубина дерева лучшей модели:  2\n"
     ]
    }
   ],
   "source": [
    "# сравниваем модели с разной глубиной дерева\n",
    "best_model = None\n",
    "best_f1 = 0\n",
    "best_auc_roc = 0\n",
    "best_depth = 0\n",
    "for depth in range(1,40):\n",
    "    model_1 = DecisionTreeClassifier(random_state=12345, max_depth=depth)\n",
    "    model_1.fit(features_train, target_train)\n",
    "    predictions = model_1.predict(features_valid)\n",
    "    f1 = f1_score(target_valid, predictions)\n",
    "    probabilities = model_1.predict_proba(features_valid)\n",
    "    probabilities_one = probabilities[:, 1]\n",
    "    auc_roc = roc_auc_score(target_valid, probabilities_one)\n",
    "    if f1 > best_f1 and auc_roc > best_auc_roc:\n",
    "        best_model = model_1\n",
    "        best_f1 = f1\n",
    "        best_auc_roc = auc_roc\n",
    "        best_depth = depth\n",
    "print('F1-мера лучшей модели: ', best_f1)\n",
    "print('AUC-ROC лучшей модели: ', best_auc_roc)\n",
    "print('Глубина дерева лучшей модели: ', best_depth)   "
   ]
  },
  {
   "cell_type": "code",
   "execution_count": 26,
   "metadata": {},
   "outputs": [
    {
     "data": {
      "text/plain": [
       "array([[937, 640],\n",
       "       [210, 213]])"
      ]
     },
     "execution_count": 26,
     "metadata": {},
     "output_type": "execute_result"
    }
   ],
   "source": [
    "# строим матрицу ошибок\n",
    "confusion_matrix(target_valid, predictions)"
   ]
  },
  {
   "cell_type": "markdown",
   "metadata": {},
   "source": [
    "Таким образом, лучшее результаты показало Дерево решений с глубиной 2. При этом стоит отметить, что полученное значение AUC-ROC превышает AUC-ROC случайной модели (для нее это значение равно 0.5), но среднее гармоническое полноты и точности - F1-мера имеет довольно низкое значение. \n",
    "Если мы посмотрим на матрицу ошибок, увидим, что велико количество ложноположительных и ложноотрицательных ответов: 640 и 210 соответственно.\n",
    "\n",
    "Теперь выберем лучшие гиперпараметры для модели \"Случайный лес\"."
   ]
  },
  {
   "cell_type": "code",
   "execution_count": 27,
   "metadata": {},
   "outputs": [],
   "source": [
    "# рассмотрим гиперпараметр n_estimators (т.е. количество деревьев)\n",
    "#best_model_2 = None\n",
    "#best_f1_2 = 0\n",
    "#best_auc_roc_2 = 0\n",
    "#best_estim = 0\n",
    "#for estim in range(10,300,10):\n",
    "    #model_2 = RandomForestClassifier(random_state=12345,n_estimators=estim)\n",
    "    #model_2.fit(features_train, target_train)\n",
    "    #predictions_2 = model_2.predict(features_valid) \n",
    "    #f1_2 = f1_score(target_valid, predictions_2)\n",
    "    #probabilities = model_2.predict_proba(features_valid)\n",
    "    #probabilities_one = probabilities[:, 1]\n",
    "    #auc_roc_2 = roc_auc_score(target_valid, probabilities_one)\n",
    "    #if f1_2 > best_f1_2 and auc_roc_2 > best_auc_roc_2:\n",
    "        #best_model_2 = model_2\n",
    "        #best_f1_2 = f1_2\n",
    "        #best_auc_roc_2 = auc_roc_2\n",
    "        #best_estim = estim\n",
    "#print('F1-мера лучшей модели: ', best_f1_2)\n",
    "#print('AUC-ROC лучшей модели: ', best_auc_roc_2)\n",
    "#print('Количество деревьев лучшей модели: ', best_estim)   "
   ]
  },
  {
   "cell_type": "code",
   "execution_count": 28,
   "metadata": {},
   "outputs": [],
   "source": [
    "#best_model_2 = None\n",
    "#best_f1_2 = 0\n",
    "#best_auc_roc_2 = 0\n",
    "#best_depth_2 = 0\n",
    "#for depth_2 in range(1,40):\n",
    "    #model_2 = RandomForestClassifier(random_state=12345, n_estimators=100, max_depth=depth_2)\n",
    "    #model_2.fit(features_train, target_train)\n",
    "    #predictions_2 = model_2.predict(features_valid) \n",
    "    #f1_2 = f1_score(target_valid, predictions_2)\n",
    "    #probabilities = model_2.predict_proba(features_valid)\n",
    "    #probabilities_one = probabilities[:, 1]\n",
    "    #auc_roc_2 = roc_auc_score(target_valid, probabilities_one)\n",
    "    #if f1_2 > best_f1_2 and auc_roc_2 > best_auc_roc_2:\n",
    "        #best_model_2 = model_2\n",
    "        #best_f1_2 = f1_2\n",
    "        #best_auc_roc_2 = auc_roc_2\n",
    "        #best_depth_2 = depth_2\n",
    "#print('F1-мера лучшей модели: ', best_f1_2)\n",
    "#print('AUC-ROC лучшей модели: ', best_auc_roc_2)\n",
    "#print('Глубина деревьев лучшей модели: ', best_depth_2)"
   ]
  },
  {
   "cell_type": "code",
   "execution_count": 29,
   "metadata": {},
   "outputs": [
    {
     "name": "stdout",
     "output_type": "stream",
     "text": [
      "F1-мера лучшей модели:  0.5149136577708007\n",
      "AUC-ROC лучшей модели:  0.8544412813628535\n",
      "Количество деревьев лучшей модели:  230\n",
      "Глубина деревьев лучшей модели:  9\n"
     ]
    }
   ],
   "source": [
    "best_model_2 = None\n",
    "best_f1_2 = 0\n",
    "best_auc_roc_2 = 0\n",
    "best_estim = 0\n",
    "best_depth_2 = 0\n",
    "for estim in range(10, 250, 10):\n",
    "    for depth_2 in range(1, 25, 2):\n",
    "        model_2 = RandomForestClassifier(random_state=12345, n_estimators=estim, max_depth=depth_2)\n",
    "        model_2.fit(features_train, target_train)\n",
    "        predictions_2 = model_2.predict(features_valid) \n",
    "        f1_2 = f1_score(target_valid, predictions_2)\n",
    "        probabilities = model_2.predict_proba(features_valid)\n",
    "        probabilities_one = probabilities[:, 1]\n",
    "        auc_roc_2 = roc_auc_score(target_valid, probabilities_one)\n",
    "        if f1_2 > best_f1_2 and auc_roc_2 > best_auc_roc_2:\n",
    "            best_model_2 = model_2\n",
    "            best_f1_2 = f1_2\n",
    "            best_auc_roc_2 = auc_roc_2\n",
    "            best_estim = estim\n",
    "            best_depth_2 = depth_2\n",
    "print('F1-мера лучшей модели: ', best_f1_2)\n",
    "print('AUC-ROC лучшей модели: ', best_auc_roc_2)\n",
    "print('Количество деревьев лучшей модели: ', best_estim)\n",
    "print('Глубина деревьев лучшей модели: ', best_depth_2)"
   ]
  },
  {
   "cell_type": "code",
   "execution_count": 30,
   "metadata": {},
   "outputs": [
    {
     "data": {
      "text/plain": [
       "array([[1516,   61],\n",
       "       [ 240,  183]])"
      ]
     },
     "execution_count": 30,
     "metadata": {},
     "output_type": "execute_result"
    }
   ],
   "source": [
    "confusion_matrix(target_valid, predictions_2)"
   ]
  },
  {
   "cell_type": "markdown",
   "metadata": {},
   "source": [
    "Таким образом, лучшие характеристики к модели \"Случайный лес\" со значениями гиперпараметров n_estimators = 230 и  max_depth = 9: \n",
    "- F1-мера: 0.5149136577708007 (у \"Дерева решений\" - 0.4986301369863014);\n",
    "- AUC-ROC: 0.8544412813628535 (у \"Дерева решений\" - 0.7280154586243442).\n",
    "\n",
    "У этой модели \"Случайный лес\" существенно меньше ложноположительных ответов, чем у \"Дерева решений\": 61 против 640. При этом наша лучшая модель пока имеет довольно низкое значение F1-меры, что связано с дисбалансом классов. Это отражает и большое количество ложноотрицательных ответов модели: 240.  "
   ]
  },
  {
   "cell_type": "markdown",
   "metadata": {},
   "source": [
    "## Борьба с дисбалансом"
   ]
  },
  {
   "cell_type": "markdown",
   "metadata": {},
   "source": [
    "Для решения проблемы дисбаланса используем и сравним результаты трех методов: взвешивание классов, увеличение выборки, уменьшение выборки. Лучший метод определим с помощью F1-меры."
   ]
  },
  {
   "cell_type": "markdown",
   "metadata": {},
   "source": [
    "**Использование взвешивания классов**"
   ]
  },
  {
   "cell_type": "code",
   "execution_count": 31,
   "metadata": {},
   "outputs": [],
   "source": [
    "#model_2 = RandomForestClassifier(random_state=12345, n_estimators=100, max_depth=11, class_weight='balanced')\n",
    "#model_2.fit(features_train, target_train)\n",
    "#predictions_2 = model_2.predict(features_valid) \n",
    "#probabilities = model_2.predict_proba(features_valid)\n",
    "#probabilities_one = probabilities[:, 1]\n",
    "#print('F1-мера: ', f1_score(target_valid, predictions_2))\n",
    "#print('AUC-ROC: ', roc_auc_score(target_valid, probabilities_one))"
   ]
  },
  {
   "cell_type": "markdown",
   "metadata": {},
   "source": [
    "<br/>\n",
    "<div class=\"alert alert-info\">\n",
    "Исправил, смотри ниже\n",
    "</div>\n"
   ]
  },
  {
   "cell_type": "code",
   "execution_count": 32,
   "metadata": {},
   "outputs": [
    {
     "name": "stdout",
     "output_type": "stream",
     "text": [
      "F1-мера лучшей модели:  0.5809128630705395\n",
      "AUC-ROC лучшей модели:  0.8260537484015945\n",
      "Глубина дерева лучшей модели:  5\n"
     ]
    }
   ],
   "source": [
    "# подбираем оптимальное значение max_depth для \"Дерева решений\" с использованием взвешивания классов \n",
    "best_model = None\n",
    "best_f1 = 0\n",
    "best_auc_roc = 0\n",
    "best_depth = 0\n",
    "for depth in range(1,40):\n",
    "    model_1 = DecisionTreeClassifier(random_state=12345, max_depth=depth, class_weight='balanced')\n",
    "    model_1.fit(features_train, target_train)\n",
    "    predictions = model_1.predict(features_valid)\n",
    "    f1 = f1_score(target_valid, predictions)\n",
    "    probabilities = model_1.predict_proba(features_valid)\n",
    "    probabilities_one = probabilities[:, 1]\n",
    "    auc_roc = roc_auc_score(target_valid, probabilities_one)\n",
    "    if f1 > best_f1 and auc_roc > best_auc_roc:\n",
    "        best_model = model_1\n",
    "        best_f1 = f1\n",
    "        best_auc_roc = auc_roc\n",
    "        best_depth = depth\n",
    "print('F1-мера лучшей модели: ', best_f1)\n",
    "print('AUC-ROC лучшей модели: ', best_auc_roc)\n",
    "print('Глубина дерева лучшей модели: ', best_depth)"
   ]
  },
  {
   "cell_type": "code",
   "execution_count": 34,
   "metadata": {},
   "outputs": [
    {
     "name": "stdout",
     "output_type": "stream",
     "text": [
      "F1-мера лучшей модели:  0.6127946127946129\n",
      "AUC-ROC лучшей модели:  0.8569087848220054\n",
      "Количество деревьев лучшей модели:  100\n",
      "Глубина деревьев лучшей модели:  9\n"
     ]
    }
   ],
   "source": [
    "# подбираем оптимальные значения max_depth и n_estimators=estim для \"Случайного леса\" с использованием взвешивания классов\n",
    "best_model_2 = None\n",
    "best_f1_2 = 0\n",
    "best_auc_roc_2 = 0\n",
    "best_estim = 0\n",
    "best_depth_2 = 0\n",
    "for estim in range(10, 250, 10):\n",
    "    for depth_2 in range(1, 25, 2):\n",
    "        model_2 = RandomForestClassifier(random_state=12345, n_estimators=estim, max_depth=depth_2, class_weight='balanced')\n",
    "        model_2.fit(features_train, target_train)\n",
    "        predictions_2 = model_2.predict(features_valid) \n",
    "        f1_2 = f1_score(target_valid, predictions_2)\n",
    "        probabilities = model_2.predict_proba(features_valid)\n",
    "        probabilities_one = probabilities[:, 1]\n",
    "        auc_roc_2 = roc_auc_score(target_valid, probabilities_one)\n",
    "        if f1_2 > best_f1_2 and auc_roc_2 > best_auc_roc_2:\n",
    "            best_model_2 = model_2\n",
    "            best_f1_2 = f1_2\n",
    "            best_auc_roc_2 = auc_roc_2\n",
    "            best_estim = estim\n",
    "            best_depth_2 = depth_2\n",
    "print('F1-мера лучшей модели: ', best_f1_2)\n",
    "print('AUC-ROC лучшей модели: ', best_auc_roc_2)\n",
    "print('Количество деревьев лучшей модели: ', best_estim)\n",
    "print('Глубина деревьев лучшей модели: ', best_depth_2)"
   ]
  },
  {
   "cell_type": "markdown",
   "metadata": {},
   "source": [
    "Видим, что использования взвешивания классов существенно улучшило характеристики как \"Дерева решений\", так и \"Случайного леса\", но у \"Случайного леса\" остались более высокие значения метрик."
   ]
  },
  {
   "cell_type": "markdown",
   "metadata": {},
   "source": [
    "**Увеличение выборки**"
   ]
  },
  {
   "cell_type": "code",
   "execution_count": 35,
   "metadata": {},
   "outputs": [],
   "source": [
    "features = data_ohe.drop(['exited'], axis=1)\n",
    "target = data_ohe['exited']\n",
    "def upsample(features, target, repeat):\n",
    "    features_zeros = features[target == 0]\n",
    "    features_ones = features[target == 1]\n",
    "    target_zeros = target[target == 0]\n",
    "    target_ones = target[target == 1]\n",
    "    features_upsampled = pd.concat([features_zeros] + [features_ones] * repeat)\n",
    "    target_upsampled = pd.concat([target_zeros] + [target_ones] * repeat)\n",
    "    features_upsampled, target_upsampled = shuffle(features_upsampled, target_upsampled, random_state=12345)\n",
    "    return features_upsampled, target_upsampled   "
   ]
  },
  {
   "cell_type": "code",
   "execution_count": 36,
   "metadata": {},
   "outputs": [
    {
     "name": "stdout",
     "output_type": "stream",
     "text": [
      "F1-мера лучшей модели:  0.5809128630705395\n",
      "AUC-ROC лучшей модели:  0.8260537484015945\n",
      "Глубина дерева лучшей модели:  5\n"
     ]
    }
   ],
   "source": [
    "# подбираем оптимальное значение max_depth для \"Дерева решений\"\n",
    "features_upsampled, target_upsampled = upsample(features_train, target_train, 4)\n",
    "best_model = None\n",
    "best_f1 = 0\n",
    "best_auc_roc = 0\n",
    "best_depth = 0\n",
    "for depth in range(1,40):\n",
    "    model_1 = DecisionTreeClassifier(random_state=12345, max_depth=depth)\n",
    "    model_1.fit(features_upsampled, target_upsampled)\n",
    "    predictions = model_1.predict(features_valid)\n",
    "    f1 = f1_score(target_valid, predictions)\n",
    "    probabilities = model_1.predict_proba(features_valid)\n",
    "    probabilities_one = probabilities[:, 1]\n",
    "    auc_roc = roc_auc_score(target_valid, probabilities_one)\n",
    "    if f1 > best_f1 and auc_roc > best_auc_roc:\n",
    "        best_model = model_1\n",
    "        best_f1 = f1\n",
    "        best_auc_roc = auc_roc\n",
    "        best_depth = depth\n",
    "print('F1-мера лучшей модели: ', best_f1)\n",
    "print('AUC-ROC лучшей модели: ', best_auc_roc)\n",
    "print('Глубина дерева лучшей модели: ', best_depth)   "
   ]
  },
  {
   "cell_type": "code",
   "execution_count": 37,
   "metadata": {},
   "outputs": [
    {
     "name": "stdout",
     "output_type": "stream",
     "text": [
      "F1-мера лучшей модели:  0.6155555555555555\n",
      "AUC-ROC лучшей модели:  0.8550334222294178\n",
      "Количество деревьев лучшей модели:  110\n",
      "Глубина деревьев лучшей модели:  11\n"
     ]
    }
   ],
   "source": [
    "# подбираем оптимальные значения max_depth и n_estimators=estim для \"Случайного леса\"\n",
    "features_upsampled, target_upsampled = upsample(features_train, target_train, 4)\n",
    "best_model_2 = None\n",
    "best_f1_2 = 0\n",
    "best_auc_roc_2 = 0\n",
    "best_estim = 0\n",
    "best_depth_2 = 0\n",
    "for estim in range(10, 250, 10):\n",
    "    for depth_2 in range(1, 25, 2):\n",
    "        model_2 = RandomForestClassifier(random_state=12345, n_estimators=estim, max_depth=depth_2)\n",
    "        model_2.fit(features_upsampled, target_upsampled)\n",
    "        predictions_2 = model_2.predict(features_valid) \n",
    "        f1_2 = f1_score(target_valid, predictions_2)\n",
    "        probabilities = model_2.predict_proba(features_valid)\n",
    "        probabilities_one = probabilities[:, 1]\n",
    "        auc_roc_2 = roc_auc_score(target_valid, probabilities_one)\n",
    "        if f1_2 > best_f1_2 and auc_roc_2 > best_auc_roc_2:\n",
    "            best_model_2 = model_2\n",
    "            best_f1_2 = f1_2\n",
    "            best_auc_roc_2 = auc_roc_2\n",
    "            best_estim = estim\n",
    "            best_depth_2 = depth_2\n",
    "print('F1-мера лучшей модели: ', best_f1_2)\n",
    "print('AUC-ROC лучшей модели: ', best_auc_roc_2)\n",
    "print('Количество деревьев лучшей модели: ', best_estim)\n",
    "print('Глубина деревьев лучшей модели: ', best_depth_2)"
   ]
  },
  {
   "cell_type": "markdown",
   "metadata": {},
   "source": [
    "По итогам сравнения наших моделей после взвешивания классов и увеличения выборки лучшим значением F1-меры (0.6155555555555555) обладает полученный методом увеличения выборки \"Случайный лес\" с количеством деревьев 110 и глубиной деревьев 11. Теперь проведем уменьшение выборки и сравним результаты. "
   ]
  },
  {
   "cell_type": "markdown",
   "metadata": {},
   "source": [
    "<div class=\"alert alert-block alert-danger\">\n",
    "<h2> <s>Комментарий ревьюера <a class=\"tocSkip\"></h2>\n",
    "  \n",
    "<b>На доработку🤔:</b>\n",
    "    \n",
    "По организации кода: важно апсемплинг реализовать в отдельной ячейке. Затем обучение модели - в отдельной. \n",
    "    \n",
    "***\n",
    " \n",
    "Здесь ты дублируешь редкий класс в 10 раз. У нас же, как мы увидели раньше, дисбаланс составляет 1:4. То есть, теперь окажется, что бывший редкий класс будет в 2,5 раза чаще встречаться.\n",
    "    \n",
    "Правильно будет довести баланс классов до 1:1, то есть, умножить на 4 (подав такой коэффициент в функцию).\n",
    "\n",
    "</div> \n"
   ]
  },
  {
   "cell_type": "markdown",
   "metadata": {},
   "source": [
    "<br/>\n",
    "<div class=\"alert alert-info\">\n",
    "Исправил, смотри выше\n",
    "</div>\n"
   ]
  },
  {
   "cell_type": "markdown",
   "metadata": {},
   "source": [
    "<div class=\"alert alert-success\">\n",
    "<h2> Комментарий ревьюера <a class=\"tocSkip\"> </h2>\n",
    "\n",
    "👍 Отлично, что используешь рукописную функцию, но здесь можно все оптимизировать, используя <a href=\"https://imbalanced-learn.org/stable/references/generated/imblearn.over_sampling.SMOTE.html\">SMOTE</a> для увеличения выборки и <a href=\"https://imbalanced-learn.org/stable/references/generated/imblearn.under_sampling.RandomUnderSampler.html\">RandomUnderSampler</a>  для уменьшения. \n",
    "    \n",
    "Апсемплинг делается очень просто:\n",
    "    \n",
    "`oversample = SMOTE(random_state=RANDOM_STATE)`\n",
    "\n",
    "`features_train_up, target_train_up = oversample.fit_resample(features_train_enc, target_train)`\n",
    "    \n",
    "*предварительно импотрировав `from imblearn.over_sampling import SMOTE`\n",
    "\n",
    "**Чтобы импортировать imblearn его сначала требуется проинсталлировать. через `!pip install imblearn`\n",
    "\n",
    "В некоторых случаях качество может при применении SMOTE как улучшаться, так и ухудшаться в пределах статистической погрешности. Алгоритм не дублирует строки, а создает новые с помощью метода ближайших соседей.\n",
    "\n",
    "***\n",
    "    \n",
    "Если код выдаст ошибку, нужно перезагрузить ядро юпитера: Kernel - Restart на панели задач.\n",
    " \n",
    "    \n",
    "</div>\n"
   ]
  },
  {
   "cell_type": "markdown",
   "metadata": {},
   "source": [
    "<br/>\n",
    "<div class=\"alert alert-info\">\n",
    "Я не понял этот простой метод...) Где мы указываем во сколько раз изменять размер и класса что такое \"_enc\"?\n",
    "</div>"
   ]
  },
  {
   "cell_type": "markdown",
   "metadata": {},
   "source": [
    "\n",
    "<div class=\"alert alert-success\">\n",
    "<h2> Комментарий ревьюера #2 <a class=\"tocSkip\"> </h2>\n",
    "\n",
    "👍 `features_train_enc` - просто скопировал. Это наши «features_train». Подаем тренировочную выборку на вход, на выходе получаем апсемплированную. Здесь коэффициент считать не нужно, функция все делает за нас. В документации можно посмотреть, если хочется дать свой коэффициент, там есть такой параметр. Но вообще по умолчанию оптимально будет сделать баланс классов 1:1. \n",
    "</div>"
   ]
  },
  {
   "cell_type": "markdown",
   "metadata": {},
   "source": [
    "**Уменьшение выборки**"
   ]
  },
  {
   "cell_type": "code",
   "execution_count": 38,
   "metadata": {},
   "outputs": [],
   "source": [
    "features = data_ohe.drop(['exited'], axis=1)\n",
    "target = data_ohe['exited']\n",
    "def downsample(features, target, fraction):\n",
    "    features_zeros = features[target == 0]\n",
    "    features_ones = features[target == 1]\n",
    "    target_zeros = target[target == 0]\n",
    "    target_ones = target[target == 1]\n",
    "    features_downsampled = pd.concat([features_zeros.sample(frac=fraction, random_state=12345)] + [features_ones])\n",
    "    target_downsampled = pd.concat([target_zeros.sample(frac=fraction, random_state=12345)] + [target_ones])\n",
    "    features_downsampled, target_downsampled = shuffle(\n",
    "    features_downsampled, target_downsampled, random_state=12345)\n",
    "    return features_downsampled, target_downsampled"
   ]
  },
  {
   "cell_type": "code",
   "execution_count": 39,
   "metadata": {},
   "outputs": [
    {
     "name": "stdout",
     "output_type": "stream",
     "text": [
      "F1-мера лучшей модели:  0.6093264248704664\n",
      "AUC-ROC лучшей модели:  0.8317098179953857\n",
      "Глубина дерева лучшей модели:  5\n"
     ]
    }
   ],
   "source": [
    "# подбираем оптимальное значение max_depth для \"Дерева решений\"\n",
    "features_downsampled, target_downsampled = downsample(features_train, target_train, 0.25)\n",
    "best_model = None\n",
    "best_f1 = 0\n",
    "best_auc_roc = 0\n",
    "best_depth = 0\n",
    "for depth in range(1,40):\n",
    "    model_1 = DecisionTreeClassifier(random_state=12345, max_depth=depth)\n",
    "    model_1.fit(features_downsampled, target_downsampled)\n",
    "    predictions = model_1.predict(features_valid)\n",
    "    f1 = f1_score(target_valid, predictions)\n",
    "    probabilities = model_1.predict_proba(features_valid)\n",
    "    probabilities_one = probabilities[:, 1]\n",
    "    auc_roc = roc_auc_score(target_valid, probabilities_one)\n",
    "    if f1 > best_f1 and auc_roc > best_auc_roc:\n",
    "        best_model = model_1\n",
    "        best_f1 = f1\n",
    "        best_auc_roc = auc_roc\n",
    "        best_depth = depth\n",
    "print('F1-мера лучшей модели: ', best_f1)\n",
    "print('AUC-ROC лучшей модели: ', best_auc_roc)\n",
    "print('Глубина дерева лучшей модели: ', best_depth)   "
   ]
  },
  {
   "cell_type": "code",
   "execution_count": 40,
   "metadata": {},
   "outputs": [
    {
     "name": "stdout",
     "output_type": "stream",
     "text": [
      "F1-мера лучшей модели:  0.5944444444444444\n",
      "AUC-ROC лучшей модели:  0.8481046245452132\n",
      "Количество деревьев лучшей модели:  240\n",
      "Глубина деревьев лучшей модели:  11\n"
     ]
    }
   ],
   "source": [
    "# подбираем оптимальные значения max_depth и n_estimators=estim для \"Случайного леса\"\n",
    "features_downsampled, target_downsampled = downsample(features_train, target_train, 0.25)\n",
    "best_model_2 = None\n",
    "best_f1_2 = 0\n",
    "best_auc_roc_2 = 0\n",
    "best_estim = 0\n",
    "best_depth_2 = 0\n",
    "for estim in range(10, 250, 10):\n",
    "    for depth_2 in range(1, 25, 2):\n",
    "        model_2 = RandomForestClassifier(random_state=12345, n_estimators=estim, max_depth=depth_2)\n",
    "        model_2.fit(features_downsampled, target_downsampled)\n",
    "        predictions_2 = model_2.predict(features_valid) \n",
    "        f1_2 = f1_score(target_valid, predictions_2)\n",
    "        probabilities = model_2.predict_proba(features_valid)\n",
    "        probabilities_one = probabilities[:, 1]\n",
    "        auc_roc_2 = roc_auc_score(target_valid, probabilities_one)\n",
    "        if f1_2 > best_f1_2 and auc_roc_2 > best_auc_roc_2:\n",
    "            best_model_2 = model_2\n",
    "            best_f1_2 = f1_2\n",
    "            best_auc_roc_2 = auc_roc_2\n",
    "            best_estim = estim\n",
    "            best_depth_2 = depth_2\n",
    "print('F1-мера лучшей модели: ', best_f1_2)\n",
    "print('AUC-ROC лучшей модели: ', best_auc_roc_2)\n",
    "print('Количество деревьев лучшей модели: ', best_estim)\n",
    "print('Глубина деревьев лучшей модели: ', best_depth_2)"
   ]
  },
  {
   "cell_type": "markdown",
   "metadata": {},
   "source": [
    "Таким образом, по итогам сравнения результатов примерения 3-х методов борьбы с дисбалансом и подбора оптимальных гиперпараметров моделей мы получили модель с наилучшими характеристиками:\n",
    "\n",
    "- F1-мера: 0.6155555555555555;\n",
    "- AUC-ROC: 0.8550334222294178.\n",
    "\n",
    "Это модель \"Случайный лес\" с количеством деревьев 110 и глубиной деревьев 11 при применении метода \"увеличение выборки\". Теперь испытаем нашу модель на тестовой выборке. "
   ]
  },
  {
   "cell_type": "markdown",
   "metadata": {},
   "source": [
    "<div class=\"alert alert-block alert-danger\">\n",
    "<h2><s> Комментарий ревьюера <a class=\"tocSkip\"></h2>\n",
    "  \n",
    "<b>На доработку🤔:</b>\n",
    " \n",
    "Даунсемплинг также нужно довести до баланса классов 1:1. У нас дисбаланс 1:4, значит, частый класс умножаем на четверть.\n",
    "\n",
    "</div>"
   ]
  },
  {
   "cell_type": "markdown",
   "metadata": {},
   "source": [
    "<br/>\n",
    "<div class=\"alert alert-info\">\n",
    "Исправил, смотри выше\n",
    "</div>"
   ]
  },
  {
   "cell_type": "markdown",
   "metadata": {},
   "source": [
    "<div class=\"alert alert-block alert-danger\">\n",
    "<h2> Комментарий ревьюера <a class=\"tocSkip\"></h2>\n",
    "  \n",
    "<b>На доработку🤔:</b>\n",
    " \n",
    "Необходимо со всеми методами борьбы с дисбалансом классов обучить все ранее выбранные модели. В каждом случае в деревянных моделях нужно заново подбирать гиперпараметры. Одни гиперпараметры в другой ситуаици уже не будет оптимальными.\n",
    "\n",
    "</div>\n"
   ]
  },
  {
   "cell_type": "markdown",
   "metadata": {},
   "source": [
    "<br/>\n",
    "<div class=\"alert alert-info\">\n",
    "Исправил, смотри выше\n",
    "</div>"
   ]
  },
  {
   "cell_type": "markdown",
   "metadata": {},
   "source": [
    "\n",
    "<div class=\"alert alert-warning\">\n",
    "<h2> Комментарий ревьюера <a class=\"tocSkip\"> </h2>\n",
    "    \n",
    "<b>Некоторые замечания и рекомендации💡:</b> \n",
    " \n",
    "Здесь важно указать гиперпараметры и метод борьбы с дисбалансом, которые мы используем для выбранной модели в тестировании.\n",
    "\n",
    "</div>\n"
   ]
  },
  {
   "cell_type": "markdown",
   "metadata": {},
   "source": [
    "<br/>\n",
    "<div class=\"alert alert-info\">\n",
    "Исправил, смотри выше\n",
    "</div>"
   ]
  },
  {
   "cell_type": "markdown",
   "metadata": {},
   "source": [
    "<div class=\"alert alert-success\">\n",
    "<h2> Комментарий ревьюера #2 <a class=\"tocSkip\"> </h2>\n",
    "\n",
    "👍 Теперь все отлично по всем пунктам.\n",
    "</div>\n",
    " "
   ]
  },
  {
   "cell_type": "markdown",
   "metadata": {},
   "source": [
    "## Тестирование модели"
   ]
  },
  {
   "cell_type": "markdown",
   "metadata": {},
   "source": [
    "Теперь проверим значения F1-меры и AUC-ROC для нашей модели на тестовой выборке."
   ]
  },
  {
   "cell_type": "code",
   "execution_count": 41,
   "metadata": {},
   "outputs": [
    {
     "name": "stdout",
     "output_type": "stream",
     "text": [
      "F1-мера:  0.6220204313280363\n",
      "AUC-ROC:  0.8470774684095597\n"
     ]
    }
   ],
   "source": [
    "model = RandomForestClassifier(random_state=12345, n_estimators=110, max_depth=11)\n",
    "model.fit(features_upsampled, target_upsampled)\n",
    "predictions = model.predict(features_test) \n",
    "probabilities = model.predict_proba(features_test)\n",
    "probabilities_one = probabilities[:, 1]\n",
    "print('F1-мера: ', f1_score(target_test, predictions))\n",
    "print('AUC-ROC: ', roc_auc_score(target_test, probabilities_one))"
   ]
  },
  {
   "cell_type": "markdown",
   "metadata": {},
   "source": [
    "<div class=\"alert alert-success\">\n",
    "<h2> Комментарий ревьюера <a class=\"tocSkip\"> </h2>\n",
    "\n",
    "👍 Отлично. По коду тестирования все верно, используем ранее подобранные гипепараметры и модель, по качеству все неплохо.\n",
    "</div> \n",
    "   "
   ]
  },
  {
   "cell_type": "markdown",
   "metadata": {},
   "source": [
    "В условиях проекта указано, что нужно довести метрику F1-мера до значения 0.59 на тестовой выборке. Наш результат: 0.62 (при AUC-ROC: 0.85). Соответственно, данное условие успешно выполнено."
   ]
  },
  {
   "cell_type": "markdown",
   "metadata": {},
   "source": [
    "Построим ROC-кривую для графического отображения сравнения нашей модели со случайной (ROC-кривая случайной модели выглядит как прямая)."
   ]
  },
  {
   "cell_type": "code",
   "execution_count": 42,
   "metadata": {},
   "outputs": [
    {
     "data": {
      "image/png": "[encoded data removed]",
      "text/plain": [
       "<Figure size 432x288 with 1 Axes>"
      ]
     },
     "metadata": {},
     "output_type": "display_data"
    }
   ],
   "source": [
    "fpr, tpr, thresholds = roc_curve(target_test, probabilities_one)\n",
    "plt.figure()\n",
    "plt.plot(fpr, tpr)\n",
    "plt.plot([0, 1], [0, 1], linestyle='--')\n",
    "plt.ylim([0.0, 1.0])\n",
    "plt.xlim([0.0, 1.0])\n",
    "plt.xlabel('False Positive Rate')\n",
    "plt.ylabel('True Positive Rate')\n",
    "plt.title('ROC-кривая')\n",
    "plt.show()"
   ]
  },
  {
   "cell_type": "code",
   "execution_count": 43,
   "metadata": {},
   "outputs": [
    {
     "data": {
      "text/plain": [
       "Text(0.5, 0, 'Вес признака')"
      ]
     },
     "execution_count": 43,
     "metadata": {},
     "output_type": "execute_result"
    },
    {
     "data": {
      "image/png": "[encoded data removed]",
      "text/plain": [
       "<Figure size 432x288 with 1 Axes>"
      ]
     },
     "metadata": {},
     "output_type": "display_data"
    }
   ],
   "source": [
    "#выведем на экран распределение признаков по их важности\n",
    "features=features_test.columns\n",
    "importances = model.feature_importances_\n",
    "indices = np.argsort(importances)\n",
    "\n",
    "plt.figure(1)\n",
    "plt.title('Распределение признаков по их важности')\n",
    "plt.barh(range(len(indices)), importances[indices], color='b', align='center')\n",
    "plt.yticks(range(len(indices)), features[indices])\n",
    "plt.xlabel('Вес признака')"
   ]
  },
  {
   "cell_type": "markdown",
   "metadata": {},
   "source": [
    "Из графика мы видим, что наиболее важны следующие признаки: возраст клиента, количество используемых им продуктов банка и баланс на счете."
   ]
  },
  {
   "cell_type": "markdown",
   "metadata": {},
   "source": [
    "<div class=\"alert alert-success\">\n",
    "<h2> Комментарий ревьюера <a class=\"tocSkip\"> </h2>\n",
    "\n",
    "👍 Полезный график!\n",
    "</div> \n",
    "   "
   ]
  },
  {
   "cell_type": "markdown",
   "metadata": {},
   "source": [
    "## Общий вывод:\n",
    "\n",
    "Целью нашего исследования было построить модель со значением F1-меры не менее 0.59 для осуществления прогноза: уйдёт ли клиент из «Бета-Банка» в ближайшее время или нет, а также проверить F1-меру на тестовой выборке. Для проведения анализа были представлены исторические данные о поведении клиентов «Бета-Банка» и расторжении договоров с банком (файл /datasets/Churn.csv).\n",
    "\n",
    "Анализируемый датафрейм состоит из 14 столбцов и 10 000 строк, значения 8 столбцов относятся к целочисленному типу, 3 - к вещественному и 3 - к строковому. Использованные типы данных корректны. Явные и неявные дубликаты отсутствуют. Пропуски имелись только в одном столбце датафрейма - tenure (сколько лет человек является клиентом банка). Их количество было 909, что составляло 9% от общего количества данных в столбце. Мы их обработали (заменили случайными значениями). Кроме того, названия всех столбцов датафрейма привели к \"змеиному регистру\".\n",
    "\n",
    "При изучении данных установлено:\n",
    "\n",
    "- средний возраст клиентов банка составляет почти 39 лет при медиане 37. Наименьший возраст клиента - 18 лет, а наиболее старшему из клиентов 92 года.\n",
    "- В среднем жизненный цикл клиента банка составляет 5 лет.\n",
    "- Максимальное количество продуктов, которое использует 1 клиент, - 4 при медиане 1.\n",
    "- Наличие у клиента кредитной карты, а также информация о том, является ли клиент активным или неактивным и факт ухода клиента обозначены заначениями 0 или 1.\n",
    "- Явные противоречия в данных, либо маловероятные значения отсутствуют.\n",
    "\n",
    "В ходе дальнейшего исследования мы:\n",
    "\n",
    "- удалили столбцы surname, customer_id и row_number (как не несущие ценности для обучения модели);\n",
    "- с помощью техники OHE подготовили данные из столбцов gender и geography;\n",
    "- разделили исходные данные на обучающую, валидационную и тестовую выборки в соотношении 3:1:1;\n",
    "- извлекли признаки (features) и целевой признак (target) для каждой из указанных выше выборок;\n",
    "- провели стандартизацию данных.\n",
    "\n",
    "Сравнив разные типы моделей и подобрав оптимальное значение гиперпараметров, мы установили, что лучшие характеристики у модели \"Случайный лес\" со значениями гиперпараметров n_estimators = 230 и max_depth = 9:\n",
    "\n",
    "- F1-мера: 0.5149136577708007 (у \"Дерева решений\" - 0.4986301369863014);\n",
    "- AUC-ROC: 0.8544412813628535 (у \"Дерева решений\" - 0.7280154586243442).\n",
    "\n",
    "У этой модели существенно меньше ложноположительных ответов, чем у \"Дерева решений\": 61 против 640. При этом наша лучшая модель имела довольно низкое значение F1-меры, что связано с дисбалансом классов. Это отражало и большое количество ложноотрицательных ответов модели: 240.\n",
    "\n",
    "Для улучшения характеристик модели мы использовали три метода для борьбы с дисбалансом: взвешивание классов, увеличение выборки, уменьшение выборки.\n",
    "\n",
    "При сравнении полученных значений F1-меры мы установили, что наилучший результат был достигнут у модели \"Случайный лес\" с количеством деревьев 110 и глубиной деревьев 11 при применении метода \"увеличение выборки\":\n",
    "\n",
    "- F1-мера: 0.6155555555555555;\n",
    "- AUC-ROC: 0.8550334222294178.\n",
    "\n",
    "Как видно, до исправления дисбаланса метрика F1 нашей модели была существенно ниже.\n",
    "\n",
    "**Проверив значения F1-меры и AUC-ROC для нашей модели на тестовой выборке, мы получили следующий результат:**\n",
    "\n",
    "- F1-мера: 0.6220204313280363;\n",
    "- AUC-ROC: 0.8470774684095597.\n",
    "\n",
    "**В условиях проекта указано, что нужно довести метрику F1-мера до значения 0.59 на тестовой выборке. Соответственно, данное условие успешно выполнено.**\n"
   ]
  },
  {
   "cell_type": "markdown",
   "metadata": {},
   "source": [
    "\n",
    "<div class=\"alert alert-warning\">\n",
    "<h2> Комментарий ревьюера <a class=\"tocSkip\"> </h2>\n",
    "    \n",
    "<b>Некоторые замечания и рекомендации💡:</b> \n",
    "\n",
    "\n",
    "Я бы добавил сравнение по f1-мере с константной моделью, также можно посмотреть recall и прокомментировать, какую долю клиентов на отток модель верно детектирует.\n",
    "***\n",
    "\n",
    "Здесь в дамми-модели я бы предсказал везде «1». Условно говоря, если предсказываем ноль, моделируем ситуацию, когда акцию с бонусами для удержания клиентов решили не проводить. Если предсказываем единицу − решили раздать бонусы вообще всем клиентам. Если в дамми-модели предсказываем по единице, можно подсчитать F1, она не будет зануляться.\n",
    "    \n",
    "`dummy_model = DummyClassifier(strategy='constant', constant=1)\n",
    "dummy_model.fit(features_train, target_train)\n",
    "f1_score(dummy_model.predict(features_test), target_test)`\n",
    "    \n",
    "Импорт: from sklearn.dummy import DummyClassifier\n",
    "\n",
    "       \n",
    "</div>\n"
   ]
  },
  {
   "cell_type": "code",
   "execution_count": 44,
   "metadata": {},
   "outputs": [
    {
     "data": {
      "text/plain": [
       "0.3457402812241522"
      ]
     },
     "execution_count": 44,
     "metadata": {},
     "output_type": "execute_result"
    }
   ],
   "source": [
    "from sklearn.dummy import DummyClassifier\n",
    "dummy_model = DummyClassifier(strategy='constant', constant=1)\n",
    "dummy_model.fit(features_train, target_train)\n",
    "f1_score(dummy_model.predict(features_test), target_test)"
   ]
  },
  {
   "cell_type": "markdown",
   "metadata": {},
   "source": [
    "<br/>\n",
    "<div class=\"alert alert-info\">\n",
    "Если так, то F1 для дамми-модели существенно ниже\n",
    "</div>\n"
   ]
  },
  {
   "cell_type": "markdown",
   "metadata": {},
   "source": [
    "<div class=\"alert alert-success\">\n",
    "<h2> Комментарий ревьюера #2 <a class=\"tocSkip\"> </h2>\n",
    "\n",
    "👍 Ну и замечательно. У нас же чем выше метрика, тем лучше.\n",
    "</div>\n",
    " "
   ]
  },
  {
   "cell_type": "markdown",
   "metadata": {},
   "source": [
    "\n",
    "<div style=\"border:solid Chocolate 2px; padding: 40px\">\n",
    "\n",
    "**Общий вывод по проекту**\n",
    "    \n",
    "Спасибо за твой проект! Есть несколько важных моментов, которые необходимо поправить. Их ты найдешь в разноцветных комментариях.\n",
    "    \n",
    "**Отмечу положительные моменты проекта🚀**\n",
    "    \n",
    "* Хорошая структура проекта. Выбор моделей, порядок исследования.\n",
    "* Есть пояснения к шагам, код с высокой читаемостью. \n",
    "* Логичность решений.\n",
    "* Хороший результат на тестовой выборке.\n",
    "    \n",
    "**На что стоит обратить внимание🤔**\n",
    "    \n",
    "* Необходимо удалить все лишние колонки.\n",
    "* Гиперпараметры моделям подбираем в каждом случае применения методики борьбы с дисбалансом и в исследовании моделей без учета дисбаланса.\n",
    "* Со всеми методами борьбы с дисбслансом важно исследовать все выбранные модели.\n",
    "* У всех моделей важно измерить ROC_AUC по вероятностям классов.\n",
    "* Апсемпилнг нужно довести до баланса классов (1:1, умножаем редкий класс на 4). Также и с даунсемплингом (только на 0.25).\n",
    "* Эти и остальные замечания я также написал по ходу проекта.\n",
    "    \n",
    "**Желаю удачи и жду твой проект на повторное ревью!**😉\n",
    "    \n",
    "    \n",
    "</div>\n",
    "\n",
    "\n"
   ]
  },
  {
   "cell_type": "markdown",
   "metadata": {},
   "source": [
    "<br/>\n",
    "<div class=\"alert alert-info\">\n",
    "Все замечания исправлены. Проект можно принимать)\n",
    "</div>\n"
   ]
  },
  {
   "cell_type": "markdown",
   "metadata": {},
   "source": [
    "<div class=\"alert alert-success\">\n",
    "<h2> Комментарий ревьюера #2 <a class=\"tocSkip\"> </h2>\n",
    "\n",
    "👍 Не поспоришь. Принимаю :)\n",
    "</div>\n",
    " "
   ]
  },
  {
   "cell_type": "markdown",
   "metadata": {},
   "source": [
    "<div style=\"border:solid Chocolate 2px; padding: 40px\">\n",
    "\n",
    "**Комментарий ко второй проверке**\n",
    "\n",
    "Спасибо за отличную доработку и за твои вопросы. \n",
    "    \n",
    "Если что-то пропустил или остались вопросы, напиши на телеграм @kriill\n",
    "\n",
    "Желаю удачи в дальнейшей учебе!\n",
    "\n",
    "</div>"
   ]
  },
  {
   "cell_type": "markdown",
   "metadata": {},
   "source": [
    "## Чек-лист готовности проекта"
   ]
  },
  {
   "cell_type": "markdown",
   "metadata": {},
   "source": [
    "Поставьте 'x' в выполненных пунктах. Далее нажмите Shift+Enter."
   ]
  },
  {
   "cell_type": "markdown",
   "metadata": {},
   "source": [
    "- [x]  Jupyter Notebook открыт\n",
    "- [x]  Весь код выполняется без ошибок\n",
    "- [x]  Ячейки с кодом расположены в порядке исполнения\n",
    "- [x]  Выполнен шаг 1: данные подготовлены\n",
    "- [x]  Выполнен шаг 2: задача исследована\n",
    "    - [x]  Исследован баланс классов\n",
    "    - [x]  Изучены модели без учёта дисбаланса\n",
    "    - [x]  Написаны выводы по результатам исследования\n",
    "- [x]  Выполнен шаг 3: учтён дисбаланс\n",
    "    - [x]  Применено несколько способов борьбы с дисбалансом\n",
    "    - [x]  Написаны выводы по результатам исследования\n",
    "- [x]  Выполнен шаг 4: проведено тестирование\n",
    "- [x]  Удалось достичь *F1*-меры не менее 0.59\n",
    "- [x]  Исследована метрика *AUC-ROC*"
   ]
  },
  {
   "cell_type": "markdown",
   "metadata": {},
   "source": []
  }
 ],
 "metadata": {
  "ExecuteTimeLog": [
   {
    "duration": 1544,
    "start_time": "2023-05-31T06:57:56.819Z"
   },
   {
    "duration": 5,
    "start_time": "2023-05-31T07:01:53.311Z"
   },
   {
    "duration": 345,
    "start_time": "2023-05-31T07:02:46.119Z"
   },
   {
    "duration": 12,
    "start_time": "2023-05-31T07:41:21.558Z"
   },
   {
    "duration": 32,
    "start_time": "2023-05-31T07:43:48.875Z"
   },
   {
    "duration": 49,
    "start_time": "2023-05-31T07:46:54.650Z"
   },
   {
    "duration": 58,
    "start_time": "2023-05-31T08:02:12.145Z"
   },
   {
    "duration": 4,
    "start_time": "2023-05-31T08:05:39.337Z"
   },
   {
    "duration": 12,
    "start_time": "2023-05-31T08:23:28.899Z"
   },
   {
    "duration": 66046,
    "start_time": "2023-05-31T08:32:23.685Z"
   },
   {
    "duration": 7,
    "start_time": "2023-05-31T08:57:09.784Z"
   },
   {
    "duration": 4,
    "start_time": "2023-05-31T08:57:42.388Z"
   },
   {
    "duration": 17,
    "start_time": "2023-05-31T08:59:22.298Z"
   },
   {
    "duration": 17,
    "start_time": "2023-05-31T08:59:52.038Z"
   },
   {
    "duration": 196,
    "start_time": "2023-05-31T08:59:59.293Z"
   },
   {
    "duration": 19,
    "start_time": "2023-05-31T09:00:11.695Z"
   },
   {
    "duration": 7,
    "start_time": "2023-05-31T09:02:41.200Z"
   },
   {
    "duration": 9,
    "start_time": "2023-05-31T09:03:41.836Z"
   },
   {
    "duration": 114,
    "start_time": "2023-05-31T09:19:56.070Z"
   },
   {
    "duration": 8,
    "start_time": "2023-05-31T09:20:07.740Z"
   },
   {
    "duration": 7,
    "start_time": "2023-05-31T09:20:43.888Z"
   },
   {
    "duration": 18,
    "start_time": "2023-05-31T09:25:40.517Z"
   },
   {
    "duration": 1357,
    "start_time": "2023-05-31T09:38:31.493Z"
   },
   {
    "duration": 47,
    "start_time": "2023-05-31T09:38:32.852Z"
   },
   {
    "duration": 14,
    "start_time": "2023-05-31T09:38:33.102Z"
   },
   {
    "duration": 20,
    "start_time": "2023-05-31T09:38:34.177Z"
   },
   {
    "duration": 41,
    "start_time": "2023-05-31T09:38:35.238Z"
   },
   {
    "duration": 48,
    "start_time": "2023-05-31T09:38:36.291Z"
   },
   {
    "duration": 4,
    "start_time": "2023-05-31T09:38:36.842Z"
   },
   {
    "duration": 11,
    "start_time": "2023-05-31T09:38:38.042Z"
   },
   {
    "duration": 4,
    "start_time": "2023-05-31T09:38:40.635Z"
   },
   {
    "duration": 7,
    "start_time": "2023-05-31T09:38:41.732Z"
   },
   {
    "duration": 18,
    "start_time": "2023-05-31T09:38:50.146Z"
   },
   {
    "duration": 19,
    "start_time": "2023-05-31T09:39:44.539Z"
   },
   {
    "duration": 121,
    "start_time": "2023-05-31T09:41:20.211Z"
   },
   {
    "duration": 7,
    "start_time": "2023-05-31T09:42:51.888Z"
   },
   {
    "duration": 17,
    "start_time": "2023-05-31T09:42:53.288Z"
   },
   {
    "duration": 10,
    "start_time": "2023-05-31T09:42:57.585Z"
   },
   {
    "duration": 5,
    "start_time": "2023-05-31T09:42:58.088Z"
   },
   {
    "duration": 15,
    "start_time": "2023-05-31T09:42:59.047Z"
   },
   {
    "duration": 8,
    "start_time": "2023-05-31T09:42:59.786Z"
   },
   {
    "duration": 8,
    "start_time": "2023-05-31T09:43:00.446Z"
   },
   {
    "duration": 40,
    "start_time": "2023-05-31T09:43:01.240Z"
   },
   {
    "duration": 1305,
    "start_time": "2023-05-31T09:49:53.697Z"
   },
   {
    "duration": 60,
    "start_time": "2023-05-31T09:49:55.005Z"
   },
   {
    "duration": 13,
    "start_time": "2023-05-31T09:49:55.413Z"
   },
   {
    "duration": 20,
    "start_time": "2023-05-31T09:49:56.486Z"
   },
   {
    "duration": 39,
    "start_time": "2023-05-31T09:49:57.701Z"
   },
   {
    "duration": 44,
    "start_time": "2023-05-31T09:49:58.597Z"
   },
   {
    "duration": 4,
    "start_time": "2023-05-31T09:49:59.021Z"
   },
   {
    "duration": 12,
    "start_time": "2023-05-31T09:50:00.053Z"
   },
   {
    "duration": 3,
    "start_time": "2023-05-31T09:50:02.453Z"
   },
   {
    "duration": 4,
    "start_time": "2023-05-31T09:50:03.445Z"
   },
   {
    "duration": 7,
    "start_time": "2023-05-31T09:50:13.588Z"
   },
   {
    "duration": 18,
    "start_time": "2023-05-31T09:50:15.294Z"
   },
   {
    "duration": 8,
    "start_time": "2023-05-31T09:50:22.732Z"
   },
   {
    "duration": 4,
    "start_time": "2023-05-31T09:50:23.234Z"
   },
   {
    "duration": 14,
    "start_time": "2023-05-31T09:50:23.747Z"
   },
   {
    "duration": 7,
    "start_time": "2023-05-31T09:50:24.386Z"
   },
   {
    "duration": 8,
    "start_time": "2023-05-31T09:50:24.885Z"
   },
   {
    "duration": 30,
    "start_time": "2023-05-31T09:50:25.340Z"
   },
   {
    "duration": 5,
    "start_time": "2023-05-31T10:00:47.584Z"
   },
   {
    "duration": 6,
    "start_time": "2023-05-31T10:02:24.299Z"
   },
   {
    "duration": 8,
    "start_time": "2023-05-31T10:03:49.075Z"
   },
   {
    "duration": 10,
    "start_time": "2023-05-31T10:04:19.517Z"
   },
   {
    "duration": 1712,
    "start_time": "2023-06-01T09:04:10.590Z"
   },
   {
    "duration": 113,
    "start_time": "2023-06-01T09:04:12.304Z"
   },
   {
    "duration": 12,
    "start_time": "2023-06-01T09:04:12.419Z"
   },
   {
    "duration": 20,
    "start_time": "2023-06-01T09:04:12.433Z"
   },
   {
    "duration": 64,
    "start_time": "2023-06-01T09:04:12.454Z"
   },
   {
    "duration": 83,
    "start_time": "2023-06-01T09:04:12.549Z"
   },
   {
    "duration": 5,
    "start_time": "2023-06-01T09:04:12.722Z"
   },
   {
    "duration": 10,
    "start_time": "2023-06-01T09:04:13.350Z"
   },
   {
    "duration": 4,
    "start_time": "2023-06-01T09:04:14.897Z"
   },
   {
    "duration": 5,
    "start_time": "2023-06-01T09:04:15.594Z"
   },
   {
    "duration": 10,
    "start_time": "2023-06-01T09:04:16.009Z"
   },
   {
    "duration": 18,
    "start_time": "2023-06-01T09:04:16.245Z"
   },
   {
    "duration": 9,
    "start_time": "2023-06-01T09:04:16.671Z"
   },
   {
    "duration": 5,
    "start_time": "2023-06-01T09:04:16.871Z"
   },
   {
    "duration": 20,
    "start_time": "2023-06-01T09:04:17.081Z"
   },
   {
    "duration": 9,
    "start_time": "2023-06-01T09:04:17.314Z"
   },
   {
    "duration": 11,
    "start_time": "2023-06-01T09:04:17.740Z"
   },
   {
    "duration": 49,
    "start_time": "2023-06-01T09:04:17.941Z"
   },
   {
    "duration": 10,
    "start_time": "2023-06-01T09:04:18.722Z"
   },
   {
    "duration": 120,
    "start_time": "2023-06-01T09:58:28.378Z"
   },
   {
    "duration": 7,
    "start_time": "2023-06-01T09:59:05.340Z"
   },
   {
    "duration": 23,
    "start_time": "2023-06-01T09:59:10.118Z"
   },
   {
    "duration": 20,
    "start_time": "2023-06-01T10:00:16.106Z"
   },
   {
    "duration": 1886,
    "start_time": "2023-06-01T11:03:09.684Z"
   },
   {
    "duration": 59,
    "start_time": "2023-06-01T11:03:11.572Z"
   },
   {
    "duration": 18,
    "start_time": "2023-06-01T11:03:11.634Z"
   },
   {
    "duration": 22,
    "start_time": "2023-06-01T11:03:11.655Z"
   },
   {
    "duration": 52,
    "start_time": "2023-06-01T11:03:11.679Z"
   },
   {
    "duration": 55,
    "start_time": "2023-06-01T11:03:12.352Z"
   },
   {
    "duration": 5,
    "start_time": "2023-06-01T11:03:13.556Z"
   },
   {
    "duration": 126,
    "start_time": "2023-06-01T11:03:17.342Z"
   },
   {
    "duration": 13,
    "start_time": "2023-06-01T11:03:50.104Z"
   },
   {
    "duration": 11,
    "start_time": "2023-06-01T11:04:40.233Z"
   },
   {
    "duration": 14,
    "start_time": "2023-06-01T11:04:43.304Z"
   },
   {
    "duration": 5,
    "start_time": "2023-06-01T11:04:44.554Z"
   },
   {
    "duration": 5,
    "start_time": "2023-06-01T11:04:44.953Z"
   },
   {
    "duration": 7,
    "start_time": "2023-06-01T11:04:45.302Z"
   },
   {
    "duration": 28,
    "start_time": "2023-06-01T11:04:45.481Z"
   },
   {
    "duration": 10,
    "start_time": "2023-06-01T11:04:46.200Z"
   },
   {
    "duration": 4,
    "start_time": "2023-06-01T11:04:46.601Z"
   },
   {
    "duration": 15,
    "start_time": "2023-06-01T11:04:46.776Z"
   },
   {
    "duration": 7,
    "start_time": "2023-06-01T11:04:47.001Z"
   },
   {
    "duration": 16,
    "start_time": "2023-06-01T11:04:47.418Z"
   },
   {
    "duration": 37,
    "start_time": "2023-06-01T11:04:47.596Z"
   },
   {
    "duration": 9,
    "start_time": "2023-06-01T11:04:48.389Z"
   },
   {
    "duration": 31,
    "start_time": "2023-06-01T11:04:51.934Z"
   },
   {
    "duration": 19,
    "start_time": "2023-06-01T11:05:41.990Z"
   },
   {
    "duration": 1674,
    "start_time": "2023-06-01T11:06:14.373Z"
   },
   {
    "duration": 9,
    "start_time": "2023-06-01T11:22:15.300Z"
   },
   {
    "duration": 7,
    "start_time": "2023-06-01T11:31:56.909Z"
   },
   {
    "duration": 8,
    "start_time": "2023-06-01T11:31:57.943Z"
   },
   {
    "duration": 31,
    "start_time": "2023-06-01T11:32:42.552Z"
   },
   {
    "duration": 13,
    "start_time": "2023-06-01T11:32:43.988Z"
   },
   {
    "duration": 11,
    "start_time": "2023-06-01T11:32:44.650Z"
   },
   {
    "duration": 1820,
    "start_time": "2023-06-01T11:33:02.567Z"
   },
   {
    "duration": 59,
    "start_time": "2023-06-01T11:33:04.389Z"
   },
   {
    "duration": 20,
    "start_time": "2023-06-01T11:33:04.450Z"
   },
   {
    "duration": 28,
    "start_time": "2023-06-01T11:33:04.473Z"
   },
   {
    "duration": 35,
    "start_time": "2023-06-01T11:33:05.563Z"
   },
   {
    "duration": 85,
    "start_time": "2023-06-01T11:33:09.087Z"
   },
   {
    "duration": 9,
    "start_time": "2023-06-01T11:33:10.046Z"
   },
   {
    "duration": 9,
    "start_time": "2023-06-01T11:33:13.187Z"
   },
   {
    "duration": 15,
    "start_time": "2023-06-01T11:33:14.856Z"
   },
   {
    "duration": 25,
    "start_time": "2023-06-01T11:33:17.507Z"
   },
   {
    "duration": 11,
    "start_time": "2023-06-01T11:34:54.956Z"
   },
   {
    "duration": 4,
    "start_time": "2023-06-01T11:34:59.684Z"
   },
   {
    "duration": 4,
    "start_time": "2023-06-01T11:35:00.591Z"
   },
   {
    "duration": 11,
    "start_time": "2023-06-01T11:35:01.666Z"
   },
   {
    "duration": 46,
    "start_time": "2023-06-01T11:35:02.207Z"
   },
   {
    "duration": 8,
    "start_time": "2023-06-01T11:35:03.280Z"
   },
   {
    "duration": 5,
    "start_time": "2023-06-01T11:35:03.762Z"
   },
   {
    "duration": 23,
    "start_time": "2023-06-01T11:35:04.208Z"
   },
   {
    "duration": 8,
    "start_time": "2023-06-01T11:35:04.701Z"
   },
   {
    "duration": 8,
    "start_time": "2023-06-01T11:35:05.172Z"
   },
   {
    "duration": 42,
    "start_time": "2023-06-01T11:35:05.688Z"
   },
   {
    "duration": 17,
    "start_time": "2023-06-01T11:35:07.013Z"
   },
   {
    "duration": 1734,
    "start_time": "2023-06-01T11:35:08.757Z"
   },
   {
    "duration": 140,
    "start_time": "2023-06-01T12:02:50.776Z"
   },
   {
    "duration": 6,
    "start_time": "2023-06-01T12:03:47.617Z"
   },
   {
    "duration": 38885,
    "start_time": "2023-06-01T12:04:30.257Z"
   },
   {
    "duration": 48592,
    "start_time": "2023-06-01T12:13:51.784Z"
   },
   {
    "duration": 8,
    "start_time": "2023-06-01T12:18:05.398Z"
   },
   {
    "duration": 5,
    "start_time": "2023-06-01T12:18:41.347Z"
   },
   {
    "duration": 14,
    "start_time": "2023-06-01T12:18:47.556Z"
   },
   {
    "duration": 5,
    "start_time": "2023-06-01T12:20:05.682Z"
   },
   {
    "duration": 6,
    "start_time": "2023-06-01T12:22:39.001Z"
   },
   {
    "duration": 1557,
    "start_time": "2023-06-01T12:23:51.740Z"
   },
   {
    "duration": 72,
    "start_time": "2023-06-01T12:23:53.299Z"
   },
   {
    "duration": 19,
    "start_time": "2023-06-01T12:23:53.373Z"
   },
   {
    "duration": 33,
    "start_time": "2023-06-01T12:23:53.394Z"
   },
   {
    "duration": 42,
    "start_time": "2023-06-01T12:23:53.457Z"
   },
   {
    "duration": 63,
    "start_time": "2023-06-01T12:23:54.104Z"
   },
   {
    "duration": 5,
    "start_time": "2023-06-01T12:23:54.477Z"
   },
   {
    "duration": 7,
    "start_time": "2023-06-01T12:23:55.176Z"
   },
   {
    "duration": 9,
    "start_time": "2023-06-01T12:23:55.392Z"
   },
   {
    "duration": 16,
    "start_time": "2023-06-01T12:23:56.048Z"
   },
   {
    "duration": 7,
    "start_time": "2023-06-01T12:23:57.128Z"
   },
   {
    "duration": 5,
    "start_time": "2023-06-01T12:23:57.754Z"
   },
   {
    "duration": 6,
    "start_time": "2023-06-01T12:23:58.208Z"
   },
   {
    "duration": 27,
    "start_time": "2023-06-01T12:23:58.436Z"
   },
   {
    "duration": 7,
    "start_time": "2023-06-01T12:23:58.876Z"
   },
   {
    "duration": 5,
    "start_time": "2023-06-01T12:23:59.435Z"
   },
   {
    "duration": 26,
    "start_time": "2023-06-01T12:23:59.441Z"
   },
   {
    "duration": 6,
    "start_time": "2023-06-01T12:23:59.496Z"
   },
   {
    "duration": 7,
    "start_time": "2023-06-01T12:23:59.737Z"
   },
   {
    "duration": 46,
    "start_time": "2023-06-01T12:23:59.912Z"
   },
   {
    "duration": 9,
    "start_time": "2023-06-01T12:24:00.600Z"
   },
   {
    "duration": 1718,
    "start_time": "2023-06-01T12:24:01.274Z"
   },
   {
    "duration": 6,
    "start_time": "2023-06-01T12:24:02.994Z"
   },
   {
    "duration": 42012,
    "start_time": "2023-06-01T12:24:03.001Z"
   },
   {
    "duration": 52381,
    "start_time": "2023-06-01T12:24:45.015Z"
   },
   {
    "duration": 6,
    "start_time": "2023-06-01T12:25:37.398Z"
   },
   {
    "duration": 16450,
    "start_time": "2023-06-01T12:26:07.334Z"
   },
   {
    "duration": 6,
    "start_time": "2023-06-01T12:27:16.752Z"
   },
   {
    "duration": 7,
    "start_time": "2023-06-01T12:27:57.362Z"
   },
   {
    "duration": 481,
    "start_time": "2023-06-01T12:53:05.167Z"
   },
   {
    "duration": 1660,
    "start_time": "2023-06-01T12:53:35.604Z"
   },
   {
    "duration": 59,
    "start_time": "2023-06-01T12:53:37.266Z"
   },
   {
    "duration": 27,
    "start_time": "2023-06-01T12:53:37.337Z"
   },
   {
    "duration": 26,
    "start_time": "2023-06-01T12:53:37.366Z"
   },
   {
    "duration": 40,
    "start_time": "2023-06-01T12:53:37.861Z"
   },
   {
    "duration": 79,
    "start_time": "2023-06-01T12:53:38.616Z"
   },
   {
    "duration": 5,
    "start_time": "2023-06-01T12:53:39.009Z"
   },
   {
    "duration": 8,
    "start_time": "2023-06-01T12:53:39.880Z"
   },
   {
    "duration": 11,
    "start_time": "2023-06-01T12:53:40.291Z"
   },
   {
    "duration": 11,
    "start_time": "2023-06-01T12:53:41.091Z"
   },
   {
    "duration": 14,
    "start_time": "2023-06-01T12:53:43.144Z"
   },
   {
    "duration": 4,
    "start_time": "2023-06-01T12:53:43.967Z"
   },
   {
    "duration": 10,
    "start_time": "2023-06-01T12:53:44.800Z"
   },
   {
    "duration": 25,
    "start_time": "2023-06-01T12:53:45.237Z"
   },
   {
    "duration": 11,
    "start_time": "2023-06-01T12:53:46.052Z"
   },
   {
    "duration": 4,
    "start_time": "2023-06-01T12:53:46.408Z"
   },
   {
    "duration": 15,
    "start_time": "2023-06-01T12:53:46.775Z"
   },
   {
    "duration": 7,
    "start_time": "2023-06-01T12:53:47.167Z"
   },
   {
    "duration": 10,
    "start_time": "2023-06-01T12:53:47.559Z"
   },
   {
    "duration": 51,
    "start_time": "2023-06-01T12:53:47.984Z"
   },
   {
    "duration": 10,
    "start_time": "2023-06-01T12:53:48.848Z"
   },
   {
    "duration": 1794,
    "start_time": "2023-06-01T12:54:03.767Z"
   },
   {
    "duration": 6,
    "start_time": "2023-06-01T12:54:05.881Z"
   },
   {
    "duration": 44952,
    "start_time": "2023-06-01T12:54:43.717Z"
   },
   {
    "duration": 24384,
    "start_time": "2023-06-01T12:55:53.593Z"
   },
   {
    "duration": 519,
    "start_time": "2023-06-01T12:58:54.352Z"
   },
   {
    "duration": 5,
    "start_time": "2023-06-01T13:01:05.441Z"
   },
   {
    "duration": 455,
    "start_time": "2023-06-01T13:10:48.706Z"
   },
   {
    "duration": 457,
    "start_time": "2023-06-01T13:14:41.178Z"
   },
   {
    "duration": 449,
    "start_time": "2023-06-01T13:16:36.610Z"
   },
   {
    "duration": 452,
    "start_time": "2023-06-01T13:20:41.884Z"
   },
   {
    "duration": 484,
    "start_time": "2023-06-01T13:20:49.878Z"
   },
   {
    "duration": 486,
    "start_time": "2023-06-01T13:21:01.389Z"
   },
   {
    "duration": 486,
    "start_time": "2023-06-01T13:21:07.205Z"
   },
   {
    "duration": 463,
    "start_time": "2023-06-01T13:21:13.479Z"
   },
   {
    "duration": 687,
    "start_time": "2023-06-01T13:25:02.398Z"
   },
   {
    "duration": 466,
    "start_time": "2023-06-01T13:25:20.479Z"
   },
   {
    "duration": 5,
    "start_time": "2023-06-01T13:30:49.687Z"
   },
   {
    "duration": 433,
    "start_time": "2023-06-01T13:41:49.795Z"
   },
   {
    "duration": 1433,
    "start_time": "2023-06-01T13:44:11.678Z"
   },
   {
    "duration": 52,
    "start_time": "2023-06-01T13:44:13.113Z"
   },
   {
    "duration": 15,
    "start_time": "2023-06-01T13:44:13.362Z"
   },
   {
    "duration": 20,
    "start_time": "2023-06-01T13:44:14.882Z"
   },
   {
    "duration": 37,
    "start_time": "2023-06-01T13:44:16.290Z"
   },
   {
    "duration": 51,
    "start_time": "2023-06-01T13:44:17.866Z"
   },
   {
    "duration": 5,
    "start_time": "2023-06-01T13:44:18.644Z"
   },
   {
    "duration": 7,
    "start_time": "2023-06-01T13:44:19.921Z"
   },
   {
    "duration": 7,
    "start_time": "2023-06-01T13:44:20.666Z"
   },
   {
    "duration": 11,
    "start_time": "2023-06-01T13:44:21.891Z"
   },
   {
    "duration": 4,
    "start_time": "2023-06-01T13:44:25.035Z"
   },
   {
    "duration": 4,
    "start_time": "2023-06-01T13:44:26.137Z"
   },
   {
    "duration": 8,
    "start_time": "2023-06-01T13:44:27.158Z"
   },
   {
    "duration": 18,
    "start_time": "2023-06-01T13:44:27.657Z"
   },
   {
    "duration": 7,
    "start_time": "2023-06-01T13:44:28.713Z"
   },
   {
    "duration": 4,
    "start_time": "2023-06-01T13:44:29.234Z"
   },
   {
    "duration": 13,
    "start_time": "2023-06-01T13:44:29.774Z"
   },
   {
    "duration": 7,
    "start_time": "2023-06-01T13:44:30.385Z"
   },
   {
    "duration": 10,
    "start_time": "2023-06-01T13:44:30.867Z"
   },
   {
    "duration": 30,
    "start_time": "2023-06-01T13:44:31.419Z"
   },
   {
    "duration": 11,
    "start_time": "2023-06-01T13:44:32.777Z"
   },
   {
    "duration": 1633,
    "start_time": "2023-06-01T13:44:38.345Z"
   },
   {
    "duration": 6,
    "start_time": "2023-06-01T13:44:45.472Z"
   },
   {
    "duration": 39158,
    "start_time": "2023-06-01T13:45:25.998Z"
   },
   {
    "duration": 40063,
    "start_time": "2023-06-01T13:46:32.908Z"
   },
   {
    "duration": 6,
    "start_time": "2023-06-01T13:47:20.330Z"
   },
   {
    "duration": 444,
    "start_time": "2023-06-01T13:49:21.771Z"
   },
   {
    "duration": 462,
    "start_time": "2023-06-01T13:49:29.846Z"
   },
   {
    "duration": 450,
    "start_time": "2023-06-01T13:49:36.282Z"
   },
   {
    "duration": 1014,
    "start_time": "2023-06-01T13:50:03.881Z"
   },
   {
    "duration": 982,
    "start_time": "2023-06-01T13:50:23.360Z"
   },
   {
    "duration": 981,
    "start_time": "2023-06-01T13:51:04.910Z"
   },
   {
    "duration": 1159,
    "start_time": "2023-06-01T13:51:29.581Z"
   },
   {
    "duration": 974,
    "start_time": "2023-06-01T13:51:38.554Z"
   },
   {
    "duration": 1100,
    "start_time": "2023-06-01T13:56:18.199Z"
   },
   {
    "duration": 1178,
    "start_time": "2023-06-01T13:56:59.862Z"
   },
   {
    "duration": 973,
    "start_time": "2023-06-01T13:57:24.692Z"
   },
   {
    "duration": 987,
    "start_time": "2023-06-01T13:57:40.306Z"
   },
   {
    "duration": 979,
    "start_time": "2023-06-01T13:57:46.138Z"
   },
   {
    "duration": 434,
    "start_time": "2023-06-01T13:59:11.728Z"
   },
   {
    "duration": 955,
    "start_time": "2023-06-01T13:59:27.494Z"
   },
   {
    "duration": 1074,
    "start_time": "2023-06-01T13:59:44.292Z"
   },
   {
    "duration": 935,
    "start_time": "2023-06-01T14:02:05.458Z"
   },
   {
    "duration": 1357,
    "start_time": "2023-06-01T14:04:44.658Z"
   },
   {
    "duration": 61,
    "start_time": "2023-06-01T14:04:46.016Z"
   },
   {
    "duration": 13,
    "start_time": "2023-06-01T14:04:46.079Z"
   },
   {
    "duration": 22,
    "start_time": "2023-06-01T14:04:46.966Z"
   },
   {
    "duration": 38,
    "start_time": "2023-06-01T14:04:47.858Z"
   },
   {
    "duration": 50,
    "start_time": "2023-06-01T14:04:51.670Z"
   },
   {
    "duration": 4,
    "start_time": "2023-06-01T14:04:52.019Z"
   },
   {
    "duration": 7,
    "start_time": "2023-06-01T14:04:52.771Z"
   },
   {
    "duration": 8,
    "start_time": "2023-06-01T14:04:53.198Z"
   },
   {
    "duration": 13,
    "start_time": "2023-06-01T14:04:54.004Z"
   },
   {
    "duration": 3,
    "start_time": "2023-06-01T14:04:56.082Z"
   },
   {
    "duration": 4,
    "start_time": "2023-06-01T14:04:56.888Z"
   },
   {
    "duration": 6,
    "start_time": "2023-06-01T14:04:57.701Z"
   },
   {
    "duration": 21,
    "start_time": "2023-06-01T14:04:58.093Z"
   },
   {
    "duration": 8,
    "start_time": "2023-06-01T14:04:58.958Z"
   },
   {
    "duration": 4,
    "start_time": "2023-06-01T14:04:59.362Z"
   },
   {
    "duration": 14,
    "start_time": "2023-06-01T14:04:59.746Z"
   },
   {
    "duration": 7,
    "start_time": "2023-06-01T14:05:00.162Z"
   },
   {
    "duration": 7,
    "start_time": "2023-06-01T14:05:00.493Z"
   },
   {
    "duration": 32,
    "start_time": "2023-06-01T14:05:00.813Z"
   },
   {
    "duration": 8,
    "start_time": "2023-06-01T14:05:01.562Z"
   },
   {
    "duration": 1569,
    "start_time": "2023-06-01T14:05:03.860Z"
   },
   {
    "duration": 6,
    "start_time": "2023-06-01T14:05:08.654Z"
   },
   {
    "duration": 38185,
    "start_time": "2023-06-01T14:05:15.226Z"
   },
   {
    "duration": 38923,
    "start_time": "2023-06-01T14:05:53.413Z"
   },
   {
    "duration": 6,
    "start_time": "2023-06-01T14:06:32.337Z"
   },
   {
    "duration": 965,
    "start_time": "2023-06-01T14:06:32.345Z"
   },
   {
    "duration": 987,
    "start_time": "2023-06-01T14:06:33.311Z"
   },
   {
    "duration": 1011,
    "start_time": "2023-06-01T14:06:34.300Z"
   },
   {
    "duration": 940,
    "start_time": "2023-06-01T14:06:35.313Z"
   },
   {
    "duration": 1367,
    "start_time": "2023-06-01T14:10:54.854Z"
   },
   {
    "duration": 48,
    "start_time": "2023-06-01T14:10:56.223Z"
   },
   {
    "duration": 13,
    "start_time": "2023-06-01T14:10:56.273Z"
   },
   {
    "duration": 20,
    "start_time": "2023-06-01T14:10:56.287Z"
   },
   {
    "duration": 37,
    "start_time": "2023-06-01T14:10:56.852Z"
   },
   {
    "duration": 50,
    "start_time": "2023-06-01T14:10:57.611Z"
   },
   {
    "duration": 4,
    "start_time": "2023-06-01T14:10:58.052Z"
   },
   {
    "duration": 8,
    "start_time": "2023-06-01T14:10:58.875Z"
   },
   {
    "duration": 8,
    "start_time": "2023-06-01T14:10:59.149Z"
   },
   {
    "duration": 12,
    "start_time": "2023-06-01T14:10:59.558Z"
   },
   {
    "duration": 4,
    "start_time": "2023-06-01T14:11:00.915Z"
   },
   {
    "duration": 4,
    "start_time": "2023-06-01T14:11:01.386Z"
   },
   {
    "duration": 7,
    "start_time": "2023-06-01T14:11:01.859Z"
   },
   {
    "duration": 19,
    "start_time": "2023-06-01T14:11:02.059Z"
   },
   {
    "duration": 3,
    "start_time": "2023-06-01T14:11:02.463Z"
   },
   {
    "duration": 118,
    "start_time": "2023-06-01T14:11:02.674Z"
   },
   {
    "duration": 10,
    "start_time": "2023-06-01T14:11:26.962Z"
   },
   {
    "duration": 10,
    "start_time": "2023-06-01T14:11:28.489Z"
   },
   {
    "duration": 9,
    "start_time": "2023-06-01T14:12:06.415Z"
   },
   {
    "duration": 10,
    "start_time": "2023-06-01T14:12:08.215Z"
   },
   {
    "duration": 7,
    "start_time": "2023-06-01T14:12:08.991Z"
   },
   {
    "duration": 32,
    "start_time": "2023-06-01T14:12:09.541Z"
   },
   {
    "duration": 9,
    "start_time": "2023-06-01T14:12:20.462Z"
   },
   {
    "duration": 1545,
    "start_time": "2023-06-01T14:12:21.968Z"
   },
   {
    "duration": 5,
    "start_time": "2023-06-01T14:12:23.517Z"
   },
   {
    "duration": 38131,
    "start_time": "2023-06-01T14:12:23.523Z"
   },
   {
    "duration": 41089,
    "start_time": "2023-06-01T14:13:01.656Z"
   },
   {
    "duration": 5,
    "start_time": "2023-06-01T14:13:42.746Z"
   },
   {
    "duration": 930,
    "start_time": "2023-06-01T14:13:42.752Z"
   },
   {
    "duration": 7,
    "start_time": "2023-06-01T14:14:25.016Z"
   },
   {
    "duration": 4,
    "start_time": "2023-06-01T14:14:25.669Z"
   },
   {
    "duration": 14,
    "start_time": "2023-06-01T14:14:26.446Z"
   },
   {
    "duration": 7,
    "start_time": "2023-06-01T14:14:33.104Z"
   },
   {
    "duration": 8,
    "start_time": "2023-06-01T14:14:44.966Z"
   },
   {
    "duration": 30,
    "start_time": "2023-06-01T14:14:45.489Z"
   },
   {
    "duration": 1388,
    "start_time": "2023-06-01T14:15:36.032Z"
   },
   {
    "duration": 51,
    "start_time": "2023-06-01T14:15:37.422Z"
   },
   {
    "duration": 14,
    "start_time": "2023-06-01T14:15:37.475Z"
   },
   {
    "duration": 20,
    "start_time": "2023-06-01T14:15:38.970Z"
   },
   {
    "duration": 37,
    "start_time": "2023-06-01T14:15:39.954Z"
   },
   {
    "duration": 51,
    "start_time": "2023-06-01T14:15:41.321Z"
   },
   {
    "duration": 4,
    "start_time": "2023-06-01T14:15:45.240Z"
   },
   {
    "duration": 8,
    "start_time": "2023-06-01T14:15:54.328Z"
   },
   {
    "duration": 7,
    "start_time": "2023-06-01T14:15:55.009Z"
   },
   {
    "duration": 12,
    "start_time": "2023-06-01T14:15:55.938Z"
   },
   {
    "duration": 5,
    "start_time": "2023-06-01T14:15:59.213Z"
   },
   {
    "duration": 4,
    "start_time": "2023-06-01T14:15:59.808Z"
   },
   {
    "duration": 8,
    "start_time": "2023-06-01T14:16:01.057Z"
   },
   {
    "duration": 18,
    "start_time": "2023-06-01T14:16:01.400Z"
   },
   {
    "duration": 8,
    "start_time": "2023-06-01T14:16:02.176Z"
   },
   {
    "duration": 4,
    "start_time": "2023-06-01T14:16:03.522Z"
   },
   {
    "duration": 15,
    "start_time": "2023-06-01T14:16:03.975Z"
   },
   {
    "duration": 9,
    "start_time": "2023-06-01T14:16:04.513Z"
   },
   {
    "duration": 8,
    "start_time": "2023-06-01T14:16:05.008Z"
   },
   {
    "duration": 29,
    "start_time": "2023-06-01T14:16:05.452Z"
   },
   {
    "duration": 7,
    "start_time": "2023-06-01T14:16:12.280Z"
   },
   {
    "duration": 947,
    "start_time": "2023-06-01T14:16:28.320Z"
   },
   {
    "duration": 7,
    "start_time": "2023-06-01T14:16:51.255Z"
   },
   {
    "duration": 1454,
    "start_time": "2023-06-01T14:17:22.357Z"
   },
   {
    "duration": 49,
    "start_time": "2023-06-01T14:17:23.813Z"
   },
   {
    "duration": 13,
    "start_time": "2023-06-01T14:17:23.864Z"
   },
   {
    "duration": 26,
    "start_time": "2023-06-01T14:17:23.879Z"
   },
   {
    "duration": 36,
    "start_time": "2023-06-01T14:17:23.906Z"
   },
   {
    "duration": 49,
    "start_time": "2023-06-01T14:17:24.057Z"
   },
   {
    "duration": 5,
    "start_time": "2023-06-01T14:17:24.763Z"
   },
   {
    "duration": 6,
    "start_time": "2023-06-01T14:17:25.995Z"
   },
   {
    "duration": 8,
    "start_time": "2023-06-01T14:17:26.563Z"
   },
   {
    "duration": 11,
    "start_time": "2023-06-01T14:17:28.970Z"
   },
   {
    "duration": 3,
    "start_time": "2023-06-01T14:18:08.612Z"
   },
   {
    "duration": 4,
    "start_time": "2023-06-01T14:18:09.438Z"
   },
   {
    "duration": 6,
    "start_time": "2023-06-01T14:18:10.281Z"
   },
   {
    "duration": 22,
    "start_time": "2023-06-01T14:18:10.846Z"
   },
   {
    "duration": 8,
    "start_time": "2023-06-01T14:18:12.044Z"
   },
   {
    "duration": 5,
    "start_time": "2023-06-01T14:18:12.416Z"
   },
   {
    "duration": 15,
    "start_time": "2023-06-01T14:18:12.984Z"
   },
   {
    "duration": 8,
    "start_time": "2023-06-01T14:18:13.472Z"
   },
   {
    "duration": 8,
    "start_time": "2023-06-01T14:18:13.894Z"
   },
   {
    "duration": 31,
    "start_time": "2023-06-01T14:18:16.791Z"
   },
   {
    "duration": 8,
    "start_time": "2023-06-01T14:18:18.080Z"
   },
   {
    "duration": 929,
    "start_time": "2023-06-01T14:18:36.814Z"
   },
   {
    "duration": 974,
    "start_time": "2023-06-01T14:20:33.877Z"
   },
   {
    "duration": 1119,
    "start_time": "2023-06-01T14:21:01.608Z"
   },
   {
    "duration": 456,
    "start_time": "2023-06-01T14:21:20.478Z"
   },
   {
    "duration": 36982,
    "start_time": "2023-06-01T14:24:05.614Z"
   },
   {
    "duration": 102,
    "start_time": "2023-06-01T14:26:17.208Z"
   },
   {
    "duration": 948,
    "start_time": "2023-06-01T14:26:39.519Z"
   },
   {
    "duration": 1420,
    "start_time": "2023-06-01T14:30:14.102Z"
   },
   {
    "duration": 49,
    "start_time": "2023-06-01T14:30:15.524Z"
   },
   {
    "duration": 12,
    "start_time": "2023-06-01T14:30:15.575Z"
   },
   {
    "duration": 20,
    "start_time": "2023-06-01T14:30:15.590Z"
   },
   {
    "duration": 37,
    "start_time": "2023-06-01T14:30:16.060Z"
   },
   {
    "duration": 51,
    "start_time": "2023-06-01T14:30:16.612Z"
   },
   {
    "duration": 5,
    "start_time": "2023-06-01T14:30:16.868Z"
   },
   {
    "duration": 7,
    "start_time": "2023-06-01T14:30:17.486Z"
   },
   {
    "duration": 8,
    "start_time": "2023-06-01T14:30:17.774Z"
   },
   {
    "duration": 12,
    "start_time": "2023-06-01T14:30:18.387Z"
   },
   {
    "duration": 4,
    "start_time": "2023-06-01T14:30:19.791Z"
   },
   {
    "duration": 5,
    "start_time": "2023-06-01T14:30:20.486Z"
   },
   {
    "duration": 7,
    "start_time": "2023-06-01T14:30:21.088Z"
   },
   {
    "duration": 19,
    "start_time": "2023-06-01T14:30:21.356Z"
   },
   {
    "duration": 2,
    "start_time": "2023-06-01T14:30:21.995Z"
   },
   {
    "duration": 8,
    "start_time": "2023-06-01T14:30:22.288Z"
   },
   {
    "duration": 3,
    "start_time": "2023-06-01T14:30:22.684Z"
   },
   {
    "duration": 14,
    "start_time": "2023-06-01T14:30:22.923Z"
   },
   {
    "duration": 8,
    "start_time": "2023-06-01T14:30:23.157Z"
   },
   {
    "duration": 8,
    "start_time": "2023-06-01T14:30:23.390Z"
   },
   {
    "duration": 32,
    "start_time": "2023-06-01T14:30:23.590Z"
   },
   {
    "duration": 8,
    "start_time": "2023-06-01T14:30:24.107Z"
   },
   {
    "duration": 1752,
    "start_time": "2023-06-01T14:30:25.459Z"
   },
   {
    "duration": 1068,
    "start_time": "2023-06-01T14:30:40.482Z"
   },
   {
    "duration": 1375,
    "start_time": "2023-06-01T14:33:02.827Z"
   },
   {
    "duration": 50,
    "start_time": "2023-06-01T14:33:04.203Z"
   },
   {
    "duration": 12,
    "start_time": "2023-06-01T14:33:04.254Z"
   },
   {
    "duration": 33,
    "start_time": "2023-06-01T14:33:04.268Z"
   },
   {
    "duration": 39,
    "start_time": "2023-06-01T14:33:04.303Z"
   },
   {
    "duration": 49,
    "start_time": "2023-06-01T14:33:04.703Z"
   },
   {
    "duration": 5,
    "start_time": "2023-06-01T14:33:05.369Z"
   },
   {
    "duration": 8,
    "start_time": "2023-06-01T14:33:06.559Z"
   },
   {
    "duration": 9,
    "start_time": "2023-06-01T14:33:06.990Z"
   },
   {
    "duration": 13,
    "start_time": "2023-06-01T14:33:07.726Z"
   },
   {
    "duration": 4,
    "start_time": "2023-06-01T14:33:09.694Z"
   },
   {
    "duration": 4,
    "start_time": "2023-06-01T14:33:10.503Z"
   },
   {
    "duration": 8,
    "start_time": "2023-06-01T14:33:11.414Z"
   },
   {
    "duration": 18,
    "start_time": "2023-06-01T14:33:12.023Z"
   },
   {
    "duration": 2,
    "start_time": "2023-06-01T14:33:18.350Z"
   },
   {
    "duration": 8,
    "start_time": "2023-06-01T14:33:19.326Z"
   },
   {
    "duration": 3,
    "start_time": "2023-06-01T14:33:22.277Z"
   },
   {
    "duration": 17,
    "start_time": "2023-06-01T14:33:22.998Z"
   },
   {
    "duration": 8,
    "start_time": "2023-06-01T14:33:23.519Z"
   },
   {
    "duration": 7,
    "start_time": "2023-06-01T14:33:35.659Z"
   },
   {
    "duration": 26,
    "start_time": "2023-06-01T14:33:36.326Z"
   },
   {
    "duration": 7,
    "start_time": "2023-06-01T14:33:38.190Z"
   },
   {
    "duration": 697,
    "start_time": "2023-06-01T14:33:51.189Z"
   },
   {
    "duration": 8,
    "start_time": "2023-06-01T14:34:17.878Z"
   },
   {
    "duration": 3,
    "start_time": "2023-06-01T14:34:18.890Z"
   },
   {
    "duration": 13,
    "start_time": "2023-06-01T14:34:19.177Z"
   },
   {
    "duration": 7,
    "start_time": "2023-06-01T14:34:19.395Z"
   },
   {
    "duration": 8,
    "start_time": "2023-06-01T14:34:19.603Z"
   },
   {
    "duration": 30,
    "start_time": "2023-06-01T14:34:19.850Z"
   },
   {
    "duration": 7,
    "start_time": "2023-06-01T14:34:20.250Z"
   },
   {
    "duration": 1180,
    "start_time": "2023-06-01T14:34:27.658Z"
   },
   {
    "duration": 7,
    "start_time": "2023-06-01T14:35:01.485Z"
   },
   {
    "duration": 5,
    "start_time": "2023-06-01T14:35:02.017Z"
   },
   {
    "duration": 27,
    "start_time": "2023-06-01T14:36:51.421Z"
   },
   {
    "duration": 1404,
    "start_time": "2023-06-01T14:37:15.590Z"
   },
   {
    "duration": 57,
    "start_time": "2023-06-01T14:37:16.996Z"
   },
   {
    "duration": 14,
    "start_time": "2023-06-01T14:37:17.923Z"
   },
   {
    "duration": 22,
    "start_time": "2023-06-01T14:37:19.179Z"
   },
   {
    "duration": 38,
    "start_time": "2023-06-01T14:37:20.372Z"
   },
   {
    "duration": 55,
    "start_time": "2023-06-01T14:37:22.627Z"
   },
   {
    "duration": 4,
    "start_time": "2023-06-01T14:37:28.026Z"
   },
   {
    "duration": 7,
    "start_time": "2023-06-01T14:37:29.106Z"
   },
   {
    "duration": 9,
    "start_time": "2023-06-01T14:37:30.706Z"
   },
   {
    "duration": 11,
    "start_time": "2023-06-01T14:37:32.879Z"
   },
   {
    "duration": 4,
    "start_time": "2023-06-01T14:37:38.565Z"
   },
   {
    "duration": 4,
    "start_time": "2023-06-01T14:38:09.497Z"
   },
   {
    "duration": 7,
    "start_time": "2023-06-01T14:38:10.424Z"
   },
   {
    "duration": 18,
    "start_time": "2023-06-01T14:38:14.166Z"
   },
   {
    "duration": 8,
    "start_time": "2023-06-01T14:38:15.785Z"
   },
   {
    "duration": 3,
    "start_time": "2023-06-01T14:38:16.466Z"
   },
   {
    "duration": 14,
    "start_time": "2023-06-01T14:38:17.108Z"
   },
   {
    "duration": 7,
    "start_time": "2023-06-01T14:38:17.462Z"
   },
   {
    "duration": 7,
    "start_time": "2023-06-01T14:38:17.792Z"
   },
   {
    "duration": 2,
    "start_time": "2023-06-01T14:38:18.454Z"
   },
   {
    "duration": 28,
    "start_time": "2023-06-01T14:38:21.871Z"
   },
   {
    "duration": 7,
    "start_time": "2023-06-01T14:38:25.150Z"
   },
   {
    "duration": 997,
    "start_time": "2023-06-01T14:38:34.066Z"
   },
   {
    "duration": 1386,
    "start_time": "2023-06-01T14:39:44.978Z"
   },
   {
    "duration": 50,
    "start_time": "2023-06-01T14:39:46.366Z"
   },
   {
    "duration": 12,
    "start_time": "2023-06-01T14:39:46.418Z"
   },
   {
    "duration": 19,
    "start_time": "2023-06-01T14:39:48.311Z"
   },
   {
    "duration": 38,
    "start_time": "2023-06-01T14:39:50.071Z"
   },
   {
    "duration": 55,
    "start_time": "2023-06-01T14:39:50.918Z"
   },
   {
    "duration": 4,
    "start_time": "2023-06-01T14:39:51.183Z"
   },
   {
    "duration": 6,
    "start_time": "2023-06-01T14:39:52.354Z"
   },
   {
    "duration": 8,
    "start_time": "2023-06-01T14:39:52.858Z"
   },
   {
    "duration": 12,
    "start_time": "2023-06-01T14:39:54.014Z"
   },
   {
    "duration": 4,
    "start_time": "2023-06-01T14:39:55.894Z"
   },
   {
    "duration": 4,
    "start_time": "2023-06-01T14:39:56.959Z"
   },
   {
    "duration": 4,
    "start_time": "2023-06-01T14:39:57.590Z"
   },
   {
    "duration": 7,
    "start_time": "2023-06-01T14:40:00.078Z"
   },
   {
    "duration": 30,
    "start_time": "2023-06-01T14:40:00.486Z"
   },
   {
    "duration": 10,
    "start_time": "2023-06-01T14:40:02.262Z"
   },
   {
    "duration": 5,
    "start_time": "2023-06-01T14:40:03.709Z"
   },
   {
    "duration": 15,
    "start_time": "2023-06-01T14:40:04.257Z"
   },
   {
    "duration": 8,
    "start_time": "2023-06-01T14:40:04.614Z"
   },
   {
    "duration": 8,
    "start_time": "2023-06-01T14:40:04.874Z"
   },
   {
    "duration": 2,
    "start_time": "2023-06-01T14:40:05.849Z"
   },
   {
    "duration": 29,
    "start_time": "2023-06-01T14:40:06.461Z"
   },
   {
    "duration": 7,
    "start_time": "2023-06-01T14:40:09.174Z"
   },
   {
    "duration": 854,
    "start_time": "2023-06-01T14:40:17.364Z"
   },
   {
    "duration": 5,
    "start_time": "2023-06-01T14:41:04.002Z"
   },
   {
    "duration": 47,
    "start_time": "2023-06-01T14:41:04.483Z"
   },
   {
    "duration": 13,
    "start_time": "2023-06-01T14:41:05.579Z"
   },
   {
    "duration": 17,
    "start_time": "2023-06-01T14:41:06.674Z"
   },
   {
    "duration": 37,
    "start_time": "2023-06-01T14:41:07.988Z"
   },
   {
    "duration": 13,
    "start_time": "2023-06-01T14:41:09.386Z"
   },
   {
    "duration": 5,
    "start_time": "2023-06-01T14:41:09.863Z"
   },
   {
    "duration": 11,
    "start_time": "2023-06-01T14:41:10.872Z"
   },
   {
    "duration": 9,
    "start_time": "2023-06-01T14:41:11.550Z"
   },
   {
    "duration": 11,
    "start_time": "2023-06-01T14:41:12.558Z"
   },
   {
    "duration": 5,
    "start_time": "2023-06-01T14:41:14.869Z"
   },
   {
    "duration": 4,
    "start_time": "2023-06-01T14:41:15.860Z"
   },
   {
    "duration": 6,
    "start_time": "2023-06-01T14:41:16.760Z"
   },
   {
    "duration": 18,
    "start_time": "2023-06-01T14:41:17.186Z"
   },
   {
    "duration": 8,
    "start_time": "2023-06-01T14:41:18.160Z"
   },
   {
    "duration": 4,
    "start_time": "2023-06-01T14:41:18.658Z"
   },
   {
    "duration": 20,
    "start_time": "2023-06-01T14:41:19.186Z"
   },
   {
    "duration": 8,
    "start_time": "2023-06-01T14:41:19.677Z"
   },
   {
    "duration": 9,
    "start_time": "2023-06-01T14:41:20.106Z"
   },
   {
    "duration": 29,
    "start_time": "2023-06-01T14:41:20.682Z"
   },
   {
    "duration": 7,
    "start_time": "2023-06-01T14:41:21.922Z"
   },
   {
    "duration": 1591,
    "start_time": "2023-06-01T14:41:23.403Z"
   },
   {
    "duration": 948,
    "start_time": "2023-06-01T14:41:34.993Z"
   },
   {
    "duration": 1008,
    "start_time": "2023-06-01T14:41:49.058Z"
   },
   {
    "duration": 132,
    "start_time": "2023-06-01T14:48:38.561Z"
   },
   {
    "duration": 33,
    "start_time": "2023-06-01T14:48:56.228Z"
   },
   {
    "duration": 45,
    "start_time": "2023-06-01T14:49:34.418Z"
   },
   {
    "duration": 573,
    "start_time": "2023-06-01T14:52:19.985Z"
   },
   {
    "duration": 962,
    "start_time": "2023-06-01T14:53:09.978Z"
   },
   {
    "duration": 35,
    "start_time": "2023-06-01T14:57:31.889Z"
   },
   {
    "duration": 13,
    "start_time": "2023-06-01T14:58:34.053Z"
   },
   {
    "duration": 37,
    "start_time": "2023-06-01T14:59:37.681Z"
   },
   {
    "duration": 12,
    "start_time": "2023-06-01T14:59:39.994Z"
   },
   {
    "duration": 1441,
    "start_time": "2023-06-01T15:00:09.754Z"
   },
   {
    "duration": 50,
    "start_time": "2023-06-01T15:00:11.197Z"
   },
   {
    "duration": 24,
    "start_time": "2023-06-01T15:00:11.249Z"
   },
   {
    "duration": 49,
    "start_time": "2023-06-01T15:00:11.275Z"
   },
   {
    "duration": 41,
    "start_time": "2023-06-01T15:00:11.326Z"
   },
   {
    "duration": 50,
    "start_time": "2023-06-01T15:00:11.664Z"
   },
   {
    "duration": 5,
    "start_time": "2023-06-01T15:00:12.078Z"
   },
   {
    "duration": 7,
    "start_time": "2023-06-01T15:00:12.510Z"
   },
   {
    "duration": 8,
    "start_time": "2023-06-01T15:00:12.711Z"
   },
   {
    "duration": 13,
    "start_time": "2023-06-01T15:00:13.182Z"
   },
   {
    "duration": 4,
    "start_time": "2023-06-01T15:00:14.510Z"
   },
   {
    "duration": 5,
    "start_time": "2023-06-01T15:00:15.178Z"
   },
   {
    "duration": 8,
    "start_time": "2023-06-01T15:00:15.614Z"
   },
   {
    "duration": 19,
    "start_time": "2023-06-01T15:00:15.823Z"
   },
   {
    "duration": 8,
    "start_time": "2023-06-01T15:00:16.294Z"
   },
   {
    "duration": 4,
    "start_time": "2023-06-01T15:00:16.563Z"
   },
   {
    "duration": 15,
    "start_time": "2023-06-01T15:00:16.806Z"
   },
   {
    "duration": 7,
    "start_time": "2023-06-01T15:00:17.262Z"
   },
   {
    "duration": 8,
    "start_time": "2023-06-01T15:00:17.476Z"
   },
   {
    "duration": 39,
    "start_time": "2023-06-01T15:00:17.780Z"
   },
   {
    "duration": 9,
    "start_time": "2023-06-01T15:00:18.702Z"
   },
   {
    "duration": 1612,
    "start_time": "2023-06-01T15:00:20.058Z"
   },
   {
    "duration": 5,
    "start_time": "2023-06-01T15:00:21.672Z"
   },
   {
    "duration": 38813,
    "start_time": "2023-06-01T15:00:21.679Z"
   },
   {
    "duration": 1000,
    "start_time": "2023-06-01T15:01:33.243Z"
   },
   {
    "duration": 128,
    "start_time": "2023-06-01T15:05:19.879Z"
   },
   {
    "duration": 4,
    "start_time": "2023-06-01T15:06:11.581Z"
   },
   {
    "duration": 10,
    "start_time": "2023-06-01T15:06:17.485Z"
   },
   {
    "duration": 5,
    "start_time": "2023-06-01T15:06:27.387Z"
   },
   {
    "duration": 4,
    "start_time": "2023-06-01T15:08:45.381Z"
   },
   {
    "duration": 9,
    "start_time": "2023-06-01T15:08:50.828Z"
   },
   {
    "duration": 191,
    "start_time": "2023-06-01T15:08:52.758Z"
   },
   {
    "duration": 5,
    "start_time": "2023-06-01T15:12:19.157Z"
   },
   {
    "duration": 9,
    "start_time": "2023-06-01T15:12:28.282Z"
   },
   {
    "duration": 1598,
    "start_time": "2023-06-01T19:23:01.592Z"
   },
   {
    "duration": 163,
    "start_time": "2023-06-01T19:23:03.193Z"
   },
   {
    "duration": 18,
    "start_time": "2023-06-01T19:23:33.955Z"
   },
   {
    "duration": 23,
    "start_time": "2023-06-01T19:23:40.233Z"
   },
   {
    "duration": 43,
    "start_time": "2023-06-01T19:23:53.548Z"
   },
   {
    "duration": 52,
    "start_time": "2023-06-01T19:24:25.887Z"
   },
   {
    "duration": 6,
    "start_time": "2023-06-01T19:24:29.584Z"
   },
   {
    "duration": 10,
    "start_time": "2023-06-01T19:24:42.380Z"
   },
   {
    "duration": 10,
    "start_time": "2023-06-01T19:24:43.600Z"
   },
   {
    "duration": 1532,
    "start_time": "2023-06-01T19:26:11.946Z"
   },
   {
    "duration": 50,
    "start_time": "2023-06-01T19:26:13.480Z"
   },
   {
    "duration": 17,
    "start_time": "2023-06-01T19:26:13.955Z"
   },
   {
    "duration": 28,
    "start_time": "2023-06-01T19:26:15.519Z"
   },
   {
    "duration": 43,
    "start_time": "2023-06-01T19:26:18.340Z"
   },
   {
    "duration": 58,
    "start_time": "2023-06-01T19:26:19.748Z"
   },
   {
    "duration": 5,
    "start_time": "2023-06-01T19:26:22.883Z"
   },
   {
    "duration": 8,
    "start_time": "2023-06-01T19:26:26.658Z"
   },
   {
    "duration": 11,
    "start_time": "2023-06-01T19:26:27.862Z"
   },
   {
    "duration": 17,
    "start_time": "2023-06-01T19:28:31.307Z"
   },
   {
    "duration": 4,
    "start_time": "2023-06-01T19:29:27.091Z"
   },
   {
    "duration": 5,
    "start_time": "2023-06-01T19:29:30.486Z"
   },
   {
    "duration": 9,
    "start_time": "2023-06-01T19:29:31.754Z"
   },
   {
    "duration": 17,
    "start_time": "2023-06-01T19:29:36.408Z"
   },
   {
    "duration": 10,
    "start_time": "2023-06-01T19:29:42.143Z"
   },
   {
    "duration": 4,
    "start_time": "2023-06-01T19:29:47.819Z"
   },
   {
    "duration": 16,
    "start_time": "2023-06-01T19:29:56.599Z"
   },
   {
    "duration": 7,
    "start_time": "2023-06-01T19:30:00.472Z"
   },
   {
    "duration": 9,
    "start_time": "2023-06-01T19:30:01.443Z"
   },
   {
    "duration": 45,
    "start_time": "2023-06-01T19:30:05.043Z"
   },
   {
    "duration": 12,
    "start_time": "2023-06-01T19:33:09.884Z"
   },
   {
    "duration": 1466,
    "start_time": "2023-06-01T19:35:12.826Z"
   },
   {
    "duration": 6,
    "start_time": "2023-06-01T19:35:34.861Z"
   },
   {
    "duration": 36338,
    "start_time": "2023-06-01T19:40:19.002Z"
   },
   {
    "duration": 29856,
    "start_time": "2023-06-01T19:42:39.774Z"
   },
   {
    "duration": 6,
    "start_time": "2023-06-01T19:43:25.960Z"
   },
   {
    "duration": 725,
    "start_time": "2023-06-01T19:46:07.877Z"
   },
   {
    "duration": 809,
    "start_time": "2023-06-01T19:46:39.070Z"
   },
   {
    "duration": 741,
    "start_time": "2023-06-01T19:47:04.544Z"
   },
   {
    "duration": 831,
    "start_time": "2023-06-01T19:54:20.256Z"
   },
   {
    "duration": 144,
    "start_time": "2023-06-01T19:59:03.981Z"
   },
   {
    "duration": 151,
    "start_time": "2023-06-01T19:59:27.466Z"
   },
   {
    "duration": 145,
    "start_time": "2023-06-01T20:01:16.948Z"
   },
   {
    "duration": 12,
    "start_time": "2023-06-01T20:10:28.396Z"
   },
   {
    "duration": 207,
    "start_time": "2023-06-01T20:11:04.399Z"
   },
   {
    "duration": 199,
    "start_time": "2023-06-01T20:22:04.378Z"
   },
   {
    "duration": 1309,
    "start_time": "2023-06-01T20:59:56.344Z"
   },
   {
    "duration": 73,
    "start_time": "2023-06-01T20:59:57.656Z"
   },
   {
    "duration": 22,
    "start_time": "2023-06-01T20:59:57.731Z"
   },
   {
    "duration": 41,
    "start_time": "2023-06-01T20:59:57.755Z"
   },
   {
    "duration": 62,
    "start_time": "2023-06-01T20:59:57.803Z"
   },
   {
    "duration": 66,
    "start_time": "2023-06-01T20:59:57.867Z"
   },
   {
    "duration": 5,
    "start_time": "2023-06-01T20:59:57.934Z"
   },
   {
    "duration": 8,
    "start_time": "2023-06-01T20:59:57.941Z"
   },
   {
    "duration": 50,
    "start_time": "2023-06-01T20:59:57.951Z"
   },
   {
    "duration": 17,
    "start_time": "2023-06-01T20:59:58.003Z"
   },
   {
    "duration": 5,
    "start_time": "2023-06-01T20:59:58.022Z"
   },
   {
    "duration": 6,
    "start_time": "2023-06-01T20:59:58.029Z"
   },
   {
    "duration": 9,
    "start_time": "2023-06-01T20:59:58.036Z"
   },
   {
    "duration": 45,
    "start_time": "2023-06-01T20:59:58.047Z"
   },
   {
    "duration": 10,
    "start_time": "2023-06-01T20:59:58.102Z"
   },
   {
    "duration": 12,
    "start_time": "2023-06-01T20:59:58.114Z"
   },
   {
    "duration": 19,
    "start_time": "2023-06-01T20:59:58.128Z"
   },
   {
    "duration": 8,
    "start_time": "2023-06-01T20:59:58.149Z"
   },
   {
    "duration": 25,
    "start_time": "2023-06-01T20:59:58.159Z"
   },
   {
    "duration": 55,
    "start_time": "2023-06-01T20:59:58.186Z"
   },
   {
    "duration": 8,
    "start_time": "2023-06-01T20:59:58.243Z"
   },
   {
    "duration": 1567,
    "start_time": "2023-06-01T20:59:58.253Z"
   },
   {
    "duration": 5,
    "start_time": "2023-06-01T20:59:59.822Z"
   },
   {
    "duration": 44307,
    "start_time": "2023-06-01T20:59:59.828Z"
   },
   {
    "duration": 32681,
    "start_time": "2023-06-01T21:00:44.138Z"
   },
   {
    "duration": 6,
    "start_time": "2023-06-01T21:01:16.821Z"
   },
   {
    "duration": 859,
    "start_time": "2023-06-01T21:01:16.829Z"
   },
   {
    "duration": 860,
    "start_time": "2023-06-01T21:01:17.690Z"
   },
   {
    "duration": 811,
    "start_time": "2023-06-01T21:01:18.552Z"
   },
   {
    "duration": 817,
    "start_time": "2023-06-01T21:01:19.364Z"
   },
   {
    "duration": 173,
    "start_time": "2023-06-01T21:01:20.187Z"
   },
   {
    "duration": 288,
    "start_time": "2023-06-01T21:01:20.362Z"
   },
   {
    "duration": 6,
    "start_time": "2023-06-01T21:22:53.105Z"
   },
   {
    "duration": 50,
    "start_time": "2023-06-01T21:22:53.112Z"
   },
   {
    "duration": 22,
    "start_time": "2023-06-01T21:22:53.164Z"
   },
   {
    "duration": 28,
    "start_time": "2023-06-01T21:22:53.188Z"
   },
   {
    "duration": 45,
    "start_time": "2023-06-01T21:22:53.218Z"
   },
   {
    "duration": 24,
    "start_time": "2023-06-01T21:22:53.277Z"
   },
   {
    "duration": 19,
    "start_time": "2023-06-01T21:22:53.303Z"
   },
   {
    "duration": 28,
    "start_time": "2023-06-01T21:22:53.324Z"
   },
   {
    "duration": 37,
    "start_time": "2023-06-01T21:22:53.353Z"
   },
   {
    "duration": 12,
    "start_time": "2023-06-01T21:22:53.396Z"
   },
   {
    "duration": 4,
    "start_time": "2023-06-01T21:22:53.410Z"
   },
   {
    "duration": 7,
    "start_time": "2023-06-01T21:22:53.416Z"
   },
   {
    "duration": 16,
    "start_time": "2023-06-01T21:22:53.425Z"
   },
   {
    "duration": 43,
    "start_time": "2023-06-01T21:22:53.443Z"
   },
   {
    "duration": 9,
    "start_time": "2023-06-01T21:22:53.488Z"
   },
   {
    "duration": 4,
    "start_time": "2023-06-01T21:22:53.499Z"
   },
   {
    "duration": 18,
    "start_time": "2023-06-01T21:22:53.505Z"
   },
   {
    "duration": 8,
    "start_time": "2023-06-01T21:22:53.526Z"
   },
   {
    "duration": 39,
    "start_time": "2023-06-01T21:22:53.536Z"
   },
   {
    "duration": 50,
    "start_time": "2023-06-01T21:22:53.578Z"
   },
   {
    "duration": 1578,
    "start_time": "2023-06-02T06:38:57.541Z"
   },
   {
    "duration": 168,
    "start_time": "2023-06-02T06:39:00.802Z"
   },
   {
    "duration": 112,
    "start_time": "2023-06-02T06:39:09.975Z"
   },
   {
    "duration": 8,
    "start_time": "2023-06-02T06:39:24.775Z"
   },
   {
    "duration": 12,
    "start_time": "2023-06-02T06:39:37.956Z"
   },
   {
    "duration": 5,
    "start_time": "2023-06-02T06:40:24.039Z"
   },
   {
    "duration": 17,
    "start_time": "2023-06-02T06:40:30.145Z"
   },
   {
    "duration": 55,
    "start_time": "2023-06-02T06:41:12.019Z"
   },
   {
    "duration": 3,
    "start_time": "2023-06-02T06:41:25.284Z"
   },
   {
    "duration": 24,
    "start_time": "2023-06-02T06:47:30.959Z"
   },
   {
    "duration": 43,
    "start_time": "2023-06-02T06:47:32.772Z"
   },
   {
    "duration": 76,
    "start_time": "2023-06-02T06:47:44.834Z"
   },
   {
    "duration": 54,
    "start_time": "2023-06-02T06:48:42.252Z"
   },
   {
    "duration": 42,
    "start_time": "2023-06-02T06:48:57.167Z"
   },
   {
    "duration": 11,
    "start_time": "2023-06-02T07:20:02.440Z"
   },
   {
    "duration": 52,
    "start_time": "2023-06-02T07:20:17.947Z"
   },
   {
    "duration": 6,
    "start_time": "2023-06-02T07:20:18.160Z"
   },
   {
    "duration": 7,
    "start_time": "2023-06-02T07:20:19.302Z"
   },
   {
    "duration": 10,
    "start_time": "2023-06-02T07:20:20.173Z"
   },
   {
    "duration": 12,
    "start_time": "2023-06-02T07:20:20.937Z"
   },
   {
    "duration": 5,
    "start_time": "2023-06-02T07:20:23.136Z"
   },
   {
    "duration": 5,
    "start_time": "2023-06-02T07:20:23.912Z"
   },
   {
    "duration": 4,
    "start_time": "2023-06-02T07:20:24.950Z"
   },
   {
    "duration": 7,
    "start_time": "2023-06-02T07:20:27.869Z"
   },
   {
    "duration": 20,
    "start_time": "2023-06-02T07:20:28.781Z"
   },
   {
    "duration": 8,
    "start_time": "2023-06-02T07:20:32.205Z"
   },
   {
    "duration": 4,
    "start_time": "2023-06-02T07:20:38.853Z"
   },
   {
    "duration": 17,
    "start_time": "2023-06-02T07:20:42.101Z"
   },
   {
    "duration": 7,
    "start_time": "2023-06-02T07:20:55.371Z"
   },
   {
    "duration": 13,
    "start_time": "2023-06-02T07:20:57.126Z"
   },
   {
    "duration": 27,
    "start_time": "2023-06-02T07:21:41.490Z"
   },
   {
    "duration": 49,
    "start_time": "2023-06-02T07:30:10.363Z"
   },
   {
    "duration": 214878,
    "start_time": "2023-06-02T07:31:19.197Z"
   },
   {
    "duration": 25,
    "start_time": "2023-06-02T07:44:30.909Z"
   },
   {
    "duration": 1228,
    "start_time": "2023-06-02T07:47:44.652Z"
   },
   {
    "duration": 6461,
    "start_time": "2023-06-02T08:19:53.721Z"
   },
   {
    "duration": 7,
    "start_time": "2023-06-02T08:23:43.049Z"
   },
   {
    "duration": 1157,
    "start_time": "2023-06-02T08:23:59.369Z"
   },
   {
    "duration": 868,
    "start_time": "2023-06-02T08:25:10.355Z"
   },
   {
    "duration": 1379,
    "start_time": "2023-06-02T08:28:58.796Z"
   },
   {
    "duration": 283705,
    "start_time": "2023-06-02T08:30:34.001Z"
   },
   {
    "duration": 1498,
    "start_time": "2023-06-02T08:35:17.708Z"
   },
   {
    "duration": 105,
    "start_time": "2023-06-02T08:35:19.208Z"
   },
   {
    "duration": 12,
    "start_time": "2023-06-02T08:41:43.555Z"
   },
   {
    "duration": 6,
    "start_time": "2023-06-02T08:41:47.999Z"
   },
   {
    "duration": 604,
    "start_time": "2023-06-02T08:41:48.551Z"
   },
   {
    "duration": 7,
    "start_time": "2023-06-02T08:44:07.364Z"
   },
   {
    "duration": 1266,
    "start_time": "2023-06-02T08:47:51.145Z"
   },
   {
    "duration": 52,
    "start_time": "2023-06-02T08:47:54.635Z"
   },
   {
    "duration": 13,
    "start_time": "2023-06-02T08:47:57.257Z"
   },
   {
    "duration": 2,
    "start_time": "2023-06-02T08:47:59.454Z"
   },
   {
    "duration": 22,
    "start_time": "2023-06-02T08:48:23.679Z"
   },
   {
    "duration": 40,
    "start_time": "2023-06-02T08:48:25.746Z"
   },
   {
    "duration": 48,
    "start_time": "2023-06-02T08:48:28.816Z"
   },
   {
    "duration": 53,
    "start_time": "2023-06-02T08:48:36.421Z"
   },
   {
    "duration": 5,
    "start_time": "2023-06-02T08:48:39.964Z"
   },
   {
    "duration": 8,
    "start_time": "2023-06-02T08:48:43.322Z"
   },
   {
    "duration": 9,
    "start_time": "2023-06-02T08:48:50.805Z"
   },
   {
    "duration": 13,
    "start_time": "2023-06-02T08:50:12.546Z"
   },
   {
    "duration": 4,
    "start_time": "2023-06-02T08:50:22.251Z"
   },
   {
    "duration": 5,
    "start_time": "2023-06-02T08:50:23.342Z"
   },
   {
    "duration": 5,
    "start_time": "2023-06-02T08:50:37.909Z"
   },
   {
    "duration": 7,
    "start_time": "2023-06-02T08:50:43.062Z"
   },
   {
    "duration": 19,
    "start_time": "2023-06-02T08:51:06.145Z"
   },
   {
    "duration": 8,
    "start_time": "2023-06-02T08:51:35.250Z"
   },
   {
    "duration": 4,
    "start_time": "2023-06-02T08:51:37.052Z"
   },
   {
    "duration": 29,
    "start_time": "2023-06-02T08:51:43.649Z"
   },
   {
    "duration": 8,
    "start_time": "2023-06-02T08:51:46.953Z"
   },
   {
    "duration": 13,
    "start_time": "2023-06-02T08:51:48.533Z"
   },
   {
    "duration": 120,
    "start_time": "2023-06-02T08:51:50.212Z"
   },
   {
    "duration": 43,
    "start_time": "2023-06-02T08:52:20.068Z"
   },
   {
    "duration": 1258,
    "start_time": "2023-06-02T08:52:47.750Z"
   },
   {
    "duration": 50,
    "start_time": "2023-06-02T08:52:49.653Z"
   },
   {
    "duration": 15,
    "start_time": "2023-06-02T08:52:50.951Z"
   },
   {
    "duration": 2,
    "start_time": "2023-06-02T08:52:51.546Z"
   },
   {
    "duration": 32,
    "start_time": "2023-06-02T08:52:53.704Z"
   },
   {
    "duration": 44,
    "start_time": "2023-06-02T08:52:54.791Z"
   },
   {
    "duration": 55,
    "start_time": "2023-06-02T08:52:55.950Z"
   },
   {
    "duration": 54,
    "start_time": "2023-06-02T08:52:57.822Z"
   },
   {
    "duration": 5,
    "start_time": "2023-06-02T08:52:58.437Z"
   },
   {
    "duration": 7,
    "start_time": "2023-06-02T08:52:59.977Z"
   },
   {
    "duration": 9,
    "start_time": "2023-06-02T08:53:01.358Z"
   },
   {
    "duration": 13,
    "start_time": "2023-06-02T08:53:02.966Z"
   },
   {
    "duration": 4,
    "start_time": "2023-06-02T08:53:07.262Z"
   },
   {
    "duration": 4,
    "start_time": "2023-06-02T08:53:08.354Z"
   },
   {
    "duration": 4,
    "start_time": "2023-06-02T08:53:09.358Z"
   },
   {
    "duration": 7,
    "start_time": "2023-06-02T08:53:11.192Z"
   },
   {
    "duration": 19,
    "start_time": "2023-06-02T08:53:11.781Z"
   },
   {
    "duration": 9,
    "start_time": "2023-06-02T08:54:28.664Z"
   },
   {
    "duration": 5,
    "start_time": "2023-06-02T08:54:30.886Z"
   },
   {
    "duration": 29,
    "start_time": "2023-06-02T08:54:34.577Z"
   },
   {
    "duration": 7,
    "start_time": "2023-06-02T08:54:39.381Z"
   },
   {
    "duration": 13,
    "start_time": "2023-06-02T08:54:40.962Z"
   },
   {
    "duration": 40,
    "start_time": "2023-06-02T08:54:42.009Z"
   },
   {
    "duration": 8,
    "start_time": "2023-06-02T08:55:45.846Z"
   },
   {
    "duration": 1344,
    "start_time": "2023-06-02T08:56:00.552Z"
   },
   {
    "duration": 6,
    "start_time": "2023-06-02T08:56:10.346Z"
   },
   {
    "duration": 3,
    "start_time": "2023-06-02T08:57:21.984Z"
   },
   {
    "duration": 2,
    "start_time": "2023-06-02T08:57:42.768Z"
   },
   {
    "duration": 232504,
    "start_time": "2023-06-02T08:57:59.602Z"
   },
   {
    "duration": 7,
    "start_time": "2023-06-02T09:02:26.011Z"
   },
   {
    "duration": 2,
    "start_time": "2023-06-02T09:08:01.383Z"
   },
   {
    "duration": 1281,
    "start_time": "2023-06-02T09:08:12.261Z"
   },
   {
    "duration": 232571,
    "start_time": "2023-06-02T09:12:12.120Z"
   },
   {
    "duration": 6,
    "start_time": "2023-06-02T09:21:48.721Z"
   },
   {
    "duration": 1511,
    "start_time": "2023-06-02T09:22:15.147Z"
   },
   {
    "duration": 304337,
    "start_time": "2023-06-02T09:23:33.451Z"
   },
   {
    "duration": 6,
    "start_time": "2023-06-02T09:28:37.790Z"
   },
   {
    "duration": 668,
    "start_time": "2023-06-02T09:28:37.797Z"
   },
   {
    "duration": 137119,
    "start_time": "2023-06-02T09:28:38.468Z"
   },
   {
    "duration": 1137,
    "start_time": "2023-06-02T09:44:42.803Z"
   },
   {
    "duration": 156,
    "start_time": "2023-06-02T09:45:48.914Z"
   },
   {
    "duration": 269,
    "start_time": "2023-06-02T09:45:58.666Z"
   },
   {
    "duration": 9,
    "start_time": "2023-06-02T09:58:19.369Z"
   }
  ],
  "kernelspec": {
   "display_name": "Python 3 (ipykernel)",
   "language": "python",
   "name": "python3"
  },
  "language_info": {
   "codemirror_mode": {
    "name": "ipython",
    "version": 3
   },
   "file_extension": ".py",
   "mimetype": "text/x-python",
   "name": "python",
   "nbconvert_exporter": "python",
   "pygments_lexer": "ipython3",
   "version": "3.9.5"
  },
  "toc": {
   "base_numbering": 1,
   "nav_menu": {},
   "number_sections": true,
   "sideBar": true,
   "skip_h1_title": true,
   "title_cell": "Содержание",
   "title_sidebar": "Contents",
   "toc_cell": true,
   "toc_position": {},
   "toc_section_display": true,
   "toc_window_display": false
  }
 },
 "nbformat": 4,
 "nbformat_minor": 4
}
