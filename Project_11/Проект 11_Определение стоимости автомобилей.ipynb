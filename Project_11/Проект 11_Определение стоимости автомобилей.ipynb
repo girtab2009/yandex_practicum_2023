{
 "cells": [
  {
   "cell_type": "markdown",
   "metadata": {},
   "source": [
    "# Определение стоимости автомобилей"
   ]
  },
  {
   "cell_type": "markdown",
   "metadata": {},
   "source": [
    "\n",
    "**Цель исследования**\n",
    "\n",
    "- построить модель, которая умеет определять рыночную стоимость автомобиля, для сервиса по продаже автомобилей с пробегом «Не бит, не крашен».\n",
    "\n",
    "**Описание данных:**\n",
    "\n",
    "для проведения анализа представлен файл, содержащий данные о технических характеристиках, комплектации и ценах автомобилей:\n",
    "\n",
    "- */datasets/autos.csv*.\n",
    "\n",
    "**Признаки:** \n",
    "\n",
    "- DateCrawled — дата скачивания анкеты из базы\n",
    "- VehicleType — тип автомобильного кузова\n",
    "- RegistrationYear — год регистрации автомобиля\n",
    "- Gearbox — тип коробки передач\n",
    "- Power — мощность (л. с.)\n",
    "- Model — модель автомобиля\n",
    "- Kilometer — пробег (км)\n",
    "- RegistrationMonth — месяц регистрации автомобиля\n",
    "- FuelType — тип топлива\n",
    "- Brand — марка автомобиля\n",
    "- Repaired — была машина в ремонте или нет\n",
    "- DateCreated — дата создания анкеты\n",
    "- NumberOfPictures — количество фотографий автомобиля\n",
    "- PostalCode — почтовый индекс владельца анкеты (пользователя)\n",
    "- LastSeen — дата последней активности пользователя\n",
    "\n",
    "**Целевой признак:** Price — цена (евро).\n",
    "\n",
    "**Заказчику важны:**\n",
    "\n",
    "- качество предсказания;\n",
    "- скорость предсказания;\n",
    "- время обучения.\n",
    "\n",
    "**План работы:**\n",
    "\n",
    "1. открыть файл с данными и изучить общую информацию;\n",
    "2. заполнить пропущенные значения и обработать аномалии в столбцах; удалить неинформативные признаки;\n",
    "3. подготовить выборки для обучения моделей;\n",
    "4. обучить разные модели, одна из которых — LightGBM, как минимум одна — не бустинг; для каждой модели попробовать разные гиперпараметры;\n",
    "5. проанализировать время обучения, время предсказания и качество моделей;\n",
    "6. опираясь на критерии заказчика, выбрать лучшую модель и проверьте её качество на тестовой выборке;\n",
    "7. написать вывод.   "
   ]
  },
  {
   "cell_type": "markdown",
   "metadata": {},
   "source": [
    "## Подготовка данных"
   ]
  },
  {
   "cell_type": "markdown",
   "metadata": {},
   "source": [
    "На этом этапе мы загрузим данные из представленного файла в датафрейм, изучим полученную информацию и проведем проверку на наличие пропусков и дубликатов."
   ]
  },
  {
   "cell_type": "code",
   "execution_count": 1,
   "metadata": {
    "scrolled": true
   },
   "outputs": [
    {
     "name": "stdout",
     "output_type": "stream",
     "text": [
      "Requirement already satisfied: category_encoders in /opt/conda/lib/python3.9/site-packages (2.6.1)\n",
      "Requirement already satisfied: pandas>=1.0.5 in /opt/conda/lib/python3.9/site-packages (from category_encoders) (1.2.4)\n",
      "Requirement already satisfied: statsmodels>=0.9.0 in /opt/conda/lib/python3.9/site-packages (from category_encoders) (0.13.2)\n",
      "Requirement already satisfied: patsy>=0.5.1 in /opt/conda/lib/python3.9/site-packages (from category_encoders) (0.5.2)\n",
      "Requirement already satisfied: numpy>=1.14.0 in /opt/conda/lib/python3.9/site-packages (from category_encoders) (1.21.1)\n",
      "Requirement already satisfied: scipy>=1.0.0 in /opt/conda/lib/python3.9/site-packages (from category_encoders) (1.9.1)\n",
      "Requirement already satisfied: scikit-learn>=0.20.0 in /opt/conda/lib/python3.9/site-packages (from category_encoders) (0.24.1)\n",
      "Requirement already satisfied: python-dateutil>=2.7.3 in /opt/conda/lib/python3.9/site-packages (from pandas>=1.0.5->category_encoders) (2.8.1)\n",
      "Requirement already satisfied: pytz>=2017.3 in /opt/conda/lib/python3.9/site-packages (from pandas>=1.0.5->category_encoders) (2021.1)\n",
      "Requirement already satisfied: six in /opt/conda/lib/python3.9/site-packages (from patsy>=0.5.1->category_encoders) (1.16.0)\n",
      "Requirement already satisfied: threadpoolctl>=2.0.0 in /opt/conda/lib/python3.9/site-packages (from scikit-learn>=0.20.0->category_encoders) (3.1.0)\n",
      "Requirement already satisfied: joblib>=0.11 in /opt/conda/lib/python3.9/site-packages (from scikit-learn>=0.20.0->category_encoders) (1.1.0)\n",
      "Requirement already satisfied: packaging>=21.3 in /opt/conda/lib/python3.9/site-packages (from statsmodels>=0.9.0->category_encoders) (21.3)\n",
      "Requirement already satisfied: pyparsing!=3.0.5,>=2.0.2 in /opt/conda/lib/python3.9/site-packages (from packaging>=21.3->statsmodels>=0.9.0->category_encoders) (2.4.7)\n"
     ]
    }
   ],
   "source": [
    "# импортируем нужные библиотеки\n",
    "!pip install category_encoders\n",
    "from category_encoders.m_estimate import MEstimateEncoder\n",
    "import pandas as pd\n",
    "import numpy as np\n",
    "import matplotlib.pyplot as plt\n",
    "import re\n",
    "from sklearn.ensemble import RandomForestRegressor\n",
    "from sklearn.linear_model import LinearRegression\n",
    "from sklearn.metrics import mean_squared_error\n",
    "#from sklearn.impute import SimpleImputer\n",
    "from sklearn.preprocessing import (OneHotEncoder, StandardScaler, OrdinalEncoder)\n",
    "from sklearn.model_selection import (GridSearchCV, train_test_split)\n",
    "#import warnings\n",
    "#warnings.filterwarnings('ignore')\n",
    "from catboost import Pool, CatBoostRegressor, cv\n",
    "from lightgbm import LGBMRegressor"
   ]
  },
  {
   "cell_type": "code",
   "execution_count": 2,
   "metadata": {},
   "outputs": [
    {
     "name": "stdout",
     "output_type": "stream",
     "text": [
      "<class 'pandas.core.frame.DataFrame'>\n",
      "RangeIndex: 354369 entries, 0 to 354368\n",
      "Data columns (total 16 columns):\n",
      " #   Column             Non-Null Count   Dtype \n",
      "---  ------             --------------   ----- \n",
      " 0   DateCrawled        354369 non-null  object\n",
      " 1   Price              354369 non-null  int64 \n",
      " 2   VehicleType        316879 non-null  object\n",
      " 3   RegistrationYear   354369 non-null  int64 \n",
      " 4   Gearbox            334536 non-null  object\n",
      " 5   Power              354369 non-null  int64 \n",
      " 6   Model              334664 non-null  object\n",
      " 7   Kilometer          354369 non-null  int64 \n",
      " 8   RegistrationMonth  354369 non-null  int64 \n",
      " 9   FuelType           321474 non-null  object\n",
      " 10  Brand              354369 non-null  object\n",
      " 11  Repaired           283215 non-null  object\n",
      " 12  DateCreated        354369 non-null  object\n",
      " 13  NumberOfPictures   354369 non-null  int64 \n",
      " 14  PostalCode         354369 non-null  int64 \n",
      " 15  LastSeen           354369 non-null  object\n",
      "dtypes: int64(7), object(9)\n",
      "memory usage: 43.3+ MB\n"
     ]
    }
   ],
   "source": [
    "# загружаем данные из файла в датафрейм и выводим основную информацию о датафрейме с помощью метода info()\n",
    "data = pd.read_csv('/datasets/autos.csv')\n",
    "data.info()"
   ]
  },
  {
   "cell_type": "markdown",
   "metadata": {},
   "source": [
    "Как видим, в нашем датафрейме 16 столбцов и  354 369 строк. Данные в 9 столбцах (DateCrawled, VehicleType, Gearbox, Model, FuelType, Brand, Repaired, DateCreated, LastSeen) выражены строковым типом. Данные в 7 столбцах (Price, RegistrationYear, Power, Kilometer, RegistrationMonth, NumberOfPictures, PostalCode) выражены целочисленным типом. \n",
    "\n",
    "Сразу приведем названия столбцов к \"змеиному регистру\". Затем выведем на экран первые 20 строчек нашего датафрейма, посмотрим на распределение по каждому из столбцов и удалим неинформативные признаки."
   ]
  },
  {
   "cell_type": "code",
   "execution_count": 3,
   "metadata": {},
   "outputs": [
    {
     "name": "stdout",
     "output_type": "stream",
     "text": [
      "<class 'pandas.core.frame.DataFrame'>\n",
      "RangeIndex: 354369 entries, 0 to 354368\n",
      "Data columns (total 16 columns):\n",
      " #   Column              Non-Null Count   Dtype \n",
      "---  ------              --------------   ----- \n",
      " 0   date_crawled        354369 non-null  object\n",
      " 1   price               354369 non-null  int64 \n",
      " 2   vehicle_type        316879 non-null  object\n",
      " 3   registration_year   354369 non-null  int64 \n",
      " 4   gearbox             334536 non-null  object\n",
      " 5   power               354369 non-null  int64 \n",
      " 6   model               334664 non-null  object\n",
      " 7   kilometer           354369 non-null  int64 \n",
      " 8   registration_month  354369 non-null  int64 \n",
      " 9   fuel_type           321474 non-null  object\n",
      " 10  brand               354369 non-null  object\n",
      " 11  repaired            283215 non-null  object\n",
      " 12  date_created        354369 non-null  object\n",
      " 13  number_of_pictures  354369 non-null  int64 \n",
      " 14  postal_code         354369 non-null  int64 \n",
      " 15  last_seen           354369 non-null  object\n",
      "dtypes: int64(7), object(9)\n",
      "memory usage: 43.3+ MB\n"
     ]
    }
   ],
   "source": [
    "# приводим названия столбцов к \"змеиному регистру\"\n",
    "data.columns = [re.sub(r'(?<!^)(?=[A-Z])', '_', i).lower() for i in data.columns]\n",
    "data.info()"
   ]
  },
  {
   "cell_type": "code",
   "execution_count": 4,
   "metadata": {
    "scrolled": true
   },
   "outputs": [
    {
     "data": {
      "text/html": [
       "<div>\n",
       "<style scoped>\n",
       "    .dataframe tbody tr th:only-of-type {\n",
       "        vertical-align: middle;\n",
       "    }\n",
       "\n",
       "    .dataframe tbody tr th {\n",
       "        vertical-align: top;\n",
       "    }\n",
       "\n",
       "    .dataframe thead th {\n",
       "        text-align: right;\n",
       "    }\n",
       "</style>\n",
       "<table border=\"1\" class=\"dataframe\">\n",
       "  <thead>\n",
       "    <tr style=\"text-align: right;\">\n",
       "      <th></th>\n",
       "      <th>date_crawled</th>\n",
       "      <th>price</th>\n",
       "      <th>vehicle_type</th>\n",
       "      <th>registration_year</th>\n",
       "      <th>gearbox</th>\n",
       "      <th>power</th>\n",
       "      <th>model</th>\n",
       "      <th>kilometer</th>\n",
       "      <th>registration_month</th>\n",
       "      <th>fuel_type</th>\n",
       "      <th>brand</th>\n",
       "      <th>repaired</th>\n",
       "      <th>date_created</th>\n",
       "      <th>number_of_pictures</th>\n",
       "      <th>postal_code</th>\n",
       "      <th>last_seen</th>\n",
       "    </tr>\n",
       "  </thead>\n",
       "  <tbody>\n",
       "    <tr>\n",
       "      <th>0</th>\n",
       "      <td>2016-03-24 11:52:17</td>\n",
       "      <td>480</td>\n",
       "      <td>NaN</td>\n",
       "      <td>1993</td>\n",
       "      <td>manual</td>\n",
       "      <td>0</td>\n",
       "      <td>golf</td>\n",
       "      <td>150000</td>\n",
       "      <td>0</td>\n",
       "      <td>petrol</td>\n",
       "      <td>volkswagen</td>\n",
       "      <td>NaN</td>\n",
       "      <td>2016-03-24 00:00:00</td>\n",
       "      <td>0</td>\n",
       "      <td>70435</td>\n",
       "      <td>2016-04-07 03:16:57</td>\n",
       "    </tr>\n",
       "    <tr>\n",
       "      <th>1</th>\n",
       "      <td>2016-03-24 10:58:45</td>\n",
       "      <td>18300</td>\n",
       "      <td>coupe</td>\n",
       "      <td>2011</td>\n",
       "      <td>manual</td>\n",
       "      <td>190</td>\n",
       "      <td>NaN</td>\n",
       "      <td>125000</td>\n",
       "      <td>5</td>\n",
       "      <td>gasoline</td>\n",
       "      <td>audi</td>\n",
       "      <td>yes</td>\n",
       "      <td>2016-03-24 00:00:00</td>\n",
       "      <td>0</td>\n",
       "      <td>66954</td>\n",
       "      <td>2016-04-07 01:46:50</td>\n",
       "    </tr>\n",
       "    <tr>\n",
       "      <th>2</th>\n",
       "      <td>2016-03-14 12:52:21</td>\n",
       "      <td>9800</td>\n",
       "      <td>suv</td>\n",
       "      <td>2004</td>\n",
       "      <td>auto</td>\n",
       "      <td>163</td>\n",
       "      <td>grand</td>\n",
       "      <td>125000</td>\n",
       "      <td>8</td>\n",
       "      <td>gasoline</td>\n",
       "      <td>jeep</td>\n",
       "      <td>NaN</td>\n",
       "      <td>2016-03-14 00:00:00</td>\n",
       "      <td>0</td>\n",
       "      <td>90480</td>\n",
       "      <td>2016-04-05 12:47:46</td>\n",
       "    </tr>\n",
       "    <tr>\n",
       "      <th>3</th>\n",
       "      <td>2016-03-17 16:54:04</td>\n",
       "      <td>1500</td>\n",
       "      <td>small</td>\n",
       "      <td>2001</td>\n",
       "      <td>manual</td>\n",
       "      <td>75</td>\n",
       "      <td>golf</td>\n",
       "      <td>150000</td>\n",
       "      <td>6</td>\n",
       "      <td>petrol</td>\n",
       "      <td>volkswagen</td>\n",
       "      <td>no</td>\n",
       "      <td>2016-03-17 00:00:00</td>\n",
       "      <td>0</td>\n",
       "      <td>91074</td>\n",
       "      <td>2016-03-17 17:40:17</td>\n",
       "    </tr>\n",
       "    <tr>\n",
       "      <th>4</th>\n",
       "      <td>2016-03-31 17:25:20</td>\n",
       "      <td>3600</td>\n",
       "      <td>small</td>\n",
       "      <td>2008</td>\n",
       "      <td>manual</td>\n",
       "      <td>69</td>\n",
       "      <td>fabia</td>\n",
       "      <td>90000</td>\n",
       "      <td>7</td>\n",
       "      <td>gasoline</td>\n",
       "      <td>skoda</td>\n",
       "      <td>no</td>\n",
       "      <td>2016-03-31 00:00:00</td>\n",
       "      <td>0</td>\n",
       "      <td>60437</td>\n",
       "      <td>2016-04-06 10:17:21</td>\n",
       "    </tr>\n",
       "    <tr>\n",
       "      <th>5</th>\n",
       "      <td>2016-04-04 17:36:23</td>\n",
       "      <td>650</td>\n",
       "      <td>sedan</td>\n",
       "      <td>1995</td>\n",
       "      <td>manual</td>\n",
       "      <td>102</td>\n",
       "      <td>3er</td>\n",
       "      <td>150000</td>\n",
       "      <td>10</td>\n",
       "      <td>petrol</td>\n",
       "      <td>bmw</td>\n",
       "      <td>yes</td>\n",
       "      <td>2016-04-04 00:00:00</td>\n",
       "      <td>0</td>\n",
       "      <td>33775</td>\n",
       "      <td>2016-04-06 19:17:07</td>\n",
       "    </tr>\n",
       "    <tr>\n",
       "      <th>6</th>\n",
       "      <td>2016-04-01 20:48:51</td>\n",
       "      <td>2200</td>\n",
       "      <td>convertible</td>\n",
       "      <td>2004</td>\n",
       "      <td>manual</td>\n",
       "      <td>109</td>\n",
       "      <td>2_reihe</td>\n",
       "      <td>150000</td>\n",
       "      <td>8</td>\n",
       "      <td>petrol</td>\n",
       "      <td>peugeot</td>\n",
       "      <td>no</td>\n",
       "      <td>2016-04-01 00:00:00</td>\n",
       "      <td>0</td>\n",
       "      <td>67112</td>\n",
       "      <td>2016-04-05 18:18:39</td>\n",
       "    </tr>\n",
       "    <tr>\n",
       "      <th>7</th>\n",
       "      <td>2016-03-21 18:54:38</td>\n",
       "      <td>0</td>\n",
       "      <td>sedan</td>\n",
       "      <td>1980</td>\n",
       "      <td>manual</td>\n",
       "      <td>50</td>\n",
       "      <td>other</td>\n",
       "      <td>40000</td>\n",
       "      <td>7</td>\n",
       "      <td>petrol</td>\n",
       "      <td>volkswagen</td>\n",
       "      <td>no</td>\n",
       "      <td>2016-03-21 00:00:00</td>\n",
       "      <td>0</td>\n",
       "      <td>19348</td>\n",
       "      <td>2016-03-25 16:47:58</td>\n",
       "    </tr>\n",
       "    <tr>\n",
       "      <th>8</th>\n",
       "      <td>2016-04-04 23:42:13</td>\n",
       "      <td>14500</td>\n",
       "      <td>bus</td>\n",
       "      <td>2014</td>\n",
       "      <td>manual</td>\n",
       "      <td>125</td>\n",
       "      <td>c_max</td>\n",
       "      <td>30000</td>\n",
       "      <td>8</td>\n",
       "      <td>petrol</td>\n",
       "      <td>ford</td>\n",
       "      <td>NaN</td>\n",
       "      <td>2016-04-04 00:00:00</td>\n",
       "      <td>0</td>\n",
       "      <td>94505</td>\n",
       "      <td>2016-04-04 23:42:13</td>\n",
       "    </tr>\n",
       "    <tr>\n",
       "      <th>9</th>\n",
       "      <td>2016-03-17 10:53:50</td>\n",
       "      <td>999</td>\n",
       "      <td>small</td>\n",
       "      <td>1998</td>\n",
       "      <td>manual</td>\n",
       "      <td>101</td>\n",
       "      <td>golf</td>\n",
       "      <td>150000</td>\n",
       "      <td>0</td>\n",
       "      <td>NaN</td>\n",
       "      <td>volkswagen</td>\n",
       "      <td>NaN</td>\n",
       "      <td>2016-03-17 00:00:00</td>\n",
       "      <td>0</td>\n",
       "      <td>27472</td>\n",
       "      <td>2016-03-31 17:17:06</td>\n",
       "    </tr>\n",
       "    <tr>\n",
       "      <th>10</th>\n",
       "      <td>2016-03-26 19:54:18</td>\n",
       "      <td>2000</td>\n",
       "      <td>sedan</td>\n",
       "      <td>2004</td>\n",
       "      <td>manual</td>\n",
       "      <td>105</td>\n",
       "      <td>3_reihe</td>\n",
       "      <td>150000</td>\n",
       "      <td>12</td>\n",
       "      <td>petrol</td>\n",
       "      <td>mazda</td>\n",
       "      <td>no</td>\n",
       "      <td>2016-03-26 00:00:00</td>\n",
       "      <td>0</td>\n",
       "      <td>96224</td>\n",
       "      <td>2016-04-06 10:45:34</td>\n",
       "    </tr>\n",
       "    <tr>\n",
       "      <th>11</th>\n",
       "      <td>2016-04-07 10:06:22</td>\n",
       "      <td>2799</td>\n",
       "      <td>wagon</td>\n",
       "      <td>2005</td>\n",
       "      <td>manual</td>\n",
       "      <td>140</td>\n",
       "      <td>passat</td>\n",
       "      <td>150000</td>\n",
       "      <td>12</td>\n",
       "      <td>gasoline</td>\n",
       "      <td>volkswagen</td>\n",
       "      <td>yes</td>\n",
       "      <td>2016-04-07 00:00:00</td>\n",
       "      <td>0</td>\n",
       "      <td>57290</td>\n",
       "      <td>2016-04-07 10:25:17</td>\n",
       "    </tr>\n",
       "    <tr>\n",
       "      <th>12</th>\n",
       "      <td>2016-03-15 22:49:09</td>\n",
       "      <td>999</td>\n",
       "      <td>wagon</td>\n",
       "      <td>1995</td>\n",
       "      <td>manual</td>\n",
       "      <td>115</td>\n",
       "      <td>passat</td>\n",
       "      <td>150000</td>\n",
       "      <td>11</td>\n",
       "      <td>petrol</td>\n",
       "      <td>volkswagen</td>\n",
       "      <td>NaN</td>\n",
       "      <td>2016-03-15 00:00:00</td>\n",
       "      <td>0</td>\n",
       "      <td>37269</td>\n",
       "      <td>2016-04-01 13:16:16</td>\n",
       "    </tr>\n",
       "    <tr>\n",
       "      <th>13</th>\n",
       "      <td>2016-03-21 21:37:40</td>\n",
       "      <td>2500</td>\n",
       "      <td>wagon</td>\n",
       "      <td>2004</td>\n",
       "      <td>manual</td>\n",
       "      <td>131</td>\n",
       "      <td>passat</td>\n",
       "      <td>150000</td>\n",
       "      <td>2</td>\n",
       "      <td>NaN</td>\n",
       "      <td>volkswagen</td>\n",
       "      <td>no</td>\n",
       "      <td>2016-03-21 00:00:00</td>\n",
       "      <td>0</td>\n",
       "      <td>90762</td>\n",
       "      <td>2016-03-23 02:50:54</td>\n",
       "    </tr>\n",
       "    <tr>\n",
       "      <th>14</th>\n",
       "      <td>2016-03-21 12:57:01</td>\n",
       "      <td>17999</td>\n",
       "      <td>suv</td>\n",
       "      <td>2011</td>\n",
       "      <td>manual</td>\n",
       "      <td>190</td>\n",
       "      <td>navara</td>\n",
       "      <td>70000</td>\n",
       "      <td>3</td>\n",
       "      <td>gasoline</td>\n",
       "      <td>nissan</td>\n",
       "      <td>no</td>\n",
       "      <td>2016-03-21 00:00:00</td>\n",
       "      <td>0</td>\n",
       "      <td>4177</td>\n",
       "      <td>2016-04-06 07:45:42</td>\n",
       "    </tr>\n",
       "    <tr>\n",
       "      <th>15</th>\n",
       "      <td>2016-03-11 21:39:15</td>\n",
       "      <td>450</td>\n",
       "      <td>small</td>\n",
       "      <td>1910</td>\n",
       "      <td>NaN</td>\n",
       "      <td>0</td>\n",
       "      <td>ka</td>\n",
       "      <td>5000</td>\n",
       "      <td>0</td>\n",
       "      <td>petrol</td>\n",
       "      <td>ford</td>\n",
       "      <td>NaN</td>\n",
       "      <td>2016-03-11 00:00:00</td>\n",
       "      <td>0</td>\n",
       "      <td>24148</td>\n",
       "      <td>2016-03-19 08:46:47</td>\n",
       "    </tr>\n",
       "    <tr>\n",
       "      <th>16</th>\n",
       "      <td>2016-04-01 12:46:46</td>\n",
       "      <td>300</td>\n",
       "      <td>NaN</td>\n",
       "      <td>2016</td>\n",
       "      <td>NaN</td>\n",
       "      <td>60</td>\n",
       "      <td>polo</td>\n",
       "      <td>150000</td>\n",
       "      <td>0</td>\n",
       "      <td>petrol</td>\n",
       "      <td>volkswagen</td>\n",
       "      <td>NaN</td>\n",
       "      <td>2016-04-01 00:00:00</td>\n",
       "      <td>0</td>\n",
       "      <td>38871</td>\n",
       "      <td>2016-04-01 12:46:46</td>\n",
       "    </tr>\n",
       "    <tr>\n",
       "      <th>17</th>\n",
       "      <td>2016-03-20 10:25:19</td>\n",
       "      <td>1750</td>\n",
       "      <td>small</td>\n",
       "      <td>2004</td>\n",
       "      <td>auto</td>\n",
       "      <td>75</td>\n",
       "      <td>twingo</td>\n",
       "      <td>150000</td>\n",
       "      <td>2</td>\n",
       "      <td>petrol</td>\n",
       "      <td>renault</td>\n",
       "      <td>no</td>\n",
       "      <td>2016-03-20 00:00:00</td>\n",
       "      <td>0</td>\n",
       "      <td>65599</td>\n",
       "      <td>2016-04-06 13:16:07</td>\n",
       "    </tr>\n",
       "    <tr>\n",
       "      <th>18</th>\n",
       "      <td>2016-03-23 15:48:05</td>\n",
       "      <td>7550</td>\n",
       "      <td>bus</td>\n",
       "      <td>2007</td>\n",
       "      <td>manual</td>\n",
       "      <td>136</td>\n",
       "      <td>c_max</td>\n",
       "      <td>150000</td>\n",
       "      <td>6</td>\n",
       "      <td>gasoline</td>\n",
       "      <td>ford</td>\n",
       "      <td>no</td>\n",
       "      <td>2016-03-23 00:00:00</td>\n",
       "      <td>0</td>\n",
       "      <td>88361</td>\n",
       "      <td>2016-04-05 18:45:11</td>\n",
       "    </tr>\n",
       "    <tr>\n",
       "      <th>19</th>\n",
       "      <td>2016-04-01 22:55:47</td>\n",
       "      <td>1850</td>\n",
       "      <td>bus</td>\n",
       "      <td>2004</td>\n",
       "      <td>manual</td>\n",
       "      <td>102</td>\n",
       "      <td>a_klasse</td>\n",
       "      <td>150000</td>\n",
       "      <td>1</td>\n",
       "      <td>petrol</td>\n",
       "      <td>mercedes_benz</td>\n",
       "      <td>no</td>\n",
       "      <td>2016-04-01 00:00:00</td>\n",
       "      <td>0</td>\n",
       "      <td>49565</td>\n",
       "      <td>2016-04-05 22:46:05</td>\n",
       "    </tr>\n",
       "  </tbody>\n",
       "</table>\n",
       "</div>"
      ],
      "text/plain": [
       "           date_crawled  price vehicle_type  registration_year gearbox  power  \\\n",
       "0   2016-03-24 11:52:17    480          NaN               1993  manual      0   \n",
       "1   2016-03-24 10:58:45  18300        coupe               2011  manual    190   \n",
       "2   2016-03-14 12:52:21   9800          suv               2004    auto    163   \n",
       "3   2016-03-17 16:54:04   1500        small               2001  manual     75   \n",
       "4   2016-03-31 17:25:20   3600        small               2008  manual     69   \n",
       "5   2016-04-04 17:36:23    650        sedan               1995  manual    102   \n",
       "6   2016-04-01 20:48:51   2200  convertible               2004  manual    109   \n",
       "7   2016-03-21 18:54:38      0        sedan               1980  manual     50   \n",
       "8   2016-04-04 23:42:13  14500          bus               2014  manual    125   \n",
       "9   2016-03-17 10:53:50    999        small               1998  manual    101   \n",
       "10  2016-03-26 19:54:18   2000        sedan               2004  manual    105   \n",
       "11  2016-04-07 10:06:22   2799        wagon               2005  manual    140   \n",
       "12  2016-03-15 22:49:09    999        wagon               1995  manual    115   \n",
       "13  2016-03-21 21:37:40   2500        wagon               2004  manual    131   \n",
       "14  2016-03-21 12:57:01  17999          suv               2011  manual    190   \n",
       "15  2016-03-11 21:39:15    450        small               1910     NaN      0   \n",
       "16  2016-04-01 12:46:46    300          NaN               2016     NaN     60   \n",
       "17  2016-03-20 10:25:19   1750        small               2004    auto     75   \n",
       "18  2016-03-23 15:48:05   7550          bus               2007  manual    136   \n",
       "19  2016-04-01 22:55:47   1850          bus               2004  manual    102   \n",
       "\n",
       "       model  kilometer  registration_month fuel_type          brand repaired  \\\n",
       "0       golf     150000                   0    petrol     volkswagen      NaN   \n",
       "1        NaN     125000                   5  gasoline           audi      yes   \n",
       "2      grand     125000                   8  gasoline           jeep      NaN   \n",
       "3       golf     150000                   6    petrol     volkswagen       no   \n",
       "4      fabia      90000                   7  gasoline          skoda       no   \n",
       "5        3er     150000                  10    petrol            bmw      yes   \n",
       "6    2_reihe     150000                   8    petrol        peugeot       no   \n",
       "7      other      40000                   7    petrol     volkswagen       no   \n",
       "8      c_max      30000                   8    petrol           ford      NaN   \n",
       "9       golf     150000                   0       NaN     volkswagen      NaN   \n",
       "10   3_reihe     150000                  12    petrol          mazda       no   \n",
       "11    passat     150000                  12  gasoline     volkswagen      yes   \n",
       "12    passat     150000                  11    petrol     volkswagen      NaN   \n",
       "13    passat     150000                   2       NaN     volkswagen       no   \n",
       "14    navara      70000                   3  gasoline         nissan       no   \n",
       "15        ka       5000                   0    petrol           ford      NaN   \n",
       "16      polo     150000                   0    petrol     volkswagen      NaN   \n",
       "17    twingo     150000                   2    petrol        renault       no   \n",
       "18     c_max     150000                   6  gasoline           ford       no   \n",
       "19  a_klasse     150000                   1    petrol  mercedes_benz       no   \n",
       "\n",
       "           date_created  number_of_pictures  postal_code            last_seen  \n",
       "0   2016-03-24 00:00:00                   0        70435  2016-04-07 03:16:57  \n",
       "1   2016-03-24 00:00:00                   0        66954  2016-04-07 01:46:50  \n",
       "2   2016-03-14 00:00:00                   0        90480  2016-04-05 12:47:46  \n",
       "3   2016-03-17 00:00:00                   0        91074  2016-03-17 17:40:17  \n",
       "4   2016-03-31 00:00:00                   0        60437  2016-04-06 10:17:21  \n",
       "5   2016-04-04 00:00:00                   0        33775  2016-04-06 19:17:07  \n",
       "6   2016-04-01 00:00:00                   0        67112  2016-04-05 18:18:39  \n",
       "7   2016-03-21 00:00:00                   0        19348  2016-03-25 16:47:58  \n",
       "8   2016-04-04 00:00:00                   0        94505  2016-04-04 23:42:13  \n",
       "9   2016-03-17 00:00:00                   0        27472  2016-03-31 17:17:06  \n",
       "10  2016-03-26 00:00:00                   0        96224  2016-04-06 10:45:34  \n",
       "11  2016-04-07 00:00:00                   0        57290  2016-04-07 10:25:17  \n",
       "12  2016-03-15 00:00:00                   0        37269  2016-04-01 13:16:16  \n",
       "13  2016-03-21 00:00:00                   0        90762  2016-03-23 02:50:54  \n",
       "14  2016-03-21 00:00:00                   0         4177  2016-04-06 07:45:42  \n",
       "15  2016-03-11 00:00:00                   0        24148  2016-03-19 08:46:47  \n",
       "16  2016-04-01 00:00:00                   0        38871  2016-04-01 12:46:46  \n",
       "17  2016-03-20 00:00:00                   0        65599  2016-04-06 13:16:07  \n",
       "18  2016-03-23 00:00:00                   0        88361  2016-04-05 18:45:11  \n",
       "19  2016-04-01 00:00:00                   0        49565  2016-04-05 22:46:05  "
      ]
     },
     "execution_count": 4,
     "metadata": {},
     "output_type": "execute_result"
    }
   ],
   "source": [
    "data.head(20)"
   ]
  },
  {
   "cell_type": "markdown",
   "metadata": {},
   "source": [
    "Видим, что пропуски имеются по крайней мере в 5 столбцах: vehicle_type, gearbox, model, fuel_type, repaired.\n",
    "\n",
    "Теперь удалим неинформативные признаки. Это:\n",
    "\n",
    "- date_crawled (дата скачивания анкеты из базы);\n",
    "- date_created (дата создания анкеты);\n",
    "- number_of_pictures (количество фотографий автомобиля);\n",
    "- postal_code (почтовый индекс владельца анкеты);\n",
    "- last_seen (дата последней активности пользователя);\n",
    "- registration_month (месяц регистрации автомобиля)."
   ]
  },
  {
   "cell_type": "code",
   "execution_count": 5,
   "metadata": {},
   "outputs": [
    {
     "name": "stdout",
     "output_type": "stream",
     "text": [
      "<class 'pandas.core.frame.DataFrame'>\n",
      "RangeIndex: 354369 entries, 0 to 354368\n",
      "Data columns (total 10 columns):\n",
      " #   Column             Non-Null Count   Dtype \n",
      "---  ------             --------------   ----- \n",
      " 0   price              354369 non-null  int64 \n",
      " 1   vehicle_type       316879 non-null  object\n",
      " 2   registration_year  354369 non-null  int64 \n",
      " 3   gearbox            334536 non-null  object\n",
      " 4   power              354369 non-null  int64 \n",
      " 5   model              334664 non-null  object\n",
      " 6   kilometer          354369 non-null  int64 \n",
      " 7   fuel_type          321474 non-null  object\n",
      " 8   brand              354369 non-null  object\n",
      " 9   repaired           283215 non-null  object\n",
      "dtypes: int64(4), object(6)\n",
      "memory usage: 27.0+ MB\n"
     ]
    }
   ],
   "source": [
    "data = data.drop(['date_crawled'], axis = 1)\n",
    "data = data.drop(['date_created'], axis = 1)\n",
    "data = data.drop(['number_of_pictures'], axis = 1)\n",
    "data = data.drop(['postal_code'], axis = 1)\n",
    "data = data.drop(['last_seen'], axis = 1)\n",
    "data = data.drop(['registration_month'], axis = 1)\n",
    "data.info()"
   ]
  },
  {
   "cell_type": "markdown",
   "metadata": {},
   "source": [
    "Таким образом, мы избавились от неинформативных признаков, привели значения столбцов к \"змеиному регистру\" и убедились, что выбранные типы данных корректны. Теперь проверим на наличие явных дубликатов и посмотрим количество пропусков в столбцах в процентах."
   ]
  },
  {
   "cell_type": "code",
   "execution_count": 6,
   "metadata": {},
   "outputs": [
    {
     "data": {
      "text/html": [
       "<style  type=\"text/css\" >\n",
       "#T_09a9a_row0_col0{\n",
       "            background-color:  #b40426;\n",
       "            color:  #f1f1f1;\n",
       "        }#T_09a9a_row1_col0{\n",
       "            background-color:  #e9d5cb;\n",
       "            color:  #000000;\n",
       "        }#T_09a9a_row2_col0{\n",
       "            background-color:  #cfdaea;\n",
       "            color:  #000000;\n",
       "        }#T_09a9a_row3_col0,#T_09a9a_row4_col0{\n",
       "            background-color:  #9ebeff;\n",
       "            color:  #000000;\n",
       "        }#T_09a9a_row5_col0,#T_09a9a_row6_col0,#T_09a9a_row7_col0,#T_09a9a_row8_col0,#T_09a9a_row9_col0{\n",
       "            background-color:  #3b4cc0;\n",
       "            color:  #f1f1f1;\n",
       "        }</style><table id=\"T_09a9a_\" ><thead>    <tr>        <th class=\"blank level0\" ></th>        <th class=\"col_heading level0 col0\" >0</th>    </tr></thead><tbody>\n",
       "                <tr>\n",
       "                        <th id=\"T_09a9a_level0_row0\" class=\"row_heading level0 row0\" >repaired</th>\n",
       "                        <td id=\"T_09a9a_row0_col0\" class=\"data row0 col0\" >20.000000</td>\n",
       "            </tr>\n",
       "            <tr>\n",
       "                        <th id=\"T_09a9a_level0_row1\" class=\"row_heading level0 row1\" >vehicle_type</th>\n",
       "                        <td id=\"T_09a9a_row1_col0\" class=\"data row1 col0\" >11.000000</td>\n",
       "            </tr>\n",
       "            <tr>\n",
       "                        <th id=\"T_09a9a_level0_row2\" class=\"row_heading level0 row2\" >fuel_type</th>\n",
       "                        <td id=\"T_09a9a_row2_col0\" class=\"data row2 col0\" >9.000000</td>\n",
       "            </tr>\n",
       "            <tr>\n",
       "                        <th id=\"T_09a9a_level0_row3\" class=\"row_heading level0 row3\" >gearbox</th>\n",
       "                        <td id=\"T_09a9a_row3_col0\" class=\"data row3 col0\" >6.000000</td>\n",
       "            </tr>\n",
       "            <tr>\n",
       "                        <th id=\"T_09a9a_level0_row4\" class=\"row_heading level0 row4\" >model</th>\n",
       "                        <td id=\"T_09a9a_row4_col0\" class=\"data row4 col0\" >6.000000</td>\n",
       "            </tr>\n",
       "            <tr>\n",
       "                        <th id=\"T_09a9a_level0_row5\" class=\"row_heading level0 row5\" >price</th>\n",
       "                        <td id=\"T_09a9a_row5_col0\" class=\"data row5 col0\" >0.000000</td>\n",
       "            </tr>\n",
       "            <tr>\n",
       "                        <th id=\"T_09a9a_level0_row6\" class=\"row_heading level0 row6\" >registration_year</th>\n",
       "                        <td id=\"T_09a9a_row6_col0\" class=\"data row6 col0\" >0.000000</td>\n",
       "            </tr>\n",
       "            <tr>\n",
       "                        <th id=\"T_09a9a_level0_row7\" class=\"row_heading level0 row7\" >power</th>\n",
       "                        <td id=\"T_09a9a_row7_col0\" class=\"data row7 col0\" >0.000000</td>\n",
       "            </tr>\n",
       "            <tr>\n",
       "                        <th id=\"T_09a9a_level0_row8\" class=\"row_heading level0 row8\" >kilometer</th>\n",
       "                        <td id=\"T_09a9a_row8_col0\" class=\"data row8 col0\" >0.000000</td>\n",
       "            </tr>\n",
       "            <tr>\n",
       "                        <th id=\"T_09a9a_level0_row9\" class=\"row_heading level0 row9\" >brand</th>\n",
       "                        <td id=\"T_09a9a_row9_col0\" class=\"data row9 col0\" >0.000000</td>\n",
       "            </tr>\n",
       "    </tbody></table>"
      ],
      "text/plain": [
       "<pandas.io.formats.style.Styler at 0x7ff91a1b3c70>"
      ]
     },
     "execution_count": 6,
     "metadata": {},
     "output_type": "execute_result"
    }
   ],
   "source": [
    "# проверим количество пропусков в % \n",
    "pd.DataFrame(round(data.isna().mean()*100,).sort_values(ascending=False)).style.background_gradient('coolwarm')"
   ]
  },
  {
   "cell_type": "markdown",
   "metadata": {},
   "source": [
    "Видим, что в половине из оставшихся столбцов имеются пропуски. При этом наибольший процент пропущенных значений в столбце repaired.\n",
    "Для восстановления пропущенных значений используем  класс SimpleImputer и стратегию замены пропусков наиболее часто встречающимися значениями."
   ]
  },
  {
   "cell_type": "code",
   "execution_count": 7,
   "metadata": {},
   "outputs": [],
   "source": [
    "# используем стратегию замены пропусков наиболее часто встречающимися значениями\n",
    "#myImputer = SimpleImputer (strategy= 'most_frequent')\n",
    "#data['repaired'] = myImputer.fit_transform(data['repaired'].values.reshape(-1,1))\n",
    "#data['vehicle_type'] = myImputer.fit_transform(data['vehicle_type'].values.reshape(-1,1))\n",
    "#data['fuel_type'] = myImputer.fit_transform(data['fuel_type'].values.reshape(-1,1))\n",
    "#data['gearbox'] = myImputer.fit_transform(data['gearbox'].values.reshape(-1,1))\n",
    "#data['model'] = myImputer.fit_transform(data['model'].values.reshape(-1,1))\n",
    "#pd.DataFrame(round(data.isna().mean()*100,).sort_values(ascending=False)).style.background_gradient('coolwarm')"
   ]
  },
  {
   "cell_type": "markdown",
   "metadata": {},
   "source": [
    "Начнем с изучения уникальных значений во всех столбцах с пропусками."
   ]
  },
  {
   "cell_type": "code",
   "execution_count": 8,
   "metadata": {},
   "outputs": [
    {
     "data": {
      "text/plain": [
       "array(['no', 'yes', nan], dtype=object)"
      ]
     },
     "execution_count": 8,
     "metadata": {},
     "output_type": "execute_result"
    }
   ],
   "source": [
    "data['repaired'].sort_values().unique()"
   ]
  },
  {
   "cell_type": "code",
   "execution_count": 9,
   "metadata": {},
   "outputs": [
    {
     "data": {
      "text/plain": [
       "array(['bus', 'convertible', 'coupe', 'other', 'sedan', 'small', 'suv',\n",
       "       'wagon', nan], dtype=object)"
      ]
     },
     "execution_count": 9,
     "metadata": {},
     "output_type": "execute_result"
    }
   ],
   "source": [
    "data['vehicle_type'].sort_values().unique()"
   ]
  },
  {
   "cell_type": "code",
   "execution_count": 10,
   "metadata": {},
   "outputs": [
    {
     "data": {
      "text/plain": [
       "array(['cng', 'electric', 'gasoline', 'hybrid', 'lpg', 'other', 'petrol',\n",
       "       nan], dtype=object)"
      ]
     },
     "execution_count": 10,
     "metadata": {},
     "output_type": "execute_result"
    }
   ],
   "source": [
    "data['fuel_type'].sort_values().unique()"
   ]
  },
  {
   "cell_type": "code",
   "execution_count": 11,
   "metadata": {},
   "outputs": [
    {
     "data": {
      "text/plain": [
       "array(['auto', 'manual', nan], dtype=object)"
      ]
     },
     "execution_count": 11,
     "metadata": {},
     "output_type": "execute_result"
    }
   ],
   "source": [
    "data['gearbox'].sort_values().unique()"
   ]
  },
  {
   "cell_type": "code",
   "execution_count": 12,
   "metadata": {},
   "outputs": [
    {
     "data": {
      "text/plain": [
       "array(['100', '145', '147', '156', '159', '1_reihe', '1er', '200',\n",
       "       '2_reihe', '300c', '3_reihe', '3er', '4_reihe', '500', '5_reihe',\n",
       "       '5er', '601', '6_reihe', '6er', '7er', '80', '850', '90', '900',\n",
       "       '9000', '911', 'a1', 'a2', 'a3', 'a4', 'a5', 'a6', 'a8',\n",
       "       'a_klasse', 'accord', 'agila', 'alhambra', 'almera', 'altea',\n",
       "       'amarok', 'antara', 'arosa', 'astra', 'auris', 'avensis', 'aveo',\n",
       "       'aygo', 'b_klasse', 'b_max', 'beetle', 'berlingo', 'bora',\n",
       "       'boxster', 'bravo', 'c1', 'c2', 'c3', 'c4', 'c5', 'c_klasse',\n",
       "       'c_max', 'c_reihe', 'caddy', 'calibra', 'captiva', 'carisma',\n",
       "       'carnival', 'cayenne', 'cc', 'ceed', 'charade', 'cherokee',\n",
       "       'citigo', 'civic', 'cl', 'clio', 'clk', 'clubman', 'colt', 'combo',\n",
       "       'cooper', 'cordoba', 'corolla', 'corsa', 'cr_reihe', 'croma',\n",
       "       'crossfire', 'cuore', 'cx_reihe', 'defender', 'delta', 'discovery',\n",
       "       'doblo', 'ducato', 'duster', 'e_klasse', 'elefantino', 'eos',\n",
       "       'escort', 'espace', 'exeo', 'fabia', 'fiesta', 'focus', 'forester',\n",
       "       'forfour', 'fortwo', 'fox', 'freelander', 'fusion', 'g_klasse',\n",
       "       'galant', 'galaxy', 'getz', 'gl', 'glk', 'golf', 'grand', 'i3',\n",
       "       'i_reihe', 'ibiza', 'impreza', 'insignia', 'jazz', 'jetta',\n",
       "       'jimny', 'juke', 'justy', 'ka', 'kadett', 'kaefer', 'kalina',\n",
       "       'kalos', 'kangoo', 'kappa', 'kuga', 'laguna', 'lancer', 'lanos',\n",
       "       'legacy', 'leon', 'lodgy', 'logan', 'lupo', 'lybra', 'm_klasse',\n",
       "       'm_reihe', 'materia', 'matiz', 'megane', 'meriva', 'micra', 'mii',\n",
       "       'modus', 'mondeo', 'move', 'musa', 'mustang', 'mx_reihe', 'navara',\n",
       "       'niva', 'note', 'nubira', 'octavia', 'omega', 'one', 'other',\n",
       "       'outlander', 'pajero', 'panda', 'passat', 'phaeton', 'picanto',\n",
       "       'polo', 'primera', 'ptcruiser', 'punto', 'q3', 'q5', 'q7',\n",
       "       'qashqai', 'r19', 'range_rover', 'range_rover_evoque',\n",
       "       'range_rover_sport', 'rangerover', 'rav', 'rio', 'roadster',\n",
       "       'roomster', 'rx_reihe', 's60', 's_klasse', 's_max', 's_type',\n",
       "       'samara', 'sandero', 'santa', 'scenic', 'scirocco', 'seicento',\n",
       "       'serie_1', 'serie_2', 'serie_3', 'sharan', 'signum', 'sirion',\n",
       "       'sl', 'slk', 'sorento', 'spark', 'spider', 'sportage', 'sprinter',\n",
       "       'stilo', 'superb', 'swift', 'terios', 'tigra', 'tiguan', 'toledo',\n",
       "       'touareg', 'touran', 'transit', 'transporter', 'tt', 'tucson',\n",
       "       'twingo', 'up', 'v40', 'v50', 'v60', 'v70', 'v_klasse', 'vectra',\n",
       "       'verso', 'viano', 'vito', 'vivaro', 'voyager', 'wrangler',\n",
       "       'x_reihe', 'x_trail', 'x_type', 'xc_reihe', 'yaris', 'yeti',\n",
       "       'ypsilon', 'z_reihe', 'zafira', nan], dtype=object)"
      ]
     },
     "execution_count": 12,
     "metadata": {},
     "output_type": "execute_result"
    }
   ],
   "source": [
    "data['model'].sort_values().unique()"
   ]
  },
  {
   "cell_type": "markdown",
   "metadata": {},
   "source": [
    "Видим, что в столбцах vehicle_type, fuel_type и model присутствует значение 'other'. Поэтому заменим все пропуски в данных столбцах на это значение. Полагаю, что это не приведет к существенному искажению данных. И при этом мы сохраним информацию в строках с пропусками."
   ]
  },
  {
   "cell_type": "code",
   "execution_count": 13,
   "metadata": {},
   "outputs": [],
   "source": [
    "data['vehicle_type'] = data['vehicle_type'].fillna('other')\n",
    "data['fuel_type'] = data['fuel_type'].fillna('other')\n",
    "data['model'] = data['model'].fillna('other')"
   ]
  },
  {
   "cell_type": "code",
   "execution_count": 14,
   "metadata": {},
   "outputs": [
    {
     "data": {
      "text/plain": [
       "no     247161\n",
       "yes     36054\n",
       "Name: repaired, dtype: int64"
      ]
     },
     "execution_count": 14,
     "metadata": {},
     "output_type": "execute_result"
    }
   ],
   "source": [
    "# выведем значения из столбца repaired по частоте их встречаемости\n",
    "data['repaired'].value_counts()"
   ]
  },
  {
   "cell_type": "markdown",
   "metadata": {},
   "source": [
    "Здесь мы видим, что доля авто, которые не были в ремонте, составляет 87% отобщего количества. Поэтому для данного столбца мы заменим пропуски на \"no\". Так мы и сохраним данные в строках с пропусками, и не впадем в излишне критическую ошибку) "
   ]
  },
  {
   "cell_type": "code",
   "execution_count": 15,
   "metadata": {},
   "outputs": [],
   "source": [
    "data['repaired'] = data['repaired'].fillna('no')"
   ]
  },
  {
   "cell_type": "markdown",
   "metadata": {},
   "source": [
    "Доля пропусков в столбце gearbox составляет 6%. При этом при заполнении пропусков (учитывая, что одна и та же модель могла комплектоваться как механической, так и автоматической коробкой) вероятность ошибки стремится к 100%. Поэтому наиболее рациональным будет удаление строк с пропусками: доля утраченной информации не является критичной плюс мы не исказим данные."
   ]
  },
  {
   "cell_type": "code",
   "execution_count": 16,
   "metadata": {},
   "outputs": [],
   "source": [
    "# удаляем строки с пропусками в типе коробки передач\n",
    "data = data.dropna(subset=['gearbox']).reset_index(drop=True)"
   ]
  },
  {
   "cell_type": "code",
   "execution_count": 17,
   "metadata": {},
   "outputs": [
    {
     "data": {
      "text/html": [
       "<style  type=\"text/css\" >\n",
       "#T_3e8c5_row0_col0,#T_3e8c5_row1_col0,#T_3e8c5_row2_col0,#T_3e8c5_row3_col0,#T_3e8c5_row4_col0,#T_3e8c5_row5_col0,#T_3e8c5_row6_col0,#T_3e8c5_row7_col0,#T_3e8c5_row8_col0,#T_3e8c5_row9_col0{\n",
       "            background-color:  #3b4cc0;\n",
       "            color:  #f1f1f1;\n",
       "        }</style><table id=\"T_3e8c5_\" ><thead>    <tr>        <th class=\"blank level0\" ></th>        <th class=\"col_heading level0 col0\" >0</th>    </tr></thead><tbody>\n",
       "                <tr>\n",
       "                        <th id=\"T_3e8c5_level0_row0\" class=\"row_heading level0 row0\" >price</th>\n",
       "                        <td id=\"T_3e8c5_row0_col0\" class=\"data row0 col0\" >0.000000</td>\n",
       "            </tr>\n",
       "            <tr>\n",
       "                        <th id=\"T_3e8c5_level0_row1\" class=\"row_heading level0 row1\" >vehicle_type</th>\n",
       "                        <td id=\"T_3e8c5_row1_col0\" class=\"data row1 col0\" >0.000000</td>\n",
       "            </tr>\n",
       "            <tr>\n",
       "                        <th id=\"T_3e8c5_level0_row2\" class=\"row_heading level0 row2\" >registration_year</th>\n",
       "                        <td id=\"T_3e8c5_row2_col0\" class=\"data row2 col0\" >0.000000</td>\n",
       "            </tr>\n",
       "            <tr>\n",
       "                        <th id=\"T_3e8c5_level0_row3\" class=\"row_heading level0 row3\" >gearbox</th>\n",
       "                        <td id=\"T_3e8c5_row3_col0\" class=\"data row3 col0\" >0.000000</td>\n",
       "            </tr>\n",
       "            <tr>\n",
       "                        <th id=\"T_3e8c5_level0_row4\" class=\"row_heading level0 row4\" >power</th>\n",
       "                        <td id=\"T_3e8c5_row4_col0\" class=\"data row4 col0\" >0.000000</td>\n",
       "            </tr>\n",
       "            <tr>\n",
       "                        <th id=\"T_3e8c5_level0_row5\" class=\"row_heading level0 row5\" >model</th>\n",
       "                        <td id=\"T_3e8c5_row5_col0\" class=\"data row5 col0\" >0.000000</td>\n",
       "            </tr>\n",
       "            <tr>\n",
       "                        <th id=\"T_3e8c5_level0_row6\" class=\"row_heading level0 row6\" >kilometer</th>\n",
       "                        <td id=\"T_3e8c5_row6_col0\" class=\"data row6 col0\" >0.000000</td>\n",
       "            </tr>\n",
       "            <tr>\n",
       "                        <th id=\"T_3e8c5_level0_row7\" class=\"row_heading level0 row7\" >fuel_type</th>\n",
       "                        <td id=\"T_3e8c5_row7_col0\" class=\"data row7 col0\" >0.000000</td>\n",
       "            </tr>\n",
       "            <tr>\n",
       "                        <th id=\"T_3e8c5_level0_row8\" class=\"row_heading level0 row8\" >brand</th>\n",
       "                        <td id=\"T_3e8c5_row8_col0\" class=\"data row8 col0\" >0.000000</td>\n",
       "            </tr>\n",
       "            <tr>\n",
       "                        <th id=\"T_3e8c5_level0_row9\" class=\"row_heading level0 row9\" >repaired</th>\n",
       "                        <td id=\"T_3e8c5_row9_col0\" class=\"data row9 col0\" >0.000000</td>\n",
       "            </tr>\n",
       "    </tbody></table>"
      ],
      "text/plain": [
       "<pandas.io.formats.style.Styler at 0x7ff9ac1ee670>"
      ]
     },
     "execution_count": 17,
     "metadata": {},
     "output_type": "execute_result"
    }
   ],
   "source": [
    "# проверим количество пропусков в % \n",
    "pd.DataFrame(round(data.isna().mean()*100,).sort_values(ascending=False)).style.background_gradient('coolwarm')"
   ]
  },
  {
   "cell_type": "markdown",
   "metadata": {},
   "source": [
    "Пропуски обработаны. Теперь перейдем к поиску дубликатов."
   ]
  },
  {
   "cell_type": "code",
   "execution_count": 18,
   "metadata": {},
   "outputs": [
    {
     "data": {
      "text/plain": [
       "49443"
      ]
     },
     "execution_count": 18,
     "metadata": {},
     "output_type": "execute_result"
    }
   ],
   "source": [
    "# проверим на наличие явных дубликатов\n",
    "data.duplicated().sum()"
   ]
  },
  {
   "cell_type": "code",
   "execution_count": 19,
   "metadata": {},
   "outputs": [
    {
     "data": {
      "text/plain": [
       "0"
      ]
     },
     "execution_count": 19,
     "metadata": {},
     "output_type": "execute_result"
    }
   ],
   "source": [
    "data = data.drop_duplicates() \n",
    "data.duplicated().sum()"
   ]
  },
  {
   "cell_type": "markdown",
   "metadata": {},
   "source": [
    "Видим, что явных дубликатов в датафрейме больше нет. Поиск неявных дубликатов приминительно к данному случаю полагаю нецелесообразным. Поэтому теперь посмотрим на распределение по каждому из столбцов."
   ]
  },
  {
   "cell_type": "code",
   "execution_count": 20,
   "metadata": {
    "scrolled": true
   },
   "outputs": [
    {
     "data": {
      "text/html": [
       "<div>\n",
       "<style scoped>\n",
       "    .dataframe tbody tr th:only-of-type {\n",
       "        vertical-align: middle;\n",
       "    }\n",
       "\n",
       "    .dataframe tbody tr th {\n",
       "        vertical-align: top;\n",
       "    }\n",
       "\n",
       "    .dataframe thead th {\n",
       "        text-align: right;\n",
       "    }\n",
       "</style>\n",
       "<table border=\"1\" class=\"dataframe\">\n",
       "  <thead>\n",
       "    <tr style=\"text-align: right;\">\n",
       "      <th></th>\n",
       "      <th>count</th>\n",
       "      <th>mean</th>\n",
       "      <th>std</th>\n",
       "      <th>min</th>\n",
       "      <th>25%</th>\n",
       "      <th>50%</th>\n",
       "      <th>75%</th>\n",
       "      <th>max</th>\n",
       "    </tr>\n",
       "  </thead>\n",
       "  <tbody>\n",
       "    <tr>\n",
       "      <th>price</th>\n",
       "      <td>285093.0</td>\n",
       "      <td>4654.479777</td>\n",
       "      <td>4616.454714</td>\n",
       "      <td>0.0</td>\n",
       "      <td>1200.0</td>\n",
       "      <td>2950.0</td>\n",
       "      <td>6800.0</td>\n",
       "      <td>20000.0</td>\n",
       "    </tr>\n",
       "    <tr>\n",
       "      <th>registration_year</th>\n",
       "      <td>285093.0</td>\n",
       "      <td>2003.482772</td>\n",
       "      <td>32.540388</td>\n",
       "      <td>1000.0</td>\n",
       "      <td>1999.0</td>\n",
       "      <td>2003.0</td>\n",
       "      <td>2008.0</td>\n",
       "      <td>9000.0</td>\n",
       "    </tr>\n",
       "    <tr>\n",
       "      <th>power</th>\n",
       "      <td>285093.0</td>\n",
       "      <td>115.492976</td>\n",
       "      <td>204.039422</td>\n",
       "      <td>0.0</td>\n",
       "      <td>75.0</td>\n",
       "      <td>106.0</td>\n",
       "      <td>144.0</td>\n",
       "      <td>20000.0</td>\n",
       "    </tr>\n",
       "    <tr>\n",
       "      <th>kilometer</th>\n",
       "      <td>285093.0</td>\n",
       "      <td>127472.859733</td>\n",
       "      <td>37778.798259</td>\n",
       "      <td>5000.0</td>\n",
       "      <td>125000.0</td>\n",
       "      <td>150000.0</td>\n",
       "      <td>150000.0</td>\n",
       "      <td>150000.0</td>\n",
       "    </tr>\n",
       "  </tbody>\n",
       "</table>\n",
       "</div>"
      ],
      "text/plain": [
       "                      count           mean           std     min       25%  \\\n",
       "price              285093.0    4654.479777   4616.454714     0.0    1200.0   \n",
       "registration_year  285093.0    2003.482772     32.540388  1000.0    1999.0   \n",
       "power              285093.0     115.492976    204.039422     0.0      75.0   \n",
       "kilometer          285093.0  127472.859733  37778.798259  5000.0  125000.0   \n",
       "\n",
       "                        50%       75%       max  \n",
       "price                2950.0    6800.0   20000.0  \n",
       "registration_year    2003.0    2008.0    9000.0  \n",
       "power                 106.0     144.0   20000.0  \n",
       "kilometer          150000.0  150000.0  150000.0  "
      ]
     },
     "execution_count": 20,
     "metadata": {},
     "output_type": "execute_result"
    }
   ],
   "source": [
    "data.describe().T"
   ]
  },
  {
   "cell_type": "markdown",
   "metadata": {},
   "source": [
    "Обнаружили следующие аномалии:\n",
    "\n",
    "- имеются авто с ценой 0 евро;\n",
    "- имеются авто, зарегистрированные в 1000 году и зарегистрированные в 9000 году;\n",
    "- имеются авто с мощностью двигателя 0 л.с. и с мощностью 20 000 л.с.\n",
    "\n",
    "Диапазон значений пробега авто от 5 000 км до 150 000 км представляется вполне разумным."
   ]
  },
  {
   "cell_type": "code",
   "execution_count": 21,
   "metadata": {},
   "outputs": [
    {
     "data": {
      "image/png": "[encoded data removed]",
      "text/plain": [
       "<Figure size 576x432 with 1 Axes>"
      ]
     },
     "metadata": {
      "needs_background": "light"
     },
     "output_type": "display_data"
    }
   ],
   "source": [
    "# посторим диаграмму размаха для цены\n",
    "data.boxplot(column='price', figsize=(8, 6))\n",
    "plt.title('Размах цены авто')\n",
    "plt.ylim(0, 25000)\n",
    "plt.ylabel('Цена авто, евро')\n",
    "plt.show()"
   ]
  },
  {
   "cell_type": "code",
   "execution_count": 22,
   "metadata": {},
   "outputs": [],
   "source": [
    "# оставим в столбце авто с ценой от 1 250 евро и выше\n",
    "data = data.query('1250 <= price')"
   ]
  },
  {
   "cell_type": "code",
   "execution_count": 23,
   "metadata": {},
   "outputs": [
    {
     "data": {
      "image/png": "[encoded data removed]",
      "text/plain": [
       "<Figure size 576x432 with 1 Axes>"
      ]
     },
     "metadata": {
      "needs_background": "light"
     },
     "output_type": "display_data"
    }
   ],
   "source": [
    "# посторим диаграмму размаха для года регистрации авто\n",
    "# для посторения диаграммы возьмем диапазон от 1900 настоящего времени (т.е. до 2023 года)\n",
    "data.boxplot(column='registration_year', figsize=(8, 6))\n",
    "plt.title('Размах года регистрации авто')\n",
    "plt.ylim(1900, 2023)\n",
    "plt.ylabel('Год регистрации авто')\n",
    "plt.show()"
   ]
  },
  {
   "cell_type": "code",
   "execution_count": 24,
   "metadata": {},
   "outputs": [],
   "source": [
    "# оставим в столбце авто с годом регистрации с 1985 по 2016 включительно\n",
    "data = data.query('1985 <= registration_year <= 2016')"
   ]
  },
  {
   "cell_type": "code",
   "execution_count": 25,
   "metadata": {},
   "outputs": [
    {
     "data": {
      "image/png": "[encoded data removed]",
      "text/plain": [
       "<Figure size 576x432 with 1 Axes>"
      ]
     },
     "metadata": {
      "needs_background": "light"
     },
     "output_type": "display_data"
    }
   ],
   "source": [
    "# посторим диаграмму размаха для мощности двигателя\n",
    "data.boxplot(column='power', figsize=(8, 6))\n",
    "plt.title('Размах мощности двигателя')\n",
    "plt.ylim(0, 2000)\n",
    "plt.ylabel('Мощность двигателя, л.с.')\n",
    "plt.show()"
   ]
  },
  {
   "cell_type": "code",
   "execution_count": 26,
   "metadata": {},
   "outputs": [
    {
     "data": {
      "image/png": "[encoded data removed]",
      "text/plain": [
       "<Figure size 576x432 with 1 Axes>"
      ]
     },
     "metadata": {
      "needs_background": "light"
     },
     "output_type": "display_data"
    }
   ],
   "source": [
    "# видим, что максимальная мощность двигателя для авто в нашем датафрейме составляет примерно 250 л.с. \n",
    "# поэтому ограничим диапазон диаграммы значениями от 0 до 300\n",
    "data.boxplot(column='power', figsize=(8, 6))\n",
    "plt.title('Размах мощности двигателя')\n",
    "plt.ylim(0, 300)\n",
    "plt.ylabel('Мощность двигателя, л.с.')\n",
    "plt.show()"
   ]
  },
  {
   "cell_type": "code",
   "execution_count": 27,
   "metadata": {},
   "outputs": [],
   "source": [
    "# полагаю разумным оставить авто с мощностью двигателя от 50 до 255 л.с.\n",
    "data = data.query('50 <= power <= 255')"
   ]
  },
  {
   "cell_type": "code",
   "execution_count": 28,
   "metadata": {},
   "outputs": [
    {
     "data": {
      "text/html": [
       "<div>\n",
       "<style scoped>\n",
       "    .dataframe tbody tr th:only-of-type {\n",
       "        vertical-align: middle;\n",
       "    }\n",
       "\n",
       "    .dataframe tbody tr th {\n",
       "        vertical-align: top;\n",
       "    }\n",
       "\n",
       "    .dataframe thead th {\n",
       "        text-align: right;\n",
       "    }\n",
       "</style>\n",
       "<table border=\"1\" class=\"dataframe\">\n",
       "  <thead>\n",
       "    <tr style=\"text-align: right;\">\n",
       "      <th></th>\n",
       "      <th>count</th>\n",
       "      <th>mean</th>\n",
       "      <th>std</th>\n",
       "      <th>min</th>\n",
       "      <th>25%</th>\n",
       "      <th>50%</th>\n",
       "      <th>75%</th>\n",
       "      <th>max</th>\n",
       "    </tr>\n",
       "  </thead>\n",
       "  <tbody>\n",
       "    <tr>\n",
       "      <th>price</th>\n",
       "      <td>182095.0</td>\n",
       "      <td>6074.870974</td>\n",
       "      <td>4515.453814</td>\n",
       "      <td>1250.0</td>\n",
       "      <td>2500.0</td>\n",
       "      <td>4500.0</td>\n",
       "      <td>8490.0</td>\n",
       "      <td>20000.0</td>\n",
       "    </tr>\n",
       "    <tr>\n",
       "      <th>registration_year</th>\n",
       "      <td>182095.0</td>\n",
       "      <td>2004.631033</td>\n",
       "      <td>5.314753</td>\n",
       "      <td>1985.0</td>\n",
       "      <td>2001.0</td>\n",
       "      <td>2005.0</td>\n",
       "      <td>2008.0</td>\n",
       "      <td>2016.0</td>\n",
       "    </tr>\n",
       "    <tr>\n",
       "      <th>power</th>\n",
       "      <td>182095.0</td>\n",
       "      <td>126.709404</td>\n",
       "      <td>44.674215</td>\n",
       "      <td>50.0</td>\n",
       "      <td>94.0</td>\n",
       "      <td>120.0</td>\n",
       "      <td>150.0</td>\n",
       "      <td>255.0</td>\n",
       "    </tr>\n",
       "    <tr>\n",
       "      <th>kilometer</th>\n",
       "      <td>182095.0</td>\n",
       "      <td>123633.460556</td>\n",
       "      <td>38879.011544</td>\n",
       "      <td>5000.0</td>\n",
       "      <td>100000.0</td>\n",
       "      <td>150000.0</td>\n",
       "      <td>150000.0</td>\n",
       "      <td>150000.0</td>\n",
       "    </tr>\n",
       "  </tbody>\n",
       "</table>\n",
       "</div>"
      ],
      "text/plain": [
       "                      count           mean           std     min       25%  \\\n",
       "price              182095.0    6074.870974   4515.453814  1250.0    2500.0   \n",
       "registration_year  182095.0    2004.631033      5.314753  1985.0    2001.0   \n",
       "power              182095.0     126.709404     44.674215    50.0      94.0   \n",
       "kilometer          182095.0  123633.460556  38879.011544  5000.0  100000.0   \n",
       "\n",
       "                        50%       75%       max  \n",
       "price                4500.0    8490.0   20000.0  \n",
       "registration_year    2005.0    2008.0    2016.0  \n",
       "power                 120.0     150.0     255.0  \n",
       "kilometer          150000.0  150000.0  150000.0  "
      ]
     },
     "execution_count": 28,
     "metadata": {},
     "output_type": "execute_result"
    }
   ],
   "source": [
    "# посмотрим на получившиеся распределения значений по столбцам\n",
    "data.describe().T"
   ]
  },
  {
   "cell_type": "markdown",
   "metadata": {},
   "source": [
    "Теперь значения столбцов выглядят вполне разумно. Выведем на экран первые 20 строчек нашего датафрейма"
   ]
  },
  {
   "cell_type": "code",
   "execution_count": 29,
   "metadata": {
    "scrolled": true
   },
   "outputs": [
    {
     "data": {
      "text/html": [
       "<div>\n",
       "<style scoped>\n",
       "    .dataframe tbody tr th:only-of-type {\n",
       "        vertical-align: middle;\n",
       "    }\n",
       "\n",
       "    .dataframe tbody tr th {\n",
       "        vertical-align: top;\n",
       "    }\n",
       "\n",
       "    .dataframe thead th {\n",
       "        text-align: right;\n",
       "    }\n",
       "</style>\n",
       "<table border=\"1\" class=\"dataframe\">\n",
       "  <thead>\n",
       "    <tr style=\"text-align: right;\">\n",
       "      <th></th>\n",
       "      <th>price</th>\n",
       "      <th>vehicle_type</th>\n",
       "      <th>registration_year</th>\n",
       "      <th>gearbox</th>\n",
       "      <th>power</th>\n",
       "      <th>model</th>\n",
       "      <th>kilometer</th>\n",
       "      <th>fuel_type</th>\n",
       "      <th>brand</th>\n",
       "      <th>repaired</th>\n",
       "    </tr>\n",
       "  </thead>\n",
       "  <tbody>\n",
       "    <tr>\n",
       "      <th>0</th>\n",
       "      <td>18300</td>\n",
       "      <td>coupe</td>\n",
       "      <td>2011</td>\n",
       "      <td>manual</td>\n",
       "      <td>190</td>\n",
       "      <td>other</td>\n",
       "      <td>125000</td>\n",
       "      <td>gasoline</td>\n",
       "      <td>audi</td>\n",
       "      <td>yes</td>\n",
       "    </tr>\n",
       "    <tr>\n",
       "      <th>1</th>\n",
       "      <td>9800</td>\n",
       "      <td>suv</td>\n",
       "      <td>2004</td>\n",
       "      <td>auto</td>\n",
       "      <td>163</td>\n",
       "      <td>grand</td>\n",
       "      <td>125000</td>\n",
       "      <td>gasoline</td>\n",
       "      <td>jeep</td>\n",
       "      <td>no</td>\n",
       "    </tr>\n",
       "    <tr>\n",
       "      <th>2</th>\n",
       "      <td>1500</td>\n",
       "      <td>small</td>\n",
       "      <td>2001</td>\n",
       "      <td>manual</td>\n",
       "      <td>75</td>\n",
       "      <td>golf</td>\n",
       "      <td>150000</td>\n",
       "      <td>petrol</td>\n",
       "      <td>volkswagen</td>\n",
       "      <td>no</td>\n",
       "    </tr>\n",
       "    <tr>\n",
       "      <th>3</th>\n",
       "      <td>3600</td>\n",
       "      <td>small</td>\n",
       "      <td>2008</td>\n",
       "      <td>manual</td>\n",
       "      <td>69</td>\n",
       "      <td>fabia</td>\n",
       "      <td>90000</td>\n",
       "      <td>gasoline</td>\n",
       "      <td>skoda</td>\n",
       "      <td>no</td>\n",
       "    </tr>\n",
       "    <tr>\n",
       "      <th>4</th>\n",
       "      <td>2200</td>\n",
       "      <td>convertible</td>\n",
       "      <td>2004</td>\n",
       "      <td>manual</td>\n",
       "      <td>109</td>\n",
       "      <td>2_reihe</td>\n",
       "      <td>150000</td>\n",
       "      <td>petrol</td>\n",
       "      <td>peugeot</td>\n",
       "      <td>no</td>\n",
       "    </tr>\n",
       "    <tr>\n",
       "      <th>5</th>\n",
       "      <td>14500</td>\n",
       "      <td>bus</td>\n",
       "      <td>2014</td>\n",
       "      <td>manual</td>\n",
       "      <td>125</td>\n",
       "      <td>c_max</td>\n",
       "      <td>30000</td>\n",
       "      <td>petrol</td>\n",
       "      <td>ford</td>\n",
       "      <td>no</td>\n",
       "    </tr>\n",
       "    <tr>\n",
       "      <th>6</th>\n",
       "      <td>2000</td>\n",
       "      <td>sedan</td>\n",
       "      <td>2004</td>\n",
       "      <td>manual</td>\n",
       "      <td>105</td>\n",
       "      <td>3_reihe</td>\n",
       "      <td>150000</td>\n",
       "      <td>petrol</td>\n",
       "      <td>mazda</td>\n",
       "      <td>no</td>\n",
       "    </tr>\n",
       "    <tr>\n",
       "      <th>7</th>\n",
       "      <td>2799</td>\n",
       "      <td>wagon</td>\n",
       "      <td>2005</td>\n",
       "      <td>manual</td>\n",
       "      <td>140</td>\n",
       "      <td>passat</td>\n",
       "      <td>150000</td>\n",
       "      <td>gasoline</td>\n",
       "      <td>volkswagen</td>\n",
       "      <td>yes</td>\n",
       "    </tr>\n",
       "    <tr>\n",
       "      <th>8</th>\n",
       "      <td>2500</td>\n",
       "      <td>wagon</td>\n",
       "      <td>2004</td>\n",
       "      <td>manual</td>\n",
       "      <td>131</td>\n",
       "      <td>passat</td>\n",
       "      <td>150000</td>\n",
       "      <td>other</td>\n",
       "      <td>volkswagen</td>\n",
       "      <td>no</td>\n",
       "    </tr>\n",
       "    <tr>\n",
       "      <th>9</th>\n",
       "      <td>17999</td>\n",
       "      <td>suv</td>\n",
       "      <td>2011</td>\n",
       "      <td>manual</td>\n",
       "      <td>190</td>\n",
       "      <td>navara</td>\n",
       "      <td>70000</td>\n",
       "      <td>gasoline</td>\n",
       "      <td>nissan</td>\n",
       "      <td>no</td>\n",
       "    </tr>\n",
       "    <tr>\n",
       "      <th>10</th>\n",
       "      <td>1750</td>\n",
       "      <td>small</td>\n",
       "      <td>2004</td>\n",
       "      <td>auto</td>\n",
       "      <td>75</td>\n",
       "      <td>twingo</td>\n",
       "      <td>150000</td>\n",
       "      <td>petrol</td>\n",
       "      <td>renault</td>\n",
       "      <td>no</td>\n",
       "    </tr>\n",
       "    <tr>\n",
       "      <th>11</th>\n",
       "      <td>7550</td>\n",
       "      <td>bus</td>\n",
       "      <td>2007</td>\n",
       "      <td>manual</td>\n",
       "      <td>136</td>\n",
       "      <td>c_max</td>\n",
       "      <td>150000</td>\n",
       "      <td>gasoline</td>\n",
       "      <td>ford</td>\n",
       "      <td>no</td>\n",
       "    </tr>\n",
       "    <tr>\n",
       "      <th>12</th>\n",
       "      <td>1850</td>\n",
       "      <td>bus</td>\n",
       "      <td>2004</td>\n",
       "      <td>manual</td>\n",
       "      <td>102</td>\n",
       "      <td>a_klasse</td>\n",
       "      <td>150000</td>\n",
       "      <td>petrol</td>\n",
       "      <td>mercedes_benz</td>\n",
       "      <td>no</td>\n",
       "    </tr>\n",
       "    <tr>\n",
       "      <th>13</th>\n",
       "      <td>10400</td>\n",
       "      <td>coupe</td>\n",
       "      <td>2009</td>\n",
       "      <td>manual</td>\n",
       "      <td>160</td>\n",
       "      <td>scirocco</td>\n",
       "      <td>100000</td>\n",
       "      <td>petrol</td>\n",
       "      <td>volkswagen</td>\n",
       "      <td>no</td>\n",
       "    </tr>\n",
       "    <tr>\n",
       "      <th>14</th>\n",
       "      <td>3699</td>\n",
       "      <td>sedan</td>\n",
       "      <td>2002</td>\n",
       "      <td>auto</td>\n",
       "      <td>231</td>\n",
       "      <td>5er</td>\n",
       "      <td>150000</td>\n",
       "      <td>petrol</td>\n",
       "      <td>bmw</td>\n",
       "      <td>no</td>\n",
       "    </tr>\n",
       "    <tr>\n",
       "      <th>15</th>\n",
       "      <td>2500</td>\n",
       "      <td>wagon</td>\n",
       "      <td>2002</td>\n",
       "      <td>auto</td>\n",
       "      <td>193</td>\n",
       "      <td>5er</td>\n",
       "      <td>150000</td>\n",
       "      <td>gasoline</td>\n",
       "      <td>bmw</td>\n",
       "      <td>yes</td>\n",
       "    </tr>\n",
       "    <tr>\n",
       "      <th>16</th>\n",
       "      <td>6900</td>\n",
       "      <td>sedan</td>\n",
       "      <td>2008</td>\n",
       "      <td>manual</td>\n",
       "      <td>99</td>\n",
       "      <td>civic</td>\n",
       "      <td>60000</td>\n",
       "      <td>petrol</td>\n",
       "      <td>honda</td>\n",
       "      <td>no</td>\n",
       "    </tr>\n",
       "    <tr>\n",
       "      <th>17</th>\n",
       "      <td>3300</td>\n",
       "      <td>sedan</td>\n",
       "      <td>1995</td>\n",
       "      <td>auto</td>\n",
       "      <td>113</td>\n",
       "      <td>e_klasse</td>\n",
       "      <td>150000</td>\n",
       "      <td>gasoline</td>\n",
       "      <td>mercedes_benz</td>\n",
       "      <td>no</td>\n",
       "    </tr>\n",
       "    <tr>\n",
       "      <th>18</th>\n",
       "      <td>18000</td>\n",
       "      <td>sedan</td>\n",
       "      <td>2007</td>\n",
       "      <td>auto</td>\n",
       "      <td>218</td>\n",
       "      <td>3er</td>\n",
       "      <td>20000</td>\n",
       "      <td>petrol</td>\n",
       "      <td>bmw</td>\n",
       "      <td>no</td>\n",
       "    </tr>\n",
       "    <tr>\n",
       "      <th>19</th>\n",
       "      <td>3500</td>\n",
       "      <td>sedan</td>\n",
       "      <td>2004</td>\n",
       "      <td>auto</td>\n",
       "      <td>122</td>\n",
       "      <td>e_klasse</td>\n",
       "      <td>150000</td>\n",
       "      <td>gasoline</td>\n",
       "      <td>mercedes_benz</td>\n",
       "      <td>no</td>\n",
       "    </tr>\n",
       "  </tbody>\n",
       "</table>\n",
       "</div>"
      ],
      "text/plain": [
       "    price vehicle_type  registration_year gearbox  power     model  kilometer  \\\n",
       "0   18300        coupe               2011  manual    190     other     125000   \n",
       "1    9800          suv               2004    auto    163     grand     125000   \n",
       "2    1500        small               2001  manual     75      golf     150000   \n",
       "3    3600        small               2008  manual     69     fabia      90000   \n",
       "4    2200  convertible               2004  manual    109   2_reihe     150000   \n",
       "5   14500          bus               2014  manual    125     c_max      30000   \n",
       "6    2000        sedan               2004  manual    105   3_reihe     150000   \n",
       "7    2799        wagon               2005  manual    140    passat     150000   \n",
       "8    2500        wagon               2004  manual    131    passat     150000   \n",
       "9   17999          suv               2011  manual    190    navara      70000   \n",
       "10   1750        small               2004    auto     75    twingo     150000   \n",
       "11   7550          bus               2007  manual    136     c_max     150000   \n",
       "12   1850          bus               2004  manual    102  a_klasse     150000   \n",
       "13  10400        coupe               2009  manual    160  scirocco     100000   \n",
       "14   3699        sedan               2002    auto    231       5er     150000   \n",
       "15   2500        wagon               2002    auto    193       5er     150000   \n",
       "16   6900        sedan               2008  manual     99     civic      60000   \n",
       "17   3300        sedan               1995    auto    113  e_klasse     150000   \n",
       "18  18000        sedan               2007    auto    218       3er      20000   \n",
       "19   3500        sedan               2004    auto    122  e_klasse     150000   \n",
       "\n",
       "   fuel_type          brand repaired  \n",
       "0   gasoline           audi      yes  \n",
       "1   gasoline           jeep       no  \n",
       "2     petrol     volkswagen       no  \n",
       "3   gasoline          skoda       no  \n",
       "4     petrol        peugeot       no  \n",
       "5     petrol           ford       no  \n",
       "6     petrol          mazda       no  \n",
       "7   gasoline     volkswagen      yes  \n",
       "8      other     volkswagen       no  \n",
       "9   gasoline         nissan       no  \n",
       "10    petrol        renault       no  \n",
       "11  gasoline           ford       no  \n",
       "12    petrol  mercedes_benz       no  \n",
       "13    petrol     volkswagen       no  \n",
       "14    petrol            bmw       no  \n",
       "15  gasoline            bmw      yes  \n",
       "16    petrol          honda       no  \n",
       "17  gasoline  mercedes_benz       no  \n",
       "18    petrol            bmw       no  \n",
       "19  gasoline  mercedes_benz       no  "
      ]
     },
     "execution_count": 29,
     "metadata": {},
     "output_type": "execute_result"
    }
   ],
   "source": [
    "data = data.reset_index(drop=True)\n",
    "data.head(20)"
   ]
  },
  {
   "cell_type": "code",
   "execution_count": 30,
   "metadata": {
    "scrolled": true
   },
   "outputs": [],
   "source": [
    "# сбросим индексы и выведем снова первые 20 строчек\n",
    "#data = data.reset_index(drop=True)\n",
    "#data.head(20)"
   ]
  },
  {
   "cell_type": "code",
   "execution_count": 31,
   "metadata": {},
   "outputs": [],
   "source": [
    "# выведем значения из столбца model по частоте их встречаемости\n",
    "#pd.set_option('display.max_rows', None)\n",
    "#pd.set_option('display.max_columns', None)\n",
    "#data['model'].value_counts()"
   ]
  },
  {
   "cell_type": "markdown",
   "metadata": {},
   "source": [
    "Для минимизации количества столбцов, которые появятся после кодирования, полагаю разумным ограничиться наиболее часто встречающимися в столбце model категориями: оставим значения, встречающиеся от 1 000 и более раз. Таких значений у нас 36."
   ]
  },
  {
   "cell_type": "code",
   "execution_count": 32,
   "metadata": {},
   "outputs": [],
   "source": [
    "# оставим в датафрейме 35 наиболее часто встречающихся значений в столбце model \n",
    "#data = data.query('model in [\"golf\", \"other\", \"3er\", \"a4\", \"passat\", \"astra\", \"polo\", \"c_klasse\", \"5er\", \\\n",
    "#\"e_klasse\", \"corsa\", \"a3\", \"a6\", \"focus\", \"transporter\", \"2_reihe\", \"fortwo\", \"fiesta\", \"a_klasse\", \"1er\", \"touran\", \\\n",
    "#\"zafira\", \"3_reihe\", \"ibiza\", \"fabia\", \"mondeo\", \"clio\", \"octavia\", \"vectra\", \"megane\", \"cooper\", \"clk\", \"twingo\", \\\n",
    "#\"caddy\", \"x_reihe\", \"i_reihe\"]')"
   ]
  },
  {
   "cell_type": "code",
   "execution_count": 33,
   "metadata": {},
   "outputs": [
    {
     "name": "stdout",
     "output_type": "stream",
     "text": [
      "<class 'pandas.core.frame.DataFrame'>\n",
      "RangeIndex: 182095 entries, 0 to 182094\n",
      "Data columns (total 10 columns):\n",
      " #   Column             Non-Null Count   Dtype \n",
      "---  ------             --------------   ----- \n",
      " 0   price              182095 non-null  int64 \n",
      " 1   vehicle_type       182095 non-null  object\n",
      " 2   registration_year  182095 non-null  int64 \n",
      " 3   gearbox            182095 non-null  object\n",
      " 4   power              182095 non-null  int64 \n",
      " 5   model              182095 non-null  object\n",
      " 6   kilometer          182095 non-null  int64 \n",
      " 7   fuel_type          182095 non-null  object\n",
      " 8   brand              182095 non-null  object\n",
      " 9   repaired           182095 non-null  object\n",
      "dtypes: int64(4), object(6)\n",
      "memory usage: 13.9+ MB\n"
     ]
    }
   ],
   "source": [
    "data.info()"
   ]
  },
  {
   "cell_type": "code",
   "execution_count": 34,
   "metadata": {
    "scrolled": true
   },
   "outputs": [
    {
     "data": {
      "text/html": [
       "<div>\n",
       "<style scoped>\n",
       "    .dataframe tbody tr th:only-of-type {\n",
       "        vertical-align: middle;\n",
       "    }\n",
       "\n",
       "    .dataframe tbody tr th {\n",
       "        vertical-align: top;\n",
       "    }\n",
       "\n",
       "    .dataframe thead th {\n",
       "        text-align: right;\n",
       "    }\n",
       "</style>\n",
       "<table border=\"1\" class=\"dataframe\">\n",
       "  <thead>\n",
       "    <tr style=\"text-align: right;\">\n",
       "      <th></th>\n",
       "      <th>price</th>\n",
       "      <th>vehicle_type</th>\n",
       "      <th>registration_year</th>\n",
       "      <th>gearbox</th>\n",
       "      <th>power</th>\n",
       "      <th>model</th>\n",
       "      <th>kilometer</th>\n",
       "      <th>fuel_type</th>\n",
       "      <th>brand</th>\n",
       "      <th>repaired</th>\n",
       "    </tr>\n",
       "  </thead>\n",
       "  <tbody>\n",
       "    <tr>\n",
       "      <th>0</th>\n",
       "      <td>18300</td>\n",
       "      <td>coupe</td>\n",
       "      <td>2011</td>\n",
       "      <td>manual</td>\n",
       "      <td>190</td>\n",
       "      <td>other</td>\n",
       "      <td>125000</td>\n",
       "      <td>gasoline</td>\n",
       "      <td>audi</td>\n",
       "      <td>yes</td>\n",
       "    </tr>\n",
       "    <tr>\n",
       "      <th>1</th>\n",
       "      <td>9800</td>\n",
       "      <td>suv</td>\n",
       "      <td>2004</td>\n",
       "      <td>auto</td>\n",
       "      <td>163</td>\n",
       "      <td>grand</td>\n",
       "      <td>125000</td>\n",
       "      <td>gasoline</td>\n",
       "      <td>jeep</td>\n",
       "      <td>no</td>\n",
       "    </tr>\n",
       "    <tr>\n",
       "      <th>2</th>\n",
       "      <td>1500</td>\n",
       "      <td>small</td>\n",
       "      <td>2001</td>\n",
       "      <td>manual</td>\n",
       "      <td>75</td>\n",
       "      <td>golf</td>\n",
       "      <td>150000</td>\n",
       "      <td>petrol</td>\n",
       "      <td>volkswagen</td>\n",
       "      <td>no</td>\n",
       "    </tr>\n",
       "    <tr>\n",
       "      <th>3</th>\n",
       "      <td>3600</td>\n",
       "      <td>small</td>\n",
       "      <td>2008</td>\n",
       "      <td>manual</td>\n",
       "      <td>69</td>\n",
       "      <td>fabia</td>\n",
       "      <td>90000</td>\n",
       "      <td>gasoline</td>\n",
       "      <td>skoda</td>\n",
       "      <td>no</td>\n",
       "    </tr>\n",
       "    <tr>\n",
       "      <th>4</th>\n",
       "      <td>2200</td>\n",
       "      <td>convertible</td>\n",
       "      <td>2004</td>\n",
       "      <td>manual</td>\n",
       "      <td>109</td>\n",
       "      <td>2_reihe</td>\n",
       "      <td>150000</td>\n",
       "      <td>petrol</td>\n",
       "      <td>peugeot</td>\n",
       "      <td>no</td>\n",
       "    </tr>\n",
       "    <tr>\n",
       "      <th>5</th>\n",
       "      <td>14500</td>\n",
       "      <td>bus</td>\n",
       "      <td>2014</td>\n",
       "      <td>manual</td>\n",
       "      <td>125</td>\n",
       "      <td>c_max</td>\n",
       "      <td>30000</td>\n",
       "      <td>petrol</td>\n",
       "      <td>ford</td>\n",
       "      <td>no</td>\n",
       "    </tr>\n",
       "    <tr>\n",
       "      <th>6</th>\n",
       "      <td>2000</td>\n",
       "      <td>sedan</td>\n",
       "      <td>2004</td>\n",
       "      <td>manual</td>\n",
       "      <td>105</td>\n",
       "      <td>3_reihe</td>\n",
       "      <td>150000</td>\n",
       "      <td>petrol</td>\n",
       "      <td>mazda</td>\n",
       "      <td>no</td>\n",
       "    </tr>\n",
       "    <tr>\n",
       "      <th>7</th>\n",
       "      <td>2799</td>\n",
       "      <td>wagon</td>\n",
       "      <td>2005</td>\n",
       "      <td>manual</td>\n",
       "      <td>140</td>\n",
       "      <td>passat</td>\n",
       "      <td>150000</td>\n",
       "      <td>gasoline</td>\n",
       "      <td>volkswagen</td>\n",
       "      <td>yes</td>\n",
       "    </tr>\n",
       "    <tr>\n",
       "      <th>8</th>\n",
       "      <td>2500</td>\n",
       "      <td>wagon</td>\n",
       "      <td>2004</td>\n",
       "      <td>manual</td>\n",
       "      <td>131</td>\n",
       "      <td>passat</td>\n",
       "      <td>150000</td>\n",
       "      <td>other</td>\n",
       "      <td>volkswagen</td>\n",
       "      <td>no</td>\n",
       "    </tr>\n",
       "    <tr>\n",
       "      <th>9</th>\n",
       "      <td>17999</td>\n",
       "      <td>suv</td>\n",
       "      <td>2011</td>\n",
       "      <td>manual</td>\n",
       "      <td>190</td>\n",
       "      <td>navara</td>\n",
       "      <td>70000</td>\n",
       "      <td>gasoline</td>\n",
       "      <td>nissan</td>\n",
       "      <td>no</td>\n",
       "    </tr>\n",
       "    <tr>\n",
       "      <th>10</th>\n",
       "      <td>1750</td>\n",
       "      <td>small</td>\n",
       "      <td>2004</td>\n",
       "      <td>auto</td>\n",
       "      <td>75</td>\n",
       "      <td>twingo</td>\n",
       "      <td>150000</td>\n",
       "      <td>petrol</td>\n",
       "      <td>renault</td>\n",
       "      <td>no</td>\n",
       "    </tr>\n",
       "    <tr>\n",
       "      <th>11</th>\n",
       "      <td>7550</td>\n",
       "      <td>bus</td>\n",
       "      <td>2007</td>\n",
       "      <td>manual</td>\n",
       "      <td>136</td>\n",
       "      <td>c_max</td>\n",
       "      <td>150000</td>\n",
       "      <td>gasoline</td>\n",
       "      <td>ford</td>\n",
       "      <td>no</td>\n",
       "    </tr>\n",
       "    <tr>\n",
       "      <th>12</th>\n",
       "      <td>1850</td>\n",
       "      <td>bus</td>\n",
       "      <td>2004</td>\n",
       "      <td>manual</td>\n",
       "      <td>102</td>\n",
       "      <td>a_klasse</td>\n",
       "      <td>150000</td>\n",
       "      <td>petrol</td>\n",
       "      <td>mercedes_benz</td>\n",
       "      <td>no</td>\n",
       "    </tr>\n",
       "    <tr>\n",
       "      <th>13</th>\n",
       "      <td>10400</td>\n",
       "      <td>coupe</td>\n",
       "      <td>2009</td>\n",
       "      <td>manual</td>\n",
       "      <td>160</td>\n",
       "      <td>scirocco</td>\n",
       "      <td>100000</td>\n",
       "      <td>petrol</td>\n",
       "      <td>volkswagen</td>\n",
       "      <td>no</td>\n",
       "    </tr>\n",
       "    <tr>\n",
       "      <th>14</th>\n",
       "      <td>3699</td>\n",
       "      <td>sedan</td>\n",
       "      <td>2002</td>\n",
       "      <td>auto</td>\n",
       "      <td>231</td>\n",
       "      <td>5er</td>\n",
       "      <td>150000</td>\n",
       "      <td>petrol</td>\n",
       "      <td>bmw</td>\n",
       "      <td>no</td>\n",
       "    </tr>\n",
       "    <tr>\n",
       "      <th>15</th>\n",
       "      <td>2500</td>\n",
       "      <td>wagon</td>\n",
       "      <td>2002</td>\n",
       "      <td>auto</td>\n",
       "      <td>193</td>\n",
       "      <td>5er</td>\n",
       "      <td>150000</td>\n",
       "      <td>gasoline</td>\n",
       "      <td>bmw</td>\n",
       "      <td>yes</td>\n",
       "    </tr>\n",
       "    <tr>\n",
       "      <th>16</th>\n",
       "      <td>6900</td>\n",
       "      <td>sedan</td>\n",
       "      <td>2008</td>\n",
       "      <td>manual</td>\n",
       "      <td>99</td>\n",
       "      <td>civic</td>\n",
       "      <td>60000</td>\n",
       "      <td>petrol</td>\n",
       "      <td>honda</td>\n",
       "      <td>no</td>\n",
       "    </tr>\n",
       "    <tr>\n",
       "      <th>17</th>\n",
       "      <td>3300</td>\n",
       "      <td>sedan</td>\n",
       "      <td>1995</td>\n",
       "      <td>auto</td>\n",
       "      <td>113</td>\n",
       "      <td>e_klasse</td>\n",
       "      <td>150000</td>\n",
       "      <td>gasoline</td>\n",
       "      <td>mercedes_benz</td>\n",
       "      <td>no</td>\n",
       "    </tr>\n",
       "    <tr>\n",
       "      <th>18</th>\n",
       "      <td>18000</td>\n",
       "      <td>sedan</td>\n",
       "      <td>2007</td>\n",
       "      <td>auto</td>\n",
       "      <td>218</td>\n",
       "      <td>3er</td>\n",
       "      <td>20000</td>\n",
       "      <td>petrol</td>\n",
       "      <td>bmw</td>\n",
       "      <td>no</td>\n",
       "    </tr>\n",
       "    <tr>\n",
       "      <th>19</th>\n",
       "      <td>3500</td>\n",
       "      <td>sedan</td>\n",
       "      <td>2004</td>\n",
       "      <td>auto</td>\n",
       "      <td>122</td>\n",
       "      <td>e_klasse</td>\n",
       "      <td>150000</td>\n",
       "      <td>gasoline</td>\n",
       "      <td>mercedes_benz</td>\n",
       "      <td>no</td>\n",
       "    </tr>\n",
       "  </tbody>\n",
       "</table>\n",
       "</div>"
      ],
      "text/plain": [
       "    price vehicle_type  registration_year gearbox  power     model  kilometer  \\\n",
       "0   18300        coupe               2011  manual    190     other     125000   \n",
       "1    9800          suv               2004    auto    163     grand     125000   \n",
       "2    1500        small               2001  manual     75      golf     150000   \n",
       "3    3600        small               2008  manual     69     fabia      90000   \n",
       "4    2200  convertible               2004  manual    109   2_reihe     150000   \n",
       "5   14500          bus               2014  manual    125     c_max      30000   \n",
       "6    2000        sedan               2004  manual    105   3_reihe     150000   \n",
       "7    2799        wagon               2005  manual    140    passat     150000   \n",
       "8    2500        wagon               2004  manual    131    passat     150000   \n",
       "9   17999          suv               2011  manual    190    navara      70000   \n",
       "10   1750        small               2004    auto     75    twingo     150000   \n",
       "11   7550          bus               2007  manual    136     c_max     150000   \n",
       "12   1850          bus               2004  manual    102  a_klasse     150000   \n",
       "13  10400        coupe               2009  manual    160  scirocco     100000   \n",
       "14   3699        sedan               2002    auto    231       5er     150000   \n",
       "15   2500        wagon               2002    auto    193       5er     150000   \n",
       "16   6900        sedan               2008  manual     99     civic      60000   \n",
       "17   3300        sedan               1995    auto    113  e_klasse     150000   \n",
       "18  18000        sedan               2007    auto    218       3er      20000   \n",
       "19   3500        sedan               2004    auto    122  e_klasse     150000   \n",
       "\n",
       "   fuel_type          brand repaired  \n",
       "0   gasoline           audi      yes  \n",
       "1   gasoline           jeep       no  \n",
       "2     petrol     volkswagen       no  \n",
       "3   gasoline          skoda       no  \n",
       "4     petrol        peugeot       no  \n",
       "5     petrol           ford       no  \n",
       "6     petrol          mazda       no  \n",
       "7   gasoline     volkswagen      yes  \n",
       "8      other     volkswagen       no  \n",
       "9   gasoline         nissan       no  \n",
       "10    petrol        renault       no  \n",
       "11  gasoline           ford       no  \n",
       "12    petrol  mercedes_benz       no  \n",
       "13    petrol     volkswagen       no  \n",
       "14    petrol            bmw       no  \n",
       "15  gasoline            bmw      yes  \n",
       "16    petrol          honda       no  \n",
       "17  gasoline  mercedes_benz       no  \n",
       "18    petrol            bmw       no  \n",
       "19  gasoline  mercedes_benz       no  "
      ]
     },
     "execution_count": 34,
     "metadata": {},
     "output_type": "execute_result"
    }
   ],
   "source": [
    "data.head(20)"
   ]
  },
  {
   "cell_type": "markdown",
   "metadata": {},
   "source": [
    "На данном этапе мы сделали следующее:\n",
    "\n",
    "- изучили данные, выяснили, что в датафрейме 16 столбцов и 354 369 строк. Данные в 9 столбцах (DateCrawled, VehicleType, Gearbox, Model, FuelType, Brand, Repaired, DateCreated, LastSeen) выражены строковым типом. Данные в 7 столбцах (Price, RegistrationYear, Power, Kilometer, RegistrationMonth, NumberOfPictures, PostalCode) выражены целочисленным типом.\n",
    "- Привели названия столбцов к \"змеиному регистру\".\n",
    "- Удалили неинформативные признаки: date_crawled (дата скачивания анкеты из базы), date_created (дата создания анкеты), number_of_pictures (количество фотографий автомобиля), postal_code (почтовый индекс владельца анкеты), last_seen (дата последней активности пользователя) и registration_month (месяц регистрации автомобиля).\n",
    "- Обработали пропуски, применив стратегию замены пропусков наиболее часто встречающимися значениями.\n",
    "- Удалили явные дубликаты.\n",
    "- Обработали аномалии в столбцах price, registration_year и power.\n",
    "- Для минимизации количества столбцов, которые появятся после кодирования, оставили в датафрейме 36 наиболее часто встречающихся значений в столбце model.\n",
    "\n",
    "Теперь данные готовы для обучения моделей и мы можем перейти к следующему шагу."
   ]
  },
  {
   "cell_type": "markdown",
   "metadata": {},
   "source": [
    "## Обучение моделей"
   ]
  },
  {
   "cell_type": "code",
   "execution_count": 35,
   "metadata": {},
   "outputs": [],
   "source": [
    "# проведем кодирование категориальных призаков при помощи OneHotEncoder\n",
    "#encoder = OneHotEncoder(handle_unknown='ignore')\n",
    "#encoder_ohe = pd.DataFrame(encoder.fit_transform(data[['vehicle_type', 'gearbox', 'model', 'fuel_type', 'brand',\\\n",
    "                                                       #'repaired']]).toarray(), index=data.index)\n",
    "#data_ohe = data.join(encoder_ohe)\n",
    "#data_ohe.head(15)"
   ]
  },
  {
   "cell_type": "code",
   "execution_count": 36,
   "metadata": {},
   "outputs": [],
   "source": [
    "#удаляем исходные столбцы (некодированные категориальные), т.к. они нам больше не нужны\n",
    "#data_ohe.drop(['vehicle_type', 'gearbox', 'model', 'fuel_type', 'brand', 'repaired'], axis= 1 , inplace= True )\n",
    "#data_ohe.head(15)"
   ]
  },
  {
   "cell_type": "code",
   "execution_count": 37,
   "metadata": {},
   "outputs": [],
   "source": [
    "# извлекаем признаки\n",
    "features = data.drop(['price'], axis=1)\n",
    "target = data['price']"
   ]
  },
  {
   "cell_type": "code",
   "execution_count": 38,
   "metadata": {
    "scrolled": true
   },
   "outputs": [
    {
     "data": {
      "text/plain": [
       "(136571, 9)"
      ]
     },
     "metadata": {},
     "output_type": "display_data"
    },
    {
     "data": {
      "text/plain": [
       "(45524, 9)"
      ]
     },
     "metadata": {},
     "output_type": "display_data"
    },
    {
     "data": {
      "text/plain": [
       "(136571,)"
      ]
     },
     "metadata": {},
     "output_type": "display_data"
    },
    {
     "data": {
      "text/plain": [
       "(45524,)"
      ]
     },
     "metadata": {},
     "output_type": "display_data"
    }
   ],
   "source": [
    "# разделяем на выборки\n",
    "X_train, X_test, y_train, y_test = train_test_split(features, target, test_size=0.25, random_state=12345)\n",
    "display(X_train.shape)\n",
    "display(X_test.shape)\n",
    "display(y_train.shape)\n",
    "display(y_test.shape)"
   ]
  },
  {
   "cell_type": "code",
   "execution_count": 39,
   "metadata": {},
   "outputs": [
    {
     "data": {
      "text/html": [
       "<div>\n",
       "<style scoped>\n",
       "    .dataframe tbody tr th:only-of-type {\n",
       "        vertical-align: middle;\n",
       "    }\n",
       "\n",
       "    .dataframe tbody tr th {\n",
       "        vertical-align: top;\n",
       "    }\n",
       "\n",
       "    .dataframe thead th {\n",
       "        text-align: right;\n",
       "    }\n",
       "</style>\n",
       "<table border=\"1\" class=\"dataframe\">\n",
       "  <thead>\n",
       "    <tr style=\"text-align: right;\">\n",
       "      <th></th>\n",
       "      <th>vehicle_type</th>\n",
       "      <th>registration_year</th>\n",
       "      <th>gearbox</th>\n",
       "      <th>power</th>\n",
       "      <th>model</th>\n",
       "      <th>kilometer</th>\n",
       "      <th>fuel_type</th>\n",
       "      <th>brand</th>\n",
       "      <th>repaired</th>\n",
       "    </tr>\n",
       "  </thead>\n",
       "  <tbody>\n",
       "    <tr>\n",
       "      <th>148488</th>\n",
       "      <td>small</td>\n",
       "      <td>2006</td>\n",
       "      <td>manual</td>\n",
       "      <td>109</td>\n",
       "      <td>forfour</td>\n",
       "      <td>150000</td>\n",
       "      <td>petrol</td>\n",
       "      <td>smart</td>\n",
       "      <td>no</td>\n",
       "    </tr>\n",
       "    <tr>\n",
       "      <th>116772</th>\n",
       "      <td>wagon</td>\n",
       "      <td>2006</td>\n",
       "      <td>manual</td>\n",
       "      <td>163</td>\n",
       "      <td>3er</td>\n",
       "      <td>150000</td>\n",
       "      <td>gasoline</td>\n",
       "      <td>bmw</td>\n",
       "      <td>no</td>\n",
       "    </tr>\n",
       "    <tr>\n",
       "      <th>176184</th>\n",
       "      <td>coupe</td>\n",
       "      <td>1993</td>\n",
       "      <td>auto</td>\n",
       "      <td>150</td>\n",
       "      <td>e_klasse</td>\n",
       "      <td>150000</td>\n",
       "      <td>petrol</td>\n",
       "      <td>mercedes_benz</td>\n",
       "      <td>no</td>\n",
       "    </tr>\n",
       "    <tr>\n",
       "      <th>124379</th>\n",
       "      <td>wagon</td>\n",
       "      <td>2006</td>\n",
       "      <td>manual</td>\n",
       "      <td>105</td>\n",
       "      <td>a3</td>\n",
       "      <td>150000</td>\n",
       "      <td>gasoline</td>\n",
       "      <td>audi</td>\n",
       "      <td>no</td>\n",
       "    </tr>\n",
       "    <tr>\n",
       "      <th>59309</th>\n",
       "      <td>sedan</td>\n",
       "      <td>2004</td>\n",
       "      <td>manual</td>\n",
       "      <td>140</td>\n",
       "      <td>golf</td>\n",
       "      <td>100000</td>\n",
       "      <td>gasoline</td>\n",
       "      <td>volkswagen</td>\n",
       "      <td>no</td>\n",
       "    </tr>\n",
       "  </tbody>\n",
       "</table>\n",
       "</div>"
      ],
      "text/plain": [
       "       vehicle_type  registration_year gearbox  power     model  kilometer  \\\n",
       "148488        small               2006  manual    109   forfour     150000   \n",
       "116772        wagon               2006  manual    163       3er     150000   \n",
       "176184        coupe               1993    auto    150  e_klasse     150000   \n",
       "124379        wagon               2006  manual    105        a3     150000   \n",
       "59309         sedan               2004  manual    140      golf     100000   \n",
       "\n",
       "       fuel_type          brand repaired  \n",
       "148488    petrol          smart       no  \n",
       "116772  gasoline            bmw       no  \n",
       "176184    petrol  mercedes_benz       no  \n",
       "124379  gasoline           audi       no  \n",
       "59309   gasoline     volkswagen       no  "
      ]
     },
     "execution_count": 39,
     "metadata": {},
     "output_type": "execute_result"
    }
   ],
   "source": [
    "X_train.head()"
   ]
  },
  {
   "cell_type": "code",
   "execution_count": 40,
   "metadata": {},
   "outputs": [
    {
     "name": "stderr",
     "output_type": "stream",
     "text": [
      "/opt/conda/lib/python3.9/site-packages/pandas/core/frame.py:3191: SettingWithCopyWarning: \n",
      "A value is trying to be set on a copy of a slice from a DataFrame.\n",
      "Try using .loc[row_indexer,col_indexer] = value instead\n",
      "\n",
      "See the caveats in the documentation: https://pandas.pydata.org/pandas-docs/stable/user_guide/indexing.html#returning-a-view-versus-a-copy\n",
      "  self[k1] = value[k2]\n"
     ]
    },
    {
     "data": {
      "text/html": [
       "<div>\n",
       "<style scoped>\n",
       "    .dataframe tbody tr th:only-of-type {\n",
       "        vertical-align: middle;\n",
       "    }\n",
       "\n",
       "    .dataframe tbody tr th {\n",
       "        vertical-align: top;\n",
       "    }\n",
       "\n",
       "    .dataframe thead th {\n",
       "        text-align: right;\n",
       "    }\n",
       "</style>\n",
       "<table border=\"1\" class=\"dataframe\">\n",
       "  <thead>\n",
       "    <tr style=\"text-align: right;\">\n",
       "      <th></th>\n",
       "      <th>vehicle_type</th>\n",
       "      <th>registration_year</th>\n",
       "      <th>gearbox</th>\n",
       "      <th>power</th>\n",
       "      <th>model</th>\n",
       "      <th>kilometer</th>\n",
       "      <th>fuel_type</th>\n",
       "      <th>brand</th>\n",
       "      <th>repaired</th>\n",
       "    </tr>\n",
       "  </thead>\n",
       "  <tbody>\n",
       "    <tr>\n",
       "      <th>148488</th>\n",
       "      <td>small</td>\n",
       "      <td>2006</td>\n",
       "      <td>manual</td>\n",
       "      <td>109</td>\n",
       "      <td>3134.982734</td>\n",
       "      <td>150000</td>\n",
       "      <td>petrol</td>\n",
       "      <td>4484.046265</td>\n",
       "      <td>no</td>\n",
       "    </tr>\n",
       "    <tr>\n",
       "      <th>116772</th>\n",
       "      <td>wagon</td>\n",
       "      <td>2006</td>\n",
       "      <td>manual</td>\n",
       "      <td>163</td>\n",
       "      <td>6228.876998</td>\n",
       "      <td>150000</td>\n",
       "      <td>gasoline</td>\n",
       "      <td>7294.823868</td>\n",
       "      <td>no</td>\n",
       "    </tr>\n",
       "    <tr>\n",
       "      <th>176184</th>\n",
       "      <td>coupe</td>\n",
       "      <td>1993</td>\n",
       "      <td>auto</td>\n",
       "      <td>150</td>\n",
       "      <td>6515.518195</td>\n",
       "      <td>150000</td>\n",
       "      <td>petrol</td>\n",
       "      <td>6645.987889</td>\n",
       "      <td>no</td>\n",
       "    </tr>\n",
       "    <tr>\n",
       "      <th>124379</th>\n",
       "      <td>wagon</td>\n",
       "      <td>2006</td>\n",
       "      <td>manual</td>\n",
       "      <td>105</td>\n",
       "      <td>7399.533433</td>\n",
       "      <td>150000</td>\n",
       "      <td>gasoline</td>\n",
       "      <td>7652.137282</td>\n",
       "      <td>no</td>\n",
       "    </tr>\n",
       "    <tr>\n",
       "      <th>59309</th>\n",
       "      <td>sedan</td>\n",
       "      <td>2004</td>\n",
       "      <td>manual</td>\n",
       "      <td>140</td>\n",
       "      <td>6146.917474</td>\n",
       "      <td>100000</td>\n",
       "      <td>gasoline</td>\n",
       "      <td>6286.305640</td>\n",
       "      <td>no</td>\n",
       "    </tr>\n",
       "  </tbody>\n",
       "</table>\n",
       "</div>"
      ],
      "text/plain": [
       "       vehicle_type  registration_year gearbox  power        model  kilometer  \\\n",
       "148488        small               2006  manual    109  3134.982734     150000   \n",
       "116772        wagon               2006  manual    163  6228.876998     150000   \n",
       "176184        coupe               1993    auto    150  6515.518195     150000   \n",
       "124379        wagon               2006  manual    105  7399.533433     150000   \n",
       "59309         sedan               2004  manual    140  6146.917474     100000   \n",
       "\n",
       "       fuel_type        brand repaired  \n",
       "148488    petrol  4484.046265       no  \n",
       "116772  gasoline  7294.823868       no  \n",
       "176184    petrol  6645.987889       no  \n",
       "124379  gasoline  7652.137282       no  \n",
       "59309   gasoline  6286.305640       no  "
      ]
     },
     "execution_count": 40,
     "metadata": {},
     "output_type": "execute_result"
    }
   ],
   "source": [
    "# используем MEstimateEncoder для кодирования столбцов brand и model\n",
    "enc = ['brand', 'model']\n",
    "me = MEstimateEncoder(cols=enc, m=5.0)\n",
    "me.fit(X_train[enc], y_train)\n",
    "X_train[enc]=me.transform(X_train[enc])\n",
    "X_test[enc]=me.transform(X_test[enc])\n",
    "X_train.head()"
   ]
  },
  {
   "cell_type": "code",
   "execution_count": 41,
   "metadata": {},
   "outputs": [
    {
     "data": {
      "text/html": [
       "<div>\n",
       "<style scoped>\n",
       "    .dataframe tbody tr th:only-of-type {\n",
       "        vertical-align: middle;\n",
       "    }\n",
       "\n",
       "    .dataframe tbody tr th {\n",
       "        vertical-align: top;\n",
       "    }\n",
       "\n",
       "    .dataframe thead th {\n",
       "        text-align: right;\n",
       "    }\n",
       "</style>\n",
       "<table border=\"1\" class=\"dataframe\">\n",
       "  <thead>\n",
       "    <tr style=\"text-align: right;\">\n",
       "      <th></th>\n",
       "      <th>registration_year</th>\n",
       "      <th>power</th>\n",
       "      <th>model</th>\n",
       "      <th>kilometer</th>\n",
       "      <th>brand</th>\n",
       "      <th>vehicle_type_convertible</th>\n",
       "      <th>vehicle_type_coupe</th>\n",
       "      <th>vehicle_type_other</th>\n",
       "      <th>vehicle_type_sedan</th>\n",
       "      <th>vehicle_type_small</th>\n",
       "      <th>vehicle_type_suv</th>\n",
       "      <th>vehicle_type_wagon</th>\n",
       "      <th>gearbox_manual</th>\n",
       "      <th>fuel_type_electric</th>\n",
       "      <th>fuel_type_gasoline</th>\n",
       "      <th>fuel_type_hybrid</th>\n",
       "      <th>fuel_type_lpg</th>\n",
       "      <th>fuel_type_other</th>\n",
       "      <th>fuel_type_petrol</th>\n",
       "      <th>repaired_yes</th>\n",
       "    </tr>\n",
       "  </thead>\n",
       "  <tbody>\n",
       "    <tr>\n",
       "      <th>148488</th>\n",
       "      <td>2006</td>\n",
       "      <td>109</td>\n",
       "      <td>3134.982734</td>\n",
       "      <td>150000</td>\n",
       "      <td>4484.046265</td>\n",
       "      <td>0</td>\n",
       "      <td>0</td>\n",
       "      <td>0</td>\n",
       "      <td>0</td>\n",
       "      <td>1</td>\n",
       "      <td>0</td>\n",
       "      <td>0</td>\n",
       "      <td>1</td>\n",
       "      <td>0</td>\n",
       "      <td>0</td>\n",
       "      <td>0</td>\n",
       "      <td>0</td>\n",
       "      <td>0</td>\n",
       "      <td>1</td>\n",
       "      <td>0</td>\n",
       "    </tr>\n",
       "    <tr>\n",
       "      <th>116772</th>\n",
       "      <td>2006</td>\n",
       "      <td>163</td>\n",
       "      <td>6228.876998</td>\n",
       "      <td>150000</td>\n",
       "      <td>7294.823868</td>\n",
       "      <td>0</td>\n",
       "      <td>0</td>\n",
       "      <td>0</td>\n",
       "      <td>0</td>\n",
       "      <td>0</td>\n",
       "      <td>0</td>\n",
       "      <td>1</td>\n",
       "      <td>1</td>\n",
       "      <td>0</td>\n",
       "      <td>1</td>\n",
       "      <td>0</td>\n",
       "      <td>0</td>\n",
       "      <td>0</td>\n",
       "      <td>0</td>\n",
       "      <td>0</td>\n",
       "    </tr>\n",
       "    <tr>\n",
       "      <th>176184</th>\n",
       "      <td>1993</td>\n",
       "      <td>150</td>\n",
       "      <td>6515.518195</td>\n",
       "      <td>150000</td>\n",
       "      <td>6645.987889</td>\n",
       "      <td>0</td>\n",
       "      <td>1</td>\n",
       "      <td>0</td>\n",
       "      <td>0</td>\n",
       "      <td>0</td>\n",
       "      <td>0</td>\n",
       "      <td>0</td>\n",
       "      <td>0</td>\n",
       "      <td>0</td>\n",
       "      <td>0</td>\n",
       "      <td>0</td>\n",
       "      <td>0</td>\n",
       "      <td>0</td>\n",
       "      <td>1</td>\n",
       "      <td>0</td>\n",
       "    </tr>\n",
       "    <tr>\n",
       "      <th>124379</th>\n",
       "      <td>2006</td>\n",
       "      <td>105</td>\n",
       "      <td>7399.533433</td>\n",
       "      <td>150000</td>\n",
       "      <td>7652.137282</td>\n",
       "      <td>0</td>\n",
       "      <td>0</td>\n",
       "      <td>0</td>\n",
       "      <td>0</td>\n",
       "      <td>0</td>\n",
       "      <td>0</td>\n",
       "      <td>1</td>\n",
       "      <td>1</td>\n",
       "      <td>0</td>\n",
       "      <td>1</td>\n",
       "      <td>0</td>\n",
       "      <td>0</td>\n",
       "      <td>0</td>\n",
       "      <td>0</td>\n",
       "      <td>0</td>\n",
       "    </tr>\n",
       "    <tr>\n",
       "      <th>59309</th>\n",
       "      <td>2004</td>\n",
       "      <td>140</td>\n",
       "      <td>6146.917474</td>\n",
       "      <td>100000</td>\n",
       "      <td>6286.305640</td>\n",
       "      <td>0</td>\n",
       "      <td>0</td>\n",
       "      <td>0</td>\n",
       "      <td>1</td>\n",
       "      <td>0</td>\n",
       "      <td>0</td>\n",
       "      <td>0</td>\n",
       "      <td>1</td>\n",
       "      <td>0</td>\n",
       "      <td>1</td>\n",
       "      <td>0</td>\n",
       "      <td>0</td>\n",
       "      <td>0</td>\n",
       "      <td>0</td>\n",
       "      <td>0</td>\n",
       "    </tr>\n",
       "  </tbody>\n",
       "</table>\n",
       "</div>"
      ],
      "text/plain": [
       "        registration_year  power        model  kilometer        brand  \\\n",
       "148488               2006    109  3134.982734     150000  4484.046265   \n",
       "116772               2006    163  6228.876998     150000  7294.823868   \n",
       "176184               1993    150  6515.518195     150000  6645.987889   \n",
       "124379               2006    105  7399.533433     150000  7652.137282   \n",
       "59309                2004    140  6146.917474     100000  6286.305640   \n",
       "\n",
       "        vehicle_type_convertible  vehicle_type_coupe  vehicle_type_other  \\\n",
       "148488                         0                   0                   0   \n",
       "116772                         0                   0                   0   \n",
       "176184                         0                   1                   0   \n",
       "124379                         0                   0                   0   \n",
       "59309                          0                   0                   0   \n",
       "\n",
       "        vehicle_type_sedan  vehicle_type_small  vehicle_type_suv  \\\n",
       "148488                   0                   1                 0   \n",
       "116772                   0                   0                 0   \n",
       "176184                   0                   0                 0   \n",
       "124379                   0                   0                 0   \n",
       "59309                    1                   0                 0   \n",
       "\n",
       "        vehicle_type_wagon  gearbox_manual  fuel_type_electric  \\\n",
       "148488                   0               1                   0   \n",
       "116772                   1               1                   0   \n",
       "176184                   0               0                   0   \n",
       "124379                   1               1                   0   \n",
       "59309                    0               1                   0   \n",
       "\n",
       "        fuel_type_gasoline  fuel_type_hybrid  fuel_type_lpg  fuel_type_other  \\\n",
       "148488                   0                 0              0                0   \n",
       "116772                   1                 0              0                0   \n",
       "176184                   0                 0              0                0   \n",
       "124379                   1                 0              0                0   \n",
       "59309                    1                 0              0                0   \n",
       "\n",
       "        fuel_type_petrol  repaired_yes  \n",
       "148488                 1             0  \n",
       "116772                 0             0  \n",
       "176184                 1             0  \n",
       "124379                 0             0  \n",
       "59309                  0             0  "
      ]
     },
     "execution_count": 41,
     "metadata": {},
     "output_type": "execute_result"
    }
   ],
   "source": [
    "# кодируем оставшиеся категориальные значения с помощью get_dummies\n",
    "X_train = pd.get_dummies(X_train, columns = ['vehicle_type', 'gearbox', 'fuel_type', 'repaired'], drop_first=True)\n",
    "X_test = pd.get_dummies(X_test, columns = ['vehicle_type', 'gearbox', 'fuel_type', 'repaired'], drop_first=True)\n",
    "X_train.head()"
   ]
  },
  {
   "cell_type": "code",
   "execution_count": 42,
   "metadata": {},
   "outputs": [],
   "source": [
    "# масштабируем\n",
    "scaler = StandardScaler()\n",
    "X_train = scaler.fit_transform(X_train)\n",
    "X_test = scaler.transform(X_test)"
   ]
  },
  {
   "cell_type": "markdown",
   "metadata": {},
   "source": [
    "**Признаки подготовлены. Теперь можно перейти к обучению моделей. Вначале обучим модель без бустинга (по условиям проекта достаточно одной такой модели). Выберем Случайный лес. Затем перейдем к LightGBM и CatBoost.**"
   ]
  },
  {
   "cell_type": "markdown",
   "metadata": {},
   "source": [
    "**Рассмотрим случайный лес**"
   ]
  },
  {
   "cell_type": "code",
   "execution_count": 43,
   "metadata": {},
   "outputs": [
    {
     "name": "stdout",
     "output_type": "stream",
     "text": [
      "Оптимальные значения параметров: {'max_depth': 15, 'n_estimators': 110}\n",
      "CPU times: user 2min 29s, sys: 636 ms, total: 2min 30s\n",
      "Wall time: 2min 30s\n"
     ]
    }
   ],
   "source": [
    "%%time\n",
    "forest = GridSearchCV(estimator=RandomForestRegressor(random_state=12345), param_grid={ \n",
    "    'n_estimators': range(10, 110, 10),\n",
    "    'max_depth': range(2, 15, 1)}, cv=3)\n",
    "forest.fit(X_train, y_train)\n",
    "\n",
    "print('Оптимальные значения параметров:', forest.best_params_)"
   ]
  },
  {
   "cell_type": "code",
   "execution_count": 44,
   "metadata": {},
   "outputs": [
    {
     "name": "stdout",
     "output_type": "stream",
     "text": [
      "RMSE: 1654.6300492944333\n",
      "CPU times: user 1.12 s, sys: 0 ns, total: 1.12 s\n",
      "Wall time: 1.13 s\n"
     ]
    }
   ],
   "source": [
    "%%time\n",
    "pred_2 = forest.predict(X_test)\n",
    "print('RMSE:', mean_squared_error(y_test, pred_2, squared=False))"
   ]
  },
  {
   "cell_type": "markdown",
   "metadata": {},
   "source": [
    "**Рассмотрим LightGBM**"
   ]
  },
  {
   "cell_type": "code",
   "execution_count": 46,
   "metadata": {},
   "outputs": [
    {
     "name": "stdout",
     "output_type": "stream",
     "text": [
      "Оптимальные значения параметров: {'n_estimators': 110, 'num_leaves': 31}\n",
      "CPU times: user 21min 1s, sys: 8.29 s, total: 21min 10s\n",
      "Wall time: 21min 18s\n"
     ]
    }
   ],
   "source": [
    "%%time\n",
    "gbm = GridSearchCV(estimator=LGBMRegressor(random_state=12345), param_grid={ \n",
    "    'n_estimators': range(90, 110, 10),\n",
    "    'num_leaves': range(20, 40, 10)}, cv=2)\n",
    "gbm.fit(X_train, y_train)\n",
    "print('Оптимальные значения параметров:', gbm.best_params_)"
   ]
  },
  {
   "cell_type": "code",
   "execution_count": 47,
   "metadata": {},
   "outputs": [
    {
     "name": "stdout",
     "output_type": "stream",
     "text": [
      "RMSE: 1669.3503097300068\n",
      "CPU times: user 412 ms, sys: 3.41 ms, total: 415 ms\n",
      "Wall time: 344 ms\n"
     ]
    }
   ],
   "source": [
    "%%time\n",
    "pred_3 = gbm.predict(X_test)\n",
    "print('RMSE:', mean_squared_error(y_test, pred_3, squared=False))"
   ]
  },
  {
   "cell_type": "markdown",
   "metadata": {},
   "source": [
    "**Рассмотрим CatBoost**"
   ]
  },
  {
   "cell_type": "code",
   "execution_count": 48,
   "metadata": {},
   "outputs": [
    {
     "name": "stdout",
     "output_type": "stream",
     "text": [
      "Оптимальные значения параметров: {'depth': 10, 'iterations': 60}\n",
      "CPU times: user 36.7 s, sys: 249 ms, total: 36.9 s\n",
      "Wall time: 1min\n"
     ]
    }
   ],
   "source": [
    "%%time\n",
    "cbr = CatBoostRegressor(loss_function='RMSE', silent=True, random_state=12345)\n",
    "cbr_param = {'iterations': range(20, 60, 20),'depth': range(5, 10, 2)}\n",
    "\n",
    "cbr_g = GridSearchCV(cbr, cbr_param, cv=3)\n",
    "cbr_g.fit(X_train, y_train);\n",
    "\n",
    "print('Оптимальные значения параметров:', cbr_g.best_params_)"
   ]
  },
  {
   "cell_type": "code",
   "execution_count": 49,
   "metadata": {},
   "outputs": [
    {
     "name": "stdout",
     "output_type": "stream",
     "text": [
      "RMSE: 1627.0598098482212\n",
      "CPU times: user 19.6 ms, sys: 3 µs, total: 19.6 ms\n",
      "Wall time: 22.2 ms\n"
     ]
    }
   ],
   "source": [
    "%%time\n",
    "pred_4 = cbr_g.predict(X_test)\n",
    "print('RMSE:', mean_squared_error(y_test, pred_4, squared=False))"
   ]
  },
  {
   "cell_type": "markdown",
   "metadata": {},
   "source": [
    "На данном этапе мы провели кодирование категориальных признаков, разделение на выборки и масштабирование. После чего обучили 4 выбранных модели (с подбором оптимальных гиперпараметров).\n",
    "\n",
    "Обучение наших моделей завершено. Анализ полученных результатов и выбор лучшей модели мы проведем на следующем этапе проекта."
   ]
  },
  {
   "cell_type": "markdown",
   "metadata": {},
   "source": [
    "## Анализ моделей"
   ]
  },
  {
   "cell_type": "markdown",
   "metadata": {},
   "source": [
    "По условиям проекта значение метрики RMSE должно быть меньше 2500. Этому условию соответствуют все испытанные в проекте модели. Но, кроме того, заказчику важны следующие параметры: качество предсказания, скорость предсказания, время обучения. \n",
    "Для определения лучшей модели сведем полученные о наших моделях данные в таблицу."
   ]
  },
  {
   "cell_type": "code",
   "execution_count": 50,
   "metadata": {},
   "outputs": [
    {
     "data": {
      "text/html": [
       "<div>\n",
       "<style scoped>\n",
       "    .dataframe tbody tr th:only-of-type {\n",
       "        vertical-align: middle;\n",
       "    }\n",
       "\n",
       "    .dataframe tbody tr th {\n",
       "        vertical-align: top;\n",
       "    }\n",
       "\n",
       "    .dataframe thead th {\n",
       "        text-align: right;\n",
       "    }\n",
       "</style>\n",
       "<table border=\"1\" class=\"dataframe\">\n",
       "  <thead>\n",
       "    <tr style=\"text-align: right;\">\n",
       "      <th></th>\n",
       "      <th>Время обучения, с</th>\n",
       "      <th>Скорость предсказания, мс</th>\n",
       "      <th>RMSE</th>\n",
       "    </tr>\n",
       "  </thead>\n",
       "  <tbody>\n",
       "    <tr>\n",
       "      <th>RandomForestRegressor</th>\n",
       "      <td>150</td>\n",
       "      <td>1130.0</td>\n",
       "      <td>1654.63</td>\n",
       "    </tr>\n",
       "    <tr>\n",
       "      <th>LGBMRegressor</th>\n",
       "      <td>1278</td>\n",
       "      <td>344.0</td>\n",
       "      <td>1669.35</td>\n",
       "    </tr>\n",
       "    <tr>\n",
       "      <th>CatBoostRegressor</th>\n",
       "      <td>60</td>\n",
       "      <td>22.2</td>\n",
       "      <td>1627.06</td>\n",
       "    </tr>\n",
       "  </tbody>\n",
       "</table>\n",
       "</div>"
      ],
      "text/plain": [
       "                       Время обучения, с  Скорость предсказания, мс     RMSE\n",
       "RandomForestRegressor                150                     1130.0  1654.63\n",
       "LGBMRegressor                       1278                      344.0  1669.35\n",
       "CatBoostRegressor                     60                       22.2  1627.06"
      ]
     },
     "execution_count": 50,
     "metadata": {},
     "output_type": "execute_result"
    }
   ],
   "source": [
    "tab = [[150, 1130, 1654.63],\n",
    "        [1278, 344, 1669.35],\n",
    "        [60, 22.2, 1627.06]]\n",
    "\n",
    "model = [\"RandomForestRegressor\", \"LGBMRegressor\", \"CatBoostRegressor\"]\n",
    "pd.DataFrame(data=tab, index=model, columns=[\"Время обучения, с\", \"Скорость предсказания, мс\", \"RMSE\"])"
   ]
  },
  {
   "cell_type": "markdown",
   "metadata": {},
   "source": [
    "Из таблицы мы видим, что все испытанные модели укладываются в критерий \"RMSE меньше 2 500\". При этом CatBoostRegressor показал немного лучшее значение этой метрики при существенно меньших затратах времени на обучение и предсказание. Исходя из этих данных делаем выбор в пользу CatBoostRegressor."
   ]
  },
  {
   "cell_type": "markdown",
   "metadata": {},
   "source": [
    "## Общий вывод:\n",
    "\n",
    "Целью нашего проекта было построить модель, которая умеет определять рыночную стоимость автомобиля, для сервиса по продаже автомобилей с пробегом «Не бит, не крашен».\n",
    "\n",
    "Для проведения анализа был представлен следующий файл:\n",
    "\n",
    "- */datasets/autos.csv*.\n",
    "\n",
    "**Признаки:** \n",
    "\n",
    "- DateCrawled — дата скачивания анкеты из базы\n",
    "- VehicleType — тип автомобильного кузова\n",
    "- RegistrationYear — год регистрации автомобиля\n",
    "- Gearbox — тип коробки передач\n",
    "- Power — мощность (л. с.)\n",
    "- Model — модель автомобиля\n",
    "- Kilometer — пробег (км)\n",
    "- RegistrationMonth — месяц регистрации автомобиля\n",
    "- FuelType — тип топлива\n",
    "- Brand — марка автомобиля\n",
    "- Repaired — была машина в ремонте или нет\n",
    "- DateCreated — дата создания анкеты\n",
    "- NumberOfPictures — количество фотографий автомобиля\n",
    "- PostalCode — почтовый индекс владельца анкеты (пользователя)\n",
    "- LastSeen — дата последней активности пользователя\n",
    "\n",
    "**Целевой признак:** Price — цена (евро).\n",
    "\n",
    "**Заказчику важны:**\n",
    "\n",
    "- качество предсказания;\n",
    "- скорость предсказания;\n",
    "- время обучения.\n",
    "\n",
    "На этапе изучения и предобработки даннных мы выяснили следующее:\n",
    "\n",
    "- изучили данные, выяснили, что в датафрейме 16 столбцов и 354 369 строк. Данные в 9 столбцах (DateCrawled, VehicleType, Gearbox, Model, FuelType, Brand, Repaired, DateCreated, LastSeen) выражены строковым типом. Данные в 7 столбцах (Price, RegistrationYear, Power, Kilometer, RegistrationMonth, NumberOfPictures, PostalCode) выражены целочисленным типом.\n",
    "- Привели названия столбцов к \"змеиному регистру\".\n",
    "- Удалили неинформативные признаки: date_crawled (дата скачивания анкеты из базы), date_created (дата создания анкеты), number_of_pictures (количество фотографий автомобиля), postal_code (почтовый индекс владельца анкеты), last_seen (дата последней активности пользователя) и registration_month (месяц регистрации автомобиля).\n",
    "- Обработали пропуски, применив стратегию замены пропусков наиболее часто встречающимися значениями.\n",
    "- Удалили явные дубликаты.\n",
    "- Обработали аномалии в столбцах price, registration_year и power.\n",
    "\n",
    "\n",
    "По условиям проекта значение метрики RMSE должно быть меньше 2500. Этому условию соответствуют все испытанные в проекте модели. Но, кроме того, заказчику важны следующие параметры: качество предсказания, скорость предсказания, время обучения. Для определения лучшей модели мы свели полученные о наших моделях данные в таблицу.\n",
    "\n",
    "Из таблицы мы видим, что все испытанные модели укладываются в критерий \"RMSE меньше 2 500\". При этом CatBoostRegressor показал немного лучшее значение этой метрики при существенно меньших затратах времени на обучение и предсказание. Исходя из этих данных делаем выбор в пользу CatBoostRegressor.\n",
    "\n",
    "Таким образом, цель проекта достигнута - получена модель, удовлетворяющая требованиям заказчика.\n",
    "\n",
    "\n",
    " \n"
   ]
  }
 ],
 "metadata": {
  "ExecuteTimeLog": [
   {
    "duration": 1215,
    "start_time": "2023-07-29T18:41:53.483Z"
   },
   {
    "duration": 2925,
    "start_time": "2023-07-29T18:41:54.700Z"
   },
   {
    "duration": 105,
    "start_time": "2023-07-29T19:08:23.819Z"
   },
   {
    "duration": 4,
    "start_time": "2023-07-29T19:08:54.083Z"
   },
   {
    "duration": 111,
    "start_time": "2023-07-29T19:08:59.350Z"
   },
   {
    "duration": 24,
    "start_time": "2023-07-29T19:09:27.461Z"
   },
   {
    "duration": 1247,
    "start_time": "2023-08-01T05:32:03.392Z"
   },
   {
    "duration": 1313,
    "start_time": "2023-08-01T05:32:04.641Z"
   },
   {
    "duration": 130,
    "start_time": "2023-08-01T05:32:10.319Z"
   },
   {
    "duration": 23,
    "start_time": "2023-08-01T05:32:11.223Z"
   },
   {
    "duration": 263,
    "start_time": "2023-08-01T05:32:12.899Z"
   },
   {
    "duration": 506,
    "start_time": "2023-08-01T05:38:14.559Z"
   },
   {
    "duration": 2230,
    "start_time": "2023-08-01T06:41:53.966Z"
   },
   {
    "duration": 343,
    "start_time": "2023-08-01T06:42:29.744Z"
   },
   {
    "duration": 170,
    "start_time": "2023-08-01T06:45:22.332Z"
   },
   {
    "duration": 1502,
    "start_time": "2023-08-01T06:47:00.886Z"
   },
   {
    "duration": 1041,
    "start_time": "2023-08-01T06:47:02.390Z"
   },
   {
    "duration": 144,
    "start_time": "2023-08-01T06:47:06.500Z"
   },
   {
    "duration": 27,
    "start_time": "2023-08-01T06:47:09.480Z"
   },
   {
    "duration": 268,
    "start_time": "2023-08-01T06:47:11.370Z"
   },
   {
    "duration": 190,
    "start_time": "2023-08-01T06:47:20.096Z"
   },
   {
    "duration": 1582,
    "start_time": "2023-08-01T06:50:13.444Z"
   },
   {
    "duration": 1004,
    "start_time": "2023-08-01T06:50:15.028Z"
   },
   {
    "duration": 152,
    "start_time": "2023-08-01T06:50:16.035Z"
   },
   {
    "duration": 29,
    "start_time": "2023-08-01T06:50:16.348Z"
   },
   {
    "duration": 497,
    "start_time": "2023-08-01T06:50:21.380Z"
   },
   {
    "duration": 531,
    "start_time": "2023-08-01T06:57:30.690Z"
   },
   {
    "duration": 1352,
    "start_time": "2023-08-01T06:57:45.915Z"
   },
   {
    "duration": 1065,
    "start_time": "2023-08-01T06:57:47.269Z"
   },
   {
    "duration": 155,
    "start_time": "2023-08-01T06:57:48.335Z"
   },
   {
    "duration": 25,
    "start_time": "2023-08-01T06:57:48.495Z"
   },
   {
    "duration": 301,
    "start_time": "2023-08-01T06:57:48.565Z"
   },
   {
    "duration": 358,
    "start_time": "2023-08-01T06:57:50.140Z"
   },
   {
    "duration": 335,
    "start_time": "2023-08-01T06:57:51.709Z"
   },
   {
    "duration": 174,
    "start_time": "2023-08-01T06:57:53.252Z"
   },
   {
    "duration": 332,
    "start_time": "2023-08-01T06:57:54.259Z"
   },
   {
    "duration": 84,
    "start_time": "2023-08-01T07:01:09.238Z"
   },
   {
    "duration": 628,
    "start_time": "2023-08-01T07:16:53.066Z"
   },
   {
    "duration": 5,
    "start_time": "2023-08-01T07:18:56.251Z"
   },
   {
    "duration": 1779,
    "start_time": "2023-08-01T07:19:06.365Z"
   },
   {
    "duration": 1242,
    "start_time": "2023-08-01T07:19:08.146Z"
   },
   {
    "duration": 172,
    "start_time": "2023-08-01T07:19:09.390Z"
   },
   {
    "duration": 45,
    "start_time": "2023-08-01T07:19:09.565Z"
   },
   {
    "duration": 336,
    "start_time": "2023-08-01T07:19:09.612Z"
   },
   {
    "duration": 186,
    "start_time": "2023-08-01T07:19:09.950Z"
   },
   {
    "duration": 398,
    "start_time": "2023-08-01T07:19:10.139Z"
   },
   {
    "duration": 209,
    "start_time": "2023-08-01T07:19:10.539Z"
   },
   {
    "duration": 412,
    "start_time": "2023-08-01T07:19:10.750Z"
   },
   {
    "duration": 71,
    "start_time": "2023-08-01T07:19:11.164Z"
   },
   {
    "duration": 491,
    "start_time": "2023-08-01T07:19:11.237Z"
   },
   {
    "duration": 454,
    "start_time": "2023-08-01T07:22:39.800Z"
   },
   {
    "duration": 511,
    "start_time": "2023-08-01T07:23:18.356Z"
   },
   {
    "duration": 513,
    "start_time": "2023-08-01T07:24:08.535Z"
   },
   {
    "duration": 708,
    "start_time": "2023-08-01T07:34:58.893Z"
   },
   {
    "duration": 413,
    "start_time": "2023-08-01T07:35:37.250Z"
   },
   {
    "duration": 387,
    "start_time": "2023-08-01T07:36:29.604Z"
   },
   {
    "duration": 381,
    "start_time": "2023-08-01T07:37:12.652Z"
   },
   {
    "duration": 395,
    "start_time": "2023-08-01T07:37:29.061Z"
   },
   {
    "duration": 37,
    "start_time": "2023-08-01T07:44:59.864Z"
   },
   {
    "duration": 76,
    "start_time": "2023-08-01T07:46:56.891Z"
   },
   {
    "duration": 2037,
    "start_time": "2023-08-01T07:47:29.084Z"
   },
   {
    "duration": 1300,
    "start_time": "2023-08-01T07:47:31.131Z"
   },
   {
    "duration": 256,
    "start_time": "2023-08-01T07:47:32.434Z"
   },
   {
    "duration": 38,
    "start_time": "2023-08-01T07:47:32.701Z"
   },
   {
    "duration": 368,
    "start_time": "2023-08-01T07:47:32.743Z"
   },
   {
    "duration": 189,
    "start_time": "2023-08-01T07:47:33.624Z"
   },
   {
    "duration": 397,
    "start_time": "2023-08-01T07:47:34.647Z"
   },
   {
    "duration": 251,
    "start_time": "2023-08-01T07:47:35.112Z"
   },
   {
    "duration": 395,
    "start_time": "2023-08-01T07:47:35.619Z"
   },
   {
    "duration": 84,
    "start_time": "2023-08-01T07:47:36.625Z"
   },
   {
    "duration": 548,
    "start_time": "2023-08-01T07:47:37.610Z"
   },
   {
    "duration": 41,
    "start_time": "2023-08-01T07:47:38.160Z"
   },
   {
    "duration": 424,
    "start_time": "2023-08-01T07:47:38.598Z"
   },
   {
    "duration": 219,
    "start_time": "2023-08-01T07:47:39.054Z"
   },
   {
    "duration": 359,
    "start_time": "2023-08-01T07:47:39.560Z"
   },
   {
    "duration": 336,
    "start_time": "2023-08-01T07:47:40.165Z"
   },
   {
    "duration": 18,
    "start_time": "2023-08-01T07:47:41.198Z"
   },
   {
    "duration": 67,
    "start_time": "2023-08-01T07:47:44.040Z"
   },
   {
    "duration": 494,
    "start_time": "2023-08-01T07:48:21.593Z"
   },
   {
    "duration": 1892,
    "start_time": "2023-08-01T07:48:44.463Z"
   },
   {
    "duration": 1353,
    "start_time": "2023-08-01T07:48:46.358Z"
   },
   {
    "duration": 178,
    "start_time": "2023-08-01T07:48:47.720Z"
   },
   {
    "duration": 25,
    "start_time": "2023-08-01T07:48:47.905Z"
   },
   {
    "duration": 331,
    "start_time": "2023-08-01T07:48:47.932Z"
   },
   {
    "duration": 178,
    "start_time": "2023-08-01T07:48:48.275Z"
   },
   {
    "duration": 437,
    "start_time": "2023-08-01T07:48:48.960Z"
   },
   {
    "duration": 219,
    "start_time": "2023-08-01T07:48:49.434Z"
   },
   {
    "duration": 367,
    "start_time": "2023-08-01T07:48:49.913Z"
   },
   {
    "duration": 84,
    "start_time": "2023-08-01T07:48:53.911Z"
   },
   {
    "duration": 631,
    "start_time": "2023-08-01T07:48:56.099Z"
   },
   {
    "duration": 42,
    "start_time": "2023-08-01T07:48:56.896Z"
   },
   {
    "duration": 450,
    "start_time": "2023-08-01T07:48:57.716Z"
   },
   {
    "duration": 33,
    "start_time": "2023-08-01T07:48:59.289Z"
   },
   {
    "duration": 382,
    "start_time": "2023-08-01T07:49:00.244Z"
   },
   {
    "duration": 334,
    "start_time": "2023-08-01T07:49:00.920Z"
   },
   {
    "duration": 20,
    "start_time": "2023-08-01T07:49:02.038Z"
   },
   {
    "duration": 56,
    "start_time": "2023-08-01T07:49:02.945Z"
   },
   {
    "duration": 20,
    "start_time": "2023-08-01T07:51:00.915Z"
   },
   {
    "duration": 19,
    "start_time": "2023-08-01T07:52:41.339Z"
   },
   {
    "duration": 268,
    "start_time": "2023-08-01T07:55:25.092Z"
   },
   {
    "duration": 271,
    "start_time": "2023-08-01T07:56:11.957Z"
   },
   {
    "duration": 212,
    "start_time": "2023-08-01T07:57:26.615Z"
   },
   {
    "duration": 151,
    "start_time": "2023-08-01T08:32:42.238Z"
   },
   {
    "duration": 48,
    "start_time": "2023-08-01T08:33:07.169Z"
   },
   {
    "duration": 184,
    "start_time": "2023-08-01T08:34:59.961Z"
   },
   {
    "duration": 209,
    "start_time": "2023-08-01T08:35:20.331Z"
   },
   {
    "duration": 21,
    "start_time": "2023-08-01T08:35:38.240Z"
   },
   {
    "duration": 41,
    "start_time": "2023-08-01T08:39:52.133Z"
   },
   {
    "duration": 342,
    "start_time": "2023-08-01T08:42:23.967Z"
   },
   {
    "duration": 15,
    "start_time": "2023-08-01T08:42:34.493Z"
   },
   {
    "duration": 26,
    "start_time": "2023-08-01T08:48:43.432Z"
   },
   {
    "duration": 42,
    "start_time": "2023-08-01T08:50:37.526Z"
   },
   {
    "duration": 37,
    "start_time": "2023-08-01T08:53:00.808Z"
   },
   {
    "duration": 27,
    "start_time": "2023-08-01T08:53:53.704Z"
   },
   {
    "duration": 3,
    "start_time": "2023-08-01T08:55:54.632Z"
   },
   {
    "duration": 39,
    "start_time": "2023-08-01T08:56:04.043Z"
   },
   {
    "duration": 143,
    "start_time": "2023-08-01T08:57:50.851Z"
   },
   {
    "duration": 288,
    "start_time": "2023-08-01T09:01:29.410Z"
   },
   {
    "duration": 23,
    "start_time": "2023-08-01T09:01:54.048Z"
   },
   {
    "duration": 42,
    "start_time": "2023-08-01T09:03:54.423Z"
   },
   {
    "duration": 199,
    "start_time": "2023-08-01T09:24:42.723Z"
   },
   {
    "duration": 163,
    "start_time": "2023-08-01T09:28:46.482Z"
   },
   {
    "duration": 13,
    "start_time": "2023-08-01T09:29:19.948Z"
   },
   {
    "duration": 131,
    "start_time": "2023-08-01T09:29:28.598Z"
   },
   {
    "duration": 154,
    "start_time": "2023-08-01T09:29:40.395Z"
   },
   {
    "duration": 158,
    "start_time": "2023-08-01T09:30:47.511Z"
   },
   {
    "duration": 180,
    "start_time": "2023-08-01T09:30:59.808Z"
   },
   {
    "duration": 111,
    "start_time": "2023-08-01T09:32:02.985Z"
   },
   {
    "duration": 172,
    "start_time": "2023-08-01T09:32:59.507Z"
   },
   {
    "duration": 157,
    "start_time": "2023-08-01T09:33:38.251Z"
   },
   {
    "duration": 476,
    "start_time": "2023-08-01T09:35:59.922Z"
   },
   {
    "duration": 484,
    "start_time": "2023-08-01T09:36:37.949Z"
   },
   {
    "duration": 44,
    "start_time": "2023-08-01T09:38:25.645Z"
   },
   {
    "duration": 92,
    "start_time": "2023-08-01T09:39:31.530Z"
   },
   {
    "duration": 43,
    "start_time": "2023-08-01T09:40:09.591Z"
   },
   {
    "duration": 2371,
    "start_time": "2023-08-01T09:41:15.240Z"
   },
   {
    "duration": 1981,
    "start_time": "2023-08-01T09:41:17.613Z"
   },
   {
    "duration": 165,
    "start_time": "2023-08-01T09:41:19.595Z"
   },
   {
    "duration": 30,
    "start_time": "2023-08-01T09:41:22.410Z"
   },
   {
    "duration": 375,
    "start_time": "2023-08-01T09:41:23.281Z"
   },
   {
    "duration": 157,
    "start_time": "2023-08-01T09:41:24.192Z"
   },
   {
    "duration": 344,
    "start_time": "2023-08-01T09:41:25.125Z"
   },
   {
    "duration": 187,
    "start_time": "2023-08-01T09:41:25.570Z"
   },
   {
    "duration": 357,
    "start_time": "2023-08-01T09:41:25.998Z"
   },
   {
    "duration": 75,
    "start_time": "2023-08-01T09:41:26.944Z"
   },
   {
    "duration": 493,
    "start_time": "2023-08-01T09:41:27.936Z"
   },
   {
    "duration": 20,
    "start_time": "2023-08-01T09:41:28.431Z"
   },
   {
    "duration": 366,
    "start_time": "2023-08-01T09:41:28.880Z"
   },
   {
    "duration": 23,
    "start_time": "2023-08-01T09:41:29.281Z"
   },
   {
    "duration": 301,
    "start_time": "2023-08-01T09:41:29.763Z"
   },
   {
    "duration": 305,
    "start_time": "2023-08-01T09:41:30.211Z"
   },
   {
    "duration": 21,
    "start_time": "2023-08-01T09:41:30.638Z"
   },
   {
    "duration": 60,
    "start_time": "2023-08-01T09:41:31.100Z"
   },
   {
    "duration": 22,
    "start_time": "2023-08-01T09:41:31.999Z"
   },
   {
    "duration": 23,
    "start_time": "2023-08-01T09:41:32.427Z"
   },
   {
    "duration": 154,
    "start_time": "2023-08-01T09:41:33.419Z"
   },
   {
    "duration": 177,
    "start_time": "2023-08-01T09:41:33.918Z"
   },
   {
    "duration": 170,
    "start_time": "2023-08-01T09:41:34.365Z"
   },
   {
    "duration": 26,
    "start_time": "2023-08-01T09:41:34.932Z"
   },
   {
    "duration": 90,
    "start_time": "2023-08-01T09:41:36.037Z"
   },
   {
    "duration": 93,
    "start_time": "2023-08-01T09:41:37.992Z"
   },
   {
    "duration": 46,
    "start_time": "2023-08-01T09:42:07.951Z"
   },
   {
    "duration": 1793,
    "start_time": "2023-08-01T09:51:13.951Z"
   },
   {
    "duration": 1247,
    "start_time": "2023-08-01T09:51:15.746Z"
   },
   {
    "duration": 172,
    "start_time": "2023-08-01T09:51:16.995Z"
   },
   {
    "duration": 34,
    "start_time": "2023-08-01T09:51:17.171Z"
   },
   {
    "duration": 382,
    "start_time": "2023-08-01T09:51:17.207Z"
   },
   {
    "duration": 220,
    "start_time": "2023-08-01T09:51:17.597Z"
   },
   {
    "duration": 374,
    "start_time": "2023-08-01T09:51:17.819Z"
   },
   {
    "duration": 194,
    "start_time": "2023-08-01T09:51:18.195Z"
   },
   {
    "duration": 339,
    "start_time": "2023-08-01T09:51:18.391Z"
   },
   {
    "duration": 85,
    "start_time": "2023-08-01T09:51:18.732Z"
   },
   {
    "duration": 552,
    "start_time": "2023-08-01T09:51:19.093Z"
   },
   {
    "duration": 37,
    "start_time": "2023-08-01T09:51:19.648Z"
   },
   {
    "duration": 407,
    "start_time": "2023-08-01T09:51:19.790Z"
   },
   {
    "duration": 23,
    "start_time": "2023-08-01T09:51:20.199Z"
   },
   {
    "duration": 418,
    "start_time": "2023-08-01T09:51:20.360Z"
   },
   {
    "duration": 387,
    "start_time": "2023-08-01T09:51:20.780Z"
   },
   {
    "duration": 28,
    "start_time": "2023-08-01T09:51:21.168Z"
   },
   {
    "duration": 68,
    "start_time": "2023-08-01T09:51:21.200Z"
   },
   {
    "duration": 33,
    "start_time": "2023-08-01T09:51:21.271Z"
   },
   {
    "duration": 19,
    "start_time": "2023-08-01T09:51:21.896Z"
   },
   {
    "duration": 254,
    "start_time": "2023-08-01T09:51:22.433Z"
   },
   {
    "duration": 289,
    "start_time": "2023-08-01T09:51:23.136Z"
   },
   {
    "duration": 198,
    "start_time": "2023-08-01T09:51:24.732Z"
   },
   {
    "duration": 34,
    "start_time": "2023-08-01T09:51:25.927Z"
   },
   {
    "duration": 70,
    "start_time": "2023-08-01T09:51:35.356Z"
   },
   {
    "duration": 261,
    "start_time": "2023-08-01T09:51:37.384Z"
   },
   {
    "duration": 463,
    "start_time": "2023-08-01T09:52:14.406Z"
   },
   {
    "duration": 169,
    "start_time": "2023-08-01T10:03:49.328Z"
   },
   {
    "duration": 36,
    "start_time": "2023-08-01T10:22:17.157Z"
   },
   {
    "duration": 3263,
    "start_time": "2023-08-01T10:22:26.714Z"
   },
   {
    "duration": 20,
    "start_time": "2023-08-01T10:22:49.638Z"
   },
   {
    "duration": 6,
    "start_time": "2023-08-01T10:23:09.808Z"
   },
   {
    "duration": 1865,
    "start_time": "2023-08-01T10:32:10.160Z"
   },
   {
    "duration": 1481,
    "start_time": "2023-08-01T10:32:12.027Z"
   },
   {
    "duration": 270,
    "start_time": "2023-08-01T10:32:13.510Z"
   },
   {
    "duration": 33,
    "start_time": "2023-08-01T10:32:13.784Z"
   },
   {
    "duration": 385,
    "start_time": "2023-08-01T10:32:13.819Z"
   },
   {
    "duration": 220,
    "start_time": "2023-08-01T10:32:14.207Z"
   },
   {
    "duration": 332,
    "start_time": "2023-08-01T10:32:14.429Z"
   },
   {
    "duration": 159,
    "start_time": "2023-08-01T10:32:14.763Z"
   },
   {
    "duration": 313,
    "start_time": "2023-08-01T10:32:17.133Z"
   },
   {
    "duration": 61,
    "start_time": "2023-08-01T10:32:17.855Z"
   },
   {
    "duration": 508,
    "start_time": "2023-08-01T10:32:18.566Z"
   },
   {
    "duration": 23,
    "start_time": "2023-08-01T10:32:19.077Z"
   },
   {
    "duration": 355,
    "start_time": "2023-08-01T10:32:19.189Z"
   },
   {
    "duration": 28,
    "start_time": "2023-08-01T10:32:19.546Z"
   },
   {
    "duration": 273,
    "start_time": "2023-08-01T10:32:19.643Z"
   },
   {
    "duration": 267,
    "start_time": "2023-08-01T10:32:19.917Z"
   },
   {
    "duration": 19,
    "start_time": "2023-08-01T10:32:20.186Z"
   },
   {
    "duration": 47,
    "start_time": "2023-08-01T10:32:20.247Z"
   },
   {
    "duration": 14,
    "start_time": "2023-08-01T10:32:20.714Z"
   },
   {
    "duration": 18,
    "start_time": "2023-08-01T10:32:20.917Z"
   },
   {
    "duration": 158,
    "start_time": "2023-08-01T10:32:21.517Z"
   },
   {
    "duration": 146,
    "start_time": "2023-08-01T10:32:21.721Z"
   },
   {
    "duration": 192,
    "start_time": "2023-08-01T10:32:21.949Z"
   },
   {
    "duration": 30,
    "start_time": "2023-08-01T10:32:22.181Z"
   },
   {
    "duration": 52,
    "start_time": "2023-08-01T10:32:24.125Z"
   },
   {
    "duration": 23,
    "start_time": "2023-08-01T10:32:24.945Z"
   },
   {
    "duration": 227,
    "start_time": "2023-08-01T10:32:27.175Z"
   },
   {
    "duration": 318,
    "start_time": "2023-08-01T10:33:04.433Z"
   },
   {
    "duration": 125,
    "start_time": "2023-08-01T10:33:52.314Z"
   },
   {
    "duration": 74,
    "start_time": "2023-08-01T10:34:30.219Z"
   },
   {
    "duration": 41,
    "start_time": "2023-08-01T10:34:46.159Z"
   },
   {
    "duration": 54,
    "start_time": "2023-08-01T10:36:51.267Z"
   },
   {
    "duration": 42,
    "start_time": "2023-08-01T10:44:04.231Z"
   },
   {
    "duration": 69,
    "start_time": "2023-08-01T10:44:32.836Z"
   },
   {
    "duration": 70,
    "start_time": "2023-08-01T10:45:42.893Z"
   },
   {
    "duration": 22,
    "start_time": "2023-08-01T10:49:17.127Z"
   },
   {
    "duration": 38,
    "start_time": "2023-08-01T10:50:58.931Z"
   },
   {
    "duration": 36,
    "start_time": "2023-08-01T11:11:56.503Z"
   },
   {
    "duration": 18,
    "start_time": "2023-08-01T11:58:53.579Z"
   },
   {
    "duration": 12,
    "start_time": "2023-08-01T12:01:30.416Z"
   },
   {
    "duration": 30,
    "start_time": "2023-08-01T14:59:33.458Z"
   },
   {
    "duration": 1619,
    "start_time": "2023-08-01T15:00:30.772Z"
   },
   {
    "duration": 1096,
    "start_time": "2023-08-01T15:00:32.396Z"
   },
   {
    "duration": 171,
    "start_time": "2023-08-01T15:00:33.494Z"
   },
   {
    "duration": 26,
    "start_time": "2023-08-01T15:00:33.674Z"
   },
   {
    "duration": 310,
    "start_time": "2023-08-01T15:00:33.701Z"
   },
   {
    "duration": 138,
    "start_time": "2023-08-01T15:00:34.617Z"
   },
   {
    "duration": 325,
    "start_time": "2023-08-01T15:00:35.305Z"
   },
   {
    "duration": 177,
    "start_time": "2023-08-01T15:00:35.632Z"
   },
   {
    "duration": 323,
    "start_time": "2023-08-01T15:00:35.811Z"
   },
   {
    "duration": 55,
    "start_time": "2023-08-01T15:00:36.201Z"
   },
   {
    "duration": 433,
    "start_time": "2023-08-01T15:00:37.025Z"
   },
   {
    "duration": 21,
    "start_time": "2023-08-01T15:00:37.488Z"
   },
   {
    "duration": 308,
    "start_time": "2023-08-01T15:00:37.687Z"
   },
   {
    "duration": 19,
    "start_time": "2023-08-01T15:00:37.998Z"
   },
   {
    "duration": 267,
    "start_time": "2023-08-01T15:00:38.384Z"
   },
   {
    "duration": 293,
    "start_time": "2023-08-01T15:00:38.653Z"
   },
   {
    "duration": 29,
    "start_time": "2023-08-01T15:00:38.947Z"
   },
   {
    "duration": 40,
    "start_time": "2023-08-01T15:00:39.020Z"
   },
   {
    "duration": 14,
    "start_time": "2023-08-01T15:00:39.423Z"
   },
   {
    "duration": 18,
    "start_time": "2023-08-01T15:00:39.640Z"
   },
   {
    "duration": 159,
    "start_time": "2023-08-01T15:00:40.070Z"
   },
   {
    "duration": 168,
    "start_time": "2023-08-01T15:00:40.465Z"
   },
   {
    "duration": 147,
    "start_time": "2023-08-01T15:00:40.705Z"
   },
   {
    "duration": 25,
    "start_time": "2023-08-01T15:00:40.911Z"
   },
   {
    "duration": 59,
    "start_time": "2023-08-01T15:00:43.122Z"
   },
   {
    "duration": 23,
    "start_time": "2023-08-01T15:00:45.685Z"
   },
   {
    "duration": 21,
    "start_time": "2023-08-01T15:00:49.343Z"
   },
   {
    "duration": 40,
    "start_time": "2023-08-01T15:00:49.888Z"
   },
   {
    "duration": 13,
    "start_time": "2023-08-01T15:01:12.387Z"
   },
   {
    "duration": 16,
    "start_time": "2023-08-01T15:01:19.251Z"
   },
   {
    "duration": 9,
    "start_time": "2023-08-01T15:19:19.059Z"
   },
   {
    "duration": 109,
    "start_time": "2023-08-01T15:19:20.212Z"
   },
   {
    "duration": 263,
    "start_time": "2023-08-01T15:21:47.723Z"
   },
   {
    "duration": 9,
    "start_time": "2023-08-01T15:21:58.343Z"
   },
   {
    "duration": 5,
    "start_time": "2023-08-01T15:23:05.825Z"
   },
   {
    "duration": 26,
    "start_time": "2023-08-01T15:23:14.639Z"
   },
   {
    "duration": 12,
    "start_time": "2023-08-01T15:23:16.315Z"
   },
   {
    "duration": 13,
    "start_time": "2023-08-01T15:24:19.917Z"
   },
   {
    "duration": 6,
    "start_time": "2023-08-01T15:24:58.933Z"
   },
   {
    "duration": 13,
    "start_time": "2023-08-01T15:25:06.259Z"
   },
   {
    "duration": 12,
    "start_time": "2023-08-01T15:28:20.550Z"
   },
   {
    "duration": 18,
    "start_time": "2023-08-01T15:28:34.992Z"
   },
   {
    "duration": 15,
    "start_time": "2023-08-01T15:29:31.579Z"
   },
   {
    "duration": 10,
    "start_time": "2023-08-01T15:31:49.512Z"
   },
   {
    "duration": 3,
    "start_time": "2023-08-01T15:37:11.419Z"
   },
   {
    "duration": 17,
    "start_time": "2023-08-01T15:48:29.610Z"
   },
   {
    "duration": 16,
    "start_time": "2023-08-01T15:59:29.168Z"
   },
   {
    "duration": 18,
    "start_time": "2023-08-01T16:09:42.964Z"
   },
   {
    "duration": 1369,
    "start_time": "2023-08-01T16:14:32.903Z"
   },
   {
    "duration": 601,
    "start_time": "2023-08-01T16:15:34.608Z"
   },
   {
    "duration": 177,
    "start_time": "2023-08-01T16:18:02.936Z"
   },
   {
    "duration": 1563,
    "start_time": "2023-08-01T16:37:35.405Z"
   },
   {
    "duration": 1168,
    "start_time": "2023-08-01T16:37:48.758Z"
   },
   {
    "duration": 145,
    "start_time": "2023-08-01T16:37:51.468Z"
   },
   {
    "duration": 36,
    "start_time": "2023-08-01T16:37:51.986Z"
   },
   {
    "duration": 330,
    "start_time": "2023-08-01T16:37:53.086Z"
   },
   {
    "duration": 145,
    "start_time": "2023-08-01T16:37:53.932Z"
   },
   {
    "duration": 342,
    "start_time": "2023-08-01T16:37:54.695Z"
   },
   {
    "duration": 173,
    "start_time": "2023-08-01T16:37:55.154Z"
   },
   {
    "duration": 302,
    "start_time": "2023-08-01T16:37:55.484Z"
   },
   {
    "duration": 52,
    "start_time": "2023-08-01T16:37:55.908Z"
   },
   {
    "duration": 479,
    "start_time": "2023-08-01T16:37:56.345Z"
   },
   {
    "duration": 23,
    "start_time": "2023-08-01T16:37:56.826Z"
   },
   {
    "duration": 289,
    "start_time": "2023-08-01T16:37:57.021Z"
   },
   {
    "duration": 20,
    "start_time": "2023-08-01T16:37:57.312Z"
   },
   {
    "duration": 285,
    "start_time": "2023-08-01T16:37:57.632Z"
   },
   {
    "duration": 273,
    "start_time": "2023-08-01T16:37:57.919Z"
   },
   {
    "duration": 17,
    "start_time": "2023-08-01T16:37:58.194Z"
   },
   {
    "duration": 50,
    "start_time": "2023-08-01T16:37:58.256Z"
   },
   {
    "duration": 15,
    "start_time": "2023-08-01T16:37:58.700Z"
   },
   {
    "duration": 20,
    "start_time": "2023-08-01T16:37:58.959Z"
   },
   {
    "duration": 150,
    "start_time": "2023-08-01T16:37:59.435Z"
   },
   {
    "duration": 167,
    "start_time": "2023-08-01T16:37:59.674Z"
   },
   {
    "duration": 144,
    "start_time": "2023-08-01T16:37:59.920Z"
   },
   {
    "duration": 24,
    "start_time": "2023-08-01T16:38:00.156Z"
   },
   {
    "duration": 20,
    "start_time": "2023-08-01T16:38:00.633Z"
   },
   {
    "duration": 55,
    "start_time": "2023-08-01T16:38:00.864Z"
   },
   {
    "duration": 14,
    "start_time": "2023-08-01T16:38:01.099Z"
   },
   {
    "duration": 680,
    "start_time": "2023-08-01T16:38:07.683Z"
   },
   {
    "duration": 241,
    "start_time": "2023-08-01T16:38:08.664Z"
   },
   {
    "duration": 712,
    "start_time": "2023-08-01T16:38:36.032Z"
   },
   {
    "duration": 210,
    "start_time": "2023-08-01T16:38:49.984Z"
   },
   {
    "duration": 50,
    "start_time": "2023-08-01T16:38:53.244Z"
   },
   {
    "duration": 112,
    "start_time": "2023-08-01T16:38:55.217Z"
   },
   {
    "duration": 2354,
    "start_time": "2023-08-01T16:38:56.107Z"
   },
   {
    "duration": 161,
    "start_time": "2023-08-01T16:39:34.169Z"
   },
   {
    "duration": 88,
    "start_time": "2023-08-01T16:40:01.049Z"
   },
   {
    "duration": 5,
    "start_time": "2023-08-01T16:40:51.355Z"
   },
   {
    "duration": 618,
    "start_time": "2023-08-01T16:40:58.595Z"
   },
   {
    "duration": 105,
    "start_time": "2023-08-01T16:41:01.605Z"
   },
   {
    "duration": 323,
    "start_time": "2023-08-01T16:48:46.132Z"
   },
   {
    "duration": 154,
    "start_time": "2023-08-01T16:49:18.840Z"
   },
   {
    "duration": 139,
    "start_time": "2023-08-01T16:50:12.524Z"
   },
   {
    "duration": 145,
    "start_time": "2023-08-01T16:51:43.945Z"
   },
   {
    "duration": 223,
    "start_time": "2023-08-01T16:52:31.298Z"
   },
   {
    "duration": 159,
    "start_time": "2023-08-01T16:53:14.964Z"
   },
   {
    "duration": 1477,
    "start_time": "2023-08-01T16:58:36.933Z"
   },
   {
    "duration": 1136,
    "start_time": "2023-08-01T16:58:38.412Z"
   },
   {
    "duration": 160,
    "start_time": "2023-08-01T16:58:39.550Z"
   },
   {
    "duration": 22,
    "start_time": "2023-08-01T16:58:39.711Z"
   },
   {
    "duration": 323,
    "start_time": "2023-08-01T16:58:39.735Z"
   },
   {
    "duration": 167,
    "start_time": "2023-08-01T16:58:40.060Z"
   },
   {
    "duration": 342,
    "start_time": "2023-08-01T16:58:40.893Z"
   },
   {
    "duration": 185,
    "start_time": "2023-08-01T16:58:41.236Z"
   },
   {
    "duration": 350,
    "start_time": "2023-08-01T16:58:41.422Z"
   },
   {
    "duration": 71,
    "start_time": "2023-08-01T16:58:42.067Z"
   },
   {
    "duration": 467,
    "start_time": "2023-08-01T16:58:42.560Z"
   },
   {
    "duration": 20,
    "start_time": "2023-08-01T16:58:43.029Z"
   },
   {
    "duration": 316,
    "start_time": "2023-08-01T16:58:43.076Z"
   },
   {
    "duration": 18,
    "start_time": "2023-08-01T16:58:43.395Z"
   },
   {
    "duration": 284,
    "start_time": "2023-08-01T16:58:43.542Z"
   },
   {
    "duration": 308,
    "start_time": "2023-08-01T16:58:43.828Z"
   },
   {
    "duration": 17,
    "start_time": "2023-08-01T16:58:44.138Z"
   },
   {
    "duration": 55,
    "start_time": "2023-08-01T16:58:44.283Z"
   },
   {
    "duration": 13,
    "start_time": "2023-08-01T16:58:44.948Z"
   },
   {
    "duration": 16,
    "start_time": "2023-08-01T16:58:45.238Z"
   },
   {
    "duration": 197,
    "start_time": "2023-08-01T16:58:45.832Z"
   },
   {
    "duration": 228,
    "start_time": "2023-08-01T16:58:46.715Z"
   },
   {
    "duration": 174,
    "start_time": "2023-08-01T16:58:47.154Z"
   },
   {
    "duration": 22,
    "start_time": "2023-08-01T16:58:47.634Z"
   },
   {
    "duration": 20,
    "start_time": "2023-08-01T16:58:48.510Z"
   },
   {
    "duration": 54,
    "start_time": "2023-08-01T16:58:48.865Z"
   },
   {
    "duration": 14,
    "start_time": "2023-08-01T16:58:49.098Z"
   },
   {
    "duration": 722,
    "start_time": "2023-08-01T16:58:57.434Z"
   },
   {
    "duration": 200,
    "start_time": "2023-08-01T16:58:58.495Z"
   },
   {
    "duration": 41,
    "start_time": "2023-08-01T16:59:00.092Z"
   },
   {
    "duration": 127,
    "start_time": "2023-08-01T16:59:00.869Z"
   },
   {
    "duration": 2603,
    "start_time": "2023-08-01T16:59:01.946Z"
   },
   {
    "duration": 97,
    "start_time": "2023-08-01T16:59:04.551Z"
   },
   {
    "duration": 104,
    "start_time": "2023-08-01T16:59:06.798Z"
   },
   {
    "duration": 203,
    "start_time": "2023-08-01T17:00:17.773Z"
   },
   {
    "duration": 125,
    "start_time": "2023-08-01T17:00:22.759Z"
   },
   {
    "duration": 85,
    "start_time": "2023-08-01T17:00:30.414Z"
   },
   {
    "duration": 507,
    "start_time": "2023-08-01T17:01:01.520Z"
   },
   {
    "duration": 59,
    "start_time": "2023-08-01T17:01:02.577Z"
   },
   {
    "duration": 41,
    "start_time": "2023-08-01T17:01:07.692Z"
   },
   {
    "duration": 129,
    "start_time": "2023-08-01T17:01:08.586Z"
   },
   {
    "duration": 2272,
    "start_time": "2023-08-01T17:01:11.044Z"
   },
   {
    "duration": 97,
    "start_time": "2023-08-01T17:02:46.145Z"
   },
   {
    "duration": 2356,
    "start_time": "2023-08-01T17:52:08.251Z"
   },
   {
    "duration": 1215,
    "start_time": "2023-08-01T17:52:10.609Z"
   },
   {
    "duration": 174,
    "start_time": "2023-08-01T17:52:11.826Z"
   },
   {
    "duration": 20,
    "start_time": "2023-08-01T17:52:12.003Z"
   },
   {
    "duration": 328,
    "start_time": "2023-08-01T17:52:12.025Z"
   },
   {
    "duration": 173,
    "start_time": "2023-08-01T17:52:12.355Z"
   },
   {
    "duration": 380,
    "start_time": "2023-08-01T17:52:12.530Z"
   },
   {
    "duration": 209,
    "start_time": "2023-08-01T17:52:12.914Z"
   },
   {
    "duration": 397,
    "start_time": "2023-08-01T17:52:13.125Z"
   },
   {
    "duration": 65,
    "start_time": "2023-08-01T17:52:13.524Z"
   },
   {
    "duration": 480,
    "start_time": "2023-08-01T17:52:13.932Z"
   },
   {
    "duration": 21,
    "start_time": "2023-08-01T17:52:14.414Z"
   },
   {
    "duration": 360,
    "start_time": "2023-08-01T17:52:14.849Z"
   },
   {
    "duration": 20,
    "start_time": "2023-08-01T17:52:15.211Z"
   },
   {
    "duration": 424,
    "start_time": "2023-08-01T17:52:15.253Z"
   },
   {
    "duration": 314,
    "start_time": "2023-08-01T17:52:15.680Z"
   },
   {
    "duration": 18,
    "start_time": "2023-08-01T17:52:15.999Z"
   },
   {
    "duration": 49,
    "start_time": "2023-08-01T17:52:16.019Z"
   },
   {
    "duration": 17,
    "start_time": "2023-08-01T17:52:16.408Z"
   },
   {
    "duration": 26,
    "start_time": "2023-08-01T17:52:16.661Z"
   },
   {
    "duration": 157,
    "start_time": "2023-08-01T17:52:17.187Z"
   },
   {
    "duration": 175,
    "start_time": "2023-08-01T17:52:17.443Z"
   },
   {
    "duration": 172,
    "start_time": "2023-08-01T17:52:17.661Z"
   },
   {
    "duration": 24,
    "start_time": "2023-08-01T17:52:17.896Z"
   },
   {
    "duration": 26,
    "start_time": "2023-08-01T17:52:18.397Z"
   },
   {
    "duration": 59,
    "start_time": "2023-08-01T17:52:18.938Z"
   },
   {
    "duration": 16,
    "start_time": "2023-08-01T17:52:19.194Z"
   },
   {
    "duration": 546,
    "start_time": "2023-08-01T17:53:15.442Z"
   },
   {
    "duration": 70,
    "start_time": "2023-08-01T17:53:19.066Z"
   },
   {
    "duration": 54,
    "start_time": "2023-08-01T17:53:19.855Z"
   },
   {
    "duration": 164,
    "start_time": "2023-08-01T17:53:21.864Z"
   },
   {
    "duration": 165,
    "start_time": "2023-08-01T17:53:27.440Z"
   },
   {
    "duration": 39,
    "start_time": "2023-08-01T17:55:27.654Z"
   },
   {
    "duration": 1904,
    "start_time": "2023-08-01T17:56:41.150Z"
   },
   {
    "duration": 1309,
    "start_time": "2023-08-01T17:56:43.056Z"
   },
   {
    "duration": 192,
    "start_time": "2023-08-01T17:56:44.367Z"
   },
   {
    "duration": 42,
    "start_time": "2023-08-01T17:56:44.560Z"
   },
   {
    "duration": 374,
    "start_time": "2023-08-01T17:56:44.605Z"
   },
   {
    "duration": 180,
    "start_time": "2023-08-01T17:56:44.982Z"
   },
   {
    "duration": 399,
    "start_time": "2023-08-01T17:56:45.164Z"
   },
   {
    "duration": 234,
    "start_time": "2023-08-01T17:56:45.565Z"
   },
   {
    "duration": 431,
    "start_time": "2023-08-01T17:56:45.802Z"
   },
   {
    "duration": 90,
    "start_time": "2023-08-01T17:56:46.236Z"
   },
   {
    "duration": 684,
    "start_time": "2023-08-01T17:56:46.328Z"
   },
   {
    "duration": 21,
    "start_time": "2023-08-01T17:56:47.015Z"
   },
   {
    "duration": 425,
    "start_time": "2023-08-01T17:56:47.039Z"
   },
   {
    "duration": 28,
    "start_time": "2023-08-01T17:56:47.466Z"
   },
   {
    "duration": 439,
    "start_time": "2023-08-01T17:56:47.497Z"
   },
   {
    "duration": 328,
    "start_time": "2023-08-01T17:56:47.940Z"
   },
   {
    "duration": 26,
    "start_time": "2023-08-01T17:56:48.270Z"
   },
   {
    "duration": 59,
    "start_time": "2023-08-01T17:56:48.301Z"
   },
   {
    "duration": 23,
    "start_time": "2023-08-01T17:56:48.362Z"
   },
   {
    "duration": 36,
    "start_time": "2023-08-01T17:56:48.388Z"
   },
   {
    "duration": 228,
    "start_time": "2023-08-01T17:56:48.749Z"
   },
   {
    "duration": 194,
    "start_time": "2023-08-01T17:56:49.368Z"
   },
   {
    "duration": 207,
    "start_time": "2023-08-01T17:56:49.647Z"
   },
   {
    "duration": 30,
    "start_time": "2023-08-01T17:56:49.857Z"
   },
   {
    "duration": 22,
    "start_time": "2023-08-01T17:56:50.504Z"
   },
   {
    "duration": 38,
    "start_time": "2023-08-01T17:56:50.707Z"
   },
   {
    "duration": 17,
    "start_time": "2023-08-01T17:56:50.894Z"
   },
   {
    "duration": 556,
    "start_time": "2023-08-01T17:56:52.843Z"
   },
   {
    "duration": 63,
    "start_time": "2023-08-01T17:56:53.401Z"
   },
   {
    "duration": 56,
    "start_time": "2023-08-01T17:56:54.356Z"
   },
   {
    "duration": 45,
    "start_time": "2023-08-01T17:57:18.373Z"
   },
   {
    "duration": 1614,
    "start_time": "2023-08-01T17:59:02.549Z"
   },
   {
    "duration": 1116,
    "start_time": "2023-08-01T17:59:04.165Z"
   },
   {
    "duration": 157,
    "start_time": "2023-08-01T17:59:05.283Z"
   },
   {
    "duration": 38,
    "start_time": "2023-08-01T17:59:05.443Z"
   },
   {
    "duration": 312,
    "start_time": "2023-08-01T17:59:05.483Z"
   },
   {
    "duration": 225,
    "start_time": "2023-08-01T17:59:06.262Z"
   },
   {
    "duration": 392,
    "start_time": "2023-08-01T17:59:06.652Z"
   },
   {
    "duration": 167,
    "start_time": "2023-08-01T17:59:07.045Z"
   },
   {
    "duration": 301,
    "start_time": "2023-08-01T17:59:07.214Z"
   },
   {
    "duration": 71,
    "start_time": "2023-08-01T17:59:07.517Z"
   },
   {
    "duration": 436,
    "start_time": "2023-08-01T17:59:07.903Z"
   },
   {
    "duration": 30,
    "start_time": "2023-08-01T17:59:08.341Z"
   },
   {
    "duration": 342,
    "start_time": "2023-08-01T17:59:08.374Z"
   },
   {
    "duration": 17,
    "start_time": "2023-08-01T17:59:08.718Z"
   },
   {
    "duration": 410,
    "start_time": "2023-08-01T17:59:08.737Z"
   },
   {
    "duration": 302,
    "start_time": "2023-08-01T17:59:09.150Z"
   },
   {
    "duration": 29,
    "start_time": "2023-08-01T17:59:09.454Z"
   },
   {
    "duration": 45,
    "start_time": "2023-08-01T17:59:09.563Z"
   },
   {
    "duration": 13,
    "start_time": "2023-08-01T17:59:09.946Z"
   },
   {
    "duration": 18,
    "start_time": "2023-08-01T17:59:10.100Z"
   },
   {
    "duration": 148,
    "start_time": "2023-08-01T17:59:10.747Z"
   },
   {
    "duration": 153,
    "start_time": "2023-08-01T17:59:10.913Z"
   },
   {
    "duration": 170,
    "start_time": "2023-08-01T17:59:11.247Z"
   },
   {
    "duration": 24,
    "start_time": "2023-08-01T17:59:11.420Z"
   },
   {
    "duration": 32,
    "start_time": "2023-08-01T17:59:11.763Z"
   },
   {
    "duration": 55,
    "start_time": "2023-08-01T17:59:11.954Z"
   },
   {
    "duration": 19,
    "start_time": "2023-08-01T17:59:12.199Z"
   },
   {
    "duration": 515,
    "start_time": "2023-08-01T17:59:14.343Z"
   },
   {
    "duration": 82,
    "start_time": "2023-08-01T17:59:15.936Z"
   },
   {
    "duration": 325,
    "start_time": "2023-08-01T19:46:00.556Z"
   },
   {
    "duration": 341,
    "start_time": "2023-08-01T19:56:09.446Z"
   },
   {
    "duration": 101,
    "start_time": "2023-08-01T19:56:25.841Z"
   },
   {
    "duration": 342,
    "start_time": "2023-08-01T19:56:59.641Z"
   },
   {
    "duration": 496,
    "start_time": "2023-08-01T19:57:13.832Z"
   },
   {
    "duration": 1940,
    "start_time": "2023-08-01T20:00:52.165Z"
   },
   {
    "duration": 3757,
    "start_time": "2023-08-01T20:01:06.996Z"
   },
   {
    "duration": 503,
    "start_time": "2023-08-01T20:02:27.306Z"
   },
   {
    "duration": 5145,
    "start_time": "2023-08-01T20:02:52.835Z"
   },
   {
    "duration": 18,
    "start_time": "2023-08-01T20:03:34.580Z"
   },
   {
    "duration": 501,
    "start_time": "2023-08-01T20:03:49.396Z"
   },
   {
    "duration": 172,
    "start_time": "2023-08-01T20:03:53.088Z"
   },
   {
    "duration": 53,
    "start_time": "2023-08-01T20:04:42.390Z"
   },
   {
    "duration": 41,
    "start_time": "2023-08-01T20:04:44.803Z"
   },
   {
    "duration": 14,
    "start_time": "2023-08-01T20:04:50.017Z"
   },
   {
    "duration": 11,
    "start_time": "2023-08-01T20:04:52.857Z"
   },
   {
    "duration": 239,
    "start_time": "2023-08-01T20:05:00.162Z"
   },
   {
    "duration": 2364,
    "start_time": "2023-08-01T20:05:00.743Z"
   },
   {
    "duration": 88,
    "start_time": "2023-08-01T20:05:03.740Z"
   },
   {
    "duration": 460,
    "start_time": "2023-08-01T20:12:57.800Z"
   },
   {
    "duration": 52,
    "start_time": "2023-08-01T20:13:08.117Z"
   },
   {
    "duration": 40,
    "start_time": "2023-08-01T20:13:09.463Z"
   },
   {
    "duration": 116,
    "start_time": "2023-08-01T20:13:10.154Z"
   },
   {
    "duration": 2096,
    "start_time": "2023-08-01T20:13:11.113Z"
   },
   {
    "duration": 89,
    "start_time": "2023-08-01T20:13:19.479Z"
   },
   {
    "duration": 52,
    "start_time": "2023-08-01T20:14:23.436Z"
   },
   {
    "duration": 37,
    "start_time": "2023-08-01T20:14:42.468Z"
   },
   {
    "duration": 1584,
    "start_time": "2023-08-01T20:15:27.483Z"
   },
   {
    "duration": 1004,
    "start_time": "2023-08-01T20:15:30.339Z"
   },
   {
    "duration": 141,
    "start_time": "2023-08-01T20:15:31.345Z"
   },
   {
    "duration": 21,
    "start_time": "2023-08-01T20:15:31.919Z"
   },
   {
    "duration": 272,
    "start_time": "2023-08-01T20:15:32.996Z"
   },
   {
    "duration": 131,
    "start_time": "2023-08-01T20:15:34.367Z"
   },
   {
    "duration": 290,
    "start_time": "2023-08-01T20:15:35.782Z"
   },
   {
    "duration": 198,
    "start_time": "2023-08-01T20:15:36.335Z"
   },
   {
    "duration": 287,
    "start_time": "2023-08-01T20:15:36.868Z"
   },
   {
    "duration": 53,
    "start_time": "2023-08-01T20:15:37.879Z"
   },
   {
    "duration": 427,
    "start_time": "2023-08-01T20:15:38.751Z"
   },
   {
    "duration": 22,
    "start_time": "2023-08-01T20:15:39.180Z"
   },
   {
    "duration": 278,
    "start_time": "2023-08-01T20:15:39.283Z"
   },
   {
    "duration": 23,
    "start_time": "2023-08-01T20:15:39.563Z"
   },
   {
    "duration": 325,
    "start_time": "2023-08-01T20:15:39.691Z"
   },
   {
    "duration": 243,
    "start_time": "2023-08-01T20:15:40.018Z"
   },
   {
    "duration": 23,
    "start_time": "2023-08-01T20:15:40.263Z"
   },
   {
    "duration": 48,
    "start_time": "2023-08-01T20:15:40.288Z"
   },
   {
    "duration": 12,
    "start_time": "2023-08-01T20:15:40.720Z"
   },
   {
    "duration": 17,
    "start_time": "2023-08-01T20:15:41.235Z"
   },
   {
    "duration": 129,
    "start_time": "2023-08-01T20:15:41.623Z"
   },
   {
    "duration": 138,
    "start_time": "2023-08-01T20:15:41.828Z"
   },
   {
    "duration": 136,
    "start_time": "2023-08-01T20:15:42.039Z"
   },
   {
    "duration": 23,
    "start_time": "2023-08-01T20:15:42.232Z"
   },
   {
    "duration": 19,
    "start_time": "2023-08-01T20:15:42.889Z"
   },
   {
    "duration": 41,
    "start_time": "2023-08-01T20:15:43.150Z"
   },
   {
    "duration": 13,
    "start_time": "2023-08-01T20:15:43.480Z"
   },
   {
    "duration": 474,
    "start_time": "2023-08-01T20:15:45.049Z"
   },
   {
    "duration": 61,
    "start_time": "2023-08-01T20:15:45.525Z"
   },
   {
    "duration": 39,
    "start_time": "2023-08-01T20:15:45.954Z"
   },
   {
    "duration": 151,
    "start_time": "2023-08-01T20:15:46.406Z"
   },
   {
    "duration": 2083,
    "start_time": "2023-08-01T20:15:46.885Z"
   },
   {
    "duration": 92,
    "start_time": "2023-08-01T20:15:49.954Z"
   },
   {
    "duration": 38,
    "start_time": "2023-08-01T20:15:52.784Z"
   },
   {
    "duration": 85,
    "start_time": "2023-08-01T20:15:55.075Z"
   },
   {
    "duration": 24,
    "start_time": "2023-08-01T20:15:56.984Z"
   },
   {
    "duration": 743719,
    "start_time": "2023-08-01T20:22:33.810Z"
   },
   {
    "duration": 1815,
    "start_time": "2023-08-02T05:36:06.815Z"
   },
   {
    "duration": 1363,
    "start_time": "2023-08-02T05:36:12.941Z"
   },
   {
    "duration": 112,
    "start_time": "2023-08-02T05:36:14.484Z"
   },
   {
    "duration": 22,
    "start_time": "2023-08-02T05:36:15.259Z"
   },
   {
    "duration": 279,
    "start_time": "2023-08-02T05:36:16.897Z"
   },
   {
    "duration": 116,
    "start_time": "2023-08-02T05:36:18.915Z"
   },
   {
    "duration": 269,
    "start_time": "2023-08-02T05:36:20.391Z"
   },
   {
    "duration": 153,
    "start_time": "2023-08-02T05:36:21.107Z"
   },
   {
    "duration": 293,
    "start_time": "2023-08-02T05:36:21.967Z"
   },
   {
    "duration": 58,
    "start_time": "2023-08-02T05:36:23.719Z"
   },
   {
    "duration": 373,
    "start_time": "2023-08-02T05:36:25.023Z"
   },
   {
    "duration": 23,
    "start_time": "2023-08-02T05:36:25.708Z"
   },
   {
    "duration": 267,
    "start_time": "2023-08-02T05:36:26.457Z"
   },
   {
    "duration": 19,
    "start_time": "2023-08-02T05:36:27.030Z"
   },
   {
    "duration": 315,
    "start_time": "2023-08-02T05:36:27.581Z"
   },
   {
    "duration": 216,
    "start_time": "2023-08-02T05:36:28.113Z"
   },
   {
    "duration": 18,
    "start_time": "2023-08-02T05:36:28.673Z"
   },
   {
    "duration": 52,
    "start_time": "2023-08-02T05:36:29.450Z"
   },
   {
    "duration": 16,
    "start_time": "2023-08-02T05:36:30.539Z"
   },
   {
    "duration": 19,
    "start_time": "2023-08-02T05:36:30.991Z"
   },
   {
    "duration": 131,
    "start_time": "2023-08-02T05:36:31.901Z"
   },
   {
    "duration": 143,
    "start_time": "2023-08-02T05:36:32.448Z"
   },
   {
    "duration": 120,
    "start_time": "2023-08-02T05:36:32.952Z"
   },
   {
    "duration": 23,
    "start_time": "2023-08-02T05:36:33.616Z"
   },
   {
    "duration": 24,
    "start_time": "2023-08-02T05:36:34.674Z"
   },
   {
    "duration": 34,
    "start_time": "2023-08-02T05:36:35.197Z"
   },
   {
    "duration": 20,
    "start_time": "2023-08-02T05:36:35.741Z"
   },
   {
    "duration": 510,
    "start_time": "2023-08-02T05:36:38.746Z"
   },
   {
    "duration": 70,
    "start_time": "2023-08-02T05:36:39.258Z"
   },
   {
    "duration": 45,
    "start_time": "2023-08-02T05:36:39.791Z"
   },
   {
    "duration": 149,
    "start_time": "2023-08-02T05:36:40.294Z"
   },
   {
    "duration": 2029,
    "start_time": "2023-08-02T05:36:40.782Z"
   },
   {
    "duration": 83,
    "start_time": "2023-08-02T05:36:42.813Z"
   },
   {
    "duration": 85,
    "start_time": "2023-08-02T05:36:42.908Z"
   },
   {
    "duration": 329772,
    "start_time": "2023-08-02T05:36:53.404Z"
   },
   {
    "duration": 423694,
    "start_time": "2023-08-02T05:43:30.605Z"
   },
   {
    "duration": 5,
    "start_time": "2023-08-02T05:52:06.832Z"
   },
   {
    "duration": 5,
    "start_time": "2023-08-02T05:54:05.908Z"
   },
   {
    "duration": 251,
    "start_time": "2023-08-02T05:57:29.253Z"
   },
   {
    "duration": 56,
    "start_time": "2023-08-02T05:57:49.454Z"
   },
   {
    "duration": 12438,
    "start_time": "2023-08-02T05:58:02.772Z"
   },
   {
    "duration": 11967,
    "start_time": "2023-08-02T05:58:38.901Z"
   },
   {
    "duration": 70,
    "start_time": "2023-08-02T06:08:20.206Z"
   },
   {
    "duration": 44,
    "start_time": "2023-08-02T06:08:50.878Z"
   },
   {
    "duration": 9662,
    "start_time": "2023-08-02T06:09:47.247Z"
   },
   {
    "duration": 9493,
    "start_time": "2023-08-02T06:10:14.922Z"
   },
   {
    "duration": 9587,
    "start_time": "2023-08-02T06:16:11.630Z"
   },
   {
    "duration": 16,
    "start_time": "2023-08-02T06:16:43.604Z"
   },
   {
    "duration": 466794,
    "start_time": "2023-08-02T06:18:47.349Z"
   },
   {
    "duration": 8210,
    "start_time": "2023-08-02T06:27:38.402Z"
   },
   {
    "duration": 12,
    "start_time": "2023-08-02T06:27:50.570Z"
   },
   {
    "duration": 1622,
    "start_time": "2023-08-02T06:28:39.367Z"
   },
   {
    "duration": 970,
    "start_time": "2023-08-02T06:28:40.992Z"
   },
   {
    "duration": 131,
    "start_time": "2023-08-02T06:28:41.963Z"
   },
   {
    "duration": 24,
    "start_time": "2023-08-02T06:28:42.096Z"
   },
   {
    "duration": 267,
    "start_time": "2023-08-02T06:28:42.392Z"
   },
   {
    "duration": 123,
    "start_time": "2023-08-02T06:28:43.411Z"
   },
   {
    "duration": 265,
    "start_time": "2023-08-02T06:28:44.295Z"
   },
   {
    "duration": 157,
    "start_time": "2023-08-02T06:28:44.854Z"
   },
   {
    "duration": 302,
    "start_time": "2023-08-02T06:28:45.349Z"
   },
   {
    "duration": 59,
    "start_time": "2023-08-02T06:28:46.238Z"
   },
   {
    "duration": 375,
    "start_time": "2023-08-02T06:28:47.161Z"
   },
   {
    "duration": 23,
    "start_time": "2023-08-02T06:28:47.646Z"
   },
   {
    "duration": 274,
    "start_time": "2023-08-02T06:28:48.150Z"
   },
   {
    "duration": 19,
    "start_time": "2023-08-02T06:28:48.631Z"
   },
   {
    "duration": 357,
    "start_time": "2023-08-02T06:28:49.311Z"
   },
   {
    "duration": 244,
    "start_time": "2023-08-02T06:28:49.916Z"
   },
   {
    "duration": 19,
    "start_time": "2023-08-02T06:28:50.411Z"
   },
   {
    "duration": 42,
    "start_time": "2023-08-02T06:28:50.876Z"
   },
   {
    "duration": 14,
    "start_time": "2023-08-02T06:28:51.826Z"
   },
   {
    "duration": 18,
    "start_time": "2023-08-02T06:28:52.201Z"
   },
   {
    "duration": 117,
    "start_time": "2023-08-02T06:28:53.145Z"
   },
   {
    "duration": 174,
    "start_time": "2023-08-02T06:28:53.755Z"
   },
   {
    "duration": 135,
    "start_time": "2023-08-02T06:28:54.291Z"
   },
   {
    "duration": 23,
    "start_time": "2023-08-02T06:28:54.814Z"
   },
   {
    "duration": 21,
    "start_time": "2023-08-02T06:28:56.057Z"
   },
   {
    "duration": 32,
    "start_time": "2023-08-02T06:28:56.527Z"
   },
   {
    "duration": 13,
    "start_time": "2023-08-02T06:28:57.054Z"
   },
   {
    "duration": 482,
    "start_time": "2023-08-02T06:28:59.116Z"
   },
   {
    "duration": 61,
    "start_time": "2023-08-02T06:28:59.641Z"
   },
   {
    "duration": 46,
    "start_time": "2023-08-02T06:29:00.316Z"
   },
   {
    "duration": 149,
    "start_time": "2023-08-02T06:29:00.808Z"
   },
   {
    "duration": 2005,
    "start_time": "2023-08-02T06:29:01.364Z"
   },
   {
    "duration": 100,
    "start_time": "2023-08-02T06:29:03.371Z"
   },
   {
    "duration": 99,
    "start_time": "2023-08-02T06:29:03.473Z"
   },
   {
    "duration": 10368,
    "start_time": "2023-08-02T06:29:25.660Z"
   },
   {
    "duration": 1790,
    "start_time": "2023-08-02T06:31:12.758Z"
   },
   {
    "duration": 913,
    "start_time": "2023-08-02T06:31:14.550Z"
   },
   {
    "duration": 107,
    "start_time": "2023-08-02T06:31:17.158Z"
   },
   {
    "duration": 21,
    "start_time": "2023-08-02T06:31:17.851Z"
   },
   {
    "duration": 283,
    "start_time": "2023-08-02T06:31:18.678Z"
   },
   {
    "duration": 112,
    "start_time": "2023-08-02T06:31:19.572Z"
   },
   {
    "duration": 262,
    "start_time": "2023-08-02T06:31:20.390Z"
   },
   {
    "duration": 150,
    "start_time": "2023-08-02T06:31:20.801Z"
   },
   {
    "duration": 295,
    "start_time": "2023-08-02T06:31:21.177Z"
   },
   {
    "duration": 65,
    "start_time": "2023-08-02T06:31:22.034Z"
   },
   {
    "duration": 364,
    "start_time": "2023-08-02T06:31:22.864Z"
   },
   {
    "duration": 23,
    "start_time": "2023-08-02T06:31:23.300Z"
   },
   {
    "duration": 278,
    "start_time": "2023-08-02T06:31:23.704Z"
   },
   {
    "duration": 22,
    "start_time": "2023-08-02T06:31:24.118Z"
   },
   {
    "duration": 326,
    "start_time": "2023-08-02T06:31:24.466Z"
   },
   {
    "duration": 225,
    "start_time": "2023-08-02T06:31:24.931Z"
   },
   {
    "duration": 21,
    "start_time": "2023-08-02T06:31:25.336Z"
   },
   {
    "duration": 53,
    "start_time": "2023-08-02T06:31:25.768Z"
   },
   {
    "duration": 14,
    "start_time": "2023-08-02T06:31:26.546Z"
   },
   {
    "duration": 20,
    "start_time": "2023-08-02T06:31:26.983Z"
   },
   {
    "duration": 123,
    "start_time": "2023-08-02T06:31:27.892Z"
   },
   {
    "duration": 132,
    "start_time": "2023-08-02T06:31:28.398Z"
   },
   {
    "duration": 127,
    "start_time": "2023-08-02T06:31:28.809Z"
   },
   {
    "duration": 22,
    "start_time": "2023-08-02T06:31:30.022Z"
   },
   {
    "duration": 22,
    "start_time": "2023-08-02T06:31:31.035Z"
   },
   {
    "duration": 33,
    "start_time": "2023-08-02T06:31:31.430Z"
   },
   {
    "duration": 16,
    "start_time": "2023-08-02T06:31:31.870Z"
   },
   {
    "duration": 472,
    "start_time": "2023-08-02T06:31:33.765Z"
   },
   {
    "duration": 59,
    "start_time": "2023-08-02T06:31:34.305Z"
   },
   {
    "duration": 45,
    "start_time": "2023-08-02T06:31:34.779Z"
   },
   {
    "duration": 141,
    "start_time": "2023-08-02T06:31:35.323Z"
   },
   {
    "duration": 1956,
    "start_time": "2023-08-02T06:31:36.815Z"
   },
   {
    "duration": 97,
    "start_time": "2023-08-02T06:31:38.773Z"
   },
   {
    "duration": 86,
    "start_time": "2023-08-02T06:31:41.024Z"
   },
   {
    "duration": 13851,
    "start_time": "2023-08-02T06:31:57.567Z"
   },
   {
    "duration": 74,
    "start_time": "2023-08-02T06:32:15.939Z"
   },
   {
    "duration": 1649,
    "start_time": "2023-08-02T07:08:41.772Z"
   },
   {
    "duration": 1032,
    "start_time": "2023-08-02T07:08:43.423Z"
   },
   {
    "duration": 184,
    "start_time": "2023-08-02T07:08:46.063Z"
   },
   {
    "duration": 28,
    "start_time": "2023-08-02T07:08:47.012Z"
   },
   {
    "duration": 304,
    "start_time": "2023-08-02T07:08:47.537Z"
   },
   {
    "duration": 130,
    "start_time": "2023-08-02T07:08:48.029Z"
   },
   {
    "duration": 322,
    "start_time": "2023-08-02T07:08:48.429Z"
   },
   {
    "duration": 172,
    "start_time": "2023-08-02T07:08:48.754Z"
   },
   {
    "duration": 342,
    "start_time": "2023-08-02T07:08:48.929Z"
   },
   {
    "duration": 75,
    "start_time": "2023-08-02T07:08:49.273Z"
   },
   {
    "duration": 471,
    "start_time": "2023-08-02T07:08:49.683Z"
   },
   {
    "duration": 25,
    "start_time": "2023-08-02T07:08:50.156Z"
   },
   {
    "duration": 371,
    "start_time": "2023-08-02T07:08:50.183Z"
   },
   {
    "duration": 22,
    "start_time": "2023-08-02T07:08:50.561Z"
   },
   {
    "duration": 509,
    "start_time": "2023-08-02T07:08:50.586Z"
   },
   {
    "duration": 273,
    "start_time": "2023-08-02T07:08:51.098Z"
   },
   {
    "duration": 23,
    "start_time": "2023-08-02T07:08:51.373Z"
   },
   {
    "duration": 64,
    "start_time": "2023-08-02T07:08:51.399Z"
   },
   {
    "duration": 21,
    "start_time": "2023-08-02T07:08:51.808Z"
   },
   {
    "duration": 30,
    "start_time": "2023-08-02T07:08:52.008Z"
   },
   {
    "duration": 138,
    "start_time": "2023-08-02T07:08:52.432Z"
   },
   {
    "duration": 147,
    "start_time": "2023-08-02T07:08:52.645Z"
   },
   {
    "duration": 140,
    "start_time": "2023-08-02T07:08:53.043Z"
   },
   {
    "duration": 23,
    "start_time": "2023-08-02T07:08:53.255Z"
   },
   {
    "duration": 23,
    "start_time": "2023-08-02T07:08:54.147Z"
   },
   {
    "duration": 36,
    "start_time": "2023-08-02T07:08:54.352Z"
   },
   {
    "duration": 14,
    "start_time": "2023-08-02T07:08:54.556Z"
   },
   {
    "duration": 623,
    "start_time": "2023-08-02T07:08:55.608Z"
   },
   {
    "duration": 63,
    "start_time": "2023-08-02T07:08:56.233Z"
   },
   {
    "duration": 69,
    "start_time": "2023-08-02T07:08:56.298Z"
   },
   {
    "duration": 162,
    "start_time": "2023-08-02T07:08:56.370Z"
   },
   {
    "duration": 2358,
    "start_time": "2023-08-02T07:08:56.534Z"
   },
   {
    "duration": 141,
    "start_time": "2023-08-02T07:08:58.895Z"
   },
   {
    "duration": 158,
    "start_time": "2023-08-02T07:08:59.039Z"
   },
   {
    "duration": 1710,
    "start_time": "2023-08-02T07:09:21.164Z"
   },
   {
    "duration": 993,
    "start_time": "2023-08-02T07:09:22.876Z"
   },
   {
    "duration": 153,
    "start_time": "2023-08-02T07:09:23.871Z"
   },
   {
    "duration": 31,
    "start_time": "2023-08-02T07:09:24.035Z"
   },
   {
    "duration": 281,
    "start_time": "2023-08-02T07:09:24.068Z"
   },
   {
    "duration": 143,
    "start_time": "2023-08-02T07:09:24.352Z"
   },
   {
    "duration": 335,
    "start_time": "2023-08-02T07:09:24.497Z"
   },
   {
    "duration": 161,
    "start_time": "2023-08-02T07:09:24.836Z"
   },
   {
    "duration": 331,
    "start_time": "2023-08-02T07:09:24.999Z"
   },
   {
    "duration": 62,
    "start_time": "2023-08-02T07:09:25.380Z"
   },
   {
    "duration": 703,
    "start_time": "2023-08-02T07:09:25.835Z"
   },
   {
    "duration": 21,
    "start_time": "2023-08-02T07:09:26.540Z"
   },
   {
    "duration": 322,
    "start_time": "2023-08-02T07:09:26.563Z"
   },
   {
    "duration": 33,
    "start_time": "2023-08-02T07:09:26.888Z"
   },
   {
    "duration": 353,
    "start_time": "2023-08-02T07:09:26.923Z"
   },
   {
    "duration": 376,
    "start_time": "2023-08-02T07:09:27.279Z"
   },
   {
    "duration": 21,
    "start_time": "2023-08-02T07:09:27.657Z"
   },
   {
    "duration": 68,
    "start_time": "2023-08-02T07:09:27.680Z"
   },
   {
    "duration": 23,
    "start_time": "2023-08-02T07:09:28.197Z"
   },
   {
    "duration": 24,
    "start_time": "2023-08-02T07:09:28.442Z"
   },
   {
    "duration": 159,
    "start_time": "2023-08-02T07:09:28.931Z"
   },
   {
    "duration": 151,
    "start_time": "2023-08-02T07:09:29.177Z"
   },
   {
    "duration": 155,
    "start_time": "2023-08-02T07:09:29.432Z"
   },
   {
    "duration": 42,
    "start_time": "2023-08-02T07:09:29.689Z"
   },
   {
    "duration": 26,
    "start_time": "2023-08-02T07:09:30.229Z"
   },
   {
    "duration": 54,
    "start_time": "2023-08-02T07:09:30.471Z"
   },
   {
    "duration": 15,
    "start_time": "2023-08-02T07:09:30.732Z"
   },
   {
    "duration": 653,
    "start_time": "2023-08-02T07:09:32.476Z"
   },
   {
    "duration": 64,
    "start_time": "2023-08-02T07:09:33.138Z"
   },
   {
    "duration": 45,
    "start_time": "2023-08-02T07:09:33.877Z"
   },
   {
    "duration": 158,
    "start_time": "2023-08-02T07:09:34.392Z"
   },
   {
    "duration": 2346,
    "start_time": "2023-08-02T07:09:35.001Z"
   },
   {
    "duration": 104,
    "start_time": "2023-08-02T07:09:37.349Z"
   },
   {
    "duration": 104,
    "start_time": "2023-08-02T07:09:38.167Z"
   },
   {
    "duration": 15189,
    "start_time": "2023-08-02T07:09:41.726Z"
   },
   {
    "duration": 47,
    "start_time": "2023-08-02T07:10:00.801Z"
   },
   {
    "duration": 198164,
    "start_time": "2023-08-02T07:10:09.453Z"
   },
   {
    "duration": 1673,
    "start_time": "2023-08-02T07:14:51.230Z"
   },
   {
    "duration": 1005,
    "start_time": "2023-08-02T07:14:52.905Z"
   },
   {
    "duration": 119,
    "start_time": "2023-08-02T07:14:55.071Z"
   },
   {
    "duration": 22,
    "start_time": "2023-08-02T07:14:55.680Z"
   },
   {
    "duration": 283,
    "start_time": "2023-08-02T07:14:56.802Z"
   },
   {
    "duration": 142,
    "start_time": "2023-08-02T07:14:58.095Z"
   },
   {
    "duration": 315,
    "start_time": "2023-08-02T07:14:59.028Z"
   },
   {
    "duration": 162,
    "start_time": "2023-08-02T07:14:59.521Z"
   },
   {
    "duration": 316,
    "start_time": "2023-08-02T07:15:00.236Z"
   },
   {
    "duration": 70,
    "start_time": "2023-08-02T07:15:01.373Z"
   },
   {
    "duration": 431,
    "start_time": "2023-08-02T07:15:02.482Z"
   },
   {
    "duration": 29,
    "start_time": "2023-08-02T07:15:03.416Z"
   },
   {
    "duration": 330,
    "start_time": "2023-08-02T07:15:03.941Z"
   },
   {
    "duration": 20,
    "start_time": "2023-08-02T07:15:04.466Z"
   },
   {
    "duration": 367,
    "start_time": "2023-08-02T07:15:04.938Z"
   },
   {
    "duration": 261,
    "start_time": "2023-08-02T07:15:05.455Z"
   },
   {
    "duration": 27,
    "start_time": "2023-08-02T07:15:06.022Z"
   },
   {
    "duration": 52,
    "start_time": "2023-08-02T07:15:06.681Z"
   },
   {
    "duration": 16,
    "start_time": "2023-08-02T07:15:07.960Z"
   },
   {
    "duration": 27,
    "start_time": "2023-08-02T07:15:08.600Z"
   },
   {
    "duration": 143,
    "start_time": "2023-08-02T07:15:09.917Z"
   },
   {
    "duration": 153,
    "start_time": "2023-08-02T07:15:10.608Z"
   },
   {
    "duration": 133,
    "start_time": "2023-08-02T07:15:11.352Z"
   },
   {
    "duration": 22,
    "start_time": "2023-08-02T07:15:12.064Z"
   },
   {
    "duration": 25,
    "start_time": "2023-08-02T07:15:13.348Z"
   },
   {
    "duration": 52,
    "start_time": "2023-08-02T07:15:13.930Z"
   },
   {
    "duration": 17,
    "start_time": "2023-08-02T07:15:14.577Z"
   },
   {
    "duration": 561,
    "start_time": "2023-08-02T07:15:17.292Z"
   },
   {
    "duration": 63,
    "start_time": "2023-08-02T07:15:19.194Z"
   },
   {
    "duration": 46,
    "start_time": "2023-08-02T07:15:19.860Z"
   },
   {
    "duration": 178,
    "start_time": "2023-08-02T07:15:20.502Z"
   },
   {
    "duration": 2210,
    "start_time": "2023-08-02T07:15:21.203Z"
   },
   {
    "duration": 122,
    "start_time": "2023-08-02T07:15:23.419Z"
   },
   {
    "duration": 109,
    "start_time": "2023-08-02T07:15:23.543Z"
   },
   {
    "duration": 15224,
    "start_time": "2023-08-02T07:15:29.896Z"
   },
   {
    "duration": 134,
    "start_time": "2023-08-02T07:15:48.774Z"
   },
   {
    "duration": 206579,
    "start_time": "2023-08-02T07:16:00.906Z"
   },
   {
    "duration": 28,
    "start_time": "2023-08-02T07:20:55.724Z"
   },
   {
    "duration": 285,
    "start_time": "2023-08-02T07:23:25.748Z"
   },
   {
    "duration": 157,
    "start_time": "2023-08-02T07:30:49.574Z"
   },
   {
    "duration": 124,
    "start_time": "2023-08-02T08:27:15.919Z"
   },
   {
    "duration": 189,
    "start_time": "2023-08-02T08:37:43.015Z"
   },
   {
    "duration": 1780,
    "start_time": "2023-08-02T09:00:53.346Z"
   },
   {
    "duration": 1104,
    "start_time": "2023-08-02T09:00:55.129Z"
   },
   {
    "duration": 116,
    "start_time": "2023-08-02T09:00:56.961Z"
   },
   {
    "duration": 22,
    "start_time": "2023-08-02T09:00:57.411Z"
   },
   {
    "duration": 284,
    "start_time": "2023-08-02T09:00:58.022Z"
   },
   {
    "duration": 122,
    "start_time": "2023-08-02T09:00:58.694Z"
   },
   {
    "duration": 273,
    "start_time": "2023-08-02T09:01:00.206Z"
   },
   {
    "duration": 160,
    "start_time": "2023-08-02T09:01:00.606Z"
   },
   {
    "duration": 320,
    "start_time": "2023-08-02T09:01:01.024Z"
   },
   {
    "duration": 63,
    "start_time": "2023-08-02T09:01:01.902Z"
   },
   {
    "duration": 414,
    "start_time": "2023-08-02T09:01:02.887Z"
   },
   {
    "duration": 24,
    "start_time": "2023-08-02T09:01:03.371Z"
   },
   {
    "duration": 281,
    "start_time": "2023-08-02T09:01:04.248Z"
   },
   {
    "duration": 20,
    "start_time": "2023-08-02T09:01:04.752Z"
   },
   {
    "duration": 362,
    "start_time": "2023-08-02T09:01:05.431Z"
   },
   {
    "duration": 222,
    "start_time": "2023-08-02T09:01:06.093Z"
   },
   {
    "duration": 21,
    "start_time": "2023-08-02T09:01:06.623Z"
   },
   {
    "duration": 47,
    "start_time": "2023-08-02T09:01:07.175Z"
   },
   {
    "duration": 14,
    "start_time": "2023-08-02T09:01:08.284Z"
   },
   {
    "duration": 18,
    "start_time": "2023-08-02T09:01:09.033Z"
   },
   {
    "duration": 120,
    "start_time": "2023-08-02T09:01:10.089Z"
   },
   {
    "duration": 132,
    "start_time": "2023-08-02T09:01:10.534Z"
   },
   {
    "duration": 117,
    "start_time": "2023-08-02T09:01:11.029Z"
   },
   {
    "duration": 21,
    "start_time": "2023-08-02T09:01:11.545Z"
   },
   {
    "duration": 21,
    "start_time": "2023-08-02T09:01:12.520Z"
   },
   {
    "duration": 33,
    "start_time": "2023-08-02T09:01:13.037Z"
   },
   {
    "duration": 14,
    "start_time": "2023-08-02T09:01:13.537Z"
   },
   {
    "duration": 610,
    "start_time": "2023-08-02T09:01:16.233Z"
   },
   {
    "duration": 66,
    "start_time": "2023-08-02T09:01:16.845Z"
   },
   {
    "duration": 43,
    "start_time": "2023-08-02T09:01:17.732Z"
   },
   {
    "duration": 139,
    "start_time": "2023-08-02T09:01:18.194Z"
   },
   {
    "duration": 2095,
    "start_time": "2023-08-02T09:01:18.682Z"
   },
   {
    "duration": 87,
    "start_time": "2023-08-02T09:01:20.779Z"
   },
   {
    "duration": 125,
    "start_time": "2023-08-02T09:01:20.868Z"
   },
   {
    "duration": 10322,
    "start_time": "2023-08-02T09:01:21.091Z"
   },
   {
    "duration": 120,
    "start_time": "2023-08-02T09:01:31.416Z"
   },
   {
    "duration": 2165,
    "start_time": "2023-08-02T09:01:41.032Z"
   },
   {
    "duration": 967,
    "start_time": "2023-08-02T09:01:43.199Z"
   },
   {
    "duration": 128,
    "start_time": "2023-08-02T09:01:44.168Z"
   },
   {
    "duration": 29,
    "start_time": "2023-08-02T09:01:45.897Z"
   },
   {
    "duration": 283,
    "start_time": "2023-08-02T09:01:46.720Z"
   },
   {
    "duration": 114,
    "start_time": "2023-08-02T09:01:47.152Z"
   },
   {
    "duration": 252,
    "start_time": "2023-08-02T09:01:47.564Z"
   },
   {
    "duration": 172,
    "start_time": "2023-08-02T09:01:47.819Z"
   },
   {
    "duration": 310,
    "start_time": "2023-08-02T09:01:47.994Z"
   },
   {
    "duration": 59,
    "start_time": "2023-08-02T09:01:48.380Z"
   },
   {
    "duration": 390,
    "start_time": "2023-08-02T09:01:49.074Z"
   },
   {
    "duration": 26,
    "start_time": "2023-08-02T09:01:49.465Z"
   },
   {
    "duration": 263,
    "start_time": "2023-08-02T09:01:49.537Z"
   },
   {
    "duration": 23,
    "start_time": "2023-08-02T09:01:49.808Z"
   },
   {
    "duration": 339,
    "start_time": "2023-08-02T09:01:49.978Z"
   },
   {
    "duration": 225,
    "start_time": "2023-08-02T09:01:50.403Z"
   },
   {
    "duration": 20,
    "start_time": "2023-08-02T09:01:50.649Z"
   },
   {
    "duration": 42,
    "start_time": "2023-08-02T09:01:50.844Z"
   },
   {
    "duration": 13,
    "start_time": "2023-08-02T09:01:51.286Z"
   },
   {
    "duration": 18,
    "start_time": "2023-08-02T09:01:51.519Z"
   },
   {
    "duration": 138,
    "start_time": "2023-08-02T09:01:51.967Z"
   },
   {
    "duration": 132,
    "start_time": "2023-08-02T09:01:52.869Z"
   },
   {
    "duration": 116,
    "start_time": "2023-08-02T09:01:53.118Z"
   },
   {
    "duration": 22,
    "start_time": "2023-08-02T09:01:53.322Z"
   },
   {
    "duration": 21,
    "start_time": "2023-08-02T09:01:53.749Z"
   },
   {
    "duration": 35,
    "start_time": "2023-08-02T09:01:53.989Z"
   },
   {
    "duration": 14,
    "start_time": "2023-08-02T09:01:54.195Z"
   },
   {
    "duration": 705,
    "start_time": "2023-08-02T09:01:56.280Z"
   },
   {
    "duration": 68,
    "start_time": "2023-08-02T09:01:56.987Z"
   },
   {
    "duration": 44,
    "start_time": "2023-08-02T09:01:58.560Z"
   },
   {
    "duration": 163,
    "start_time": "2023-08-02T09:01:59.298Z"
   },
   {
    "duration": 2125,
    "start_time": "2023-08-02T09:01:59.814Z"
   },
   {
    "duration": 110,
    "start_time": "2023-08-02T09:02:01.941Z"
   },
   {
    "duration": 96,
    "start_time": "2023-08-02T09:02:02.052Z"
   },
   {
    "duration": 68996,
    "start_time": "2023-08-02T09:02:12.356Z"
   },
   {
    "duration": 29,
    "start_time": "2023-08-02T09:08:38.527Z"
   },
   {
    "duration": 3102,
    "start_time": "2023-08-02T09:09:28.170Z"
   },
   {
    "duration": 1041,
    "start_time": "2023-08-02T09:09:31.335Z"
   },
   {
    "duration": 119,
    "start_time": "2023-08-02T09:09:33.790Z"
   },
   {
    "duration": 22,
    "start_time": "2023-08-02T09:09:34.615Z"
   },
   {
    "duration": 280,
    "start_time": "2023-08-02T09:09:36.178Z"
   },
   {
    "duration": 116,
    "start_time": "2023-08-02T09:09:37.624Z"
   },
   {
    "duration": 266,
    "start_time": "2023-08-02T09:09:38.839Z"
   },
   {
    "duration": 153,
    "start_time": "2023-08-02T09:09:39.870Z"
   },
   {
    "duration": 313,
    "start_time": "2023-08-02T09:09:40.788Z"
   },
   {
    "duration": 60,
    "start_time": "2023-08-02T09:09:42.081Z"
   },
   {
    "duration": 381,
    "start_time": "2023-08-02T09:09:43.189Z"
   },
   {
    "duration": 24,
    "start_time": "2023-08-02T09:09:43.797Z"
   },
   {
    "duration": 272,
    "start_time": "2023-08-02T09:09:44.267Z"
   },
   {
    "duration": 21,
    "start_time": "2023-08-02T09:09:44.769Z"
   },
   {
    "duration": 330,
    "start_time": "2023-08-02T09:09:45.244Z"
   },
   {
    "duration": 287,
    "start_time": "2023-08-02T09:09:45.726Z"
   },
   {
    "duration": 20,
    "start_time": "2023-08-02T09:09:46.253Z"
   },
   {
    "duration": 45,
    "start_time": "2023-08-02T09:09:46.713Z"
   },
   {
    "duration": 14,
    "start_time": "2023-08-02T09:09:47.752Z"
   },
   {
    "duration": 20,
    "start_time": "2023-08-02T09:09:48.328Z"
   },
   {
    "duration": 134,
    "start_time": "2023-08-02T09:09:49.285Z"
   },
   {
    "duration": 132,
    "start_time": "2023-08-02T09:09:49.767Z"
   },
   {
    "duration": 138,
    "start_time": "2023-08-02T09:09:50.232Z"
   },
   {
    "duration": 22,
    "start_time": "2023-08-02T09:09:50.713Z"
   },
   {
    "duration": 23,
    "start_time": "2023-08-02T09:09:51.751Z"
   },
   {
    "duration": 33,
    "start_time": "2023-08-02T09:09:52.266Z"
   },
   {
    "duration": 14,
    "start_time": "2023-08-02T09:09:52.800Z"
   },
   {
    "duration": 519,
    "start_time": "2023-08-02T09:09:55.036Z"
   },
   {
    "duration": 60,
    "start_time": "2023-08-02T09:09:56.567Z"
   },
   {
    "duration": 43,
    "start_time": "2023-08-02T09:09:57.159Z"
   },
   {
    "duration": 162,
    "start_time": "2023-08-02T09:09:57.667Z"
   },
   {
    "duration": 2020,
    "start_time": "2023-08-02T09:09:58.232Z"
   },
   {
    "duration": 92,
    "start_time": "2023-08-02T09:10:00.254Z"
   },
   {
    "duration": 100,
    "start_time": "2023-08-02T09:10:00.347Z"
   },
   {
    "duration": 9540,
    "start_time": "2023-08-02T09:10:02.875Z"
   },
   {
    "duration": 79,
    "start_time": "2023-08-02T09:10:16.131Z"
   },
   {
    "duration": 317821,
    "start_time": "2023-08-02T09:10:19.672Z"
   },
   {
    "duration": 91,
    "start_time": "2023-08-02T09:15:51.286Z"
   },
   {
    "duration": 1637,
    "start_time": "2023-08-02T10:08:52.587Z"
   },
   {
    "duration": 1045,
    "start_time": "2023-08-02T10:08:54.228Z"
   },
   {
    "duration": 206,
    "start_time": "2023-08-02T10:08:56.039Z"
   },
   {
    "duration": 21,
    "start_time": "2023-08-02T10:08:56.448Z"
   },
   {
    "duration": 293,
    "start_time": "2023-08-02T10:08:57.243Z"
   },
   {
    "duration": 131,
    "start_time": "2023-08-02T10:08:57.772Z"
   },
   {
    "duration": 322,
    "start_time": "2023-08-02T10:08:58.725Z"
   },
   {
    "duration": 168,
    "start_time": "2023-08-02T10:08:59.147Z"
   },
   {
    "duration": 355,
    "start_time": "2023-08-02T10:08:59.375Z"
   },
   {
    "duration": 72,
    "start_time": "2023-08-02T10:08:59.950Z"
   },
   {
    "duration": 519,
    "start_time": "2023-08-02T10:09:00.702Z"
   },
   {
    "duration": 26,
    "start_time": "2023-08-02T10:09:01.223Z"
   },
   {
    "duration": 323,
    "start_time": "2023-08-02T10:09:01.326Z"
   },
   {
    "duration": 25,
    "start_time": "2023-08-02T10:09:14.833Z"
   },
   {
    "duration": 366,
    "start_time": "2023-08-02T10:09:15.277Z"
   },
   {
    "duration": 266,
    "start_time": "2023-08-02T10:09:15.953Z"
   },
   {
    "duration": 21,
    "start_time": "2023-08-02T10:09:16.427Z"
   },
   {
    "duration": 50,
    "start_time": "2023-08-02T10:09:16.985Z"
   },
   {
    "duration": 14,
    "start_time": "2023-08-02T10:09:17.857Z"
   },
   {
    "duration": 23,
    "start_time": "2023-08-02T10:09:18.399Z"
   },
   {
    "duration": 162,
    "start_time": "2023-08-02T10:09:19.426Z"
   },
   {
    "duration": 152,
    "start_time": "2023-08-02T10:09:20.038Z"
   },
   {
    "duration": 161,
    "start_time": "2023-08-02T10:09:20.508Z"
   },
   {
    "duration": 23,
    "start_time": "2023-08-02T10:09:21.061Z"
   },
   {
    "duration": 24,
    "start_time": "2023-08-02T10:09:21.759Z"
   },
   {
    "duration": 41,
    "start_time": "2023-08-02T10:09:22.289Z"
   },
   {
    "duration": 15,
    "start_time": "2023-08-02T10:09:22.626Z"
   },
   {
    "duration": 614,
    "start_time": "2023-08-02T10:09:24.371Z"
   },
   {
    "duration": 65,
    "start_time": "2023-08-02T10:09:24.987Z"
   },
   {
    "duration": 46,
    "start_time": "2023-08-02T10:09:25.534Z"
   },
   {
    "duration": 209,
    "start_time": "2023-08-02T10:09:25.969Z"
   },
   {
    "duration": 2155,
    "start_time": "2023-08-02T10:09:26.432Z"
   },
   {
    "duration": 96,
    "start_time": "2023-08-02T10:09:28.589Z"
   },
   {
    "duration": 92,
    "start_time": "2023-08-02T10:09:28.686Z"
   },
   {
    "duration": 1575,
    "start_time": "2023-08-02T10:12:07.954Z"
   },
   {
    "duration": 1087,
    "start_time": "2023-08-02T10:12:09.532Z"
   },
   {
    "duration": 122,
    "start_time": "2023-08-02T10:12:10.620Z"
   },
   {
    "duration": 23,
    "start_time": "2023-08-02T10:12:10.744Z"
   },
   {
    "duration": 312,
    "start_time": "2023-08-02T10:12:10.768Z"
   },
   {
    "duration": 141,
    "start_time": "2023-08-02T10:12:11.082Z"
   },
   {
    "duration": 294,
    "start_time": "2023-08-02T10:12:11.225Z"
   },
   {
    "duration": 166,
    "start_time": "2023-08-02T10:12:11.523Z"
   },
   {
    "duration": 343,
    "start_time": "2023-08-02T10:12:11.691Z"
   },
   {
    "duration": 81,
    "start_time": "2023-08-02T10:12:12.037Z"
   },
   {
    "duration": 445,
    "start_time": "2023-08-02T10:12:12.122Z"
   },
   {
    "duration": 24,
    "start_time": "2023-08-02T10:12:12.570Z"
   },
   {
    "duration": 344,
    "start_time": "2023-08-02T10:12:12.596Z"
   },
   {
    "duration": 20,
    "start_time": "2023-08-02T10:12:12.942Z"
   },
   {
    "duration": 374,
    "start_time": "2023-08-02T10:12:12.965Z"
   },
   {
    "duration": 245,
    "start_time": "2023-08-02T10:12:13.341Z"
   },
   {
    "duration": 33,
    "start_time": "2023-08-02T10:12:13.587Z"
   },
   {
    "duration": 163,
    "start_time": "2023-08-02T10:12:13.622Z"
   },
   {
    "duration": 26,
    "start_time": "2023-08-02T10:12:13.787Z"
   },
   {
    "duration": 68,
    "start_time": "2023-08-02T10:12:13.818Z"
   },
   {
    "duration": 177,
    "start_time": "2023-08-02T10:12:13.889Z"
   },
   {
    "duration": 160,
    "start_time": "2023-08-02T10:12:14.068Z"
   },
   {
    "duration": 135,
    "start_time": "2023-08-02T10:12:14.231Z"
   },
   {
    "duration": 22,
    "start_time": "2023-08-02T10:12:14.368Z"
   },
   {
    "duration": 20,
    "start_time": "2023-08-02T10:12:14.659Z"
   },
   {
    "duration": 36,
    "start_time": "2023-08-02T10:12:14.850Z"
   },
   {
    "duration": 15,
    "start_time": "2023-08-02T10:12:15.042Z"
   },
   {
    "duration": 632,
    "start_time": "2023-08-02T10:12:16.526Z"
   },
   {
    "duration": 59,
    "start_time": "2023-08-02T10:12:17.642Z"
   },
   {
    "duration": 48,
    "start_time": "2023-08-02T10:12:18.077Z"
   },
   {
    "duration": 146,
    "start_time": "2023-08-02T10:12:18.523Z"
   },
   {
    "duration": 2145,
    "start_time": "2023-08-02T10:12:19.477Z"
   },
   {
    "duration": 102,
    "start_time": "2023-08-02T10:12:21.625Z"
   },
   {
    "duration": 108,
    "start_time": "2023-08-02T10:12:21.730Z"
   },
   {
    "duration": 1589,
    "start_time": "2023-08-02T10:13:07.183Z"
   },
   {
    "duration": 1089,
    "start_time": "2023-08-02T10:13:08.775Z"
   },
   {
    "duration": 147,
    "start_time": "2023-08-02T10:13:09.865Z"
   },
   {
    "duration": 25,
    "start_time": "2023-08-02T10:13:10.015Z"
   },
   {
    "duration": 320,
    "start_time": "2023-08-02T10:13:10.041Z"
   },
   {
    "duration": 127,
    "start_time": "2023-08-02T10:13:10.362Z"
   },
   {
    "duration": 295,
    "start_time": "2023-08-02T10:13:10.490Z"
   },
   {
    "duration": 175,
    "start_time": "2023-08-02T10:13:10.786Z"
   },
   {
    "duration": 318,
    "start_time": "2023-08-02T10:13:10.962Z"
   },
   {
    "duration": 67,
    "start_time": "2023-08-02T10:13:11.406Z"
   },
   {
    "duration": 431,
    "start_time": "2023-08-02T10:13:11.939Z"
   },
   {
    "duration": 23,
    "start_time": "2023-08-02T10:13:12.372Z"
   },
   {
    "duration": 300,
    "start_time": "2023-08-02T10:13:12.941Z"
   },
   {
    "duration": 20,
    "start_time": "2023-08-02T10:13:13.243Z"
   },
   {
    "duration": 343,
    "start_time": "2023-08-02T10:13:13.333Z"
   },
   {
    "duration": 260,
    "start_time": "2023-08-02T10:13:13.678Z"
   },
   {
    "duration": 20,
    "start_time": "2023-08-02T10:13:13.939Z"
   },
   {
    "duration": 70,
    "start_time": "2023-08-02T10:13:13.962Z"
   },
   {
    "duration": 15,
    "start_time": "2023-08-02T10:13:14.464Z"
   },
   {
    "duration": 19,
    "start_time": "2023-08-02T10:13:14.662Z"
   },
   {
    "duration": 132,
    "start_time": "2023-08-02T10:13:15.048Z"
   },
   {
    "duration": 132,
    "start_time": "2023-08-02T10:13:15.223Z"
   },
   {
    "duration": 125,
    "start_time": "2023-08-02T10:13:15.432Z"
   },
   {
    "duration": 23,
    "start_time": "2023-08-02T10:13:15.665Z"
   },
   {
    "duration": 27,
    "start_time": "2023-08-02T10:13:16.047Z"
   },
   {
    "duration": 46,
    "start_time": "2023-08-02T10:13:16.547Z"
   },
   {
    "duration": 14,
    "start_time": "2023-08-02T10:13:17.049Z"
   },
   {
    "duration": 571,
    "start_time": "2023-08-02T10:13:18.688Z"
   },
   {
    "duration": 68,
    "start_time": "2023-08-02T10:13:19.261Z"
   },
   {
    "duration": 44,
    "start_time": "2023-08-02T10:13:19.497Z"
   },
   {
    "duration": 155,
    "start_time": "2023-08-02T10:13:20.264Z"
   },
   {
    "duration": 2242,
    "start_time": "2023-08-02T10:13:20.464Z"
   },
   {
    "duration": 111,
    "start_time": "2023-08-02T10:13:22.709Z"
   },
   {
    "duration": 101,
    "start_time": "2023-08-02T10:13:22.824Z"
   },
   {
    "duration": 2973,
    "start_time": "2023-08-02T10:30:35.080Z"
   },
   {
    "duration": 1059,
    "start_time": "2023-08-02T10:30:38.056Z"
   },
   {
    "duration": 130,
    "start_time": "2023-08-02T10:30:39.119Z"
   },
   {
    "duration": 21,
    "start_time": "2023-08-02T10:30:39.252Z"
   },
   {
    "duration": 371,
    "start_time": "2023-08-02T10:30:39.274Z"
   },
   {
    "duration": 143,
    "start_time": "2023-08-02T10:30:40.384Z"
   },
   {
    "duration": 395,
    "start_time": "2023-08-02T10:30:41.314Z"
   },
   {
    "duration": 168,
    "start_time": "2023-08-02T10:30:41.785Z"
   },
   {
    "duration": 328,
    "start_time": "2023-08-02T10:30:42.294Z"
   },
   {
    "duration": 72,
    "start_time": "2023-08-02T10:30:43.181Z"
   },
   {
    "duration": 568,
    "start_time": "2023-08-02T10:30:44.369Z"
   },
   {
    "duration": 24,
    "start_time": "2023-08-02T10:30:46.542Z"
   },
   {
    "duration": 301,
    "start_time": "2023-08-02T10:30:47.468Z"
   },
   {
    "duration": 20,
    "start_time": "2023-08-02T10:30:47.928Z"
   },
   {
    "duration": 374,
    "start_time": "2023-08-02T10:30:48.556Z"
   },
   {
    "duration": 253,
    "start_time": "2023-08-02T10:30:49.072Z"
   },
   {
    "duration": 20,
    "start_time": "2023-08-02T10:30:50.172Z"
   },
   {
    "duration": 50,
    "start_time": "2023-08-02T10:30:50.996Z"
   },
   {
    "duration": 15,
    "start_time": "2023-08-02T10:30:52.568Z"
   },
   {
    "duration": 24,
    "start_time": "2023-08-02T10:30:53.299Z"
   },
   {
    "duration": 129,
    "start_time": "2023-08-02T10:30:54.625Z"
   },
   {
    "duration": 136,
    "start_time": "2023-08-02T10:30:55.449Z"
   },
   {
    "duration": 138,
    "start_time": "2023-08-02T10:30:56.134Z"
   },
   {
    "duration": 23,
    "start_time": "2023-08-02T10:30:56.574Z"
   },
   {
    "duration": 29,
    "start_time": "2023-08-02T10:30:57.527Z"
   },
   {
    "duration": 44,
    "start_time": "2023-08-02T10:30:57.806Z"
   },
   {
    "duration": 15,
    "start_time": "2023-08-02T10:30:58.290Z"
   },
   {
    "duration": 755,
    "start_time": "2023-08-02T10:31:00.072Z"
   },
   {
    "duration": 69,
    "start_time": "2023-08-02T10:31:01.327Z"
   },
   {
    "duration": 45,
    "start_time": "2023-08-02T10:31:01.890Z"
   },
   {
    "duration": 153,
    "start_time": "2023-08-02T10:31:04.403Z"
   },
   {
    "duration": 2498,
    "start_time": "2023-08-02T10:31:05.169Z"
   },
   {
    "duration": 100,
    "start_time": "2023-08-02T10:31:07.669Z"
   },
   {
    "duration": 91,
    "start_time": "2023-08-02T10:31:08.523Z"
   },
   {
    "duration": 1885,
    "start_time": "2023-08-02T10:48:43.270Z"
   },
   {
    "duration": 1077,
    "start_time": "2023-08-02T10:48:45.157Z"
   },
   {
    "duration": 130,
    "start_time": "2023-08-02T10:48:46.237Z"
   },
   {
    "duration": 22,
    "start_time": "2023-08-02T10:48:46.370Z"
   },
   {
    "duration": 288,
    "start_time": "2023-08-02T10:48:46.413Z"
   },
   {
    "duration": 144,
    "start_time": "2023-08-02T10:48:46.702Z"
   },
   {
    "duration": 307,
    "start_time": "2023-08-02T10:48:46.848Z"
   },
   {
    "duration": 161,
    "start_time": "2023-08-02T10:48:47.538Z"
   },
   {
    "duration": 305,
    "start_time": "2023-08-02T10:48:47.742Z"
   },
   {
    "duration": 61,
    "start_time": "2023-08-02T10:48:48.157Z"
   },
   {
    "duration": 397,
    "start_time": "2023-08-02T10:48:48.878Z"
   },
   {
    "duration": 35,
    "start_time": "2023-08-02T10:48:49.277Z"
   },
   {
    "duration": 353,
    "start_time": "2023-08-02T10:48:49.313Z"
   },
   {
    "duration": 20,
    "start_time": "2023-08-02T10:48:49.669Z"
   },
   {
    "duration": 384,
    "start_time": "2023-08-02T10:48:49.694Z"
   },
   {
    "duration": 271,
    "start_time": "2023-08-02T10:48:50.081Z"
   },
   {
    "duration": 20,
    "start_time": "2023-08-02T10:48:50.354Z"
   },
   {
    "duration": 71,
    "start_time": "2023-08-02T10:48:50.376Z"
   },
   {
    "duration": 14,
    "start_time": "2023-08-02T10:48:51.563Z"
   },
   {
    "duration": 18,
    "start_time": "2023-08-02T10:48:51.769Z"
   },
   {
    "duration": 119,
    "start_time": "2023-08-02T10:48:52.526Z"
   },
   {
    "duration": 134,
    "start_time": "2023-08-02T10:48:52.739Z"
   },
   {
    "duration": 122,
    "start_time": "2023-08-02T10:48:52.959Z"
   },
   {
    "duration": 22,
    "start_time": "2023-08-02T10:48:53.133Z"
   },
   {
    "duration": 20,
    "start_time": "2023-08-02T10:48:53.556Z"
   },
   {
    "duration": 55,
    "start_time": "2023-08-02T10:48:53.770Z"
   },
   {
    "duration": 21,
    "start_time": "2023-08-02T10:48:53.967Z"
   },
   {
    "duration": 560,
    "start_time": "2023-08-02T10:48:54.965Z"
   },
   {
    "duration": 59,
    "start_time": "2023-08-02T10:48:55.527Z"
   },
   {
    "duration": 45,
    "start_time": "2023-08-02T10:48:56.122Z"
   },
   {
    "duration": 161,
    "start_time": "2023-08-02T10:48:56.337Z"
   },
   {
    "duration": 2069,
    "start_time": "2023-08-02T10:48:56.545Z"
   },
   {
    "duration": 108,
    "start_time": "2023-08-02T10:48:58.617Z"
   },
   {
    "duration": 105,
    "start_time": "2023-08-02T10:48:58.727Z"
   },
   {
    "duration": 1836,
    "start_time": "2023-08-02T10:49:14.728Z"
   },
   {
    "duration": 1077,
    "start_time": "2023-08-02T10:49:16.566Z"
   },
   {
    "duration": 141,
    "start_time": "2023-08-02T10:49:17.644Z"
   },
   {
    "duration": 44,
    "start_time": "2023-08-02T10:49:17.789Z"
   },
   {
    "duration": 312,
    "start_time": "2023-08-02T10:49:17.835Z"
   },
   {
    "duration": 123,
    "start_time": "2023-08-02T10:49:18.150Z"
   },
   {
    "duration": 309,
    "start_time": "2023-08-02T10:49:18.275Z"
   },
   {
    "duration": 190,
    "start_time": "2023-08-02T10:49:18.585Z"
   },
   {
    "duration": 328,
    "start_time": "2023-08-02T10:49:18.777Z"
   },
   {
    "duration": 67,
    "start_time": "2023-08-02T10:49:19.109Z"
   },
   {
    "duration": 526,
    "start_time": "2023-08-02T10:49:19.178Z"
   },
   {
    "duration": 25,
    "start_time": "2023-08-02T10:49:19.706Z"
   },
   {
    "duration": 347,
    "start_time": "2023-08-02T10:49:19.733Z"
   },
   {
    "duration": 28,
    "start_time": "2023-08-02T10:49:20.083Z"
   },
   {
    "duration": 364,
    "start_time": "2023-08-02T10:49:20.119Z"
   },
   {
    "duration": 259,
    "start_time": "2023-08-02T10:49:20.486Z"
   },
   {
    "duration": 19,
    "start_time": "2023-08-02T10:49:20.747Z"
   },
   {
    "duration": 71,
    "start_time": "2023-08-02T10:49:20.768Z"
   },
   {
    "duration": 13,
    "start_time": "2023-08-02T10:49:20.841Z"
   },
   {
    "duration": 21,
    "start_time": "2023-08-02T10:49:20.925Z"
   },
   {
    "duration": 124,
    "start_time": "2023-08-02T10:49:21.633Z"
   },
   {
    "duration": 151,
    "start_time": "2023-08-02T10:49:21.892Z"
   },
   {
    "duration": 133,
    "start_time": "2023-08-02T10:49:22.143Z"
   },
   {
    "duration": 21,
    "start_time": "2023-08-02T10:49:22.574Z"
   },
   {
    "duration": 22,
    "start_time": "2023-08-02T10:49:23.234Z"
   },
   {
    "duration": 38,
    "start_time": "2023-08-02T10:49:23.685Z"
   },
   {
    "duration": 16,
    "start_time": "2023-08-02T10:49:24.227Z"
   },
   {
    "duration": 521,
    "start_time": "2023-08-02T10:49:26.224Z"
   },
   {
    "duration": 76,
    "start_time": "2023-08-02T10:49:26.747Z"
   },
   {
    "duration": 46,
    "start_time": "2023-08-02T10:49:27.305Z"
   },
   {
    "duration": 152,
    "start_time": "2023-08-02T10:49:28.230Z"
   },
   {
    "duration": 2002,
    "start_time": "2023-08-02T10:49:32.466Z"
   },
   {
    "duration": 98,
    "start_time": "2023-08-02T10:49:34.470Z"
   },
   {
    "duration": 104,
    "start_time": "2023-08-02T10:49:34.570Z"
   },
   {
    "duration": 563,
    "start_time": "2023-08-02T10:49:46.568Z"
   },
   {
    "duration": 18442,
    "start_time": "2023-08-02T11:01:33.442Z"
   },
   {
    "duration": 1241,
    "start_time": "2023-08-02T11:01:51.886Z"
   },
   {
    "duration": 145,
    "start_time": "2023-08-02T11:01:53.130Z"
   },
   {
    "duration": 46,
    "start_time": "2023-08-02T11:01:53.278Z"
   },
   {
    "duration": 345,
    "start_time": "2023-08-02T11:01:53.328Z"
   },
   {
    "duration": 186,
    "start_time": "2023-08-02T11:01:53.675Z"
   },
   {
    "duration": 2569,
    "start_time": "2023-08-02T11:02:15.058Z"
   },
   {
    "duration": 1152,
    "start_time": "2023-08-02T11:02:19.226Z"
   },
   {
    "duration": 128,
    "start_time": "2023-08-02T11:02:23.809Z"
   },
   {
    "duration": 23,
    "start_time": "2023-08-02T11:02:25.164Z"
   },
   {
    "duration": 295,
    "start_time": "2023-08-02T11:02:26.134Z"
   },
   {
    "duration": 130,
    "start_time": "2023-08-02T11:02:27.613Z"
   },
   {
    "duration": 303,
    "start_time": "2023-08-02T11:02:28.595Z"
   },
   {
    "duration": 167,
    "start_time": "2023-08-02T11:02:29.063Z"
   },
   {
    "duration": 332,
    "start_time": "2023-08-02T11:02:29.680Z"
   },
   {
    "duration": 67,
    "start_time": "2023-08-02T11:02:30.572Z"
   },
   {
    "duration": 720,
    "start_time": "2023-08-02T11:02:31.402Z"
   },
   {
    "duration": 27,
    "start_time": "2023-08-02T11:02:32.130Z"
   },
   {
    "duration": 500,
    "start_time": "2023-08-02T11:02:32.269Z"
   },
   {
    "duration": 18,
    "start_time": "2023-08-02T11:02:32.771Z"
   },
   {
    "duration": 346,
    "start_time": "2023-08-02T11:02:33.127Z"
   },
   {
    "duration": 236,
    "start_time": "2023-08-02T11:02:33.555Z"
   },
   {
    "duration": 19,
    "start_time": "2023-08-02T11:02:33.943Z"
   },
   {
    "duration": 48,
    "start_time": "2023-08-02T11:02:34.181Z"
   },
   {
    "duration": 20,
    "start_time": "2023-08-02T11:02:35.061Z"
   },
   {
    "duration": 24,
    "start_time": "2023-08-02T11:02:35.534Z"
   },
   {
    "duration": 142,
    "start_time": "2023-08-02T11:02:36.397Z"
   },
   {
    "duration": 144,
    "start_time": "2023-08-02T11:02:36.886Z"
   },
   {
    "duration": 145,
    "start_time": "2023-08-02T11:02:37.327Z"
   },
   {
    "duration": 34,
    "start_time": "2023-08-02T11:02:37.837Z"
   },
   {
    "duration": 25,
    "start_time": "2023-08-02T11:02:38.738Z"
   },
   {
    "duration": 49,
    "start_time": "2023-08-02T11:02:39.238Z"
   },
   {
    "duration": 19,
    "start_time": "2023-08-02T11:02:39.701Z"
   },
   {
    "duration": 686,
    "start_time": "2023-08-02T11:02:41.985Z"
   },
   {
    "duration": 157,
    "start_time": "2023-08-02T11:02:42.674Z"
   },
   {
    "duration": 88,
    "start_time": "2023-08-02T11:02:43.647Z"
   },
   {
    "duration": 451,
    "start_time": "2023-08-02T11:02:44.400Z"
   },
   {
    "duration": 2757,
    "start_time": "2023-08-02T11:02:45.288Z"
   },
   {
    "duration": 115,
    "start_time": "2023-08-02T11:02:48.048Z"
   },
   {
    "duration": 102,
    "start_time": "2023-08-02T11:02:49.227Z"
   },
   {
    "duration": 1227308,
    "start_time": "2023-08-02T11:03:03.528Z"
   },
   {
    "duration": 430,
    "start_time": "2023-08-02T11:24:28.471Z"
   },
   {
    "duration": 540,
    "start_time": "2023-08-02T11:25:10.701Z"
   },
   {
    "duration": 1657,
    "start_time": "2023-08-02T11:25:53.788Z"
   },
   {
    "duration": 986,
    "start_time": "2023-08-02T11:25:56.236Z"
   },
   {
    "duration": 125,
    "start_time": "2023-08-02T11:26:00.012Z"
   },
   {
    "duration": 36,
    "start_time": "2023-08-02T11:26:00.602Z"
   },
   {
    "duration": 273,
    "start_time": "2023-08-02T11:26:01.829Z"
   },
   {
    "duration": 124,
    "start_time": "2023-08-02T11:26:02.922Z"
   },
   {
    "duration": 363,
    "start_time": "2023-08-02T11:26:04.030Z"
   },
   {
    "duration": 155,
    "start_time": "2023-08-02T11:26:04.529Z"
   },
   {
    "duration": 312,
    "start_time": "2023-08-02T11:26:05.181Z"
   },
   {
    "duration": 62,
    "start_time": "2023-08-02T11:26:06.196Z"
   },
   {
    "duration": 423,
    "start_time": "2023-08-02T11:26:07.286Z"
   },
   {
    "duration": 26,
    "start_time": "2023-08-02T11:26:07.819Z"
   },
   {
    "duration": 276,
    "start_time": "2023-08-02T11:26:08.292Z"
   },
   {
    "duration": 22,
    "start_time": "2023-08-02T11:26:08.826Z"
   },
   {
    "duration": 374,
    "start_time": "2023-08-02T11:26:09.367Z"
   },
   {
    "duration": 282,
    "start_time": "2023-08-02T11:26:09.891Z"
   },
   {
    "duration": 20,
    "start_time": "2023-08-02T11:26:10.546Z"
   },
   {
    "duration": 55,
    "start_time": "2023-08-02T11:26:11.080Z"
   },
   {
    "duration": 15,
    "start_time": "2023-08-02T11:26:12.072Z"
   },
   {
    "duration": 23,
    "start_time": "2023-08-02T11:26:12.652Z"
   },
   {
    "duration": 138,
    "start_time": "2023-08-02T11:26:13.727Z"
   },
   {
    "duration": 141,
    "start_time": "2023-08-02T11:26:14.254Z"
   },
   {
    "duration": 144,
    "start_time": "2023-08-02T11:26:14.784Z"
   },
   {
    "duration": 22,
    "start_time": "2023-08-02T11:26:15.364Z"
   },
   {
    "duration": 24,
    "start_time": "2023-08-02T11:26:16.614Z"
   },
   {
    "duration": 35,
    "start_time": "2023-08-02T11:26:17.157Z"
   },
   {
    "duration": 20,
    "start_time": "2023-08-02T11:26:17.742Z"
   },
   {
    "duration": 531,
    "start_time": "2023-08-02T11:26:20.895Z"
   },
   {
    "duration": 58,
    "start_time": "2023-08-02T11:26:21.447Z"
   },
   {
    "duration": 46,
    "start_time": "2023-08-02T11:26:22.036Z"
   },
   {
    "duration": 185,
    "start_time": "2023-08-02T11:26:22.660Z"
   },
   {
    "duration": 2745,
    "start_time": "2023-08-02T11:26:23.188Z"
   },
   {
    "duration": 131,
    "start_time": "2023-08-02T11:26:25.936Z"
   },
   {
    "duration": 151,
    "start_time": "2023-08-02T11:26:26.069Z"
   },
   {
    "duration": 15021,
    "start_time": "2023-08-02T11:26:26.593Z"
   },
   {
    "duration": 2252,
    "start_time": "2023-08-02T11:29:34.600Z"
   },
   {
    "duration": 1141,
    "start_time": "2023-08-02T11:29:36.855Z"
   },
   {
    "duration": 148,
    "start_time": "2023-08-02T11:29:39.767Z"
   },
   {
    "duration": 33,
    "start_time": "2023-08-02T11:29:40.490Z"
   },
   {
    "duration": 283,
    "start_time": "2023-08-02T11:29:42.034Z"
   },
   {
    "duration": 128,
    "start_time": "2023-08-02T11:29:44.224Z"
   },
   {
    "duration": 335,
    "start_time": "2023-08-02T11:29:44.955Z"
   },
   {
    "duration": 182,
    "start_time": "2023-08-02T11:29:45.292Z"
   },
   {
    "duration": 356,
    "start_time": "2023-08-02T11:29:45.491Z"
   },
   {
    "duration": 81,
    "start_time": "2023-08-02T11:29:46.042Z"
   },
   {
    "duration": 425,
    "start_time": "2023-08-02T11:29:46.565Z"
   },
   {
    "duration": 35,
    "start_time": "2023-08-02T11:29:46.992Z"
   },
   {
    "duration": 334,
    "start_time": "2023-08-02T11:29:47.148Z"
   },
   {
    "duration": 34,
    "start_time": "2023-08-02T11:29:47.485Z"
   },
   {
    "duration": 464,
    "start_time": "2023-08-02T11:29:47.728Z"
   },
   {
    "duration": 272,
    "start_time": "2023-08-02T11:29:48.195Z"
   },
   {
    "duration": 18,
    "start_time": "2023-08-02T11:29:48.469Z"
   },
   {
    "duration": 47,
    "start_time": "2023-08-02T11:29:48.531Z"
   },
   {
    "duration": 22,
    "start_time": "2023-08-02T11:29:49.266Z"
   },
   {
    "duration": 19,
    "start_time": "2023-08-02T11:29:49.538Z"
   },
   {
    "duration": 167,
    "start_time": "2023-08-02T11:29:50.091Z"
   },
   {
    "duration": 149,
    "start_time": "2023-08-02T11:29:50.430Z"
   },
   {
    "duration": 141,
    "start_time": "2023-08-02T11:29:50.741Z"
   },
   {
    "duration": 27,
    "start_time": "2023-08-02T11:29:51.020Z"
   },
   {
    "duration": 31,
    "start_time": "2023-08-02T11:29:51.602Z"
   },
   {
    "duration": 55,
    "start_time": "2023-08-02T11:29:51.962Z"
   },
   {
    "duration": 20,
    "start_time": "2023-08-02T11:29:52.297Z"
   },
   {
    "duration": 579,
    "start_time": "2023-08-02T11:29:53.991Z"
   },
   {
    "duration": 66,
    "start_time": "2023-08-02T11:29:54.573Z"
   },
   {
    "duration": 46,
    "start_time": "2023-08-02T11:29:55.396Z"
   },
   {
    "duration": 155,
    "start_time": "2023-08-02T11:29:55.631Z"
   },
   {
    "duration": 2743,
    "start_time": "2023-08-02T11:29:56.431Z"
   },
   {
    "duration": 115,
    "start_time": "2023-08-02T11:29:59.177Z"
   },
   {
    "duration": 103,
    "start_time": "2023-08-02T11:29:59.294Z"
   },
   {
    "duration": 16013,
    "start_time": "2023-08-02T11:29:59.408Z"
   },
   {
    "duration": 88,
    "start_time": "2023-08-02T11:30:18.827Z"
   },
   {
    "duration": 346498,
    "start_time": "2023-08-02T11:30:28.790Z"
   },
   {
    "duration": 79,
    "start_time": "2023-08-02T11:36:27.727Z"
   },
   {
    "duration": 1750,
    "start_time": "2023-08-02T11:39:01.689Z"
   },
   {
    "duration": 1024,
    "start_time": "2023-08-02T11:39:03.441Z"
   },
   {
    "duration": 125,
    "start_time": "2023-08-02T11:39:05.126Z"
   },
   {
    "duration": 23,
    "start_time": "2023-08-02T11:39:05.659Z"
   },
   {
    "duration": 295,
    "start_time": "2023-08-02T11:39:06.770Z"
   },
   {
    "duration": 138,
    "start_time": "2023-08-02T11:39:07.796Z"
   },
   {
    "duration": 293,
    "start_time": "2023-08-02T11:39:08.795Z"
   },
   {
    "duration": 209,
    "start_time": "2023-08-02T11:39:09.745Z"
   },
   {
    "duration": 339,
    "start_time": "2023-08-02T11:39:10.259Z"
   },
   {
    "duration": 61,
    "start_time": "2023-08-02T11:39:11.242Z"
   },
   {
    "duration": 429,
    "start_time": "2023-08-02T11:39:12.200Z"
   },
   {
    "duration": 27,
    "start_time": "2023-08-02T11:39:12.672Z"
   },
   {
    "duration": 307,
    "start_time": "2023-08-02T11:39:13.127Z"
   },
   {
    "duration": 22,
    "start_time": "2023-08-02T11:39:13.621Z"
   },
   {
    "duration": 352,
    "start_time": "2023-08-02T11:39:14.103Z"
   },
   {
    "duration": 254,
    "start_time": "2023-08-02T11:39:14.578Z"
   },
   {
    "duration": 23,
    "start_time": "2023-08-02T11:39:15.049Z"
   },
   {
    "duration": 57,
    "start_time": "2023-08-02T11:39:15.574Z"
   },
   {
    "duration": 20,
    "start_time": "2023-08-02T11:39:16.430Z"
   },
   {
    "duration": 24,
    "start_time": "2023-08-02T11:39:16.901Z"
   },
   {
    "duration": 139,
    "start_time": "2023-08-02T11:39:17.778Z"
   },
   {
    "duration": 155,
    "start_time": "2023-08-02T11:39:18.265Z"
   },
   {
    "duration": 131,
    "start_time": "2023-08-02T11:39:18.728Z"
   },
   {
    "duration": 30,
    "start_time": "2023-08-02T11:39:19.210Z"
   },
   {
    "duration": 24,
    "start_time": "2023-08-02T11:39:20.194Z"
   },
   {
    "duration": 42,
    "start_time": "2023-08-02T11:39:20.680Z"
   },
   {
    "duration": 17,
    "start_time": "2023-08-02T11:39:21.218Z"
   },
   {
    "duration": 525,
    "start_time": "2023-08-02T11:39:23.133Z"
   },
   {
    "duration": 68,
    "start_time": "2023-08-02T11:39:23.660Z"
   },
   {
    "duration": 47,
    "start_time": "2023-08-02T11:39:24.227Z"
   },
   {
    "duration": 149,
    "start_time": "2023-08-02T11:39:24.710Z"
   },
   {
    "duration": 2650,
    "start_time": "2023-08-02T11:39:25.340Z"
   },
   {
    "duration": 101,
    "start_time": "2023-08-02T11:39:27.993Z"
   },
   {
    "duration": 101,
    "start_time": "2023-08-02T11:39:28.095Z"
   },
   {
    "duration": 19492,
    "start_time": "2023-08-02T11:39:30.828Z"
   },
   {
    "duration": 42,
    "start_time": "2023-08-02T11:40:32.401Z"
   },
   {
    "duration": 353672,
    "start_time": "2023-08-02T11:41:02.052Z"
   },
   {
    "duration": 81,
    "start_time": "2023-08-02T11:47:08.559Z"
   },
   {
    "duration": 108101,
    "start_time": "2023-08-02T11:47:46.623Z"
   },
   {
    "duration": 307,
    "start_time": "2023-08-02T11:51:57.110Z"
   },
   {
    "duration": 81554,
    "start_time": "2023-08-02T11:53:54.394Z"
   },
   {
    "duration": 37,
    "start_time": "2023-08-02T11:55:18.857Z"
   },
   {
    "duration": 12,
    "start_time": "2023-08-02T12:01:39.915Z"
   },
   {
    "duration": 1742,
    "start_time": "2023-08-02T18:40:44.530Z"
   },
   {
    "duration": 1371,
    "start_time": "2023-08-02T18:40:48.692Z"
   },
   {
    "duration": 156,
    "start_time": "2023-08-02T18:40:52.535Z"
   },
   {
    "duration": 23,
    "start_time": "2023-08-02T18:40:53.177Z"
   },
   {
    "duration": 268,
    "start_time": "2023-08-02T18:40:54.961Z"
   },
   {
    "duration": 133,
    "start_time": "2023-08-02T18:40:57.499Z"
   },
   {
    "duration": 3,
    "start_time": "2023-08-02T18:41:07.671Z"
   },
   {
    "duration": 262,
    "start_time": "2023-08-02T18:42:22.611Z"
   },
   {
    "duration": 272,
    "start_time": "2023-08-02T18:42:45.442Z"
   },
   {
    "duration": 251,
    "start_time": "2023-08-02T18:42:47.618Z"
   },
   {
    "duration": 246,
    "start_time": "2023-08-02T18:44:42.541Z"
   },
   {
    "duration": 309,
    "start_time": "2023-08-02T18:44:48.928Z"
   },
   {
    "duration": 40,
    "start_time": "2023-08-02T18:49:05.017Z"
   },
   {
    "duration": 5,
    "start_time": "2023-08-02T19:11:51.480Z"
   },
   {
    "duration": 909,
    "start_time": "2023-08-02T19:11:53.039Z"
   },
   {
    "duration": 133,
    "start_time": "2023-08-02T19:11:55.704Z"
   },
   {
    "duration": 17,
    "start_time": "2023-08-02T19:11:56.157Z"
   },
   {
    "duration": 223,
    "start_time": "2023-08-02T19:11:57.834Z"
   },
   {
    "duration": 108,
    "start_time": "2023-08-02T19:12:01.064Z"
   },
   {
    "duration": 3,
    "start_time": "2023-08-02T19:12:03.084Z"
   },
   {
    "duration": 109,
    "start_time": "2023-08-02T19:12:05.779Z"
   },
   {
    "duration": 225,
    "start_time": "2023-08-02T19:12:06.350Z"
   },
   {
    "duration": 1358,
    "start_time": "2023-08-02T19:12:22.826Z"
   },
   {
    "duration": 975,
    "start_time": "2023-08-02T19:12:24.187Z"
   },
   {
    "duration": 135,
    "start_time": "2023-08-02T19:12:26.504Z"
   },
   {
    "duration": 27,
    "start_time": "2023-08-02T19:12:26.823Z"
   },
   {
    "duration": 285,
    "start_time": "2023-08-02T19:12:28.715Z"
   },
   {
    "duration": 129,
    "start_time": "2023-08-02T19:12:34.279Z"
   },
   {
    "duration": 2,
    "start_time": "2023-08-02T19:12:35.351Z"
   },
   {
    "duration": 201,
    "start_time": "2023-08-02T19:12:44.013Z"
   },
   {
    "duration": 282,
    "start_time": "2023-08-02T19:12:46.425Z"
   },
   {
    "duration": 235,
    "start_time": "2023-08-02T19:12:47.325Z"
   },
   {
    "duration": 234,
    "start_time": "2023-08-02T19:12:48.343Z"
   },
   {
    "duration": 298,
    "start_time": "2023-08-02T19:12:49.896Z"
   },
   {
    "duration": 118,
    "start_time": "2023-08-02T19:12:58.276Z"
   },
   {
    "duration": 54,
    "start_time": "2023-08-02T19:13:33.139Z"
   },
   {
    "duration": 41,
    "start_time": "2023-08-02T19:13:36.406Z"
   },
   {
    "duration": 23,
    "start_time": "2023-08-02T19:13:58.792Z"
   },
   {
    "duration": 71,
    "start_time": "2023-08-02T19:14:01.936Z"
   },
   {
    "duration": 85,
    "start_time": "2023-08-02T19:14:03.499Z"
   },
   {
    "duration": 136,
    "start_time": "2023-08-02T19:15:09.479Z"
   },
   {
    "duration": 295,
    "start_time": "2023-08-02T19:15:20.742Z"
   },
   {
    "duration": 52,
    "start_time": "2023-08-02T19:15:25.194Z"
   },
   {
    "duration": 383,
    "start_time": "2023-08-02T19:20:45.456Z"
   },
   {
    "duration": 19,
    "start_time": "2023-08-02T19:20:49.251Z"
   },
   {
    "duration": 287,
    "start_time": "2023-08-02T19:24:29.624Z"
   },
   {
    "duration": 17,
    "start_time": "2023-08-02T19:24:33.986Z"
   },
   {
    "duration": 328,
    "start_time": "2023-08-02T19:25:01.448Z"
   },
   {
    "duration": 241,
    "start_time": "2023-08-02T19:25:06.664Z"
   },
   {
    "duration": 17,
    "start_time": "2023-08-02T19:25:09.670Z"
   },
   {
    "duration": 39,
    "start_time": "2023-08-02T19:25:14.513Z"
   },
   {
    "duration": 14,
    "start_time": "2023-08-02T19:25:37.495Z"
   },
   {
    "duration": 17,
    "start_time": "2023-08-02T19:26:43.812Z"
   },
   {
    "duration": 2,
    "start_time": "2023-08-02T19:26:59.432Z"
   },
   {
    "duration": 23,
    "start_time": "2023-08-02T19:29:06.105Z"
   },
   {
    "duration": 21,
    "start_time": "2023-08-02T19:38:29.202Z"
   },
   {
    "duration": 38,
    "start_time": "2023-08-02T19:38:45.222Z"
   },
   {
    "duration": 11,
    "start_time": "2023-08-02T19:42:32.548Z"
   },
   {
    "duration": 4,
    "start_time": "2023-08-02T19:42:37.790Z"
   },
   {
    "duration": 14,
    "start_time": "2023-08-02T19:53:03.820Z"
   },
   {
    "duration": 2,
    "start_time": "2023-08-02T20:33:52.031Z"
   },
   {
    "duration": 2,
    "start_time": "2023-08-02T20:33:59.788Z"
   },
   {
    "duration": 9,
    "start_time": "2023-08-02T20:34:00.857Z"
   },
   {
    "duration": 8,
    "start_time": "2023-08-02T20:34:13.957Z"
   },
   {
    "duration": 34,
    "start_time": "2023-08-02T20:34:36.832Z"
   },
   {
    "duration": 10,
    "start_time": "2023-08-02T20:35:09.396Z"
   },
   {
    "duration": 4,
    "start_time": "2023-08-02T20:36:44.340Z"
   },
   {
    "duration": 255,
    "start_time": "2023-08-02T20:37:36.193Z"
   },
   {
    "duration": 244,
    "start_time": "2023-08-02T20:39:37.676Z"
   },
   {
    "duration": 239,
    "start_time": "2023-08-02T20:40:58.858Z"
   },
   {
    "duration": 247,
    "start_time": "2023-08-02T20:42:49.868Z"
   },
   {
    "duration": 71,
    "start_time": "2023-08-02T20:51:26.156Z"
   },
   {
    "duration": 31,
    "start_time": "2023-08-02T20:55:20.382Z"
   },
   {
    "duration": 12,
    "start_time": "2023-08-02T20:55:34.105Z"
   },
   {
    "duration": 10,
    "start_time": "2023-08-02T20:55:52.313Z"
   },
   {
    "duration": 31,
    "start_time": "2023-08-02T20:56:35.481Z"
   },
   {
    "duration": 5,
    "start_time": "2023-08-02T20:56:58.799Z"
   },
   {
    "duration": 174,
    "start_time": "2023-08-02T21:03:08.416Z"
   },
   {
    "duration": 624,
    "start_time": "2023-08-02T21:03:49.424Z"
   },
   {
    "duration": 1420,
    "start_time": "2023-08-02T21:05:06.647Z"
   },
   {
    "duration": 961,
    "start_time": "2023-08-02T21:05:08.069Z"
   },
   {
    "duration": 138,
    "start_time": "2023-08-02T21:05:10.592Z"
   },
   {
    "duration": 21,
    "start_time": "2023-08-02T21:05:10.838Z"
   },
   {
    "duration": 268,
    "start_time": "2023-08-02T21:05:11.728Z"
   },
   {
    "duration": 127,
    "start_time": "2023-08-02T21:05:12.854Z"
   },
   {
    "duration": 3,
    "start_time": "2023-08-02T21:05:13.575Z"
   },
   {
    "duration": 200,
    "start_time": "2023-08-02T21:05:15.758Z"
   },
   {
    "duration": 316,
    "start_time": "2023-08-02T21:05:16.267Z"
   },
   {
    "duration": 233,
    "start_time": "2023-08-02T21:05:16.909Z"
   },
   {
    "duration": 232,
    "start_time": "2023-08-02T21:05:17.169Z"
   },
   {
    "duration": 295,
    "start_time": "2023-08-02T21:05:17.403Z"
   },
   {
    "duration": 51,
    "start_time": "2023-08-02T21:05:18.251Z"
   },
   {
    "duration": 33,
    "start_time": "2023-08-02T21:05:18.506Z"
   },
   {
    "duration": 22,
    "start_time": "2023-08-02T21:05:18.972Z"
   },
   {
    "duration": 74,
    "start_time": "2023-08-02T21:05:19.427Z"
   },
   {
    "duration": 86,
    "start_time": "2023-08-02T21:05:19.643Z"
   },
   {
    "duration": 139,
    "start_time": "2023-08-02T21:05:20.302Z"
   },
   {
    "duration": 309,
    "start_time": "2023-08-02T21:05:20.838Z"
   },
   {
    "duration": 53,
    "start_time": "2023-08-02T21:05:21.932Z"
   },
   {
    "duration": 355,
    "start_time": "2023-08-02T21:05:23.149Z"
   },
   {
    "duration": 19,
    "start_time": "2023-08-02T21:05:24.072Z"
   },
   {
    "duration": 277,
    "start_time": "2023-08-02T21:05:25.088Z"
   },
   {
    "duration": 18,
    "start_time": "2023-08-02T21:05:25.371Z"
   },
   {
    "duration": 354,
    "start_time": "2023-08-02T21:05:26.140Z"
   },
   {
    "duration": 262,
    "start_time": "2023-08-02T21:05:26.497Z"
   },
   {
    "duration": 22,
    "start_time": "2023-08-02T21:05:26.761Z"
   },
   {
    "duration": 42,
    "start_time": "2023-08-02T21:05:27.283Z"
   },
   {
    "duration": 21,
    "start_time": "2023-08-02T21:05:27.727Z"
   },
   {
    "duration": 2,
    "start_time": "2023-08-02T21:05:27.949Z"
   },
   {
    "duration": 23,
    "start_time": "2023-08-02T21:05:28.803Z"
   },
   {
    "duration": 22,
    "start_time": "2023-08-02T21:05:29.165Z"
   },
   {
    "duration": 40,
    "start_time": "2023-08-02T21:05:29.391Z"
   },
   {
    "duration": 14,
    "start_time": "2023-08-02T21:05:31.995Z"
   },
   {
    "duration": 2,
    "start_time": "2023-08-02T21:05:34.387Z"
   },
   {
    "duration": 3,
    "start_time": "2023-08-02T21:05:35.961Z"
   },
   {
    "duration": 8,
    "start_time": "2023-08-02T21:05:36.481Z"
   },
   {
    "duration": 30,
    "start_time": "2023-08-02T21:05:37.616Z"
   },
   {
    "duration": 254,
    "start_time": "2023-08-02T21:05:38.753Z"
   },
   {
    "duration": 31,
    "start_time": "2023-08-02T21:05:42.690Z"
   },
   {
    "duration": 640,
    "start_time": "2023-08-02T21:05:47.532Z"
   },
   {
    "duration": 639,
    "start_time": "2023-08-02T21:06:44.659Z"
   },
   {
    "duration": 349,
    "start_time": "2023-08-02T21:09:32.496Z"
   },
   {
    "duration": 1482,
    "start_time": "2023-08-02T21:15:05.015Z"
   },
   {
    "duration": 948,
    "start_time": "2023-08-02T21:15:06.499Z"
   },
   {
    "duration": 132,
    "start_time": "2023-08-02T21:15:07.449Z"
   },
   {
    "duration": 20,
    "start_time": "2023-08-02T21:15:07.583Z"
   },
   {
    "duration": 257,
    "start_time": "2023-08-02T21:15:08.320Z"
   },
   {
    "duration": 132,
    "start_time": "2023-08-02T21:15:09.129Z"
   },
   {
    "duration": 2,
    "start_time": "2023-08-02T21:15:09.604Z"
   },
   {
    "duration": 195,
    "start_time": "2023-08-02T21:15:11.850Z"
   },
   {
    "duration": 269,
    "start_time": "2023-08-02T21:15:12.070Z"
   },
   {
    "duration": 248,
    "start_time": "2023-08-02T21:15:12.341Z"
   },
   {
    "duration": 263,
    "start_time": "2023-08-02T21:15:12.757Z"
   },
   {
    "duration": 292,
    "start_time": "2023-08-02T21:15:13.038Z"
   },
   {
    "duration": 54,
    "start_time": "2023-08-02T21:15:13.595Z"
   },
   {
    "duration": 32,
    "start_time": "2023-08-02T21:15:13.885Z"
   },
   {
    "duration": 21,
    "start_time": "2023-08-02T21:15:14.475Z"
   },
   {
    "duration": 76,
    "start_time": "2023-08-02T21:15:15.869Z"
   },
   {
    "duration": 83,
    "start_time": "2023-08-02T21:15:16.115Z"
   },
   {
    "duration": 136,
    "start_time": "2023-08-02T21:15:16.603Z"
   },
   {
    "duration": 293,
    "start_time": "2023-08-02T21:15:16.815Z"
   },
   {
    "duration": 53,
    "start_time": "2023-08-02T21:15:17.669Z"
   },
   {
    "duration": 358,
    "start_time": "2023-08-02T21:15:18.431Z"
   },
   {
    "duration": 21,
    "start_time": "2023-08-02T21:15:18.890Z"
   },
   {
    "duration": 276,
    "start_time": "2023-08-02T21:15:19.464Z"
   },
   {
    "duration": 29,
    "start_time": "2023-08-02T21:15:19.742Z"
   },
   {
    "duration": 326,
    "start_time": "2023-08-02T21:15:20.227Z"
   },
   {
    "duration": 241,
    "start_time": "2023-08-02T21:15:20.555Z"
   },
   {
    "duration": 17,
    "start_time": "2023-08-02T21:15:20.798Z"
   },
   {
    "duration": 41,
    "start_time": "2023-08-02T21:15:21.187Z"
   },
   {
    "duration": 19,
    "start_time": "2023-08-02T21:15:21.601Z"
   },
   {
    "duration": 2,
    "start_time": "2023-08-02T21:15:21.787Z"
   },
   {
    "duration": 23,
    "start_time": "2023-08-02T21:15:22.350Z"
   },
   {
    "duration": 21,
    "start_time": "2023-08-02T21:15:22.764Z"
   },
   {
    "duration": 54,
    "start_time": "2023-08-02T21:15:22.978Z"
   },
   {
    "duration": 13,
    "start_time": "2023-08-02T21:15:23.774Z"
   },
   {
    "duration": 2,
    "start_time": "2023-08-02T21:15:26.275Z"
   },
   {
    "duration": 2,
    "start_time": "2023-08-02T21:15:27.994Z"
   },
   {
    "duration": 8,
    "start_time": "2023-08-02T21:15:29.407Z"
   },
   {
    "duration": 29,
    "start_time": "2023-08-02T21:15:29.744Z"
   },
   {
    "duration": 243,
    "start_time": "2023-08-02T21:15:33.706Z"
   },
   {
    "duration": 33,
    "start_time": "2023-08-02T21:15:38.829Z"
   },
   {
    "duration": 523,
    "start_time": "2023-08-02T21:15:52.288Z"
   },
   {
    "duration": 525,
    "start_time": "2023-08-02T21:16:47.647Z"
   },
   {
    "duration": 547,
    "start_time": "2023-08-02T21:17:33.876Z"
   },
   {
    "duration": 522,
    "start_time": "2023-08-02T21:17:59.259Z"
   },
   {
    "duration": 538,
    "start_time": "2023-08-02T21:19:05.159Z"
   },
   {
    "duration": 1431,
    "start_time": "2023-08-02T21:20:29.058Z"
   },
   {
    "duration": 995,
    "start_time": "2023-08-02T21:20:30.491Z"
   },
   {
    "duration": 142,
    "start_time": "2023-08-02T21:20:32.935Z"
   },
   {
    "duration": 20,
    "start_time": "2023-08-02T21:20:33.147Z"
   },
   {
    "duration": 282,
    "start_time": "2023-08-02T21:20:33.714Z"
   },
   {
    "duration": 130,
    "start_time": "2023-08-02T21:20:34.496Z"
   },
   {
    "duration": 3,
    "start_time": "2023-08-02T21:20:34.876Z"
   },
   {
    "duration": 223,
    "start_time": "2023-08-02T21:20:35.991Z"
   },
   {
    "duration": 271,
    "start_time": "2023-08-02T21:20:36.927Z"
   },
   {
    "duration": 243,
    "start_time": "2023-08-02T21:20:37.200Z"
   },
   {
    "duration": 247,
    "start_time": "2023-08-02T21:20:37.445Z"
   },
   {
    "duration": 311,
    "start_time": "2023-08-02T21:20:37.694Z"
   },
   {
    "duration": 54,
    "start_time": "2023-08-02T21:20:38.006Z"
   },
   {
    "duration": 34,
    "start_time": "2023-08-02T21:20:38.604Z"
   },
   {
    "duration": 23,
    "start_time": "2023-08-02T21:20:39.603Z"
   },
   {
    "duration": 73,
    "start_time": "2023-08-02T21:20:40.008Z"
   },
   {
    "duration": 85,
    "start_time": "2023-08-02T21:20:40.362Z"
   },
   {
    "duration": 152,
    "start_time": "2023-08-02T21:20:40.996Z"
   },
   {
    "duration": 292,
    "start_time": "2023-08-02T21:20:41.181Z"
   },
   {
    "duration": 51,
    "start_time": "2023-08-02T21:20:41.746Z"
   },
   {
    "duration": 374,
    "start_time": "2023-08-02T21:20:42.850Z"
   },
   {
    "duration": 21,
    "start_time": "2023-08-02T21:20:43.253Z"
   },
   {
    "duration": 280,
    "start_time": "2023-08-02T21:20:43.931Z"
   },
   {
    "duration": 18,
    "start_time": "2023-08-02T21:20:44.213Z"
   },
   {
    "duration": 323,
    "start_time": "2023-08-02T21:20:44.579Z"
   },
   {
    "duration": 246,
    "start_time": "2023-08-02T21:20:44.905Z"
   },
   {
    "duration": 27,
    "start_time": "2023-08-02T21:20:45.153Z"
   },
   {
    "duration": 42,
    "start_time": "2023-08-02T21:20:45.330Z"
   },
   {
    "duration": 22,
    "start_time": "2023-08-02T21:20:45.713Z"
   },
   {
    "duration": 3,
    "start_time": "2023-08-02T21:20:45.909Z"
   },
   {
    "duration": 25,
    "start_time": "2023-08-02T21:20:46.473Z"
   },
   {
    "duration": 22,
    "start_time": "2023-08-02T21:20:46.877Z"
   },
   {
    "duration": 41,
    "start_time": "2023-08-02T21:20:47.426Z"
   },
   {
    "duration": 16,
    "start_time": "2023-08-02T21:20:48.843Z"
   },
   {
    "duration": 2,
    "start_time": "2023-08-02T21:20:50.280Z"
   },
   {
    "duration": 2,
    "start_time": "2023-08-02T21:20:51.899Z"
   },
   {
    "duration": 8,
    "start_time": "2023-08-02T21:20:52.194Z"
   },
   {
    "duration": 34,
    "start_time": "2023-08-02T21:20:52.723Z"
   },
   {
    "duration": 236,
    "start_time": "2023-08-02T21:20:52.958Z"
   },
   {
    "duration": 38,
    "start_time": "2023-08-02T21:20:56.297Z"
   },
   {
    "duration": 709,
    "start_time": "2023-08-02T21:20:59.666Z"
   },
   {
    "duration": 217,
    "start_time": "2023-08-02T21:27:53.862Z"
   },
   {
    "duration": 542,
    "start_time": "2023-08-02T21:29:26.039Z"
   },
   {
    "duration": 203,
    "start_time": "2023-08-02T21:29:38.676Z"
   },
   {
    "duration": 1512,
    "start_time": "2023-08-02T21:34:00.175Z"
   },
   {
    "duration": 996,
    "start_time": "2023-08-02T21:34:01.688Z"
   },
   {
    "duration": 158,
    "start_time": "2023-08-02T21:34:02.686Z"
   },
   {
    "duration": 26,
    "start_time": "2023-08-02T21:34:02.846Z"
   },
   {
    "duration": 287,
    "start_time": "2023-08-02T21:34:02.874Z"
   },
   {
    "duration": 131,
    "start_time": "2023-08-02T21:34:03.171Z"
   },
   {
    "duration": 2,
    "start_time": "2023-08-02T21:34:04.502Z"
   },
   {
    "duration": 191,
    "start_time": "2023-08-02T21:34:06.016Z"
   },
   {
    "duration": 294,
    "start_time": "2023-08-02T21:34:06.309Z"
   },
   {
    "duration": 241,
    "start_time": "2023-08-02T21:34:06.966Z"
   },
   {
    "duration": 243,
    "start_time": "2023-08-02T21:34:07.209Z"
   },
   {
    "duration": 302,
    "start_time": "2023-08-02T21:34:07.454Z"
   },
   {
    "duration": 60,
    "start_time": "2023-08-02T21:34:07.758Z"
   },
   {
    "duration": 33,
    "start_time": "2023-08-02T21:34:07.953Z"
   },
   {
    "duration": 22,
    "start_time": "2023-08-02T21:34:08.364Z"
   },
   {
    "duration": 74,
    "start_time": "2023-08-02T21:34:08.908Z"
   },
   {
    "duration": 83,
    "start_time": "2023-08-02T21:34:09.309Z"
   },
   {
    "duration": 145,
    "start_time": "2023-08-02T21:34:09.682Z"
   },
   {
    "duration": 299,
    "start_time": "2023-08-02T21:34:09.879Z"
   },
   {
    "duration": 55,
    "start_time": "2023-08-02T21:34:10.466Z"
   },
   {
    "duration": 356,
    "start_time": "2023-08-02T21:34:11.196Z"
   },
   {
    "duration": 24,
    "start_time": "2023-08-02T21:34:11.554Z"
   },
   {
    "duration": 284,
    "start_time": "2023-08-02T21:34:12.106Z"
   },
   {
    "duration": 18,
    "start_time": "2023-08-02T21:34:12.392Z"
   },
   {
    "duration": 324,
    "start_time": "2023-08-02T21:34:12.848Z"
   },
   {
    "duration": 251,
    "start_time": "2023-08-02T21:34:13.174Z"
   },
   {
    "duration": 18,
    "start_time": "2023-08-02T21:34:13.427Z"
   },
   {
    "duration": 40,
    "start_time": "2023-08-02T21:34:13.611Z"
   },
   {
    "duration": 20,
    "start_time": "2023-08-02T21:34:13.988Z"
   },
   {
    "duration": 2,
    "start_time": "2023-08-02T21:34:14.200Z"
   },
   {
    "duration": 23,
    "start_time": "2023-08-02T21:34:14.736Z"
   },
   {
    "duration": 21,
    "start_time": "2023-08-02T21:34:15.124Z"
   },
   {
    "duration": 39,
    "start_time": "2023-08-02T21:34:15.328Z"
   },
   {
    "duration": 12,
    "start_time": "2023-08-02T21:34:16.311Z"
   },
   {
    "duration": 2,
    "start_time": "2023-08-02T21:34:17.658Z"
   },
   {
    "duration": 3,
    "start_time": "2023-08-02T21:34:19.925Z"
   },
   {
    "duration": 8,
    "start_time": "2023-08-02T21:34:20.318Z"
   },
   {
    "duration": 30,
    "start_time": "2023-08-02T21:34:21.024Z"
   },
   {
    "duration": 1400,
    "start_time": "2023-08-02T21:34:34.499Z"
   },
   {
    "duration": 1141,
    "start_time": "2023-08-02T21:34:35.901Z"
   },
   {
    "duration": 131,
    "start_time": "2023-08-02T21:34:37.044Z"
   },
   {
    "duration": 32,
    "start_time": "2023-08-02T21:34:37.176Z"
   },
   {
    "duration": 274,
    "start_time": "2023-08-02T21:34:37.210Z"
   },
   {
    "duration": 123,
    "start_time": "2023-08-02T21:34:37.670Z"
   },
   {
    "duration": 3,
    "start_time": "2023-08-02T21:34:38.058Z"
   },
   {
    "duration": 196,
    "start_time": "2023-08-02T21:34:39.611Z"
   },
   {
    "duration": 263,
    "start_time": "2023-08-02T21:34:39.809Z"
   },
   {
    "duration": 245,
    "start_time": "2023-08-02T21:34:40.074Z"
   },
   {
    "duration": 245,
    "start_time": "2023-08-02T21:34:40.321Z"
   },
   {
    "duration": 303,
    "start_time": "2023-08-02T21:34:40.571Z"
   },
   {
    "duration": 52,
    "start_time": "2023-08-02T21:34:40.876Z"
   },
   {
    "duration": 41,
    "start_time": "2023-08-02T21:34:40.935Z"
   },
   {
    "duration": 22,
    "start_time": "2023-08-02T21:34:41.283Z"
   },
   {
    "duration": 71,
    "start_time": "2023-08-02T21:34:41.702Z"
   },
   {
    "duration": 81,
    "start_time": "2023-08-02T21:34:41.896Z"
   },
   {
    "duration": 143,
    "start_time": "2023-08-02T21:34:42.368Z"
   },
   {
    "duration": 321,
    "start_time": "2023-08-02T21:34:42.568Z"
   },
   {
    "duration": 56,
    "start_time": "2023-08-02T21:34:43.128Z"
   },
   {
    "duration": 373,
    "start_time": "2023-08-02T21:34:43.888Z"
   },
   {
    "duration": 21,
    "start_time": "2023-08-02T21:34:44.651Z"
   },
   {
    "duration": 276,
    "start_time": "2023-08-02T21:34:45.196Z"
   },
   {
    "duration": 19,
    "start_time": "2023-08-02T21:34:45.474Z"
   },
   {
    "duration": 339,
    "start_time": "2023-08-02T21:34:45.959Z"
   },
   {
    "duration": 272,
    "start_time": "2023-08-02T21:34:46.300Z"
   },
   {
    "duration": 17,
    "start_time": "2023-08-02T21:34:46.575Z"
   },
   {
    "duration": 43,
    "start_time": "2023-08-02T21:34:46.851Z"
   },
   {
    "duration": 18,
    "start_time": "2023-08-02T21:34:47.619Z"
   },
   {
    "duration": 2,
    "start_time": "2023-08-02T21:34:47.965Z"
   },
   {
    "duration": 27,
    "start_time": "2023-08-02T21:34:49.218Z"
   },
   {
    "duration": 21,
    "start_time": "2023-08-02T21:34:49.758Z"
   },
   {
    "duration": 40,
    "start_time": "2023-08-02T21:34:49.976Z"
   },
   {
    "duration": 14,
    "start_time": "2023-08-02T21:34:51.258Z"
   },
   {
    "duration": 2,
    "start_time": "2023-08-02T21:34:53.672Z"
   },
   {
    "duration": 3,
    "start_time": "2023-08-02T21:34:58.002Z"
   },
   {
    "duration": 8,
    "start_time": "2023-08-02T21:35:00.855Z"
   },
   {
    "duration": 31,
    "start_time": "2023-08-02T21:35:03.822Z"
   },
   {
    "duration": 291,
    "start_time": "2023-08-02T21:35:20.873Z"
   },
   {
    "duration": 33,
    "start_time": "2023-08-02T21:36:16.227Z"
   },
   {
    "duration": 225,
    "start_time": "2023-08-02T21:36:21.236Z"
   },
   {
    "duration": 39,
    "start_time": "2023-08-02T21:36:35.021Z"
   },
   {
    "duration": 675,
    "start_time": "2023-08-02T21:36:39.966Z"
   },
   {
    "duration": 4,
    "start_time": "2023-08-02T21:38:28.742Z"
   },
   {
    "duration": 4,
    "start_time": "2023-08-02T21:38:59.557Z"
   },
   {
    "duration": 202,
    "start_time": "2023-08-02T21:41:29.920Z"
   },
   {
    "duration": 621,
    "start_time": "2023-08-02T21:41:52.149Z"
   },
   {
    "duration": 1880,
    "start_time": "2023-08-03T06:56:01.323Z"
   },
   {
    "duration": 1456,
    "start_time": "2023-08-03T06:56:03.205Z"
   },
   {
    "duration": 144,
    "start_time": "2023-08-03T06:56:06.527Z"
   },
   {
    "duration": 28,
    "start_time": "2023-08-03T06:56:07.007Z"
   },
   {
    "duration": 282,
    "start_time": "2023-08-03T06:56:07.703Z"
   },
   {
    "duration": 132,
    "start_time": "2023-08-03T06:56:08.687Z"
   },
   {
    "duration": 4,
    "start_time": "2023-08-03T06:56:09.488Z"
   },
   {
    "duration": 189,
    "start_time": "2023-08-03T06:56:11.172Z"
   },
   {
    "duration": 262,
    "start_time": "2023-08-03T06:56:11.365Z"
   },
   {
    "duration": 228,
    "start_time": "2023-08-03T06:56:11.770Z"
   },
   {
    "duration": 224,
    "start_time": "2023-08-03T06:56:12.010Z"
   },
   {
    "duration": 287,
    "start_time": "2023-08-03T06:56:12.266Z"
   },
   {
    "duration": 54,
    "start_time": "2023-08-03T06:56:12.709Z"
   },
   {
    "duration": 33,
    "start_time": "2023-08-03T06:56:12.960Z"
   },
   {
    "duration": 21,
    "start_time": "2023-08-03T06:56:13.586Z"
   },
   {
    "duration": 82,
    "start_time": "2023-08-03T06:56:14.099Z"
   },
   {
    "duration": 80,
    "start_time": "2023-08-03T06:56:14.672Z"
   },
   {
    "duration": 158,
    "start_time": "2023-08-03T06:56:15.312Z"
   },
   {
    "duration": 335,
    "start_time": "2023-08-03T06:56:15.513Z"
   },
   {
    "duration": 67,
    "start_time": "2023-08-03T06:56:16.081Z"
   },
   {
    "duration": 395,
    "start_time": "2023-08-03T06:56:17.405Z"
   },
   {
    "duration": 21,
    "start_time": "2023-08-03T06:56:17.980Z"
   },
   {
    "duration": 280,
    "start_time": "2023-08-03T06:56:18.773Z"
   },
   {
    "duration": 23,
    "start_time": "2023-08-03T06:56:19.205Z"
   },
   {
    "duration": 362,
    "start_time": "2023-08-03T06:56:19.909Z"
   },
   {
    "duration": 242,
    "start_time": "2023-08-03T06:56:20.386Z"
   },
   {
    "duration": 18,
    "start_time": "2023-08-03T06:56:20.630Z"
   },
   {
    "duration": 57,
    "start_time": "2023-08-03T06:56:20.970Z"
   },
   {
    "duration": 24,
    "start_time": "2023-08-03T06:56:21.503Z"
   },
   {
    "duration": 3,
    "start_time": "2023-08-03T06:56:21.746Z"
   },
   {
    "duration": 37,
    "start_time": "2023-08-03T06:56:22.390Z"
   },
   {
    "duration": 28,
    "start_time": "2023-08-03T06:56:22.822Z"
   },
   {
    "duration": 46,
    "start_time": "2023-08-03T06:56:23.051Z"
   },
   {
    "duration": 19,
    "start_time": "2023-08-03T06:56:24.107Z"
   },
   {
    "duration": 3,
    "start_time": "2023-08-03T06:56:26.679Z"
   },
   {
    "duration": 2,
    "start_time": "2023-08-03T06:56:30.870Z"
   },
   {
    "duration": 9,
    "start_time": "2023-08-03T06:56:31.148Z"
   },
   {
    "duration": 42,
    "start_time": "2023-08-03T06:56:34.004Z"
   },
   {
    "duration": 117,
    "start_time": "2023-08-03T06:56:38.256Z"
   },
   {
    "duration": 17,
    "start_time": "2023-08-03T06:58:03.783Z"
   },
   {
    "duration": 44,
    "start_time": "2023-08-03T07:04:59.651Z"
   },
   {
    "duration": 123,
    "start_time": "2023-08-03T07:05:30.609Z"
   },
   {
    "duration": 209,
    "start_time": "2023-08-03T07:06:14.087Z"
   },
   {
    "duration": 223,
    "start_time": "2023-08-03T07:09:05.447Z"
   },
   {
    "duration": 158,
    "start_time": "2023-08-03T07:15:26.112Z"
   },
   {
    "duration": 710,
    "start_time": "2023-08-03T07:16:08.150Z"
   },
   {
    "duration": 1624,
    "start_time": "2023-08-03T07:19:00.358Z"
   },
   {
    "duration": 970,
    "start_time": "2023-08-03T07:19:01.985Z"
   },
   {
    "duration": 121,
    "start_time": "2023-08-03T07:19:02.958Z"
   },
   {
    "duration": 41,
    "start_time": "2023-08-03T07:19:03.081Z"
   },
   {
    "duration": 267,
    "start_time": "2023-08-03T07:19:03.124Z"
   },
   {
    "duration": 129,
    "start_time": "2023-08-03T07:19:03.593Z"
   },
   {
    "duration": 3,
    "start_time": "2023-08-03T07:19:03.983Z"
   },
   {
    "duration": 173,
    "start_time": "2023-08-03T07:19:05.163Z"
   },
   {
    "duration": 245,
    "start_time": "2023-08-03T07:19:05.357Z"
   },
   {
    "duration": 259,
    "start_time": "2023-08-03T07:19:05.610Z"
   },
   {
    "duration": 263,
    "start_time": "2023-08-03T07:19:05.872Z"
   },
   {
    "duration": 305,
    "start_time": "2023-08-03T07:19:06.137Z"
   },
   {
    "duration": 49,
    "start_time": "2023-08-03T07:19:06.444Z"
   },
   {
    "duration": 30,
    "start_time": "2023-08-03T07:19:06.560Z"
   },
   {
    "duration": 20,
    "start_time": "2023-08-03T07:19:06.922Z"
   },
   {
    "duration": 74,
    "start_time": "2023-08-03T07:19:07.283Z"
   },
   {
    "duration": 76,
    "start_time": "2023-08-03T07:19:07.458Z"
   },
   {
    "duration": 154,
    "start_time": "2023-08-03T07:19:07.838Z"
   },
   {
    "duration": 314,
    "start_time": "2023-08-03T07:19:08.043Z"
   },
   {
    "duration": 65,
    "start_time": "2023-08-03T07:19:08.604Z"
   },
   {
    "duration": 402,
    "start_time": "2023-08-03T07:19:09.380Z"
   },
   {
    "duration": 37,
    "start_time": "2023-08-03T07:19:09.785Z"
   },
   {
    "duration": 301,
    "start_time": "2023-08-03T07:19:10.345Z"
   },
   {
    "duration": 19,
    "start_time": "2023-08-03T07:19:10.649Z"
   },
   {
    "duration": 365,
    "start_time": "2023-08-03T07:19:11.062Z"
   },
   {
    "duration": 249,
    "start_time": "2023-08-03T07:19:11.429Z"
   },
   {
    "duration": 18,
    "start_time": "2023-08-03T07:19:11.680Z"
   },
   {
    "duration": 47,
    "start_time": "2023-08-03T07:19:12.046Z"
   },
   {
    "duration": 20,
    "start_time": "2023-08-03T07:19:12.431Z"
   },
   {
    "duration": 3,
    "start_time": "2023-08-03T07:19:12.660Z"
   },
   {
    "duration": 23,
    "start_time": "2023-08-03T07:19:13.245Z"
   },
   {
    "duration": 22,
    "start_time": "2023-08-03T07:19:13.614Z"
   },
   {
    "duration": 41,
    "start_time": "2023-08-03T07:19:13.797Z"
   },
   {
    "duration": 14,
    "start_time": "2023-08-03T07:19:14.690Z"
   },
   {
    "duration": 5,
    "start_time": "2023-08-03T07:19:15.912Z"
   },
   {
    "duration": 3,
    "start_time": "2023-08-03T07:19:21.849Z"
   },
   {
    "duration": 8,
    "start_time": "2023-08-03T07:19:22.448Z"
   },
   {
    "duration": 39,
    "start_time": "2023-08-03T07:19:23.022Z"
   },
   {
    "duration": 238,
    "start_time": "2023-08-03T07:19:23.766Z"
   },
   {
    "duration": 42,
    "start_time": "2023-08-03T07:19:27.787Z"
   },
   {
    "duration": 713,
    "start_time": "2023-08-03T07:19:42.266Z"
   },
   {
    "duration": 7,
    "start_time": "2023-08-03T07:48:28.072Z"
   },
   {
    "duration": 1511,
    "start_time": "2023-08-03T08:23:48.055Z"
   },
   {
    "duration": 982,
    "start_time": "2023-08-03T08:23:50.966Z"
   },
   {
    "duration": 129,
    "start_time": "2023-08-03T08:23:53.652Z"
   },
   {
    "duration": 22,
    "start_time": "2023-08-03T08:23:53.880Z"
   },
   {
    "duration": 278,
    "start_time": "2023-08-03T08:23:54.959Z"
   },
   {
    "duration": 121,
    "start_time": "2023-08-03T08:23:56.227Z"
   },
   {
    "duration": 3,
    "start_time": "2023-08-03T08:23:56.681Z"
   },
   {
    "duration": 200,
    "start_time": "2023-08-03T08:23:58.387Z"
   },
   {
    "duration": 255,
    "start_time": "2023-08-03T08:23:58.653Z"
   },
   {
    "duration": 243,
    "start_time": "2023-08-03T08:23:59.057Z"
   },
   {
    "duration": 252,
    "start_time": "2023-08-03T08:23:59.391Z"
   },
   {
    "duration": 311,
    "start_time": "2023-08-03T08:23:59.645Z"
   },
   {
    "duration": 61,
    "start_time": "2023-08-03T08:24:00.152Z"
   },
   {
    "duration": 30,
    "start_time": "2023-08-03T08:24:00.360Z"
   },
   {
    "duration": 20,
    "start_time": "2023-08-03T08:24:00.950Z"
   },
   {
    "duration": 71,
    "start_time": "2023-08-03T08:24:01.423Z"
   },
   {
    "duration": 70,
    "start_time": "2023-08-03T08:24:01.727Z"
   },
   {
    "duration": 160,
    "start_time": "2023-08-03T08:24:02.368Z"
   },
   {
    "duration": 299,
    "start_time": "2023-08-03T08:24:02.627Z"
   },
   {
    "duration": 61,
    "start_time": "2023-08-03T08:24:03.680Z"
   },
   {
    "duration": 375,
    "start_time": "2023-08-03T08:24:04.996Z"
   },
   {
    "duration": 22,
    "start_time": "2023-08-03T08:24:05.523Z"
   },
   {
    "duration": 306,
    "start_time": "2023-08-03T08:24:06.278Z"
   },
   {
    "duration": 35,
    "start_time": "2023-08-03T08:24:06.586Z"
   },
   {
    "duration": 328,
    "start_time": "2023-08-03T08:24:07.145Z"
   },
   {
    "duration": 249,
    "start_time": "2023-08-03T08:24:07.475Z"
   },
   {
    "duration": 22,
    "start_time": "2023-08-03T08:24:07.726Z"
   },
   {
    "duration": 49,
    "start_time": "2023-08-03T08:24:08.331Z"
   },
   {
    "duration": 20,
    "start_time": "2023-08-03T08:24:09.083Z"
   },
   {
    "duration": 3,
    "start_time": "2023-08-03T08:24:09.519Z"
   },
   {
    "duration": 27,
    "start_time": "2023-08-03T08:24:10.260Z"
   },
   {
    "duration": 21,
    "start_time": "2023-08-03T08:24:10.943Z"
   },
   {
    "duration": 33,
    "start_time": "2023-08-03T08:24:11.167Z"
   },
   {
    "duration": 21,
    "start_time": "2023-08-03T08:24:12.573Z"
   },
   {
    "duration": 3,
    "start_time": "2023-08-03T08:24:15.496Z"
   },
   {
    "duration": 4,
    "start_time": "2023-08-03T08:24:23.124Z"
   },
   {
    "duration": 3,
    "start_time": "2023-08-03T08:24:26.655Z"
   },
   {
    "duration": 9,
    "start_time": "2023-08-03T08:24:27.289Z"
   },
   {
    "duration": 34,
    "start_time": "2023-08-03T08:24:28.045Z"
   },
   {
    "duration": 1489,
    "start_time": "2023-08-03T08:24:38.151Z"
   },
   {
    "duration": 900,
    "start_time": "2023-08-03T08:25:50.641Z"
   },
   {
    "duration": 905,
    "start_time": "2023-08-03T08:27:51.278Z"
   },
   {
    "duration": 126,
    "start_time": "2023-08-03T08:28:50.459Z"
   },
   {
    "duration": 980,
    "start_time": "2023-08-03T08:29:08.136Z"
   },
   {
    "duration": 102139,
    "start_time": "2023-08-03T08:29:27.587Z"
   },
   {
    "duration": 1745,
    "start_time": "2023-08-03T09:05:29.544Z"
   },
   {
    "duration": 1147,
    "start_time": "2023-08-03T09:05:31.292Z"
   },
   {
    "duration": 154,
    "start_time": "2023-08-03T09:05:33.405Z"
   },
   {
    "duration": 23,
    "start_time": "2023-08-03T09:05:33.641Z"
   },
   {
    "duration": 287,
    "start_time": "2023-08-03T09:05:34.441Z"
   },
   {
    "duration": 155,
    "start_time": "2023-08-03T09:05:35.689Z"
   },
   {
    "duration": 3,
    "start_time": "2023-08-03T09:05:36.283Z"
   },
   {
    "duration": 187,
    "start_time": "2023-08-03T09:05:37.776Z"
   },
   {
    "duration": 263,
    "start_time": "2023-08-03T09:05:38.001Z"
   },
   {
    "duration": 233,
    "start_time": "2023-08-03T09:05:38.266Z"
   },
   {
    "duration": 281,
    "start_time": "2023-08-03T09:05:38.501Z"
   },
   {
    "duration": 369,
    "start_time": "2023-08-03T09:05:38.785Z"
   },
   {
    "duration": 70,
    "start_time": "2023-08-03T09:05:39.390Z"
   },
   {
    "duration": 37,
    "start_time": "2023-08-03T09:05:39.813Z"
   },
   {
    "duration": 27,
    "start_time": "2023-08-03T09:05:40.207Z"
   },
   {
    "duration": 75,
    "start_time": "2023-08-03T09:05:40.627Z"
   },
   {
    "duration": 74,
    "start_time": "2023-08-03T09:05:40.823Z"
   },
   {
    "duration": 165,
    "start_time": "2023-08-03T09:05:41.436Z"
   },
   {
    "duration": 320,
    "start_time": "2023-08-03T09:05:41.637Z"
   },
   {
    "duration": 77,
    "start_time": "2023-08-03T09:05:42.270Z"
   },
   {
    "duration": 408,
    "start_time": "2023-08-03T09:05:43.083Z"
   },
   {
    "duration": 23,
    "start_time": "2023-08-03T09:05:43.535Z"
   },
   {
    "duration": 398,
    "start_time": "2023-08-03T09:05:44.184Z"
   },
   {
    "duration": 36,
    "start_time": "2023-08-03T09:05:44.584Z"
   },
   {
    "duration": 382,
    "start_time": "2023-08-03T09:05:45.091Z"
   },
   {
    "duration": 268,
    "start_time": "2023-08-03T09:05:45.476Z"
   },
   {
    "duration": 26,
    "start_time": "2023-08-03T09:05:45.747Z"
   },
   {
    "duration": 59,
    "start_time": "2023-08-03T09:05:45.992Z"
   },
   {
    "duration": 23,
    "start_time": "2023-08-03T09:05:46.473Z"
   },
   {
    "duration": 3,
    "start_time": "2023-08-03T09:05:46.688Z"
   },
   {
    "duration": 29,
    "start_time": "2023-08-03T09:05:47.397Z"
   },
   {
    "duration": 22,
    "start_time": "2023-08-03T09:05:47.837Z"
   },
   {
    "duration": 59,
    "start_time": "2023-08-03T09:05:48.378Z"
   },
   {
    "duration": 20,
    "start_time": "2023-08-03T09:05:49.551Z"
   },
   {
    "duration": 3,
    "start_time": "2023-08-03T09:05:52.282Z"
   },
   {
    "duration": 3,
    "start_time": "2023-08-03T09:05:56.278Z"
   },
   {
    "duration": 11,
    "start_time": "2023-08-03T09:05:57.679Z"
   },
   {
    "duration": 51,
    "start_time": "2023-08-03T09:05:58.094Z"
   },
   {
    "duration": 11,
    "start_time": "2023-08-03T09:06:19.741Z"
   },
   {
    "duration": 143,
    "start_time": "2023-08-03T09:28:26.742Z"
   },
   {
    "duration": 59,
    "start_time": "2023-08-03T09:29:56.331Z"
   },
   {
    "duration": 17,
    "start_time": "2023-08-03T09:32:09.982Z"
   },
   {
    "duration": 2106,
    "start_time": "2023-08-03T09:33:03.872Z"
   },
   {
    "duration": 1350,
    "start_time": "2023-08-03T09:33:05.980Z"
   },
   {
    "duration": 134,
    "start_time": "2023-08-03T09:33:08.801Z"
   },
   {
    "duration": 33,
    "start_time": "2023-08-03T09:33:09.030Z"
   },
   {
    "duration": 343,
    "start_time": "2023-08-03T09:33:09.850Z"
   },
   {
    "duration": 181,
    "start_time": "2023-08-03T09:33:10.666Z"
   },
   {
    "duration": 3,
    "start_time": "2023-08-03T09:33:11.185Z"
   },
   {
    "duration": 281,
    "start_time": "2023-08-03T09:33:12.894Z"
   },
   {
    "duration": 302,
    "start_time": "2023-08-03T09:33:13.177Z"
   },
   {
    "duration": 254,
    "start_time": "2023-08-03T09:33:13.481Z"
   },
   {
    "duration": 289,
    "start_time": "2023-08-03T09:33:13.737Z"
   },
   {
    "duration": 326,
    "start_time": "2023-08-03T09:33:14.034Z"
   },
   {
    "duration": 74,
    "start_time": "2023-08-03T09:33:14.362Z"
   },
   {
    "duration": 31,
    "start_time": "2023-08-03T09:33:14.472Z"
   },
   {
    "duration": 33,
    "start_time": "2023-08-03T09:33:14.907Z"
   },
   {
    "duration": 99,
    "start_time": "2023-08-03T09:33:15.340Z"
   },
   {
    "duration": 85,
    "start_time": "2023-08-03T09:33:15.625Z"
   },
   {
    "duration": 175,
    "start_time": "2023-08-03T09:33:16.295Z"
   },
   {
    "duration": 346,
    "start_time": "2023-08-03T09:33:16.504Z"
   },
   {
    "duration": 65,
    "start_time": "2023-08-03T09:33:17.187Z"
   },
   {
    "duration": 429,
    "start_time": "2023-08-03T09:33:18.202Z"
   },
   {
    "duration": 24,
    "start_time": "2023-08-03T09:33:18.655Z"
   },
   {
    "duration": 397,
    "start_time": "2023-08-03T09:33:19.493Z"
   },
   {
    "duration": 38,
    "start_time": "2023-08-03T09:33:19.894Z"
   },
   {
    "duration": 447,
    "start_time": "2023-08-03T09:33:20.667Z"
   },
   {
    "duration": 320,
    "start_time": "2023-08-03T09:33:21.126Z"
   },
   {
    "duration": 25,
    "start_time": "2023-08-03T09:33:21.449Z"
   },
   {
    "duration": 49,
    "start_time": "2023-08-03T09:33:21.530Z"
   },
   {
    "duration": 22,
    "start_time": "2023-08-03T09:33:22.444Z"
   },
   {
    "duration": 3,
    "start_time": "2023-08-03T09:33:22.645Z"
   },
   {
    "duration": 43,
    "start_time": "2023-08-03T09:33:23.374Z"
   },
   {
    "duration": 35,
    "start_time": "2023-08-03T09:33:23.783Z"
   },
   {
    "duration": 63,
    "start_time": "2023-08-03T09:33:24.055Z"
   },
   {
    "duration": 16,
    "start_time": "2023-08-03T09:33:25.139Z"
   },
   {
    "duration": 3,
    "start_time": "2023-08-03T09:33:28.033Z"
   },
   {
    "duration": 4,
    "start_time": "2023-08-03T09:33:30.198Z"
   },
   {
    "duration": 13,
    "start_time": "2023-08-03T09:33:30.835Z"
   },
   {
    "duration": 38,
    "start_time": "2023-08-03T09:33:34.332Z"
   },
   {
    "duration": 16,
    "start_time": "2023-08-03T09:33:34.845Z"
   },
   {
    "duration": 130,
    "start_time": "2023-08-03T09:33:36.332Z"
   },
   {
    "duration": 21,
    "start_time": "2023-08-03T09:33:47.820Z"
   },
   {
    "duration": 18,
    "start_time": "2023-08-03T09:37:56.942Z"
   },
   {
    "duration": 591,
    "start_time": "2023-08-03T09:38:32.037Z"
   },
   {
    "duration": 23,
    "start_time": "2023-08-03T09:38:50.810Z"
   },
   {
    "duration": 18,
    "start_time": "2023-08-03T09:46:08.094Z"
   },
   {
    "duration": 1028,
    "start_time": "2023-08-03T09:48:53.750Z"
   },
   {
    "duration": 18,
    "start_time": "2023-08-03T09:50:02.403Z"
   },
   {
    "duration": 81,
    "start_time": "2023-08-03T09:50:14.230Z"
   },
   {
    "duration": 81,
    "start_time": "2023-08-03T10:15:30.950Z"
   },
   {
    "duration": 84,
    "start_time": "2023-08-03T10:16:13.142Z"
   },
   {
    "duration": 128,
    "start_time": "2023-08-03T10:17:08.007Z"
   },
   {
    "duration": 11,
    "start_time": "2023-08-03T10:18:23.348Z"
   },
   {
    "duration": 4357,
    "start_time": "2023-08-03T10:23:10.231Z"
   },
   {
    "duration": 5576,
    "start_time": "2023-08-03T10:25:41.603Z"
   },
   {
    "duration": 1074,
    "start_time": "2023-08-03T10:25:50.985Z"
   },
   {
    "duration": 124,
    "start_time": "2023-08-03T10:25:54.627Z"
   },
   {
    "duration": 25,
    "start_time": "2023-08-03T10:25:55.065Z"
   },
   {
    "duration": 312,
    "start_time": "2023-08-03T10:25:56.462Z"
   },
   {
    "duration": 128,
    "start_time": "2023-08-03T10:25:58.246Z"
   },
   {
    "duration": 3,
    "start_time": "2023-08-03T10:25:59.002Z"
   },
   {
    "duration": 190,
    "start_time": "2023-08-03T10:26:01.743Z"
   },
   {
    "duration": 395,
    "start_time": "2023-08-03T10:26:02.219Z"
   },
   {
    "duration": 254,
    "start_time": "2023-08-03T10:26:02.704Z"
   },
   {
    "duration": 241,
    "start_time": "2023-08-03T10:26:03.091Z"
   },
   {
    "duration": 307,
    "start_time": "2023-08-03T10:26:03.599Z"
   },
   {
    "duration": 72,
    "start_time": "2023-08-03T10:26:04.496Z"
   },
   {
    "duration": 32,
    "start_time": "2023-08-03T10:26:04.961Z"
   },
   {
    "duration": 31,
    "start_time": "2023-08-03T10:26:05.942Z"
   },
   {
    "duration": 86,
    "start_time": "2023-08-03T10:26:06.782Z"
   },
   {
    "duration": 83,
    "start_time": "2023-08-03T10:26:07.186Z"
   },
   {
    "duration": 179,
    "start_time": "2023-08-03T10:26:08.010Z"
   },
   {
    "duration": 334,
    "start_time": "2023-08-03T10:26:08.448Z"
   },
   {
    "duration": 63,
    "start_time": "2023-08-03T10:26:09.666Z"
   },
   {
    "duration": 570,
    "start_time": "2023-08-03T10:26:11.326Z"
   },
   {
    "duration": 27,
    "start_time": "2023-08-03T10:26:12.127Z"
   },
   {
    "duration": 436,
    "start_time": "2023-08-03T10:26:13.330Z"
   },
   {
    "duration": 22,
    "start_time": "2023-08-03T10:26:13.768Z"
   },
   {
    "duration": 312,
    "start_time": "2023-08-03T10:26:15.142Z"
   },
   {
    "duration": 295,
    "start_time": "2023-08-03T10:26:15.538Z"
   },
   {
    "duration": 37,
    "start_time": "2023-08-03T10:26:15.916Z"
   },
   {
    "duration": 58,
    "start_time": "2023-08-03T10:26:16.749Z"
   },
   {
    "duration": 30,
    "start_time": "2023-08-03T10:26:17.623Z"
   },
   {
    "duration": 3,
    "start_time": "2023-08-03T10:26:18.045Z"
   },
   {
    "duration": 37,
    "start_time": "2023-08-03T10:26:19.372Z"
   },
   {
    "duration": 37,
    "start_time": "2023-08-03T10:26:20.189Z"
   },
   {
    "duration": 51,
    "start_time": "2023-08-03T10:26:20.591Z"
   },
   {
    "duration": 14,
    "start_time": "2023-08-03T10:26:22.158Z"
   },
   {
    "duration": 4,
    "start_time": "2023-08-03T10:26:24.727Z"
   },
   {
    "duration": 3,
    "start_time": "2023-08-03T10:26:26.283Z"
   },
   {
    "duration": 10,
    "start_time": "2023-08-03T10:26:26.689Z"
   },
   {
    "duration": 39,
    "start_time": "2023-08-03T10:26:27.721Z"
   },
   {
    "duration": 17,
    "start_time": "2023-08-03T10:26:28.845Z"
   },
   {
    "duration": 1135,
    "start_time": "2023-08-03T10:26:29.807Z"
   },
   {
    "duration": 969,
    "start_time": "2023-08-03T10:26:43.482Z"
   },
   {
    "duration": 937,
    "start_time": "2023-08-03T10:34:48.823Z"
   },
   {
    "duration": 22,
    "start_time": "2023-08-03T10:49:28.562Z"
   },
   {
    "duration": 15,
    "start_time": "2023-08-03T10:50:03.192Z"
   },
   {
    "duration": 19,
    "start_time": "2023-08-03T10:50:34.536Z"
   },
   {
    "duration": 15,
    "start_time": "2023-08-03T10:50:42.685Z"
   },
   {
    "duration": 19,
    "start_time": "2023-08-03T10:51:09.028Z"
   },
   {
    "duration": 969,
    "start_time": "2023-08-03T10:53:28.064Z"
   },
   {
    "duration": 2398,
    "start_time": "2023-08-03T11:07:10.967Z"
   },
   {
    "duration": 1069,
    "start_time": "2023-08-03T11:07:20.583Z"
   },
   {
    "duration": 4007,
    "start_time": "2023-08-03T11:07:39.820Z"
   },
   {
    "duration": 1156,
    "start_time": "2023-08-03T11:07:48.299Z"
   },
   {
    "duration": 129,
    "start_time": "2023-08-03T11:07:50.259Z"
   },
   {
    "duration": 24,
    "start_time": "2023-08-03T11:07:50.535Z"
   },
   {
    "duration": 277,
    "start_time": "2023-08-03T11:07:51.452Z"
   },
   {
    "duration": 125,
    "start_time": "2023-08-03T11:07:53.057Z"
   },
   {
    "duration": 5,
    "start_time": "2023-08-03T11:07:53.681Z"
   },
   {
    "duration": 260,
    "start_time": "2023-08-03T11:07:55.897Z"
   },
   {
    "duration": 255,
    "start_time": "2023-08-03T11:07:56.235Z"
   },
   {
    "duration": 231,
    "start_time": "2023-08-03T11:07:56.500Z"
   },
   {
    "duration": 225,
    "start_time": "2023-08-03T11:07:56.781Z"
   },
   {
    "duration": 336,
    "start_time": "2023-08-03T11:07:57.209Z"
   },
   {
    "duration": 70,
    "start_time": "2023-08-03T11:07:57.994Z"
   },
   {
    "duration": 45,
    "start_time": "2023-08-03T11:07:58.411Z"
   },
   {
    "duration": 31,
    "start_time": "2023-08-03T11:07:59.129Z"
   },
   {
    "duration": 77,
    "start_time": "2023-08-03T11:07:59.730Z"
   },
   {
    "duration": 87,
    "start_time": "2023-08-03T11:08:00.108Z"
   },
   {
    "duration": 161,
    "start_time": "2023-08-03T11:08:00.932Z"
   },
   {
    "duration": 402,
    "start_time": "2023-08-03T11:08:01.285Z"
   },
   {
    "duration": 80,
    "start_time": "2023-08-03T11:08:02.431Z"
   },
   {
    "duration": 398,
    "start_time": "2023-08-03T11:08:03.864Z"
   },
   {
    "duration": 23,
    "start_time": "2023-08-03T11:08:04.544Z"
   },
   {
    "duration": 533,
    "start_time": "2023-08-03T11:08:05.758Z"
   },
   {
    "duration": 31,
    "start_time": "2023-08-03T11:08:06.295Z"
   },
   {
    "duration": 251,
    "start_time": "2023-08-03T11:08:07.239Z"
   },
   {
    "duration": 248,
    "start_time": "2023-08-03T11:08:07.506Z"
   },
   {
    "duration": 20,
    "start_time": "2023-08-03T11:08:07.827Z"
   },
   {
    "duration": 52,
    "start_time": "2023-08-03T11:08:08.496Z"
   },
   {
    "duration": 31,
    "start_time": "2023-08-03T11:08:09.220Z"
   },
   {
    "duration": 3,
    "start_time": "2023-08-03T11:08:09.570Z"
   },
   {
    "duration": 22,
    "start_time": "2023-08-03T11:08:10.738Z"
   },
   {
    "duration": 21,
    "start_time": "2023-08-03T11:08:11.486Z"
   },
   {
    "duration": 36,
    "start_time": "2023-08-03T11:08:11.850Z"
   },
   {
    "duration": 15,
    "start_time": "2023-08-03T11:08:13.342Z"
   },
   {
    "duration": 3,
    "start_time": "2023-08-03T11:08:16.232Z"
   },
   {
    "duration": 2,
    "start_time": "2023-08-03T11:08:17.893Z"
   },
   {
    "duration": 12,
    "start_time": "2023-08-03T11:08:18.261Z"
   },
   {
    "duration": 42,
    "start_time": "2023-08-03T11:08:18.620Z"
   },
   {
    "duration": 24,
    "start_time": "2023-08-03T11:08:19.400Z"
   },
   {
    "duration": 1122,
    "start_time": "2023-08-03T11:08:25.231Z"
   },
   {
    "duration": 932,
    "start_time": "2023-08-03T11:08:47.665Z"
   },
   {
    "duration": 1884,
    "start_time": "2023-08-03T11:15:08.691Z"
   },
   {
    "duration": 4878,
    "start_time": "2023-08-03T11:22:02.932Z"
   },
   {
    "duration": 1269,
    "start_time": "2023-08-03T11:22:09.065Z"
   },
   {
    "duration": 184,
    "start_time": "2023-08-03T11:22:11.401Z"
   },
   {
    "duration": 32,
    "start_time": "2023-08-03T11:22:11.632Z"
   },
   {
    "duration": 320,
    "start_time": "2023-08-03T11:22:12.363Z"
   },
   {
    "duration": 129,
    "start_time": "2023-08-03T11:22:13.230Z"
   },
   {
    "duration": 4,
    "start_time": "2023-08-03T11:22:13.635Z"
   },
   {
    "duration": 265,
    "start_time": "2023-08-03T11:22:15.331Z"
   },
   {
    "duration": 388,
    "start_time": "2023-08-03T11:22:15.599Z"
   },
   {
    "duration": 350,
    "start_time": "2023-08-03T11:22:15.989Z"
   },
   {
    "duration": 338,
    "start_time": "2023-08-03T11:22:16.342Z"
   },
   {
    "duration": 377,
    "start_time": "2023-08-03T11:22:16.683Z"
   },
   {
    "duration": 81,
    "start_time": "2023-08-03T11:22:17.062Z"
   },
   {
    "duration": 51,
    "start_time": "2023-08-03T11:22:21.497Z"
   },
   {
    "duration": 21,
    "start_time": "2023-08-03T11:22:23.485Z"
   },
   {
    "duration": 82,
    "start_time": "2023-08-03T11:22:24.352Z"
   },
   {
    "duration": 84,
    "start_time": "2023-08-03T11:22:24.962Z"
   },
   {
    "duration": 179,
    "start_time": "2023-08-03T11:22:26.180Z"
   },
   {
    "duration": 322,
    "start_time": "2023-08-03T11:22:26.657Z"
   },
   {
    "duration": 69,
    "start_time": "2023-08-03T11:22:28.729Z"
   },
   {
    "duration": 482,
    "start_time": "2023-08-03T11:22:31.543Z"
   },
   {
    "duration": 25,
    "start_time": "2023-08-03T11:22:33.164Z"
   },
   {
    "duration": 436,
    "start_time": "2023-08-03T11:22:37.714Z"
   },
   {
    "duration": 21,
    "start_time": "2023-08-03T11:22:38.153Z"
   },
   {
    "duration": 288,
    "start_time": "2023-08-03T11:22:38.662Z"
   },
   {
    "duration": 254,
    "start_time": "2023-08-03T11:22:39.124Z"
   },
   {
    "duration": 19,
    "start_time": "2023-08-03T11:22:39.653Z"
   },
   {
    "duration": 44,
    "start_time": "2023-08-03T11:22:40.455Z"
   },
   {
    "duration": 21,
    "start_time": "2023-08-03T11:22:42.226Z"
   },
   {
    "duration": 2,
    "start_time": "2023-08-03T11:22:54.290Z"
   },
   {
    "duration": 3,
    "start_time": "2023-08-03T11:23:15.627Z"
   },
   {
    "duration": 3,
    "start_time": "2023-08-03T11:23:34.757Z"
   },
   {
    "duration": 6,
    "start_time": "2023-08-03T11:23:53.106Z"
   },
   {
    "duration": 49,
    "start_time": "2023-08-03T11:23:54.014Z"
   },
   {
    "duration": 19,
    "start_time": "2023-08-03T11:32:18.131Z"
   },
   {
    "duration": 2,
    "start_time": "2023-08-03T11:32:21.147Z"
   },
   {
    "duration": 3,
    "start_time": "2023-08-03T11:32:22.561Z"
   },
   {
    "duration": 12,
    "start_time": "2023-08-03T11:32:23.126Z"
   },
   {
    "duration": 68,
    "start_time": "2023-08-03T11:32:23.672Z"
   },
   {
    "duration": 16,
    "start_time": "2023-08-03T11:32:24.558Z"
   },
   {
    "duration": 417,
    "start_time": "2023-08-03T11:32:24.809Z"
   },
   {
    "duration": 4439,
    "start_time": "2023-08-03T11:32:43.013Z"
   },
   {
    "duration": 1163,
    "start_time": "2023-08-03T11:32:50.837Z"
   },
   {
    "duration": 163,
    "start_time": "2023-08-03T11:32:54.168Z"
   },
   {
    "duration": 33,
    "start_time": "2023-08-03T11:32:54.958Z"
   },
   {
    "duration": 344,
    "start_time": "2023-08-03T11:32:55.968Z"
   },
   {
    "duration": 141,
    "start_time": "2023-08-03T11:32:58.239Z"
   },
   {
    "duration": 4,
    "start_time": "2023-08-03T11:32:59.638Z"
   },
   {
    "duration": 271,
    "start_time": "2023-08-03T11:33:06.868Z"
   },
   {
    "duration": 383,
    "start_time": "2023-08-03T11:33:07.142Z"
   },
   {
    "duration": 237,
    "start_time": "2023-08-03T11:33:07.527Z"
   },
   {
    "duration": 252,
    "start_time": "2023-08-03T11:33:07.766Z"
   },
   {
    "duration": 321,
    "start_time": "2023-08-03T11:33:08.026Z"
   },
   {
    "duration": 77,
    "start_time": "2023-08-03T11:33:08.394Z"
   },
   {
    "duration": 42,
    "start_time": "2023-08-03T11:33:09.152Z"
   },
   {
    "duration": 20,
    "start_time": "2023-08-03T11:33:09.654Z"
   },
   {
    "duration": 85,
    "start_time": "2023-08-03T11:33:10.400Z"
   },
   {
    "duration": 83,
    "start_time": "2023-08-03T11:33:10.658Z"
   },
   {
    "duration": 184,
    "start_time": "2023-08-03T11:33:11.566Z"
   },
   {
    "duration": 370,
    "start_time": "2023-08-03T11:33:12.367Z"
   },
   {
    "duration": 57,
    "start_time": "2023-08-03T11:33:14.229Z"
   },
   {
    "duration": 412,
    "start_time": "2023-08-03T11:33:17.251Z"
   },
   {
    "duration": 21,
    "start_time": "2023-08-03T11:33:17.668Z"
   },
   {
    "duration": 427,
    "start_time": "2023-08-03T11:33:18.330Z"
   },
   {
    "duration": 22,
    "start_time": "2023-08-03T11:33:18.781Z"
   },
   {
    "duration": 353,
    "start_time": "2023-08-03T11:33:22.856Z"
   },
   {
    "duration": 292,
    "start_time": "2023-08-03T11:33:23.211Z"
   },
   {
    "duration": 37,
    "start_time": "2023-08-03T11:33:23.508Z"
   },
   {
    "duration": 74,
    "start_time": "2023-08-03T11:33:26.835Z"
   },
   {
    "duration": 29,
    "start_time": "2023-08-03T11:33:27.648Z"
   },
   {
    "duration": 3,
    "start_time": "2023-08-03T11:33:28.231Z"
   },
   {
    "duration": 3,
    "start_time": "2023-08-03T11:33:31.479Z"
   },
   {
    "duration": 3,
    "start_time": "2023-08-03T11:33:34.575Z"
   },
   {
    "duration": 46,
    "start_time": "2023-08-03T11:33:34.936Z"
   },
   {
    "duration": 17,
    "start_time": "2023-08-03T11:33:40.531Z"
   },
   {
    "duration": 3,
    "start_time": "2023-08-03T11:33:46.830Z"
   },
   {
    "duration": 3,
    "start_time": "2023-08-03T11:33:51.748Z"
   },
   {
    "duration": 13,
    "start_time": "2023-08-03T11:33:52.262Z"
   },
   {
    "duration": 59,
    "start_time": "2023-08-03T11:33:52.664Z"
   },
   {
    "duration": 1305,
    "start_time": "2023-08-03T11:34:08.631Z"
   },
   {
    "duration": 64,
    "start_time": "2023-08-03T11:34:19.706Z"
   },
   {
    "duration": 132,
    "start_time": "2023-08-03T11:34:53.549Z"
   },
   {
    "duration": 14,
    "start_time": "2023-08-03T11:38:14.644Z"
   },
   {
    "duration": 216,
    "start_time": "2023-08-03T11:39:29.249Z"
   },
   {
    "duration": 5157,
    "start_time": "2023-08-03T11:45:28.686Z"
   },
   {
    "duration": 1307,
    "start_time": "2023-08-03T11:45:35.306Z"
   },
   {
    "duration": 159,
    "start_time": "2023-08-03T11:45:37.362Z"
   },
   {
    "duration": 32,
    "start_time": "2023-08-03T11:45:37.592Z"
   },
   {
    "duration": 321,
    "start_time": "2023-08-03T11:45:38.475Z"
   },
   {
    "duration": 144,
    "start_time": "2023-08-03T11:45:40.088Z"
   },
   {
    "duration": 3,
    "start_time": "2023-08-03T11:45:40.883Z"
   },
   {
    "duration": 202,
    "start_time": "2023-08-03T11:45:42.903Z"
   },
   {
    "duration": 373,
    "start_time": "2023-08-03T11:45:43.397Z"
   },
   {
    "duration": 243,
    "start_time": "2023-08-03T11:45:43.825Z"
   },
   {
    "duration": 259,
    "start_time": "2023-08-03T11:45:44.072Z"
   },
   {
    "duration": 413,
    "start_time": "2023-08-03T11:45:44.332Z"
   },
   {
    "duration": 64,
    "start_time": "2023-08-03T11:45:45.222Z"
   },
   {
    "duration": 43,
    "start_time": "2023-08-03T11:45:45.398Z"
   },
   {
    "duration": 31,
    "start_time": "2023-08-03T11:45:46.039Z"
   },
   {
    "duration": 109,
    "start_time": "2023-08-03T11:45:46.716Z"
   },
   {
    "duration": 94,
    "start_time": "2023-08-03T11:45:46.932Z"
   },
   {
    "duration": 156,
    "start_time": "2023-08-03T11:45:47.830Z"
   },
   {
    "duration": 372,
    "start_time": "2023-08-03T11:45:48.045Z"
   },
   {
    "duration": 90,
    "start_time": "2023-08-03T11:45:49.298Z"
   },
   {
    "duration": 446,
    "start_time": "2023-08-03T11:45:51.043Z"
   },
   {
    "duration": 29,
    "start_time": "2023-08-03T11:45:51.774Z"
   },
   {
    "duration": 446,
    "start_time": "2023-08-03T11:45:53.202Z"
   },
   {
    "duration": 24,
    "start_time": "2023-08-03T11:45:53.650Z"
   },
   {
    "duration": 281,
    "start_time": "2023-08-03T11:45:54.672Z"
   },
   {
    "duration": 330,
    "start_time": "2023-08-03T11:45:54.956Z"
   },
   {
    "duration": 31,
    "start_time": "2023-08-03T11:45:55.288Z"
   },
   {
    "duration": 51,
    "start_time": "2023-08-03T11:45:55.485Z"
   },
   {
    "duration": 22,
    "start_time": "2023-08-03T11:45:56.445Z"
   },
   {
    "duration": 3,
    "start_time": "2023-08-03T11:45:56.653Z"
   },
   {
    "duration": 3,
    "start_time": "2023-08-03T11:45:57.502Z"
   },
   {
    "duration": 3,
    "start_time": "2023-08-03T11:45:58.366Z"
   },
   {
    "duration": 52,
    "start_time": "2023-08-03T11:45:58.571Z"
   },
   {
    "duration": 17,
    "start_time": "2023-08-03T11:46:00.202Z"
   },
   {
    "duration": 4,
    "start_time": "2023-08-03T11:46:06.338Z"
   },
   {
    "duration": 3,
    "start_time": "2023-08-03T11:46:08.938Z"
   },
   {
    "duration": 13,
    "start_time": "2023-08-03T11:46:09.464Z"
   },
   {
    "duration": 83,
    "start_time": "2023-08-03T11:46:10.345Z"
   },
   {
    "duration": 16,
    "start_time": "2023-08-03T11:46:12.054Z"
   },
   {
    "duration": 409,
    "start_time": "2023-08-03T11:46:16.773Z"
   },
   {
    "duration": 99,
    "start_time": "2023-08-03T11:46:23.170Z"
   },
   {
    "duration": 114,
    "start_time": "2023-08-03T11:47:22.505Z"
   },
   {
    "duration": 1058,
    "start_time": "2023-08-03T11:47:41.763Z"
   },
   {
    "duration": 5527,
    "start_time": "2023-08-03T11:48:22.633Z"
   },
   {
    "duration": 1191,
    "start_time": "2023-08-03T11:48:29.853Z"
   },
   {
    "duration": 129,
    "start_time": "2023-08-03T11:48:33.726Z"
   },
   {
    "duration": 22,
    "start_time": "2023-08-03T11:48:34.650Z"
   },
   {
    "duration": 300,
    "start_time": "2023-08-03T11:48:36.369Z"
   },
   {
    "duration": 190,
    "start_time": "2023-08-03T11:48:38.556Z"
   },
   {
    "duration": 5,
    "start_time": "2023-08-03T11:48:39.552Z"
   },
   {
    "duration": 307,
    "start_time": "2023-08-03T11:48:41.364Z"
   },
   {
    "duration": 310,
    "start_time": "2023-08-03T11:48:41.673Z"
   },
   {
    "duration": 312,
    "start_time": "2023-08-03T11:48:41.986Z"
   },
   {
    "duration": 324,
    "start_time": "2023-08-03T11:48:42.300Z"
   },
   {
    "duration": 325,
    "start_time": "2023-08-03T11:48:42.626Z"
   },
   {
    "duration": 69,
    "start_time": "2023-08-03T11:48:43.987Z"
   },
   {
    "duration": 40,
    "start_time": "2023-08-03T11:48:44.410Z"
   },
   {
    "duration": 24,
    "start_time": "2023-08-03T11:48:44.854Z"
   },
   {
    "duration": 76,
    "start_time": "2023-08-03T11:48:45.631Z"
   },
   {
    "duration": 155,
    "start_time": "2023-08-03T11:48:45.873Z"
   },
   {
    "duration": 161,
    "start_time": "2023-08-03T11:48:46.827Z"
   },
   {
    "duration": 459,
    "start_time": "2023-08-03T11:48:47.061Z"
   },
   {
    "duration": 67,
    "start_time": "2023-08-03T11:48:48.170Z"
   },
   {
    "duration": 435,
    "start_time": "2023-08-03T11:48:49.793Z"
   },
   {
    "duration": 34,
    "start_time": "2023-08-03T11:48:50.488Z"
   },
   {
    "duration": 436,
    "start_time": "2023-08-03T11:48:51.245Z"
   },
   {
    "duration": 42,
    "start_time": "2023-08-03T11:48:51.684Z"
   },
   {
    "duration": 271,
    "start_time": "2023-08-03T11:48:52.127Z"
   },
   {
    "duration": 251,
    "start_time": "2023-08-03T11:48:52.590Z"
   },
   {
    "duration": 23,
    "start_time": "2023-08-03T11:48:52.875Z"
   },
   {
    "duration": 58,
    "start_time": "2023-08-03T11:48:53.846Z"
   },
   {
    "duration": 32,
    "start_time": "2023-08-03T11:48:55.227Z"
   },
   {
    "duration": 3,
    "start_time": "2023-08-03T11:48:55.529Z"
   },
   {
    "duration": 3,
    "start_time": "2023-08-03T11:48:56.685Z"
   },
   {
    "duration": 3,
    "start_time": "2023-08-03T11:48:57.247Z"
   },
   {
    "duration": 59,
    "start_time": "2023-08-03T11:48:57.588Z"
   },
   {
    "duration": 26,
    "start_time": "2023-08-03T11:48:59.166Z"
   },
   {
    "duration": 3,
    "start_time": "2023-08-03T11:49:01.465Z"
   },
   {
    "duration": 3,
    "start_time": "2023-08-03T11:49:02.655Z"
   },
   {
    "duration": 13,
    "start_time": "2023-08-03T11:49:05.433Z"
   },
   {
    "duration": 83,
    "start_time": "2023-08-03T11:49:06.054Z"
   },
   {
    "duration": 16,
    "start_time": "2023-08-03T11:49:10.945Z"
   },
   {
    "duration": 500,
    "start_time": "2023-08-03T11:49:14.522Z"
   },
   {
    "duration": 136,
    "start_time": "2023-08-03T11:49:29.351Z"
   },
   {
    "duration": 1116,
    "start_time": "2023-08-03T11:49:42.103Z"
   },
   {
    "duration": 5446,
    "start_time": "2023-08-03T12:05:08.834Z"
   },
   {
    "duration": 1228,
    "start_time": "2023-08-03T12:05:15.765Z"
   },
   {
    "duration": 134,
    "start_time": "2023-08-03T12:05:21.165Z"
   },
   {
    "duration": 33,
    "start_time": "2023-08-03T12:05:21.302Z"
   },
   {
    "duration": 342,
    "start_time": "2023-08-03T12:05:22.833Z"
   },
   {
    "duration": 134,
    "start_time": "2023-08-03T12:05:24.651Z"
   },
   {
    "duration": 3,
    "start_time": "2023-08-03T12:05:25.472Z"
   },
   {
    "duration": 226,
    "start_time": "2023-08-03T12:05:27.835Z"
   },
   {
    "duration": 278,
    "start_time": "2023-08-03T12:05:28.282Z"
   },
   {
    "duration": 253,
    "start_time": "2023-08-03T12:05:28.708Z"
   },
   {
    "duration": 269,
    "start_time": "2023-08-03T12:05:29.105Z"
   },
   {
    "duration": 336,
    "start_time": "2023-08-03T12:05:29.638Z"
   },
   {
    "duration": 76,
    "start_time": "2023-08-03T12:05:30.552Z"
   },
   {
    "duration": 30,
    "start_time": "2023-08-03T12:05:30.942Z"
   },
   {
    "duration": 20,
    "start_time": "2023-08-03T12:05:31.661Z"
   },
   {
    "duration": 90,
    "start_time": "2023-08-03T12:05:32.400Z"
   },
   {
    "duration": 91,
    "start_time": "2023-08-03T12:05:32.638Z"
   },
   {
    "duration": 169,
    "start_time": "2023-08-03T12:05:33.356Z"
   },
   {
    "duration": 354,
    "start_time": "2023-08-03T12:05:33.699Z"
   },
   {
    "duration": 65,
    "start_time": "2023-08-03T12:05:34.930Z"
   },
   {
    "duration": 600,
    "start_time": "2023-08-03T12:05:36.204Z"
   },
   {
    "duration": 35,
    "start_time": "2023-08-03T12:05:36.995Z"
   },
   {
    "duration": 471,
    "start_time": "2023-08-03T12:05:37.865Z"
   },
   {
    "duration": 22,
    "start_time": "2023-08-03T12:05:38.339Z"
   },
   {
    "duration": 352,
    "start_time": "2023-08-03T12:05:39.457Z"
   },
   {
    "duration": 269,
    "start_time": "2023-08-03T12:05:39.895Z"
   },
   {
    "duration": 25,
    "start_time": "2023-08-03T12:05:40.295Z"
   },
   {
    "duration": 51,
    "start_time": "2023-08-03T12:05:40.935Z"
   },
   {
    "duration": 20,
    "start_time": "2023-08-03T12:05:41.647Z"
   },
   {
    "duration": 3,
    "start_time": "2023-08-03T12:05:42.082Z"
   },
   {
    "duration": 3,
    "start_time": "2023-08-03T12:05:42.869Z"
   },
   {
    "duration": 3,
    "start_time": "2023-08-03T12:05:43.553Z"
   },
   {
    "duration": 64,
    "start_time": "2023-08-03T12:05:43.785Z"
   },
   {
    "duration": 17,
    "start_time": "2023-08-03T12:05:44.867Z"
   },
   {
    "duration": 3,
    "start_time": "2023-08-03T12:05:47.325Z"
   },
   {
    "duration": 2,
    "start_time": "2023-08-03T12:05:48.592Z"
   },
   {
    "duration": 14,
    "start_time": "2023-08-03T12:05:49.037Z"
   },
   {
    "duration": 71,
    "start_time": "2023-08-03T12:05:49.452Z"
   },
   {
    "duration": 18,
    "start_time": "2023-08-03T12:05:49.934Z"
   },
   {
    "duration": 415,
    "start_time": "2023-08-03T12:05:50.347Z"
   },
   {
    "duration": 96,
    "start_time": "2023-08-03T12:05:50.799Z"
   },
   {
    "duration": 110,
    "start_time": "2023-08-03T12:05:55.442Z"
   },
   {
    "duration": 72331,
    "start_time": "2023-08-03T12:09:31.286Z"
   },
   {
    "duration": 34,
    "start_time": "2023-08-03T12:11:18.704Z"
   },
   {
    "duration": 76799,
    "start_time": "2023-08-03T12:12:29.398Z"
   },
   {
    "duration": 77429,
    "start_time": "2023-08-03T12:14:25.560Z"
   },
   {
    "duration": 80045,
    "start_time": "2023-08-03T12:17:05.329Z"
   },
   {
    "duration": 9708,
    "start_time": "2023-08-03T12:20:02.572Z"
   },
   {
    "duration": 27960,
    "start_time": "2023-08-03T12:23:52.326Z"
   },
   {
    "duration": 203,
    "start_time": "2023-08-03T12:25:51.128Z"
   },
   {
    "duration": 65196,
    "start_time": "2023-08-03T12:26:16.181Z"
   },
   {
    "duration": 20,
    "start_time": "2023-08-03T12:29:12.343Z"
   },
   {
    "duration": 149921,
    "start_time": "2023-08-03T12:31:43.247Z"
   },
   {
    "duration": 1109,
    "start_time": "2023-08-03T12:34:18.334Z"
   },
   {
    "duration": 5,
    "start_time": "2023-08-03T12:42:55.059Z"
   },
   {
    "duration": 4334,
    "start_time": "2023-08-03T12:56:11.493Z"
   },
   {
    "duration": 1120,
    "start_time": "2023-08-03T12:56:17.429Z"
   },
   {
    "duration": 148,
    "start_time": "2023-08-03T12:56:19.980Z"
   },
   {
    "duration": 32,
    "start_time": "2023-08-03T12:56:20.450Z"
   },
   {
    "duration": 297,
    "start_time": "2023-08-03T12:56:22.027Z"
   },
   {
    "duration": 137,
    "start_time": "2023-08-03T12:56:24.047Z"
   },
   {
    "duration": 9,
    "start_time": "2023-08-03T12:56:25.008Z"
   },
   {
    "duration": 186,
    "start_time": "2023-08-03T12:56:27.685Z"
   },
   {
    "duration": 258,
    "start_time": "2023-08-03T12:56:28.190Z"
   },
   {
    "duration": 259,
    "start_time": "2023-08-03T12:56:37.144Z"
   },
   {
    "duration": 237,
    "start_time": "2023-08-03T12:56:37.704Z"
   },
   {
    "duration": 392,
    "start_time": "2023-08-03T12:56:39.207Z"
   },
   {
    "duration": 50,
    "start_time": "2023-08-03T12:56:40.433Z"
   },
   {
    "duration": 50,
    "start_time": "2023-08-03T12:56:40.988Z"
   },
   {
    "duration": 21,
    "start_time": "2023-08-03T12:56:42.227Z"
   },
   {
    "duration": 75,
    "start_time": "2023-08-03T12:56:43.323Z"
   },
   {
    "duration": 77,
    "start_time": "2023-08-03T12:56:43.839Z"
   },
   {
    "duration": 159,
    "start_time": "2023-08-03T12:56:45.178Z"
   },
   {
    "duration": 351,
    "start_time": "2023-08-03T12:56:45.691Z"
   },
   {
    "duration": 73,
    "start_time": "2023-08-03T12:56:47.510Z"
   },
   {
    "duration": 487,
    "start_time": "2023-08-03T12:56:49.303Z"
   },
   {
    "duration": 26,
    "start_time": "2023-08-03T12:56:50.342Z"
   },
   {
    "duration": 473,
    "start_time": "2023-08-03T12:56:51.756Z"
   },
   {
    "duration": 25,
    "start_time": "2023-08-03T12:56:52.232Z"
   },
   {
    "duration": 300,
    "start_time": "2023-08-03T12:56:53.500Z"
   },
   {
    "duration": 263,
    "start_time": "2023-08-03T12:56:53.942Z"
   },
   {
    "duration": 20,
    "start_time": "2023-08-03T12:56:54.477Z"
   },
   {
    "duration": 59,
    "start_time": "2023-08-03T12:56:55.228Z"
   },
   {
    "duration": 30,
    "start_time": "2023-08-03T12:56:56.101Z"
   },
   {
    "duration": 3,
    "start_time": "2023-08-03T12:56:56.500Z"
   },
   {
    "duration": 6,
    "start_time": "2023-08-03T12:56:57.707Z"
   },
   {
    "duration": 5,
    "start_time": "2023-08-03T12:56:58.569Z"
   },
   {
    "duration": 83,
    "start_time": "2023-08-03T12:56:59.041Z"
   },
   {
    "duration": 19,
    "start_time": "2023-08-03T12:57:00.746Z"
   },
   {
    "duration": 4,
    "start_time": "2023-08-03T12:57:03.529Z"
   },
   {
    "duration": 3,
    "start_time": "2023-08-03T12:57:07.957Z"
   },
   {
    "duration": 15,
    "start_time": "2023-08-03T12:57:08.500Z"
   },
   {
    "duration": 83,
    "start_time": "2023-08-03T12:57:08.953Z"
   },
   {
    "duration": 14,
    "start_time": "2023-08-03T12:57:09.542Z"
   },
   {
    "duration": 490,
    "start_time": "2023-08-03T12:57:10.145Z"
   },
   {
    "duration": 100,
    "start_time": "2023-08-03T12:57:10.703Z"
   },
   {
    "duration": 93,
    "start_time": "2023-08-03T12:57:19.700Z"
   },
   {
    "duration": 150725,
    "start_time": "2023-08-03T12:57:29.224Z"
   },
   {
    "duration": 1236,
    "start_time": "2023-08-03T13:00:09.354Z"
   },
   {
    "duration": 3934,
    "start_time": "2023-08-03T13:08:50.154Z"
   },
   {
    "duration": 1199,
    "start_time": "2023-08-03T13:08:55.655Z"
   },
   {
    "duration": 124,
    "start_time": "2023-08-03T13:08:58.438Z"
   },
   {
    "duration": 29,
    "start_time": "2023-08-03T13:08:59.096Z"
   },
   {
    "duration": 288,
    "start_time": "2023-08-03T13:09:00.069Z"
   },
   {
    "duration": 125,
    "start_time": "2023-08-03T13:09:01.626Z"
   },
   {
    "duration": 2,
    "start_time": "2023-08-03T13:09:02.551Z"
   },
   {
    "duration": 187,
    "start_time": "2023-08-03T13:09:05.192Z"
   },
   {
    "duration": 275,
    "start_time": "2023-08-03T13:09:05.653Z"
   },
   {
    "duration": 253,
    "start_time": "2023-08-03T13:09:06.031Z"
   },
   {
    "duration": 260,
    "start_time": "2023-08-03T13:09:06.442Z"
   },
   {
    "duration": 339,
    "start_time": "2023-08-03T13:09:06.801Z"
   },
   {
    "duration": 57,
    "start_time": "2023-08-03T13:09:08.394Z"
   },
   {
    "duration": 43,
    "start_time": "2023-08-03T13:09:08.789Z"
   },
   {
    "duration": 21,
    "start_time": "2023-08-03T13:09:09.328Z"
   },
   {
    "duration": 74,
    "start_time": "2023-08-03T13:09:10.332Z"
   },
   {
    "duration": 70,
    "start_time": "2023-08-03T13:09:10.727Z"
   },
   {
    "duration": 161,
    "start_time": "2023-08-03T13:09:12.844Z"
   },
   {
    "duration": 336,
    "start_time": "2023-08-03T13:09:13.307Z"
   },
   {
    "duration": 70,
    "start_time": "2023-08-03T13:09:14.846Z"
   },
   {
    "duration": 401,
    "start_time": "2023-08-03T13:09:16.686Z"
   },
   {
    "duration": 27,
    "start_time": "2023-08-03T13:09:17.723Z"
   },
   {
    "duration": 411,
    "start_time": "2023-08-03T13:09:18.926Z"
   },
   {
    "duration": 23,
    "start_time": "2023-08-03T13:09:19.340Z"
   },
   {
    "duration": 260,
    "start_time": "2023-08-03T13:09:20.586Z"
   },
   {
    "duration": 257,
    "start_time": "2023-08-03T13:09:20.971Z"
   },
   {
    "duration": 22,
    "start_time": "2023-08-03T13:09:21.339Z"
   },
   {
    "duration": 48,
    "start_time": "2023-08-03T13:09:22.439Z"
   },
   {
    "duration": 22,
    "start_time": "2023-08-03T13:09:23.279Z"
   },
   {
    "duration": 3,
    "start_time": "2023-08-03T13:09:23.651Z"
   },
   {
    "duration": 3,
    "start_time": "2023-08-03T13:09:25.027Z"
   },
   {
    "duration": 3,
    "start_time": "2023-08-03T13:09:25.871Z"
   },
   {
    "duration": 54,
    "start_time": "2023-08-03T13:09:26.301Z"
   },
   {
    "duration": 14,
    "start_time": "2023-08-03T13:09:27.927Z"
   },
   {
    "duration": 3,
    "start_time": "2023-08-03T13:09:32.332Z"
   },
   {
    "duration": 4,
    "start_time": "2023-08-03T13:09:36.864Z"
   },
   {
    "duration": 12,
    "start_time": "2023-08-03T13:09:37.271Z"
   },
   {
    "duration": 51,
    "start_time": "2023-08-03T13:09:37.740Z"
   },
   {
    "duration": 21,
    "start_time": "2023-08-03T13:09:38.909Z"
   },
   {
    "duration": 394,
    "start_time": "2023-08-03T13:09:40.555Z"
   },
   {
    "duration": 93,
    "start_time": "2023-08-03T13:09:41.787Z"
   },
   {
    "duration": 122,
    "start_time": "2023-08-03T13:09:48.810Z"
   },
   {
    "duration": 150296,
    "start_time": "2023-08-03T13:09:59.169Z"
   },
   {
    "duration": 1039,
    "start_time": "2023-08-03T13:12:37.412Z"
   },
   {
    "duration": 4034,
    "start_time": "2023-08-03T13:30:36.342Z"
   },
   {
    "duration": 1123,
    "start_time": "2023-08-03T13:30:43.900Z"
   },
   {
    "duration": 130,
    "start_time": "2023-08-03T13:30:48.041Z"
   },
   {
    "duration": 22,
    "start_time": "2023-08-03T13:30:48.274Z"
   },
   {
    "duration": 301,
    "start_time": "2023-08-03T13:30:49.498Z"
   },
   {
    "duration": 181,
    "start_time": "2023-08-03T13:30:50.700Z"
   },
   {
    "duration": 5,
    "start_time": "2023-08-03T13:30:51.355Z"
   },
   {
    "duration": 194,
    "start_time": "2023-08-03T13:30:53.428Z"
   },
   {
    "duration": 246,
    "start_time": "2023-08-03T13:30:54.156Z"
   },
   {
    "duration": 262,
    "start_time": "2023-08-03T13:30:54.478Z"
   },
   {
    "duration": 239,
    "start_time": "2023-08-03T13:30:54.965Z"
   },
   {
    "duration": 321,
    "start_time": "2023-08-03T13:30:55.305Z"
   },
   {
    "duration": 62,
    "start_time": "2023-08-03T13:30:55.777Z"
   },
   {
    "duration": 47,
    "start_time": "2023-08-03T13:30:56.270Z"
   },
   {
    "duration": 34,
    "start_time": "2023-08-03T13:30:56.796Z"
   },
   {
    "duration": 79,
    "start_time": "2023-08-03T13:30:57.295Z"
   },
   {
    "duration": 68,
    "start_time": "2023-08-03T13:30:57.728Z"
   },
   {
    "duration": 160,
    "start_time": "2023-08-03T13:30:58.193Z"
   },
   {
    "duration": 325,
    "start_time": "2023-08-03T13:30:58.457Z"
   },
   {
    "duration": 62,
    "start_time": "2023-08-03T13:30:59.534Z"
   },
   {
    "duration": 465,
    "start_time": "2023-08-03T13:31:00.570Z"
   },
   {
    "duration": 25,
    "start_time": "2023-08-03T13:31:01.241Z"
   },
   {
    "duration": 464,
    "start_time": "2023-08-03T13:31:02.099Z"
   },
   {
    "duration": 21,
    "start_time": "2023-08-03T13:31:02.565Z"
   },
   {
    "duration": 261,
    "start_time": "2023-08-03T13:31:03.545Z"
   },
   {
    "duration": 284,
    "start_time": "2023-08-03T13:31:03.808Z"
   },
   {
    "duration": 34,
    "start_time": "2023-08-03T13:31:04.094Z"
   },
   {
    "duration": 48,
    "start_time": "2023-08-03T13:31:04.693Z"
   },
   {
    "duration": 26,
    "start_time": "2023-08-03T13:31:05.137Z"
   },
   {
    "duration": 3,
    "start_time": "2023-08-03T13:31:05.473Z"
   },
   {
    "duration": 3,
    "start_time": "2023-08-03T13:31:06.503Z"
   },
   {
    "duration": 4,
    "start_time": "2023-08-03T13:31:06.963Z"
   },
   {
    "duration": 46,
    "start_time": "2023-08-03T13:31:07.426Z"
   },
   {
    "duration": 18,
    "start_time": "2023-08-03T13:31:08.402Z"
   },
   {
    "duration": 6,
    "start_time": "2023-08-03T13:31:10.006Z"
   },
   {
    "duration": 4,
    "start_time": "2023-08-03T13:31:10.951Z"
   },
   {
    "duration": 14,
    "start_time": "2023-08-03T13:31:11.264Z"
   },
   {
    "duration": 53,
    "start_time": "2023-08-03T13:31:11.729Z"
   },
   {
    "duration": 12,
    "start_time": "2023-08-03T13:31:11.975Z"
   },
   {
    "duration": 418,
    "start_time": "2023-08-03T13:31:12.213Z"
   },
   {
    "duration": 105,
    "start_time": "2023-08-03T13:31:12.633Z"
   },
   {
    "duration": 94,
    "start_time": "2023-08-03T13:31:14.579Z"
   },
   {
    "duration": 150857,
    "start_time": "2023-08-03T13:31:17.244Z"
   },
   {
    "duration": 1132,
    "start_time": "2023-08-03T13:33:48.108Z"
   },
   {
    "duration": 256,
    "start_time": "2023-08-03T13:34:18.738Z"
   },
   {
    "duration": 1278838,
    "start_time": "2023-08-03T13:34:37.395Z"
   },
   {
    "duration": 355,
    "start_time": "2023-08-03T13:58:34.070Z"
   },
   {
    "duration": 60288,
    "start_time": "2023-08-03T13:58:50.384Z"
   },
   {
    "duration": 32,
    "start_time": "2023-08-03T14:00:25.289Z"
   },
   {
    "duration": 11,
    "start_time": "2023-08-03T14:10:01.393Z"
   }
  ],
  "kernelspec": {
   "display_name": "Python 3 (ipykernel)",
   "language": "python",
   "name": "python3"
  },
  "language_info": {
   "codemirror_mode": {
    "name": "ipython",
    "version": 3
   },
   "file_extension": ".py",
   "mimetype": "text/x-python",
   "name": "python",
   "nbconvert_exporter": "python",
   "pygments_lexer": "ipython3",
   "version": "3.9.5"
  },
  "toc": {
   "base_numbering": 1,
   "nav_menu": {},
   "number_sections": true,
   "sideBar": true,
   "skip_h1_title": true,
   "title_cell": "Table of Contents",
   "title_sidebar": "Contents",
   "toc_cell": false,
   "toc_position": {
    "height": "calc(100% - 180px)",
    "left": "10px",
    "top": "150px",
    "width": "165px"
   },
   "toc_section_display": true,
   "toc_window_display": false
  }
 },
 "nbformat": 4,
 "nbformat_minor": 4
}
