{
 "cells": [
  {
   "cell_type": "markdown",
   "metadata": {},
   "source": [
    "<font color='blue' size=5><b>Комментарий ревьюера</b></font>\n",
    "\n",
    "<font color='blue'>Привет, Вячеслав! Меня зовут Павел Григорьев, и я буду проверять этот проект.<br>Моя основная цель - не указать на совершённые тобой ошибки, а поделиться своим опытом и помочь тебе совершенствоваться как профессионалу.<br>Спасибо за проделанную работу! Предлагаю общаться на «ты».</font>\n",
    "<details>\n",
    "\t<summary><u>Инструкция по организационным моментам (кликабельно)</u></summary>\n",
    "<font color='blue'>Я буду использовать различные цвета, чтобы было удобнее воспринимать мои комментарии:</font>\n",
    "\n",
    "\n",
    "---\n",
    "\n",
    "\n",
    "<font color='blue'>синий текст - просто текст комментария</font>\n",
    "\n",
    "<font color='green'>✔️ и зеленый текст - все отлично</font>\n",
    "\n",
    "<font color='orange'>⚠️ и оранжевый текст - сделано все правильно, однако есть рекомендации, на что стоит обратить внимание</font>\n",
    "\n",
    "<font color='red'>❌ и красный текст - есть недочеты</font>\n",
    "\n",
    "\n",
    "</details>    \n",
    "    </br>\n",
    "<font color='blue'>Пожалуйста, не удаляй мои комментарии в случае возврата работы, так будет проще разобраться, какие были недочеты, а также сразу увидеть исправленное. </font>\n",
    "\n",
    "Ответы на мои комментарии лучше тоже помечать.\n",
    "Например: <font color='purple'><b>Комментарий студента</b></font>\n",
    "\n",
    "<font color='blue'><b>Давай смотреть, что получилось!</b></font>"
   ]
  },
  {
   "cell_type": "markdown",
   "metadata": {},
   "source": [
    "<font color='blue' size=3><b>Комментарий ревьюера 2</b></font>\n",
    "\n",
    "<font color='blue'>Привет еще раз. Спасибо, за исправления. Оформление комментариев по работе сохраняется. Только обозначим, что это вторая итерация.</font>"
   ]
  },
  {
   "cell_type": "markdown",
   "metadata": {},
   "source": [
    "<br/>    \n",
    "<div class=\"alert alert-info\">\n",
    "<h2> Комментарий студента 2: <a class=\"tocSkip\"> </h2>\n",
    "\n",
    "<b>👋:</b> Привет! На 2-й итерации в проекте осталось только одно замечаение: \"Код должен работать независимо от того есть доступ к GPU или нет\". Оно исправлено: **код стал универсальным (работает как с cuda, так и на cpu). Проверял и на коллабе, и локально на своем компе**. Без gpu, разумеется, существенно (**в разы**) дольше, поэтому очень сомневаюсь, что есть хоть какой-то смысл решать подобные задачи на cpu. **На платформе Практикума проверять смысла нет**: тех ресурсов, что в нее заложены, явно не хватает. В результате умирает ядро. Поэтому, если ты будешь запускать код, запускай локально. Иначе вся эта история вполне будет выглядеть как совершенно необоснованная придирка. А здесь все-таки речь про платные услуги и не сильно дешевые)))\n",
    "</div> \n",
    "\n",
    "<br/>    "
   ]
  },
  {
   "cell_type": "markdown",
   "metadata": {},
   "source": [
    "<font color='blue' size=3><b>Комментарий ревьюера 3</b></font>\n",
    "\n",
    "<font color='blue'>Привет еще раз. Спасибо, за исправления. Оформление комментариев по работе сохраняется. \\\n",
    "Воспроизводимость кода - это одно из главных требований к коду. Так же, условие 'Весь код выполняется без ошибок', идёт вторым пунктом в Чек листе. </font>"
   ]
  },
  {
   "cell_type": "markdown",
   "metadata": {
    "toc": true
   },
   "source": [
    "<h1>Содержание<span class=\"tocSkip\"></span></h1>\n",
    "<div class=\"toc\"><ul class=\"toc-item\"><li><span><a href=\"#Подготовка\" data-toc-modified-id=\"Подготовка-1\"><span class=\"toc-item-num\">1&nbsp;&nbsp;</span>Подготовка</a></span></li><li><span><a href=\"#Обучение\" data-toc-modified-id=\"Обучение-2\"><span class=\"toc-item-num\">2&nbsp;&nbsp;</span>Обучение</a></span></li><li><span><a href=\"#Вывод\" data-toc-modified-id=\"Вывод-3\"><span class=\"toc-item-num\">3&nbsp;&nbsp;</span>Вывод</a></span></li><li><span><a href=\"#Чек-лист-проверки\" data-toc-modified-id=\"Чек-лист-проверки-4\"><span class=\"toc-item-num\">4&nbsp;&nbsp;</span>Чек-лист проверки</a></span></li></ul></div>"
   ]
  },
  {
   "cell_type": "markdown",
   "metadata": {},
   "source": [
    "# Проект для «Викишоп» с BERT"
   ]
  },
  {
   "cell_type": "markdown",
   "metadata": {},
   "source": [
    "**Цель исследования**\n",
    "\n",
    "- для интернет-магазина «Викишоп» обучить модель классифицировать комментарии на позитивные и негативные для осуществления поиска токсичных комментариев и отправки их на модерацию.\n",
    "\n",
    "**Описание данных:**\n",
    "\n",
    "для проведения анализа представлен файл, содержащий комментарии пользователей интернет-магазина:\n",
    "\n",
    "- */datasets/toxic_comments.csv*.\n",
    "\n",
    "**Столбец text в нём содержит текст комментария, а toxic — целевой признак.**\n",
    "\n",
    "**Заказчику важны:**\n",
    "\n",
    "- значение метрики качества F1 должно быть не меньше 0.75.\n",
    "\n",
    "**План работы:**\n",
    "\n",
    "1. загрузить и подготовить данные;\n",
    "2. обучить разные модели;\n",
    "3. написать общий вывод.   "
   ]
  },
  {
   "cell_type": "markdown",
   "metadata": {},
   "source": [
    "## Подготовка"
   ]
  },
  {
   "cell_type": "code",
   "execution_count": 1,
   "metadata": {},
   "outputs": [],
   "source": [
    "# импортируем нужные библиотеки\n",
    "import numpy as np\n",
    "import pandas as pd\n",
    "import matplotlib.pyplot as plt\n",
    "import torch\n",
    "import random\n",
    "import transformers\n",
    "from transformers import (BertModel, AutoTokenizer, AutoModel)\n",
    "from tqdm import notebook\n",
    "from sklearn.linear_model import LogisticRegression\n",
    "from catboost import Pool, CatBoostClassifier, cv\n",
    "from lightgbm import LGBMClassifier\n",
    "from sklearn.ensemble import RandomForestClassifier\n",
    "from sklearn.model_selection import (GridSearchCV, train_test_split, cross_val_score)\n",
    "from sklearn.metrics import f1_score"
   ]
  },
  {
   "cell_type": "markdown",
   "metadata": {},
   "source": [
    "<font color='blue'><b>Комментарий ревьюера: </b></font> ✔️\\\n",
    "<font color='green'> Хорошее оформление импортов! \\\n",
    "Импорты собраны в одной ячейке, сгрупированы по функциональности. Можно ещё разделить группы пустой строкой.</font>"
   ]
  },
  {
   "cell_type": "code",
   "execution_count": 2,
   "metadata": {},
   "outputs": [
    {
     "data": {
      "text/plain": [
       "True"
      ]
     },
     "execution_count": 2,
     "metadata": {},
     "output_type": "execute_result"
    }
   ],
   "source": [
    "# проверяем доступность cuda\n",
    "torch.cuda.is_available()"
   ]
  },
  {
   "cell_type": "code",
   "execution_count": 3,
   "metadata": {},
   "outputs": [
    {
     "name": "stdout",
     "output_type": "stream",
     "text": [
      "<class 'pandas.core.frame.DataFrame'>\n",
      "RangeIndex: 159292 entries, 0 to 159291\n",
      "Data columns (total 3 columns):\n",
      " #   Column      Non-Null Count   Dtype \n",
      "---  ------      --------------   ----- \n",
      " 0   Unnamed: 0  159292 non-null  int64 \n",
      " 1   text        159292 non-null  object\n",
      " 2   toxic       159292 non-null  int64 \n",
      "dtypes: int64(2), object(1)\n",
      "memory usage: 3.6+ MB\n"
     ]
    }
   ],
   "source": [
    "# загружаем данные из файла в датафрейм и выводим основную информацию о датафрейме с помощью метода info()\n",
    "data = pd.read_csv('https://code.s3.yandex.net/datasets/toxic_comments.csv')\n",
    "data.info()"
   ]
  },
  {
   "cell_type": "markdown",
   "metadata": {},
   "source": [
    "<font color='blue'><b>Комментарий ревьюера: </b></font> ❌\\\n",
    "<font color='red'><s> Данные должны загружаться у тех кому ты демонстрируешь свою работу.</s></font>"
   ]
  },
  {
   "cell_type": "markdown",
   "metadata": {},
   "source": [
    "<font color='blue'><b>Комментарий ревьюера: </b></font> ⚠️\\\n",
    "<font color='darkorange'> Данные Практикума можно загружать напрямую с базы:\\\n",
    "`data = pd.read_csv('https://code.s3.yandex.net/datasets/toxic_comments.csv')`</font>"
   ]
  },
  {
   "cell_type": "markdown",
   "metadata": {},
   "source": [
    "<br/>    \n",
    "<div class=\"alert alert-info\">\n",
    "<h2> Комментарий студента: <a class=\"tocSkip\"> </h2>\n",
    "\n",
    "<b>👋:</b> У меня не было такой ссылки. В принципе не знал, что она есть) Но теперь знаю, исправил\n",
    "</div> \n",
    "\n",
    "<br/>    "
   ]
  },
  {
   "cell_type": "markdown",
   "metadata": {},
   "source": [
    "<font color='blue'><b>Комментарий ревьюера 2: </b></font> ✔️\\\n",
    "<font color='green'>Можно сделать несколько вариантов загрузки, с библиотекой os или конструкцией try: except:</font>"
   ]
  },
  {
   "cell_type": "markdown",
   "metadata": {},
   "source": [
    "Как видим, в нашем датафрейме 3 столбца и 159 292 строк. Значения в столбце toxic (целевой признак) выражены целочисленным типом, значения в столбце text (т.е. сами сообщения) - строковым. В столбце Unnamed порядковые номера сообщений, они выражены целочисленным типом. Типы данных выбраны верно, здесь мы менять ничего не будем. Теперь посмотрим на распределение целевого признака, затем выведем 15 строчек нашего датафрейма на экран, а также проверим на наличие пропусков и дубликатов. "
   ]
  },
  {
   "cell_type": "code",
   "execution_count": 4,
   "metadata": {},
   "outputs": [
    {
     "data": {
      "text/plain": [
       "Text(0.5, 1.0, 'Распределение целевого признака')"
      ]
     },
     "execution_count": 4,
     "metadata": {},
     "output_type": "execute_result"
    },
    {
     "data": {
      "image/png": "[encoded data removed]",
      "text/plain": [
       "<Figure size 700x500 with 1 Axes>"
      ]
     },
     "metadata": {},
     "output_type": "display_data"
    }
   ],
   "source": [
    "# построим гистограмму распределения целевого признака\n",
    "data['toxic'].hist(figsize=(7, 5), ec='black')\n",
    "plt.title('Распределение целевого признака')"
   ]
  },
  {
   "cell_type": "markdown",
   "metadata": {},
   "source": [
    "На графике видно, что значений 1 существенно меньше, чем 0. Т.е. имеется бисбаланс классов."
   ]
  },
  {
   "cell_type": "markdown",
   "metadata": {},
   "source": [
    "<font color='blue'><b>Комментарий ревьюера: </b></font> ✔️\\\n",
    "<font color='green'> Мы обнаружили серьёзный дисбаланс при исследовании данных. Как дополнительные материалы, рекомендую статью <a href='https://dyakonov.org/2021/05/27/imbalance/'>Дисбаланс классов</a>, очень классная, как и весь блог Дьяконова. Ещё такой <a href='https://github.com/Dyakonov/ml_hacks/blob/master/book_disbalance_public_v1.ipynb'>ноутбук</a> есть.</font>"
   ]
  },
  {
   "cell_type": "markdown",
   "metadata": {},
   "source": [
    "<br/>    \n",
    "<div class=\"alert alert-info\">\n",
    "<h2> Комментарий студента: <a class=\"tocSkip\"> </h2>\n",
    "\n",
    "<b>👋:</b> Спасибо за доп. материалы!\n",
    "</div> \n",
    "\n",
    "<br/>    "
   ]
  },
  {
   "cell_type": "code",
   "execution_count": 5,
   "metadata": {
    "tags": []
   },
   "outputs": [
    {
     "data": {
      "text/html": [
       "<div>\n",
       "<style scoped>\n",
       "    .dataframe tbody tr th:only-of-type {\n",
       "        vertical-align: middle;\n",
       "    }\n",
       "\n",
       "    .dataframe tbody tr th {\n",
       "        vertical-align: top;\n",
       "    }\n",
       "\n",
       "    .dataframe thead th {\n",
       "        text-align: right;\n",
       "    }\n",
       "</style>\n",
       "<table border=\"1\" class=\"dataframe\">\n",
       "  <thead>\n",
       "    <tr style=\"text-align: right;\">\n",
       "      <th></th>\n",
       "      <th>Unnamed: 0</th>\n",
       "      <th>text</th>\n",
       "      <th>toxic</th>\n",
       "    </tr>\n",
       "  </thead>\n",
       "  <tbody>\n",
       "    <tr>\n",
       "      <th>0</th>\n",
       "      <td>0</td>\n",
       "      <td>Explanation\\nWhy the edits made under my usern...</td>\n",
       "      <td>0</td>\n",
       "    </tr>\n",
       "    <tr>\n",
       "      <th>1</th>\n",
       "      <td>1</td>\n",
       "      <td>D'aww! He matches this background colour I'm s...</td>\n",
       "      <td>0</td>\n",
       "    </tr>\n",
       "    <tr>\n",
       "      <th>2</th>\n",
       "      <td>2</td>\n",
       "      <td>Hey man, I'm really not trying to edit war. It...</td>\n",
       "      <td>0</td>\n",
       "    </tr>\n",
       "    <tr>\n",
       "      <th>3</th>\n",
       "      <td>3</td>\n",
       "      <td>\"\\nMore\\nI can't make any real suggestions on ...</td>\n",
       "      <td>0</td>\n",
       "    </tr>\n",
       "    <tr>\n",
       "      <th>4</th>\n",
       "      <td>4</td>\n",
       "      <td>You, sir, are my hero. Any chance you remember...</td>\n",
       "      <td>0</td>\n",
       "    </tr>\n",
       "    <tr>\n",
       "      <th>5</th>\n",
       "      <td>5</td>\n",
       "      <td>\"\\n\\nCongratulations from me as well, use the ...</td>\n",
       "      <td>0</td>\n",
       "    </tr>\n",
       "    <tr>\n",
       "      <th>6</th>\n",
       "      <td>6</td>\n",
       "      <td>COCKSUCKER BEFORE YOU PISS AROUND ON MY WORK</td>\n",
       "      <td>1</td>\n",
       "    </tr>\n",
       "    <tr>\n",
       "      <th>7</th>\n",
       "      <td>7</td>\n",
       "      <td>Your vandalism to the Matt Shirvington article...</td>\n",
       "      <td>0</td>\n",
       "    </tr>\n",
       "    <tr>\n",
       "      <th>8</th>\n",
       "      <td>8</td>\n",
       "      <td>Sorry if the word 'nonsense' was offensive to ...</td>\n",
       "      <td>0</td>\n",
       "    </tr>\n",
       "    <tr>\n",
       "      <th>9</th>\n",
       "      <td>9</td>\n",
       "      <td>alignment on this subject and which are contra...</td>\n",
       "      <td>0</td>\n",
       "    </tr>\n",
       "    <tr>\n",
       "      <th>10</th>\n",
       "      <td>10</td>\n",
       "      <td>\"\\nFair use rationale for Image:Wonju.jpg\\n\\nT...</td>\n",
       "      <td>0</td>\n",
       "    </tr>\n",
       "    <tr>\n",
       "      <th>11</th>\n",
       "      <td>11</td>\n",
       "      <td>bbq \\n\\nbe a man and lets discuss it-maybe ove...</td>\n",
       "      <td>0</td>\n",
       "    </tr>\n",
       "    <tr>\n",
       "      <th>12</th>\n",
       "      <td>12</td>\n",
       "      <td>Hey... what is it..\\n@ | talk .\\nWhat is it......</td>\n",
       "      <td>1</td>\n",
       "    </tr>\n",
       "    <tr>\n",
       "      <th>13</th>\n",
       "      <td>13</td>\n",
       "      <td>Before you start throwing accusations and warn...</td>\n",
       "      <td>0</td>\n",
       "    </tr>\n",
       "    <tr>\n",
       "      <th>14</th>\n",
       "      <td>14</td>\n",
       "      <td>Oh, and the girl above started her arguments w...</td>\n",
       "      <td>0</td>\n",
       "    </tr>\n",
       "  </tbody>\n",
       "</table>\n",
       "</div>"
      ],
      "text/plain": [
       "    Unnamed: 0                                               text  toxic\n",
       "0            0  Explanation\\nWhy the edits made under my usern...      0\n",
       "1            1  D'aww! He matches this background colour I'm s...      0\n",
       "2            2  Hey man, I'm really not trying to edit war. It...      0\n",
       "3            3  \"\\nMore\\nI can't make any real suggestions on ...      0\n",
       "4            4  You, sir, are my hero. Any chance you remember...      0\n",
       "5            5  \"\\n\\nCongratulations from me as well, use the ...      0\n",
       "6            6       COCKSUCKER BEFORE YOU PISS AROUND ON MY WORK      1\n",
       "7            7  Your vandalism to the Matt Shirvington article...      0\n",
       "8            8  Sorry if the word 'nonsense' was offensive to ...      0\n",
       "9            9  alignment on this subject and which are contra...      0\n",
       "10          10  \"\\nFair use rationale for Image:Wonju.jpg\\n\\nT...      0\n",
       "11          11  bbq \\n\\nbe a man and lets discuss it-maybe ove...      0\n",
       "12          12  Hey... what is it..\\n@ | talk .\\nWhat is it......      1\n",
       "13          13  Before you start throwing accusations and warn...      0\n",
       "14          14  Oh, and the girl above started her arguments w...      0"
      ]
     },
     "execution_count": 5,
     "metadata": {},
     "output_type": "execute_result"
    }
   ],
   "source": [
    "# выведем первые 15 строк датафрейма на экран\n",
    "data.head(15)"
   ]
  },
  {
   "cell_type": "markdown",
   "metadata": {},
   "source": [
    "В столбце text - сообщения, в столбце toxic - их отношение к позитивным или негативным (о или 1). В выведенном на экран фрагменте пропуски отсутствуют. "
   ]
  },
  {
   "cell_type": "code",
   "execution_count": 6,
   "metadata": {},
   "outputs": [
    {
     "data": {
      "text/html": [
       "<style type=\"text/css\">\n",
       "#T_d49ff_row0_col0, #T_d49ff_row1_col0, #T_d49ff_row2_col0 {\n",
       "  background-color: #3b4cc0;\n",
       "  color: #f1f1f1;\n",
       "}\n",
       "</style>\n",
       "<table id=\"T_d49ff\">\n",
       "  <thead>\n",
       "    <tr>\n",
       "      <th class=\"blank level0\" >&nbsp;</th>\n",
       "      <th id=\"T_d49ff_level0_col0\" class=\"col_heading level0 col0\" >0</th>\n",
       "    </tr>\n",
       "  </thead>\n",
       "  <tbody>\n",
       "    <tr>\n",
       "      <th id=\"T_d49ff_level0_row0\" class=\"row_heading level0 row0\" >Unnamed: 0</th>\n",
       "      <td id=\"T_d49ff_row0_col0\" class=\"data row0 col0\" >0.000000</td>\n",
       "    </tr>\n",
       "    <tr>\n",
       "      <th id=\"T_d49ff_level0_row1\" class=\"row_heading level0 row1\" >text</th>\n",
       "      <td id=\"T_d49ff_row1_col0\" class=\"data row1 col0\" >0.000000</td>\n",
       "    </tr>\n",
       "    <tr>\n",
       "      <th id=\"T_d49ff_level0_row2\" class=\"row_heading level0 row2\" >toxic</th>\n",
       "      <td id=\"T_d49ff_row2_col0\" class=\"data row2 col0\" >0.000000</td>\n",
       "    </tr>\n",
       "  </tbody>\n",
       "</table>\n"
      ],
      "text/plain": [
       "<pandas.io.formats.style.Styler at 0x1bf7765f880>"
      ]
     },
     "execution_count": 6,
     "metadata": {},
     "output_type": "execute_result"
    }
   ],
   "source": [
    "# проверим количество пропусков в %\n",
    "pd.DataFrame(round(data.isna().mean()*100,).sort_values(ascending=False)).style.background_gradient('coolwarm')"
   ]
  },
  {
   "cell_type": "code",
   "execution_count": 7,
   "metadata": {},
   "outputs": [
    {
     "data": {
      "text/plain": [
       "0"
      ]
     },
     "execution_count": 7,
     "metadata": {},
     "output_type": "execute_result"
    }
   ],
   "source": [
    "# проверим на наличие явных дубликатов\n",
    "data.duplicated().sum()"
   ]
  },
  {
   "cell_type": "markdown",
   "metadata": {},
   "source": [
    "Таким образом, на этапе \"Подготовка\" мы загрузили данные и изучили основнуую информацию о датафрейме: в нашем датафрейме 3 столбца и 159 292 строк. Значения в столбце toxic (целевой признак) выражены целочисленным типом, значения в столбце text (т.е. сами сообщения) - строковым. В столбце Unnamed порядковые номера сообщений, они выражены целочисленным типом. Типы данных выбраны верно. Имеется имеется бисбаланс классов. Пропуски и дубликаты отсутствуют.\n",
    "\n",
    "На следующем шаге мы используем предобученную модель BERT (нейронную сеть для создания модели языка), обучим несколько моделей и сравним значения их метрик качества F1."
   ]
  },
  {
   "cell_type": "markdown",
   "metadata": {},
   "source": [
    "<font color='blue'><b>Комментарий ревьюера: </b></font> ✔️\\\n",
    "<font color='green'>Данные загружены корректно, первичный осмотр проведен.</font>"
   ]
  },
  {
   "cell_type": "markdown",
   "metadata": {},
   "source": [
    "## Обучение"
   ]
  },
  {
   "cell_type": "code",
   "execution_count": 8,
   "metadata": {},
   "outputs": [],
   "source": [
    "# задача учебная, поэтому, чтобы  не создавать эмбеддинги слишком долго, делаем выборку 2 000 случайных объектов\n",
    "ind_2000 = random.sample(list(data.index), 2000)\n",
    "data = data[data.index.isin(ind_2000)].reset_index(drop=True)"
   ]
  },
  {
   "cell_type": "code",
   "execution_count": 9,
   "metadata": {},
   "outputs": [],
   "source": [
    "# инициализируем токенизатор как объект класса BertTokenizer() и передадим ему аргумент \n",
    "#vocab_file (файл со словарём, на котором обучалась модель)\n",
    "#tokenizer = transformers.BertTokenizer(\n",
    "    #vocab_file='D:/vocab.txt')"
   ]
  },
  {
   "cell_type": "markdown",
   "metadata": {},
   "source": [
    "<font color='blue'><b>Комментарий ревьюера: </b></font> ❌\\\n",
    "<font color='red'><s> Так же как и с данными - у меня нет файла 'D:/vocab.txt' я не могу запустить код.</s></font>"
   ]
  },
  {
   "cell_type": "markdown",
   "metadata": {},
   "source": [
    "<font color='blue'><b>Комментарий ревьюера: </b></font> ⚠️\\\n",
    "<font color='darkorange'> Токенизатор можно то же инициировать методом `from_pretrained`</font>"
   ]
  },
  {
   "cell_type": "markdown",
   "metadata": {},
   "source": [
    "<br/>    \n",
    "<div class=\"alert alert-info\">\n",
    "<h2> Комментарий студента: <a class=\"tocSkip\"> </h2>\n",
    "\n",
    "<b>👋:</b> Замечания исправил, см. ниже\n",
    "</div> \n",
    "\n",
    "<br/>    "
   ]
  },
  {
   "cell_type": "markdown",
   "metadata": {},
   "source": [
    "<font color='blue'><b>Комментарий ревьюера 2: </b></font> ✔️\\\n",
    "<font color='green'>👍</font>"
   ]
  },
  {
   "cell_type": "code",
   "execution_count": 10,
   "metadata": {},
   "outputs": [],
   "source": [
    "tokenizer = AutoTokenizer.from_pretrained('unitary/toxic-bert')"
   ]
  },
  {
   "cell_type": "code",
   "execution_count": 11,
   "metadata": {},
   "outputs": [],
   "source": [
    "# преобразуем текст в номера токенов из словаря методом encode()\n",
    "# применим метод padding, чтобы после токенизации длины исходных текстов в корпусе были равными\n",
    "# создаем маску для выделения важных токенов\n",
    "tokenized = data['text'].apply(\n",
    "    lambda x: tokenizer.encode(x, add_special_tokens=True, max_length=512, truncation=True))\n",
    "\n",
    "max_len = 0\n",
    "for i in tokenized.values:\n",
    "    if len(i) > max_len:\n",
    "        max_len = len(i)\n",
    "\n",
    "padded = np.array([i + [0]*(max_len - len(i)) for i in tokenized.values])\n",
    "\n",
    "attention_mask = np.where(padded != 0, 1, 0)"
   ]
  },
  {
   "cell_type": "markdown",
   "metadata": {},
   "source": [
    "<font color='blue'><b>Комментарий ревьюера: </b></font> ✔️\\\n",
    "<font color='green'>Здорово, что подрезаешь вектор в Токенизаторе.</font>"
   ]
  },
  {
   "cell_type": "code",
   "execution_count": 12,
   "metadata": {
    "scrolled": true
   },
   "outputs": [],
   "source": [
    "# инициализируем модель класса BertModel()\n",
    "model = AutoModel.from_pretrained('unitary/toxic-bert')"
   ]
  },
  {
   "cell_type": "markdown",
   "metadata": {},
   "source": [
    "<font color='blue'><b>Комментарий ревьюера : </b></font> ✔️\\\n",
    "<font color='green'> Для этой задачи существуют специальные модели, например 'unitary/toxic-bert'</font>"
   ]
  },
  {
   "cell_type": "markdown",
   "metadata": {},
   "source": [
    "<br/>    \n",
    "<div class=\"alert alert-info\">\n",
    "<h2> Комментарий студента: <a class=\"tocSkip\"> </h2>\n",
    "\n",
    "<b>👋:</b> Взял для работы 'unitary/toxic-bert'\n",
    "</div> \n",
    "\n",
    "<br/>    "
   ]
  },
  {
   "cell_type": "markdown",
   "metadata": {},
   "source": [
    "<font color='blue'><b>Комментарий ревьюера 2: </b></font> ✔️\\\n",
    "<font color='green'> Отличный выбор модели! Есть мнение, что она обучалась на этих данных.</font>"
   ]
  },
  {
   "cell_type": "code",
   "execution_count": 13,
   "metadata": {},
   "outputs": [
    {
     "name": "stdout",
     "output_type": "stream",
     "text": [
      "Используемый тип процессора: cuda\n"
     ]
    }
   ],
   "source": [
    "# выводим информацию о типе используемого пользователем процессора\n",
    "device = torch.device('cuda' if torch.cuda.is_available() else 'cpu')\n",
    "print('Используемый тип процессора:', device)"
   ]
  },
  {
   "cell_type": "code",
   "execution_count": 14,
   "metadata": {},
   "outputs": [
    {
     "data": {
      "application/vnd.jupyter.widget-view+json": {
       "model_id": "cd54044197474d1c9fd51963bc888710",
       "version_major": 2,
       "version_minor": 0
      },
      "text/plain": [
       "  0%|          | 0/20 [00:00<?, ?it/s]"
      ]
     },
     "metadata": {},
     "output_type": "display_data"
    }
   ],
   "source": [
    "model.to(device)\n",
    "batch_size = 100\n",
    "embeddings = []\n",
    "for i in notebook.tqdm(range(padded.shape[0] // batch_size)):\n",
    "        batch = torch.LongTensor(padded[batch_size*i:batch_size*(i+1)])\n",
    "        \n",
    "        attention_mask_batch = torch.LongTensor(attention_mask[batch_size*i:batch_size*(i+1)])\n",
    "\n",
    "        with torch.no_grad():\n",
    "             batch_embeddings = model(batch.to(device), attention_mask=attention_mask_batch.to(device))\n",
    "\n",
    "        embeddings.append(batch_embeddings[0][:,0,:].cpu().numpy())"
   ]
  },
  {
   "cell_type": "code",
   "execution_count": 15,
   "metadata": {},
   "outputs": [],
   "source": [
    "#device = torch.device('cuda')\n",
    "#cuda = torch.device('cuda')\n",
    "#model.to(device)\n",
    "#batch_size = 100\n",
    "#embeddings = []\n",
    "#for i in notebook.tqdm(range(padded.shape[0] // batch_size)):\n",
    "        #batch = torch.LongTensor(padded[batch_size*i:batch_size*(i+1)])\n",
    "        #attention_mask_batch = torch.LongTensor(attention_mask[batch_size*i:batch_size*(i+1)])\n",
    "\n",
    "        #with torch.no_grad():\n",
    "             #batch_embeddings = model(batch.cuda(), attention_mask=attention_mask_batch.cuda())\n",
    "\n",
    "        #embeddings.append(batch_embeddings[0][:,0,:].cpu().numpy())"
   ]
  },
  {
   "cell_type": "markdown",
   "metadata": {},
   "source": [
    "<font color='blue'><b>Комментарий ревьюера: </b></font> ❌\\\n",
    "<font color='red'> <s>Код должен работать независимо от того есть доступ к GPU или нет.</s></font>"
   ]
  },
  {
   "cell_type": "markdown",
   "metadata": {},
   "source": [
    "<font color='blue'><b>Комментарий ревьюера 2: </b></font> ❌\\\n",
    "<font color='red'><s> Ошибка исполнения кода. </s></font>"
   ]
  },
  {
   "cell_type": "markdown",
   "metadata": {},
   "source": [
    "<br/>    \n",
    "<div class=\"alert alert-info\">\n",
    "<h2> Комментарий студента 2: <a class=\"tocSkip\"> </h2>\n",
    "\n",
    "<b>👋:</b> Исправил, см. выше. Теперь все работает вне зависимости от того, пользуется ревьюер GPU или нет)) Предыдущий код закомментировал\n",
    "</div> \n",
    "\n",
    "<br/>    "
   ]
  },
  {
   "cell_type": "markdown",
   "metadata": {},
   "source": [
    "<font color='blue'><b>Комментарий ревьюера 3: </b></font> ✔️\\\n",
    "<font color='green'> Отлично!</font>"
   ]
  },
  {
   "cell_type": "markdown",
   "metadata": {},
   "source": [
    "<br/>    \n",
    "<div class=\"alert alert-info\">\n",
    "<h2> Комментарий студента: <a class=\"tocSkip\"> </h2>\n",
    "\n",
    "<b>👋:</b> Здесь не вижу проблемы. Код будет работать и без GPU, достаточно просто убрать .cuda() в строке batch_embeddings =... и две первые строчки в ячейке (там, где 'cuda'). Если с GPU быстрее, какие есть разумные причины этим не пользоваться?))\n",
    "</div> \n",
    "\n",
    "<br/>    "
   ]
  },
  {
   "cell_type": "markdown",
   "metadata": {},
   "source": [
    "<font color='blue'><b>Комментарий ревьюера: </b></font> ⚠️\\\n",
    "<font color='darkorange'>Можно сделать предварительную проверку на наличие GPU.\\\n",
    "Например, так: ```device = torch.device(\"cuda:0\") if torch.cuda.is_available() else torch.device(\"cpu\")```\\\n",
    "Тогда вместо .cuda() нужно писать .to(device)</font>"
   ]
  },
  {
   "cell_type": "markdown",
   "metadata": {},
   "source": [
    "<br/>    \n",
    "<div class=\"alert alert-info\">\n",
    "<h2> Комментарий студента: <a class=\"tocSkip\"> </h2>\n",
    "\n",
    "<b>👋:</b> Можно, но доступность cuda я проверил вначале - во 2-й ячейке\n",
    "</div> \n",
    "\n",
    "<br/>    "
   ]
  },
  {
   "cell_type": "code",
   "execution_count": 16,
   "metadata": {},
   "outputs": [],
   "source": [
    "# собираем все эмбеддинги в матрицу признаков\n",
    "features = np.concatenate(embeddings)"
   ]
  },
  {
   "cell_type": "code",
   "execution_count": 17,
   "metadata": {},
   "outputs": [],
   "source": [
    "# извлекаем признаки\n",
    "X = features\n",
    "y = data['toxic']"
   ]
  },
  {
   "cell_type": "code",
   "execution_count": 18,
   "metadata": {},
   "outputs": [
    {
     "data": {
      "text/plain": [
       "(1000, 768)"
      ]
     },
     "metadata": {},
     "output_type": "display_data"
    },
    {
     "data": {
      "text/plain": [
       "(1000, 768)"
      ]
     },
     "metadata": {},
     "output_type": "display_data"
    },
    {
     "data": {
      "text/plain": [
       "(1000,)"
      ]
     },
     "metadata": {},
     "output_type": "display_data"
    },
    {
     "data": {
      "text/plain": [
       "(1000,)"
      ]
     },
     "metadata": {},
     "output_type": "display_data"
    }
   ],
   "source": [
    "# разделяем модель на обучающую и тестовую выборки\n",
    "X_train, X_test, y_train, y_test = train_test_split(\n",
    "    X, y, test_size=0.5, random_state=12345)\n",
    "\n",
    "display(X_train.shape)\n",
    "display(X_test.shape)\n",
    "display(y_train.shape)\n",
    "display(y_test.shape)"
   ]
  },
  {
   "cell_type": "markdown",
   "metadata": {},
   "source": [
    "<font color='blue'><b>Комментарий ревьюера: </b></font> ✔️\\\n",
    "<font color='green'> Здорово , что у нас есть выборка для тестов!</font>"
   ]
  },
  {
   "cell_type": "code",
   "execution_count": 19,
   "metadata": {},
   "outputs": [],
   "source": [
    "# пробовал как альтернативный способ устранения дисбаланса, разницы не увидел, поэтому использовал class_weight='balanced'\n",
    "\n",
    "#from imblearn.over_sampling import SMOTE\n",
    "#oversample = SMOTE(random_state=12345)\n",
    "#X_train, y_train = oversample.fit_resample(X_train, y_train)"
   ]
  },
  {
   "cell_type": "markdown",
   "metadata": {},
   "source": [
    "**Рассмотрим Логистическую регрессию**"
   ]
  },
  {
   "cell_type": "code",
   "execution_count": 20,
   "metadata": {},
   "outputs": [
    {
     "name": "stdout",
     "output_type": "stream",
     "text": [
      "Оптимальные значения параметров: {}\n",
      "Значение метрики F1: 0.9385147168073997\n",
      "CPU times: total: 0 ns\n",
      "Wall time: 589 ms\n"
     ]
    }
   ],
   "source": [
    "%%time\n",
    "lin = GridSearchCV(estimator=LogisticRegression(random_state=12345, class_weight='balanced', max_iter=500), param_grid={\n",
    "    }, scoring = 'f1', cv=5)\n",
    "\n",
    "lin.fit(X_train, y_train)\n",
    "\n",
    "print('Оптимальные значения параметров:', lin.best_params_)\n",
    "print('Значение метрики F1:', lin.best_score_)"
   ]
  },
  {
   "cell_type": "markdown",
   "metadata": {},
   "source": [
    "<font color='blue'><b>Комментарий ревьюера : </b></font> ✔️\\\n",
    "<font color='green'>Подбор гиперпараметров проведён верно.</font>"
   ]
  },
  {
   "cell_type": "markdown",
   "metadata": {},
   "source": [
    "<font color='blue'><b>Комментарий ревьюера: </b></font> ✔️\\\n",
    "<font color='green'>Здорово что оценка кроссвалидацией.</font>"
   ]
  },
  {
   "cell_type": "markdown",
   "metadata": {},
   "source": [
    "<font color='blue'><b>Комментарий ревьюера 2: </b></font> ❌\\\n",
    "<font color='red'><s> Метрика `f1_score(average='weighted')` применяется к мультиклассовой классификации и в нашем случае нужно `average='binary'`\\\n",
    "    Взвешенная метрика не улучшает модель, а даёт смещённую оценку.</s></font>"
   ]
  },
  {
   "cell_type": "markdown",
   "metadata": {},
   "source": [
    "<br/>    \n",
    "<div class=\"alert alert-info\">\n",
    "<h2> Комментарий студента: <a class=\"tocSkip\"> </h2>\n",
    "\n",
    "<b>👋:</b> Это исправил. Согласно https://scikit-learn.org/stable/modules/model_evaluation.html для бинарной классификации (for binary targets), используется просто 'f1'. А \"average='binary'\" я использовал ниже, для предсказаний на тестовой выборке. И это решило мою проблему. Спасибо за комментарий!)\n",
    "</div> \n",
    "\n",
    "<br/>    "
   ]
  },
  {
   "cell_type": "markdown",
   "metadata": {},
   "source": [
    "<font color='blue'><b>Комментарий ревьюера 2: </b></font> ✔️\\\n",
    "<font color='green'>`average='binary` это дефолтный параметр у 'f1'.</font>"
   ]
  },
  {
   "cell_type": "markdown",
   "metadata": {},
   "source": [
    "**Рассмотрим Случайный лес**"
   ]
  },
  {
   "cell_type": "code",
   "execution_count": 21,
   "metadata": {},
   "outputs": [
    {
     "name": "stdout",
     "output_type": "stream",
     "text": [
      "Оптимальные значения параметров: {'max_depth': 3, 'n_estimators': 70}\n",
      "Значение метрики F1: 0.9438405797101449\n",
      "CPU times: total: 3min 3s\n",
      "Wall time: 3min 6s\n"
     ]
    }
   ],
   "source": [
    "%%time\n",
    "forest = GridSearchCV(estimator=RandomForestClassifier(random_state=12345, class_weight='balanced'), param_grid={\n",
    "    'n_estimators': range(10, 110, 10),\n",
    "    'max_depth': range(2, 15, 1)}, scoring = 'f1', cv=3)\n",
    "forest.fit(X_train, y_train)\n",
    "\n",
    "print('Оптимальные значения параметров:', forest.best_params_)\n",
    "print('Значение метрики F1:', forest.best_score_)"
   ]
  },
  {
   "cell_type": "markdown",
   "metadata": {},
   "source": [
    "<font color='blue'><b>Комментарий ревьюера 2: </b></font> ✔️\\\n",
    "<font color='green'>👍</font>"
   ]
  },
  {
   "cell_type": "markdown",
   "metadata": {},
   "source": [
    "**Рассмотрим CatBoost**"
   ]
  },
  {
   "cell_type": "code",
   "execution_count": 22,
   "metadata": {},
   "outputs": [
    {
     "name": "stdout",
     "output_type": "stream",
     "text": [
      "Оптимальные значения параметров: {'depth': 5, 'iterations': 20}\n",
      "Значение метрики F1: 0.9529883638043031\n",
      "CPU times: total: 38min 31s\n",
      "Wall time: 4min 14s\n"
     ]
    }
   ],
   "source": [
    "%%time\n",
    "cbr = GridSearchCV(estimator=CatBoostClassifier(silent=True, random_state=12345), param_grid={\n",
    "    'iterations': range(20, 60, 10),'depth': range(5, 10, 2)}, scoring = 'f1', cv=3)\n",
    "cbr.fit(X_train, y_train)\n",
    "\n",
    "print('Оптимальные значения параметров:', cbr.best_params_)\n",
    "print('Значение метрики F1:', cbr.best_score_)"
   ]
  },
  {
   "cell_type": "markdown",
   "metadata": {},
   "source": [
    "<font color='blue'><b>Комментарий ревьюера: </b></font> ✔️\\\n",
    "<font color='green'>CatBoost может сам векторизовать текст. Для этого указываем в класс модели текстовые данные. `text_features=[\"text_lemm\"]`</font>"
   ]
  },
  {
   "cell_type": "markdown",
   "metadata": {},
   "source": [
    "<br/>    \n",
    "<div class=\"alert alert-info\">\n",
    "<h2> Комментарий студента: <a class=\"tocSkip\"> </h2>\n",
    "\n",
    "<b>👋:</b> В этом случае ведь мы работаем с BERT, с помощью которого извлекаем эмбеддинги, на которых уже обучаем модели...\n",
    "</div> \n",
    "\n",
    "<br/>    "
   ]
  },
  {
   "cell_type": "markdown",
   "metadata": {},
   "source": [
    "**Рассмотрим LightGBM**"
   ]
  },
  {
   "cell_type": "code",
   "execution_count": 23,
   "metadata": {},
   "outputs": [
    {
     "name": "stdout",
     "output_type": "stream",
     "text": [
      "Оптимальные значения параметров: {'n_estimators': 90, 'num_leaves': 20}\n",
      "Значение метрики F1: 0.9254455445544554\n",
      "CPU times: total: 40.1 s\n",
      "Wall time: 8.16 s\n"
     ]
    }
   ],
   "source": [
    "%%time\n",
    "gbm = GridSearchCV(estimator=LGBMClassifier(random_state=12345, verbose= -100, class_weight='balanced'), param_grid={\n",
    "    'n_estimators': range(90, 110, 10),\n",
    "    'num_leaves': range(20, 40, 10)}, scoring = 'f1', cv=2)\n",
    "gbm.fit(X_train, y_train)\n",
    "\n",
    "print('Оптимальные значения параметров:', gbm.best_params_)\n",
    "print('Значение метрики F1:', gbm.best_score_)"
   ]
  },
  {
   "cell_type": "markdown",
   "metadata": {},
   "source": [
    "<font color='blue'><b>Комментарий ревьюера 2: </b></font> ✔️\\\n",
    "<font color='green'>👍</font>"
   ]
  },
  {
   "cell_type": "markdown",
   "metadata": {},
   "source": [
    "**По итогам проверки мы определили лучшую модель - CatBoost, имеющую F1 = 0.9529883638043031.** При этом стоит отметить, что все наши модели удовлетворяют требованиям заказчика - значение метрики качества F1 должно быть не меньше 0.75.\n",
    "\n",
    "Теперь мы проверим наши модели на тестовой выборке."
   ]
  },
  {
   "cell_type": "code",
   "execution_count": 24,
   "metadata": {},
   "outputs": [
    {
     "name": "stdout",
     "output_type": "stream",
     "text": [
      "Значение метрики F1: 0.9411764705882353\n"
     ]
    }
   ],
   "source": [
    "pred_lin = lin.best_estimator_.predict(X_test)\n",
    "print('Значение метрики F1:', f1_score(y_test, pred_lin, average='binary'))"
   ]
  },
  {
   "cell_type": "code",
   "execution_count": 25,
   "metadata": {},
   "outputs": [
    {
     "name": "stdout",
     "output_type": "stream",
     "text": [
      "Значение метрики F1: 0.9326923076923077\n"
     ]
    }
   ],
   "source": [
    "pred_forest = forest.best_estimator_.predict(X_test)\n",
    "print('Значение метрики F1:', f1_score(y_test, pred_forest, average='binary'))"
   ]
  },
  {
   "cell_type": "code",
   "execution_count": 26,
   "metadata": {},
   "outputs": [
    {
     "name": "stdout",
     "output_type": "stream",
     "text": [
      "Значение метрики F1: 0.9137055837563451\n"
     ]
    }
   ],
   "source": [
    "pred_cbr = cbr.best_estimator_.predict(X_test)\n",
    "print('Значение метрики F1:', f1_score(y_test, pred_cbr, average='binary'))"
   ]
  },
  {
   "cell_type": "code",
   "execution_count": 27,
   "metadata": {},
   "outputs": [
    {
     "name": "stdout",
     "output_type": "stream",
     "text": [
      "Значение метрики F1: 0.9447236180904524\n"
     ]
    }
   ],
   "source": [
    "pred_gbm = gbm.best_estimator_.predict(X_test)\n",
    "print('Значение метрики F1:', f1_score(y_test, pred_gbm, average='binary'))"
   ]
  },
  {
   "cell_type": "markdown",
   "metadata": {},
   "source": [
    "Значение метрики F1 нашей лучшей модели составило менее, чем 0.75."
   ]
  },
  {
   "cell_type": "markdown",
   "metadata": {},
   "source": [
    "<font color='blue'><b>Комментарий ревьюера: </b></font> ✔️\\\n",
    "<font color='green'>Тестирование проведено верно.</font>"
   ]
  },
  {
   "cell_type": "markdown",
   "metadata": {},
   "source": [
    "<font color='blue'><b>Комментарий ревьюера: </b></font> ❌\\\n",
    "<font color='red'><s> К сожалению, ни одна из моделей не показала результат выше 0.75 F1-меры на тестовых данных.</s></font>"
   ]
  },
  {
   "cell_type": "markdown",
   "metadata": {},
   "source": [
    "<br/>    \n",
    "<div class=\"alert alert-info\">\n",
    "<h2> Комментарий студента: <a class=\"tocSkip\"> </h2>\n",
    "\n",
    "<b>👋:</b> Теперь это исправлено) Сменил модель на 'unitary/toxic-bert' и f1_score(average='weighted') на average='binary'. И это решило дело\n",
    "</div> \n",
    "\n",
    "<br/>    "
   ]
  },
  {
   "cell_type": "markdown",
   "metadata": {},
   "source": [
    "<font color='blue'><b>Комментарий ревьюера 2: </b></font> ✔️\\\n",
    "<font color='green'>👍</font>"
   ]
  },
  {
   "cell_type": "markdown",
   "metadata": {},
   "source": [
    "Как видим, по **итогам проверки на тестовой выборке все наши модели удовлетворяют требованиям проекта**. При этом лучший показатель метрики качества F1 у LightGBM: 0.9447236180904524 (у CatBoost: 0.9137055837563451). Таким образом, цель проекта достигнута: нужная модель нами получена."
   ]
  },
  {
   "cell_type": "markdown",
   "metadata": {},
   "source": [
    "## Вывод"
   ]
  },
  {
   "cell_type": "markdown",
   "metadata": {},
   "source": [
    "CatBoostЦелью нашего проекта было обучить модель для интернет-магазина «Викишоп» классифицировать комментарии на позитивные и негативные для осуществления поиска токсичных комментариев и отправки их на модерацию.\n",
    "\n",
    "Для проведения анализа представлен файл, содержащий комментарии пользователей интернет-магазина:\n",
    "\n",
    "- */datasets/toxic_comments.csv*.\n",
    "\n",
    "**Столбец text в нём содержит текст комментария, а toxic — целевой признак.**\n",
    "\n",
    "**Заказчику важны:**\n",
    "\n",
    "- значение метрики качества F1 должно быть не меньше 0.75.\n",
    "\n",
    "На этапе \"Подготовка\" мы провели следующую работу: загрузили данные и изучили основнуую информацию о датафрейме: в нашем датафрейме 3 столбца и 159 292 строк. Значения в столбце toxic (целевой признак) выражены целочисленным типом, значения в столбце text (т.е. сами сообщения) - строковым. В столбце Unnamed порядковые номера сообщений, они выражены целочисленным типом. Типы данных выбраны верно. Имеется имеется бисбаланс классов. Пропуски и дубликаты отсутствуют.\n",
    "\n",
    "Затем мы мспользовали предобученную модель BERT, обучили несколько моделей (Логистическую регрессию, Случайный лес, CatBoost и LightGBM) и сравнили значения их метрик качества F1. При проверке на обучающей выборке лучшее значение метрики F1 показала модель CatBoost (0.9529883638043031), что соответствует установленному в условиях проекта критерию (не меньше 0.75). По итогам проверки на **тестовой** выборке лучший показатель метрики качества F1 у LightGBM: 0.9447236180904524 (у CatBoost: 0.9137055837563451). \n",
    "\n",
    "**Таким образом, цель проекта достигнута: получена модель, соответствующая требованиям заказчика.**"
   ]
  },
  {
   "cell_type": "markdown",
   "metadata": {},
   "source": [
    "<font color='blue'><b>Комментарий ревьюера: </b></font> ✔️\\\n",
    "<font color='green'> Очень приятно видеть вывод в конце проекта!\\\n",
    "Приведены ответы на главные вопросы проекта.</font>"
   ]
  },
  {
   "cell_type": "markdown",
   "metadata": {},
   "source": [
    "<font color='blue'><b>Итоговый комментарий ревьюера</b></font>\\\n",
    "<font color='green'>Вячеслав, хороший проект получился!\n",
    "Большое спасибо за проделанную работу. Видно, что приложено много усилий.\n",
    "</font>\n",
    "\n",
    "<font color='blue'>Что нужно исправить:</font>\n",
    "<ul><font color='red'>Добейся воспроизводимости кода.</font></ul>\n",
    "<ul><font color='red'>Не применяй взвешенную метрику, она не улучшает модель.</font></ul>\n",
    "<ul><font color='red'>Построй модель со значением метрики качества F1 не меньше 0.75 на тестовых данных.</font></ul>\n",
    "\n",
    "<font color='blue'>Что можно сделать лучше:</font>\n",
    "<font color='orange'>В работе я оставил несколько советов. Буду рад, если ты учтешь их.</font></ul>\n",
    "\n",
    "<font color='blue'><b>Жду новую версию проекта :)</b></font>"
   ]
  },
  {
   "cell_type": "markdown",
   "metadata": {},
   "source": [
    "<br/>    \n",
    "<div class=\"alert alert-info\">\n",
    "<h2> Комментарий студента: <a class=\"tocSkip\"> </h2>\n",
    "\n",
    "<b>👋:</b> Замечания исправил. Проект можно принимать)\n",
    "</div> \n",
    "\n",
    "<br/>    "
   ]
  },
  {
   "cell_type": "markdown",
   "metadata": {},
   "source": [
    "<font color='blue'><b>Итоговый комментарий ревьюера</b></font>\\\n",
    "<font color='green'>Вячеслав, большое спасибо за доработку. Загрузили данные и модели, модели оцениваюся корректно.\n",
    "</font>\n",
    "\n",
    "<font color='blue'>Что нужно исправить:</font>\n",
    "<ul><font color='red'>Добейся воспроизводимости кода.</font></ul>\n",
    "\n",
    "<font color='blue'>Что можно сделать лучше:</font>\n",
    "<font color='orange'>В работе я оставил несколько советов. Буду рад, если ты учтешь их.</font></ul>\n",
    "\n",
    "<font color='blue'><b>Жду новую версию проекта :)</b></font>"
   ]
  },
  {
   "cell_type": "markdown",
   "metadata": {},
   "source": [
    "<br/>    \n",
    "<div class=\"alert alert-info\">\n",
    "<h2> Комментарий студента 2: <a class=\"tocSkip\"> </h2>\n",
    "\n",
    "<b>👋:</b> Добился\n",
    "</div> \n",
    "\n",
    "<br/>    "
   ]
  },
  {
   "cell_type": "markdown",
   "metadata": {},
   "source": [
    "<font color='blue'><b>Итоговый комментарий ревьюера 3</b></font>\\\n",
    "<font color='green'> Вячеслав, проект принят! \\\n",
    "Все этапы пройдены. Все рекомендации учтены.\\\n",
    "Надеюсь, тебе понравился процесс выполнения и результат.</font> \\\n",
    "<font color='blue'><b>Спасибо, удачи в освоении профессии!</b></font>"
   ]
  },
  {
   "cell_type": "markdown",
   "metadata": {},
   "source": [
    "<font color='green'><b>Полезные (и просто интересные) материалы:</b> \\\n",
    "Библиотеки: allennlp, fairseq, transformers, tensorflow-text — множествореализованных\n",
    "методов для трансформеров методов NLP \\\n",
    "Word2Vec https://radimrehurek.com/gensim/models/word2vec.html\n",
    "\n",
    "Если понравилась работа с текстами, то можешь посмотреть очень интересный (но очень-очень сложный) курс лекций: https://github.com/yandexdataschool/nlp_course .\n",
    "\n",
    "NLP от Samsung https://stepik.org/course/54098/promo \\\n",
    "NLP от Huawei https://ods.ai/tracks/nlp-course-spring-23 \\\n",
    "Transformers от Hugging Face https://huggingface.co/learn/nlp-course/chapter1/1\n",
    "</font>"
   ]
  },
  {
   "cell_type": "markdown",
   "metadata": {},
   "source": [
    "## Чек-лист проверки"
   ]
  },
  {
   "cell_type": "markdown",
   "metadata": {},
   "source": [
    "- [x]  Jupyter Notebook открыт\n",
    "- [x]  Весь код выполняется без ошибок\n",
    "- [x]  Ячейки с кодом расположены в порядке исполнения\n",
    "- [x]  Данные загружены и подготовлены\n",
    "- [x]  Модели обучены\n",
    "- [x]  Значение метрики *F1* не меньше 0.75\n",
    "- [x]  Выводы написаны"
   ]
  }
 ],
 "metadata": {
  "ExecuteTimeLog": [
   {
    "duration": 13366,
    "start_time": "2023-08-21T15:11:57.437Z"
   },
   {
    "duration": 4,
    "start_time": "2023-08-21T15:12:10.805Z"
   },
   {
    "duration": 330,
    "start_time": "2023-08-21T15:12:10.810Z"
   },
   {
    "duration": 16260,
    "start_time": "2023-08-22T11:00:20.537Z"
   },
   {
    "duration": 6,
    "start_time": "2023-08-22T11:00:36.799Z"
   },
   {
    "duration": 2407,
    "start_time": "2023-08-22T11:00:36.809Z"
   },
   {
    "duration": 189,
    "start_time": "2023-08-22T11:00:39.217Z"
   },
   {
    "duration": 27,
    "start_time": "2023-08-22T11:00:39.408Z"
   },
   {
    "duration": 95,
    "start_time": "2023-08-22T11:00:39.442Z"
   },
   {
    "duration": 255,
    "start_time": "2023-08-22T11:00:39.539Z"
   },
   {
    "duration": 34,
    "start_time": "2023-08-22T11:00:39.795Z"
   },
   {
    "duration": 8,
    "start_time": "2023-08-22T11:00:39.831Z"
   },
   {
    "duration": 5383,
    "start_time": "2023-08-22T11:00:39.842Z"
   },
   {
    "duration": 829,
    "start_time": "2023-08-22T11:00:45.227Z"
   },
   {
    "duration": 40953,
    "start_time": "2023-08-22T11:00:46.058Z"
   },
   {
    "duration": 429,
    "start_time": "2023-08-22T11:01:27.019Z"
   },
   {
    "duration": 5270,
    "start_time": "2023-08-22T11:35:38.580Z"
   },
   {
    "duration": 5,
    "start_time": "2023-08-22T11:35:47.737Z"
   },
   {
    "duration": 2224,
    "start_time": "2023-08-22T11:35:58.200Z"
   },
   {
    "duration": 167,
    "start_time": "2023-08-22T11:36:08.920Z"
   },
   {
    "duration": 10,
    "start_time": "2023-08-22T11:36:11.614Z"
   },
   {
    "duration": 79,
    "start_time": "2023-08-22T11:36:13.132Z"
   },
   {
    "duration": 237,
    "start_time": "2023-08-22T11:36:13.580Z"
   },
   {
    "duration": 17,
    "start_time": "2023-08-22T11:36:15.572Z"
   },
   {
    "duration": 2,
    "start_time": "2023-08-22T11:36:21.260Z"
   },
   {
    "duration": 5129,
    "start_time": "2023-08-22T11:36:25.947Z"
   },
   {
    "duration": 657,
    "start_time": "2023-08-22T11:36:35.244Z"
   },
   {
    "duration": 11418,
    "start_time": "2023-08-22T11:36:41.467Z"
   },
   {
    "duration": 389,
    "start_time": "2023-08-22T11:38:03.079Z"
   },
   {
    "duration": 4568,
    "start_time": "2023-08-22T11:48:45.846Z"
   },
   {
    "duration": 5,
    "start_time": "2023-08-22T11:48:51.734Z"
   },
   {
    "duration": 1562,
    "start_time": "2023-08-22T11:48:52.355Z"
   },
   {
    "duration": 188,
    "start_time": "2023-08-22T11:49:03.322Z"
   },
   {
    "duration": 11,
    "start_time": "2023-08-22T11:49:06.198Z"
   },
   {
    "duration": 87,
    "start_time": "2023-08-22T11:49:07.635Z"
   },
   {
    "duration": 253,
    "start_time": "2023-08-22T11:49:08.133Z"
   },
   {
    "duration": 20,
    "start_time": "2023-08-22T11:49:10.199Z"
   },
   {
    "duration": 3,
    "start_time": "2023-08-22T11:49:11.395Z"
   },
   {
    "duration": 3476,
    "start_time": "2023-08-22T11:49:30.925Z"
   },
   {
    "duration": 820,
    "start_time": "2023-08-22T11:49:35.525Z"
   },
   {
    "duration": 2176,
    "start_time": "2023-08-22T11:49:38.499Z"
   },
   {
    "duration": 4634,
    "start_time": "2023-08-22T11:50:23.428Z"
   },
   {
    "duration": 8,
    "start_time": "2023-08-22T11:50:29.373Z"
   },
   {
    "duration": 1832,
    "start_time": "2023-08-22T11:50:30.152Z"
   },
   {
    "duration": 177,
    "start_time": "2023-08-22T11:50:35.000Z"
   },
   {
    "duration": 13,
    "start_time": "2023-08-22T11:50:41.369Z"
   },
   {
    "duration": 76,
    "start_time": "2023-08-22T11:50:42.496Z"
   },
   {
    "duration": 250,
    "start_time": "2023-08-22T11:50:43.136Z"
   },
   {
    "duration": 24,
    "start_time": "2023-08-22T11:50:44.959Z"
   },
   {
    "duration": 3,
    "start_time": "2023-08-22T11:50:45.680Z"
   },
   {
    "duration": 3550,
    "start_time": "2023-08-22T11:50:48.752Z"
   },
   {
    "duration": 790,
    "start_time": "2023-08-22T11:50:53.119Z"
   },
   {
    "duration": 9190,
    "start_time": "2023-08-22T11:50:54.391Z"
   },
   {
    "duration": 4781,
    "start_time": "2023-08-22T11:53:31.004Z"
   },
   {
    "duration": 6,
    "start_time": "2023-08-22T11:53:36.856Z"
   },
   {
    "duration": 1627,
    "start_time": "2023-08-22T11:53:37.376Z"
   },
   {
    "duration": 181,
    "start_time": "2023-08-22T11:53:41.480Z"
   },
   {
    "duration": 12,
    "start_time": "2023-08-22T11:53:43.855Z"
   },
   {
    "duration": 75,
    "start_time": "2023-08-22T11:53:45.159Z"
   },
   {
    "duration": 236,
    "start_time": "2023-08-22T11:53:45.752Z"
   },
   {
    "duration": 18,
    "start_time": "2023-08-22T11:53:47.239Z"
   },
   {
    "duration": 2,
    "start_time": "2023-08-22T11:53:47.439Z"
   },
   {
    "duration": 3418,
    "start_time": "2023-08-22T11:53:50.854Z"
   },
   {
    "duration": 665,
    "start_time": "2023-08-22T11:53:55.511Z"
   },
   {
    "duration": 9137,
    "start_time": "2023-08-22T11:53:57.830Z"
   },
   {
    "duration": 360,
    "start_time": "2023-08-22T11:54:09.830Z"
   },
   {
    "duration": 4639,
    "start_time": "2023-08-22T12:00:41.233Z"
   },
   {
    "duration": 6,
    "start_time": "2023-08-22T12:00:47.448Z"
   },
   {
    "duration": 2536,
    "start_time": "2023-08-22T12:00:48.150Z"
   },
   {
    "duration": 168,
    "start_time": "2023-08-22T12:00:56.901Z"
   },
   {
    "duration": 12,
    "start_time": "2023-08-22T12:00:59.412Z"
   },
   {
    "duration": 78,
    "start_time": "2023-08-22T12:01:00.477Z"
   },
   {
    "duration": 260,
    "start_time": "2023-08-22T12:01:01.101Z"
   },
   {
    "duration": 18,
    "start_time": "2023-08-22T12:01:02.396Z"
   },
   {
    "duration": 3,
    "start_time": "2023-08-22T12:01:03.982Z"
   },
   {
    "duration": 3322,
    "start_time": "2023-08-22T12:01:08.171Z"
   },
   {
    "duration": 666,
    "start_time": "2023-08-22T12:01:18.125Z"
   },
   {
    "duration": 2247,
    "start_time": "2023-08-22T12:01:19.236Z"
   },
   {
    "duration": 4918,
    "start_time": "2023-08-22T12:05:15.528Z"
   },
   {
    "duration": 5,
    "start_time": "2023-08-22T12:05:21.627Z"
   },
   {
    "duration": 1736,
    "start_time": "2023-08-22T12:05:22.228Z"
   },
   {
    "duration": 174,
    "start_time": "2023-08-22T12:05:27.123Z"
   },
   {
    "duration": 12,
    "start_time": "2023-08-22T12:05:29.287Z"
   },
   {
    "duration": 81,
    "start_time": "2023-08-22T12:05:30.172Z"
   },
   {
    "duration": 256,
    "start_time": "2023-08-22T12:05:30.803Z"
   },
   {
    "duration": 22,
    "start_time": "2023-08-22T12:05:32.636Z"
   },
   {
    "duration": 2,
    "start_time": "2023-08-22T12:05:33.451Z"
   },
   {
    "duration": 3431,
    "start_time": "2023-08-22T12:05:35.618Z"
   },
   {
    "duration": 724,
    "start_time": "2023-08-22T12:05:40.762Z"
   },
   {
    "duration": 9077,
    "start_time": "2023-08-22T12:05:42.699Z"
   },
   {
    "duration": 397,
    "start_time": "2023-08-22T12:05:55.211Z"
   },
   {
    "duration": 4362,
    "start_time": "2023-08-22T12:20:48.727Z"
   },
   {
    "duration": 5,
    "start_time": "2023-08-22T12:20:55.444Z"
   },
   {
    "duration": 1813,
    "start_time": "2023-08-22T12:20:56.244Z"
   },
   {
    "duration": 162,
    "start_time": "2023-08-22T12:21:03.484Z"
   },
   {
    "duration": 11,
    "start_time": "2023-08-22T12:21:06.244Z"
   },
   {
    "duration": 76,
    "start_time": "2023-08-22T12:21:09.676Z"
   },
   {
    "duration": 256,
    "start_time": "2023-08-22T12:21:10.603Z"
   },
   {
    "duration": 26,
    "start_time": "2023-08-22T12:21:12.459Z"
   },
   {
    "duration": 3,
    "start_time": "2023-08-22T12:21:13.251Z"
   },
   {
    "duration": 3632,
    "start_time": "2023-08-22T12:21:15.868Z"
   },
   {
    "duration": 842,
    "start_time": "2023-08-22T12:21:19.501Z"
   },
   {
    "duration": 2559,
    "start_time": "2023-08-22T12:21:22.818Z"
   },
   {
    "duration": 344,
    "start_time": "2023-08-22T12:21:33.354Z"
   },
   {
    "duration": 4,
    "start_time": "2023-08-22T12:21:46.097Z"
   },
   {
    "duration": 5050,
    "start_time": "2023-08-22T12:24:54.084Z"
   },
   {
    "duration": 7,
    "start_time": "2023-08-22T12:25:00.200Z"
   },
   {
    "duration": 1841,
    "start_time": "2023-08-22T12:25:00.760Z"
   },
   {
    "duration": 176,
    "start_time": "2023-08-22T12:25:06.186Z"
   },
   {
    "duration": 14,
    "start_time": "2023-08-22T12:25:08.100Z"
   },
   {
    "duration": 82,
    "start_time": "2023-08-22T12:25:08.976Z"
   },
   {
    "duration": 256,
    "start_time": "2023-08-22T12:25:09.520Z"
   },
   {
    "duration": 24,
    "start_time": "2023-08-22T12:25:11.225Z"
   },
   {
    "duration": 2,
    "start_time": "2023-08-22T12:25:13.697Z"
   },
   {
    "duration": 3513,
    "start_time": "2023-08-22T12:25:15.752Z"
   },
   {
    "duration": 700,
    "start_time": "2023-08-22T12:25:20.336Z"
   },
   {
    "duration": 2120,
    "start_time": "2023-08-22T12:25:21.559Z"
   },
   {
    "duration": 358,
    "start_time": "2023-08-22T12:25:27.623Z"
   },
   {
    "duration": 81,
    "start_time": "2023-08-22T12:26:02.440Z"
   },
   {
    "duration": 46,
    "start_time": "2023-08-22T12:26:48.019Z"
   },
   {
    "duration": 43,
    "start_time": "2023-08-22T12:27:32.882Z"
   },
   {
    "duration": 41,
    "start_time": "2023-08-22T12:28:14.483Z"
   },
   {
    "duration": 4608,
    "start_time": "2023-08-22T12:30:45.949Z"
   },
   {
    "duration": 6,
    "start_time": "2023-08-22T12:30:51.871Z"
   },
   {
    "duration": 2035,
    "start_time": "2023-08-22T12:30:54.232Z"
   },
   {
    "duration": 244,
    "start_time": "2023-08-22T12:30:59.431Z"
   },
   {
    "duration": 12,
    "start_time": "2023-08-22T12:31:01.776Z"
   },
   {
    "duration": 90,
    "start_time": "2023-08-22T12:31:02.783Z"
   },
   {
    "duration": 260,
    "start_time": "2023-08-22T12:31:03.475Z"
   },
   {
    "duration": 20,
    "start_time": "2023-08-22T12:31:06.174Z"
   },
   {
    "duration": 3,
    "start_time": "2023-08-22T12:31:07.353Z"
   },
   {
    "duration": 3545,
    "start_time": "2023-08-22T12:31:10.366Z"
   },
   {
    "duration": 756,
    "start_time": "2023-08-22T12:31:14.734Z"
   },
   {
    "duration": 8880,
    "start_time": "2023-08-22T12:31:21.694Z"
   },
   {
    "duration": 4901,
    "start_time": "2023-08-22T12:32:02.491Z"
   },
   {
    "duration": 7,
    "start_time": "2023-08-22T12:32:08.546Z"
   },
   {
    "duration": 1584,
    "start_time": "2023-08-22T12:32:09.199Z"
   },
   {
    "duration": 226,
    "start_time": "2023-08-22T12:32:13.879Z"
   },
   {
    "duration": 15,
    "start_time": "2023-08-22T12:32:15.799Z"
   },
   {
    "duration": 100,
    "start_time": "2023-08-22T12:32:17.047Z"
   },
   {
    "duration": 269,
    "start_time": "2023-08-22T12:32:17.894Z"
   },
   {
    "duration": 19,
    "start_time": "2023-08-22T12:32:20.222Z"
   },
   {
    "duration": 3,
    "start_time": "2023-08-22T12:32:20.454Z"
   },
   {
    "duration": 3536,
    "start_time": "2023-08-22T12:32:23.078Z"
   },
   {
    "duration": 732,
    "start_time": "2023-08-22T12:32:27.264Z"
   },
   {
    "duration": 9159,
    "start_time": "2023-08-22T12:32:29.510Z"
   },
   {
    "duration": 364,
    "start_time": "2023-08-22T12:32:40.701Z"
   },
   {
    "duration": 4892,
    "start_time": "2023-08-22T12:43:03.747Z"
   },
   {
    "duration": 6,
    "start_time": "2023-08-22T12:43:09.241Z"
   },
   {
    "duration": 1844,
    "start_time": "2023-08-22T12:43:09.710Z"
   },
   {
    "duration": 164,
    "start_time": "2023-08-22T12:43:14.478Z"
   },
   {
    "duration": 11,
    "start_time": "2023-08-22T12:43:16.134Z"
   },
   {
    "duration": 76,
    "start_time": "2023-08-22T12:43:17.125Z"
   },
   {
    "duration": 254,
    "start_time": "2023-08-22T12:43:17.710Z"
   },
   {
    "duration": 19,
    "start_time": "2023-08-22T12:43:19.581Z"
   },
   {
    "duration": 3,
    "start_time": "2023-08-22T12:43:20.397Z"
   },
   {
    "duration": 3234,
    "start_time": "2023-08-22T12:43:25.381Z"
   },
   {
    "duration": 673,
    "start_time": "2023-08-22T12:43:29.397Z"
   },
   {
    "duration": 2099,
    "start_time": "2023-08-22T12:43:31.477Z"
   },
   {
    "duration": 322,
    "start_time": "2023-08-22T12:43:36.141Z"
   },
   {
    "duration": 4694,
    "start_time": "2023-08-22T12:45:04.483Z"
   },
   {
    "duration": 6,
    "start_time": "2023-08-22T12:45:11.496Z"
   },
   {
    "duration": 1944,
    "start_time": "2023-08-22T12:45:11.696Z"
   },
   {
    "duration": 159,
    "start_time": "2023-08-22T12:45:17.192Z"
   },
   {
    "duration": 11,
    "start_time": "2023-08-22T12:45:18.776Z"
   },
   {
    "duration": 76,
    "start_time": "2023-08-22T12:45:19.948Z"
   },
   {
    "duration": 239,
    "start_time": "2023-08-22T12:45:20.408Z"
   },
   {
    "duration": 18,
    "start_time": "2023-08-22T12:45:21.856Z"
   },
   {
    "duration": 2,
    "start_time": "2023-08-22T12:45:22.744Z"
   },
   {
    "duration": 3310,
    "start_time": "2023-08-22T12:45:25.255Z"
   },
   {
    "duration": 820,
    "start_time": "2023-08-22T12:45:29.671Z"
   },
   {
    "duration": 8823,
    "start_time": "2023-08-22T12:45:32.550Z"
   },
   {
    "duration": 4558,
    "start_time": "2023-08-22T12:46:16.637Z"
   },
   {
    "duration": 7,
    "start_time": "2023-08-22T12:46:22.276Z"
   },
   {
    "duration": 2100,
    "start_time": "2023-08-22T12:46:23.004Z"
   },
   {
    "duration": 167,
    "start_time": "2023-08-22T12:46:28.372Z"
   },
   {
    "duration": 11,
    "start_time": "2023-08-22T12:46:30.364Z"
   },
   {
    "duration": 74,
    "start_time": "2023-08-22T12:46:31.244Z"
   },
   {
    "duration": 269,
    "start_time": "2023-08-22T12:47:03.794Z"
   },
   {
    "duration": 20,
    "start_time": "2023-08-22T12:47:06.594Z"
   },
   {
    "duration": 3,
    "start_time": "2023-08-22T12:47:07.250Z"
   },
   {
    "duration": 3387,
    "start_time": "2023-08-22T12:47:09.458Z"
   },
   {
    "duration": 705,
    "start_time": "2023-08-22T12:47:13.777Z"
   },
   {
    "duration": 8874,
    "start_time": "2023-08-22T12:47:15.897Z"
   },
   {
    "duration": 4601,
    "start_time": "2023-08-22T13:17:12.627Z"
   },
   {
    "duration": 5,
    "start_time": "2023-08-22T13:17:18.222Z"
   },
   {
    "duration": 2261,
    "start_time": "2023-08-22T13:17:18.906Z"
   },
   {
    "duration": 168,
    "start_time": "2023-08-22T13:17:24.187Z"
   },
   {
    "duration": 11,
    "start_time": "2023-08-22T13:17:27.131Z"
   },
   {
    "duration": 85,
    "start_time": "2023-08-22T13:17:28.071Z"
   },
   {
    "duration": 232,
    "start_time": "2023-08-22T13:17:28.722Z"
   },
   {
    "duration": 18,
    "start_time": "2023-08-22T13:17:30.237Z"
   },
   {
    "duration": 3,
    "start_time": "2023-08-22T13:17:31.329Z"
   },
   {
    "duration": 3196,
    "start_time": "2023-08-22T13:17:33.763Z"
   },
   {
    "duration": 656,
    "start_time": "2023-08-22T13:17:37.513Z"
   },
   {
    "duration": 8717,
    "start_time": "2023-08-22T13:17:39.371Z"
   },
   {
    "duration": 352,
    "start_time": "2023-08-22T13:17:48.166Z"
   },
   {
    "duration": 4543,
    "start_time": "2023-08-22T13:22:31.805Z"
   },
   {
    "duration": 6,
    "start_time": "2023-08-22T13:22:37.829Z"
   },
   {
    "duration": 1676,
    "start_time": "2023-08-22T13:22:38.026Z"
   },
   {
    "duration": 166,
    "start_time": "2023-08-22T13:22:41.110Z"
   },
   {
    "duration": 11,
    "start_time": "2023-08-22T13:22:42.763Z"
   },
   {
    "duration": 74,
    "start_time": "2023-08-22T13:22:43.593Z"
   },
   {
    "duration": 243,
    "start_time": "2023-08-22T13:22:44.050Z"
   },
   {
    "duration": 18,
    "start_time": "2023-08-22T13:22:46.036Z"
   },
   {
    "duration": 3,
    "start_time": "2023-08-22T13:22:46.267Z"
   },
   {
    "duration": 3707,
    "start_time": "2023-08-22T13:22:48.538Z"
   },
   {
    "duration": 756,
    "start_time": "2023-08-22T13:22:54.006Z"
   },
   {
    "duration": 1991,
    "start_time": "2023-08-22T13:22:57.485Z"
   },
   {
    "duration": 323,
    "start_time": "2023-08-22T13:23:01.738Z"
   },
   {
    "duration": 4723,
    "start_time": "2023-08-22T13:24:14.161Z"
   },
   {
    "duration": 5,
    "start_time": "2023-08-22T13:24:18.888Z"
   },
   {
    "duration": 1893,
    "start_time": "2023-08-22T13:24:19.429Z"
   },
   {
    "duration": 162,
    "start_time": "2023-08-22T13:24:22.949Z"
   },
   {
    "duration": 11,
    "start_time": "2023-08-22T13:24:24.613Z"
   },
   {
    "duration": 82,
    "start_time": "2023-08-22T13:24:25.497Z"
   },
   {
    "duration": 239,
    "start_time": "2023-08-22T13:24:25.983Z"
   },
   {
    "duration": 18,
    "start_time": "2023-08-22T13:24:27.437Z"
   },
   {
    "duration": 3,
    "start_time": "2023-08-22T13:24:27.844Z"
   },
   {
    "duration": 3547,
    "start_time": "2023-08-22T13:24:29.940Z"
   },
   {
    "duration": 685,
    "start_time": "2023-08-22T13:24:34.052Z"
   },
   {
    "duration": 2140,
    "start_time": "2023-08-22T13:24:37.532Z"
   },
   {
    "duration": 335,
    "start_time": "2023-08-22T13:24:47.404Z"
   },
   {
    "duration": 4600,
    "start_time": "2023-08-22T13:25:20.714Z"
   },
   {
    "duration": 7,
    "start_time": "2023-08-22T13:25:26.406Z"
   },
   {
    "duration": 1489,
    "start_time": "2023-08-22T13:25:26.614Z"
   },
   {
    "duration": 158,
    "start_time": "2023-08-22T13:25:29.470Z"
   },
   {
    "duration": 12,
    "start_time": "2023-08-22T13:25:31.006Z"
   },
   {
    "duration": 83,
    "start_time": "2023-08-22T13:25:31.823Z"
   },
   {
    "duration": 247,
    "start_time": "2023-08-22T13:25:32.046Z"
   },
   {
    "duration": 22,
    "start_time": "2023-08-22T13:25:33.942Z"
   },
   {
    "duration": 3,
    "start_time": "2023-08-22T13:25:34.591Z"
   },
   {
    "duration": 3571,
    "start_time": "2023-08-22T13:25:36.094Z"
   },
   {
    "duration": 656,
    "start_time": "2023-08-22T13:25:39.667Z"
   },
   {
    "duration": 2460,
    "start_time": "2023-08-22T13:25:41.221Z"
   },
   {
    "duration": 322,
    "start_time": "2023-08-22T13:25:50.134Z"
   },
   {
    "duration": 4754,
    "start_time": "2023-08-22T13:27:51.554Z"
   },
   {
    "duration": 7,
    "start_time": "2023-08-22T13:27:57.401Z"
   },
   {
    "duration": 1777,
    "start_time": "2023-08-22T13:27:57.934Z"
   },
   {
    "duration": 189,
    "start_time": "2023-08-22T13:28:01.167Z"
   },
   {
    "duration": 12,
    "start_time": "2023-08-22T13:28:02.885Z"
   },
   {
    "duration": 77,
    "start_time": "2023-08-22T13:28:03.670Z"
   },
   {
    "duration": 281,
    "start_time": "2023-08-22T13:28:03.934Z"
   },
   {
    "duration": 17,
    "start_time": "2023-08-22T13:28:04.966Z"
   },
   {
    "duration": 3,
    "start_time": "2023-08-22T13:28:05.365Z"
   },
   {
    "duration": 3744,
    "start_time": "2023-08-22T13:28:06.734Z"
   },
   {
    "duration": 697,
    "start_time": "2023-08-22T13:28:10.480Z"
   },
   {
    "duration": 2200,
    "start_time": "2023-08-22T13:28:11.179Z"
   },
   {
    "duration": 320,
    "start_time": "2023-08-22T13:28:15.095Z"
   },
   {
    "duration": 5289,
    "start_time": "2023-08-22T13:30:02.663Z"
   },
   {
    "duration": 6,
    "start_time": "2023-08-22T13:30:09.280Z"
   },
   {
    "duration": 1612,
    "start_time": "2023-08-22T13:30:10.048Z"
   },
   {
    "duration": 178,
    "start_time": "2023-08-22T13:30:14.319Z"
   },
   {
    "duration": 11,
    "start_time": "2023-08-22T13:30:17.201Z"
   },
   {
    "duration": 78,
    "start_time": "2023-08-22T13:30:18.111Z"
   },
   {
    "duration": 249,
    "start_time": "2023-08-22T13:30:18.735Z"
   },
   {
    "duration": 18,
    "start_time": "2023-08-22T13:30:20.479Z"
   },
   {
    "duration": 3,
    "start_time": "2023-08-22T13:30:21.111Z"
   },
   {
    "duration": 4619,
    "start_time": "2023-08-22T13:30:23.279Z"
   },
   {
    "duration": 823,
    "start_time": "2023-08-22T13:30:27.900Z"
   },
   {
    "duration": 2324,
    "start_time": "2023-08-22T13:30:30.743Z"
   },
   {
    "duration": 85,
    "start_time": "2023-08-22T13:30:35.673Z"
   },
   {
    "duration": 4,
    "start_time": "2023-08-22T13:34:46.458Z"
   },
   {
    "duration": 4613,
    "start_time": "2023-08-22T13:39:41.570Z"
   },
   {
    "duration": 5,
    "start_time": "2023-08-22T13:39:47.358Z"
   },
   {
    "duration": 2135,
    "start_time": "2023-08-22T13:39:48.198Z"
   },
   {
    "duration": 175,
    "start_time": "2023-08-22T13:39:53.423Z"
   },
   {
    "duration": 10,
    "start_time": "2023-08-22T13:39:55.192Z"
   },
   {
    "duration": 73,
    "start_time": "2023-08-22T13:39:56.297Z"
   },
   {
    "duration": 247,
    "start_time": "2023-08-22T13:39:57.070Z"
   },
   {
    "duration": 22,
    "start_time": "2023-08-22T13:39:58.365Z"
   },
   {
    "duration": 3,
    "start_time": "2023-08-22T13:39:59.341Z"
   },
   {
    "duration": 3684,
    "start_time": "2023-08-22T13:40:01.767Z"
   },
   {
    "duration": 686,
    "start_time": "2023-08-22T13:40:05.453Z"
   },
   {
    "duration": 9141,
    "start_time": "2023-08-22T13:40:07.133Z"
   },
   {
    "duration": 5,
    "start_time": "2023-08-22T13:40:18.731Z"
   },
   {
    "duration": 4537,
    "start_time": "2023-08-22T13:41:16.581Z"
   },
   {
    "duration": 6,
    "start_time": "2023-08-22T13:41:22.233Z"
   },
   {
    "duration": 1533,
    "start_time": "2023-08-22T13:41:22.889Z"
   },
   {
    "duration": 165,
    "start_time": "2023-08-22T13:41:26.985Z"
   },
   {
    "duration": 11,
    "start_time": "2023-08-22T13:41:28.769Z"
   },
   {
    "duration": 78,
    "start_time": "2023-08-22T13:41:29.481Z"
   },
   {
    "duration": 247,
    "start_time": "2023-08-22T13:41:29.721Z"
   },
   {
    "duration": 18,
    "start_time": "2023-08-22T13:41:31.677Z"
   },
   {
    "duration": 3,
    "start_time": "2023-08-22T13:41:32.161Z"
   },
   {
    "duration": 4094,
    "start_time": "2023-08-22T13:41:35.313Z"
   },
   {
    "duration": 666,
    "start_time": "2023-08-22T13:41:39.904Z"
   },
   {
    "duration": 8898,
    "start_time": "2023-08-22T13:41:42.769Z"
   },
   {
    "duration": 3,
    "start_time": "2023-08-22T13:41:54.209Z"
   },
   {
    "duration": 4612,
    "start_time": "2023-08-22T13:48:44.124Z"
   },
   {
    "duration": 5,
    "start_time": "2023-08-22T13:48:50.052Z"
   },
   {
    "duration": 2280,
    "start_time": "2023-08-22T13:48:51.100Z"
   },
   {
    "duration": 165,
    "start_time": "2023-08-22T13:48:56.090Z"
   },
   {
    "duration": 12,
    "start_time": "2023-08-22T13:48:57.619Z"
   },
   {
    "duration": 84,
    "start_time": "2023-08-22T13:48:58.755Z"
   },
   {
    "duration": 253,
    "start_time": "2023-08-22T13:48:59.290Z"
   },
   {
    "duration": 19,
    "start_time": "2023-08-22T13:49:00.915Z"
   },
   {
    "duration": 2,
    "start_time": "2023-08-22T13:49:01.507Z"
   },
   {
    "duration": 3752,
    "start_time": "2023-08-22T13:49:04.261Z"
   },
   {
    "duration": 699,
    "start_time": "2023-08-22T13:49:08.706Z"
   },
   {
    "duration": 8907,
    "start_time": "2023-08-22T13:49:11.081Z"
   },
   {
    "duration": 4549,
    "start_time": "2023-08-22T14:15:03.219Z"
   },
   {
    "duration": 6,
    "start_time": "2023-08-22T14:15:10.927Z"
   },
   {
    "duration": 2200,
    "start_time": "2023-08-22T14:15:11.815Z"
   },
   {
    "duration": 189,
    "start_time": "2023-08-22T14:15:16.874Z"
   },
   {
    "duration": 13,
    "start_time": "2023-08-22T14:15:18.171Z"
   },
   {
    "duration": 86,
    "start_time": "2023-08-22T14:15:19.319Z"
   },
   {
    "duration": 249,
    "start_time": "2023-08-22T14:15:21.878Z"
   },
   {
    "duration": 17,
    "start_time": "2023-08-22T14:15:23.260Z"
   },
   {
    "duration": 3377,
    "start_time": "2023-08-22T14:15:29.487Z"
   },
   {
    "duration": 126,
    "start_time": "2023-08-22T14:15:33.710Z"
   },
   {
    "duration": 2085,
    "start_time": "2023-08-22T14:15:36.782Z"
   },
   {
    "duration": 4,
    "start_time": "2023-08-22T14:15:41.953Z"
   },
   {
    "duration": 4730,
    "start_time": "2023-08-22T14:17:57.411Z"
   },
   {
    "duration": 6,
    "start_time": "2023-08-22T14:18:03.510Z"
   },
   {
    "duration": 1872,
    "start_time": "2023-08-22T14:18:04.103Z"
   },
   {
    "duration": 161,
    "start_time": "2023-08-22T14:18:08.686Z"
   },
   {
    "duration": 11,
    "start_time": "2023-08-22T14:18:10.274Z"
   },
   {
    "duration": 81,
    "start_time": "2023-08-22T14:18:11.078Z"
   },
   {
    "duration": 253,
    "start_time": "2023-08-22T14:18:11.302Z"
   },
   {
    "duration": 16,
    "start_time": "2023-08-22T14:18:12.678Z"
   },
   {
    "duration": 3523,
    "start_time": "2023-08-22T14:18:18.110Z"
   },
   {
    "duration": 148,
    "start_time": "2023-08-22T14:18:22.471Z"
   },
   {
    "duration": 8943,
    "start_time": "2023-08-22T14:18:24.133Z"
   },
   {
    "duration": 3,
    "start_time": "2023-08-22T14:18:38.142Z"
   },
   {
    "duration": 4644,
    "start_time": "2023-08-22T14:19:27.929Z"
   },
   {
    "duration": 6,
    "start_time": "2023-08-22T14:19:37.477Z"
   },
   {
    "duration": 1638,
    "start_time": "2023-08-22T14:19:38.478Z"
   },
   {
    "duration": 158,
    "start_time": "2023-08-22T14:19:45.517Z"
   },
   {
    "duration": 11,
    "start_time": "2023-08-22T14:19:47.981Z"
   },
   {
    "duration": 75,
    "start_time": "2023-08-22T14:19:49.677Z"
   },
   {
    "duration": 241,
    "start_time": "2023-08-22T14:19:50.651Z"
   },
   {
    "duration": 15,
    "start_time": "2023-08-22T14:19:52.781Z"
   },
   {
    "duration": 2,
    "start_time": "2023-08-22T14:19:57.605Z"
   },
   {
    "duration": 3596,
    "start_time": "2023-08-22T14:20:00.175Z"
   },
   {
    "duration": 155,
    "start_time": "2023-08-22T14:20:09.612Z"
   },
   {
    "duration": 8813,
    "start_time": "2023-08-22T14:20:17.466Z"
   },
   {
    "duration": 4,
    "start_time": "2023-08-22T14:20:27.915Z"
   }
  ],
  "kernelspec": {
   "display_name": "Python 3 (ipykernel)",
   "language": "python",
   "name": "python3"
  },
  "language_info": {
   "codemirror_mode": {
    "name": "ipython",
    "version": 3
   },
   "file_extension": ".py",
   "mimetype": "text/x-python",
   "name": "python",
   "nbconvert_exporter": "python",
   "pygments_lexer": "ipython3",
   "version": "3.9.5"
  },
  "toc": {
   "base_numbering": 1,
   "nav_menu": {},
   "number_sections": true,
   "sideBar": true,
   "skip_h1_title": true,
   "title_cell": "Содержание",
   "title_sidebar": "Contents",
   "toc_cell": true,
   "toc_position": {
    "height": "calc(100% - 180px)",
    "left": "10px",
    "top": "150px",
    "width": "302.391px"
   },
   "toc_section_display": true,
   "toc_window_display": false
  }
 },
 "nbformat": 4,
 "nbformat_minor": 4
}
