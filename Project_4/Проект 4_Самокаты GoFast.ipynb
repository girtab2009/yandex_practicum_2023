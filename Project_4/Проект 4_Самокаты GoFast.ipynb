{
 "cells": [
  {
   "cell_type": "markdown",
   "id": "b37c7e7e",
   "metadata": {},
   "source": [
    "# Проверка гипотез сервиса аренды самокатов GoFast\n",
    "\n",
    "**Цели исследования:** \n",
    "\n",
    "- проверить гипотезу: тратят ли пользователи с подпиской больше времени на поездки? \n",
    "- проверить гипотезу: можно ли сказать, что расстояние, которое проезжают пользователи с подпиской за одну поездку, меньше 3130 метров? \n",
    "- проверить гипотезу: будет ли выручка от пользователей с подпиской выше, чем выручка от пользователей без подписки? \n",
    "\n",
    "**Описание данных:**\n",
    "\n",
    "для проведения анализа представлены данные сервиса аренды самокатов GoFast о некоторых пользователях из нескольких городов, а также о поездках этих пользователей. Чтобы совершать поездки по городу, пользователи сервиса GoFast пользуются мобильным приложением. Сервисом можно пользоваться без подписки либо с подпиской Ultra. В основных данных есть информация о пользователях, их поездках и подписках, а также дополнительная информация — о количестве обращений пользователей в техподдержку сервиса до и после обновления технической инфраструктуры. Ниже приведен перечень представленных даных: \n",
    "\n",
    "- пользователи — users_go.csv\n",
    "- поездки — rides_go.csv\n",
    "- подписки — subscriptions_go.csv\n",
    "\n",
    "**План работы:**\n",
    "\n",
    "1. открыть файл с данными и изучить общую информацию\n",
    "2. выполнить предобработку данных\n",
    "3. провести исследовательский анализ данных, в ходе которого описать и визуализировать указанную ниже информацию о пользователях и их поездках:\n",
    "- частота встречаемости городов\n",
    "- соотношение пользователей с подпиской и без подписки\n",
    "- расстояние и время поездок для пользователей с подпиской и без подписки\n",
    "- возраст пользователей\n",
    "- расстояние, которое пользователь преодолел за одну поездку\n",
    "- продолжительность поездок\n",
    "4. добавить в датафрейм столбец с помесячной выручкой, которую принес каждый пользователь\n",
    "5. проверить гипотезы, указанные в целях исследования\n",
    "6. выяснить какое минимальное количество промокодов нужно разослать, чтобы вероятность не выполнить план была примерно 5%\n",
    "7. оценить вероятность того, что рассылаемые отделом маркетинга в мобильном приложении push-уведомления откроют не более 399,5 тыс. пользователей\n",
    "5. сформулировать общий вывод"
   ]
  },
  {
   "cell_type": "markdown",
   "id": "56930bfc",
   "metadata": {},
   "source": [
    "#### Шаг 1. Загрузка данных"
   ]
  },
  {
   "cell_type": "code",
   "execution_count": 1,
   "id": "86b24d7f",
   "metadata": {},
   "outputs": [],
   "source": [
    "# импортируем нужные библиотеки\n",
    "from scipy import stats as st\n",
    "import numpy as np\n",
    "import pandas as pd\n",
    "import matplotlib\n",
    "import matplotlib.pyplot as plt\n",
    "import seaborn\n",
    "from math import sqrt"
   ]
  },
  {
   "cell_type": "code",
   "execution_count": 2,
   "id": "a67cbbda",
   "metadata": {},
   "outputs": [
    {
     "name": "stdout",
     "output_type": "stream",
     "text": [
      "<class 'pandas.core.frame.DataFrame'>\n",
      "RangeIndex: 1565 entries, 0 to 1564\n",
      "Data columns (total 5 columns):\n",
      " #   Column             Non-Null Count  Dtype \n",
      "---  ------             --------------  ----- \n",
      " 0   user_id            1565 non-null   int64 \n",
      " 1   name               1565 non-null   object\n",
      " 2   age                1565 non-null   int64 \n",
      " 3   city               1565 non-null   object\n",
      " 4   subscription_type  1565 non-null   object\n",
      "dtypes: int64(2), object(3)\n",
      "memory usage: 61.3+ KB\n",
      "\n",
      "<class 'pandas.core.frame.DataFrame'>\n",
      "RangeIndex: 18068 entries, 0 to 18067\n",
      "Data columns (total 4 columns):\n",
      " #   Column    Non-Null Count  Dtype  \n",
      "---  ------    --------------  -----  \n",
      " 0   user_id   18068 non-null  int64  \n",
      " 1   distance  18068 non-null  float64\n",
      " 2   duration  18068 non-null  float64\n",
      " 3   date      18068 non-null  object \n",
      "dtypes: float64(2), int64(1), object(1)\n",
      "memory usage: 564.8+ KB\n",
      "\n",
      "<class 'pandas.core.frame.DataFrame'>\n",
      "RangeIndex: 2 entries, 0 to 1\n",
      "Data columns (total 4 columns):\n",
      " #   Column             Non-Null Count  Dtype \n",
      "---  ------             --------------  ----- \n",
      " 0   subscription_type  2 non-null      object\n",
      " 1   minute_price       2 non-null      int64 \n",
      " 2   start_ride_price   2 non-null      int64 \n",
      " 3   subscription_fee   2 non-null      int64 \n",
      "dtypes: int64(3), object(1)\n",
      "memory usage: 192.0+ bytes\n"
     ]
    }
   ],
   "source": [
    "try:\n",
    "    users = pd.read_csv('/datasets/users_go.csv')\n",
    "except:\n",
    "    users = pd.read_csv('https://code.s3.yandex.net/datasets/users_go.csv')\n",
    "    \n",
    "try:\n",
    "    rides = pd.read_csv('/datasets/rides_go.csv')\n",
    "except:\n",
    "    rides = pd.read_csv('https://code.s3.yandex.net/datasets/rides_go.csv')\n",
    "\n",
    "try:\n",
    "    subs = pd.read_csv('/datasets/subscriptions_go.csv')\n",
    "except:\n",
    "    subs = pd.read_csv('https://code.s3.yandex.net/datasets/subscriptions_go.csv')\n",
    "\n",
    "# выводим основную информацию о датафреймах с помощью метода info()\n",
    "users.info()\n",
    "print()\n",
    "rides.info()\n",
    "print()\n",
    "subs.info()"
   ]
  },
  {
   "cell_type": "markdown",
   "id": "b56f6d39",
   "metadata": {},
   "source": [
    "Таким образом, у нас есть три датафрейма. Из них:\n",
    "1. в датафрейме users 5 столбцов, они содержат информацию о пользователях сервиса: id (целочисленный тип данных), имени пользователя (текстовый тип), его возрасте (целочисленный тип), городе (текстовый тип) и наличии подписки (текстовый тип)\n",
    "2. в датафрейме rides 4 столбца, они содержат информацию о поездках пользователей сервиса: id (целочисленный тип данных), расстоянии (вещественный тип), продолжительности поездки (вещественный тип) и дате поездки (текстовый тип)  \n",
    "3. в датафрейме subs 4 столбца, они содержат информацию о подписках пользователей: типе подписки (текстовый тип данных), стоимости минуты поездки (целочисленный тип), стоимости старта поездки (целочисленный тип) и размере абонентской платы (целочисленный тип).\n",
    "\n",
    "При изучении информации о датафреймах мы видим, что в столбце date датафрейма rides информация о дате поездки указана в текстовом формате. Мы приведем ее к типу даты Pandas на следующем шаге (т.е. в ходе предобработки данных). \n",
    "Названия столбцов во всех трех датафреймах соответствуют змеиному регистру, поэтому менять их мы не будем. "
   ]
  },
  {
   "cell_type": "code",
   "execution_count": 3,
   "id": "686a0c08",
   "metadata": {},
   "outputs": [
    {
     "data": {
      "text/html": [
       "<div>\n",
       "<style scoped>\n",
       "    .dataframe tbody tr th:only-of-type {\n",
       "        vertical-align: middle;\n",
       "    }\n",
       "\n",
       "    .dataframe tbody tr th {\n",
       "        vertical-align: top;\n",
       "    }\n",
       "\n",
       "    .dataframe thead th {\n",
       "        text-align: right;\n",
       "    }\n",
       "</style>\n",
       "<table border=\"1\" class=\"dataframe\">\n",
       "  <thead>\n",
       "    <tr style=\"text-align: right;\">\n",
       "      <th></th>\n",
       "      <th>user_id</th>\n",
       "      <th>name</th>\n",
       "      <th>age</th>\n",
       "      <th>city</th>\n",
       "      <th>subscription_type</th>\n",
       "    </tr>\n",
       "  </thead>\n",
       "  <tbody>\n",
       "    <tr>\n",
       "      <th>0</th>\n",
       "      <td>1</td>\n",
       "      <td>Кира</td>\n",
       "      <td>22</td>\n",
       "      <td>Тюмень</td>\n",
       "      <td>ultra</td>\n",
       "    </tr>\n",
       "    <tr>\n",
       "      <th>1</th>\n",
       "      <td>2</td>\n",
       "      <td>Станислав</td>\n",
       "      <td>31</td>\n",
       "      <td>Омск</td>\n",
       "      <td>ultra</td>\n",
       "    </tr>\n",
       "    <tr>\n",
       "      <th>2</th>\n",
       "      <td>3</td>\n",
       "      <td>Алексей</td>\n",
       "      <td>20</td>\n",
       "      <td>Москва</td>\n",
       "      <td>ultra</td>\n",
       "    </tr>\n",
       "    <tr>\n",
       "      <th>3</th>\n",
       "      <td>4</td>\n",
       "      <td>Константин</td>\n",
       "      <td>26</td>\n",
       "      <td>Ростов-на-Дону</td>\n",
       "      <td>ultra</td>\n",
       "    </tr>\n",
       "    <tr>\n",
       "      <th>4</th>\n",
       "      <td>5</td>\n",
       "      <td>Адель</td>\n",
       "      <td>28</td>\n",
       "      <td>Омск</td>\n",
       "      <td>ultra</td>\n",
       "    </tr>\n",
       "    <tr>\n",
       "      <th>5</th>\n",
       "      <td>6</td>\n",
       "      <td>Регина</td>\n",
       "      <td>25</td>\n",
       "      <td>Краснодар</td>\n",
       "      <td>ultra</td>\n",
       "    </tr>\n",
       "    <tr>\n",
       "      <th>6</th>\n",
       "      <td>7</td>\n",
       "      <td>Игорь</td>\n",
       "      <td>23</td>\n",
       "      <td>Омск</td>\n",
       "      <td>ultra</td>\n",
       "    </tr>\n",
       "    <tr>\n",
       "      <th>7</th>\n",
       "      <td>8</td>\n",
       "      <td>Юрий</td>\n",
       "      <td>23</td>\n",
       "      <td>Краснодар</td>\n",
       "      <td>ultra</td>\n",
       "    </tr>\n",
       "    <tr>\n",
       "      <th>8</th>\n",
       "      <td>9</td>\n",
       "      <td>Ян</td>\n",
       "      <td>21</td>\n",
       "      <td>Пятигорск</td>\n",
       "      <td>ultra</td>\n",
       "    </tr>\n",
       "    <tr>\n",
       "      <th>9</th>\n",
       "      <td>10</td>\n",
       "      <td>Валерий</td>\n",
       "      <td>18</td>\n",
       "      <td>Екатеринбург</td>\n",
       "      <td>ultra</td>\n",
       "    </tr>\n",
       "    <tr>\n",
       "      <th>10</th>\n",
       "      <td>11</td>\n",
       "      <td>Агата</td>\n",
       "      <td>31</td>\n",
       "      <td>Краснодар</td>\n",
       "      <td>ultra</td>\n",
       "    </tr>\n",
       "    <tr>\n",
       "      <th>11</th>\n",
       "      <td>12</td>\n",
       "      <td>Марк</td>\n",
       "      <td>27</td>\n",
       "      <td>Тюмень</td>\n",
       "      <td>ultra</td>\n",
       "    </tr>\n",
       "    <tr>\n",
       "      <th>12</th>\n",
       "      <td>13</td>\n",
       "      <td>Ева</td>\n",
       "      <td>24</td>\n",
       "      <td>Краснодар</td>\n",
       "      <td>ultra</td>\n",
       "    </tr>\n",
       "    <tr>\n",
       "      <th>13</th>\n",
       "      <td>14</td>\n",
       "      <td>Антонина</td>\n",
       "      <td>18</td>\n",
       "      <td>Пятигорск</td>\n",
       "      <td>ultra</td>\n",
       "    </tr>\n",
       "    <tr>\n",
       "      <th>14</th>\n",
       "      <td>15</td>\n",
       "      <td>Валерия</td>\n",
       "      <td>24</td>\n",
       "      <td>Тюмень</td>\n",
       "      <td>ultra</td>\n",
       "    </tr>\n",
       "    <tr>\n",
       "      <th>15</th>\n",
       "      <td>16</td>\n",
       "      <td>Амалия</td>\n",
       "      <td>27</td>\n",
       "      <td>Краснодар</td>\n",
       "      <td>ultra</td>\n",
       "    </tr>\n",
       "    <tr>\n",
       "      <th>16</th>\n",
       "      <td>17</td>\n",
       "      <td>Даниил</td>\n",
       "      <td>29</td>\n",
       "      <td>Москва</td>\n",
       "      <td>ultra</td>\n",
       "    </tr>\n",
       "    <tr>\n",
       "      <th>17</th>\n",
       "      <td>18</td>\n",
       "      <td>Аделина</td>\n",
       "      <td>24</td>\n",
       "      <td>Сочи</td>\n",
       "      <td>ultra</td>\n",
       "    </tr>\n",
       "    <tr>\n",
       "      <th>18</th>\n",
       "      <td>19</td>\n",
       "      <td>Регина</td>\n",
       "      <td>32</td>\n",
       "      <td>Тюмень</td>\n",
       "      <td>ultra</td>\n",
       "    </tr>\n",
       "    <tr>\n",
       "      <th>19</th>\n",
       "      <td>20</td>\n",
       "      <td>Игорь</td>\n",
       "      <td>23</td>\n",
       "      <td>Омск</td>\n",
       "      <td>ultra</td>\n",
       "    </tr>\n",
       "  </tbody>\n",
       "</table>\n",
       "</div>"
      ],
      "text/plain": [
       "    user_id        name  age            city subscription_type\n",
       "0         1        Кира   22          Тюмень             ultra\n",
       "1         2   Станислав   31            Омск             ultra\n",
       "2         3     Алексей   20          Москва             ultra\n",
       "3         4  Константин   26  Ростов-на-Дону             ultra\n",
       "4         5       Адель   28            Омск             ultra\n",
       "5         6      Регина   25       Краснодар             ultra\n",
       "6         7       Игорь   23            Омск             ultra\n",
       "7         8        Юрий   23       Краснодар             ultra\n",
       "8         9          Ян   21       Пятигорск             ultra\n",
       "9        10     Валерий   18    Екатеринбург             ultra\n",
       "10       11       Агата   31       Краснодар             ultra\n",
       "11       12        Марк   27          Тюмень             ultra\n",
       "12       13         Ева   24       Краснодар             ultra\n",
       "13       14    Антонина   18       Пятигорск             ultra\n",
       "14       15     Валерия   24          Тюмень             ultra\n",
       "15       16      Амалия   27       Краснодар             ultra\n",
       "16       17      Даниил   29          Москва             ultra\n",
       "17       18     Аделина   24            Сочи             ultra\n",
       "18       19      Регина   32          Тюмень             ultra\n",
       "19       20       Игорь   23            Омск             ultra"
      ]
     },
     "execution_count": 3,
     "metadata": {},
     "output_type": "execute_result"
    }
   ],
   "source": [
    "# выведем первые 20 строчек датафрейма users на экран\n",
    "users.head(20)"
   ]
  },
  {
   "cell_type": "code",
   "execution_count": 4,
   "id": "13ed5b5f",
   "metadata": {},
   "outputs": [
    {
     "data": {
      "text/html": [
       "<div>\n",
       "<style scoped>\n",
       "    .dataframe tbody tr th:only-of-type {\n",
       "        vertical-align: middle;\n",
       "    }\n",
       "\n",
       "    .dataframe tbody tr th {\n",
       "        vertical-align: top;\n",
       "    }\n",
       "\n",
       "    .dataframe thead th {\n",
       "        text-align: right;\n",
       "    }\n",
       "</style>\n",
       "<table border=\"1\" class=\"dataframe\">\n",
       "  <thead>\n",
       "    <tr style=\"text-align: right;\">\n",
       "      <th></th>\n",
       "      <th>user_id</th>\n",
       "      <th>distance</th>\n",
       "      <th>duration</th>\n",
       "      <th>date</th>\n",
       "    </tr>\n",
       "  </thead>\n",
       "  <tbody>\n",
       "    <tr>\n",
       "      <th>0</th>\n",
       "      <td>1</td>\n",
       "      <td>4409.919140</td>\n",
       "      <td>25.599769</td>\n",
       "      <td>2021-01-01</td>\n",
       "    </tr>\n",
       "    <tr>\n",
       "      <th>1</th>\n",
       "      <td>1</td>\n",
       "      <td>2617.592153</td>\n",
       "      <td>15.816871</td>\n",
       "      <td>2021-01-18</td>\n",
       "    </tr>\n",
       "    <tr>\n",
       "      <th>2</th>\n",
       "      <td>1</td>\n",
       "      <td>754.159807</td>\n",
       "      <td>6.232113</td>\n",
       "      <td>2021-04-20</td>\n",
       "    </tr>\n",
       "    <tr>\n",
       "      <th>3</th>\n",
       "      <td>1</td>\n",
       "      <td>2694.783254</td>\n",
       "      <td>18.511000</td>\n",
       "      <td>2021-08-11</td>\n",
       "    </tr>\n",
       "    <tr>\n",
       "      <th>4</th>\n",
       "      <td>1</td>\n",
       "      <td>4028.687306</td>\n",
       "      <td>26.265803</td>\n",
       "      <td>2021-08-28</td>\n",
       "    </tr>\n",
       "    <tr>\n",
       "      <th>5</th>\n",
       "      <td>1</td>\n",
       "      <td>2770.890808</td>\n",
       "      <td>16.650138</td>\n",
       "      <td>2021-10-09</td>\n",
       "    </tr>\n",
       "    <tr>\n",
       "      <th>6</th>\n",
       "      <td>1</td>\n",
       "      <td>3039.020292</td>\n",
       "      <td>14.927879</td>\n",
       "      <td>2021-10-19</td>\n",
       "    </tr>\n",
       "    <tr>\n",
       "      <th>7</th>\n",
       "      <td>1</td>\n",
       "      <td>2842.118050</td>\n",
       "      <td>23.117468</td>\n",
       "      <td>2021-11-06</td>\n",
       "    </tr>\n",
       "    <tr>\n",
       "      <th>8</th>\n",
       "      <td>1</td>\n",
       "      <td>3412.690668</td>\n",
       "      <td>15.238072</td>\n",
       "      <td>2021-11-14</td>\n",
       "    </tr>\n",
       "    <tr>\n",
       "      <th>9</th>\n",
       "      <td>1</td>\n",
       "      <td>748.690645</td>\n",
       "      <td>15.041884</td>\n",
       "      <td>2021-11-22</td>\n",
       "    </tr>\n",
       "    <tr>\n",
       "      <th>10</th>\n",
       "      <td>1</td>\n",
       "      <td>4031.020195</td>\n",
       "      <td>17.674448</td>\n",
       "      <td>2021-12-14</td>\n",
       "    </tr>\n",
       "    <tr>\n",
       "      <th>11</th>\n",
       "      <td>1</td>\n",
       "      <td>2720.609748</td>\n",
       "      <td>9.529463</td>\n",
       "      <td>2021-12-22</td>\n",
       "    </tr>\n",
       "    <tr>\n",
       "      <th>12</th>\n",
       "      <td>2</td>\n",
       "      <td>3105.086678</td>\n",
       "      <td>24.307514</td>\n",
       "      <td>2021-03-15</td>\n",
       "    </tr>\n",
       "    <tr>\n",
       "      <th>13</th>\n",
       "      <td>2</td>\n",
       "      <td>3053.519401</td>\n",
       "      <td>11.543256</td>\n",
       "      <td>2021-03-18</td>\n",
       "    </tr>\n",
       "    <tr>\n",
       "      <th>14</th>\n",
       "      <td>2</td>\n",
       "      <td>4029.116927</td>\n",
       "      <td>25.109188</td>\n",
       "      <td>2021-03-23</td>\n",
       "    </tr>\n",
       "    <tr>\n",
       "      <th>15</th>\n",
       "      <td>2</td>\n",
       "      <td>2805.786329</td>\n",
       "      <td>20.652145</td>\n",
       "      <td>2021-04-08</td>\n",
       "    </tr>\n",
       "    <tr>\n",
       "      <th>16</th>\n",
       "      <td>2</td>\n",
       "      <td>3358.595495</td>\n",
       "      <td>18.396489</td>\n",
       "      <td>2021-04-13</td>\n",
       "    </tr>\n",
       "    <tr>\n",
       "      <th>17</th>\n",
       "      <td>2</td>\n",
       "      <td>3255.338202</td>\n",
       "      <td>13.851127</td>\n",
       "      <td>2021-06-20</td>\n",
       "    </tr>\n",
       "    <tr>\n",
       "      <th>18</th>\n",
       "      <td>2</td>\n",
       "      <td>3942.817648</td>\n",
       "      <td>20.142725</td>\n",
       "      <td>2021-07-02</td>\n",
       "    </tr>\n",
       "    <tr>\n",
       "      <th>19</th>\n",
       "      <td>2</td>\n",
       "      <td>2837.905316</td>\n",
       "      <td>26.027432</td>\n",
       "      <td>2021-07-18</td>\n",
       "    </tr>\n",
       "  </tbody>\n",
       "</table>\n",
       "</div>"
      ],
      "text/plain": [
       "    user_id     distance   duration        date\n",
       "0         1  4409.919140  25.599769  2021-01-01\n",
       "1         1  2617.592153  15.816871  2021-01-18\n",
       "2         1   754.159807   6.232113  2021-04-20\n",
       "3         1  2694.783254  18.511000  2021-08-11\n",
       "4         1  4028.687306  26.265803  2021-08-28\n",
       "5         1  2770.890808  16.650138  2021-10-09\n",
       "6         1  3039.020292  14.927879  2021-10-19\n",
       "7         1  2842.118050  23.117468  2021-11-06\n",
       "8         1  3412.690668  15.238072  2021-11-14\n",
       "9         1   748.690645  15.041884  2021-11-22\n",
       "10        1  4031.020195  17.674448  2021-12-14\n",
       "11        1  2720.609748   9.529463  2021-12-22\n",
       "12        2  3105.086678  24.307514  2021-03-15\n",
       "13        2  3053.519401  11.543256  2021-03-18\n",
       "14        2  4029.116927  25.109188  2021-03-23\n",
       "15        2  2805.786329  20.652145  2021-04-08\n",
       "16        2  3358.595495  18.396489  2021-04-13\n",
       "17        2  3255.338202  13.851127  2021-06-20\n",
       "18        2  3942.817648  20.142725  2021-07-02\n",
       "19        2  2837.905316  26.027432  2021-07-18"
      ]
     },
     "execution_count": 4,
     "metadata": {},
     "output_type": "execute_result"
    }
   ],
   "source": [
    "# выведем первые 20 строчек датафрейма rides на экран\n",
    "rides.head(20)"
   ]
  },
  {
   "cell_type": "code",
   "execution_count": 5,
   "id": "25b0f156",
   "metadata": {},
   "outputs": [
    {
     "data": {
      "text/html": [
       "<div>\n",
       "<style scoped>\n",
       "    .dataframe tbody tr th:only-of-type {\n",
       "        vertical-align: middle;\n",
       "    }\n",
       "\n",
       "    .dataframe tbody tr th {\n",
       "        vertical-align: top;\n",
       "    }\n",
       "\n",
       "    .dataframe thead th {\n",
       "        text-align: right;\n",
       "    }\n",
       "</style>\n",
       "<table border=\"1\" class=\"dataframe\">\n",
       "  <thead>\n",
       "    <tr style=\"text-align: right;\">\n",
       "      <th></th>\n",
       "      <th>subscription_type</th>\n",
       "      <th>minute_price</th>\n",
       "      <th>start_ride_price</th>\n",
       "      <th>subscription_fee</th>\n",
       "    </tr>\n",
       "  </thead>\n",
       "  <tbody>\n",
       "    <tr>\n",
       "      <th>0</th>\n",
       "      <td>free</td>\n",
       "      <td>8</td>\n",
       "      <td>50</td>\n",
       "      <td>0</td>\n",
       "    </tr>\n",
       "    <tr>\n",
       "      <th>1</th>\n",
       "      <td>ultra</td>\n",
       "      <td>6</td>\n",
       "      <td>0</td>\n",
       "      <td>199</td>\n",
       "    </tr>\n",
       "  </tbody>\n",
       "</table>\n",
       "</div>"
      ],
      "text/plain": [
       "  subscription_type  minute_price  start_ride_price  subscription_fee\n",
       "0              free             8                50                 0\n",
       "1             ultra             6                 0               199"
      ]
     },
     "execution_count": 5,
     "metadata": {},
     "output_type": "execute_result"
    }
   ],
   "source": [
    "# выведем первые 20 строчек датафрейма subs на экран\n",
    "subs.head(20)"
   ]
  },
  {
   "cell_type": "markdown",
   "id": "e0357ac1",
   "metadata": {},
   "source": [
    "Как мы видим, в датафрейме subs всего две строки, соответствующих типам подписки: free (т.е. без подписки) и ultra (с подпиской). Также видим, что в выведенных на экран строчках всех трех датафреймах отсутствуют пропуски. Поиск пропущенных значений и дубликатов в датафреймах проведем на следующем шаге исследования.\t   "
   ]
  },
  {
   "cell_type": "code",
   "execution_count": 6,
   "id": "ddfd0cf7",
   "metadata": {},
   "outputs": [
    {
     "data": {
      "text/html": [
       "<div>\n",
       "<style scoped>\n",
       "    .dataframe tbody tr th:only-of-type {\n",
       "        vertical-align: middle;\n",
       "    }\n",
       "\n",
       "    .dataframe tbody tr th {\n",
       "        vertical-align: top;\n",
       "    }\n",
       "\n",
       "    .dataframe thead th {\n",
       "        text-align: right;\n",
       "    }\n",
       "</style>\n",
       "<table border=\"1\" class=\"dataframe\">\n",
       "  <thead>\n",
       "    <tr style=\"text-align: right;\">\n",
       "      <th></th>\n",
       "      <th>user_id</th>\n",
       "      <th>age</th>\n",
       "    </tr>\n",
       "  </thead>\n",
       "  <tbody>\n",
       "    <tr>\n",
       "      <th>count</th>\n",
       "      <td>1565.000000</td>\n",
       "      <td>1565.000000</td>\n",
       "    </tr>\n",
       "    <tr>\n",
       "      <th>mean</th>\n",
       "      <td>762.633866</td>\n",
       "      <td>24.922045</td>\n",
       "    </tr>\n",
       "    <tr>\n",
       "      <th>std</th>\n",
       "      <td>443.260155</td>\n",
       "      <td>4.553496</td>\n",
       "    </tr>\n",
       "    <tr>\n",
       "      <th>min</th>\n",
       "      <td>1.000000</td>\n",
       "      <td>12.000000</td>\n",
       "    </tr>\n",
       "    <tr>\n",
       "      <th>25%</th>\n",
       "      <td>378.000000</td>\n",
       "      <td>22.000000</td>\n",
       "    </tr>\n",
       "    <tr>\n",
       "      <th>50%</th>\n",
       "      <td>762.000000</td>\n",
       "      <td>25.000000</td>\n",
       "    </tr>\n",
       "    <tr>\n",
       "      <th>75%</th>\n",
       "      <td>1146.000000</td>\n",
       "      <td>28.000000</td>\n",
       "    </tr>\n",
       "    <tr>\n",
       "      <th>max</th>\n",
       "      <td>1534.000000</td>\n",
       "      <td>43.000000</td>\n",
       "    </tr>\n",
       "  </tbody>\n",
       "</table>\n",
       "</div>"
      ],
      "text/plain": [
       "           user_id          age\n",
       "count  1565.000000  1565.000000\n",
       "mean    762.633866    24.922045\n",
       "std     443.260155     4.553496\n",
       "min       1.000000    12.000000\n",
       "25%     378.000000    22.000000\n",
       "50%     762.000000    25.000000\n",
       "75%    1146.000000    28.000000\n",
       "max    1534.000000    43.000000"
      ]
     },
     "execution_count": 6,
     "metadata": {},
     "output_type": "execute_result"
    }
   ],
   "source": [
    "users.describe() # запрашиваем распределение по каждому из столбцов датафрейма users"
   ]
  },
  {
   "cell_type": "markdown",
   "id": "30ace25f",
   "metadata": {},
   "source": [
    "Изучая полученную информацию по столбцам user_id и age (т.к. числовые значения есть только в них), видим, что id пользователей принимает значения в диапазоне от 1 до 1 534, а возраст пользователей - от 12 до 43 лет. Видимых противоречий здесь нет, что может говорить в пользу отсутствия выбросов."
   ]
  },
  {
   "cell_type": "code",
   "execution_count": 7,
   "id": "c2c1d847",
   "metadata": {},
   "outputs": [
    {
     "data": {
      "text/html": [
       "<div>\n",
       "<style scoped>\n",
       "    .dataframe tbody tr th:only-of-type {\n",
       "        vertical-align: middle;\n",
       "    }\n",
       "\n",
       "    .dataframe tbody tr th {\n",
       "        vertical-align: top;\n",
       "    }\n",
       "\n",
       "    .dataframe thead th {\n",
       "        text-align: right;\n",
       "    }\n",
       "</style>\n",
       "<table border=\"1\" class=\"dataframe\">\n",
       "  <thead>\n",
       "    <tr style=\"text-align: right;\">\n",
       "      <th></th>\n",
       "      <th>user_id</th>\n",
       "      <th>distance</th>\n",
       "      <th>duration</th>\n",
       "    </tr>\n",
       "  </thead>\n",
       "  <tbody>\n",
       "    <tr>\n",
       "      <th>count</th>\n",
       "      <td>18068.000000</td>\n",
       "      <td>18068.000000</td>\n",
       "      <td>18068.000000</td>\n",
       "    </tr>\n",
       "    <tr>\n",
       "      <th>mean</th>\n",
       "      <td>842.869936</td>\n",
       "      <td>3070.659976</td>\n",
       "      <td>17.805011</td>\n",
       "    </tr>\n",
       "    <tr>\n",
       "      <th>std</th>\n",
       "      <td>434.734317</td>\n",
       "      <td>1116.831209</td>\n",
       "      <td>6.091051</td>\n",
       "    </tr>\n",
       "    <tr>\n",
       "      <th>min</th>\n",
       "      <td>1.000000</td>\n",
       "      <td>0.855683</td>\n",
       "      <td>0.500000</td>\n",
       "    </tr>\n",
       "    <tr>\n",
       "      <th>25%</th>\n",
       "      <td>487.000000</td>\n",
       "      <td>2543.226360</td>\n",
       "      <td>13.597563</td>\n",
       "    </tr>\n",
       "    <tr>\n",
       "      <th>50%</th>\n",
       "      <td>889.000000</td>\n",
       "      <td>3133.609994</td>\n",
       "      <td>17.678395</td>\n",
       "    </tr>\n",
       "    <tr>\n",
       "      <th>75%</th>\n",
       "      <td>1213.250000</td>\n",
       "      <td>3776.222735</td>\n",
       "      <td>21.724800</td>\n",
       "    </tr>\n",
       "    <tr>\n",
       "      <th>max</th>\n",
       "      <td>1534.000000</td>\n",
       "      <td>7211.007745</td>\n",
       "      <td>40.823963</td>\n",
       "    </tr>\n",
       "  </tbody>\n",
       "</table>\n",
       "</div>"
      ],
      "text/plain": [
       "            user_id      distance      duration\n",
       "count  18068.000000  18068.000000  18068.000000\n",
       "mean     842.869936   3070.659976     17.805011\n",
       "std      434.734317   1116.831209      6.091051\n",
       "min        1.000000      0.855683      0.500000\n",
       "25%      487.000000   2543.226360     13.597563\n",
       "50%      889.000000   3133.609994     17.678395\n",
       "75%     1213.250000   3776.222735     21.724800\n",
       "max     1534.000000   7211.007745     40.823963"
      ]
     },
     "execution_count": 7,
     "metadata": {},
     "output_type": "execute_result"
    }
   ],
   "source": [
    "rides.describe()"
   ]
  },
  {
   "cell_type": "markdown",
   "id": "91610032",
   "metadata": {},
   "source": [
    "Изучая распределение по столбцам датафрейма rides видим, что:\n",
    "- id пользователей принимает значения в диапазоне от 1 до 1 534 (т.е. как и в датафрейме users)\n",
    "- расстояние поездки принимает значение от 0.855683 до 7211.007745 при медиане 3133.609994 и среднем 3070.659976. Очевидно, что речь идет о метрах: поездка в 3 км на самокате не вызывает какого-либо противоречия, при этом длина поездки в 86 см может быть объяснено как ошибкой в данных, так и отказом пользователя от поездки\n",
    "- продолжительность поездки находится в диапазоне от 0.500000 до 40.823963 при среднем 17.805011 и медиане 17.678395. Очевидно, что речь идет о минутах. Тогда типичная поездка на самокате - это поездка на расстояние 3,1 км и продолжительностью 17,7 мин., что соответствует скорости примерно 10,5 км/ч (что также выглядит вполне разумно)\n",
    "\n",
    "Информацию о распределении для датафрейма subs мы выводить не будем, т.к. данная таблица содержит всего 2 строки (см. выше)\n",
    "\n",
    "Теперь мы можем перейти к предобработке данных"
   ]
  },
  {
   "cell_type": "markdown",
   "id": "e95ebca7",
   "metadata": {},
   "source": [
    "#### Шаг 2. Предобработка данных"
   ]
  },
  {
   "cell_type": "code",
   "execution_count": 8,
   "id": "af6d202c",
   "metadata": {},
   "outputs": [
    {
     "name": "stdout",
     "output_type": "stream",
     "text": [
      "<class 'pandas.core.frame.DataFrame'>\n",
      "RangeIndex: 18068 entries, 0 to 18067\n",
      "Data columns (total 5 columns):\n",
      " #   Column    Non-Null Count  Dtype         \n",
      "---  ------    --------------  -----         \n",
      " 0   user_id   18068 non-null  int64         \n",
      " 1   distance  18068 non-null  float64       \n",
      " 2   duration  18068 non-null  float64       \n",
      " 3   date      18068 non-null  datetime64[ns]\n",
      " 4   month     18068 non-null  int32         \n",
      "dtypes: datetime64[ns](1), float64(2), int32(1), int64(1)\n",
      "memory usage: 635.3 KB\n"
     ]
    },
    {
     "data": {
      "text/html": [
       "<div>\n",
       "<style scoped>\n",
       "    .dataframe tbody tr th:only-of-type {\n",
       "        vertical-align: middle;\n",
       "    }\n",
       "\n",
       "    .dataframe tbody tr th {\n",
       "        vertical-align: top;\n",
       "    }\n",
       "\n",
       "    .dataframe thead th {\n",
       "        text-align: right;\n",
       "    }\n",
       "</style>\n",
       "<table border=\"1\" class=\"dataframe\">\n",
       "  <thead>\n",
       "    <tr style=\"text-align: right;\">\n",
       "      <th></th>\n",
       "      <th>user_id</th>\n",
       "      <th>distance</th>\n",
       "      <th>duration</th>\n",
       "      <th>date</th>\n",
       "      <th>month</th>\n",
       "    </tr>\n",
       "  </thead>\n",
       "  <tbody>\n",
       "    <tr>\n",
       "      <th>0</th>\n",
       "      <td>1</td>\n",
       "      <td>4409.919140</td>\n",
       "      <td>25.599769</td>\n",
       "      <td>2021-01-01</td>\n",
       "      <td>1</td>\n",
       "    </tr>\n",
       "    <tr>\n",
       "      <th>1</th>\n",
       "      <td>1</td>\n",
       "      <td>2617.592153</td>\n",
       "      <td>15.816871</td>\n",
       "      <td>2021-01-18</td>\n",
       "      <td>1</td>\n",
       "    </tr>\n",
       "    <tr>\n",
       "      <th>2</th>\n",
       "      <td>1</td>\n",
       "      <td>754.159807</td>\n",
       "      <td>6.232113</td>\n",
       "      <td>2021-04-20</td>\n",
       "      <td>4</td>\n",
       "    </tr>\n",
       "    <tr>\n",
       "      <th>3</th>\n",
       "      <td>1</td>\n",
       "      <td>2694.783254</td>\n",
       "      <td>18.511000</td>\n",
       "      <td>2021-08-11</td>\n",
       "      <td>8</td>\n",
       "    </tr>\n",
       "    <tr>\n",
       "      <th>4</th>\n",
       "      <td>1</td>\n",
       "      <td>4028.687306</td>\n",
       "      <td>26.265803</td>\n",
       "      <td>2021-08-28</td>\n",
       "      <td>8</td>\n",
       "    </tr>\n",
       "    <tr>\n",
       "      <th>5</th>\n",
       "      <td>1</td>\n",
       "      <td>2770.890808</td>\n",
       "      <td>16.650138</td>\n",
       "      <td>2021-10-09</td>\n",
       "      <td>10</td>\n",
       "    </tr>\n",
       "    <tr>\n",
       "      <th>6</th>\n",
       "      <td>1</td>\n",
       "      <td>3039.020292</td>\n",
       "      <td>14.927879</td>\n",
       "      <td>2021-10-19</td>\n",
       "      <td>10</td>\n",
       "    </tr>\n",
       "    <tr>\n",
       "      <th>7</th>\n",
       "      <td>1</td>\n",
       "      <td>2842.118050</td>\n",
       "      <td>23.117468</td>\n",
       "      <td>2021-11-06</td>\n",
       "      <td>11</td>\n",
       "    </tr>\n",
       "    <tr>\n",
       "      <th>8</th>\n",
       "      <td>1</td>\n",
       "      <td>3412.690668</td>\n",
       "      <td>15.238072</td>\n",
       "      <td>2021-11-14</td>\n",
       "      <td>11</td>\n",
       "    </tr>\n",
       "    <tr>\n",
       "      <th>9</th>\n",
       "      <td>1</td>\n",
       "      <td>748.690645</td>\n",
       "      <td>15.041884</td>\n",
       "      <td>2021-11-22</td>\n",
       "      <td>11</td>\n",
       "    </tr>\n",
       "    <tr>\n",
       "      <th>10</th>\n",
       "      <td>1</td>\n",
       "      <td>4031.020195</td>\n",
       "      <td>17.674448</td>\n",
       "      <td>2021-12-14</td>\n",
       "      <td>12</td>\n",
       "    </tr>\n",
       "    <tr>\n",
       "      <th>11</th>\n",
       "      <td>1</td>\n",
       "      <td>2720.609748</td>\n",
       "      <td>9.529463</td>\n",
       "      <td>2021-12-22</td>\n",
       "      <td>12</td>\n",
       "    </tr>\n",
       "    <tr>\n",
       "      <th>12</th>\n",
       "      <td>2</td>\n",
       "      <td>3105.086678</td>\n",
       "      <td>24.307514</td>\n",
       "      <td>2021-03-15</td>\n",
       "      <td>3</td>\n",
       "    </tr>\n",
       "    <tr>\n",
       "      <th>13</th>\n",
       "      <td>2</td>\n",
       "      <td>3053.519401</td>\n",
       "      <td>11.543256</td>\n",
       "      <td>2021-03-18</td>\n",
       "      <td>3</td>\n",
       "    </tr>\n",
       "    <tr>\n",
       "      <th>14</th>\n",
       "      <td>2</td>\n",
       "      <td>4029.116927</td>\n",
       "      <td>25.109188</td>\n",
       "      <td>2021-03-23</td>\n",
       "      <td>3</td>\n",
       "    </tr>\n",
       "  </tbody>\n",
       "</table>\n",
       "</div>"
      ],
      "text/plain": [
       "    user_id     distance   duration       date  month\n",
       "0         1  4409.919140  25.599769 2021-01-01      1\n",
       "1         1  2617.592153  15.816871 2021-01-18      1\n",
       "2         1   754.159807   6.232113 2021-04-20      4\n",
       "3         1  2694.783254  18.511000 2021-08-11      8\n",
       "4         1  4028.687306  26.265803 2021-08-28      8\n",
       "5         1  2770.890808  16.650138 2021-10-09     10\n",
       "6         1  3039.020292  14.927879 2021-10-19     10\n",
       "7         1  2842.118050  23.117468 2021-11-06     11\n",
       "8         1  3412.690668  15.238072 2021-11-14     11\n",
       "9         1   748.690645  15.041884 2021-11-22     11\n",
       "10        1  4031.020195  17.674448 2021-12-14     12\n",
       "11        1  2720.609748   9.529463 2021-12-22     12\n",
       "12        2  3105.086678  24.307514 2021-03-15      3\n",
       "13        2  3053.519401  11.543256 2021-03-18      3\n",
       "14        2  4029.116927  25.109188 2021-03-23      3"
      ]
     },
     "execution_count": 8,
     "metadata": {},
     "output_type": "execute_result"
    }
   ],
   "source": [
    "# приведем данные в столбце date к типу даты Pandas\n",
    "#rides['date'] = pd.to_datetime(rides['date'], format='%Y-%m-%dT%H') \n",
    "rides['date'] = pd.to_datetime(rides['date'], format='%Y-%m-%d') \n",
    "# создаем новый столбец с номером месяца на основе столбца date\n",
    "rides['month'] = rides['date'].dt.month\n",
    "rides.info()\n",
    "rides.head(15)"
   ]
  },
  {
   "cell_type": "markdown",
   "id": "b92aa110",
   "metadata": {},
   "source": [
    "Мы вывели информацию о датафрейме на экран и видим, что информация о дате поездки успешно приведена к типу даты Pandas. Также в датафрейме появился новый столбец с номером месяца. \n",
    "\n",
    "Теперь займемся поиском пропущенных значений и дубликатов."
   ]
  },
  {
   "cell_type": "code",
   "execution_count": 9,
   "id": "ab1e097b",
   "metadata": {},
   "outputs": [
    {
     "data": {
      "text/html": [
       "<style type=\"text/css\">\n",
       "#T_42a32_row0_col0, #T_42a32_row1_col0, #T_42a32_row2_col0, #T_42a32_row3_col0, #T_42a32_row4_col0 {\n",
       "  background-color: #3b4cc0;\n",
       "  color: #f1f1f1;\n",
       "}\n",
       "</style>\n",
       "<table id=\"T_42a32\">\n",
       "  <thead>\n",
       "    <tr>\n",
       "      <th class=\"blank level0\" >&nbsp;</th>\n",
       "      <th id=\"T_42a32_level0_col0\" class=\"col_heading level0 col0\" >0</th>\n",
       "    </tr>\n",
       "  </thead>\n",
       "  <tbody>\n",
       "    <tr>\n",
       "      <th id=\"T_42a32_level0_row0\" class=\"row_heading level0 row0\" >user_id</th>\n",
       "      <td id=\"T_42a32_row0_col0\" class=\"data row0 col0\" >0.000000</td>\n",
       "    </tr>\n",
       "    <tr>\n",
       "      <th id=\"T_42a32_level0_row1\" class=\"row_heading level0 row1\" >name</th>\n",
       "      <td id=\"T_42a32_row1_col0\" class=\"data row1 col0\" >0.000000</td>\n",
       "    </tr>\n",
       "    <tr>\n",
       "      <th id=\"T_42a32_level0_row2\" class=\"row_heading level0 row2\" >age</th>\n",
       "      <td id=\"T_42a32_row2_col0\" class=\"data row2 col0\" >0.000000</td>\n",
       "    </tr>\n",
       "    <tr>\n",
       "      <th id=\"T_42a32_level0_row3\" class=\"row_heading level0 row3\" >city</th>\n",
       "      <td id=\"T_42a32_row3_col0\" class=\"data row3 col0\" >0.000000</td>\n",
       "    </tr>\n",
       "    <tr>\n",
       "      <th id=\"T_42a32_level0_row4\" class=\"row_heading level0 row4\" >subscription_type</th>\n",
       "      <td id=\"T_42a32_row4_col0\" class=\"data row4 col0\" >0.000000</td>\n",
       "    </tr>\n",
       "  </tbody>\n",
       "</table>\n"
      ],
      "text/plain": [
       "<pandas.io.formats.style.Styler at 0x28aea3c3a00>"
      ]
     },
     "execution_count": 9,
     "metadata": {},
     "output_type": "execute_result"
    }
   ],
   "source": [
    "# проверим количество пропусков в % для датафрейма users\n",
    "pd.DataFrame(round(users.isna().mean()*100,)).style.background_gradient('coolwarm')"
   ]
  },
  {
   "cell_type": "code",
   "execution_count": 10,
   "id": "c8523d9f",
   "metadata": {},
   "outputs": [
    {
     "data": {
      "text/html": [
       "<style type=\"text/css\">\n",
       "#T_9248d_row0_col0, #T_9248d_row1_col0, #T_9248d_row2_col0, #T_9248d_row3_col0, #T_9248d_row4_col0 {\n",
       "  background-color: #3b4cc0;\n",
       "  color: #f1f1f1;\n",
       "}\n",
       "</style>\n",
       "<table id=\"T_9248d\">\n",
       "  <thead>\n",
       "    <tr>\n",
       "      <th class=\"blank level0\" >&nbsp;</th>\n",
       "      <th id=\"T_9248d_level0_col0\" class=\"col_heading level0 col0\" >0</th>\n",
       "    </tr>\n",
       "  </thead>\n",
       "  <tbody>\n",
       "    <tr>\n",
       "      <th id=\"T_9248d_level0_row0\" class=\"row_heading level0 row0\" >user_id</th>\n",
       "      <td id=\"T_9248d_row0_col0\" class=\"data row0 col0\" >0.000000</td>\n",
       "    </tr>\n",
       "    <tr>\n",
       "      <th id=\"T_9248d_level0_row1\" class=\"row_heading level0 row1\" >distance</th>\n",
       "      <td id=\"T_9248d_row1_col0\" class=\"data row1 col0\" >0.000000</td>\n",
       "    </tr>\n",
       "    <tr>\n",
       "      <th id=\"T_9248d_level0_row2\" class=\"row_heading level0 row2\" >duration</th>\n",
       "      <td id=\"T_9248d_row2_col0\" class=\"data row2 col0\" >0.000000</td>\n",
       "    </tr>\n",
       "    <tr>\n",
       "      <th id=\"T_9248d_level0_row3\" class=\"row_heading level0 row3\" >date</th>\n",
       "      <td id=\"T_9248d_row3_col0\" class=\"data row3 col0\" >0.000000</td>\n",
       "    </tr>\n",
       "    <tr>\n",
       "      <th id=\"T_9248d_level0_row4\" class=\"row_heading level0 row4\" >month</th>\n",
       "      <td id=\"T_9248d_row4_col0\" class=\"data row4 col0\" >0.000000</td>\n",
       "    </tr>\n",
       "  </tbody>\n",
       "</table>\n"
      ],
      "text/plain": [
       "<pandas.io.formats.style.Styler at 0x28aeb29e340>"
      ]
     },
     "execution_count": 10,
     "metadata": {},
     "output_type": "execute_result"
    }
   ],
   "source": [
    "# проверим количество пропусков в % для датафрейма rides\n",
    "pd.DataFrame(round(rides.isna().mean()*100,)).style.background_gradient('coolwarm')"
   ]
  },
  {
   "cell_type": "markdown",
   "id": "d19e4109",
   "metadata": {},
   "source": [
    "Таким образом, в датафреймах users и rides отсутствуют пропущенные значения. Датафрейм subs мы ранее вывели на экран полностью (т.к. он состоит из всего двух строк), пропусков в нем также нет.\n",
    "\n",
    "Перейдем к поиску дубликатов."
   ]
  },
  {
   "cell_type": "markdown",
   "id": "697ba8f3",
   "metadata": {},
   "source": [
    "Учитывая, что:\n",
    "- числовые значения (например, такие, как возраст, расстояние, продолжительность поездки) вполне могут совпадать у разных пользователей\n",
    "- разные пользователи также могут иметь одинаковые имена (при том, что в представленных данных есть только имена пользователей, без имен и отчеств, а идентификация проводится по id)\n",
    "- разные пользователи вполне могут проживать в одном городе (и при этом также иметь одинаковые имена)\n",
    "- разные пользователи вполне могли совершать поездки на самокатах в одну и ту же дату (день, месяц и год)\n",
    "- разные пользователи могли совершать поездки на самокате неоднократно, поэтому их id может встречаться в таблицах также не один раз\n",
    "\n",
    "мы не можем сделать однозначный вывод о наличии в датафреймах дубликатов. Поэтому выведем на экран уникальные значения столбцов name, city, subscription_type датафрейма users и проверим их на наличие явных опечаток/ошибок (датафрейм rides содержит только номер пользователя, расстояние, продолжительность и дату поездки, а датафрейм subs мы уже анализировали: он состоит из двух строк, пропусков и дубликатов в нем нет). Стоит отметить, что такой подход не является препятствием для качественного выполнения целей исследования."
   ]
  },
  {
   "cell_type": "code",
   "execution_count": 11,
   "id": "4185e1c3",
   "metadata": {},
   "outputs": [
    {
     "data": {
      "text/plain": [
       "array(['Агата', 'Аделина', 'Адель', 'Айдар', 'Александр', 'Александра',\n",
       "       'Алексей', 'Алина', 'Алиса', 'Алия', 'Алла', 'Альберт', 'Альбина',\n",
       "       'Алёна', 'Амалия', 'Амина', 'Амир', 'Анастасия', 'Анатолий',\n",
       "       'Ангелина', 'Андрей', 'Анжелика', 'Анна', 'Антон', 'Антонина',\n",
       "       'Ариана', 'Арина', 'Арсен', 'Арсений', 'Артемий', 'Артур', 'Артём',\n",
       "       'Богдан', 'Борис', 'Вадим', 'Валентина', 'Валерий', 'Валерия',\n",
       "       'Варвара', 'Василий', 'Василина', 'Василиса', 'Вера', 'Вероника',\n",
       "       'Виктор', 'Виктория', 'Виолетта', 'Виталий', 'Виталина', 'Влад',\n",
       "       'Влада', 'Владимир', 'Владислав', 'Владислава', 'Всеволод',\n",
       "       'Вячеслав', 'Галина', 'Георгий', 'Герман', 'Глеб', 'Гордей',\n",
       "       'Григорий', 'Давид', 'Дамир', 'Даниил', 'Данил', 'Данила',\n",
       "       'Даниэль', 'Дарина', 'Дарья', 'Демид', 'Денис', 'Диана', 'Дмитрий',\n",
       "       'Ева', 'Евгений', 'Евгения', 'Егор', 'Екатерина', 'Елена',\n",
       "       'Елизавета', 'Елисей', 'Есения', 'Жанна', 'Зарина', 'Захар',\n",
       "       'Злата', 'Иван', 'Игнат', 'Игорь', 'Ильдар', 'Илья', 'Инна',\n",
       "       'Ирина', 'Камилла', 'Карина', 'Каролина', 'Кира', 'Кирилл',\n",
       "       'Константин', 'Кристина', 'Ксения', 'Лариса', 'Лев', 'Леонид',\n",
       "       'Лиана', 'Лидия', 'Лилия', 'Любовь', 'Людмила', 'Мадина', 'Майя',\n",
       "       'Макар', 'Максим', 'Марат', 'Маргарита', 'Марина', 'Мария', 'Марк',\n",
       "       'Марсель', 'Матвей', 'Мелания', 'Милана', 'Милена', 'Мирон',\n",
       "       'Мирослав', 'Мирослава', 'Михаил', 'Назар', 'Наталия', 'Наталья',\n",
       "       'Наташа', 'Нелли', 'Ника', 'Никита', 'Николай', 'Нина', 'Одиссей',\n",
       "       'Оксана', 'Олег', 'Олеся', 'Ольга', 'Павел', 'Петр', 'Платон',\n",
       "       'Полина', 'Радмир', 'Рамиль', 'Регина', 'Роберт', 'Родион',\n",
       "       'Роман', 'Ростислав', 'Руслан', 'Рустам', 'Савелий', 'Самир',\n",
       "       'Самира', 'Светлана', 'Святогор', 'Святослав', 'Семен', 'Сергей',\n",
       "       'Снежана', 'София', 'Софья', 'Станислав', 'Степан', 'Стефания',\n",
       "       'Таисия', 'Тамара', 'Тамерлан', 'Татьяна', 'Тимофей', 'Тимур',\n",
       "       'Тихон', 'Ульяна', 'Федор', 'Эвелина', 'Эдуард', 'Элина',\n",
       "       'Эльвира', 'Эльмира', 'Эмилия', 'Эмиль', 'Юлиана', 'Юлия', 'Юрий',\n",
       "       'Ян', 'Яна', 'Яромир', 'Ярослав', 'Ярослава', 'Ясмина'],\n",
       "      dtype=object)"
      ]
     },
     "execution_count": 11,
     "metadata": {},
     "output_type": "execute_result"
    }
   ],
   "source": [
    "# выведем список уникальных значений столбца name датафрейма users\n",
    "users['name'].sort_values().unique()"
   ]
  },
  {
   "cell_type": "code",
   "execution_count": 12,
   "id": "71bb2416",
   "metadata": {},
   "outputs": [
    {
     "data": {
      "text/plain": [
       "array(['Екатеринбург', 'Краснодар', 'Москва', 'Омск', 'Пятигорск',\n",
       "       'Ростов-на-Дону', 'Сочи', 'Тюмень'], dtype=object)"
      ]
     },
     "execution_count": 12,
     "metadata": {},
     "output_type": "execute_result"
    }
   ],
   "source": [
    "# выведем список уникальных значений столбца city датафрейма users\n",
    "users['city'].sort_values().unique()"
   ]
  },
  {
   "cell_type": "code",
   "execution_count": 13,
   "id": "f95f44bc",
   "metadata": {},
   "outputs": [
    {
     "data": {
      "text/plain": [
       "array(['free', 'ultra'], dtype=object)"
      ]
     },
     "execution_count": 13,
     "metadata": {},
     "output_type": "execute_result"
    }
   ],
   "source": [
    "# выведем список уникальных значений столбца subscription_type датафрейма users\n",
    "users['subscription_type'].sort_values().unique()"
   ]
  },
  {
   "cell_type": "markdown",
   "id": "bc67dadf",
   "metadata": {},
   "source": [
    "Анализируя полученные уникальные значения столбцов, мы видим, что среди имен пользователей и названий городов отсутствуют опечатки/ошибки. Для столбца subscription_type имеется только два типа подписки: free (т.е. без подписки) и ultra (с абонентской платой 199 рублей в месяц), что является корректным. Таким образом, неявные дубликаты отсутствуют.\n",
    "\n",
    "Проведем проверку на наличие явных дубликатов.\n",
    "\n"
   ]
  },
  {
   "cell_type": "code",
   "execution_count": 14,
   "id": "9b62c49e",
   "metadata": {},
   "outputs": [
    {
     "data": {
      "text/plain": [
       "31"
      ]
     },
     "execution_count": 14,
     "metadata": {},
     "output_type": "execute_result"
    }
   ],
   "source": [
    "# Код ревьюера\n",
    "users.duplicated().sum()"
   ]
  },
  {
   "cell_type": "code",
   "execution_count": 15,
   "id": "13631360",
   "metadata": {},
   "outputs": [
    {
     "data": {
      "text/html": [
       "<div>\n",
       "<style scoped>\n",
       "    .dataframe tbody tr th:only-of-type {\n",
       "        vertical-align: middle;\n",
       "    }\n",
       "\n",
       "    .dataframe tbody tr th {\n",
       "        vertical-align: top;\n",
       "    }\n",
       "\n",
       "    .dataframe thead th {\n",
       "        text-align: right;\n",
       "    }\n",
       "</style>\n",
       "<table border=\"1\" class=\"dataframe\">\n",
       "  <thead>\n",
       "    <tr style=\"text-align: right;\">\n",
       "      <th></th>\n",
       "      <th>user_id</th>\n",
       "      <th>name</th>\n",
       "      <th>age</th>\n",
       "      <th>city</th>\n",
       "      <th>subscription_type</th>\n",
       "    </tr>\n",
       "  </thead>\n",
       "  <tbody>\n",
       "    <tr>\n",
       "      <th>1534</th>\n",
       "      <td>293</td>\n",
       "      <td>Агата</td>\n",
       "      <td>26</td>\n",
       "      <td>Краснодар</td>\n",
       "      <td>ultra</td>\n",
       "    </tr>\n",
       "    <tr>\n",
       "      <th>1535</th>\n",
       "      <td>16</td>\n",
       "      <td>Амалия</td>\n",
       "      <td>27</td>\n",
       "      <td>Краснодар</td>\n",
       "      <td>ultra</td>\n",
       "    </tr>\n",
       "    <tr>\n",
       "      <th>1536</th>\n",
       "      <td>909</td>\n",
       "      <td>Константин</td>\n",
       "      <td>20</td>\n",
       "      <td>Екатеринбург</td>\n",
       "      <td>free</td>\n",
       "    </tr>\n",
       "    <tr>\n",
       "      <th>1537</th>\n",
       "      <td>403</td>\n",
       "      <td>Полина</td>\n",
       "      <td>19</td>\n",
       "      <td>Сочи</td>\n",
       "      <td>ultra</td>\n",
       "    </tr>\n",
       "    <tr>\n",
       "      <th>1538</th>\n",
       "      <td>908</td>\n",
       "      <td>Рустам</td>\n",
       "      <td>30</td>\n",
       "      <td>Тюмень</td>\n",
       "      <td>free</td>\n",
       "    </tr>\n",
       "    <tr>\n",
       "      <th>1539</th>\n",
       "      <td>43</td>\n",
       "      <td>Стефания</td>\n",
       "      <td>22</td>\n",
       "      <td>Омск</td>\n",
       "      <td>ultra</td>\n",
       "    </tr>\n",
       "    <tr>\n",
       "      <th>1540</th>\n",
       "      <td>127</td>\n",
       "      <td>Павел</td>\n",
       "      <td>25</td>\n",
       "      <td>Пятигорск</td>\n",
       "      <td>ultra</td>\n",
       "    </tr>\n",
       "    <tr>\n",
       "      <th>1541</th>\n",
       "      <td>659</td>\n",
       "      <td>Злата</td>\n",
       "      <td>27</td>\n",
       "      <td>Ростов-на-Дону</td>\n",
       "      <td>ultra</td>\n",
       "    </tr>\n",
       "    <tr>\n",
       "      <th>1542</th>\n",
       "      <td>204</td>\n",
       "      <td>Руслан</td>\n",
       "      <td>30</td>\n",
       "      <td>Пятигорск</td>\n",
       "      <td>ultra</td>\n",
       "    </tr>\n",
       "    <tr>\n",
       "      <th>1543</th>\n",
       "      <td>153</td>\n",
       "      <td>Герман</td>\n",
       "      <td>23</td>\n",
       "      <td>Москва</td>\n",
       "      <td>ultra</td>\n",
       "    </tr>\n",
       "    <tr>\n",
       "      <th>1544</th>\n",
       "      <td>1245</td>\n",
       "      <td>Регина</td>\n",
       "      <td>27</td>\n",
       "      <td>Пятигорск</td>\n",
       "      <td>free</td>\n",
       "    </tr>\n",
       "    <tr>\n",
       "      <th>1545</th>\n",
       "      <td>807</td>\n",
       "      <td>Александр</td>\n",
       "      <td>28</td>\n",
       "      <td>Екатеринбург</td>\n",
       "      <td>free</td>\n",
       "    </tr>\n",
       "    <tr>\n",
       "      <th>1546</th>\n",
       "      <td>924</td>\n",
       "      <td>Мария</td>\n",
       "      <td>23</td>\n",
       "      <td>Пятигорск</td>\n",
       "      <td>free</td>\n",
       "    </tr>\n",
       "    <tr>\n",
       "      <th>1547</th>\n",
       "      <td>635</td>\n",
       "      <td>Герман</td>\n",
       "      <td>21</td>\n",
       "      <td>Москва</td>\n",
       "      <td>ultra</td>\n",
       "    </tr>\n",
       "    <tr>\n",
       "      <th>1548</th>\n",
       "      <td>136</td>\n",
       "      <td>Марсель</td>\n",
       "      <td>25</td>\n",
       "      <td>Тюмень</td>\n",
       "      <td>ultra</td>\n",
       "    </tr>\n",
       "    <tr>\n",
       "      <th>1549</th>\n",
       "      <td>108</td>\n",
       "      <td>Влада</td>\n",
       "      <td>29</td>\n",
       "      <td>Тюмень</td>\n",
       "      <td>ultra</td>\n",
       "    </tr>\n",
       "    <tr>\n",
       "      <th>1550</th>\n",
       "      <td>737</td>\n",
       "      <td>Мелания</td>\n",
       "      <td>27</td>\n",
       "      <td>Ростов-на-Дону</td>\n",
       "      <td>free</td>\n",
       "    </tr>\n",
       "    <tr>\n",
       "      <th>1551</th>\n",
       "      <td>666</td>\n",
       "      <td>Зарина</td>\n",
       "      <td>29</td>\n",
       "      <td>Москва</td>\n",
       "      <td>ultra</td>\n",
       "    </tr>\n",
       "    <tr>\n",
       "      <th>1552</th>\n",
       "      <td>297</td>\n",
       "      <td>Егор</td>\n",
       "      <td>33</td>\n",
       "      <td>Пятигорск</td>\n",
       "      <td>ultra</td>\n",
       "    </tr>\n",
       "    <tr>\n",
       "      <th>1553</th>\n",
       "      <td>121</td>\n",
       "      <td>Алина</td>\n",
       "      <td>25</td>\n",
       "      <td>Пятигорск</td>\n",
       "      <td>ultra</td>\n",
       "    </tr>\n",
       "    <tr>\n",
       "      <th>1554</th>\n",
       "      <td>1198</td>\n",
       "      <td>Демид</td>\n",
       "      <td>29</td>\n",
       "      <td>Ростов-на-Дону</td>\n",
       "      <td>free</td>\n",
       "    </tr>\n",
       "    <tr>\n",
       "      <th>1555</th>\n",
       "      <td>72</td>\n",
       "      <td>Никита</td>\n",
       "      <td>25</td>\n",
       "      <td>Москва</td>\n",
       "      <td>ultra</td>\n",
       "    </tr>\n",
       "    <tr>\n",
       "      <th>1556</th>\n",
       "      <td>422</td>\n",
       "      <td>Кирилл</td>\n",
       "      <td>27</td>\n",
       "      <td>Сочи</td>\n",
       "      <td>ultra</td>\n",
       "    </tr>\n",
       "    <tr>\n",
       "      <th>1557</th>\n",
       "      <td>611</td>\n",
       "      <td>Владимир</td>\n",
       "      <td>28</td>\n",
       "      <td>Омск</td>\n",
       "      <td>ultra</td>\n",
       "    </tr>\n",
       "    <tr>\n",
       "      <th>1558</th>\n",
       "      <td>1237</td>\n",
       "      <td>Евгения</td>\n",
       "      <td>23</td>\n",
       "      <td>Тюмень</td>\n",
       "      <td>free</td>\n",
       "    </tr>\n",
       "    <tr>\n",
       "      <th>1559</th>\n",
       "      <td>209</td>\n",
       "      <td>Андрей</td>\n",
       "      <td>23</td>\n",
       "      <td>Омск</td>\n",
       "      <td>ultra</td>\n",
       "    </tr>\n",
       "    <tr>\n",
       "      <th>1560</th>\n",
       "      <td>829</td>\n",
       "      <td>Федор</td>\n",
       "      <td>29</td>\n",
       "      <td>Пятигорск</td>\n",
       "      <td>free</td>\n",
       "    </tr>\n",
       "    <tr>\n",
       "      <th>1561</th>\n",
       "      <td>809</td>\n",
       "      <td>Юрий</td>\n",
       "      <td>26</td>\n",
       "      <td>Сочи</td>\n",
       "      <td>free</td>\n",
       "    </tr>\n",
       "    <tr>\n",
       "      <th>1562</th>\n",
       "      <td>307</td>\n",
       "      <td>Ясмина</td>\n",
       "      <td>19</td>\n",
       "      <td>Краснодар</td>\n",
       "      <td>ultra</td>\n",
       "    </tr>\n",
       "    <tr>\n",
       "      <th>1563</th>\n",
       "      <td>47</td>\n",
       "      <td>Юрий</td>\n",
       "      <td>28</td>\n",
       "      <td>Тюмень</td>\n",
       "      <td>ultra</td>\n",
       "    </tr>\n",
       "    <tr>\n",
       "      <th>1564</th>\n",
       "      <td>1045</td>\n",
       "      <td>Артемий</td>\n",
       "      <td>28</td>\n",
       "      <td>Ростов-на-Дону</td>\n",
       "      <td>free</td>\n",
       "    </tr>\n",
       "  </tbody>\n",
       "</table>\n",
       "</div>"
      ],
      "text/plain": [
       "      user_id        name  age            city subscription_type\n",
       "1534      293       Агата   26       Краснодар             ultra\n",
       "1535       16      Амалия   27       Краснодар             ultra\n",
       "1536      909  Константин   20    Екатеринбург              free\n",
       "1537      403      Полина   19            Сочи             ultra\n",
       "1538      908      Рустам   30          Тюмень              free\n",
       "1539       43    Стефания   22            Омск             ultra\n",
       "1540      127       Павел   25       Пятигорск             ultra\n",
       "1541      659       Злата   27  Ростов-на-Дону             ultra\n",
       "1542      204      Руслан   30       Пятигорск             ultra\n",
       "1543      153      Герман   23          Москва             ultra\n",
       "1544     1245      Регина   27       Пятигорск              free\n",
       "1545      807   Александр   28    Екатеринбург              free\n",
       "1546      924       Мария   23       Пятигорск              free\n",
       "1547      635      Герман   21          Москва             ultra\n",
       "1548      136     Марсель   25          Тюмень             ultra\n",
       "1549      108       Влада   29          Тюмень             ultra\n",
       "1550      737     Мелания   27  Ростов-на-Дону              free\n",
       "1551      666      Зарина   29          Москва             ultra\n",
       "1552      297        Егор   33       Пятигорск             ultra\n",
       "1553      121       Алина   25       Пятигорск             ultra\n",
       "1554     1198       Демид   29  Ростов-на-Дону              free\n",
       "1555       72      Никита   25          Москва             ultra\n",
       "1556      422      Кирилл   27            Сочи             ultra\n",
       "1557      611    Владимир   28            Омск             ultra\n",
       "1558     1237     Евгения   23          Тюмень              free\n",
       "1559      209      Андрей   23            Омск             ultra\n",
       "1560      829       Федор   29       Пятигорск              free\n",
       "1561      809        Юрий   26            Сочи              free\n",
       "1562      307      Ясмина   19       Краснодар             ultra\n",
       "1563       47        Юрий   28          Тюмень             ultra\n",
       "1564     1045     Артемий   28  Ростов-на-Дону              free"
      ]
     },
     "execution_count": 15,
     "metadata": {},
     "output_type": "execute_result"
    }
   ],
   "source": [
    "users[users.duplicated()]"
   ]
  },
  {
   "cell_type": "markdown",
   "id": "7186f97c",
   "metadata": {},
   "source": [
    "Мы вывели на экран все строки с дубликатами. Видим, что они индут по порядку от 1534-й до 1564-й строки. Возможно, наличие дубликатов свзязано с техническими причинами (т.е. сбоем при записи информации)."
   ]
  },
  {
   "cell_type": "code",
   "execution_count": 16,
   "id": "b736bba7",
   "metadata": {},
   "outputs": [],
   "source": [
    "# удалим явные дубликаты\n",
    "users = users.drop_duplicates().reset_index(drop=True)"
   ]
  },
  {
   "cell_type": "code",
   "execution_count": 17,
   "id": "fdf966e6",
   "metadata": {},
   "outputs": [
    {
     "data": {
      "text/plain": [
       "0"
      ]
     },
     "execution_count": 17,
     "metadata": {},
     "output_type": "execute_result"
    }
   ],
   "source": [
    "# вновь проверим на наличие дубликатов\n",
    "users.duplicated().sum()"
   ]
  },
  {
   "cell_type": "code",
   "execution_count": 18,
   "id": "6c15c008",
   "metadata": {},
   "outputs": [
    {
     "data": {
      "text/plain": [
       "0"
      ]
     },
     "execution_count": 18,
     "metadata": {},
     "output_type": "execute_result"
    }
   ],
   "source": [
    "# проверим на наличие дубликатов датафрейм rides. Датафрейм subs мы ранее вывели на экран полностью (т.к. он состоит из\n",
    "# всего двух строк), дубликаты и пропуски в нем отсутствуют\n",
    "rides.duplicated().sum()"
   ]
  },
  {
   "cell_type": "markdown",
   "id": "fea6cb94",
   "metadata": {},
   "source": [
    "Как мы видим, пропуски и дубликаты в датафреймах отсутствуют. Т.е. данные готовы для проведения дальнейшего исследования и мы можем переходить к третьему шагу - исследовательскому анализу данных."
   ]
  },
  {
   "cell_type": "markdown",
   "id": "212593c7",
   "metadata": {},
   "source": [
    "#### Шаг 3. Исследовательский анализ данных"
   ]
  },
  {
   "cell_type": "markdown",
   "id": "60956b15",
   "metadata": {},
   "source": [
    "**Изучение частоты встречаемости городов**"
   ]
  },
  {
   "cell_type": "code",
   "execution_count": 19,
   "id": "9dff7879",
   "metadata": {},
   "outputs": [
    {
     "data": {
      "text/plain": [
       "count          1534\n",
       "unique            8\n",
       "top       Пятигорск\n",
       "freq            219\n",
       "Name: city, dtype: object"
      ]
     },
     "execution_count": 19,
     "metadata": {},
     "output_type": "execute_result"
    }
   ],
   "source": [
    "# посмотрим распределение по столбцу с названиями городов\n",
    "users['city'].describe()"
   ]
  },
  {
   "cell_type": "code",
   "execution_count": 20,
   "id": "6a161083",
   "metadata": {},
   "outputs": [
    {
     "data": {
      "text/plain": [
       "city\n",
       "Пятигорск         219\n",
       "Екатеринбург      204\n",
       "Ростов-на-Дону    198\n",
       "Краснодар         193\n",
       "Сочи              189\n",
       "Омск              183\n",
       "Тюмень            180\n",
       "Москва            168\n",
       "Name: count, dtype: int64"
      ]
     },
     "execution_count": 20,
     "metadata": {},
     "output_type": "execute_result"
    }
   ],
   "source": [
    "# посмотрим на количество значений в каждой категории \n",
    "users['city'].value_counts()"
   ]
  },
  {
   "cell_type": "code",
   "execution_count": 21,
   "id": "e418675d",
   "metadata": {},
   "outputs": [
    {
     "data": {
      "image/png": "[encoded data removed]",
      "text/plain": [
       "<Figure size 1000x800 with 1 Axes>"
      ]
     },
     "metadata": {},
     "output_type": "display_data"
    }
   ],
   "source": [
    "# отобразим это на графике\n",
    "users['city'].value_counts().plot.bar(figsize=(10, 8), ec='black', legend=True)\n",
    "plt.title('Частота встречаемости городов')\n",
    "plt.xlabel('Название города')\n",
    "plt.ylabel('Количество значений')\n",
    "plt.show()"
   ]
  },
  {
   "cell_type": "code",
   "execution_count": 22,
   "id": "2bca54ec",
   "metadata": {},
   "outputs": [
    {
     "data": {
      "text/plain": [
       "<Axes: ylabel='city'>"
      ]
     },
     "execution_count": 22,
     "metadata": {},
     "output_type": "execute_result"
    },
    {
     "data": {
      "image/png": "[encoded data removed]",
      "text/plain": [
       "<Figure size 1000x800 with 1 Axes>"
      ]
     },
     "metadata": {},
     "output_type": "display_data"
    }
   ],
   "source": [
    "users['city'].value_counts(ascending = True).plot.barh(figsize=(10, 8), ec='black')"
   ]
  },
  {
   "cell_type": "markdown",
   "id": "8ad9cce5",
   "metadata": {},
   "source": [
    "Как мы видим, наиболее часто в представленных данных встречается Пятигорск. В первую тройку входят также Екатеринбург и Ростов-на-Дону. Замыкает список городов Москва: в представленных данных этот город встречается реже всех. Такое распределение связано, скорее всего, с плотностью клиентской базы сервиса GoFast в различных городах."
   ]
  },
  {
   "cell_type": "markdown",
   "id": "950c6d3a",
   "metadata": {},
   "source": [
    "**Изучение соотношения пользователей с подпиской и без подписки**"
   ]
  },
  {
   "cell_type": "code",
   "execution_count": 23,
   "id": "1f527e62",
   "metadata": {},
   "outputs": [
    {
     "data": {
      "text/plain": [
       "subscription_type\n",
       "free     835\n",
       "ultra    699\n",
       "Name: count, dtype: int64"
      ]
     },
     "execution_count": 23,
     "metadata": {},
     "output_type": "execute_result"
    }
   ],
   "source": [
    "# посмотрим на количество значений в каждой категории \n",
    "users['subscription_type'].value_counts()"
   ]
  },
  {
   "cell_type": "code",
   "execution_count": 24,
   "id": "9dda8c6e",
   "metadata": {},
   "outputs": [
    {
     "data": {
      "image/png": "[encoded data removed]",
      "text/plain": [
       "<Figure size 1000x800 with 1 Axes>"
      ]
     },
     "metadata": {},
     "output_type": "display_data"
    }
   ],
   "source": [
    "# отобразим это на графике\n",
    "users['subscription_type'].value_counts().plot.bar(figsize=(10, 8), ec='black', legend=True)\n",
    "plt.title('Соотношение пользователей с подпиской и без подписки')\n",
    "plt.xlabel('Наличие подписки')\n",
    "plt.ylabel('Количество значений')\n",
    "plt.show()"
   ]
  },
  {
   "cell_type": "markdown",
   "id": "44e2c834",
   "metadata": {},
   "source": [
    "Как мы видим, большинство клиентов сервиса GoFast пользуются сервисом без подписки (846 против 719). При этом количество имеющих подписку пользователей составляет примерно 46% от общего количества клиентов)."
   ]
  },
  {
   "cell_type": "markdown",
   "id": "da794b73",
   "metadata": {},
   "source": [
    "**Изучение возраста пользователей**"
   ]
  },
  {
   "cell_type": "code",
   "execution_count": 25,
   "id": "7699cb0f",
   "metadata": {},
   "outputs": [
    {
     "data": {
      "text/plain": [
       "count    1534.000000\n",
       "mean       24.903520\n",
       "std         4.572367\n",
       "min        12.000000\n",
       "25%        22.000000\n",
       "50%        25.000000\n",
       "75%        28.000000\n",
       "max        43.000000\n",
       "Name: age, dtype: float64"
      ]
     },
     "execution_count": 25,
     "metadata": {},
     "output_type": "execute_result"
    }
   ],
   "source": [
    "# посмотрим распределение по столбцу с возрастом пользователей\n",
    "users['age'].describe()"
   ]
  },
  {
   "cell_type": "code",
   "execution_count": 26,
   "id": "6ba4749c",
   "metadata": {},
   "outputs": [
    {
     "data": {
      "text/plain": [
       "age\n",
       "25    145\n",
       "24    132\n",
       "26    131\n",
       "23    129\n",
       "22    119\n",
       "27    119\n",
       "28    112\n",
       "21     93\n",
       "20     71\n",
       "30     68\n",
       "29     68\n",
       "31     48\n",
       "19     47\n",
       "18     46\n",
       "32     41\n",
       "33     39\n",
       "17     26\n",
       "16     19\n",
       "34     19\n",
       "35     15\n",
       "15     13\n",
       "14      9\n",
       "13      8\n",
       "36      6\n",
       "12      4\n",
       "38      3\n",
       "37      2\n",
       "39      1\n",
       "43      1\n",
       "Name: count, dtype: int64"
      ]
     },
     "execution_count": 26,
     "metadata": {},
     "output_type": "execute_result"
    }
   ],
   "source": [
    "# посмотрим на количество значений в каждой категории \n",
    "users['age'].value_counts()"
   ]
  },
  {
   "cell_type": "code",
   "execution_count": 27,
   "id": "302b440f",
   "metadata": {},
   "outputs": [
    {
     "data": {
      "image/png": "[encoded data removed]",
      "text/plain": [
       "<Figure size 1500x1000 with 1 Axes>"
      ]
     },
     "metadata": {},
     "output_type": "display_data"
    }
   ],
   "source": [
    "# отобразим это на графике\n",
    "users['age'].value_counts().plot.bar(figsize=(15, 10), ec='black', legend=True)\n",
    "plt.title('Возраст пользователей сервиса')\n",
    "plt.xlabel('Возраст, лет')\n",
    "plt.ylabel('Количество значений')\n",
    "plt.show()"
   ]
  },
  {
   "cell_type": "markdown",
   "id": "164c6f45",
   "metadata": {},
   "source": [
    "Как мы видим, большая часть пользователей сервиса - это люди возраста от 22 до 28 лет включительно (в каждой из этих возрастных категорий количество пользователей превышает 100), при этом максимум приходится на возраст 25 лет. Пользователи иных возрастов встречаются существенно реже. Причем меньше всего пользователей, возраст которых близок к 40 годам (на графике это 37, 38, 39 и 43 года), минимум приходится на 39 и на 43 года (таких пользователей всего по одному в каждом из этих возратов)"
   ]
  },
  {
   "cell_type": "code",
   "execution_count": 28,
   "id": "a1539c87",
   "metadata": {},
   "outputs": [
    {
     "data": {
      "text/plain": [
       "count    1534.000000\n",
       "mean       24.903520\n",
       "std         4.572367\n",
       "min        12.000000\n",
       "25%        22.000000\n",
       "50%        25.000000\n",
       "75%        28.000000\n",
       "max        43.000000\n",
       "Name: age, dtype: float64"
      ]
     },
     "execution_count": 28,
     "metadata": {},
     "output_type": "execute_result"
    }
   ],
   "source": [
    "# посмотрим распределение по столбцу с расстояниями поездок\n",
    "users['age'].describe()"
   ]
  },
  {
   "cell_type": "code",
   "execution_count": 29,
   "id": "1cd60dd3",
   "metadata": {},
   "outputs": [
    {
     "data": {
      "image/png": "[encoded data removed]",
      "text/plain": [
       "<Figure size 800x600 with 1 Axes>"
      ]
     },
     "metadata": {},
     "output_type": "display_data"
    }
   ],
   "source": [
    "# посторим диаграмму размаха\n",
    "users.boxplot(column='age', figsize=(8, 6))\n",
    "plt.title('Размах возраста клиентов')\n",
    "plt.ylim(0, 50)\n",
    "plt.ylabel('Возраст клиентов')\n",
    "plt.show()"
   ]
  },
  {
   "cell_type": "markdown",
   "id": "e67dcd5e",
   "metadata": {},
   "source": [
    "Из графика мы видим, что ориентировочная граница нормального размаха расстояния, которое пользователь преодолел за одну поездку, составляет от 13 до 48 лет. Более высокие и более низкие значения являются выбросами (на графике они представлены отдельными точками, что говорит о том, что их количество невелико). Медиана - 25 лет"
   ]
  },
  {
   "cell_type": "markdown",
   "id": "868fd987",
   "metadata": {},
   "source": [
    "**Изучение расстояния, которое пользователь преодолел за одну поездку**"
   ]
  },
  {
   "cell_type": "code",
   "execution_count": 30,
   "id": "20d28da2",
   "metadata": {},
   "outputs": [
    {
     "data": {
      "text/plain": [
       "count    18068.000000\n",
       "mean      3070.659976\n",
       "std       1116.831209\n",
       "min          0.855683\n",
       "25%       2543.226360\n",
       "50%       3133.609994\n",
       "75%       3776.222735\n",
       "max       7211.007745\n",
       "Name: distance, dtype: float64"
      ]
     },
     "execution_count": 30,
     "metadata": {},
     "output_type": "execute_result"
    }
   ],
   "source": [
    "# посмотрим распределение по столбцу с расстояниями поездок\n",
    "rides['distance'].describe()"
   ]
  },
  {
   "cell_type": "code",
   "execution_count": 31,
   "id": "1ba35a79",
   "metadata": {},
   "outputs": [
    {
     "data": {
      "image/png": "[encoded data removed]",
      "text/plain": [
       "<Figure size 800x600 with 1 Axes>"
      ]
     },
     "metadata": {},
     "output_type": "display_data"
    }
   ],
   "source": [
    "# посторим диаграмму размаха\n",
    "rides.boxplot(column='distance', figsize=(8, 6))\n",
    "plt.title('Размах расстояния поездок')\n",
    "plt.ylim(0, 7500)\n",
    "plt.ylabel('Расстояние, которое преодолели пользователи, м')\n",
    "plt.show()"
   ]
  },
  {
   "cell_type": "markdown",
   "id": "f8587f03",
   "metadata": {},
   "source": [
    "Из графика мы видим, что ориентировочная граница нормального размаха расстояния, которое пользователь преодолел за одну поездку, составляет от 750 м до 5,5 км Более высокие и более низкие значения являются выбросами. Внизу и наверху (от 5,5 км до 6,8 км) они сливаются в линию, что говорит о том, что таких выбросов много. Выше 6,8 км выбросы представлены отделтными точками. Медиана - 3,1 км"
   ]
  },
  {
   "cell_type": "code",
   "execution_count": 32,
   "id": "e015e2b4",
   "metadata": {},
   "outputs": [
    {
     "data": {
      "image/png": "[encoded data removed]",
      "text/plain": [
       "<Figure size 1000x800 with 1 Axes>"
      ]
     },
     "metadata": {},
     "output_type": "display_data"
    }
   ],
   "source": [
    "rides['distance'].hist(bins=30, range=(0, 7500), figsize=(10, 8), ec='black', legend=True)\n",
    "plt.title('Расстояние поездок')\n",
    "plt.xlabel('Расстояние, м')\n",
    "plt.ylabel('Количество поездок')\n",
    "plt.show()"
   ]
  },
  {
   "cell_type": "markdown",
   "id": "8dd76277",
   "metadata": {},
   "source": [
    "Как мы видим на гистограмме, наиболее распространены поездки на расстояние 3 - 3,5 км (пик приходится на 3,25 км). Медиана - 3,13 км, среднее - 3,07 км Слева на гистограмме мы видим пик существенно меньшего размера. Он приходится на поездки с расстоянием 750 м"
   ]
  },
  {
   "cell_type": "markdown",
   "id": "907a03ca",
   "metadata": {},
   "source": [
    "**Изучение продолжительности поездок**"
   ]
  },
  {
   "cell_type": "code",
   "execution_count": 33,
   "id": "b282d4fc",
   "metadata": {},
   "outputs": [
    {
     "data": {
      "text/plain": [
       "count    18068.000000\n",
       "mean        17.805011\n",
       "std          6.091051\n",
       "min          0.500000\n",
       "25%         13.597563\n",
       "50%         17.678395\n",
       "75%         21.724800\n",
       "max         40.823963\n",
       "Name: duration, dtype: float64"
      ]
     },
     "execution_count": 33,
     "metadata": {},
     "output_type": "execute_result"
    }
   ],
   "source": [
    "# посмотрим распределение по столбцу с продолжительностью поездок\n",
    "rides['duration'].describe()"
   ]
  },
  {
   "cell_type": "code",
   "execution_count": 34,
   "id": "11c1c76e",
   "metadata": {},
   "outputs": [
    {
     "data": {
      "image/png": "[encoded data removed]",
      "text/plain": [
       "<Figure size 800x600 with 1 Axes>"
      ]
     },
     "metadata": {},
     "output_type": "display_data"
    }
   ],
   "source": [
    "# посторим диаграмму размаха\n",
    "rides.boxplot(column='duration', figsize=(8, 6))\n",
    "plt.title('Размах продолжительности поездок')\n",
    "plt.ylim(0, 50)\n",
    "plt.ylabel('Продолжительность поездок, мин.')\n",
    "plt.show()"
   ]
  },
  {
   "cell_type": "markdown",
   "id": "be9ff23e",
   "metadata": {},
   "source": [
    "Как мы видим, ориентировочная граница нормального размаха продолжительности поездок составляет от 2 мин. до 34 мин. Более высокие и более низкие значения являются выбросами. Медиана составляет 17,68 мин."
   ]
  },
  {
   "cell_type": "markdown",
   "id": "b0d9cc26",
   "metadata": {},
   "source": [
    "**Таким образом, в ходе исследования мы установили, что:**\n",
    "\n",
    "- наиболее часто в представленных данных встречается Пятигорск. В первую тройку входят также Екатеринбург и Ростов-на-Дону. Замыкает список городов Москва: в представленных данных этот город встречается реже всех\n",
    "- большинство клиентов пользуются сервисом GoFast без подписки (846 против 719). При этом количество имеющих подписку пользователей составляет примерно 46% от общего количества клиентов)\n",
    "- большая часть пользователей сервиса GoFast - это люди возраста от 22 до 28 лет включительно (в каждой из этих возрастных категорий количество пользователей превышает 100), при этом максимум приходится на возраст 25 лет. Пользователи иных возрастов встречаются существенно реже. Причем меньше всего пользователей, возраст которых близок к 40 годам (на графике это 37, 38, 39 и 43 года), минимум приходится на 39 и на 43 года (таких пользователей всего по одному в каждом из этих возратов)\n",
    "- ориентировочная граница нормального размаха расстояния, которое пользователь преодолел за одну поездку, составляет от 750 м до 5,5 км; медиана - 3,1 км\n",
    "- ориентировочная граница нормального размаха продолжительности поездок составляет от 2 мин. до 34 мин.; медиана составляет 17,68 мин.\n",
    "- типичная поездка на самокате - это поездка на расстояние 3,1 км и продолжительностью 17,7 мин., что соответствует скорости примерно 10,5 км/ч"
   ]
  },
  {
   "cell_type": "markdown",
   "id": "4ef51331",
   "metadata": {},
   "source": [
    "#### Шаг 4. Объединение данных"
   ]
  },
  {
   "cell_type": "markdown",
   "id": "ef688e79",
   "metadata": {},
   "source": [
    "Для удобства дальнейшего анализа объединим данные о пользователях, поездках и подписках в один датафрейм"
   ]
  },
  {
   "cell_type": "code",
   "execution_count": 35,
   "id": "88f6fede",
   "metadata": {},
   "outputs": [],
   "source": [
    "# объединяем данные по столбцу user_id методом merge()\n",
    "data = users.merge(rides, on='user_id', how='outer')"
   ]
  },
  {
   "cell_type": "code",
   "execution_count": 36,
   "id": "101a8d27",
   "metadata": {},
   "outputs": [
    {
     "data": {
      "text/html": [
       "<div>\n",
       "<style scoped>\n",
       "    .dataframe tbody tr th:only-of-type {\n",
       "        vertical-align: middle;\n",
       "    }\n",
       "\n",
       "    .dataframe tbody tr th {\n",
       "        vertical-align: top;\n",
       "    }\n",
       "\n",
       "    .dataframe thead th {\n",
       "        text-align: right;\n",
       "    }\n",
       "</style>\n",
       "<table border=\"1\" class=\"dataframe\">\n",
       "  <thead>\n",
       "    <tr style=\"text-align: right;\">\n",
       "      <th></th>\n",
       "      <th>user_id</th>\n",
       "      <th>name</th>\n",
       "      <th>age</th>\n",
       "      <th>city</th>\n",
       "      <th>subscription_type</th>\n",
       "      <th>distance</th>\n",
       "      <th>duration</th>\n",
       "      <th>date</th>\n",
       "      <th>month</th>\n",
       "    </tr>\n",
       "  </thead>\n",
       "  <tbody>\n",
       "    <tr>\n",
       "      <th>0</th>\n",
       "      <td>1</td>\n",
       "      <td>Кира</td>\n",
       "      <td>22</td>\n",
       "      <td>Тюмень</td>\n",
       "      <td>ultra</td>\n",
       "      <td>4409.919140</td>\n",
       "      <td>25.599769</td>\n",
       "      <td>2021-01-01</td>\n",
       "      <td>1</td>\n",
       "    </tr>\n",
       "    <tr>\n",
       "      <th>1</th>\n",
       "      <td>1</td>\n",
       "      <td>Кира</td>\n",
       "      <td>22</td>\n",
       "      <td>Тюмень</td>\n",
       "      <td>ultra</td>\n",
       "      <td>2617.592153</td>\n",
       "      <td>15.816871</td>\n",
       "      <td>2021-01-18</td>\n",
       "      <td>1</td>\n",
       "    </tr>\n",
       "    <tr>\n",
       "      <th>2</th>\n",
       "      <td>1</td>\n",
       "      <td>Кира</td>\n",
       "      <td>22</td>\n",
       "      <td>Тюмень</td>\n",
       "      <td>ultra</td>\n",
       "      <td>754.159807</td>\n",
       "      <td>6.232113</td>\n",
       "      <td>2021-04-20</td>\n",
       "      <td>4</td>\n",
       "    </tr>\n",
       "    <tr>\n",
       "      <th>3</th>\n",
       "      <td>1</td>\n",
       "      <td>Кира</td>\n",
       "      <td>22</td>\n",
       "      <td>Тюмень</td>\n",
       "      <td>ultra</td>\n",
       "      <td>2694.783254</td>\n",
       "      <td>18.511000</td>\n",
       "      <td>2021-08-11</td>\n",
       "      <td>8</td>\n",
       "    </tr>\n",
       "    <tr>\n",
       "      <th>4</th>\n",
       "      <td>1</td>\n",
       "      <td>Кира</td>\n",
       "      <td>22</td>\n",
       "      <td>Тюмень</td>\n",
       "      <td>ultra</td>\n",
       "      <td>4028.687306</td>\n",
       "      <td>26.265803</td>\n",
       "      <td>2021-08-28</td>\n",
       "      <td>8</td>\n",
       "    </tr>\n",
       "    <tr>\n",
       "      <th>5</th>\n",
       "      <td>1</td>\n",
       "      <td>Кира</td>\n",
       "      <td>22</td>\n",
       "      <td>Тюмень</td>\n",
       "      <td>ultra</td>\n",
       "      <td>2770.890808</td>\n",
       "      <td>16.650138</td>\n",
       "      <td>2021-10-09</td>\n",
       "      <td>10</td>\n",
       "    </tr>\n",
       "    <tr>\n",
       "      <th>6</th>\n",
       "      <td>1</td>\n",
       "      <td>Кира</td>\n",
       "      <td>22</td>\n",
       "      <td>Тюмень</td>\n",
       "      <td>ultra</td>\n",
       "      <td>3039.020292</td>\n",
       "      <td>14.927879</td>\n",
       "      <td>2021-10-19</td>\n",
       "      <td>10</td>\n",
       "    </tr>\n",
       "    <tr>\n",
       "      <th>7</th>\n",
       "      <td>1</td>\n",
       "      <td>Кира</td>\n",
       "      <td>22</td>\n",
       "      <td>Тюмень</td>\n",
       "      <td>ultra</td>\n",
       "      <td>2842.118050</td>\n",
       "      <td>23.117468</td>\n",
       "      <td>2021-11-06</td>\n",
       "      <td>11</td>\n",
       "    </tr>\n",
       "    <tr>\n",
       "      <th>8</th>\n",
       "      <td>1</td>\n",
       "      <td>Кира</td>\n",
       "      <td>22</td>\n",
       "      <td>Тюмень</td>\n",
       "      <td>ultra</td>\n",
       "      <td>3412.690668</td>\n",
       "      <td>15.238072</td>\n",
       "      <td>2021-11-14</td>\n",
       "      <td>11</td>\n",
       "    </tr>\n",
       "    <tr>\n",
       "      <th>9</th>\n",
       "      <td>1</td>\n",
       "      <td>Кира</td>\n",
       "      <td>22</td>\n",
       "      <td>Тюмень</td>\n",
       "      <td>ultra</td>\n",
       "      <td>748.690645</td>\n",
       "      <td>15.041884</td>\n",
       "      <td>2021-11-22</td>\n",
       "      <td>11</td>\n",
       "    </tr>\n",
       "    <tr>\n",
       "      <th>10</th>\n",
       "      <td>1</td>\n",
       "      <td>Кира</td>\n",
       "      <td>22</td>\n",
       "      <td>Тюмень</td>\n",
       "      <td>ultra</td>\n",
       "      <td>4031.020195</td>\n",
       "      <td>17.674448</td>\n",
       "      <td>2021-12-14</td>\n",
       "      <td>12</td>\n",
       "    </tr>\n",
       "    <tr>\n",
       "      <th>11</th>\n",
       "      <td>1</td>\n",
       "      <td>Кира</td>\n",
       "      <td>22</td>\n",
       "      <td>Тюмень</td>\n",
       "      <td>ultra</td>\n",
       "      <td>2720.609748</td>\n",
       "      <td>9.529463</td>\n",
       "      <td>2021-12-22</td>\n",
       "      <td>12</td>\n",
       "    </tr>\n",
       "    <tr>\n",
       "      <th>12</th>\n",
       "      <td>2</td>\n",
       "      <td>Станислав</td>\n",
       "      <td>31</td>\n",
       "      <td>Омск</td>\n",
       "      <td>ultra</td>\n",
       "      <td>3105.086678</td>\n",
       "      <td>24.307514</td>\n",
       "      <td>2021-03-15</td>\n",
       "      <td>3</td>\n",
       "    </tr>\n",
       "    <tr>\n",
       "      <th>13</th>\n",
       "      <td>2</td>\n",
       "      <td>Станислав</td>\n",
       "      <td>31</td>\n",
       "      <td>Омск</td>\n",
       "      <td>ultra</td>\n",
       "      <td>3053.519401</td>\n",
       "      <td>11.543256</td>\n",
       "      <td>2021-03-18</td>\n",
       "      <td>3</td>\n",
       "    </tr>\n",
       "    <tr>\n",
       "      <th>14</th>\n",
       "      <td>2</td>\n",
       "      <td>Станислав</td>\n",
       "      <td>31</td>\n",
       "      <td>Омск</td>\n",
       "      <td>ultra</td>\n",
       "      <td>4029.116927</td>\n",
       "      <td>25.109188</td>\n",
       "      <td>2021-03-23</td>\n",
       "      <td>3</td>\n",
       "    </tr>\n",
       "    <tr>\n",
       "      <th>15</th>\n",
       "      <td>2</td>\n",
       "      <td>Станислав</td>\n",
       "      <td>31</td>\n",
       "      <td>Омск</td>\n",
       "      <td>ultra</td>\n",
       "      <td>2805.786329</td>\n",
       "      <td>20.652145</td>\n",
       "      <td>2021-04-08</td>\n",
       "      <td>4</td>\n",
       "    </tr>\n",
       "    <tr>\n",
       "      <th>16</th>\n",
       "      <td>2</td>\n",
       "      <td>Станислав</td>\n",
       "      <td>31</td>\n",
       "      <td>Омск</td>\n",
       "      <td>ultra</td>\n",
       "      <td>3358.595495</td>\n",
       "      <td>18.396489</td>\n",
       "      <td>2021-04-13</td>\n",
       "      <td>4</td>\n",
       "    </tr>\n",
       "    <tr>\n",
       "      <th>17</th>\n",
       "      <td>2</td>\n",
       "      <td>Станислав</td>\n",
       "      <td>31</td>\n",
       "      <td>Омск</td>\n",
       "      <td>ultra</td>\n",
       "      <td>3255.338202</td>\n",
       "      <td>13.851127</td>\n",
       "      <td>2021-06-20</td>\n",
       "      <td>6</td>\n",
       "    </tr>\n",
       "    <tr>\n",
       "      <th>18</th>\n",
       "      <td>2</td>\n",
       "      <td>Станислав</td>\n",
       "      <td>31</td>\n",
       "      <td>Омск</td>\n",
       "      <td>ultra</td>\n",
       "      <td>3942.817648</td>\n",
       "      <td>20.142725</td>\n",
       "      <td>2021-07-02</td>\n",
       "      <td>7</td>\n",
       "    </tr>\n",
       "    <tr>\n",
       "      <th>19</th>\n",
       "      <td>2</td>\n",
       "      <td>Станислав</td>\n",
       "      <td>31</td>\n",
       "      <td>Омск</td>\n",
       "      <td>ultra</td>\n",
       "      <td>2837.905316</td>\n",
       "      <td>26.027432</td>\n",
       "      <td>2021-07-18</td>\n",
       "      <td>7</td>\n",
       "    </tr>\n",
       "  </tbody>\n",
       "</table>\n",
       "</div>"
      ],
      "text/plain": [
       "    user_id       name  age    city subscription_type     distance   duration  \\\n",
       "0         1       Кира   22  Тюмень             ultra  4409.919140  25.599769   \n",
       "1         1       Кира   22  Тюмень             ultra  2617.592153  15.816871   \n",
       "2         1       Кира   22  Тюмень             ultra   754.159807   6.232113   \n",
       "3         1       Кира   22  Тюмень             ultra  2694.783254  18.511000   \n",
       "4         1       Кира   22  Тюмень             ultra  4028.687306  26.265803   \n",
       "5         1       Кира   22  Тюмень             ultra  2770.890808  16.650138   \n",
       "6         1       Кира   22  Тюмень             ultra  3039.020292  14.927879   \n",
       "7         1       Кира   22  Тюмень             ultra  2842.118050  23.117468   \n",
       "8         1       Кира   22  Тюмень             ultra  3412.690668  15.238072   \n",
       "9         1       Кира   22  Тюмень             ultra   748.690645  15.041884   \n",
       "10        1       Кира   22  Тюмень             ultra  4031.020195  17.674448   \n",
       "11        1       Кира   22  Тюмень             ultra  2720.609748   9.529463   \n",
       "12        2  Станислав   31    Омск             ultra  3105.086678  24.307514   \n",
       "13        2  Станислав   31    Омск             ultra  3053.519401  11.543256   \n",
       "14        2  Станислав   31    Омск             ultra  4029.116927  25.109188   \n",
       "15        2  Станислав   31    Омск             ultra  2805.786329  20.652145   \n",
       "16        2  Станислав   31    Омск             ultra  3358.595495  18.396489   \n",
       "17        2  Станислав   31    Омск             ultra  3255.338202  13.851127   \n",
       "18        2  Станислав   31    Омск             ultra  3942.817648  20.142725   \n",
       "19        2  Станислав   31    Омск             ultra  2837.905316  26.027432   \n",
       "\n",
       "         date  month  \n",
       "0  2021-01-01      1  \n",
       "1  2021-01-18      1  \n",
       "2  2021-04-20      4  \n",
       "3  2021-08-11      8  \n",
       "4  2021-08-28      8  \n",
       "5  2021-10-09     10  \n",
       "6  2021-10-19     10  \n",
       "7  2021-11-06     11  \n",
       "8  2021-11-14     11  \n",
       "9  2021-11-22     11  \n",
       "10 2021-12-14     12  \n",
       "11 2021-12-22     12  \n",
       "12 2021-03-15      3  \n",
       "13 2021-03-18      3  \n",
       "14 2021-03-23      3  \n",
       "15 2021-04-08      4  \n",
       "16 2021-04-13      4  \n",
       "17 2021-06-20      6  \n",
       "18 2021-07-02      7  \n",
       "19 2021-07-18      7  "
      ]
     },
     "execution_count": 36,
     "metadata": {},
     "output_type": "execute_result"
    }
   ],
   "source": [
    "# выведем первые 20 строчек получившегося датафрейма на экран\n",
    "data.head(20)"
   ]
  },
  {
   "cell_type": "code",
   "execution_count": 37,
   "id": "4a42585c",
   "metadata": {},
   "outputs": [
    {
     "name": "stdout",
     "output_type": "stream",
     "text": [
      "<class 'pandas.core.frame.DataFrame'>\n",
      "RangeIndex: 18068 entries, 0 to 18067\n",
      "Data columns (total 9 columns):\n",
      " #   Column             Non-Null Count  Dtype         \n",
      "---  ------             --------------  -----         \n",
      " 0   user_id            18068 non-null  int64         \n",
      " 1   name               18068 non-null  object        \n",
      " 2   age                18068 non-null  int64         \n",
      " 3   city               18068 non-null  object        \n",
      " 4   subscription_type  18068 non-null  object        \n",
      " 5   distance           18068 non-null  float64       \n",
      " 6   duration           18068 non-null  float64       \n",
      " 7   date               18068 non-null  datetime64[ns]\n",
      " 8   month              18068 non-null  int32         \n",
      "dtypes: datetime64[ns](1), float64(2), int32(1), int64(2), object(3)\n",
      "memory usage: 1.2+ MB\n"
     ]
    }
   ],
   "source": [
    "# Код ревьюера\n",
    "data.info()"
   ]
  },
  {
   "cell_type": "code",
   "execution_count": 38,
   "id": "683a6b27",
   "metadata": {},
   "outputs": [
    {
     "data": {
      "text/html": [
       "<style type=\"text/css\">\n",
       "#T_aa028_row0_col0, #T_aa028_row1_col0, #T_aa028_row2_col0, #T_aa028_row3_col0, #T_aa028_row4_col0, #T_aa028_row5_col0, #T_aa028_row6_col0, #T_aa028_row7_col0, #T_aa028_row8_col0 {\n",
       "  background-color: #3b4cc0;\n",
       "  color: #f1f1f1;\n",
       "}\n",
       "</style>\n",
       "<table id=\"T_aa028\">\n",
       "  <thead>\n",
       "    <tr>\n",
       "      <th class=\"blank level0\" >&nbsp;</th>\n",
       "      <th id=\"T_aa028_level0_col0\" class=\"col_heading level0 col0\" >0</th>\n",
       "    </tr>\n",
       "  </thead>\n",
       "  <tbody>\n",
       "    <tr>\n",
       "      <th id=\"T_aa028_level0_row0\" class=\"row_heading level0 row0\" >user_id</th>\n",
       "      <td id=\"T_aa028_row0_col0\" class=\"data row0 col0\" >0.000000</td>\n",
       "    </tr>\n",
       "    <tr>\n",
       "      <th id=\"T_aa028_level0_row1\" class=\"row_heading level0 row1\" >name</th>\n",
       "      <td id=\"T_aa028_row1_col0\" class=\"data row1 col0\" >0.000000</td>\n",
       "    </tr>\n",
       "    <tr>\n",
       "      <th id=\"T_aa028_level0_row2\" class=\"row_heading level0 row2\" >age</th>\n",
       "      <td id=\"T_aa028_row2_col0\" class=\"data row2 col0\" >0.000000</td>\n",
       "    </tr>\n",
       "    <tr>\n",
       "      <th id=\"T_aa028_level0_row3\" class=\"row_heading level0 row3\" >city</th>\n",
       "      <td id=\"T_aa028_row3_col0\" class=\"data row3 col0\" >0.000000</td>\n",
       "    </tr>\n",
       "    <tr>\n",
       "      <th id=\"T_aa028_level0_row4\" class=\"row_heading level0 row4\" >subscription_type</th>\n",
       "      <td id=\"T_aa028_row4_col0\" class=\"data row4 col0\" >0.000000</td>\n",
       "    </tr>\n",
       "    <tr>\n",
       "      <th id=\"T_aa028_level0_row5\" class=\"row_heading level0 row5\" >distance</th>\n",
       "      <td id=\"T_aa028_row5_col0\" class=\"data row5 col0\" >0.000000</td>\n",
       "    </tr>\n",
       "    <tr>\n",
       "      <th id=\"T_aa028_level0_row6\" class=\"row_heading level0 row6\" >duration</th>\n",
       "      <td id=\"T_aa028_row6_col0\" class=\"data row6 col0\" >0.000000</td>\n",
       "    </tr>\n",
       "    <tr>\n",
       "      <th id=\"T_aa028_level0_row7\" class=\"row_heading level0 row7\" >date</th>\n",
       "      <td id=\"T_aa028_row7_col0\" class=\"data row7 col0\" >0.000000</td>\n",
       "    </tr>\n",
       "    <tr>\n",
       "      <th id=\"T_aa028_level0_row8\" class=\"row_heading level0 row8\" >month</th>\n",
       "      <td id=\"T_aa028_row8_col0\" class=\"data row8 col0\" >0.000000</td>\n",
       "    </tr>\n",
       "  </tbody>\n",
       "</table>\n"
      ],
      "text/plain": [
       "<pandas.io.formats.style.Styler at 0x28aedf89c10>"
      ]
     },
     "execution_count": 38,
     "metadata": {},
     "output_type": "execute_result"
    }
   ],
   "source": [
    "# проверим количество пропусков в % для нового датафрейма\n",
    "pd.DataFrame(round(data.isna().mean()*100,)).style.background_gradient('coolwarm')"
   ]
  },
  {
   "cell_type": "markdown",
   "id": "89b392f7",
   "metadata": {},
   "source": [
    "Видим, что объединение данных прошло успешно: в новом датафрейме имеются все необходимые столбцы, пропусков данных нет. Теперь создадим из датафрейма data ещё два датафрейма:\n",
    "- c данными о пользователях без подписки\n",
    "- с данными о пользователях с подпиской"
   ]
  },
  {
   "cell_type": "code",
   "execution_count": 39,
   "id": "6def3bcd",
   "metadata": {},
   "outputs": [],
   "source": [
    "# создаем датафрейм с данными о пользователях без подписки\n",
    "data_free = data.query('subscription_type == \"free\"').reset_index(drop=True)  "
   ]
  },
  {
   "cell_type": "code",
   "execution_count": 40,
   "id": "f4e239ef",
   "metadata": {},
   "outputs": [
    {
     "data": {
      "text/html": [
       "<div>\n",
       "<style scoped>\n",
       "    .dataframe tbody tr th:only-of-type {\n",
       "        vertical-align: middle;\n",
       "    }\n",
       "\n",
       "    .dataframe tbody tr th {\n",
       "        vertical-align: top;\n",
       "    }\n",
       "\n",
       "    .dataframe thead th {\n",
       "        text-align: right;\n",
       "    }\n",
       "</style>\n",
       "<table border=\"1\" class=\"dataframe\">\n",
       "  <thead>\n",
       "    <tr style=\"text-align: right;\">\n",
       "      <th></th>\n",
       "      <th>user_id</th>\n",
       "      <th>name</th>\n",
       "      <th>age</th>\n",
       "      <th>city</th>\n",
       "      <th>subscription_type</th>\n",
       "      <th>distance</th>\n",
       "      <th>duration</th>\n",
       "      <th>date</th>\n",
       "      <th>month</th>\n",
       "    </tr>\n",
       "  </thead>\n",
       "  <tbody>\n",
       "    <tr>\n",
       "      <th>0</th>\n",
       "      <td>700</td>\n",
       "      <td>Айдар</td>\n",
       "      <td>22</td>\n",
       "      <td>Омск</td>\n",
       "      <td>free</td>\n",
       "      <td>2515.690719</td>\n",
       "      <td>14.944286</td>\n",
       "      <td>2021-01-02</td>\n",
       "      <td>1</td>\n",
       "    </tr>\n",
       "    <tr>\n",
       "      <th>1</th>\n",
       "      <td>700</td>\n",
       "      <td>Айдар</td>\n",
       "      <td>22</td>\n",
       "      <td>Омск</td>\n",
       "      <td>free</td>\n",
       "      <td>846.932642</td>\n",
       "      <td>16.234663</td>\n",
       "      <td>2021-02-01</td>\n",
       "      <td>2</td>\n",
       "    </tr>\n",
       "    <tr>\n",
       "      <th>2</th>\n",
       "      <td>700</td>\n",
       "      <td>Айдар</td>\n",
       "      <td>22</td>\n",
       "      <td>Омск</td>\n",
       "      <td>free</td>\n",
       "      <td>4004.434142</td>\n",
       "      <td>20.016628</td>\n",
       "      <td>2021-02-04</td>\n",
       "      <td>2</td>\n",
       "    </tr>\n",
       "    <tr>\n",
       "      <th>3</th>\n",
       "      <td>700</td>\n",
       "      <td>Айдар</td>\n",
       "      <td>22</td>\n",
       "      <td>Омск</td>\n",
       "      <td>free</td>\n",
       "      <td>1205.911290</td>\n",
       "      <td>9.782872</td>\n",
       "      <td>2021-02-10</td>\n",
       "      <td>2</td>\n",
       "    </tr>\n",
       "    <tr>\n",
       "      <th>4</th>\n",
       "      <td>700</td>\n",
       "      <td>Айдар</td>\n",
       "      <td>22</td>\n",
       "      <td>Омск</td>\n",
       "      <td>free</td>\n",
       "      <td>3047.379435</td>\n",
       "      <td>17.427673</td>\n",
       "      <td>2021-02-14</td>\n",
       "      <td>2</td>\n",
       "    </tr>\n",
       "    <tr>\n",
       "      <th>5</th>\n",
       "      <td>700</td>\n",
       "      <td>Айдар</td>\n",
       "      <td>22</td>\n",
       "      <td>Омск</td>\n",
       "      <td>free</td>\n",
       "      <td>4342.002254</td>\n",
       "      <td>22.368009</td>\n",
       "      <td>2021-02-23</td>\n",
       "      <td>2</td>\n",
       "    </tr>\n",
       "    <tr>\n",
       "      <th>6</th>\n",
       "      <td>700</td>\n",
       "      <td>Айдар</td>\n",
       "      <td>22</td>\n",
       "      <td>Омск</td>\n",
       "      <td>free</td>\n",
       "      <td>3798.334905</td>\n",
       "      <td>18.243756</td>\n",
       "      <td>2021-03-03</td>\n",
       "      <td>3</td>\n",
       "    </tr>\n",
       "    <tr>\n",
       "      <th>7</th>\n",
       "      <td>700</td>\n",
       "      <td>Айдар</td>\n",
       "      <td>22</td>\n",
       "      <td>Омск</td>\n",
       "      <td>free</td>\n",
       "      <td>2984.551206</td>\n",
       "      <td>15.424899</td>\n",
       "      <td>2021-04-09</td>\n",
       "      <td>4</td>\n",
       "    </tr>\n",
       "    <tr>\n",
       "      <th>8</th>\n",
       "      <td>700</td>\n",
       "      <td>Айдар</td>\n",
       "      <td>22</td>\n",
       "      <td>Омск</td>\n",
       "      <td>free</td>\n",
       "      <td>3360.107141</td>\n",
       "      <td>16.765497</td>\n",
       "      <td>2021-06-12</td>\n",
       "      <td>6</td>\n",
       "    </tr>\n",
       "    <tr>\n",
       "      <th>9</th>\n",
       "      <td>700</td>\n",
       "      <td>Айдар</td>\n",
       "      <td>22</td>\n",
       "      <td>Омск</td>\n",
       "      <td>free</td>\n",
       "      <td>2567.543847</td>\n",
       "      <td>11.312160</td>\n",
       "      <td>2021-06-23</td>\n",
       "      <td>6</td>\n",
       "    </tr>\n",
       "    <tr>\n",
       "      <th>10</th>\n",
       "      <td>700</td>\n",
       "      <td>Айдар</td>\n",
       "      <td>22</td>\n",
       "      <td>Омск</td>\n",
       "      <td>free</td>\n",
       "      <td>4110.232038</td>\n",
       "      <td>15.807640</td>\n",
       "      <td>2021-07-08</td>\n",
       "      <td>7</td>\n",
       "    </tr>\n",
       "    <tr>\n",
       "      <th>11</th>\n",
       "      <td>700</td>\n",
       "      <td>Айдар</td>\n",
       "      <td>22</td>\n",
       "      <td>Омск</td>\n",
       "      <td>free</td>\n",
       "      <td>288.974241</td>\n",
       "      <td>4.788112</td>\n",
       "      <td>2021-07-18</td>\n",
       "      <td>7</td>\n",
       "    </tr>\n",
       "    <tr>\n",
       "      <th>12</th>\n",
       "      <td>700</td>\n",
       "      <td>Айдар</td>\n",
       "      <td>22</td>\n",
       "      <td>Омск</td>\n",
       "      <td>free</td>\n",
       "      <td>4071.654669</td>\n",
       "      <td>16.370546</td>\n",
       "      <td>2021-08-17</td>\n",
       "      <td>8</td>\n",
       "    </tr>\n",
       "    <tr>\n",
       "      <th>13</th>\n",
       "      <td>700</td>\n",
       "      <td>Айдар</td>\n",
       "      <td>22</td>\n",
       "      <td>Омск</td>\n",
       "      <td>free</td>\n",
       "      <td>1920.188901</td>\n",
       "      <td>9.608453</td>\n",
       "      <td>2021-10-08</td>\n",
       "      <td>10</td>\n",
       "    </tr>\n",
       "    <tr>\n",
       "      <th>14</th>\n",
       "      <td>700</td>\n",
       "      <td>Айдар</td>\n",
       "      <td>22</td>\n",
       "      <td>Омск</td>\n",
       "      <td>free</td>\n",
       "      <td>4402.389717</td>\n",
       "      <td>33.013035</td>\n",
       "      <td>2021-10-15</td>\n",
       "      <td>10</td>\n",
       "    </tr>\n",
       "    <tr>\n",
       "      <th>15</th>\n",
       "      <td>700</td>\n",
       "      <td>Айдар</td>\n",
       "      <td>22</td>\n",
       "      <td>Омск</td>\n",
       "      <td>free</td>\n",
       "      <td>2409.555418</td>\n",
       "      <td>8.560513</td>\n",
       "      <td>2021-11-03</td>\n",
       "      <td>11</td>\n",
       "    </tr>\n",
       "    <tr>\n",
       "      <th>16</th>\n",
       "      <td>700</td>\n",
       "      <td>Айдар</td>\n",
       "      <td>22</td>\n",
       "      <td>Омск</td>\n",
       "      <td>free</td>\n",
       "      <td>2639.817512</td>\n",
       "      <td>8.656752</td>\n",
       "      <td>2021-11-14</td>\n",
       "      <td>11</td>\n",
       "    </tr>\n",
       "    <tr>\n",
       "      <th>17</th>\n",
       "      <td>700</td>\n",
       "      <td>Айдар</td>\n",
       "      <td>22</td>\n",
       "      <td>Омск</td>\n",
       "      <td>free</td>\n",
       "      <td>3686.409695</td>\n",
       "      <td>13.899449</td>\n",
       "      <td>2021-11-21</td>\n",
       "      <td>11</td>\n",
       "    </tr>\n",
       "    <tr>\n",
       "      <th>18</th>\n",
       "      <td>701</td>\n",
       "      <td>Иван</td>\n",
       "      <td>31</td>\n",
       "      <td>Екатеринбург</td>\n",
       "      <td>free</td>\n",
       "      <td>2676.472894</td>\n",
       "      <td>17.470598</td>\n",
       "      <td>2021-01-23</td>\n",
       "      <td>1</td>\n",
       "    </tr>\n",
       "    <tr>\n",
       "      <th>19</th>\n",
       "      <td>701</td>\n",
       "      <td>Иван</td>\n",
       "      <td>31</td>\n",
       "      <td>Екатеринбург</td>\n",
       "      <td>free</td>\n",
       "      <td>2743.677431</td>\n",
       "      <td>14.974710</td>\n",
       "      <td>2021-02-13</td>\n",
       "      <td>2</td>\n",
       "    </tr>\n",
       "  </tbody>\n",
       "</table>\n",
       "</div>"
      ],
      "text/plain": [
       "    user_id   name  age          city subscription_type     distance  \\\n",
       "0       700  Айдар   22          Омск              free  2515.690719   \n",
       "1       700  Айдар   22          Омск              free   846.932642   \n",
       "2       700  Айдар   22          Омск              free  4004.434142   \n",
       "3       700  Айдар   22          Омск              free  1205.911290   \n",
       "4       700  Айдар   22          Омск              free  3047.379435   \n",
       "5       700  Айдар   22          Омск              free  4342.002254   \n",
       "6       700  Айдар   22          Омск              free  3798.334905   \n",
       "7       700  Айдар   22          Омск              free  2984.551206   \n",
       "8       700  Айдар   22          Омск              free  3360.107141   \n",
       "9       700  Айдар   22          Омск              free  2567.543847   \n",
       "10      700  Айдар   22          Омск              free  4110.232038   \n",
       "11      700  Айдар   22          Омск              free   288.974241   \n",
       "12      700  Айдар   22          Омск              free  4071.654669   \n",
       "13      700  Айдар   22          Омск              free  1920.188901   \n",
       "14      700  Айдар   22          Омск              free  4402.389717   \n",
       "15      700  Айдар   22          Омск              free  2409.555418   \n",
       "16      700  Айдар   22          Омск              free  2639.817512   \n",
       "17      700  Айдар   22          Омск              free  3686.409695   \n",
       "18      701   Иван   31  Екатеринбург              free  2676.472894   \n",
       "19      701   Иван   31  Екатеринбург              free  2743.677431   \n",
       "\n",
       "     duration       date  month  \n",
       "0   14.944286 2021-01-02      1  \n",
       "1   16.234663 2021-02-01      2  \n",
       "2   20.016628 2021-02-04      2  \n",
       "3    9.782872 2021-02-10      2  \n",
       "4   17.427673 2021-02-14      2  \n",
       "5   22.368009 2021-02-23      2  \n",
       "6   18.243756 2021-03-03      3  \n",
       "7   15.424899 2021-04-09      4  \n",
       "8   16.765497 2021-06-12      6  \n",
       "9   11.312160 2021-06-23      6  \n",
       "10  15.807640 2021-07-08      7  \n",
       "11   4.788112 2021-07-18      7  \n",
       "12  16.370546 2021-08-17      8  \n",
       "13   9.608453 2021-10-08     10  \n",
       "14  33.013035 2021-10-15     10  \n",
       "15   8.560513 2021-11-03     11  \n",
       "16   8.656752 2021-11-14     11  \n",
       "17  13.899449 2021-11-21     11  \n",
       "18  17.470598 2021-01-23      1  \n",
       "19  14.974710 2021-02-13      2  "
      ]
     },
     "execution_count": 40,
     "metadata": {},
     "output_type": "execute_result"
    }
   ],
   "source": [
    "# проверяем получившийся датафрейм - выведем первые 20 строчек\n",
    "data_free.head(20)"
   ]
  },
  {
   "cell_type": "code",
   "execution_count": 41,
   "id": "3ba62400",
   "metadata": {},
   "outputs": [],
   "source": [
    "# создаем датафрейм с данными о пользователях с подпиской\n",
    "data_ultra = data.query('subscription_type == \"ultra\"').reset_index(drop=True)"
   ]
  },
  {
   "cell_type": "code",
   "execution_count": 42,
   "id": "12a84c3f",
   "metadata": {},
   "outputs": [
    {
     "data": {
      "text/html": [
       "<div>\n",
       "<style scoped>\n",
       "    .dataframe tbody tr th:only-of-type {\n",
       "        vertical-align: middle;\n",
       "    }\n",
       "\n",
       "    .dataframe tbody tr th {\n",
       "        vertical-align: top;\n",
       "    }\n",
       "\n",
       "    .dataframe thead th {\n",
       "        text-align: right;\n",
       "    }\n",
       "</style>\n",
       "<table border=\"1\" class=\"dataframe\">\n",
       "  <thead>\n",
       "    <tr style=\"text-align: right;\">\n",
       "      <th></th>\n",
       "      <th>user_id</th>\n",
       "      <th>name</th>\n",
       "      <th>age</th>\n",
       "      <th>city</th>\n",
       "      <th>subscription_type</th>\n",
       "      <th>distance</th>\n",
       "      <th>duration</th>\n",
       "      <th>date</th>\n",
       "      <th>month</th>\n",
       "    </tr>\n",
       "  </thead>\n",
       "  <tbody>\n",
       "    <tr>\n",
       "      <th>0</th>\n",
       "      <td>1</td>\n",
       "      <td>Кира</td>\n",
       "      <td>22</td>\n",
       "      <td>Тюмень</td>\n",
       "      <td>ultra</td>\n",
       "      <td>4409.919140</td>\n",
       "      <td>25.599769</td>\n",
       "      <td>2021-01-01</td>\n",
       "      <td>1</td>\n",
       "    </tr>\n",
       "    <tr>\n",
       "      <th>1</th>\n",
       "      <td>1</td>\n",
       "      <td>Кира</td>\n",
       "      <td>22</td>\n",
       "      <td>Тюмень</td>\n",
       "      <td>ultra</td>\n",
       "      <td>2617.592153</td>\n",
       "      <td>15.816871</td>\n",
       "      <td>2021-01-18</td>\n",
       "      <td>1</td>\n",
       "    </tr>\n",
       "    <tr>\n",
       "      <th>2</th>\n",
       "      <td>1</td>\n",
       "      <td>Кира</td>\n",
       "      <td>22</td>\n",
       "      <td>Тюмень</td>\n",
       "      <td>ultra</td>\n",
       "      <td>754.159807</td>\n",
       "      <td>6.232113</td>\n",
       "      <td>2021-04-20</td>\n",
       "      <td>4</td>\n",
       "    </tr>\n",
       "    <tr>\n",
       "      <th>3</th>\n",
       "      <td>1</td>\n",
       "      <td>Кира</td>\n",
       "      <td>22</td>\n",
       "      <td>Тюмень</td>\n",
       "      <td>ultra</td>\n",
       "      <td>2694.783254</td>\n",
       "      <td>18.511000</td>\n",
       "      <td>2021-08-11</td>\n",
       "      <td>8</td>\n",
       "    </tr>\n",
       "    <tr>\n",
       "      <th>4</th>\n",
       "      <td>1</td>\n",
       "      <td>Кира</td>\n",
       "      <td>22</td>\n",
       "      <td>Тюмень</td>\n",
       "      <td>ultra</td>\n",
       "      <td>4028.687306</td>\n",
       "      <td>26.265803</td>\n",
       "      <td>2021-08-28</td>\n",
       "      <td>8</td>\n",
       "    </tr>\n",
       "    <tr>\n",
       "      <th>5</th>\n",
       "      <td>1</td>\n",
       "      <td>Кира</td>\n",
       "      <td>22</td>\n",
       "      <td>Тюмень</td>\n",
       "      <td>ultra</td>\n",
       "      <td>2770.890808</td>\n",
       "      <td>16.650138</td>\n",
       "      <td>2021-10-09</td>\n",
       "      <td>10</td>\n",
       "    </tr>\n",
       "    <tr>\n",
       "      <th>6</th>\n",
       "      <td>1</td>\n",
       "      <td>Кира</td>\n",
       "      <td>22</td>\n",
       "      <td>Тюмень</td>\n",
       "      <td>ultra</td>\n",
       "      <td>3039.020292</td>\n",
       "      <td>14.927879</td>\n",
       "      <td>2021-10-19</td>\n",
       "      <td>10</td>\n",
       "    </tr>\n",
       "    <tr>\n",
       "      <th>7</th>\n",
       "      <td>1</td>\n",
       "      <td>Кира</td>\n",
       "      <td>22</td>\n",
       "      <td>Тюмень</td>\n",
       "      <td>ultra</td>\n",
       "      <td>2842.118050</td>\n",
       "      <td>23.117468</td>\n",
       "      <td>2021-11-06</td>\n",
       "      <td>11</td>\n",
       "    </tr>\n",
       "    <tr>\n",
       "      <th>8</th>\n",
       "      <td>1</td>\n",
       "      <td>Кира</td>\n",
       "      <td>22</td>\n",
       "      <td>Тюмень</td>\n",
       "      <td>ultra</td>\n",
       "      <td>3412.690668</td>\n",
       "      <td>15.238072</td>\n",
       "      <td>2021-11-14</td>\n",
       "      <td>11</td>\n",
       "    </tr>\n",
       "    <tr>\n",
       "      <th>9</th>\n",
       "      <td>1</td>\n",
       "      <td>Кира</td>\n",
       "      <td>22</td>\n",
       "      <td>Тюмень</td>\n",
       "      <td>ultra</td>\n",
       "      <td>748.690645</td>\n",
       "      <td>15.041884</td>\n",
       "      <td>2021-11-22</td>\n",
       "      <td>11</td>\n",
       "    </tr>\n",
       "    <tr>\n",
       "      <th>10</th>\n",
       "      <td>1</td>\n",
       "      <td>Кира</td>\n",
       "      <td>22</td>\n",
       "      <td>Тюмень</td>\n",
       "      <td>ultra</td>\n",
       "      <td>4031.020195</td>\n",
       "      <td>17.674448</td>\n",
       "      <td>2021-12-14</td>\n",
       "      <td>12</td>\n",
       "    </tr>\n",
       "    <tr>\n",
       "      <th>11</th>\n",
       "      <td>1</td>\n",
       "      <td>Кира</td>\n",
       "      <td>22</td>\n",
       "      <td>Тюмень</td>\n",
       "      <td>ultra</td>\n",
       "      <td>2720.609748</td>\n",
       "      <td>9.529463</td>\n",
       "      <td>2021-12-22</td>\n",
       "      <td>12</td>\n",
       "    </tr>\n",
       "    <tr>\n",
       "      <th>12</th>\n",
       "      <td>2</td>\n",
       "      <td>Станислав</td>\n",
       "      <td>31</td>\n",
       "      <td>Омск</td>\n",
       "      <td>ultra</td>\n",
       "      <td>3105.086678</td>\n",
       "      <td>24.307514</td>\n",
       "      <td>2021-03-15</td>\n",
       "      <td>3</td>\n",
       "    </tr>\n",
       "    <tr>\n",
       "      <th>13</th>\n",
       "      <td>2</td>\n",
       "      <td>Станислав</td>\n",
       "      <td>31</td>\n",
       "      <td>Омск</td>\n",
       "      <td>ultra</td>\n",
       "      <td>3053.519401</td>\n",
       "      <td>11.543256</td>\n",
       "      <td>2021-03-18</td>\n",
       "      <td>3</td>\n",
       "    </tr>\n",
       "    <tr>\n",
       "      <th>14</th>\n",
       "      <td>2</td>\n",
       "      <td>Станислав</td>\n",
       "      <td>31</td>\n",
       "      <td>Омск</td>\n",
       "      <td>ultra</td>\n",
       "      <td>4029.116927</td>\n",
       "      <td>25.109188</td>\n",
       "      <td>2021-03-23</td>\n",
       "      <td>3</td>\n",
       "    </tr>\n",
       "    <tr>\n",
       "      <th>15</th>\n",
       "      <td>2</td>\n",
       "      <td>Станислав</td>\n",
       "      <td>31</td>\n",
       "      <td>Омск</td>\n",
       "      <td>ultra</td>\n",
       "      <td>2805.786329</td>\n",
       "      <td>20.652145</td>\n",
       "      <td>2021-04-08</td>\n",
       "      <td>4</td>\n",
       "    </tr>\n",
       "    <tr>\n",
       "      <th>16</th>\n",
       "      <td>2</td>\n",
       "      <td>Станислав</td>\n",
       "      <td>31</td>\n",
       "      <td>Омск</td>\n",
       "      <td>ultra</td>\n",
       "      <td>3358.595495</td>\n",
       "      <td>18.396489</td>\n",
       "      <td>2021-04-13</td>\n",
       "      <td>4</td>\n",
       "    </tr>\n",
       "    <tr>\n",
       "      <th>17</th>\n",
       "      <td>2</td>\n",
       "      <td>Станислав</td>\n",
       "      <td>31</td>\n",
       "      <td>Омск</td>\n",
       "      <td>ultra</td>\n",
       "      <td>3255.338202</td>\n",
       "      <td>13.851127</td>\n",
       "      <td>2021-06-20</td>\n",
       "      <td>6</td>\n",
       "    </tr>\n",
       "    <tr>\n",
       "      <th>18</th>\n",
       "      <td>2</td>\n",
       "      <td>Станислав</td>\n",
       "      <td>31</td>\n",
       "      <td>Омск</td>\n",
       "      <td>ultra</td>\n",
       "      <td>3942.817648</td>\n",
       "      <td>20.142725</td>\n",
       "      <td>2021-07-02</td>\n",
       "      <td>7</td>\n",
       "    </tr>\n",
       "    <tr>\n",
       "      <th>19</th>\n",
       "      <td>2</td>\n",
       "      <td>Станислав</td>\n",
       "      <td>31</td>\n",
       "      <td>Омск</td>\n",
       "      <td>ultra</td>\n",
       "      <td>2837.905316</td>\n",
       "      <td>26.027432</td>\n",
       "      <td>2021-07-18</td>\n",
       "      <td>7</td>\n",
       "    </tr>\n",
       "  </tbody>\n",
       "</table>\n",
       "</div>"
      ],
      "text/plain": [
       "    user_id       name  age    city subscription_type     distance   duration  \\\n",
       "0         1       Кира   22  Тюмень             ultra  4409.919140  25.599769   \n",
       "1         1       Кира   22  Тюмень             ultra  2617.592153  15.816871   \n",
       "2         1       Кира   22  Тюмень             ultra   754.159807   6.232113   \n",
       "3         1       Кира   22  Тюмень             ultra  2694.783254  18.511000   \n",
       "4         1       Кира   22  Тюмень             ultra  4028.687306  26.265803   \n",
       "5         1       Кира   22  Тюмень             ultra  2770.890808  16.650138   \n",
       "6         1       Кира   22  Тюмень             ultra  3039.020292  14.927879   \n",
       "7         1       Кира   22  Тюмень             ultra  2842.118050  23.117468   \n",
       "8         1       Кира   22  Тюмень             ultra  3412.690668  15.238072   \n",
       "9         1       Кира   22  Тюмень             ultra   748.690645  15.041884   \n",
       "10        1       Кира   22  Тюмень             ultra  4031.020195  17.674448   \n",
       "11        1       Кира   22  Тюмень             ultra  2720.609748   9.529463   \n",
       "12        2  Станислав   31    Омск             ultra  3105.086678  24.307514   \n",
       "13        2  Станислав   31    Омск             ultra  3053.519401  11.543256   \n",
       "14        2  Станислав   31    Омск             ultra  4029.116927  25.109188   \n",
       "15        2  Станислав   31    Омск             ultra  2805.786329  20.652145   \n",
       "16        2  Станислав   31    Омск             ultra  3358.595495  18.396489   \n",
       "17        2  Станислав   31    Омск             ultra  3255.338202  13.851127   \n",
       "18        2  Станислав   31    Омск             ultra  3942.817648  20.142725   \n",
       "19        2  Станислав   31    Омск             ultra  2837.905316  26.027432   \n",
       "\n",
       "         date  month  \n",
       "0  2021-01-01      1  \n",
       "1  2021-01-18      1  \n",
       "2  2021-04-20      4  \n",
       "3  2021-08-11      8  \n",
       "4  2021-08-28      8  \n",
       "5  2021-10-09     10  \n",
       "6  2021-10-19     10  \n",
       "7  2021-11-06     11  \n",
       "8  2021-11-14     11  \n",
       "9  2021-11-22     11  \n",
       "10 2021-12-14     12  \n",
       "11 2021-12-22     12  \n",
       "12 2021-03-15      3  \n",
       "13 2021-03-18      3  \n",
       "14 2021-03-23      3  \n",
       "15 2021-04-08      4  \n",
       "16 2021-04-13      4  \n",
       "17 2021-06-20      6  \n",
       "18 2021-07-02      7  \n",
       "19 2021-07-18      7  "
      ]
     },
     "execution_count": 42,
     "metadata": {},
     "output_type": "execute_result"
    }
   ],
   "source": [
    "data_ultra.head(20)"
   ]
  },
  {
   "cell_type": "markdown",
   "id": "d1305003",
   "metadata": {},
   "source": [
    "Теперь мы можем визуализировать информацию о расстоянии и времени поездок для пользователей обеих категорий."
   ]
  },
  {
   "cell_type": "markdown",
   "id": "8e534a46",
   "metadata": {},
   "source": [
    "**Изучение данных о расстоянии и времени поездок для пользователей без подписки**"
   ]
  },
  {
   "cell_type": "code",
   "execution_count": 43,
   "id": "b78d6191",
   "metadata": {},
   "outputs": [
    {
     "data": {
      "text/plain": [
       "count    11568.000000\n",
       "mean      3045.495282\n",
       "std       1246.173806\n",
       "min          0.855683\n",
       "25%       2366.562689\n",
       "50%       3114.648465\n",
       "75%       3905.697894\n",
       "max       7211.007745\n",
       "Name: distance, dtype: float64"
      ]
     },
     "execution_count": 43,
     "metadata": {},
     "output_type": "execute_result"
    }
   ],
   "source": [
    "# посмотрим распределение по столбцу с расстояниями поездок\n",
    "data_free['distance'].describe()"
   ]
  },
  {
   "cell_type": "code",
   "execution_count": 44,
   "id": "98822d7b",
   "metadata": {},
   "outputs": [
    {
     "data": {
      "image/png": "[encoded data removed]",
      "text/plain": [
       "<Figure size 800x600 with 1 Axes>"
      ]
     },
     "metadata": {},
     "output_type": "display_data"
    }
   ],
   "source": [
    "# посторим диаграмму размаха\n",
    "data_free.boxplot(column='distance', figsize=(8, 6))\n",
    "plt.title('Размах расстояния поездок')\n",
    "plt.ylim(0, 7500)\n",
    "plt.ylabel('Расстояние, которое преодолели пользователи, м')\n",
    "plt.show()"
   ]
  },
  {
   "cell_type": "markdown",
   "id": "9104fd9b",
   "metadata": {},
   "source": [
    "Из графика мы видим, что ориентировочная граница нормального размаха расстояния, которое пользователи без подписки преодолели за одну поездку, составляет от 100 м до 6,2 км Более высокие и более низкие значения являются выбросами. Медиана - 3,11 км"
   ]
  },
  {
   "cell_type": "code",
   "execution_count": 45,
   "id": "e65f95a0",
   "metadata": {},
   "outputs": [
    {
     "data": {
      "text/plain": [
       "count    11568.000000\n",
       "mean        17.390909\n",
       "std          6.326803\n",
       "min          0.500000\n",
       "25%         12.958437\n",
       "50%         17.326890\n",
       "75%         21.594071\n",
       "max         34.948498\n",
       "Name: duration, dtype: float64"
      ]
     },
     "execution_count": 45,
     "metadata": {},
     "output_type": "execute_result"
    }
   ],
   "source": [
    "# посмотрим распределение по столбцу с продолжительностью поездок\n",
    "data_free['duration'].describe()"
   ]
  },
  {
   "cell_type": "code",
   "execution_count": 46,
   "id": "6671034c",
   "metadata": {},
   "outputs": [
    {
     "data": {
      "image/png": "[encoded data removed]",
      "text/plain": [
       "<Figure size 800x600 with 1 Axes>"
      ]
     },
     "metadata": {},
     "output_type": "display_data"
    }
   ],
   "source": [
    "# посторим диаграмму размаха\n",
    "data_free.boxplot(column='duration', figsize=(8, 6))\n",
    "plt.title('Размах продолжительности поездок')\n",
    "plt.ylim(0, 40)\n",
    "plt.ylabel('Продолжительность поездок, мин.')\n",
    "plt.show()"
   ]
  },
  {
   "cell_type": "markdown",
   "id": "275eea03",
   "metadata": {},
   "source": [
    "Как мы видим, ориентировочная граница нормального размаха продолжительности поездок для пользователей без подписки составляет от 1 мин. до 34 мин. Более высокие и более низкие значения являются выбросами. Медиана составляет 17,34 мин."
   ]
  },
  {
   "cell_type": "markdown",
   "id": "57bef338",
   "metadata": {},
   "source": [
    "**Изучение данных о расстоянии и времени поездок для пользователей с подпиской**"
   ]
  },
  {
   "cell_type": "code",
   "execution_count": 47,
   "id": "340e4332",
   "metadata": {},
   "outputs": [
    {
     "data": {
      "text/plain": [
       "count    6500.000000\n",
       "mean     3115.445388\n",
       "std       836.895330\n",
       "min       244.210438\n",
       "25%      2785.444017\n",
       "50%      3148.637229\n",
       "75%      3560.574425\n",
       "max      5699.769662\n",
       "Name: distance, dtype: float64"
      ]
     },
     "execution_count": 47,
     "metadata": {},
     "output_type": "execute_result"
    }
   ],
   "source": [
    "# посмотрим распределение по столбцу с расстояниями поездок\n",
    "data_ultra['distance'].describe()"
   ]
  },
  {
   "cell_type": "code",
   "execution_count": 48,
   "id": "86972142",
   "metadata": {},
   "outputs": [
    {
     "data": {
      "image/png": "[encoded data removed]",
      "text/plain": [
       "<Figure size 800x600 with 1 Axes>"
      ]
     },
     "metadata": {},
     "output_type": "display_data"
    }
   ],
   "source": [
    "# посторим диаграмму размаха\n",
    "data_ultra.boxplot(column='distance', figsize=(8, 6))\n",
    "plt.title('Размах расстояния поездок')\n",
    "plt.ylim(0, 7500)\n",
    "plt.ylabel('Расстояние, которое преодолели пользователи, м')\n",
    "plt.show()"
   ]
  },
  {
   "cell_type": "markdown",
   "id": "53f5fe83",
   "metadata": {},
   "source": [
    "Из графика мы видим, что ориентировочная граница нормального размаха расстояния, которое пользователи с подпиской преодолели за одну поездку, составляет от 1,6 км до 4,6 км Более высокие и более низкие значения являются выбросами. Медиана - 3,15 км"
   ]
  },
  {
   "cell_type": "code",
   "execution_count": 49,
   "id": "51b72e50",
   "metadata": {},
   "outputs": [
    {
     "data": {
      "text/plain": [
       "count    6500.000000\n",
       "mean       18.541985\n",
       "std         5.572048\n",
       "min         3.760353\n",
       "25%        14.524654\n",
       "50%        18.178153\n",
       "75%        21.884129\n",
       "max        40.823963\n",
       "Name: duration, dtype: float64"
      ]
     },
     "execution_count": 49,
     "metadata": {},
     "output_type": "execute_result"
    }
   ],
   "source": [
    "# посмотрим распределение по столбцу с продолжительностью поездок\n",
    "data_ultra['duration'].describe()"
   ]
  },
  {
   "cell_type": "code",
   "execution_count": 50,
   "id": "3bcbad6f",
   "metadata": {},
   "outputs": [
    {
     "data": {
      "image/png": "[encoded data removed]",
      "text/plain": [
       "<Figure size 800x600 with 1 Axes>"
      ]
     },
     "metadata": {},
     "output_type": "display_data"
    }
   ],
   "source": [
    "# посторим диаграмму размаха\n",
    "data_ultra.boxplot(column='duration', figsize=(8, 6))\n",
    "plt.title('Размах продолжительности поездок')\n",
    "plt.ylim(0, 40)\n",
    "plt.ylabel('Продолжительность поездок, мин.')\n",
    "plt.show()"
   ]
  },
  {
   "cell_type": "markdown",
   "id": "9b9a20d1",
   "metadata": {},
   "source": [
    "Как мы видим, ориентировочная граница нормального размаха продолжительности поездок для пользователей с подпиской составляет от 4 мин. до 33 мин. Более высокие и более низкие значения являются выбросами. Медиана составляет 18,18 мин."
   ]
  },
  {
   "cell_type": "markdown",
   "id": "417c7a68",
   "metadata": {},
   "source": [
    "**В ходе исследования мы установили, что:**\n",
    "\n",
    "- ориентировочная граница нормального размаха расстояния, которое пользователи без подписки преодолели за одну поездку, составляет от 100 м до 6,2 км; медиана - 3,11 км\n",
    "- ориентировочная граница нормального размаха расстояния, которое пользователи с подпиской преодолели за одну поездку, составляет от 1,6 км до 4,6 км; медиана - 3,15 км\n",
    "- ориентировочная граница нормального размаха продолжительности поездок для пользователей без подписки составляет от 1 мин. до 34 мин.; медиана составляет 17,34 мин.\n",
    "- ориентировочная граница нормального размаха продолжительности поездок для пользователей с подпиской составляет от 4 мин. до 33 мин.; медиана составляет 18,18 мин.\n",
    "\n",
    "Вышеуказанные результаты, скорее всего, объясняются наличием среди пользователей без подписки людей, которые пользовались сервисом в первый раз и проехали на самокате некоторое небольшое расстояние просто из желания попробовать (мы видим расстояние в 100 м как нижнюю границу). Имеющие подписку пользуются сервисом регулярно, соответственно, нижняя граница для них - это 1,6 км (т.е. поездки на малые расстояния для них не характерны). При этом пользователи без подписки имеют более высокую верхнюю границу расстояния поездки (6,2 км против 4,6 км) Нижняя граница времени поездки для пользователей без подписки составляет всего 1 мин., что в 4 раза меньше, чем в категории с подпиской (что, очевидно, также связано с \"тестовыми\" поездками на малые расстояния)."
   ]
  },
  {
   "cell_type": "markdown",
   "id": "402d620f",
   "metadata": {},
   "source": [
    "#### Шаг 5. Подсчёт выручки"
   ]
  },
  {
   "cell_type": "markdown",
   "id": "afcf7110",
   "metadata": {},
   "source": [
    "**Найдем суммарное расстояние, количество поездок и суммарное время для каждого пользователя за каждый месяц**"
   ]
  },
  {
   "cell_type": "code",
   "execution_count": 51,
   "id": "e1fe5002",
   "metadata": {},
   "outputs": [],
   "source": [
    "# создаем сводную таблицу для пользователей без подписки с данными о суммарном расстоянии и суммарном времени\n",
    "data_1 = data_free.pivot_table(index=['user_id', 'month'], values=['distance', 'duration'], aggfunc='sum').reset_index\\\n",
    "(level=['month', 'user_id'])"
   ]
  },
  {
   "cell_type": "code",
   "execution_count": 52,
   "id": "ef66a538",
   "metadata": {},
   "outputs": [],
   "source": [
    "# создаем сводную таблицу для пользователей без подписки с данными о количесте поездок\n",
    "data_2 = data_free.pivot_table(index=['user_id', 'month'], aggfunc={'user_id':'count'})\n",
    "data_2.columns = ['ride_amount']\n",
    "data_2 = data_2.reset_index(level=['month', 'user_id'])"
   ]
  },
  {
   "cell_type": "code",
   "execution_count": 53,
   "id": "6b113fd2",
   "metadata": {},
   "outputs": [],
   "source": [
    "# объединяем предыдущие 2 таблицы и создаем таблицу для пользователей без подписки с данными о суммарном расстоянии, количестве\n",
    "# поездок и суммарном времени для каждого пользователя за каждый месяц\n",
    "data_cons_free = data_1.merge(data_2, on=['user_id', 'month'], how='outer')"
   ]
  },
  {
   "cell_type": "code",
   "execution_count": 54,
   "id": "52653e05",
   "metadata": {},
   "outputs": [
    {
     "data": {
      "text/html": [
       "<style type=\"text/css\">\n",
       "#T_7e9b4_row0_col0, #T_7e9b4_row1_col0, #T_7e9b4_row2_col0, #T_7e9b4_row3_col0, #T_7e9b4_row4_col0 {\n",
       "  background-color: #3b4cc0;\n",
       "  color: #f1f1f1;\n",
       "}\n",
       "</style>\n",
       "<table id=\"T_7e9b4\">\n",
       "  <thead>\n",
       "    <tr>\n",
       "      <th class=\"blank level0\" >&nbsp;</th>\n",
       "      <th id=\"T_7e9b4_level0_col0\" class=\"col_heading level0 col0\" >0</th>\n",
       "    </tr>\n",
       "  </thead>\n",
       "  <tbody>\n",
       "    <tr>\n",
       "      <th id=\"T_7e9b4_level0_row0\" class=\"row_heading level0 row0\" >user_id</th>\n",
       "      <td id=\"T_7e9b4_row0_col0\" class=\"data row0 col0\" >0.000000</td>\n",
       "    </tr>\n",
       "    <tr>\n",
       "      <th id=\"T_7e9b4_level0_row1\" class=\"row_heading level0 row1\" >month</th>\n",
       "      <td id=\"T_7e9b4_row1_col0\" class=\"data row1 col0\" >0.000000</td>\n",
       "    </tr>\n",
       "    <tr>\n",
       "      <th id=\"T_7e9b4_level0_row2\" class=\"row_heading level0 row2\" >distance</th>\n",
       "      <td id=\"T_7e9b4_row2_col0\" class=\"data row2 col0\" >0.000000</td>\n",
       "    </tr>\n",
       "    <tr>\n",
       "      <th id=\"T_7e9b4_level0_row3\" class=\"row_heading level0 row3\" >duration</th>\n",
       "      <td id=\"T_7e9b4_row3_col0\" class=\"data row3 col0\" >0.000000</td>\n",
       "    </tr>\n",
       "    <tr>\n",
       "      <th id=\"T_7e9b4_level0_row4\" class=\"row_heading level0 row4\" >ride_amount</th>\n",
       "      <td id=\"T_7e9b4_row4_col0\" class=\"data row4 col0\" >0.000000</td>\n",
       "    </tr>\n",
       "  </tbody>\n",
       "</table>\n"
      ],
      "text/plain": [
       "<pandas.io.formats.style.Styler at 0x28aee2873d0>"
      ]
     },
     "execution_count": 54,
     "metadata": {},
     "output_type": "execute_result"
    }
   ],
   "source": [
    "# проверим количество пропусков в % для нового датафрейма\n",
    "pd.DataFrame(round(data_cons_free.isna().mean()*100,)).style.background_gradient('coolwarm')"
   ]
  },
  {
   "cell_type": "code",
   "execution_count": 55,
   "id": "d398d41e",
   "metadata": {},
   "outputs": [
    {
     "data": {
      "text/html": [
       "<div>\n",
       "<style scoped>\n",
       "    .dataframe tbody tr th:only-of-type {\n",
       "        vertical-align: middle;\n",
       "    }\n",
       "\n",
       "    .dataframe tbody tr th {\n",
       "        vertical-align: top;\n",
       "    }\n",
       "\n",
       "    .dataframe thead th {\n",
       "        text-align: right;\n",
       "    }\n",
       "</style>\n",
       "<table border=\"1\" class=\"dataframe\">\n",
       "  <thead>\n",
       "    <tr style=\"text-align: right;\">\n",
       "      <th></th>\n",
       "      <th>user_id</th>\n",
       "      <th>month</th>\n",
       "      <th>distance</th>\n",
       "      <th>duration</th>\n",
       "      <th>ride_amount</th>\n",
       "    </tr>\n",
       "  </thead>\n",
       "  <tbody>\n",
       "    <tr>\n",
       "      <th>0</th>\n",
       "      <td>700</td>\n",
       "      <td>1</td>\n",
       "      <td>2515.690719</td>\n",
       "      <td>14.944286</td>\n",
       "      <td>1</td>\n",
       "    </tr>\n",
       "    <tr>\n",
       "      <th>1</th>\n",
       "      <td>700</td>\n",
       "      <td>2</td>\n",
       "      <td>13446.659764</td>\n",
       "      <td>85.829845</td>\n",
       "      <td>5</td>\n",
       "    </tr>\n",
       "    <tr>\n",
       "      <th>2</th>\n",
       "      <td>700</td>\n",
       "      <td>3</td>\n",
       "      <td>3798.334905</td>\n",
       "      <td>18.243756</td>\n",
       "      <td>1</td>\n",
       "    </tr>\n",
       "    <tr>\n",
       "      <th>3</th>\n",
       "      <td>700</td>\n",
       "      <td>4</td>\n",
       "      <td>2984.551206</td>\n",
       "      <td>15.424899</td>\n",
       "      <td>1</td>\n",
       "    </tr>\n",
       "    <tr>\n",
       "      <th>4</th>\n",
       "      <td>700</td>\n",
       "      <td>6</td>\n",
       "      <td>5927.650988</td>\n",
       "      <td>28.077657</td>\n",
       "      <td>2</td>\n",
       "    </tr>\n",
       "    <tr>\n",
       "      <th>5</th>\n",
       "      <td>700</td>\n",
       "      <td>7</td>\n",
       "      <td>4399.206279</td>\n",
       "      <td>20.595752</td>\n",
       "      <td>2</td>\n",
       "    </tr>\n",
       "    <tr>\n",
       "      <th>6</th>\n",
       "      <td>700</td>\n",
       "      <td>8</td>\n",
       "      <td>4071.654669</td>\n",
       "      <td>16.370546</td>\n",
       "      <td>1</td>\n",
       "    </tr>\n",
       "    <tr>\n",
       "      <th>7</th>\n",
       "      <td>700</td>\n",
       "      <td>10</td>\n",
       "      <td>6322.578618</td>\n",
       "      <td>42.621488</td>\n",
       "      <td>2</td>\n",
       "    </tr>\n",
       "    <tr>\n",
       "      <th>8</th>\n",
       "      <td>700</td>\n",
       "      <td>11</td>\n",
       "      <td>8735.782625</td>\n",
       "      <td>31.116714</td>\n",
       "      <td>3</td>\n",
       "    </tr>\n",
       "    <tr>\n",
       "      <th>9</th>\n",
       "      <td>701</td>\n",
       "      <td>1</td>\n",
       "      <td>2676.472894</td>\n",
       "      <td>17.470598</td>\n",
       "      <td>1</td>\n",
       "    </tr>\n",
       "    <tr>\n",
       "      <th>10</th>\n",
       "      <td>701</td>\n",
       "      <td>2</td>\n",
       "      <td>5637.334007</td>\n",
       "      <td>26.866500</td>\n",
       "      <td>2</td>\n",
       "    </tr>\n",
       "    <tr>\n",
       "      <th>11</th>\n",
       "      <td>701</td>\n",
       "      <td>3</td>\n",
       "      <td>2802.021357</td>\n",
       "      <td>16.008663</td>\n",
       "      <td>1</td>\n",
       "    </tr>\n",
       "    <tr>\n",
       "      <th>12</th>\n",
       "      <td>701</td>\n",
       "      <td>4</td>\n",
       "      <td>3509.012965</td>\n",
       "      <td>13.081094</td>\n",
       "      <td>1</td>\n",
       "    </tr>\n",
       "    <tr>\n",
       "      <th>13</th>\n",
       "      <td>701</td>\n",
       "      <td>5</td>\n",
       "      <td>2465.852577</td>\n",
       "      <td>14.283970</td>\n",
       "      <td>1</td>\n",
       "    </tr>\n",
       "    <tr>\n",
       "      <th>14</th>\n",
       "      <td>701</td>\n",
       "      <td>6</td>\n",
       "      <td>4634.620760</td>\n",
       "      <td>25.024756</td>\n",
       "      <td>2</td>\n",
       "    </tr>\n",
       "    <tr>\n",
       "      <th>15</th>\n",
       "      <td>701</td>\n",
       "      <td>7</td>\n",
       "      <td>12970.722682</td>\n",
       "      <td>64.135877</td>\n",
       "      <td>4</td>\n",
       "    </tr>\n",
       "    <tr>\n",
       "      <th>16</th>\n",
       "      <td>701</td>\n",
       "      <td>8</td>\n",
       "      <td>7628.751294</td>\n",
       "      <td>17.941020</td>\n",
       "      <td>2</td>\n",
       "    </tr>\n",
       "    <tr>\n",
       "      <th>17</th>\n",
       "      <td>701</td>\n",
       "      <td>9</td>\n",
       "      <td>8659.573699</td>\n",
       "      <td>31.579062</td>\n",
       "      <td>2</td>\n",
       "    </tr>\n",
       "    <tr>\n",
       "      <th>18</th>\n",
       "      <td>701</td>\n",
       "      <td>10</td>\n",
       "      <td>8395.260013</td>\n",
       "      <td>42.142452</td>\n",
       "      <td>2</td>\n",
       "    </tr>\n",
       "    <tr>\n",
       "      <th>19</th>\n",
       "      <td>701</td>\n",
       "      <td>12</td>\n",
       "      <td>2773.396606</td>\n",
       "      <td>21.245082</td>\n",
       "      <td>2</td>\n",
       "    </tr>\n",
       "  </tbody>\n",
       "</table>\n",
       "</div>"
      ],
      "text/plain": [
       "    user_id  month      distance   duration  ride_amount\n",
       "0       700      1   2515.690719  14.944286            1\n",
       "1       700      2  13446.659764  85.829845            5\n",
       "2       700      3   3798.334905  18.243756            1\n",
       "3       700      4   2984.551206  15.424899            1\n",
       "4       700      6   5927.650988  28.077657            2\n",
       "5       700      7   4399.206279  20.595752            2\n",
       "6       700      8   4071.654669  16.370546            1\n",
       "7       700     10   6322.578618  42.621488            2\n",
       "8       700     11   8735.782625  31.116714            3\n",
       "9       701      1   2676.472894  17.470598            1\n",
       "10      701      2   5637.334007  26.866500            2\n",
       "11      701      3   2802.021357  16.008663            1\n",
       "12      701      4   3509.012965  13.081094            1\n",
       "13      701      5   2465.852577  14.283970            1\n",
       "14      701      6   4634.620760  25.024756            2\n",
       "15      701      7  12970.722682  64.135877            4\n",
       "16      701      8   7628.751294  17.941020            2\n",
       "17      701      9   8659.573699  31.579062            2\n",
       "18      701     10   8395.260013  42.142452            2\n",
       "19      701     12   2773.396606  21.245082            2"
      ]
     },
     "execution_count": 55,
     "metadata": {},
     "output_type": "execute_result"
    }
   ],
   "source": [
    "# проверяем получившийся датафрейм - выведем первые 20 строчек\n",
    "data_cons_free.head(20)"
   ]
  },
  {
   "cell_type": "code",
   "execution_count": 56,
   "id": "ba63a5b1",
   "metadata": {},
   "outputs": [],
   "source": [
    "# создаем сводную таблицу для пользователей с подпиской с данными о суммарном расстоянии и суммарном времени\n",
    "data_3 = data_ultra.pivot_table(index=['user_id', 'month'], values=['distance', 'duration'], aggfunc='sum').reset_index\\\n",
    "(level=['month', 'user_id'])"
   ]
  },
  {
   "cell_type": "code",
   "execution_count": 57,
   "id": "d6892a97",
   "metadata": {},
   "outputs": [],
   "source": [
    "# создаем сводную таблицу для пользователей с подпиской с данными о количесте поездок\n",
    "data_4 = data_ultra.pivot_table(index=['user_id', 'month'], aggfunc={'user_id':'count'})\n",
    "data_4.columns = ['ride_amount']\n",
    "data_4 = data_4.reset_index(level=['month', 'user_id'])"
   ]
  },
  {
   "cell_type": "code",
   "execution_count": 58,
   "id": "60c2db60",
   "metadata": {},
   "outputs": [],
   "source": [
    "# объединяем предыдущие 2 таблицы и создаем таблицу для пользователей с подпиской с данными о суммарном расстоянии, количестве\n",
    "# поездок и суммарном времени для каждого пользователя за каждый месяц\n",
    "data_cons_ultra = data_3.merge(data_4, on=['user_id', 'month'], how='outer')"
   ]
  },
  {
   "cell_type": "code",
   "execution_count": 59,
   "id": "fe2ee403",
   "metadata": {},
   "outputs": [
    {
     "data": {
      "text/html": [
       "<style type=\"text/css\">\n",
       "#T_7fdff_row0_col0, #T_7fdff_row1_col0, #T_7fdff_row2_col0, #T_7fdff_row3_col0, #T_7fdff_row4_col0 {\n",
       "  background-color: #3b4cc0;\n",
       "  color: #f1f1f1;\n",
       "}\n",
       "</style>\n",
       "<table id=\"T_7fdff\">\n",
       "  <thead>\n",
       "    <tr>\n",
       "      <th class=\"blank level0\" >&nbsp;</th>\n",
       "      <th id=\"T_7fdff_level0_col0\" class=\"col_heading level0 col0\" >0</th>\n",
       "    </tr>\n",
       "  </thead>\n",
       "  <tbody>\n",
       "    <tr>\n",
       "      <th id=\"T_7fdff_level0_row0\" class=\"row_heading level0 row0\" >user_id</th>\n",
       "      <td id=\"T_7fdff_row0_col0\" class=\"data row0 col0\" >0.000000</td>\n",
       "    </tr>\n",
       "    <tr>\n",
       "      <th id=\"T_7fdff_level0_row1\" class=\"row_heading level0 row1\" >month</th>\n",
       "      <td id=\"T_7fdff_row1_col0\" class=\"data row1 col0\" >0.000000</td>\n",
       "    </tr>\n",
       "    <tr>\n",
       "      <th id=\"T_7fdff_level0_row2\" class=\"row_heading level0 row2\" >distance</th>\n",
       "      <td id=\"T_7fdff_row2_col0\" class=\"data row2 col0\" >0.000000</td>\n",
       "    </tr>\n",
       "    <tr>\n",
       "      <th id=\"T_7fdff_level0_row3\" class=\"row_heading level0 row3\" >duration</th>\n",
       "      <td id=\"T_7fdff_row3_col0\" class=\"data row3 col0\" >0.000000</td>\n",
       "    </tr>\n",
       "    <tr>\n",
       "      <th id=\"T_7fdff_level0_row4\" class=\"row_heading level0 row4\" >ride_amount</th>\n",
       "      <td id=\"T_7fdff_row4_col0\" class=\"data row4 col0\" >0.000000</td>\n",
       "    </tr>\n",
       "  </tbody>\n",
       "</table>\n"
      ],
      "text/plain": [
       "<pandas.io.formats.style.Styler at 0x28aee287520>"
      ]
     },
     "execution_count": 59,
     "metadata": {},
     "output_type": "execute_result"
    }
   ],
   "source": [
    "# проверим количество пропусков в % для нового датафрейма\n",
    "pd.DataFrame(round(data_cons_ultra.isna().mean()*100,)).style.background_gradient('coolwarm')"
   ]
  },
  {
   "cell_type": "code",
   "execution_count": 60,
   "id": "9875573d",
   "metadata": {},
   "outputs": [
    {
     "data": {
      "text/html": [
       "<div>\n",
       "<style scoped>\n",
       "    .dataframe tbody tr th:only-of-type {\n",
       "        vertical-align: middle;\n",
       "    }\n",
       "\n",
       "    .dataframe tbody tr th {\n",
       "        vertical-align: top;\n",
       "    }\n",
       "\n",
       "    .dataframe thead th {\n",
       "        text-align: right;\n",
       "    }\n",
       "</style>\n",
       "<table border=\"1\" class=\"dataframe\">\n",
       "  <thead>\n",
       "    <tr style=\"text-align: right;\">\n",
       "      <th></th>\n",
       "      <th>user_id</th>\n",
       "      <th>month</th>\n",
       "      <th>distance</th>\n",
       "      <th>duration</th>\n",
       "      <th>ride_amount</th>\n",
       "    </tr>\n",
       "  </thead>\n",
       "  <tbody>\n",
       "    <tr>\n",
       "      <th>0</th>\n",
       "      <td>1</td>\n",
       "      <td>1</td>\n",
       "      <td>7027.511294</td>\n",
       "      <td>41.416640</td>\n",
       "      <td>2</td>\n",
       "    </tr>\n",
       "    <tr>\n",
       "      <th>1</th>\n",
       "      <td>1</td>\n",
       "      <td>4</td>\n",
       "      <td>754.159807</td>\n",
       "      <td>6.232113</td>\n",
       "      <td>1</td>\n",
       "    </tr>\n",
       "    <tr>\n",
       "      <th>2</th>\n",
       "      <td>1</td>\n",
       "      <td>8</td>\n",
       "      <td>6723.470560</td>\n",
       "      <td>44.776802</td>\n",
       "      <td>2</td>\n",
       "    </tr>\n",
       "    <tr>\n",
       "      <th>3</th>\n",
       "      <td>1</td>\n",
       "      <td>10</td>\n",
       "      <td>5809.911100</td>\n",
       "      <td>31.578017</td>\n",
       "      <td>2</td>\n",
       "    </tr>\n",
       "    <tr>\n",
       "      <th>4</th>\n",
       "      <td>1</td>\n",
       "      <td>11</td>\n",
       "      <td>7003.499363</td>\n",
       "      <td>53.397424</td>\n",
       "      <td>3</td>\n",
       "    </tr>\n",
       "    <tr>\n",
       "      <th>5</th>\n",
       "      <td>1</td>\n",
       "      <td>12</td>\n",
       "      <td>6751.629942</td>\n",
       "      <td>27.203912</td>\n",
       "      <td>2</td>\n",
       "    </tr>\n",
       "    <tr>\n",
       "      <th>6</th>\n",
       "      <td>2</td>\n",
       "      <td>3</td>\n",
       "      <td>10187.723006</td>\n",
       "      <td>60.959959</td>\n",
       "      <td>3</td>\n",
       "    </tr>\n",
       "    <tr>\n",
       "      <th>7</th>\n",
       "      <td>2</td>\n",
       "      <td>4</td>\n",
       "      <td>6164.381824</td>\n",
       "      <td>39.048633</td>\n",
       "      <td>2</td>\n",
       "    </tr>\n",
       "    <tr>\n",
       "      <th>8</th>\n",
       "      <td>2</td>\n",
       "      <td>6</td>\n",
       "      <td>3255.338202</td>\n",
       "      <td>13.851127</td>\n",
       "      <td>1</td>\n",
       "    </tr>\n",
       "    <tr>\n",
       "      <th>9</th>\n",
       "      <td>2</td>\n",
       "      <td>7</td>\n",
       "      <td>6780.722964</td>\n",
       "      <td>46.170157</td>\n",
       "      <td>2</td>\n",
       "    </tr>\n",
       "    <tr>\n",
       "      <th>10</th>\n",
       "      <td>2</td>\n",
       "      <td>8</td>\n",
       "      <td>923.007439</td>\n",
       "      <td>6.914760</td>\n",
       "      <td>1</td>\n",
       "    </tr>\n",
       "    <tr>\n",
       "      <th>11</th>\n",
       "      <td>2</td>\n",
       "      <td>10</td>\n",
       "      <td>2824.636598</td>\n",
       "      <td>18.779128</td>\n",
       "      <td>1</td>\n",
       "    </tr>\n",
       "    <tr>\n",
       "      <th>12</th>\n",
       "      <td>2</td>\n",
       "      <td>12</td>\n",
       "      <td>3828.248580</td>\n",
       "      <td>11.920514</td>\n",
       "      <td>1</td>\n",
       "    </tr>\n",
       "    <tr>\n",
       "      <th>13</th>\n",
       "      <td>3</td>\n",
       "      <td>1</td>\n",
       "      <td>3061.777147</td>\n",
       "      <td>12.654443</td>\n",
       "      <td>1</td>\n",
       "    </tr>\n",
       "    <tr>\n",
       "      <th>14</th>\n",
       "      <td>3</td>\n",
       "      <td>2</td>\n",
       "      <td>5421.152016</td>\n",
       "      <td>37.568637</td>\n",
       "      <td>2</td>\n",
       "    </tr>\n",
       "    <tr>\n",
       "      <th>15</th>\n",
       "      <td>3</td>\n",
       "      <td>4</td>\n",
       "      <td>2956.651632</td>\n",
       "      <td>20.671364</td>\n",
       "      <td>1</td>\n",
       "    </tr>\n",
       "    <tr>\n",
       "      <th>16</th>\n",
       "      <td>3</td>\n",
       "      <td>5</td>\n",
       "      <td>9064.026918</td>\n",
       "      <td>61.404503</td>\n",
       "      <td>3</td>\n",
       "    </tr>\n",
       "    <tr>\n",
       "      <th>17</th>\n",
       "      <td>3</td>\n",
       "      <td>7</td>\n",
       "      <td>10919.595403</td>\n",
       "      <td>65.519784</td>\n",
       "      <td>3</td>\n",
       "    </tr>\n",
       "    <tr>\n",
       "      <th>18</th>\n",
       "      <td>3</td>\n",
       "      <td>9</td>\n",
       "      <td>2891.012822</td>\n",
       "      <td>22.390055</td>\n",
       "      <td>1</td>\n",
       "    </tr>\n",
       "    <tr>\n",
       "      <th>19</th>\n",
       "      <td>3</td>\n",
       "      <td>12</td>\n",
       "      <td>2593.381928</td>\n",
       "      <td>12.984728</td>\n",
       "      <td>1</td>\n",
       "    </tr>\n",
       "  </tbody>\n",
       "</table>\n",
       "</div>"
      ],
      "text/plain": [
       "    user_id  month      distance   duration  ride_amount\n",
       "0         1      1   7027.511294  41.416640            2\n",
       "1         1      4    754.159807   6.232113            1\n",
       "2         1      8   6723.470560  44.776802            2\n",
       "3         1     10   5809.911100  31.578017            2\n",
       "4         1     11   7003.499363  53.397424            3\n",
       "5         1     12   6751.629942  27.203912            2\n",
       "6         2      3  10187.723006  60.959959            3\n",
       "7         2      4   6164.381824  39.048633            2\n",
       "8         2      6   3255.338202  13.851127            1\n",
       "9         2      7   6780.722964  46.170157            2\n",
       "10        2      8    923.007439   6.914760            1\n",
       "11        2     10   2824.636598  18.779128            1\n",
       "12        2     12   3828.248580  11.920514            1\n",
       "13        3      1   3061.777147  12.654443            1\n",
       "14        3      2   5421.152016  37.568637            2\n",
       "15        3      4   2956.651632  20.671364            1\n",
       "16        3      5   9064.026918  61.404503            3\n",
       "17        3      7  10919.595403  65.519784            3\n",
       "18        3      9   2891.012822  22.390055            1\n",
       "19        3     12   2593.381928  12.984728            1"
      ]
     },
     "execution_count": 60,
     "metadata": {},
     "output_type": "execute_result"
    }
   ],
   "source": [
    "# проверяем получившийся датафрейм - выведем первые 20 строчек\n",
    "data_cons_ultra.head(20)"
   ]
  },
  {
   "cell_type": "markdown",
   "id": "2dc6d671",
   "metadata": {},
   "source": [
    "**Добавим в датафрейм data_cons столбец с помесячной выручкой, которую принес каждый пользователь**"
   ]
  },
  {
   "cell_type": "markdown",
   "id": "76076469",
   "metadata": {},
   "source": [
    "Вначале посчитаем **помесячную выручку для пользователей без подписки**. Как следует из представленных данных, для них действует следующий тариф:\n",
    "\n",
    "- абонентская плата отсутствует\n",
    "- стоимость одной минуты поездки — 8 рублей\n",
    "- стоимость старта (начала поездки) — 50 рублей\n",
    "\n",
    "Таким образом, для данной категории пользователей помесячная выручка будет рассчитываться по формуле:\n",
    "\n",
    "*стоимость старта * количество поездок + стоимость одной минуты * продолжительность поездки*\n",
    "\n",
    "Минуты при подсчете стоимости округляем до ближайшего целого числа."
   ]
  },
  {
   "cell_type": "code",
   "execution_count": 61,
   "id": "8215dd25",
   "metadata": {},
   "outputs": [],
   "source": [
    "# добавляем в датафрейм столбец с данными о помесячной выручке каждого пользователя\n",
    "data_cons_free['revenue_per_month'] = 50 * data_cons_free['ride_amount'] + 8 * data_cons_free['duration'].round()"
   ]
  },
  {
   "cell_type": "code",
   "execution_count": 62,
   "id": "90df6089",
   "metadata": {},
   "outputs": [
    {
     "data": {
      "text/html": [
       "<style type=\"text/css\">\n",
       "#T_d8dce_row0_col0, #T_d8dce_row1_col0, #T_d8dce_row2_col0, #T_d8dce_row3_col0, #T_d8dce_row4_col0, #T_d8dce_row5_col0 {\n",
       "  background-color: #3b4cc0;\n",
       "  color: #f1f1f1;\n",
       "}\n",
       "</style>\n",
       "<table id=\"T_d8dce\">\n",
       "  <thead>\n",
       "    <tr>\n",
       "      <th class=\"blank level0\" >&nbsp;</th>\n",
       "      <th id=\"T_d8dce_level0_col0\" class=\"col_heading level0 col0\" >0</th>\n",
       "    </tr>\n",
       "  </thead>\n",
       "  <tbody>\n",
       "    <tr>\n",
       "      <th id=\"T_d8dce_level0_row0\" class=\"row_heading level0 row0\" >user_id</th>\n",
       "      <td id=\"T_d8dce_row0_col0\" class=\"data row0 col0\" >0.000000</td>\n",
       "    </tr>\n",
       "    <tr>\n",
       "      <th id=\"T_d8dce_level0_row1\" class=\"row_heading level0 row1\" >month</th>\n",
       "      <td id=\"T_d8dce_row1_col0\" class=\"data row1 col0\" >0.000000</td>\n",
       "    </tr>\n",
       "    <tr>\n",
       "      <th id=\"T_d8dce_level0_row2\" class=\"row_heading level0 row2\" >distance</th>\n",
       "      <td id=\"T_d8dce_row2_col0\" class=\"data row2 col0\" >0.000000</td>\n",
       "    </tr>\n",
       "    <tr>\n",
       "      <th id=\"T_d8dce_level0_row3\" class=\"row_heading level0 row3\" >duration</th>\n",
       "      <td id=\"T_d8dce_row3_col0\" class=\"data row3 col0\" >0.000000</td>\n",
       "    </tr>\n",
       "    <tr>\n",
       "      <th id=\"T_d8dce_level0_row4\" class=\"row_heading level0 row4\" >ride_amount</th>\n",
       "      <td id=\"T_d8dce_row4_col0\" class=\"data row4 col0\" >0.000000</td>\n",
       "    </tr>\n",
       "    <tr>\n",
       "      <th id=\"T_d8dce_level0_row5\" class=\"row_heading level0 row5\" >revenue_per_month</th>\n",
       "      <td id=\"T_d8dce_row5_col0\" class=\"data row5 col0\" >0.000000</td>\n",
       "    </tr>\n",
       "  </tbody>\n",
       "</table>\n"
      ],
      "text/plain": [
       "<pandas.io.formats.style.Styler at 0x28aee1d6a60>"
      ]
     },
     "execution_count": 62,
     "metadata": {},
     "output_type": "execute_result"
    }
   ],
   "source": [
    "# проверим количество пропусков\n",
    "pd.DataFrame(round(data_cons_free.isna().mean()*100,)).style.background_gradient('coolwarm')"
   ]
  },
  {
   "cell_type": "code",
   "execution_count": 63,
   "id": "9e832b5a",
   "metadata": {},
   "outputs": [
    {
     "data": {
      "text/html": [
       "<div>\n",
       "<style scoped>\n",
       "    .dataframe tbody tr th:only-of-type {\n",
       "        vertical-align: middle;\n",
       "    }\n",
       "\n",
       "    .dataframe tbody tr th {\n",
       "        vertical-align: top;\n",
       "    }\n",
       "\n",
       "    .dataframe thead th {\n",
       "        text-align: right;\n",
       "    }\n",
       "</style>\n",
       "<table border=\"1\" class=\"dataframe\">\n",
       "  <thead>\n",
       "    <tr style=\"text-align: right;\">\n",
       "      <th></th>\n",
       "      <th>user_id</th>\n",
       "      <th>month</th>\n",
       "      <th>distance</th>\n",
       "      <th>duration</th>\n",
       "      <th>ride_amount</th>\n",
       "      <th>revenue_per_month</th>\n",
       "    </tr>\n",
       "  </thead>\n",
       "  <tbody>\n",
       "    <tr>\n",
       "      <th>0</th>\n",
       "      <td>700</td>\n",
       "      <td>1</td>\n",
       "      <td>2515.690719</td>\n",
       "      <td>14.944286</td>\n",
       "      <td>1</td>\n",
       "      <td>170.0</td>\n",
       "    </tr>\n",
       "    <tr>\n",
       "      <th>1</th>\n",
       "      <td>700</td>\n",
       "      <td>2</td>\n",
       "      <td>13446.659764</td>\n",
       "      <td>85.829845</td>\n",
       "      <td>5</td>\n",
       "      <td>938.0</td>\n",
       "    </tr>\n",
       "    <tr>\n",
       "      <th>2</th>\n",
       "      <td>700</td>\n",
       "      <td>3</td>\n",
       "      <td>3798.334905</td>\n",
       "      <td>18.243756</td>\n",
       "      <td>1</td>\n",
       "      <td>194.0</td>\n",
       "    </tr>\n",
       "    <tr>\n",
       "      <th>3</th>\n",
       "      <td>700</td>\n",
       "      <td>4</td>\n",
       "      <td>2984.551206</td>\n",
       "      <td>15.424899</td>\n",
       "      <td>1</td>\n",
       "      <td>170.0</td>\n",
       "    </tr>\n",
       "    <tr>\n",
       "      <th>4</th>\n",
       "      <td>700</td>\n",
       "      <td>6</td>\n",
       "      <td>5927.650988</td>\n",
       "      <td>28.077657</td>\n",
       "      <td>2</td>\n",
       "      <td>324.0</td>\n",
       "    </tr>\n",
       "    <tr>\n",
       "      <th>5</th>\n",
       "      <td>700</td>\n",
       "      <td>7</td>\n",
       "      <td>4399.206279</td>\n",
       "      <td>20.595752</td>\n",
       "      <td>2</td>\n",
       "      <td>268.0</td>\n",
       "    </tr>\n",
       "    <tr>\n",
       "      <th>6</th>\n",
       "      <td>700</td>\n",
       "      <td>8</td>\n",
       "      <td>4071.654669</td>\n",
       "      <td>16.370546</td>\n",
       "      <td>1</td>\n",
       "      <td>178.0</td>\n",
       "    </tr>\n",
       "    <tr>\n",
       "      <th>7</th>\n",
       "      <td>700</td>\n",
       "      <td>10</td>\n",
       "      <td>6322.578618</td>\n",
       "      <td>42.621488</td>\n",
       "      <td>2</td>\n",
       "      <td>444.0</td>\n",
       "    </tr>\n",
       "    <tr>\n",
       "      <th>8</th>\n",
       "      <td>700</td>\n",
       "      <td>11</td>\n",
       "      <td>8735.782625</td>\n",
       "      <td>31.116714</td>\n",
       "      <td>3</td>\n",
       "      <td>398.0</td>\n",
       "    </tr>\n",
       "    <tr>\n",
       "      <th>9</th>\n",
       "      <td>701</td>\n",
       "      <td>1</td>\n",
       "      <td>2676.472894</td>\n",
       "      <td>17.470598</td>\n",
       "      <td>1</td>\n",
       "      <td>186.0</td>\n",
       "    </tr>\n",
       "    <tr>\n",
       "      <th>10</th>\n",
       "      <td>701</td>\n",
       "      <td>2</td>\n",
       "      <td>5637.334007</td>\n",
       "      <td>26.866500</td>\n",
       "      <td>2</td>\n",
       "      <td>316.0</td>\n",
       "    </tr>\n",
       "    <tr>\n",
       "      <th>11</th>\n",
       "      <td>701</td>\n",
       "      <td>3</td>\n",
       "      <td>2802.021357</td>\n",
       "      <td>16.008663</td>\n",
       "      <td>1</td>\n",
       "      <td>178.0</td>\n",
       "    </tr>\n",
       "    <tr>\n",
       "      <th>12</th>\n",
       "      <td>701</td>\n",
       "      <td>4</td>\n",
       "      <td>3509.012965</td>\n",
       "      <td>13.081094</td>\n",
       "      <td>1</td>\n",
       "      <td>154.0</td>\n",
       "    </tr>\n",
       "    <tr>\n",
       "      <th>13</th>\n",
       "      <td>701</td>\n",
       "      <td>5</td>\n",
       "      <td>2465.852577</td>\n",
       "      <td>14.283970</td>\n",
       "      <td>1</td>\n",
       "      <td>162.0</td>\n",
       "    </tr>\n",
       "    <tr>\n",
       "      <th>14</th>\n",
       "      <td>701</td>\n",
       "      <td>6</td>\n",
       "      <td>4634.620760</td>\n",
       "      <td>25.024756</td>\n",
       "      <td>2</td>\n",
       "      <td>300.0</td>\n",
       "    </tr>\n",
       "    <tr>\n",
       "      <th>15</th>\n",
       "      <td>701</td>\n",
       "      <td>7</td>\n",
       "      <td>12970.722682</td>\n",
       "      <td>64.135877</td>\n",
       "      <td>4</td>\n",
       "      <td>712.0</td>\n",
       "    </tr>\n",
       "    <tr>\n",
       "      <th>16</th>\n",
       "      <td>701</td>\n",
       "      <td>8</td>\n",
       "      <td>7628.751294</td>\n",
       "      <td>17.941020</td>\n",
       "      <td>2</td>\n",
       "      <td>244.0</td>\n",
       "    </tr>\n",
       "    <tr>\n",
       "      <th>17</th>\n",
       "      <td>701</td>\n",
       "      <td>9</td>\n",
       "      <td>8659.573699</td>\n",
       "      <td>31.579062</td>\n",
       "      <td>2</td>\n",
       "      <td>356.0</td>\n",
       "    </tr>\n",
       "    <tr>\n",
       "      <th>18</th>\n",
       "      <td>701</td>\n",
       "      <td>10</td>\n",
       "      <td>8395.260013</td>\n",
       "      <td>42.142452</td>\n",
       "      <td>2</td>\n",
       "      <td>436.0</td>\n",
       "    </tr>\n",
       "    <tr>\n",
       "      <th>19</th>\n",
       "      <td>701</td>\n",
       "      <td>12</td>\n",
       "      <td>2773.396606</td>\n",
       "      <td>21.245082</td>\n",
       "      <td>2</td>\n",
       "      <td>268.0</td>\n",
       "    </tr>\n",
       "  </tbody>\n",
       "</table>\n",
       "</div>"
      ],
      "text/plain": [
       "    user_id  month      distance   duration  ride_amount  revenue_per_month\n",
       "0       700      1   2515.690719  14.944286            1              170.0\n",
       "1       700      2  13446.659764  85.829845            5              938.0\n",
       "2       700      3   3798.334905  18.243756            1              194.0\n",
       "3       700      4   2984.551206  15.424899            1              170.0\n",
       "4       700      6   5927.650988  28.077657            2              324.0\n",
       "5       700      7   4399.206279  20.595752            2              268.0\n",
       "6       700      8   4071.654669  16.370546            1              178.0\n",
       "7       700     10   6322.578618  42.621488            2              444.0\n",
       "8       700     11   8735.782625  31.116714            3              398.0\n",
       "9       701      1   2676.472894  17.470598            1              186.0\n",
       "10      701      2   5637.334007  26.866500            2              316.0\n",
       "11      701      3   2802.021357  16.008663            1              178.0\n",
       "12      701      4   3509.012965  13.081094            1              154.0\n",
       "13      701      5   2465.852577  14.283970            1              162.0\n",
       "14      701      6   4634.620760  25.024756            2              300.0\n",
       "15      701      7  12970.722682  64.135877            4              712.0\n",
       "16      701      8   7628.751294  17.941020            2              244.0\n",
       "17      701      9   8659.573699  31.579062            2              356.0\n",
       "18      701     10   8395.260013  42.142452            2              436.0\n",
       "19      701     12   2773.396606  21.245082            2              268.0"
      ]
     },
     "execution_count": 63,
     "metadata": {},
     "output_type": "execute_result"
    }
   ],
   "source": [
    "# проверяем получившийся датафрейм - выведем первые 20 строчек\n",
    "data_cons_free.head(20)"
   ]
  },
  {
   "cell_type": "markdown",
   "id": "915babe7",
   "metadata": {},
   "source": [
    "Теперь посчитаем **помесячную выручку для пользователей с подпиской**. Как следует из представленных данных, для них действует следующий тариф:\n",
    "\n",
    "- абонентская плата — 199 рублей в месяц\n",
    "- стоимость одной минуты поездки — 6 рублей\n",
    "- стоимость старта — бесплатно\n",
    "\n",
    "Таким образом, для данной категории пользователей помесячная выручка будет рассчитываться по формуле:\n",
    "\n",
    "*абонентская плата + стоимость одной минуты * продолжительность поездки*\n",
    "\n",
    "Минуты при подсчете стоимости округляем до ближайшего целого числа."
   ]
  },
  {
   "cell_type": "code",
   "execution_count": 64,
   "id": "1b370f59",
   "metadata": {},
   "outputs": [],
   "source": [
    "# добавляем в датафрейм столбец с данными о помесячной выручке каждого пользователя\n",
    "data_cons_ultra['revenue_per_month'] = 199 + 6 * data_cons_ultra['duration'].round()"
   ]
  },
  {
   "cell_type": "code",
   "execution_count": 65,
   "id": "e2377419",
   "metadata": {},
   "outputs": [
    {
     "data": {
      "text/html": [
       "<style type=\"text/css\">\n",
       "#T_7b71f_row0_col0, #T_7b71f_row1_col0, #T_7b71f_row2_col0, #T_7b71f_row3_col0, #T_7b71f_row4_col0, #T_7b71f_row5_col0 {\n",
       "  background-color: #3b4cc0;\n",
       "  color: #f1f1f1;\n",
       "}\n",
       "</style>\n",
       "<table id=\"T_7b71f\">\n",
       "  <thead>\n",
       "    <tr>\n",
       "      <th class=\"blank level0\" >&nbsp;</th>\n",
       "      <th id=\"T_7b71f_level0_col0\" class=\"col_heading level0 col0\" >0</th>\n",
       "    </tr>\n",
       "  </thead>\n",
       "  <tbody>\n",
       "    <tr>\n",
       "      <th id=\"T_7b71f_level0_row0\" class=\"row_heading level0 row0\" >user_id</th>\n",
       "      <td id=\"T_7b71f_row0_col0\" class=\"data row0 col0\" >0.000000</td>\n",
       "    </tr>\n",
       "    <tr>\n",
       "      <th id=\"T_7b71f_level0_row1\" class=\"row_heading level0 row1\" >month</th>\n",
       "      <td id=\"T_7b71f_row1_col0\" class=\"data row1 col0\" >0.000000</td>\n",
       "    </tr>\n",
       "    <tr>\n",
       "      <th id=\"T_7b71f_level0_row2\" class=\"row_heading level0 row2\" >distance</th>\n",
       "      <td id=\"T_7b71f_row2_col0\" class=\"data row2 col0\" >0.000000</td>\n",
       "    </tr>\n",
       "    <tr>\n",
       "      <th id=\"T_7b71f_level0_row3\" class=\"row_heading level0 row3\" >duration</th>\n",
       "      <td id=\"T_7b71f_row3_col0\" class=\"data row3 col0\" >0.000000</td>\n",
       "    </tr>\n",
       "    <tr>\n",
       "      <th id=\"T_7b71f_level0_row4\" class=\"row_heading level0 row4\" >ride_amount</th>\n",
       "      <td id=\"T_7b71f_row4_col0\" class=\"data row4 col0\" >0.000000</td>\n",
       "    </tr>\n",
       "    <tr>\n",
       "      <th id=\"T_7b71f_level0_row5\" class=\"row_heading level0 row5\" >revenue_per_month</th>\n",
       "      <td id=\"T_7b71f_row5_col0\" class=\"data row5 col0\" >0.000000</td>\n",
       "    </tr>\n",
       "  </tbody>\n",
       "</table>\n"
      ],
      "text/plain": [
       "<pandas.io.formats.style.Styler at 0x28aee118c10>"
      ]
     },
     "execution_count": 65,
     "metadata": {},
     "output_type": "execute_result"
    }
   ],
   "source": [
    "# проверим количество пропусков\n",
    "pd.DataFrame(round(data_cons_ultra.isna().mean()*100,)).style.background_gradient('coolwarm')"
   ]
  },
  {
   "cell_type": "code",
   "execution_count": 66,
   "id": "3808ecfa",
   "metadata": {},
   "outputs": [
    {
     "data": {
      "text/html": [
       "<div>\n",
       "<style scoped>\n",
       "    .dataframe tbody tr th:only-of-type {\n",
       "        vertical-align: middle;\n",
       "    }\n",
       "\n",
       "    .dataframe tbody tr th {\n",
       "        vertical-align: top;\n",
       "    }\n",
       "\n",
       "    .dataframe thead th {\n",
       "        text-align: right;\n",
       "    }\n",
       "</style>\n",
       "<table border=\"1\" class=\"dataframe\">\n",
       "  <thead>\n",
       "    <tr style=\"text-align: right;\">\n",
       "      <th></th>\n",
       "      <th>user_id</th>\n",
       "      <th>month</th>\n",
       "      <th>distance</th>\n",
       "      <th>duration</th>\n",
       "      <th>ride_amount</th>\n",
       "      <th>revenue_per_month</th>\n",
       "    </tr>\n",
       "  </thead>\n",
       "  <tbody>\n",
       "    <tr>\n",
       "      <th>0</th>\n",
       "      <td>1</td>\n",
       "      <td>1</td>\n",
       "      <td>7027.511294</td>\n",
       "      <td>41.416640</td>\n",
       "      <td>2</td>\n",
       "      <td>445.0</td>\n",
       "    </tr>\n",
       "    <tr>\n",
       "      <th>1</th>\n",
       "      <td>1</td>\n",
       "      <td>4</td>\n",
       "      <td>754.159807</td>\n",
       "      <td>6.232113</td>\n",
       "      <td>1</td>\n",
       "      <td>235.0</td>\n",
       "    </tr>\n",
       "    <tr>\n",
       "      <th>2</th>\n",
       "      <td>1</td>\n",
       "      <td>8</td>\n",
       "      <td>6723.470560</td>\n",
       "      <td>44.776802</td>\n",
       "      <td>2</td>\n",
       "      <td>469.0</td>\n",
       "    </tr>\n",
       "    <tr>\n",
       "      <th>3</th>\n",
       "      <td>1</td>\n",
       "      <td>10</td>\n",
       "      <td>5809.911100</td>\n",
       "      <td>31.578017</td>\n",
       "      <td>2</td>\n",
       "      <td>391.0</td>\n",
       "    </tr>\n",
       "    <tr>\n",
       "      <th>4</th>\n",
       "      <td>1</td>\n",
       "      <td>11</td>\n",
       "      <td>7003.499363</td>\n",
       "      <td>53.397424</td>\n",
       "      <td>3</td>\n",
       "      <td>517.0</td>\n",
       "    </tr>\n",
       "    <tr>\n",
       "      <th>5</th>\n",
       "      <td>1</td>\n",
       "      <td>12</td>\n",
       "      <td>6751.629942</td>\n",
       "      <td>27.203912</td>\n",
       "      <td>2</td>\n",
       "      <td>361.0</td>\n",
       "    </tr>\n",
       "    <tr>\n",
       "      <th>6</th>\n",
       "      <td>2</td>\n",
       "      <td>3</td>\n",
       "      <td>10187.723006</td>\n",
       "      <td>60.959959</td>\n",
       "      <td>3</td>\n",
       "      <td>565.0</td>\n",
       "    </tr>\n",
       "    <tr>\n",
       "      <th>7</th>\n",
       "      <td>2</td>\n",
       "      <td>4</td>\n",
       "      <td>6164.381824</td>\n",
       "      <td>39.048633</td>\n",
       "      <td>2</td>\n",
       "      <td>433.0</td>\n",
       "    </tr>\n",
       "    <tr>\n",
       "      <th>8</th>\n",
       "      <td>2</td>\n",
       "      <td>6</td>\n",
       "      <td>3255.338202</td>\n",
       "      <td>13.851127</td>\n",
       "      <td>1</td>\n",
       "      <td>283.0</td>\n",
       "    </tr>\n",
       "    <tr>\n",
       "      <th>9</th>\n",
       "      <td>2</td>\n",
       "      <td>7</td>\n",
       "      <td>6780.722964</td>\n",
       "      <td>46.170157</td>\n",
       "      <td>2</td>\n",
       "      <td>475.0</td>\n",
       "    </tr>\n",
       "    <tr>\n",
       "      <th>10</th>\n",
       "      <td>2</td>\n",
       "      <td>8</td>\n",
       "      <td>923.007439</td>\n",
       "      <td>6.914760</td>\n",
       "      <td>1</td>\n",
       "      <td>241.0</td>\n",
       "    </tr>\n",
       "    <tr>\n",
       "      <th>11</th>\n",
       "      <td>2</td>\n",
       "      <td>10</td>\n",
       "      <td>2824.636598</td>\n",
       "      <td>18.779128</td>\n",
       "      <td>1</td>\n",
       "      <td>313.0</td>\n",
       "    </tr>\n",
       "    <tr>\n",
       "      <th>12</th>\n",
       "      <td>2</td>\n",
       "      <td>12</td>\n",
       "      <td>3828.248580</td>\n",
       "      <td>11.920514</td>\n",
       "      <td>1</td>\n",
       "      <td>271.0</td>\n",
       "    </tr>\n",
       "    <tr>\n",
       "      <th>13</th>\n",
       "      <td>3</td>\n",
       "      <td>1</td>\n",
       "      <td>3061.777147</td>\n",
       "      <td>12.654443</td>\n",
       "      <td>1</td>\n",
       "      <td>277.0</td>\n",
       "    </tr>\n",
       "    <tr>\n",
       "      <th>14</th>\n",
       "      <td>3</td>\n",
       "      <td>2</td>\n",
       "      <td>5421.152016</td>\n",
       "      <td>37.568637</td>\n",
       "      <td>2</td>\n",
       "      <td>427.0</td>\n",
       "    </tr>\n",
       "    <tr>\n",
       "      <th>15</th>\n",
       "      <td>3</td>\n",
       "      <td>4</td>\n",
       "      <td>2956.651632</td>\n",
       "      <td>20.671364</td>\n",
       "      <td>1</td>\n",
       "      <td>325.0</td>\n",
       "    </tr>\n",
       "    <tr>\n",
       "      <th>16</th>\n",
       "      <td>3</td>\n",
       "      <td>5</td>\n",
       "      <td>9064.026918</td>\n",
       "      <td>61.404503</td>\n",
       "      <td>3</td>\n",
       "      <td>565.0</td>\n",
       "    </tr>\n",
       "    <tr>\n",
       "      <th>17</th>\n",
       "      <td>3</td>\n",
       "      <td>7</td>\n",
       "      <td>10919.595403</td>\n",
       "      <td>65.519784</td>\n",
       "      <td>3</td>\n",
       "      <td>595.0</td>\n",
       "    </tr>\n",
       "    <tr>\n",
       "      <th>18</th>\n",
       "      <td>3</td>\n",
       "      <td>9</td>\n",
       "      <td>2891.012822</td>\n",
       "      <td>22.390055</td>\n",
       "      <td>1</td>\n",
       "      <td>331.0</td>\n",
       "    </tr>\n",
       "    <tr>\n",
       "      <th>19</th>\n",
       "      <td>3</td>\n",
       "      <td>12</td>\n",
       "      <td>2593.381928</td>\n",
       "      <td>12.984728</td>\n",
       "      <td>1</td>\n",
       "      <td>277.0</td>\n",
       "    </tr>\n",
       "  </tbody>\n",
       "</table>\n",
       "</div>"
      ],
      "text/plain": [
       "    user_id  month      distance   duration  ride_amount  revenue_per_month\n",
       "0         1      1   7027.511294  41.416640            2              445.0\n",
       "1         1      4    754.159807   6.232113            1              235.0\n",
       "2         1      8   6723.470560  44.776802            2              469.0\n",
       "3         1     10   5809.911100  31.578017            2              391.0\n",
       "4         1     11   7003.499363  53.397424            3              517.0\n",
       "5         1     12   6751.629942  27.203912            2              361.0\n",
       "6         2      3  10187.723006  60.959959            3              565.0\n",
       "7         2      4   6164.381824  39.048633            2              433.0\n",
       "8         2      6   3255.338202  13.851127            1              283.0\n",
       "9         2      7   6780.722964  46.170157            2              475.0\n",
       "10        2      8    923.007439   6.914760            1              241.0\n",
       "11        2     10   2824.636598  18.779128            1              313.0\n",
       "12        2     12   3828.248580  11.920514            1              271.0\n",
       "13        3      1   3061.777147  12.654443            1              277.0\n",
       "14        3      2   5421.152016  37.568637            2              427.0\n",
       "15        3      4   2956.651632  20.671364            1              325.0\n",
       "16        3      5   9064.026918  61.404503            3              565.0\n",
       "17        3      7  10919.595403  65.519784            3              595.0\n",
       "18        3      9   2891.012822  22.390055            1              331.0\n",
       "19        3     12   2593.381928  12.984728            1              277.0"
      ]
     },
     "execution_count": 66,
     "metadata": {},
     "output_type": "execute_result"
    }
   ],
   "source": [
    "# проверяем получившийся датафрейм - выведем первые 20 строчек\n",
    "data_cons_ultra.head(20)"
   ]
  },
  {
   "cell_type": "markdown",
   "id": "4581e644",
   "metadata": {},
   "source": [
    "Таким образом, мы получили данные о помесячной выручке, которую приносят сервису аренды самокатов GoFast пользователи с подпиской Ultra и без нее. Анализом полученных данных мы займемся на следующем шаге нашего исследования."
   ]
  },
  {
   "cell_type": "markdown",
   "id": "41545ac0",
   "metadata": {},
   "source": [
    "#### Шаг 6. Проверка гипотез"
   ]
  },
  {
   "cell_type": "markdown",
   "id": "06ddb94d",
   "metadata": {},
   "source": [
    "**Первая гипотеза**, которую нам нужно проверить: **тратят ли пользователи с подпиской больше времени на поездки?**\n",
    "Сформируем нулевую и альтернативную гипотезы:\n",
    " - H0 - пользователи с подпиской и без подписки тратят одираковое время на поездки\n",
    " - H1 - пользователи с подпиской тратят больше времени на поездки\n",
    " \n",
    "Используем статистический тест для независимых выборок -  метод scipy.stats.ttest_ind(array1, array2, equal_var). Параметры метода:\n",
    "- array1, array2 — наборы значений, которые содержат выборки\n",
    "- equal_var (от англ. equal variance — «равная дисперсия») — необязательный параметр. Он управляет тем, будет ли метод считать равными дисперсии выборок. Передаётся как equal_var=True или equal_var=False (True — считать, False — не считать). \n",
    "\n",
    "По умолчанию используется значение True. При этом из **обучающего курса Яндекс.Практикум** следует: \"если выборки достаточно велики (30 и больше значений) и равны по размеру между собой, то такой подход оправдан. **Симуляции, проведённые учёными, показывают, что даже если дисперсии на самом деле не равны, то тест редко ошибается**.\" \n"
   ]
  },
  {
   "cell_type": "code",
   "execution_count": 67,
   "id": "a351e73c",
   "metadata": {},
   "outputs": [
    {
     "name": "stdout",
     "output_type": "stream",
     "text": [
      "p-значение: 1.2804098316645613e-34\n",
      "Отвергаем нулевую гипотезу\n"
     ]
    }
   ],
   "source": [
    "# задаем уровень статистической значимости (если p-value окажется меньше него, отвергнем гипотезу)\n",
    "alpha = 0.05\n",
    "results = st.ttest_ind(data[data['subscription_type'] == 'ultra']['duration'], data[data['subscription_type']\\\n",
    "== 'free']['duration'], alternative='greater')\n",
    "# выводим на экран получившееся p-значение\n",
    "print('p-значение:', results.pvalue)\n",
    "if results.pvalue < alpha:\n",
    "    print('Отвергаем нулевую гипотезу')\n",
    "else:\n",
    "    print('Не получилось отвергнуть нулевую гипотезу')"
   ]
  },
  {
   "cell_type": "markdown",
   "id": "1bdfabf1",
   "metadata": {},
   "source": [
    "Таким образом, мы отвергаем нулевую гипотезу. Получается, что пользователи с подпиской тратят больше времени на поездки. Учитывая, что помимо поминутной оплаты продолжительности поездок на тарифе с подпиской Ultra пользователи оплачивают и абонентскую плату (199 рублей в месяц), возможно, пользователи с подпиской «выгоднее» для компании. Гипотезу о том, будет ли выручка от пользователей с подпиской выше, чем выручка от пользователей без подписки, мы проверим на следующих шагах."
   ]
  },
  {
   "cell_type": "markdown",
   "id": "d5574faf",
   "metadata": {},
   "source": [
    "**Вторая гипотеза**, которую нам нужно проверить: **можно ли сказать, что расстояние, которое проезжают пользователи с подпиской за одну поездку, меньше 3130 метров?** Сформируем нулевую и альтернативную гипотезы:\n",
    "\n",
    "- H0 - расстояние, которое проезжают пользователи с подпиской за одну поездку, составляет 3130 метров\n",
    "- H1 - расстояние, которое проезжают пользователи с подпиской за одну поездку, меньше 3130 метров\n",
    "\n",
    "Для проведения одностороннего теста нужно использовать метод scipy.stats.ttest_1samp(). Т.к. альтернативная гипотеза левосторонняя, в качестве аргумента указываем alternative='less'."
   ]
  },
  {
   "cell_type": "code",
   "execution_count": 68,
   "id": "e27bebf6",
   "metadata": {},
   "outputs": [
    {
     "name": "stdout",
     "output_type": "stream",
     "text": [
      "p-значение: 0.08046311521502145\n",
      "Не получилось отвергнуть нулевую гипотезу\n"
     ]
    }
   ],
   "source": [
    "# задаем уровень статистической значимости (если p-value окажется меньше него, отвергнем гипотезу)\n",
    "alpha = 0.05\n",
    "results = st.ttest_1samp(data[data['subscription_type'] == 'ultra']['distance'], 3130, alternative='less')\n",
    "# выводим на экран получившееся p-значение\n",
    "print('p-значение:', results.pvalue)\n",
    "if results.pvalue < alpha:\n",
    "    print('Отвергаем нулевую гипотезу')\n",
    "else:\n",
    "    print('Не получилось отвергнуть нулевую гипотезу')"
   ]
  },
  {
   "cell_type": "code",
   "execution_count": 69,
   "id": "43b15c13",
   "metadata": {},
   "outputs": [
    {
     "data": {
      "image/png": "[encoded data removed]",
      "text/plain": [
       "<Figure size 640x480 with 1 Axes>"
      ]
     },
     "metadata": {},
     "output_type": "display_data"
    },
    {
     "data": {
      "image/png": "[encoded data removed]",
      "text/plain": [
       "<Figure size 640x480 with 1 Axes>"
      ]
     },
     "metadata": {},
     "output_type": "display_data"
    }
   ],
   "source": [
    "# Код ревьюера\n",
    "\n",
    "# Твоя выборка\n",
    "data_cons_ultra['distance'].hist(bins = 30)\n",
    "plt.show()\n",
    "\n",
    "# Правильная выборка\n",
    "sample_1 = data[data['subscription_type'] == 'ultra']['distance']\n",
    "sample_1.hist(bins = 30)\n",
    "plt.show()"
   ]
  },
  {
   "cell_type": "markdown",
   "id": "5959d96a",
   "metadata": {},
   "source": [
    "Таким образом, нулевую гипотезу отвергнуть не получилось. Получается, что **расстояние, которое проезжают пользователи с подпиской за одну поездку, составляет 3130 метров**. Как следует из представленных данных, расстояние одной поездки в 3130 метров является оптимальным с точки зрения износа самоката. Получается, что результат проверки нашей гипотезы также говорит о выгоде для компании пользователей с подпиской.  "
   ]
  },
  {
   "cell_type": "markdown",
   "id": "cef8417e",
   "metadata": {},
   "source": [
    "**Третья гипотеза**, которую нам нужно проверить: **будет ли выручка от пользователей с подпиской выше, чем выручка от пользователей без подписки?** формируем нулевую и альтернативную гипотезы:\n",
    "\n",
    "- H0 - выручка от пользователей с подпиской равна выручке от пользователей без подписки\n",
    "- H1 - выручка от пользователей с подпиской выше, чем выручка от пользователей без подписки\n",
    "\n",
    "Используем статистический тест для независимых выборок -  метод scipy.stats.ttest_ind(array1, array2, equal_var). Параметры метода:\n",
    "- array1, array2 — наборы значений, которые содержат выборки\n",
    "- equal_var (от англ. equal variance — «равная дисперсия») — необязательный параметр. Он управляет тем, будет ли метод считать равными дисперсии выборок. Передаётся как equal_var=True или equal_var=False (True — считать, False — не считать). \n",
    "\n",
    "По умолчанию используется значение True. При этом из **обучающего курса Яндекс.Практикум** следует: \"если выборки достаточно велики (30 и больше значений) и равны по размеру между собой, то такой подход оправдан. **Симуляции, проведённые учёными, показывают, что даже если дисперсии на самом деле не равны, то тест редко ошибается**.\" "
   ]
  },
  {
   "cell_type": "code",
   "execution_count": 70,
   "id": "c1643ef1",
   "metadata": {},
   "outputs": [
    {
     "name": "stdout",
     "output_type": "stream",
     "text": [
      "p-значение: 2.3546897309064956e-37\n",
      "Отвергаем нулевую гипотезу\n"
     ]
    }
   ],
   "source": [
    "# задаем уровень статистической значимости (если p-value окажется меньше него, отвергнем гипотезу)\n",
    "alpha = 0.05\n",
    "results = st.ttest_ind(data_cons_ultra['revenue_per_month'], data_cons_free['revenue_per_month'], alternative='greater')\n",
    "# выводим на экран получившееся p-значение\n",
    "print('p-значение:', results.pvalue)\n",
    "if results.pvalue < alpha:\n",
    "    print('Отвергаем нулевую гипотезу')\n",
    "else:\n",
    "    print('Не получилось отвергнуть нулевую гипотезу')"
   ]
  },
  {
   "cell_type": "markdown",
   "id": "84dd4f90",
   "metadata": {},
   "source": [
    "Таким образом, мы отвергаем нулевую гипотезу в пользу альтернативной: **выручка от пользователей с подпиской будет выше, чем выручка от пользователей без подписки**. "
   ]
  },
  {
   "cell_type": "markdown",
   "id": "c7b086d4",
   "metadata": {},
   "source": [
    "**В пункте 6.4 описания проекта** содержится следующее задание: \"*Представьте такую ситуацию: техническая команда сервиса обновила сервера, с которыми взаимодействует мобильное приложение. Она надеется, что из-за этого количество обращений в техподдержку значимо снизилось. Некоторый файл содержит для каждого пользователя данные о количестве обращений до обновления и после него. Какой тест вам понадобился бы для проверки этой гипотезы?*\"\n",
    "\n",
    "**Ответ:** в данном случае речь идет о проверке гипотезы о равенстве средних для зависимых (парных) выборок (т.е. до обновления серверов и после обновления). Для проверки гипотезы необходимо использовать метод scipy.stats.ttest_rel(), которому необходимо передать два параметра: наборы данных до и после. "
   ]
  },
  {
   "cell_type": "markdown",
   "id": "61213c5e",
   "metadata": {},
   "source": [
    "#### Шаг 7. Распределения"
   ]
  },
  {
   "cell_type": "markdown",
   "id": "83884c5c",
   "metadata": {},
   "source": [
    "**В описании проекта задания шага 7 отмечены как НЕОБЯЗАТЕЛЬНЫЕ**. \n",
    "\n",
    "**Задание:** *отдел маркетинга рассылает клиентам push-уведомления в мобильном приложении. Клиенты могут открыть его или не открывать. Известно, что уведомления открывают около 40% получивших клиентов. Отдел планирует разослать 1 млн уведомлений. С помощью аппроксимации постройте примерный график распределения и оцените вероятность того, что уведомление откроют не более 399,5 тыс. пользователей.*"
   ]
  },
  {
   "cell_type": "code",
   "execution_count": 71,
   "id": "b1af2ca7",
   "metadata": {},
   "outputs": [
    {
     "name": "stdout",
     "output_type": "stream",
     "text": [
      "0.15371708296369768\n"
     ]
    }
   ],
   "source": [
    "# задаём параметры биномиального распределения\n",
    "n = 1000000\n",
    "p = 0.4\n",
    "# зададим параметры нормального распределения равными мат.ожиданию и дисперсии биномиального распределения\n",
    "mu = n * p\n",
    "sigma = sqrt(n * p * (1 - p))\n",
    "# задаём нормальное распределение\n",
    "distr = st.norm(mu, sigma) \n",
    "# считаем вероятность хвоста слева от 399,5 тысяч\n",
    "result = distr.cdf(399500)\n",
    "print(result)"
   ]
  },
  {
   "cell_type": "markdown",
   "id": "380c08c3",
   "metadata": {},
   "source": [
    "Т.е. вероятность того, что уведомление откроют не более 399,5 тыс. пользователей составляет чуть более 15%"
   ]
  },
  {
   "cell_type": "markdown",
   "id": "e805864b",
   "metadata": {},
   "source": [
    "**Общий вывод:**"
   ]
  },
  {
   "cell_type": "markdown",
   "id": "602608e3",
   "metadata": {},
   "source": [
    "для проведения настоящего исследования были использованы данные сервиса аренды самокатов GoFast для нескольких городов (Екатеринбург, Краснодар, Москва, Омск, Пятигорск, Ростов-на-Дону, Сочи и Тюмень) о пользователях, их поездках и подписках (пользователи — users_go.csv, поездки — rides_go.csv, подписки — subscriptions_go.csv).\n",
    "\n",
    "Для проведения анализа мы объединили данные о пользователях, поездках и подписках в один датафрейм, на основе которого создали таблицы с данными:\n",
    "- о пользователях без подписки\n",
    "- о пользователях с подпиской Ultra\n",
    "\n",
    "после чего создали таблицы с данными о суммарном расстоянии, количестве поездок и суммарном времени для каждого пользователя сервиса GoFast за каждый месяц для каждой из указанных выше категорий пользователей.\n",
    "В каждую из таблиц (т.е. для пользователей с подпиской и пользователей без подписки) мы добавили столбец с рассчитанной помесячной выручкой, которую принес сервису GoFast каждый пользователь.\n",
    "В ходе дальнейшего исследования мы установили, что:\n",
    "\n",
    "- наиболее часто в представленных данных встречается Пятигорск. В первую тройку входят также Екатеринбург и Ростов-на-Дону. Замыкает список городов Москва: в представленных данных этот город встречается реже всех\n",
    "\n",
    "- большинство клиентов пользуются сервисом GoFast без подписки (846 против 719). При этом количество имеющих подписку пользователей составляет примерно 46% от общего количества клиентов\n",
    "\n",
    "- большая часть пользователей сервиса GoFast - это люди возраста от 22 до 28 лет включительно (в каждой из этих возрастных категорий количество пользователей превышает 100), при этом максимум приходится на возраст 25 лет. Пользователи иных возрастов встречаются существенно реже. Причем меньше всего пользователей, возраст которых близок к 40 годам. Ориентировочная граница нормального размаха расстояния, которое пользователь преодолел за одну поездку, составляет от 13 до 48 лет\n",
    "\n",
    "- ориентировочная граница нормального размаха расстояния, которое пользователь преодолел за одну поездку, составляет от 750 м до 5,5 км; медиана - 3,1 км\n",
    "\n",
    "- ориентировочная граница нормального размаха продолжительности поездок составляет от 2 мин. до 34 мин.; медиана составляет 17,68 мин.\n",
    "\n",
    "- типичная поездка на самокате - это поездка на расстояние 3,1 км и продолжительностью 17,7 мин., что соответствует скорости примерно 10,5 км/ч\n",
    "\n",
    "- ориентировочная граница нормального размаха расстояния, которое пользователи без подписки преодолели за одну поездку, составляет от 100 м до 6,2 км; медиана - 3,11 км\n",
    "\n",
    "- ориентировочная граница нормального размаха расстояния, которое пользователи с подпиской преодолели за одну поездку, составляет от 1,6 км до 4,6 км; медиана - 3,15 км\n",
    "\n",
    "- ориентировочная граница нормального размаха продолжительности поездок для пользователей без подписки составляет от 1 мин. до 34 мин.; медиана составляет 17,34 мин.\n",
    "\n",
    "- ориентировочная граница нормального размаха продолжительности поездок для пользователей с подпиской составляет от 4 мин. до 33 мин.; медиана составляет 18,18 мин.\n",
    "\n",
    "Вышеуказанные результаты, скорее всего, объясняются наличием среди пользователей без подписки людей, которые пользовались сервисом в первый раз и проехали на самокате некоторое небольшое расстояние просто из желания попробовать (мы видим расстояние в 100 м как нижнюю границу). Имеющие подписку пользуются сервисом регулярно, соответственно, нижняя граница для них - это 1,6 км (т.е. поездки на малые расстояния для них не характерны). При этом пользователи без подписки имеют более высокую верхнюю границу расстояния поездки (6,2 км против 4,6 км). Нижняя граница времени поездки для пользователей без подписки составляет всего 1 мин., что в 4 раза меньше, чем в категории с подпиской (что, очевидно, также связано с \"тестовыми\" поездками на малые расстояния).\n",
    "\n",
    "Также мы проверили ряд гипотез. Результаты приведены ниже:\n",
    "\n",
    "-  пользователи с подпиской тратят больше времени на поездки \n",
    "\n",
    "- расстояние, которое проезжают пользователи с подпиской за одну поездку, составляет 3130 метров\n",
    "\n",
    "- выручка от пользователей с подпиской будет выше, чем выручка от пользователей без подписки.\n",
    "\n",
    "Как следует из представленных данных, расстояние одной поездки в 3130 метров является оптимальным с точки зрения износа самоката. Таким образом, учитывая:\n",
    "\n",
    "- оптимальный износ самокатов компании пользователями с подпиской Ultra \n",
    "\n",
    "- более высокую продолжительность поездок\n",
    "\n",
    "- наличие абонентской платы на тарифе с подпиской Ultra (199 рублей в месяц) помимо поминутной оплаты продолжительности поездок\n",
    "\n",
    "- более высокий размер выручки, которую пользователи с подпиской принесут компании\n",
    "\n",
    "можно прийти к выводу о том, что намерение продакт-менеджеров сервиса увеличить количество пользователей с подпиской является целесообразным и оправданным.\n"
   ]
  },
  {
   "cell_type": "code",
   "execution_count": null,
   "id": "d642d96c-b61b-4ae9-8765-01c6cccfd18a",
   "metadata": {},
   "outputs": [],
   "source": []
  }
 ],
 "metadata": {
  "ExecuteTimeLog": [
   {
    "duration": 53,
    "start_time": "2023-04-21T08:21:52.096Z"
   },
   {
    "duration": 1229,
    "start_time": "2023-04-21T08:22:07.840Z"
   },
   {
    "duration": 81,
    "start_time": "2023-04-21T08:22:09.216Z"
   },
   {
    "duration": 14,
    "start_time": "2023-04-21T08:23:42.699Z"
   },
   {
    "duration": 255,
    "start_time": "2023-04-21T08:26:37.694Z"
   },
   {
    "duration": 88,
    "start_time": "2023-04-21T08:27:00.223Z"
   },
   {
    "duration": 93,
    "start_time": "2023-04-21T08:27:14.904Z"
   },
   {
    "duration": 107,
    "start_time": "2023-04-21T08:27:33.408Z"
   },
   {
    "duration": 95,
    "start_time": "2023-04-21T08:29:04.820Z"
   },
   {
    "duration": 92,
    "start_time": "2023-04-21T08:29:24.043Z"
   },
   {
    "duration": 114,
    "start_time": "2023-04-21T08:29:37.590Z"
   },
   {
    "duration": 12,
    "start_time": "2023-04-21T08:55:39.021Z"
   },
   {
    "duration": 11,
    "start_time": "2023-04-21T09:03:47.998Z"
   },
   {
    "duration": 9,
    "start_time": "2023-04-21T09:10:02.289Z"
   },
   {
    "duration": 15,
    "start_time": "2023-04-21T09:40:41.424Z"
   },
   {
    "duration": 19,
    "start_time": "2023-04-21T09:49:23.625Z"
   },
   {
    "duration": 11,
    "start_time": "2023-04-21T11:07:31.502Z"
   },
   {
    "duration": 15,
    "start_time": "2023-04-21T11:16:19.203Z"
   },
   {
    "duration": 18,
    "start_time": "2023-04-21T11:16:44.090Z"
   },
   {
    "duration": 29,
    "start_time": "2023-04-21T11:17:03.233Z"
   },
   {
    "duration": 18,
    "start_time": "2023-04-21T11:17:09.449Z"
   },
   {
    "duration": 20,
    "start_time": "2023-04-21T11:22:03.215Z"
   },
   {
    "duration": 19,
    "start_time": "2023-04-21T11:24:41.340Z"
   },
   {
    "duration": 27,
    "start_time": "2023-04-21T11:26:16.921Z"
   },
   {
    "duration": 5,
    "start_time": "2023-04-21T11:36:05.499Z"
   },
   {
    "duration": 8,
    "start_time": "2023-04-21T11:37:15.709Z"
   },
   {
    "duration": 11,
    "start_time": "2023-04-21T11:37:31.555Z"
   },
   {
    "duration": 44,
    "start_time": "2023-04-21T11:38:27.894Z"
   },
   {
    "duration": 10,
    "start_time": "2023-04-21T11:40:52.010Z"
   },
   {
    "duration": 17,
    "start_time": "2023-04-21T11:41:28.262Z"
   },
   {
    "duration": 13,
    "start_time": "2023-04-21T11:42:11.648Z"
   },
   {
    "duration": 6,
    "start_time": "2023-04-21T11:49:58.402Z"
   },
   {
    "duration": 7,
    "start_time": "2023-04-21T11:56:22.307Z"
   },
   {
    "duration": 4,
    "start_time": "2023-04-21T12:19:34.577Z"
   },
   {
    "duration": 6,
    "start_time": "2023-04-21T12:56:31.663Z"
   },
   {
    "duration": 5,
    "start_time": "2023-04-21T12:57:45.853Z"
   },
   {
    "duration": 7,
    "start_time": "2023-04-21T13:17:37.849Z"
   },
   {
    "duration": 7,
    "start_time": "2023-04-21T13:20:22.996Z"
   },
   {
    "duration": 163,
    "start_time": "2023-04-21T13:22:59.492Z"
   },
   {
    "duration": 5,
    "start_time": "2023-04-21T13:37:20.552Z"
   },
   {
    "duration": 205,
    "start_time": "2023-04-21T13:37:47.640Z"
   },
   {
    "duration": 144,
    "start_time": "2023-04-21T13:42:38.597Z"
   },
   {
    "duration": 176,
    "start_time": "2023-04-21T13:44:37.888Z"
   },
   {
    "duration": 180,
    "start_time": "2023-04-21T13:45:44.156Z"
   },
   {
    "duration": 8,
    "start_time": "2023-04-21T14:01:39.424Z"
   },
   {
    "duration": 55,
    "start_time": "2023-04-22T10:31:39.276Z"
   },
   {
    "duration": 1392,
    "start_time": "2023-04-22T10:31:47.477Z"
   },
   {
    "duration": 235,
    "start_time": "2023-04-22T10:31:48.871Z"
   },
   {
    "duration": 13,
    "start_time": "2023-04-22T10:31:49.107Z"
   },
   {
    "duration": 10,
    "start_time": "2023-04-22T10:31:49.122Z"
   },
   {
    "duration": 9,
    "start_time": "2023-04-22T10:31:49.134Z"
   },
   {
    "duration": 20,
    "start_time": "2023-04-22T10:31:49.750Z"
   },
   {
    "duration": 20,
    "start_time": "2023-04-22T10:31:50.500Z"
   },
   {
    "duration": 23,
    "start_time": "2023-04-22T10:31:51.757Z"
   },
   {
    "duration": 59,
    "start_time": "2023-04-22T10:31:52.549Z"
   },
   {
    "duration": 11,
    "start_time": "2023-04-22T10:31:52.954Z"
   },
   {
    "duration": 6,
    "start_time": "2023-04-22T10:31:54.211Z"
   },
   {
    "duration": 5,
    "start_time": "2023-04-22T10:31:54.591Z"
   },
   {
    "duration": 9,
    "start_time": "2023-04-22T10:31:55.000Z"
   },
   {
    "duration": 7,
    "start_time": "2023-04-22T10:31:56.597Z"
   },
   {
    "duration": 6,
    "start_time": "2023-04-22T10:31:57.050Z"
   },
   {
    "duration": 198,
    "start_time": "2023-04-22T10:31:57.603Z"
   },
   {
    "duration": 6,
    "start_time": "2023-04-22T10:31:59.275Z"
   },
   {
    "duration": 184,
    "start_time": "2023-04-22T10:31:59.847Z"
   },
   {
    "duration": 8,
    "start_time": "2023-04-22T10:32:02.409Z"
   },
   {
    "duration": 5,
    "start_time": "2023-04-22T10:32:03.238Z"
   },
   {
    "duration": 300,
    "start_time": "2023-04-22T10:34:25.159Z"
   },
   {
    "duration": 350,
    "start_time": "2023-04-22T10:34:58.101Z"
   },
   {
    "duration": 384,
    "start_time": "2023-04-22T10:35:15.690Z"
   },
   {
    "duration": 8,
    "start_time": "2023-04-22T11:13:08.082Z"
   },
   {
    "duration": 3659,
    "start_time": "2023-04-22T11:14:35.640Z"
   },
   {
    "duration": 2802,
    "start_time": "2023-04-22T11:15:14.889Z"
   },
   {
    "duration": 11,
    "start_time": "2023-04-22T11:19:15.316Z"
   },
   {
    "duration": 14,
    "start_time": "2023-04-22T11:22:44.028Z"
   },
   {
    "duration": 3,
    "start_time": "2023-04-22T11:23:04.158Z"
   },
   {
    "duration": 99,
    "start_time": "2023-04-22T11:23:04.666Z"
   },
   {
    "duration": 14,
    "start_time": "2023-04-22T11:23:05.624Z"
   },
   {
    "duration": 12,
    "start_time": "2023-04-22T11:23:06.056Z"
   },
   {
    "duration": 71,
    "start_time": "2023-04-22T11:23:06.514Z"
   },
   {
    "duration": 14,
    "start_time": "2023-04-22T11:23:07.396Z"
   },
   {
    "duration": 27,
    "start_time": "2023-04-22T11:23:08.295Z"
   },
   {
    "duration": 29,
    "start_time": "2023-04-22T11:23:09.624Z"
   },
   {
    "duration": 12,
    "start_time": "2023-04-22T11:23:10.556Z"
   },
   {
    "duration": 12,
    "start_time": "2023-04-22T11:23:11.008Z"
   },
   {
    "duration": 8,
    "start_time": "2023-04-22T11:23:12.424Z"
   },
   {
    "duration": 5,
    "start_time": "2023-04-22T11:23:12.905Z"
   },
   {
    "duration": 5,
    "start_time": "2023-04-22T11:23:13.379Z"
   },
   {
    "duration": 6,
    "start_time": "2023-04-22T11:23:15.274Z"
   },
   {
    "duration": 5,
    "start_time": "2023-04-22T11:23:15.768Z"
   },
   {
    "duration": 157,
    "start_time": "2023-04-22T11:23:16.222Z"
   },
   {
    "duration": 5,
    "start_time": "2023-04-22T11:23:17.649Z"
   },
   {
    "duration": 145,
    "start_time": "2023-04-22T11:23:18.107Z"
   },
   {
    "duration": 7,
    "start_time": "2023-04-22T11:23:19.542Z"
   },
   {
    "duration": 7,
    "start_time": "2023-04-22T11:23:20.039Z"
   },
   {
    "duration": 295,
    "start_time": "2023-04-22T11:23:20.509Z"
   },
   {
    "duration": 13,
    "start_time": "2023-04-22T11:23:22.709Z"
   },
   {
    "duration": 10,
    "start_time": "2023-04-22T11:30:21.207Z"
   },
   {
    "duration": 166,
    "start_time": "2023-04-22T11:31:16.019Z"
   },
   {
    "duration": 12,
    "start_time": "2023-04-22T11:32:00.264Z"
   },
   {
    "duration": 19752,
    "start_time": "2023-04-22T11:38:56.271Z"
   },
   {
    "duration": 225,
    "start_time": "2023-04-22T11:40:43.585Z"
   },
   {
    "duration": 306,
    "start_time": "2023-04-22T11:41:32.562Z"
   },
   {
    "duration": 28845,
    "start_time": "2023-04-22T11:42:24.369Z"
   },
   {
    "duration": 167,
    "start_time": "2023-04-22T11:43:59.916Z"
   },
   {
    "duration": 29294,
    "start_time": "2023-04-22T11:46:00.330Z"
   },
   {
    "duration": 18799,
    "start_time": "2023-04-22T12:06:17.436Z"
   },
   {
    "duration": 29344,
    "start_time": "2023-04-22T12:07:32.531Z"
   },
   {
    "duration": 1214,
    "start_time": "2023-04-22T15:47:27.512Z"
   },
   {
    "duration": 208,
    "start_time": "2023-04-22T15:47:28.728Z"
   },
   {
    "duration": 10,
    "start_time": "2023-04-22T15:47:28.938Z"
   },
   {
    "duration": 17,
    "start_time": "2023-04-22T15:47:28.950Z"
   },
   {
    "duration": 17,
    "start_time": "2023-04-22T15:47:28.968Z"
   },
   {
    "duration": 14,
    "start_time": "2023-04-22T15:47:29.230Z"
   },
   {
    "duration": 18,
    "start_time": "2023-04-22T15:47:29.763Z"
   },
   {
    "duration": 22,
    "start_time": "2023-04-22T15:47:30.482Z"
   },
   {
    "duration": 45,
    "start_time": "2023-04-22T15:47:31.146Z"
   },
   {
    "duration": 10,
    "start_time": "2023-04-22T15:47:31.451Z"
   },
   {
    "duration": 5,
    "start_time": "2023-04-22T15:47:32.200Z"
   },
   {
    "duration": 5,
    "start_time": "2023-04-22T15:47:32.468Z"
   },
   {
    "duration": 4,
    "start_time": "2023-04-22T15:47:32.762Z"
   },
   {
    "duration": 6,
    "start_time": "2023-04-22T15:47:34.100Z"
   },
   {
    "duration": 5,
    "start_time": "2023-04-22T15:47:34.341Z"
   },
   {
    "duration": 201,
    "start_time": "2023-04-22T15:47:34.599Z"
   },
   {
    "duration": 5,
    "start_time": "2023-04-22T15:47:35.267Z"
   },
   {
    "duration": 144,
    "start_time": "2023-04-22T15:47:35.536Z"
   },
   {
    "duration": 8,
    "start_time": "2023-04-22T15:47:36.239Z"
   },
   {
    "duration": 5,
    "start_time": "2023-04-22T15:47:36.494Z"
   },
   {
    "duration": 273,
    "start_time": "2023-04-22T15:47:36.784Z"
   },
   {
    "duration": 9,
    "start_time": "2023-04-22T15:54:49.194Z"
   },
   {
    "duration": 122,
    "start_time": "2023-04-22T15:59:14.183Z"
   },
   {
    "duration": 165,
    "start_time": "2023-04-22T15:59:48.783Z"
   },
   {
    "duration": 8,
    "start_time": "2023-04-22T16:21:15.962Z"
   },
   {
    "duration": 115,
    "start_time": "2023-04-22T16:23:27.455Z"
   },
   {
    "duration": 9,
    "start_time": "2023-04-22T17:01:39.772Z"
   },
   {
    "duration": 15,
    "start_time": "2023-04-22T17:01:40.544Z"
   },
   {
    "duration": 11,
    "start_time": "2023-04-22T17:03:21.860Z"
   },
   {
    "duration": 14,
    "start_time": "2023-04-22T17:08:22.938Z"
   },
   {
    "duration": 117,
    "start_time": "2023-04-22T17:19:10.631Z"
   },
   {
    "duration": 75,
    "start_time": "2023-04-22T17:19:41.094Z"
   },
   {
    "duration": 71,
    "start_time": "2023-04-22T17:25:54.057Z"
   },
   {
    "duration": 84,
    "start_time": "2023-04-22T17:27:23.300Z"
   },
   {
    "duration": 7,
    "start_time": "2023-04-22T17:29:35.797Z"
   },
   {
    "duration": 12,
    "start_time": "2023-04-22T17:29:37.720Z"
   },
   {
    "duration": 8,
    "start_time": "2023-04-22T17:31:29.239Z"
   },
   {
    "duration": 12,
    "start_time": "2023-04-22T17:31:31.974Z"
   },
   {
    "duration": 6,
    "start_time": "2023-04-22T17:31:33.862Z"
   },
   {
    "duration": 16,
    "start_time": "2023-04-22T17:31:34.640Z"
   },
   {
    "duration": 8,
    "start_time": "2023-04-22T17:36:39.213Z"
   },
   {
    "duration": 7,
    "start_time": "2023-04-22T17:37:32.100Z"
   },
   {
    "duration": 8,
    "start_time": "2023-04-22T17:37:39.903Z"
   },
   {
    "duration": 124,
    "start_time": "2023-04-22T17:37:41.024Z"
   },
   {
    "duration": 9,
    "start_time": "2023-04-22T17:45:05.442Z"
   },
   {
    "duration": 190,
    "start_time": "2023-04-22T17:46:11.358Z"
   },
   {
    "duration": 8,
    "start_time": "2023-04-22T17:55:48.750Z"
   },
   {
    "duration": 8,
    "start_time": "2023-04-22T17:56:56.801Z"
   },
   {
    "duration": 119,
    "start_time": "2023-04-22T17:57:21.900Z"
   },
   {
    "duration": 7,
    "start_time": "2023-04-22T18:09:48.067Z"
   },
   {
    "duration": 7,
    "start_time": "2023-04-22T18:10:19.069Z"
   },
   {
    "duration": 138,
    "start_time": "2023-04-22T18:10:19.626Z"
   },
   {
    "duration": 150,
    "start_time": "2023-04-22T18:13:43.762Z"
   },
   {
    "duration": 104,
    "start_time": "2023-04-22T18:58:32.435Z"
   },
   {
    "duration": 128,
    "start_time": "2023-04-22T18:59:42.705Z"
   },
   {
    "duration": 13,
    "start_time": "2023-04-22T19:05:21.251Z"
   },
   {
    "duration": 9,
    "start_time": "2023-04-22T19:05:24.329Z"
   },
   {
    "duration": 190,
    "start_time": "2023-04-22T19:08:01.384Z"
   },
   {
    "duration": 16,
    "start_time": "2023-04-22T19:08:15.445Z"
   },
   {
    "duration": 12,
    "start_time": "2023-04-22T19:08:20.044Z"
   },
   {
    "duration": 100,
    "start_time": "2023-04-22T19:10:14.052Z"
   },
   {
    "duration": 13,
    "start_time": "2023-04-22T19:11:18.758Z"
   },
   {
    "duration": 12,
    "start_time": "2023-04-22T19:11:20.779Z"
   },
   {
    "duration": 12,
    "start_time": "2023-04-22T19:14:50.182Z"
   },
   {
    "duration": 12,
    "start_time": "2023-04-22T19:14:51.280Z"
   },
   {
    "duration": 12,
    "start_time": "2023-04-22T19:14:53.081Z"
   },
   {
    "duration": 6,
    "start_time": "2023-04-22T19:15:46.720Z"
   },
   {
    "duration": 15,
    "start_time": "2023-04-22T19:15:47.418Z"
   },
   {
    "duration": 13,
    "start_time": "2023-04-22T19:16:23.214Z"
   },
   {
    "duration": 9,
    "start_time": "2023-04-22T19:16:23.887Z"
   },
   {
    "duration": 11,
    "start_time": "2023-04-22T19:19:07.578Z"
   },
   {
    "duration": 4,
    "start_time": "2023-04-22T19:19:08.107Z"
   },
   {
    "duration": 9,
    "start_time": "2023-04-22T19:19:08.669Z"
   },
   {
    "duration": 15,
    "start_time": "2023-04-22T19:20:27.354Z"
   },
   {
    "duration": 1311,
    "start_time": "2023-04-22T19:20:28.074Z"
   },
   {
    "duration": 8,
    "start_time": "2023-04-22T19:20:29.481Z"
   },
   {
    "duration": 13,
    "start_time": "2023-04-22T19:22:13.008Z"
   },
   {
    "duration": 16,
    "start_time": "2023-04-22T19:22:13.744Z"
   },
   {
    "duration": 10,
    "start_time": "2023-04-22T19:22:14.581Z"
   },
   {
    "duration": 17,
    "start_time": "2023-04-22T19:32:07.205Z"
   },
   {
    "duration": 10,
    "start_time": "2023-04-22T19:32:36.312Z"
   },
   {
    "duration": 14,
    "start_time": "2023-04-22T19:33:20.041Z"
   },
   {
    "duration": 4,
    "start_time": "2023-04-22T19:45:00.751Z"
   },
   {
    "duration": 80,
    "start_time": "2023-04-22T19:45:01.086Z"
   },
   {
    "duration": 9,
    "start_time": "2023-04-22T19:45:01.775Z"
   },
   {
    "duration": 12,
    "start_time": "2023-04-22T19:45:02.202Z"
   },
   {
    "duration": 9,
    "start_time": "2023-04-22T19:45:02.550Z"
   },
   {
    "duration": 16,
    "start_time": "2023-04-22T19:45:03.304Z"
   },
   {
    "duration": 18,
    "start_time": "2023-04-22T19:45:04.032Z"
   },
   {
    "duration": 32,
    "start_time": "2023-04-22T19:45:05.090Z"
   },
   {
    "duration": 12,
    "start_time": "2023-04-22T19:45:05.740Z"
   },
   {
    "duration": 12,
    "start_time": "2023-04-22T19:45:06.039Z"
   },
   {
    "duration": 6,
    "start_time": "2023-04-22T19:45:06.975Z"
   },
   {
    "duration": 7,
    "start_time": "2023-04-22T19:45:07.281Z"
   },
   {
    "duration": 5,
    "start_time": "2023-04-22T19:45:07.575Z"
   },
   {
    "duration": 7,
    "start_time": "2023-04-22T19:45:09.718Z"
   },
   {
    "duration": 6,
    "start_time": "2023-04-22T19:45:10.108Z"
   },
   {
    "duration": 194,
    "start_time": "2023-04-22T19:45:11.977Z"
   },
   {
    "duration": 5,
    "start_time": "2023-04-22T19:45:13.314Z"
   },
   {
    "duration": 167,
    "start_time": "2023-04-22T19:45:13.704Z"
   },
   {
    "duration": 8,
    "start_time": "2023-04-22T19:45:14.775Z"
   },
   {
    "duration": 5,
    "start_time": "2023-04-22T19:45:15.178Z"
   },
   {
    "duration": 317,
    "start_time": "2023-04-22T19:45:15.529Z"
   },
   {
    "duration": 9,
    "start_time": "2023-04-22T19:45:16.730Z"
   },
   {
    "duration": 129,
    "start_time": "2023-04-22T19:45:17.103Z"
   },
   {
    "duration": 9,
    "start_time": "2023-04-22T19:45:18.222Z"
   },
   {
    "duration": 189,
    "start_time": "2023-04-22T19:45:18.636Z"
   },
   {
    "duration": 11,
    "start_time": "2023-04-22T19:45:20.776Z"
   },
   {
    "duration": 15,
    "start_time": "2023-04-22T19:45:21.205Z"
   },
   {
    "duration": 16,
    "start_time": "2023-04-22T19:45:23.440Z"
   },
   {
    "duration": 6,
    "start_time": "2023-04-22T19:45:24.954Z"
   },
   {
    "duration": 17,
    "start_time": "2023-04-22T19:45:26.858Z"
   },
   {
    "duration": 7,
    "start_time": "2023-04-22T19:45:27.355Z"
   },
   {
    "duration": 17,
    "start_time": "2023-04-22T19:45:28.211Z"
   },
   {
    "duration": 9,
    "start_time": "2023-04-22T19:45:32.403Z"
   },
   {
    "duration": 125,
    "start_time": "2023-04-22T19:45:32.813Z"
   },
   {
    "duration": 8,
    "start_time": "2023-04-22T19:45:33.723Z"
   },
   {
    "duration": 116,
    "start_time": "2023-04-22T19:45:34.208Z"
   },
   {
    "duration": 9,
    "start_time": "2023-04-22T19:45:35.645Z"
   },
   {
    "duration": 161,
    "start_time": "2023-04-22T19:45:35.909Z"
   },
   {
    "duration": 13,
    "start_time": "2023-04-22T19:45:36.753Z"
   },
   {
    "duration": 122,
    "start_time": "2023-04-22T19:45:39.062Z"
   },
   {
    "duration": 14,
    "start_time": "2023-04-22T19:45:44.998Z"
   },
   {
    "duration": 12,
    "start_time": "2023-04-22T19:45:46.633Z"
   },
   {
    "duration": 6,
    "start_time": "2023-04-22T19:49:27.204Z"
   },
   {
    "duration": 13,
    "start_time": "2023-04-22T19:49:27.869Z"
   },
   {
    "duration": 6,
    "start_time": "2023-04-22T19:50:02.507Z"
   },
   {
    "duration": 13,
    "start_time": "2023-04-22T19:50:03.242Z"
   },
   {
    "duration": 9,
    "start_time": "2023-04-22T19:51:17.536Z"
   },
   {
    "duration": 13,
    "start_time": "2023-04-22T19:51:18.138Z"
   },
   {
    "duration": 6,
    "start_time": "2023-04-22T19:51:31.700Z"
   },
   {
    "duration": 12,
    "start_time": "2023-04-22T19:51:33.704Z"
   },
   {
    "duration": 8,
    "start_time": "2023-04-22T19:51:45.753Z"
   },
   {
    "duration": 15,
    "start_time": "2023-04-22T19:51:46.385Z"
   },
   {
    "duration": 5,
    "start_time": "2023-04-22T19:52:01.924Z"
   },
   {
    "duration": 13,
    "start_time": "2023-04-22T19:52:03.000Z"
   },
   {
    "duration": 11,
    "start_time": "2023-04-22T19:52:13.965Z"
   },
   {
    "duration": 14,
    "start_time": "2023-04-22T19:52:14.603Z"
   },
   {
    "duration": 13,
    "start_time": "2023-04-22T19:52:19.805Z"
   },
   {
    "duration": 8,
    "start_time": "2023-04-22T19:52:22.456Z"
   },
   {
    "duration": 12,
    "start_time": "2023-04-22T19:52:28.062Z"
   },
   {
    "duration": 6,
    "start_time": "2023-04-22T19:52:28.884Z"
   },
   {
    "duration": 12,
    "start_time": "2023-04-22T19:52:31.354Z"
   },
   {
    "duration": 7,
    "start_time": "2023-04-22T19:52:34.507Z"
   },
   {
    "duration": 115,
    "start_time": "2023-04-22T19:52:34.939Z"
   },
   {
    "duration": 8,
    "start_time": "2023-04-22T19:52:36.052Z"
   },
   {
    "duration": 114,
    "start_time": "2023-04-22T19:52:36.439Z"
   },
   {
    "duration": 8,
    "start_time": "2023-04-22T19:52:37.656Z"
   },
   {
    "duration": 119,
    "start_time": "2023-04-22T19:52:38.099Z"
   },
   {
    "duration": 8,
    "start_time": "2023-04-22T19:52:38.709Z"
   },
   {
    "duration": 116,
    "start_time": "2023-04-22T19:52:38.923Z"
   },
   {
    "duration": 12,
    "start_time": "2023-04-22T19:57:17.341Z"
   },
   {
    "duration": 5,
    "start_time": "2023-04-22T19:58:21.147Z"
   },
   {
    "duration": 4,
    "start_time": "2023-04-22T20:03:32.432Z"
   },
   {
    "duration": 7,
    "start_time": "2023-04-22T20:03:52.219Z"
   },
   {
    "duration": 15,
    "start_time": "2023-04-22T20:03:53.224Z"
   },
   {
    "duration": 5,
    "start_time": "2023-04-22T20:08:34.831Z"
   },
   {
    "duration": 6,
    "start_time": "2023-04-22T20:09:06.018Z"
   },
   {
    "duration": 5,
    "start_time": "2023-04-22T20:09:21.050Z"
   },
   {
    "duration": 12,
    "start_time": "2023-04-22T20:29:18.910Z"
   },
   {
    "duration": 9,
    "start_time": "2023-04-22T20:29:20.102Z"
   },
   {
    "duration": 13,
    "start_time": "2023-04-22T20:29:26.007Z"
   },
   {
    "duration": 10,
    "start_time": "2023-04-22T20:29:28.278Z"
   },
   {
    "duration": 12,
    "start_time": "2023-04-22T20:29:41.254Z"
   },
   {
    "duration": 9,
    "start_time": "2023-04-22T20:29:41.738Z"
   },
   {
    "duration": 11,
    "start_time": "2023-04-22T20:31:55.770Z"
   },
   {
    "duration": 9,
    "start_time": "2023-04-22T20:31:58.055Z"
   },
   {
    "duration": 13,
    "start_time": "2023-04-22T20:32:39.335Z"
   },
   {
    "duration": 10,
    "start_time": "2023-04-22T20:32:39.802Z"
   },
   {
    "duration": 11,
    "start_time": "2023-04-22T20:34:55.742Z"
   },
   {
    "duration": 9,
    "start_time": "2023-04-22T20:34:56.575Z"
   },
   {
    "duration": 15,
    "start_time": "2023-04-22T20:35:00.664Z"
   },
   {
    "duration": 9,
    "start_time": "2023-04-22T20:35:01.319Z"
   },
   {
    "duration": 14,
    "start_time": "2023-04-22T20:47:40.680Z"
   },
   {
    "duration": 13,
    "start_time": "2023-04-22T20:47:58.117Z"
   },
   {
    "duration": 16,
    "start_time": "2023-04-22T20:50:46.252Z"
   },
   {
    "duration": 11,
    "start_time": "2023-04-22T21:05:09.002Z"
   },
   {
    "duration": 10,
    "start_time": "2023-04-22T21:05:09.645Z"
   },
   {
    "duration": 14,
    "start_time": "2023-04-22T21:05:10.195Z"
   },
   {
    "duration": 307,
    "start_time": "2023-04-22T21:07:42.147Z"
   },
   {
    "duration": 16,
    "start_time": "2023-04-22T21:08:08.490Z"
   },
   {
    "duration": 10,
    "start_time": "2023-04-22T21:08:48.586Z"
   },
   {
    "duration": 11,
    "start_time": "2023-04-22T21:15:19.786Z"
   },
   {
    "duration": 10,
    "start_time": "2023-04-22T21:15:21.027Z"
   },
   {
    "duration": 132,
    "start_time": "2023-04-22T21:15:50.077Z"
   },
   {
    "duration": 15,
    "start_time": "2023-04-22T21:16:07.736Z"
   },
   {
    "duration": 9,
    "start_time": "2023-04-22T21:16:08.796Z"
   },
   {
    "duration": 11,
    "start_time": "2023-04-22T21:17:27.250Z"
   },
   {
    "duration": 19,
    "start_time": "2023-04-22T21:17:27.794Z"
   },
   {
    "duration": 11,
    "start_time": "2023-04-22T21:17:59.900Z"
   },
   {
    "duration": 10,
    "start_time": "2023-04-22T21:18:00.864Z"
   },
   {
    "duration": 17,
    "start_time": "2023-04-22T21:18:21.330Z"
   },
   {
    "duration": 9,
    "start_time": "2023-04-22T21:18:56.197Z"
   },
   {
    "duration": 14,
    "start_time": "2023-04-22T21:19:46.487Z"
   },
   {
    "duration": 19,
    "start_time": "2023-04-22T21:20:10.307Z"
   },
   {
    "duration": 16,
    "start_time": "2023-04-22T21:21:04.982Z"
   },
   {
    "duration": 15,
    "start_time": "2023-04-22T21:21:50.699Z"
   },
   {
    "duration": 11,
    "start_time": "2023-04-22T21:22:25.572Z"
   },
   {
    "duration": 12,
    "start_time": "2023-04-22T21:22:26.272Z"
   },
   {
    "duration": 11,
    "start_time": "2023-04-22T21:22:28.906Z"
   },
   {
    "duration": 10,
    "start_time": "2023-04-22T21:22:34.329Z"
   },
   {
    "duration": 7,
    "start_time": "2023-04-22T21:24:44.500Z"
   },
   {
    "duration": 12,
    "start_time": "2023-04-22T21:24:50.811Z"
   },
   {
    "duration": 11,
    "start_time": "2023-04-22T21:24:51.363Z"
   },
   {
    "duration": 6,
    "start_time": "2023-04-22T21:24:51.924Z"
   },
   {
    "duration": 9,
    "start_time": "2023-04-22T21:24:53.228Z"
   },
   {
    "duration": 12,
    "start_time": "2023-04-22T21:25:57.951Z"
   },
   {
    "duration": 70,
    "start_time": "2023-04-22T21:27:24.565Z"
   },
   {
    "duration": 13,
    "start_time": "2023-04-22T21:27:37.459Z"
   },
   {
    "duration": 12,
    "start_time": "2023-04-22T21:27:43.413Z"
   },
   {
    "duration": 10,
    "start_time": "2023-04-22T21:27:44.270Z"
   },
   {
    "duration": 9,
    "start_time": "2023-04-22T21:27:44.990Z"
   },
   {
    "duration": 12,
    "start_time": "2023-04-22T21:27:45.924Z"
   },
   {
    "duration": 10,
    "start_time": "2023-04-22T21:27:47.145Z"
   },
   {
    "duration": 11,
    "start_time": "2023-04-22T21:33:18.708Z"
   },
   {
    "duration": 14,
    "start_time": "2023-04-22T21:33:19.264Z"
   },
   {
    "duration": 8,
    "start_time": "2023-04-22T21:33:19.829Z"
   },
   {
    "duration": 10,
    "start_time": "2023-04-22T21:33:20.407Z"
   },
   {
    "duration": 9,
    "start_time": "2023-04-22T21:33:22.090Z"
   },
   {
    "duration": 10,
    "start_time": "2023-04-22T21:33:22.877Z"
   },
   {
    "duration": 8,
    "start_time": "2023-04-22T21:33:24.071Z"
   },
   {
    "duration": 12,
    "start_time": "2023-04-22T21:33:24.689Z"
   },
   {
    "duration": 18,
    "start_time": "2023-04-22T21:33:25.307Z"
   },
   {
    "duration": 6,
    "start_time": "2023-04-22T21:33:25.887Z"
   },
   {
    "duration": 11,
    "start_time": "2023-04-22T21:33:27.010Z"
   },
   {
    "duration": 9,
    "start_time": "2023-04-22T21:33:28.058Z"
   },
   {
    "duration": 19,
    "start_time": "2023-04-22T21:34:27.087Z"
   },
   {
    "duration": 12,
    "start_time": "2023-04-22T21:34:42.140Z"
   },
   {
    "duration": 11,
    "start_time": "2023-04-22T21:34:42.640Z"
   },
   {
    "duration": 6,
    "start_time": "2023-04-22T21:34:43.157Z"
   },
   {
    "duration": 12,
    "start_time": "2023-04-22T21:34:43.668Z"
   },
   {
    "duration": 10,
    "start_time": "2023-04-22T21:34:44.518Z"
   },
   {
    "duration": 10,
    "start_time": "2023-04-22T21:34:45.321Z"
   },
   {
    "duration": 9,
    "start_time": "2023-04-22T21:34:46.061Z"
   },
   {
    "duration": 11,
    "start_time": "2023-04-22T21:34:46.737Z"
   },
   {
    "duration": 23,
    "start_time": "2023-04-22T21:34:49.959Z"
   },
   {
    "duration": 7,
    "start_time": "2023-04-22T21:34:51.403Z"
   },
   {
    "duration": 14,
    "start_time": "2023-04-22T21:34:53.287Z"
   },
   {
    "duration": 12,
    "start_time": "2023-04-22T21:35:34.859Z"
   },
   {
    "duration": 14,
    "start_time": "2023-04-22T21:35:35.278Z"
   },
   {
    "duration": 7,
    "start_time": "2023-04-22T21:35:35.715Z"
   },
   {
    "duration": 11,
    "start_time": "2023-04-22T21:35:36.043Z"
   },
   {
    "duration": 9,
    "start_time": "2023-04-22T21:35:36.624Z"
   },
   {
    "duration": 11,
    "start_time": "2023-04-22T21:35:38.196Z"
   },
   {
    "duration": 10,
    "start_time": "2023-04-22T21:35:39.445Z"
   },
   {
    "duration": 15,
    "start_time": "2023-04-22T21:35:40.078Z"
   },
   {
    "duration": 11,
    "start_time": "2023-04-22T21:35:41.285Z"
   },
   {
    "duration": 7,
    "start_time": "2023-04-22T21:35:42.644Z"
   },
   {
    "duration": 11,
    "start_time": "2023-04-22T21:35:43.162Z"
   },
   {
    "duration": 9,
    "start_time": "2023-04-22T21:35:43.862Z"
   },
   {
    "duration": 12,
    "start_time": "2023-04-22T21:39:19.497Z"
   },
   {
    "duration": 11,
    "start_time": "2023-04-22T21:39:19.895Z"
   },
   {
    "duration": 7,
    "start_time": "2023-04-22T21:39:20.351Z"
   },
   {
    "duration": 11,
    "start_time": "2023-04-22T21:39:38.278Z"
   },
   {
    "duration": 11,
    "start_time": "2023-04-22T21:39:38.703Z"
   },
   {
    "duration": 6,
    "start_time": "2023-04-22T21:39:39.081Z"
   },
   {
    "duration": 10,
    "start_time": "2023-04-22T21:39:39.427Z"
   },
   {
    "duration": 9,
    "start_time": "2023-04-22T21:39:39.796Z"
   },
   {
    "duration": 10,
    "start_time": "2023-04-22T21:39:40.281Z"
   },
   {
    "duration": 9,
    "start_time": "2023-04-22T21:39:40.772Z"
   },
   {
    "duration": 11,
    "start_time": "2023-04-22T21:39:41.224Z"
   },
   {
    "duration": 10,
    "start_time": "2023-04-22T21:39:41.699Z"
   },
   {
    "duration": 7,
    "start_time": "2023-04-22T21:39:42.140Z"
   },
   {
    "duration": 11,
    "start_time": "2023-04-22T21:39:42.795Z"
   },
   {
    "duration": 8,
    "start_time": "2023-04-22T21:39:43.345Z"
   },
   {
    "duration": 12,
    "start_time": "2023-04-22T21:43:42.243Z"
   },
   {
    "duration": 11,
    "start_time": "2023-04-22T21:43:42.661Z"
   },
   {
    "duration": 6,
    "start_time": "2023-04-22T21:43:43.058Z"
   },
   {
    "duration": 12,
    "start_time": "2023-04-22T21:43:43.456Z"
   },
   {
    "duration": 9,
    "start_time": "2023-04-22T21:43:43.922Z"
   },
   {
    "duration": 11,
    "start_time": "2023-04-22T21:43:44.400Z"
   },
   {
    "duration": 11,
    "start_time": "2023-04-22T21:43:44.866Z"
   },
   {
    "duration": 12,
    "start_time": "2023-04-22T21:43:45.315Z"
   },
   {
    "duration": 12,
    "start_time": "2023-04-22T21:43:45.683Z"
   },
   {
    "duration": 10,
    "start_time": "2023-04-22T21:43:46.239Z"
   },
   {
    "duration": 97,
    "start_time": "2023-04-22T21:44:46.116Z"
   },
   {
    "duration": 5,
    "start_time": "2023-04-22T21:57:02.087Z"
   },
   {
    "duration": 4,
    "start_time": "2023-04-22T21:57:44.383Z"
   },
   {
    "duration": 13,
    "start_time": "2023-04-22T21:57:44.878Z"
   },
   {
    "duration": 12,
    "start_time": "2023-04-22T21:57:45.899Z"
   },
   {
    "duration": 4,
    "start_time": "2023-04-22T22:00:01.176Z"
   },
   {
    "duration": 4,
    "start_time": "2023-04-22T22:00:16.880Z"
   },
   {
    "duration": 11,
    "start_time": "2023-04-22T22:00:19.757Z"
   },
   {
    "duration": 10,
    "start_time": "2023-04-22T22:00:21.220Z"
   },
   {
    "duration": 5,
    "start_time": "2023-04-22T22:00:54.354Z"
   },
   {
    "duration": 12,
    "start_time": "2023-04-22T22:00:54.801Z"
   },
   {
    "duration": 10,
    "start_time": "2023-04-22T22:00:55.146Z"
   },
   {
    "duration": 6,
    "start_time": "2023-04-22T22:01:17.052Z"
   },
   {
    "duration": 11,
    "start_time": "2023-04-22T22:01:17.515Z"
   },
   {
    "duration": 10,
    "start_time": "2023-04-22T22:01:17.987Z"
   },
   {
    "duration": 4,
    "start_time": "2023-04-22T22:01:32.000Z"
   },
   {
    "duration": 10,
    "start_time": "2023-04-22T22:01:32.825Z"
   },
   {
    "duration": 11,
    "start_time": "2023-04-22T22:01:33.770Z"
   },
   {
    "duration": 11,
    "start_time": "2023-04-22T22:34:03.614Z"
   },
   {
    "duration": 17,
    "start_time": "2023-04-22T22:34:04.734Z"
   },
   {
    "duration": 8,
    "start_time": "2023-04-22T22:34:05.296Z"
   },
   {
    "duration": 11,
    "start_time": "2023-04-22T22:34:05.870Z"
   },
   {
    "duration": 9,
    "start_time": "2023-04-22T22:34:06.510Z"
   },
   {
    "duration": 18,
    "start_time": "2023-04-22T22:34:07.132Z"
   },
   {
    "duration": 10,
    "start_time": "2023-04-22T22:34:07.779Z"
   },
   {
    "duration": 6,
    "start_time": "2023-04-22T22:34:08.348Z"
   },
   {
    "duration": 11,
    "start_time": "2023-04-22T22:34:08.912Z"
   },
   {
    "duration": 10,
    "start_time": "2023-04-22T22:34:09.548Z"
   },
   {
    "duration": 5,
    "start_time": "2023-04-22T22:34:11.987Z"
   },
   {
    "duration": 24,
    "start_time": "2023-04-22T22:34:12.623Z"
   },
   {
    "duration": 12,
    "start_time": "2023-04-22T22:34:17.018Z"
   },
   {
    "duration": 6,
    "start_time": "2023-04-22T22:34:22.527Z"
   },
   {
    "duration": 12,
    "start_time": "2023-04-22T22:34:23.660Z"
   },
   {
    "duration": 11,
    "start_time": "2023-04-22T22:34:24.524Z"
   },
   {
    "duration": 1307,
    "start_time": "2023-04-23T15:45:53.131Z"
   },
   {
    "duration": 330,
    "start_time": "2023-04-23T15:45:54.440Z"
   },
   {
    "duration": 16,
    "start_time": "2023-04-23T15:45:54.857Z"
   },
   {
    "duration": 10,
    "start_time": "2023-04-23T15:45:55.384Z"
   },
   {
    "duration": 7,
    "start_time": "2023-04-23T15:45:55.922Z"
   },
   {
    "duration": 14,
    "start_time": "2023-04-23T15:45:56.960Z"
   },
   {
    "duration": 19,
    "start_time": "2023-04-23T15:45:58.071Z"
   },
   {
    "duration": 24,
    "start_time": "2023-04-23T15:45:59.827Z"
   },
   {
    "duration": 47,
    "start_time": "2023-04-23T15:46:00.816Z"
   },
   {
    "duration": 13,
    "start_time": "2023-04-23T15:46:01.373Z"
   },
   {
    "duration": 5,
    "start_time": "2023-04-23T15:46:02.877Z"
   },
   {
    "duration": 5,
    "start_time": "2023-04-23T15:46:03.339Z"
   },
   {
    "duration": 5,
    "start_time": "2023-04-23T15:46:03.844Z"
   },
   {
    "duration": 6,
    "start_time": "2023-04-23T15:46:05.814Z"
   },
   {
    "duration": 5,
    "start_time": "2023-04-23T15:46:06.272Z"
   },
   {
    "duration": 181,
    "start_time": "2023-04-23T15:46:06.733Z"
   },
   {
    "duration": 5,
    "start_time": "2023-04-23T15:46:08.117Z"
   },
   {
    "duration": 146,
    "start_time": "2023-04-23T15:46:08.557Z"
   },
   {
    "duration": 7,
    "start_time": "2023-04-23T15:46:09.937Z"
   },
   {
    "duration": 5,
    "start_time": "2023-04-23T15:46:10.422Z"
   },
   {
    "duration": 292,
    "start_time": "2023-04-23T15:46:10.879Z"
   },
   {
    "duration": 8,
    "start_time": "2023-04-23T15:46:12.316Z"
   },
   {
    "duration": 126,
    "start_time": "2023-04-23T15:46:12.774Z"
   },
   {
    "duration": 8,
    "start_time": "2023-04-23T15:46:14.261Z"
   },
   {
    "duration": 112,
    "start_time": "2023-04-23T15:46:14.747Z"
   },
   {
    "duration": 13,
    "start_time": "2023-04-23T15:46:17.223Z"
   },
   {
    "duration": 17,
    "start_time": "2023-04-23T15:46:17.744Z"
   },
   {
    "duration": 14,
    "start_time": "2023-04-23T15:46:18.287Z"
   },
   {
    "duration": 8,
    "start_time": "2023-04-23T15:46:19.322Z"
   },
   {
    "duration": 12,
    "start_time": "2023-04-23T15:46:19.822Z"
   },
   {
    "duration": 6,
    "start_time": "2023-04-23T15:46:20.331Z"
   },
   {
    "duration": 12,
    "start_time": "2023-04-23T15:46:20.840Z"
   },
   {
    "duration": 8,
    "start_time": "2023-04-23T15:46:22.355Z"
   },
   {
    "duration": 124,
    "start_time": "2023-04-23T15:46:22.930Z"
   },
   {
    "duration": 10,
    "start_time": "2023-04-23T15:46:23.918Z"
   },
   {
    "duration": 194,
    "start_time": "2023-04-23T15:46:24.442Z"
   },
   {
    "duration": 11,
    "start_time": "2023-04-23T15:46:25.925Z"
   },
   {
    "duration": 217,
    "start_time": "2023-04-23T15:46:26.379Z"
   },
   {
    "duration": 11,
    "start_time": "2023-04-23T15:46:27.274Z"
   },
   {
    "duration": 112,
    "start_time": "2023-04-23T15:46:27.741Z"
   },
   {
    "duration": 12,
    "start_time": "2023-04-23T15:46:30.441Z"
   },
   {
    "duration": 12,
    "start_time": "2023-04-23T15:46:30.935Z"
   },
   {
    "duration": 8,
    "start_time": "2023-04-23T15:46:31.431Z"
   },
   {
    "duration": 14,
    "start_time": "2023-04-23T15:46:32.027Z"
   },
   {
    "duration": 13,
    "start_time": "2023-04-23T15:46:32.685Z"
   },
   {
    "duration": 16,
    "start_time": "2023-04-23T15:46:33.235Z"
   },
   {
    "duration": 16,
    "start_time": "2023-04-23T15:46:33.722Z"
   },
   {
    "duration": 10,
    "start_time": "2023-04-23T15:46:34.221Z"
   },
   {
    "duration": 13,
    "start_time": "2023-04-23T15:46:34.678Z"
   },
   {
    "duration": 9,
    "start_time": "2023-04-23T15:46:35.318Z"
   },
   {
    "duration": 4,
    "start_time": "2023-04-23T15:46:37.022Z"
   },
   {
    "duration": 11,
    "start_time": "2023-04-23T15:46:37.529Z"
   },
   {
    "duration": 11,
    "start_time": "2023-04-23T15:46:38.106Z"
   },
   {
    "duration": 4,
    "start_time": "2023-04-23T15:46:39.645Z"
   },
   {
    "duration": 12,
    "start_time": "2023-04-23T15:46:40.152Z"
   },
   {
    "duration": 11,
    "start_time": "2023-04-23T15:46:40.726Z"
   },
   {
    "duration": 12,
    "start_time": "2023-04-23T16:34:36.118Z"
   },
   {
    "duration": 8,
    "start_time": "2023-04-23T16:34:56.121Z"
   },
   {
    "duration": 9,
    "start_time": "2023-04-23T16:34:59.482Z"
   },
   {
    "duration": 112,
    "start_time": "2023-04-23T16:37:46.227Z"
   },
   {
    "duration": 4,
    "start_time": "2023-04-23T16:38:57.667Z"
   },
   {
    "duration": 5,
    "start_time": "2023-04-23T16:57:14.928Z"
   },
   {
    "duration": 5,
    "start_time": "2023-04-23T17:06:06.675Z"
   },
   {
    "duration": 6,
    "start_time": "2023-04-23T17:28:12.883Z"
   },
   {
    "duration": 5,
    "start_time": "2023-04-23T17:50:40.581Z"
   },
   {
    "duration": 6,
    "start_time": "2023-04-23T17:51:02.225Z"
   },
   {
    "duration": 5,
    "start_time": "2023-04-23T17:52:35.053Z"
   },
   {
    "duration": 7,
    "start_time": "2023-04-23T18:16:15.854Z"
   },
   {
    "duration": 6,
    "start_time": "2023-04-23T18:19:26.608Z"
   },
   {
    "duration": 5,
    "start_time": "2023-04-23T18:21:37.989Z"
   },
   {
    "duration": 8,
    "start_time": "2023-04-23T20:57:55.468Z"
   },
   {
    "duration": 202,
    "start_time": "2023-04-23T20:58:32.813Z"
   },
   {
    "duration": 5,
    "start_time": "2023-04-23T21:10:49.817Z"
   },
   {
    "duration": 10,
    "start_time": "2023-04-23T21:15:24.443Z"
   },
   {
    "duration": 48,
    "start_time": "2023-04-23T21:15:43.704Z"
   },
   {
    "duration": 234,
    "start_time": "2023-04-23T21:16:02.361Z"
   },
   {
    "duration": 5,
    "start_time": "2023-04-23T21:17:37.268Z"
   },
   {
    "duration": 2,
    "start_time": "2023-04-23T21:29:44.004Z"
   },
   {
    "duration": 80,
    "start_time": "2023-04-23T21:29:44.829Z"
   },
   {
    "duration": 9,
    "start_time": "2023-04-23T21:29:46.284Z"
   },
   {
    "duration": 1026,
    "start_time": "2023-04-23T21:30:07.768Z"
   },
   {
    "duration": 81,
    "start_time": "2023-04-23T21:30:08.825Z"
   },
   {
    "duration": 12,
    "start_time": "2023-04-23T21:30:10.366Z"
   },
   {
    "duration": 9,
    "start_time": "2023-04-23T21:30:11.045Z"
   },
   {
    "duration": 6,
    "start_time": "2023-04-23T21:30:11.720Z"
   },
   {
    "duration": 14,
    "start_time": "2023-04-23T21:30:12.986Z"
   },
   {
    "duration": 21,
    "start_time": "2023-04-23T21:30:14.129Z"
   },
   {
    "duration": 22,
    "start_time": "2023-04-23T21:30:15.901Z"
   },
   {
    "duration": 45,
    "start_time": "2023-04-23T21:30:17.048Z"
   },
   {
    "duration": 13,
    "start_time": "2023-04-23T21:30:17.617Z"
   },
   {
    "duration": 6,
    "start_time": "2023-04-23T21:30:19.317Z"
   },
   {
    "duration": 4,
    "start_time": "2023-04-23T21:30:19.868Z"
   },
   {
    "duration": 5,
    "start_time": "2023-04-23T21:30:20.416Z"
   },
   {
    "duration": 7,
    "start_time": "2023-04-23T21:30:22.542Z"
   },
   {
    "duration": 6,
    "start_time": "2023-04-23T21:30:23.065Z"
   },
   {
    "duration": 167,
    "start_time": "2023-04-23T21:30:23.587Z"
   },
   {
    "duration": 6,
    "start_time": "2023-04-23T21:30:25.156Z"
   },
   {
    "duration": 156,
    "start_time": "2023-04-23T21:30:25.685Z"
   },
   {
    "duration": 9,
    "start_time": "2023-04-23T21:30:27.229Z"
   },
   {
    "duration": 5,
    "start_time": "2023-04-23T21:30:27.729Z"
   },
   {
    "duration": 267,
    "start_time": "2023-04-23T21:30:28.243Z"
   },
   {
    "duration": 7,
    "start_time": "2023-04-23T21:30:29.729Z"
   },
   {
    "duration": 117,
    "start_time": "2023-04-23T21:30:30.235Z"
   },
   {
    "duration": 7,
    "start_time": "2023-04-23T21:30:31.757Z"
   },
   {
    "duration": 102,
    "start_time": "2023-04-23T21:30:32.213Z"
   },
   {
    "duration": 10,
    "start_time": "2023-04-23T21:30:34.657Z"
   },
   {
    "duration": 12,
    "start_time": "2023-04-23T21:30:35.144Z"
   },
   {
    "duration": 12,
    "start_time": "2023-04-23T21:30:35.640Z"
   },
   {
    "duration": 9,
    "start_time": "2023-04-23T21:30:36.650Z"
   },
   {
    "duration": 13,
    "start_time": "2023-04-23T21:30:37.161Z"
   },
   {
    "duration": 6,
    "start_time": "2023-04-23T21:30:37.681Z"
   },
   {
    "duration": 12,
    "start_time": "2023-04-23T21:30:38.210Z"
   },
   {
    "duration": 7,
    "start_time": "2023-04-23T21:30:39.716Z"
   },
   {
    "duration": 112,
    "start_time": "2023-04-23T21:30:40.241Z"
   },
   {
    "duration": 7,
    "start_time": "2023-04-23T21:30:41.277Z"
   },
   {
    "duration": 111,
    "start_time": "2023-04-23T21:30:41.771Z"
   },
   {
    "duration": 7,
    "start_time": "2023-04-23T21:30:43.259Z"
   },
   {
    "duration": 171,
    "start_time": "2023-04-23T21:30:43.756Z"
   },
   {
    "duration": 8,
    "start_time": "2023-04-23T21:30:44.739Z"
   },
   {
    "duration": 111,
    "start_time": "2023-04-23T21:30:45.239Z"
   },
   {
    "duration": 12,
    "start_time": "2023-04-23T21:30:47.732Z"
   },
   {
    "duration": 12,
    "start_time": "2023-04-23T21:30:48.185Z"
   },
   {
    "duration": 7,
    "start_time": "2023-04-23T21:30:48.655Z"
   },
   {
    "duration": 11,
    "start_time": "2023-04-23T21:30:49.140Z"
   },
   {
    "duration": 9,
    "start_time": "2023-04-23T21:30:49.627Z"
   },
   {
    "duration": 13,
    "start_time": "2023-04-23T21:30:50.117Z"
   },
   {
    "duration": 12,
    "start_time": "2023-04-23T21:30:50.609Z"
   },
   {
    "duration": 7,
    "start_time": "2023-04-23T21:30:51.076Z"
   },
   {
    "duration": 11,
    "start_time": "2023-04-23T21:30:51.533Z"
   },
   {
    "duration": 9,
    "start_time": "2023-04-23T21:30:51.982Z"
   },
   {
    "duration": 5,
    "start_time": "2023-04-23T21:30:53.412Z"
   },
   {
    "duration": 10,
    "start_time": "2023-04-23T21:30:53.890Z"
   },
   {
    "duration": 10,
    "start_time": "2023-04-23T21:30:54.373Z"
   },
   {
    "duration": 5,
    "start_time": "2023-04-23T21:30:55.413Z"
   },
   {
    "duration": 11,
    "start_time": "2023-04-23T21:30:55.889Z"
   },
   {
    "duration": 9,
    "start_time": "2023-04-23T21:30:56.408Z"
   },
   {
    "duration": 5,
    "start_time": "2023-04-23T21:30:58.390Z"
   },
   {
    "duration": 4,
    "start_time": "2023-04-23T21:30:59.848Z"
   },
   {
    "duration": 6,
    "start_time": "2023-04-23T21:31:01.384Z"
   },
   {
    "duration": 94,
    "start_time": "2023-04-23T21:31:05.389Z"
   },
   {
    "duration": 3,
    "start_time": "2023-04-23T21:32:19.653Z"
   },
   {
    "duration": 4,
    "start_time": "2023-04-23T21:32:40.979Z"
   },
   {
    "duration": 940,
    "start_time": "2023-04-23T21:32:58.248Z"
   },
   {
    "duration": 82,
    "start_time": "2023-04-23T21:32:59.189Z"
   },
   {
    "duration": 13,
    "start_time": "2023-04-23T21:32:59.940Z"
   },
   {
    "duration": 10,
    "start_time": "2023-04-23T21:33:00.506Z"
   },
   {
    "duration": 7,
    "start_time": "2023-04-23T21:33:01.030Z"
   },
   {
    "duration": 13,
    "start_time": "2023-04-23T21:33:02.029Z"
   },
   {
    "duration": 16,
    "start_time": "2023-04-23T21:33:02.911Z"
   },
   {
    "duration": 22,
    "start_time": "2023-04-23T21:33:04.235Z"
   },
   {
    "duration": 43,
    "start_time": "2023-04-23T21:33:05.113Z"
   },
   {
    "duration": 10,
    "start_time": "2023-04-23T21:33:05.556Z"
   },
   {
    "duration": 5,
    "start_time": "2023-04-23T21:33:06.900Z"
   },
   {
    "duration": 4,
    "start_time": "2023-04-23T21:33:07.332Z"
   },
   {
    "duration": 5,
    "start_time": "2023-04-23T21:33:07.727Z"
   },
   {
    "duration": 6,
    "start_time": "2023-04-23T21:33:09.487Z"
   },
   {
    "duration": 5,
    "start_time": "2023-04-23T21:33:09.956Z"
   },
   {
    "duration": 163,
    "start_time": "2023-04-23T21:33:10.353Z"
   },
   {
    "duration": 6,
    "start_time": "2023-04-23T21:33:11.640Z"
   },
   {
    "duration": 152,
    "start_time": "2023-04-23T21:33:12.053Z"
   },
   {
    "duration": 8,
    "start_time": "2023-04-23T21:33:13.352Z"
   },
   {
    "duration": 5,
    "start_time": "2023-04-23T21:33:13.783Z"
   },
   {
    "duration": 283,
    "start_time": "2023-04-23T21:33:14.221Z"
   },
   {
    "duration": 8,
    "start_time": "2023-04-23T21:33:15.523Z"
   },
   {
    "duration": 125,
    "start_time": "2023-04-23T21:33:15.972Z"
   },
   {
    "duration": 8,
    "start_time": "2023-04-23T21:33:17.298Z"
   },
   {
    "duration": 112,
    "start_time": "2023-04-23T21:33:17.778Z"
   },
   {
    "duration": 10,
    "start_time": "2023-04-23T21:33:19.998Z"
   },
   {
    "duration": 13,
    "start_time": "2023-04-23T21:33:20.417Z"
   },
   {
    "duration": 12,
    "start_time": "2023-04-23T21:33:20.867Z"
   },
   {
    "duration": 9,
    "start_time": "2023-04-23T21:33:21.769Z"
   },
   {
    "duration": 12,
    "start_time": "2023-04-23T21:33:22.224Z"
   },
   {
    "duration": 7,
    "start_time": "2023-04-23T21:33:22.631Z"
   },
   {
    "duration": 13,
    "start_time": "2023-04-23T21:33:23.086Z"
   },
   {
    "duration": 9,
    "start_time": "2023-04-23T21:33:24.413Z"
   },
   {
    "duration": 110,
    "start_time": "2023-04-23T21:33:24.877Z"
   },
   {
    "duration": 8,
    "start_time": "2023-04-23T21:33:25.761Z"
   },
   {
    "duration": 113,
    "start_time": "2023-04-23T21:33:26.197Z"
   },
   {
    "duration": 7,
    "start_time": "2023-04-23T21:33:27.441Z"
   },
   {
    "duration": 180,
    "start_time": "2023-04-23T21:33:27.871Z"
   },
   {
    "duration": 8,
    "start_time": "2023-04-23T21:33:28.725Z"
   },
   {
    "duration": 112,
    "start_time": "2023-04-23T21:33:29.153Z"
   },
   {
    "duration": 12,
    "start_time": "2023-04-23T21:33:31.379Z"
   },
   {
    "duration": 12,
    "start_time": "2023-04-23T21:33:31.813Z"
   },
   {
    "duration": 7,
    "start_time": "2023-04-23T21:33:32.287Z"
   },
   {
    "duration": 12,
    "start_time": "2023-04-23T21:33:32.732Z"
   },
   {
    "duration": 9,
    "start_time": "2023-04-23T21:33:33.220Z"
   },
   {
    "duration": 11,
    "start_time": "2023-04-23T21:33:33.688Z"
   },
   {
    "duration": 14,
    "start_time": "2023-04-23T21:33:34.103Z"
   },
   {
    "duration": 7,
    "start_time": "2023-04-23T21:33:34.551Z"
   },
   {
    "duration": 10,
    "start_time": "2023-04-23T21:33:35.009Z"
   },
   {
    "duration": 9,
    "start_time": "2023-04-23T21:33:35.494Z"
   },
   {
    "duration": 4,
    "start_time": "2023-04-23T21:33:36.702Z"
   },
   {
    "duration": 11,
    "start_time": "2023-04-23T21:33:37.135Z"
   },
   {
    "duration": 10,
    "start_time": "2023-04-23T21:33:37.634Z"
   },
   {
    "duration": 5,
    "start_time": "2023-04-23T21:33:38.453Z"
   },
   {
    "duration": 11,
    "start_time": "2023-04-23T21:33:38.908Z"
   },
   {
    "duration": 11,
    "start_time": "2023-04-23T21:33:39.358Z"
   },
   {
    "duration": 5,
    "start_time": "2023-04-23T21:33:41.094Z"
   },
   {
    "duration": 5,
    "start_time": "2023-04-23T21:33:42.546Z"
   },
   {
    "duration": 5,
    "start_time": "2023-04-23T21:33:44.468Z"
   },
   {
    "duration": 4,
    "start_time": "2023-04-23T21:33:47.431Z"
   },
   {
    "duration": 1153,
    "start_time": "2023-04-24T09:07:30.926Z"
   },
   {
    "duration": 93,
    "start_time": "2023-04-24T09:07:32.080Z"
   },
   {
    "duration": 13,
    "start_time": "2023-04-24T09:07:32.174Z"
   },
   {
    "duration": 14,
    "start_time": "2023-04-24T09:07:32.188Z"
   },
   {
    "duration": 6,
    "start_time": "2023-04-24T09:07:32.208Z"
   },
   {
    "duration": 22,
    "start_time": "2023-04-24T09:07:32.216Z"
   },
   {
    "duration": 28,
    "start_time": "2023-04-24T09:07:32.240Z"
   },
   {
    "duration": 21,
    "start_time": "2023-04-24T09:07:32.269Z"
   },
   {
    "duration": 49,
    "start_time": "2023-04-24T09:07:32.300Z"
   },
   {
    "duration": 10,
    "start_time": "2023-04-24T09:07:32.351Z"
   },
   {
    "duration": 5,
    "start_time": "2023-04-24T09:07:32.362Z"
   },
   {
    "duration": 5,
    "start_time": "2023-04-24T09:07:32.368Z"
   },
   {
    "duration": 34,
    "start_time": "2023-04-24T09:07:32.375Z"
   },
   {
    "duration": 8,
    "start_time": "2023-04-24T09:07:32.412Z"
   },
   {
    "duration": 7,
    "start_time": "2023-04-24T09:07:32.421Z"
   },
   {
    "duration": 190,
    "start_time": "2023-04-24T09:07:32.429Z"
   },
   {
    "duration": 5,
    "start_time": "2023-04-24T09:07:32.621Z"
   },
   {
    "duration": 169,
    "start_time": "2023-04-24T09:07:32.628Z"
   },
   {
    "duration": 13,
    "start_time": "2023-04-24T09:07:32.800Z"
   },
   {
    "duration": 9,
    "start_time": "2023-04-24T09:07:32.814Z"
   },
   {
    "duration": 311,
    "start_time": "2023-04-24T09:07:32.824Z"
   },
   {
    "duration": 9,
    "start_time": "2023-04-24T09:07:33.137Z"
   },
   {
    "duration": 166,
    "start_time": "2023-04-24T09:07:33.147Z"
   },
   {
    "duration": 9,
    "start_time": "2023-04-24T09:07:33.315Z"
   },
   {
    "duration": 137,
    "start_time": "2023-04-24T09:07:33.326Z"
   },
   {
    "duration": 9,
    "start_time": "2023-04-24T09:07:33.464Z"
   },
   {
    "duration": 26,
    "start_time": "2023-04-24T09:07:33.475Z"
   },
   {
    "duration": 31,
    "start_time": "2023-04-24T09:07:33.502Z"
   },
   {
    "duration": 8,
    "start_time": "2023-04-24T09:07:33.534Z"
   },
   {
    "duration": 18,
    "start_time": "2023-04-24T09:07:33.544Z"
   },
   {
    "duration": 29,
    "start_time": "2023-04-24T09:07:33.563Z"
   },
   {
    "duration": 23,
    "start_time": "2023-04-24T09:07:33.593Z"
   },
   {
    "duration": 8,
    "start_time": "2023-04-24T09:07:33.618Z"
   },
   {
    "duration": 135,
    "start_time": "2023-04-24T09:07:33.628Z"
   },
   {
    "duration": 7,
    "start_time": "2023-04-24T09:07:33.765Z"
   },
   {
    "duration": 139,
    "start_time": "2023-04-24T09:07:33.774Z"
   },
   {
    "duration": 8,
    "start_time": "2023-04-24T09:07:33.914Z"
   },
   {
    "duration": 231,
    "start_time": "2023-04-24T09:07:33.923Z"
   },
   {
    "duration": 12,
    "start_time": "2023-04-24T09:07:34.157Z"
   },
   {
    "duration": 160,
    "start_time": "2023-04-24T09:07:34.171Z"
   },
   {
    "duration": 13,
    "start_time": "2023-04-24T09:07:34.334Z"
   },
   {
    "duration": 11,
    "start_time": "2023-04-24T09:07:34.349Z"
   },
   {
    "duration": 10,
    "start_time": "2023-04-24T09:07:34.362Z"
   },
   {
    "duration": 38,
    "start_time": "2023-04-24T09:07:34.374Z"
   },
   {
    "duration": 9,
    "start_time": "2023-04-24T09:07:34.414Z"
   },
   {
    "duration": 16,
    "start_time": "2023-04-24T09:07:34.425Z"
   },
   {
    "duration": 12,
    "start_time": "2023-04-24T09:07:34.443Z"
   },
   {
    "duration": 11,
    "start_time": "2023-04-24T09:07:34.457Z"
   },
   {
    "duration": 14,
    "start_time": "2023-04-24T09:07:34.469Z"
   },
   {
    "duration": 24,
    "start_time": "2023-04-24T09:07:34.484Z"
   },
   {
    "duration": 7,
    "start_time": "2023-04-24T09:07:34.509Z"
   },
   {
    "duration": 22,
    "start_time": "2023-04-24T09:07:34.517Z"
   },
   {
    "duration": 11,
    "start_time": "2023-04-24T09:07:34.540Z"
   },
   {
    "duration": 11,
    "start_time": "2023-04-24T09:07:34.553Z"
   },
   {
    "duration": 13,
    "start_time": "2023-04-24T09:07:34.565Z"
   },
   {
    "duration": 26,
    "start_time": "2023-04-24T09:07:34.580Z"
   },
   {
    "duration": 6,
    "start_time": "2023-04-24T09:07:34.609Z"
   },
   {
    "duration": 9,
    "start_time": "2023-04-24T09:07:34.616Z"
   },
   {
    "duration": 5,
    "start_time": "2023-04-24T09:07:34.626Z"
   },
   {
    "duration": 5,
    "start_time": "2023-04-24T09:07:34.633Z"
   },
   {
    "duration": 7,
    "start_time": "2023-04-24T09:11:27.543Z"
   },
   {
    "duration": 144,
    "start_time": "2023-04-24T09:14:59.592Z"
   },
   {
    "duration": 121,
    "start_time": "2023-04-24T09:15:58.672Z"
   },
   {
    "duration": 16,
    "start_time": "2023-04-24T09:18:57.582Z"
   },
   {
    "duration": 1098,
    "start_time": "2023-04-24T09:19:14.858Z"
   },
   {
    "duration": 87,
    "start_time": "2023-04-24T09:19:15.958Z"
   },
   {
    "duration": 12,
    "start_time": "2023-04-24T09:19:16.046Z"
   },
   {
    "duration": 11,
    "start_time": "2023-04-24T09:19:16.060Z"
   },
   {
    "duration": 16,
    "start_time": "2023-04-24T09:19:16.072Z"
   },
   {
    "duration": 22,
    "start_time": "2023-04-24T09:19:16.089Z"
   },
   {
    "duration": 21,
    "start_time": "2023-04-24T09:19:16.112Z"
   },
   {
    "duration": 21,
    "start_time": "2023-04-24T09:19:16.135Z"
   },
   {
    "duration": 66,
    "start_time": "2023-04-24T09:19:16.158Z"
   },
   {
    "duration": 10,
    "start_time": "2023-04-24T09:19:16.226Z"
   },
   {
    "duration": 5,
    "start_time": "2023-04-24T09:19:16.238Z"
   },
   {
    "duration": 9,
    "start_time": "2023-04-24T09:19:16.244Z"
   },
   {
    "duration": 17,
    "start_time": "2023-04-24T09:19:16.254Z"
   },
   {
    "duration": 7,
    "start_time": "2023-04-24T09:19:16.272Z"
   },
   {
    "duration": 12,
    "start_time": "2023-04-24T09:19:16.298Z"
   },
   {
    "duration": 6,
    "start_time": "2023-04-24T09:19:16.312Z"
   },
   {
    "duration": 199,
    "start_time": "2023-04-24T09:19:16.319Z"
   },
   {
    "duration": 5,
    "start_time": "2023-04-24T09:19:16.520Z"
   },
   {
    "duration": 188,
    "start_time": "2023-04-24T09:19:16.527Z"
   },
   {
    "duration": 8,
    "start_time": "2023-04-24T09:19:16.717Z"
   },
   {
    "duration": 5,
    "start_time": "2023-04-24T09:19:16.726Z"
   },
   {
    "duration": 321,
    "start_time": "2023-04-24T09:19:16.733Z"
   },
   {
    "duration": 8,
    "start_time": "2023-04-24T09:19:17.056Z"
   },
   {
    "duration": 163,
    "start_time": "2023-04-24T09:19:17.065Z"
   },
   {
    "duration": 10,
    "start_time": "2023-04-24T09:19:17.230Z"
   },
   {
    "duration": 140,
    "start_time": "2023-04-24T09:19:17.242Z"
   },
   {
    "duration": 20,
    "start_time": "2023-04-24T09:19:17.384Z"
   },
   {
    "duration": 17,
    "start_time": "2023-04-24T09:19:17.408Z"
   },
   {
    "duration": 15,
    "start_time": "2023-04-24T09:19:17.427Z"
   },
   {
    "duration": 15,
    "start_time": "2023-04-24T09:19:17.443Z"
   },
   {
    "duration": 9,
    "start_time": "2023-04-24T09:19:17.460Z"
   },
   {
    "duration": 19,
    "start_time": "2023-04-24T09:19:17.494Z"
   },
   {
    "duration": 7,
    "start_time": "2023-04-24T09:19:17.515Z"
   },
   {
    "duration": 16,
    "start_time": "2023-04-24T09:19:17.523Z"
   },
   {
    "duration": 17,
    "start_time": "2023-04-24T09:19:17.541Z"
   },
   {
    "duration": 146,
    "start_time": "2023-04-24T09:19:17.559Z"
   },
   {
    "duration": 10,
    "start_time": "2023-04-24T09:19:17.711Z"
   },
   {
    "duration": 125,
    "start_time": "2023-04-24T09:19:17.723Z"
   },
   {
    "duration": 8,
    "start_time": "2023-04-24T09:19:17.850Z"
   },
   {
    "duration": 207,
    "start_time": "2023-04-24T09:19:17.860Z"
   },
   {
    "duration": 8,
    "start_time": "2023-04-24T09:19:18.068Z"
   },
   {
    "duration": 154,
    "start_time": "2023-04-24T09:19:18.077Z"
   },
   {
    "duration": 12,
    "start_time": "2023-04-24T09:19:18.233Z"
   },
   {
    "duration": 20,
    "start_time": "2023-04-24T09:19:18.247Z"
   },
   {
    "duration": 10,
    "start_time": "2023-04-24T09:19:18.269Z"
   },
   {
    "duration": 25,
    "start_time": "2023-04-24T09:19:18.281Z"
   },
   {
    "duration": 11,
    "start_time": "2023-04-24T09:19:18.307Z"
   },
   {
    "duration": 34,
    "start_time": "2023-04-24T09:19:18.319Z"
   },
   {
    "duration": 11,
    "start_time": "2023-04-24T09:19:18.355Z"
   },
   {
    "duration": 7,
    "start_time": "2023-04-24T09:19:18.368Z"
   },
   {
    "duration": 12,
    "start_time": "2023-04-24T09:19:18.376Z"
   },
   {
    "duration": 19,
    "start_time": "2023-04-24T09:19:18.390Z"
   },
   {
    "duration": 13,
    "start_time": "2023-04-24T09:19:18.410Z"
   },
   {
    "duration": 17,
    "start_time": "2023-04-24T09:19:18.424Z"
   },
   {
    "duration": 10,
    "start_time": "2023-04-24T09:19:18.443Z"
   },
   {
    "duration": 7,
    "start_time": "2023-04-24T09:19:18.454Z"
   },
   {
    "duration": 15,
    "start_time": "2023-04-24T09:19:18.463Z"
   },
   {
    "duration": 29,
    "start_time": "2023-04-24T09:19:18.479Z"
   },
   {
    "duration": 7,
    "start_time": "2023-04-24T09:19:18.510Z"
   },
   {
    "duration": 17,
    "start_time": "2023-04-24T09:19:18.518Z"
   },
   {
    "duration": 7,
    "start_time": "2023-04-24T09:19:18.536Z"
   },
   {
    "duration": 9,
    "start_time": "2023-04-24T09:19:18.544Z"
   },
   {
    "duration": 10,
    "start_time": "2023-04-24T09:21:44.518Z"
   },
   {
    "duration": 229,
    "start_time": "2023-04-24T09:22:21.292Z"
   },
   {
    "duration": 136,
    "start_time": "2023-04-24T09:22:53.021Z"
   },
   {
    "duration": 5,
    "start_time": "2023-04-24T09:27:19.792Z"
   },
   {
    "duration": 50,
    "start_time": "2023-04-24T10:48:13.641Z"
   },
   {
    "duration": 1265,
    "start_time": "2023-04-24T10:48:25.931Z"
   },
   {
    "duration": 211,
    "start_time": "2023-04-24T10:48:27.199Z"
   },
   {
    "duration": 13,
    "start_time": "2023-04-24T10:48:27.411Z"
   },
   {
    "duration": 8,
    "start_time": "2023-04-24T10:48:27.426Z"
   },
   {
    "duration": 8,
    "start_time": "2023-04-24T10:48:27.436Z"
   },
   {
    "duration": 17,
    "start_time": "2023-04-24T10:48:27.445Z"
   },
   {
    "duration": 17,
    "start_time": "2023-04-24T10:48:28.253Z"
   },
   {
    "duration": 22,
    "start_time": "2023-04-24T10:48:29.991Z"
   },
   {
    "duration": 48,
    "start_time": "2023-04-24T10:48:32.076Z"
   },
   {
    "duration": 10,
    "start_time": "2023-04-24T10:48:34.076Z"
   },
   {
    "duration": 6,
    "start_time": "2023-04-24T10:48:35.734Z"
   },
   {
    "duration": 5,
    "start_time": "2023-04-24T10:48:38.531Z"
   },
   {
    "duration": 5,
    "start_time": "2023-04-24T10:48:39.875Z"
   },
   {
    "duration": 5,
    "start_time": "2023-04-24T10:48:42.979Z"
   },
   {
    "duration": 8,
    "start_time": "2023-04-24T10:48:43.672Z"
   },
   {
    "duration": 8,
    "start_time": "2023-04-24T10:49:49.120Z"
   },
   {
    "duration": 7,
    "start_time": "2023-04-24T10:50:43.645Z"
   },
   {
    "duration": 7,
    "start_time": "2023-04-24T10:51:03.927Z"
   },
   {
    "duration": 5,
    "start_time": "2023-04-24T10:53:33.789Z"
   },
   {
    "duration": 5,
    "start_time": "2023-04-24T10:53:47.860Z"
   },
   {
    "duration": 6,
    "start_time": "2023-04-24T11:15:38.346Z"
   },
   {
    "duration": 5,
    "start_time": "2023-04-24T11:15:46.629Z"
   },
   {
    "duration": 5,
    "start_time": "2023-04-24T11:15:56.649Z"
   },
   {
    "duration": 11,
    "start_time": "2023-04-24T11:16:54.168Z"
   },
   {
    "duration": 11,
    "start_time": "2023-04-24T11:18:03.353Z"
   },
   {
    "duration": 15,
    "start_time": "2023-04-24T11:18:25.064Z"
   },
   {
    "duration": 6,
    "start_time": "2023-04-24T11:23:34.640Z"
   },
   {
    "duration": 5,
    "start_time": "2023-04-24T11:23:35.243Z"
   },
   {
    "duration": 8,
    "start_time": "2023-04-24T11:24:30.775Z"
   },
   {
    "duration": 7,
    "start_time": "2023-04-24T11:31:43.114Z"
   },
   {
    "duration": 8,
    "start_time": "2023-04-24T11:33:24.693Z"
   },
   {
    "duration": 74,
    "start_time": "2023-04-24T11:38:56.060Z"
   },
   {
    "duration": 4,
    "start_time": "2023-04-24T11:39:05.317Z"
   },
   {
    "duration": 88,
    "start_time": "2023-04-24T11:39:05.490Z"
   },
   {
    "duration": 9,
    "start_time": "2023-04-24T11:39:05.835Z"
   },
   {
    "duration": 10,
    "start_time": "2023-04-24T11:39:06.021Z"
   },
   {
    "duration": 9,
    "start_time": "2023-04-24T11:39:06.171Z"
   },
   {
    "duration": 14,
    "start_time": "2023-04-24T11:39:06.518Z"
   },
   {
    "duration": 18,
    "start_time": "2023-04-24T11:39:06.859Z"
   },
   {
    "duration": 26,
    "start_time": "2023-04-24T11:39:07.547Z"
   },
   {
    "duration": 12,
    "start_time": "2023-04-24T11:39:08.066Z"
   },
   {
    "duration": 12,
    "start_time": "2023-04-24T11:39:08.251Z"
   },
   {
    "duration": 6,
    "start_time": "2023-04-24T11:39:08.779Z"
   },
   {
    "duration": 6,
    "start_time": "2023-04-24T11:39:08.963Z"
   },
   {
    "duration": 7,
    "start_time": "2023-04-24T11:39:09.131Z"
   },
   {
    "duration": 7,
    "start_time": "2023-04-24T11:39:09.666Z"
   },
   {
    "duration": 14,
    "start_time": "2023-04-24T11:39:10.019Z"
   },
   {
    "duration": 7,
    "start_time": "2023-04-24T11:39:10.354Z"
   },
   {
    "duration": 6,
    "start_time": "2023-04-24T11:39:10.539Z"
   },
   {
    "duration": 8,
    "start_time": "2023-04-24T11:39:10.712Z"
   },
   {
    "duration": 8,
    "start_time": "2023-04-24T11:39:11.394Z"
   },
   {
    "duration": 7,
    "start_time": "2023-04-24T11:39:11.570Z"
   },
   {
    "duration": 9,
    "start_time": "2023-04-24T11:39:11.739Z"
   },
   {
    "duration": 5,
    "start_time": "2023-04-24T11:39:12.434Z"
   },
   {
    "duration": 160,
    "start_time": "2023-04-24T11:39:12.619Z"
   },
   {
    "duration": 9,
    "start_time": "2023-04-24T11:39:13.396Z"
   },
   {
    "duration": 5,
    "start_time": "2023-04-24T11:39:13.627Z"
   },
   {
    "duration": 295,
    "start_time": "2023-04-24T11:39:13.818Z"
   },
   {
    "duration": 8,
    "start_time": "2023-04-24T11:39:14.562Z"
   },
   {
    "duration": 124,
    "start_time": "2023-04-24T11:39:15.607Z"
   },
   {
    "duration": 8,
    "start_time": "2023-04-24T11:39:16.417Z"
   },
   {
    "duration": 117,
    "start_time": "2023-04-24T11:39:16.618Z"
   },
   {
    "duration": 9,
    "start_time": "2023-04-24T11:39:17.819Z"
   },
   {
    "duration": 13,
    "start_time": "2023-04-24T11:39:18.027Z"
   },
   {
    "duration": 18,
    "start_time": "2023-04-24T11:39:18.226Z"
   },
   {
    "duration": 19,
    "start_time": "2023-04-24T11:39:18.635Z"
   },
   {
    "duration": 11,
    "start_time": "2023-04-24T11:39:19.266Z"
   },
   {
    "duration": 20,
    "start_time": "2023-04-24T11:39:19.482Z"
   },
   {
    "duration": 6,
    "start_time": "2023-04-24T11:39:19.674Z"
   },
   {
    "duration": 13,
    "start_time": "2023-04-24T11:39:19.866Z"
   },
   {
    "duration": 9,
    "start_time": "2023-04-24T11:39:20.433Z"
   },
   {
    "duration": 130,
    "start_time": "2023-04-24T11:39:20.626Z"
   },
   {
    "duration": 8,
    "start_time": "2023-04-24T11:39:21.034Z"
   },
   {
    "duration": 154,
    "start_time": "2023-04-24T11:39:21.242Z"
   },
   {
    "duration": 10,
    "start_time": "2023-04-24T11:39:21.828Z"
   },
   {
    "duration": 121,
    "start_time": "2023-04-24T11:39:22.018Z"
   },
   {
    "duration": 8,
    "start_time": "2023-04-24T11:39:22.413Z"
   },
   {
    "duration": 172,
    "start_time": "2023-04-24T11:39:22.617Z"
   },
   {
    "duration": 11,
    "start_time": "2023-04-24T11:39:23.794Z"
   },
   {
    "duration": 11,
    "start_time": "2023-04-24T11:39:23.986Z"
   },
   {
    "duration": 9,
    "start_time": "2023-04-24T11:39:24.169Z"
   },
   {
    "duration": 12,
    "start_time": "2023-04-24T11:39:24.370Z"
   },
   {
    "duration": 13,
    "start_time": "2023-04-24T11:39:24.581Z"
   },
   {
    "duration": 12,
    "start_time": "2023-04-24T11:39:24.889Z"
   },
   {
    "duration": 12,
    "start_time": "2023-04-24T11:39:25.066Z"
   },
   {
    "duration": 8,
    "start_time": "2023-04-24T11:39:25.257Z"
   },
   {
    "duration": 11,
    "start_time": "2023-04-24T11:39:25.452Z"
   },
   {
    "duration": 9,
    "start_time": "2023-04-24T11:39:25.634Z"
   },
   {
    "duration": 5,
    "start_time": "2023-04-24T11:39:26.193Z"
   },
   {
    "duration": 13,
    "start_time": "2023-04-24T11:39:26.393Z"
   },
   {
    "duration": 16,
    "start_time": "2023-04-24T11:39:26.585Z"
   },
   {
    "duration": 5,
    "start_time": "2023-04-24T11:39:26.969Z"
   },
   {
    "duration": 11,
    "start_time": "2023-04-24T11:39:27.153Z"
   },
   {
    "duration": 11,
    "start_time": "2023-04-24T11:39:27.346Z"
   },
   {
    "duration": 6,
    "start_time": "2023-04-24T11:39:28.537Z"
   },
   {
    "duration": 5,
    "start_time": "2023-04-24T11:39:29.393Z"
   },
   {
    "duration": 5,
    "start_time": "2023-04-24T11:39:30.426Z"
   },
   {
    "duration": 5,
    "start_time": "2023-04-24T11:39:32.577Z"
   },
   {
    "duration": 164,
    "start_time": "2023-04-24T11:40:53.854Z"
   },
   {
    "duration": 108,
    "start_time": "2023-04-24T11:42:26.338Z"
   },
   {
    "duration": 11,
    "start_time": "2023-04-24T11:42:37.856Z"
   },
   {
    "duration": 18411,
    "start_time": "2023-04-24T11:43:09.410Z"
   },
   {
    "duration": 15,
    "start_time": "2023-04-24T11:43:41.469Z"
   },
   {
    "duration": 131,
    "start_time": "2023-04-24T11:46:35.956Z"
   },
   {
    "duration": 169,
    "start_time": "2023-04-24T11:46:49.445Z"
   },
   {
    "duration": 152,
    "start_time": "2023-04-24T11:48:45.073Z"
   },
   {
    "duration": 305,
    "start_time": "2023-04-24T11:50:19.961Z"
   },
   {
    "duration": 9,
    "start_time": "2023-04-24T11:51:54.888Z"
   },
   {
    "duration": 15,
    "start_time": "2023-04-24T11:52:07.899Z"
   },
   {
    "duration": 138,
    "start_time": "2023-04-24T11:54:41.821Z"
   },
   {
    "duration": 137,
    "start_time": "2023-04-24T11:54:56.228Z"
   },
   {
    "duration": 1252,
    "start_time": "2023-04-24T11:58:02.102Z"
   },
   {
    "duration": 7,
    "start_time": "2023-04-24T11:58:21.617Z"
   },
   {
    "duration": 104,
    "start_time": "2023-04-24T12:00:53.761Z"
   },
   {
    "duration": 237,
    "start_time": "2023-04-24T12:08:00.715Z"
   },
   {
    "duration": 233,
    "start_time": "2023-04-24T12:08:18.251Z"
   },
   {
    "duration": 166,
    "start_time": "2023-04-24T12:08:29.139Z"
   },
   {
    "duration": 197,
    "start_time": "2023-04-24T12:08:38.393Z"
   },
   {
    "duration": 210,
    "start_time": "2023-04-24T12:10:34.332Z"
   },
   {
    "duration": 229,
    "start_time": "2023-04-24T12:12:09.776Z"
   },
   {
    "duration": 391,
    "start_time": "2023-04-24T12:24:35.762Z"
   },
   {
    "duration": 6,
    "start_time": "2023-04-24T12:39:03.831Z"
   },
   {
    "duration": 5,
    "start_time": "2023-04-24T12:42:21.819Z"
   },
   {
    "duration": 5,
    "start_time": "2023-04-24T12:46:50.783Z"
   },
   {
    "duration": 1060,
    "start_time": "2023-04-24T12:56:43.086Z"
   },
   {
    "duration": 90,
    "start_time": "2023-04-24T12:56:44.148Z"
   },
   {
    "duration": 12,
    "start_time": "2023-04-24T12:56:44.348Z"
   },
   {
    "duration": 12,
    "start_time": "2023-04-24T12:56:44.804Z"
   },
   {
    "duration": 6,
    "start_time": "2023-04-24T12:56:45.228Z"
   },
   {
    "duration": 14,
    "start_time": "2023-04-24T12:56:46.063Z"
   },
   {
    "duration": 18,
    "start_time": "2023-04-24T12:56:46.884Z"
   },
   {
    "duration": 22,
    "start_time": "2023-04-24T12:56:48.548Z"
   },
   {
    "duration": 55,
    "start_time": "2023-04-24T12:56:49.723Z"
   },
   {
    "duration": 9,
    "start_time": "2023-04-24T12:56:50.124Z"
   },
   {
    "duration": 6,
    "start_time": "2023-04-24T12:56:51.292Z"
   },
   {
    "duration": 5,
    "start_time": "2023-04-24T12:56:51.690Z"
   },
   {
    "duration": 6,
    "start_time": "2023-04-24T12:56:52.090Z"
   },
   {
    "duration": 6,
    "start_time": "2023-04-24T12:56:53.251Z"
   },
   {
    "duration": 13,
    "start_time": "2023-04-24T12:56:53.924Z"
   },
   {
    "duration": 5,
    "start_time": "2023-04-24T12:56:54.684Z"
   },
   {
    "duration": 7,
    "start_time": "2023-04-24T12:56:55.099Z"
   },
   {
    "duration": 8,
    "start_time": "2023-04-24T12:56:55.486Z"
   },
   {
    "duration": 6,
    "start_time": "2023-04-24T12:56:56.747Z"
   },
   {
    "duration": 5,
    "start_time": "2023-04-24T12:56:57.089Z"
   },
   {
    "duration": 185,
    "start_time": "2023-04-24T12:56:57.419Z"
   },
   {
    "duration": 135,
    "start_time": "2023-04-24T12:56:58.291Z"
   },
   {
    "duration": 5,
    "start_time": "2023-04-24T12:56:59.177Z"
   },
   {
    "duration": 150,
    "start_time": "2023-04-24T12:56:59.525Z"
   },
   {
    "duration": 8,
    "start_time": "2023-04-24T12:57:00.732Z"
   },
   {
    "duration": 6,
    "start_time": "2023-04-24T12:57:01.079Z"
   },
   {
    "duration": 285,
    "start_time": "2023-04-24T12:57:01.355Z"
   },
   {
    "duration": 8,
    "start_time": "2023-04-24T12:57:02.746Z"
   },
   {
    "duration": 110,
    "start_time": "2023-04-24T12:57:03.099Z"
   },
   {
    "duration": 9,
    "start_time": "2023-04-24T12:57:04.051Z"
   },
   {
    "duration": 163,
    "start_time": "2023-04-24T12:57:04.388Z"
   },
   {
    "duration": 212,
    "start_time": "2023-04-24T12:57:05.578Z"
   },
   {
    "duration": 7,
    "start_time": "2023-04-24T12:57:06.515Z"
   },
   {
    "duration": 178,
    "start_time": "2023-04-24T12:57:06.827Z"
   },
   {
    "duration": 9,
    "start_time": "2023-04-24T12:57:08.643Z"
   },
   {
    "duration": 13,
    "start_time": "2023-04-24T12:57:08.978Z"
   },
   {
    "duration": 12,
    "start_time": "2023-04-24T12:57:09.251Z"
   },
   {
    "duration": 14,
    "start_time": "2023-04-24T12:57:10.114Z"
   },
   {
    "duration": 8,
    "start_time": "2023-04-24T12:57:11.077Z"
   },
   {
    "duration": 16,
    "start_time": "2023-04-24T12:57:11.348Z"
   },
   {
    "duration": 6,
    "start_time": "2023-04-24T12:57:11.678Z"
   },
   {
    "duration": 13,
    "start_time": "2023-04-24T12:57:12.003Z"
   },
   {
    "duration": 8,
    "start_time": "2023-04-24T12:57:12.885Z"
   },
   {
    "duration": 123,
    "start_time": "2023-04-24T12:57:13.181Z"
   },
   {
    "duration": 8,
    "start_time": "2023-04-24T12:57:13.730Z"
   },
   {
    "duration": 120,
    "start_time": "2023-04-24T12:57:14.034Z"
   },
   {
    "duration": 8,
    "start_time": "2023-04-24T12:57:14.955Z"
   },
   {
    "duration": 125,
    "start_time": "2023-04-24T12:57:15.250Z"
   },
   {
    "duration": 7,
    "start_time": "2023-04-24T12:57:15.786Z"
   },
   {
    "duration": 122,
    "start_time": "2023-04-24T12:57:16.050Z"
   },
   {
    "duration": 12,
    "start_time": "2023-04-24T12:57:17.995Z"
   },
   {
    "duration": 11,
    "start_time": "2023-04-24T12:57:18.283Z"
   },
   {
    "duration": 7,
    "start_time": "2023-04-24T12:57:18.539Z"
   },
   {
    "duration": 10,
    "start_time": "2023-04-24T12:57:18.779Z"
   },
   {
    "duration": 9,
    "start_time": "2023-04-24T12:57:18.994Z"
   },
   {
    "duration": 10,
    "start_time": "2023-04-24T12:57:19.226Z"
   },
   {
    "duration": 11,
    "start_time": "2023-04-24T12:57:19.450Z"
   },
   {
    "duration": 8,
    "start_time": "2023-04-24T12:57:19.782Z"
   },
   {
    "duration": 12,
    "start_time": "2023-04-24T12:57:20.010Z"
   },
   {
    "duration": 9,
    "start_time": "2023-04-24T12:57:20.226Z"
   },
   {
    "duration": 5,
    "start_time": "2023-04-24T12:57:20.980Z"
   },
   {
    "duration": 13,
    "start_time": "2023-04-24T12:57:21.242Z"
   },
   {
    "duration": 12,
    "start_time": "2023-04-24T12:57:21.481Z"
   },
   {
    "duration": 5,
    "start_time": "2023-04-24T12:57:22.009Z"
   },
   {
    "duration": 12,
    "start_time": "2023-04-24T12:57:22.378Z"
   },
   {
    "duration": 12,
    "start_time": "2023-04-24T12:57:22.626Z"
   },
   {
    "duration": 4,
    "start_time": "2023-04-24T12:57:24.298Z"
   },
   {
    "duration": 5,
    "start_time": "2023-04-24T12:57:25.745Z"
   },
   {
    "duration": 6,
    "start_time": "2023-04-24T12:57:27.281Z"
   },
   {
    "duration": 5,
    "start_time": "2023-04-24T12:57:30.193Z"
   },
   {
    "duration": 1131,
    "start_time": "2023-04-24T17:11:38.571Z"
   },
   {
    "duration": 86,
    "start_time": "2023-04-24T17:11:39.704Z"
   },
   {
    "duration": 22,
    "start_time": "2023-04-24T17:11:39.792Z"
   },
   {
    "duration": 12,
    "start_time": "2023-04-24T17:11:39.817Z"
   },
   {
    "duration": 29,
    "start_time": "2023-04-24T17:11:39.831Z"
   },
   {
    "duration": 23,
    "start_time": "2023-04-24T17:11:39.862Z"
   },
   {
    "duration": 18,
    "start_time": "2023-04-24T17:11:39.888Z"
   },
   {
    "duration": 24,
    "start_time": "2023-04-24T17:11:39.907Z"
   },
   {
    "duration": 67,
    "start_time": "2023-04-24T17:11:39.932Z"
   },
   {
    "duration": 9,
    "start_time": "2023-04-24T17:11:40.003Z"
   },
   {
    "duration": 17,
    "start_time": "2023-04-24T17:11:40.014Z"
   },
   {
    "duration": 15,
    "start_time": "2023-04-24T17:11:40.033Z"
   },
   {
    "duration": 24,
    "start_time": "2023-04-24T17:11:40.050Z"
   },
   {
    "duration": 22,
    "start_time": "2023-04-24T17:11:40.075Z"
   },
   {
    "duration": 27,
    "start_time": "2023-04-24T17:11:40.099Z"
   },
   {
    "duration": 9,
    "start_time": "2023-04-24T17:11:40.128Z"
   },
   {
    "duration": 12,
    "start_time": "2023-04-24T17:11:40.138Z"
   },
   {
    "duration": 16,
    "start_time": "2023-04-24T17:11:40.152Z"
   },
   {
    "duration": 7,
    "start_time": "2023-04-24T17:11:40.170Z"
   },
   {
    "duration": 8,
    "start_time": "2023-04-24T17:11:40.179Z"
   },
   {
    "duration": 196,
    "start_time": "2023-04-24T17:11:40.189Z"
   },
   {
    "duration": 162,
    "start_time": "2023-04-24T17:11:40.387Z"
   },
   {
    "duration": 6,
    "start_time": "2023-04-24T17:11:40.551Z"
   },
   {
    "duration": 172,
    "start_time": "2023-04-24T17:11:40.558Z"
   },
   {
    "duration": 9,
    "start_time": "2023-04-24T17:11:40.731Z"
   },
   {
    "duration": 19,
    "start_time": "2023-04-24T17:11:40.742Z"
   },
   {
    "duration": 304,
    "start_time": "2023-04-24T17:11:40.763Z"
   },
   {
    "duration": 17,
    "start_time": "2023-04-24T17:11:41.072Z"
   },
   {
    "duration": 114,
    "start_time": "2023-04-24T17:11:41.091Z"
   },
   {
    "duration": 9,
    "start_time": "2023-04-24T17:11:41.207Z"
   },
   {
    "duration": 142,
    "start_time": "2023-04-24T17:11:41.218Z"
   },
   {
    "duration": 224,
    "start_time": "2023-04-24T17:11:41.362Z"
   },
   {
    "duration": 10,
    "start_time": "2023-04-24T17:11:41.587Z"
   },
   {
    "duration": 207,
    "start_time": "2023-04-24T17:11:41.599Z"
   },
   {
    "duration": 10,
    "start_time": "2023-04-24T17:11:41.808Z"
   },
   {
    "duration": 13,
    "start_time": "2023-04-24T17:11:41.820Z"
   },
   {
    "duration": 20,
    "start_time": "2023-04-24T17:11:41.834Z"
   },
   {
    "duration": 34,
    "start_time": "2023-04-24T17:11:41.856Z"
   },
   {
    "duration": 7,
    "start_time": "2023-04-24T17:11:41.892Z"
   },
   {
    "duration": 14,
    "start_time": "2023-04-24T17:11:41.900Z"
   },
   {
    "duration": 10,
    "start_time": "2023-04-24T17:11:41.915Z"
   },
   {
    "duration": 25,
    "start_time": "2023-04-24T17:11:41.926Z"
   },
   {
    "duration": 11,
    "start_time": "2023-04-24T17:11:41.953Z"
   },
   {
    "duration": 143,
    "start_time": "2023-04-24T17:11:41.966Z"
   },
   {
    "duration": 7,
    "start_time": "2023-04-24T17:11:42.111Z"
   },
   {
    "duration": 132,
    "start_time": "2023-04-24T17:11:42.120Z"
   },
   {
    "duration": 7,
    "start_time": "2023-04-24T17:11:42.254Z"
   },
   {
    "duration": 134,
    "start_time": "2023-04-24T17:11:42.263Z"
   },
   {
    "duration": 7,
    "start_time": "2023-04-24T17:11:42.399Z"
   },
   {
    "duration": 138,
    "start_time": "2023-04-24T17:11:42.408Z"
   },
   {
    "duration": 13,
    "start_time": "2023-04-24T17:11:42.548Z"
   },
   {
    "duration": 24,
    "start_time": "2023-04-24T17:11:42.563Z"
   },
   {
    "duration": 7,
    "start_time": "2023-04-24T17:11:42.589Z"
   },
   {
    "duration": 12,
    "start_time": "2023-04-24T17:11:42.598Z"
   },
   {
    "duration": 21,
    "start_time": "2023-04-24T17:11:42.612Z"
   },
   {
    "duration": 19,
    "start_time": "2023-04-24T17:11:42.634Z"
   },
   {
    "duration": 14,
    "start_time": "2023-04-24T17:11:42.655Z"
   },
   {
    "duration": 17,
    "start_time": "2023-04-24T17:11:42.671Z"
   },
   {
    "duration": 17,
    "start_time": "2023-04-24T17:11:42.690Z"
   },
   {
    "duration": 10,
    "start_time": "2023-04-24T17:11:42.709Z"
   },
   {
    "duration": 10,
    "start_time": "2023-04-24T17:11:42.720Z"
   },
   {
    "duration": 18,
    "start_time": "2023-04-24T17:11:42.732Z"
   },
   {
    "duration": 16,
    "start_time": "2023-04-24T17:11:42.751Z"
   },
   {
    "duration": 4,
    "start_time": "2023-04-24T17:11:42.783Z"
   },
   {
    "duration": 17,
    "start_time": "2023-04-24T17:11:42.789Z"
   },
   {
    "duration": 11,
    "start_time": "2023-04-24T17:11:42.807Z"
   },
   {
    "duration": 14,
    "start_time": "2023-04-24T17:11:42.820Z"
   },
   {
    "duration": 6,
    "start_time": "2023-04-24T17:11:42.835Z"
   },
   {
    "duration": 14,
    "start_time": "2023-04-24T17:11:42.842Z"
   },
   {
    "duration": 15,
    "start_time": "2023-04-24T17:11:42.858Z"
   },
   {
    "duration": 7,
    "start_time": "2023-04-24T17:18:34.771Z"
   },
   {
    "duration": 144,
    "start_time": "2023-04-24T17:19:28.977Z"
   },
   {
    "duration": 170,
    "start_time": "2023-04-24T17:19:38.813Z"
   },
   {
    "duration": 5,
    "start_time": "2023-04-24T17:21:07.323Z"
   },
   {
    "duration": 108,
    "start_time": "2023-04-24T17:21:16.260Z"
   },
   {
    "duration": 159,
    "start_time": "2023-04-24T17:21:42.184Z"
   },
   {
    "duration": 195,
    "start_time": "2023-04-24T17:22:48.992Z"
   },
   {
    "duration": 382,
    "start_time": "2023-04-24T17:23:02.942Z"
   },
   {
    "duration": 1508,
    "start_time": "2023-04-24T17:34:09.479Z"
   },
   {
    "duration": 252,
    "start_time": "2023-04-24T17:34:10.990Z"
   },
   {
    "duration": 17,
    "start_time": "2023-04-24T17:34:11.244Z"
   },
   {
    "duration": 17,
    "start_time": "2023-04-24T17:34:11.264Z"
   },
   {
    "duration": 12,
    "start_time": "2023-04-24T17:34:11.283Z"
   },
   {
    "duration": 44,
    "start_time": "2023-04-24T17:34:11.297Z"
   },
   {
    "duration": 32,
    "start_time": "2023-04-24T17:34:11.343Z"
   },
   {
    "duration": 28,
    "start_time": "2023-04-24T17:34:11.715Z"
   },
   {
    "duration": 58,
    "start_time": "2023-04-24T17:34:12.390Z"
   },
   {
    "duration": 14,
    "start_time": "2023-04-24T17:34:12.568Z"
   },
   {
    "duration": 8,
    "start_time": "2023-04-24T17:34:13.099Z"
   },
   {
    "duration": 6,
    "start_time": "2023-04-24T17:34:13.288Z"
   },
   {
    "duration": 8,
    "start_time": "2023-04-24T17:34:13.479Z"
   },
   {
    "duration": 7,
    "start_time": "2023-04-24T17:34:14.716Z"
   },
   {
    "duration": 16,
    "start_time": "2023-04-24T17:34:15.090Z"
   },
   {
    "duration": 6,
    "start_time": "2023-04-24T17:34:15.451Z"
   },
   {
    "duration": 8,
    "start_time": "2023-04-24T17:34:15.648Z"
   },
   {
    "duration": 13,
    "start_time": "2023-04-24T17:34:16.024Z"
   },
   {
    "duration": 9,
    "start_time": "2023-04-24T17:34:16.744Z"
   },
   {
    "duration": 6,
    "start_time": "2023-04-24T17:34:16.944Z"
   },
   {
    "duration": 232,
    "start_time": "2023-04-24T17:34:17.120Z"
   },
   {
    "duration": 165,
    "start_time": "2023-04-24T17:34:17.655Z"
   },
   {
    "duration": 7,
    "start_time": "2023-04-24T17:34:18.435Z"
   },
   {
    "duration": 179,
    "start_time": "2023-04-24T17:34:18.812Z"
   },
   {
    "duration": 12,
    "start_time": "2023-04-24T17:34:19.543Z"
   },
   {
    "duration": 7,
    "start_time": "2023-04-24T17:34:19.732Z"
   },
   {
    "duration": 360,
    "start_time": "2023-04-24T17:34:20.093Z"
   },
   {
    "duration": 9,
    "start_time": "2023-04-24T17:34:20.903Z"
   },
   {
    "duration": 136,
    "start_time": "2023-04-24T17:34:21.099Z"
   },
   {
    "duration": 11,
    "start_time": "2023-04-24T17:34:21.908Z"
   },
   {
    "duration": 153,
    "start_time": "2023-04-24T17:34:22.108Z"
   },
   {
    "duration": 257,
    "start_time": "2023-04-24T17:34:22.899Z"
   },
   {
    "duration": 10,
    "start_time": "2023-04-24T17:34:23.903Z"
   },
   {
    "duration": 251,
    "start_time": "2023-04-24T17:34:24.092Z"
   },
   {
    "duration": 11,
    "start_time": "2023-04-24T17:34:25.278Z"
   },
   {
    "duration": 17,
    "start_time": "2023-04-24T17:34:25.487Z"
   },
   {
    "duration": 16,
    "start_time": "2023-04-24T17:34:25.660Z"
   },
   {
    "duration": 18,
    "start_time": "2023-04-24T17:34:26.992Z"
   },
   {
    "duration": 11,
    "start_time": "2023-04-24T17:34:27.810Z"
   },
   {
    "duration": 17,
    "start_time": "2023-04-24T17:34:28.009Z"
   },
   {
    "duration": 8,
    "start_time": "2023-04-24T17:34:28.213Z"
   },
   {
    "duration": 22,
    "start_time": "2023-04-24T17:34:28.417Z"
   },
   {
    "duration": 11,
    "start_time": "2023-04-24T17:34:29.033Z"
   },
   {
    "duration": 151,
    "start_time": "2023-04-24T17:34:29.239Z"
   },
   {
    "duration": 10,
    "start_time": "2023-04-24T17:34:29.614Z"
   },
   {
    "duration": 147,
    "start_time": "2023-04-24T17:34:29.814Z"
   },
   {
    "duration": 10,
    "start_time": "2023-04-24T17:34:30.399Z"
   },
   {
    "duration": 242,
    "start_time": "2023-04-24T17:34:30.599Z"
   },
   {
    "duration": 11,
    "start_time": "2023-04-24T17:34:31.022Z"
   },
   {
    "duration": 153,
    "start_time": "2023-04-24T17:34:31.206Z"
   },
   {
    "duration": 16,
    "start_time": "2023-04-24T17:34:32.576Z"
   },
   {
    "duration": 16,
    "start_time": "2023-04-24T17:34:33.124Z"
   },
   {
    "duration": 9,
    "start_time": "2023-04-24T17:34:33.544Z"
   },
   {
    "duration": 14,
    "start_time": "2023-04-24T17:34:33.747Z"
   },
   {
    "duration": 12,
    "start_time": "2023-04-24T17:34:33.958Z"
   },
   {
    "duration": 16,
    "start_time": "2023-04-24T17:34:34.182Z"
   },
   {
    "duration": 15,
    "start_time": "2023-04-24T17:34:34.358Z"
   },
   {
    "duration": 8,
    "start_time": "2023-04-24T17:34:34.568Z"
   },
   {
    "duration": 14,
    "start_time": "2023-04-24T17:34:34.798Z"
   },
   {
    "duration": 12,
    "start_time": "2023-04-24T17:34:34.983Z"
   },
   {
    "duration": 6,
    "start_time": "2023-04-24T17:34:35.580Z"
   },
   {
    "duration": 14,
    "start_time": "2023-04-24T17:34:35.772Z"
   },
   {
    "duration": 17,
    "start_time": "2023-04-24T17:34:35.986Z"
   },
   {
    "duration": 6,
    "start_time": "2023-04-24T17:34:36.395Z"
   },
   {
    "duration": 22,
    "start_time": "2023-04-24T17:34:36.598Z"
   },
   {
    "duration": 15,
    "start_time": "2023-04-24T17:34:36.796Z"
   },
   {
    "duration": 6,
    "start_time": "2023-04-24T17:34:38.918Z"
   },
   {
    "duration": 6,
    "start_time": "2023-04-24T17:34:47.725Z"
   },
   {
    "duration": 336,
    "start_time": "2023-04-24T17:34:48.380Z"
   },
   {
    "duration": 7,
    "start_time": "2023-04-24T17:34:58.617Z"
   },
   {
    "duration": 6,
    "start_time": "2023-04-24T17:35:23.150Z"
   },
   {
    "duration": 10,
    "start_time": "2023-04-24T17:38:37.162Z"
   },
   {
    "duration": 9,
    "start_time": "2023-04-24T17:38:48.863Z"
   },
   {
    "duration": 6,
    "start_time": "2023-04-24T17:50:35.534Z"
   },
   {
    "duration": 5,
    "start_time": "2023-04-24T17:53:45.783Z"
   },
   {
    "duration": 6,
    "start_time": "2023-04-24T17:55:22.889Z"
   },
   {
    "duration": 12,
    "start_time": "2023-04-24T17:57:49.294Z"
   },
   {
    "duration": 84,
    "start_time": "2023-04-24T17:59:08.537Z"
   },
   {
    "duration": 14,
    "start_time": "2023-04-24T17:59:16.061Z"
   },
   {
    "duration": 7,
    "start_time": "2023-04-24T18:06:25.314Z"
   },
   {
    "duration": 90,
    "start_time": "2023-04-24T18:07:45.756Z"
   },
   {
    "duration": 3,
    "start_time": "2023-04-24T18:12:44.446Z"
   },
   {
    "duration": 110,
    "start_time": "2023-04-24T18:12:44.676Z"
   },
   {
    "duration": 12,
    "start_time": "2023-04-24T18:12:45.151Z"
   },
   {
    "duration": 11,
    "start_time": "2023-04-24T18:12:45.378Z"
   },
   {
    "duration": 9,
    "start_time": "2023-04-24T18:12:45.621Z"
   },
   {
    "duration": 17,
    "start_time": "2023-04-24T18:12:46.380Z"
   },
   {
    "duration": 22,
    "start_time": "2023-04-24T18:12:46.859Z"
   },
   {
    "duration": 27,
    "start_time": "2023-04-24T18:12:48.083Z"
   },
   {
    "duration": 14,
    "start_time": "2023-04-24T18:12:49.266Z"
   },
   {
    "duration": 16,
    "start_time": "2023-04-24T18:12:49.743Z"
   },
   {
    "duration": 8,
    "start_time": "2023-04-24T18:12:50.672Z"
   },
   {
    "duration": 6,
    "start_time": "2023-04-24T18:12:51.033Z"
   },
   {
    "duration": 7,
    "start_time": "2023-04-24T18:12:55.307Z"
   },
   {
    "duration": 8,
    "start_time": "2023-04-24T18:12:56.613Z"
   },
   {
    "duration": 16,
    "start_time": "2023-04-24T18:13:03.945Z"
   },
   {
    "duration": 6,
    "start_time": "2023-04-24T18:13:08.952Z"
   },
   {
    "duration": 7,
    "start_time": "2023-04-24T18:13:09.436Z"
   },
   {
    "duration": 10,
    "start_time": "2023-04-24T18:13:10.417Z"
   },
   {
    "duration": 9,
    "start_time": "2023-04-24T18:13:11.252Z"
   },
   {
    "duration": 7,
    "start_time": "2023-04-24T18:13:11.452Z"
   },
   {
    "duration": 204,
    "start_time": "2023-04-24T18:13:11.653Z"
   },
   {
    "duration": 165,
    "start_time": "2023-04-24T18:13:12.755Z"
   },
   {
    "duration": 7,
    "start_time": "2023-04-24T18:13:13.653Z"
   },
   {
    "duration": 179,
    "start_time": "2023-04-24T18:13:13.912Z"
   },
   {
    "duration": 10,
    "start_time": "2023-04-24T18:13:15.009Z"
   },
   {
    "duration": 6,
    "start_time": "2023-04-24T18:13:15.252Z"
   },
   {
    "duration": 429,
    "start_time": "2023-04-24T18:13:15.553Z"
   },
   {
    "duration": 10,
    "start_time": "2023-04-24T18:13:17.421Z"
   },
   {
    "duration": 244,
    "start_time": "2023-04-24T18:13:17.891Z"
   },
   {
    "duration": 12,
    "start_time": "2023-04-24T18:13:19.941Z"
   },
   {
    "duration": 154,
    "start_time": "2023-04-24T18:13:20.432Z"
   },
   {
    "duration": 250,
    "start_time": "2023-04-24T18:13:22.214Z"
   },
   {
    "duration": 11,
    "start_time": "2023-04-24T18:13:24.054Z"
   },
   {
    "duration": 144,
    "start_time": "2023-04-24T18:13:24.547Z"
   },
   {
    "duration": 12,
    "start_time": "2023-04-24T18:13:26.347Z"
   },
   {
    "duration": 19,
    "start_time": "2023-04-24T18:13:26.684Z"
   },
   {
    "duration": 15,
    "start_time": "2023-04-24T18:13:27.148Z"
   },
   {
    "duration": 18,
    "start_time": "2023-04-24T18:13:28.680Z"
   },
   {
    "duration": 9,
    "start_time": "2023-04-24T18:13:29.611Z"
   },
   {
    "duration": 18,
    "start_time": "2023-04-24T18:13:29.845Z"
   },
   {
    "duration": 8,
    "start_time": "2023-04-24T18:13:30.172Z"
   },
   {
    "duration": 16,
    "start_time": "2023-04-24T18:13:30.393Z"
   },
   {
    "duration": 11,
    "start_time": "2023-04-24T18:13:31.071Z"
   },
   {
    "duration": 146,
    "start_time": "2023-04-24T18:13:31.508Z"
   },
   {
    "duration": 11,
    "start_time": "2023-04-24T18:13:31.959Z"
   },
   {
    "duration": 143,
    "start_time": "2023-04-24T18:13:32.172Z"
   },
   {
    "duration": 10,
    "start_time": "2023-04-24T18:13:33.079Z"
   },
   {
    "duration": 143,
    "start_time": "2023-04-24T18:13:33.271Z"
   },
   {
    "duration": 10,
    "start_time": "2023-04-24T18:13:33.737Z"
   },
   {
    "duration": 144,
    "start_time": "2023-04-24T18:13:34.216Z"
   },
   {
    "duration": 15,
    "start_time": "2023-04-24T18:13:36.258Z"
   },
   {
    "duration": 16,
    "start_time": "2023-04-24T18:13:36.479Z"
   },
   {
    "duration": 12,
    "start_time": "2023-04-24T18:13:36.696Z"
   },
   {
    "duration": 14,
    "start_time": "2023-04-24T18:13:36.907Z"
   },
   {
    "duration": 12,
    "start_time": "2023-04-24T18:13:37.128Z"
   },
   {
    "duration": 14,
    "start_time": "2023-04-24T18:13:37.559Z"
   },
   {
    "duration": 16,
    "start_time": "2023-04-24T18:13:37.762Z"
   },
   {
    "duration": 10,
    "start_time": "2023-04-24T18:13:37.994Z"
   },
   {
    "duration": 16,
    "start_time": "2023-04-24T18:13:38.209Z"
   },
   {
    "duration": 11,
    "start_time": "2023-04-24T18:13:38.474Z"
   },
   {
    "duration": 6,
    "start_time": "2023-04-24T18:13:39.598Z"
   },
   {
    "duration": 15,
    "start_time": "2023-04-24T18:13:39.791Z"
   },
   {
    "duration": 14,
    "start_time": "2023-04-24T18:13:40.225Z"
   },
   {
    "duration": 5,
    "start_time": "2023-04-24T18:13:40.796Z"
   },
   {
    "duration": 14,
    "start_time": "2023-04-24T18:13:41.016Z"
   },
   {
    "duration": 16,
    "start_time": "2023-04-24T18:13:41.219Z"
   },
   {
    "duration": 13,
    "start_time": "2023-04-24T18:13:43.240Z"
   },
   {
    "duration": 8,
    "start_time": "2023-04-24T18:14:08.562Z"
   },
   {
    "duration": 346,
    "start_time": "2023-04-24T18:14:12.247Z"
   },
   {
    "duration": 7,
    "start_time": "2023-04-24T18:14:30.264Z"
   },
   {
    "duration": 6,
    "start_time": "2023-04-24T18:14:42.791Z"
   },
   {
    "duration": 109,
    "start_time": "2023-04-25T03:40:59.837Z"
   }
  ],
  "kernelspec": {
   "display_name": "Python 3 (ipykernel)",
   "language": "python",
   "name": "python3"
  },
  "language_info": {
   "codemirror_mode": {
    "name": "ipython",
    "version": 3
   },
   "file_extension": ".py",
   "mimetype": "text/x-python",
   "name": "python",
   "nbconvert_exporter": "python",
   "pygments_lexer": "ipython3",
   "version": "3.9.5"
  },
  "toc": {
   "base_numbering": 1,
   "nav_menu": {},
   "number_sections": true,
   "sideBar": true,
   "skip_h1_title": true,
   "title_cell": "Table of Contents",
   "title_sidebar": "Contents",
   "toc_cell": false,
   "toc_position": {},
   "toc_section_display": true,
   "toc_window_display": false
  }
 },
 "nbformat": 4,
 "nbformat_minor": 5
}
