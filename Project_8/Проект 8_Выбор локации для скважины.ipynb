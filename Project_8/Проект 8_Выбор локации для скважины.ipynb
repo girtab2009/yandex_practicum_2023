{
 "cells": [
  {
   "cell_type": "markdown",
   "metadata": {},
   "source": [
    "# Выбор локации для скважины"
   ]
  },
  {
   "cell_type": "markdown",
   "metadata": {},
   "source": [
    "**Цель исследования**\n",
    "\n",
    "- построить модель для определения региона, где добыча нефти принесёт наибольшую прибыль;\n",
    "- проанализировать возможную прибыль и риски техникой Bootstrap.\n",
    "\n",
    "**Описание данных:**\n",
    "\n",
    "для проведения анализа представлены данные геологоразведки трёх регионов:\n",
    "\n",
    "- */datasets/geo_data_0.csv*;\n",
    "- */datasets/geo_data_1.csv*;\n",
    "- */datasets/geo_data_2.csv*.\n",
    "\n",
    "Ниже приведен перечень представленных даных: \n",
    "\n",
    "- id — уникальный идентификатор скважины;\n",
    "- f0, f1, f2 — три признака точек (по условиям проекта неважно, что они означают, но сами признаки значимы);\n",
    "- product — объём запасов в скважине (тыс. баррелей).\n",
    "\n",
    "**Условия задачи**:\n",
    "\n",
    "- для обучения модели подходит только линейная регрессия (остальные — недостаточно предсказуемые);\n",
    "- при разведке региона исследуют 500 точек, из которых с помощью машинного обучения выбирают 200 лучших для разработки;\n",
    "- бюджет на разработку скважин в регионе — 10 млрд рублей;\n",
    "- при нынешних ценах один баррель сырья приносит 450 рублей дохода (доход с каждой единицы продукта составляет 450 тыс. рублей, поскольку объём указан в тысячах баррелей);\n",
    "- после оценки рисков нужно оставить лишь те регионы, в которых вероятность убытков меньше 2.5%; среди них выбирают регион с наибольшей средней прибылью;\n",
    "- данные синтетические: детали контрактов и характеристики месторождений не разглашаются.\n",
    "\n",
    "**План работы:**\n",
    "\n",
    "1. открыть файл с данными и изучить общую информацию;\n",
    "2. выполнить предобработку данных;\n",
    "3. обучить и проверить модель для каждого региона:\n",
    "  \n",
    "   3.1. разбить данные на обучающую и валидационную выборки в соотношении 75:25;\n",
    "   \n",
    "   3.2. обучить модель и сделать предсказания на валидационной выборке;\n",
    "   \n",
    "   3.3. сохранить предсказания и правильные ответы на валидационной выборке;\n",
    "   \n",
    "   3.4. напечатать на экране средний запас предсказанного сырья и RMSE модели;\n",
    "   \n",
    "   3.5. проанализировать результаты;\n",
    "   \n",
    "4. подготовить к расчёту прибыли:\n",
    "\n",
    "   4.1. все ключевые значения для расчётов сохранить в отдельных переменных;\n",
    "   \n",
    "   4.2. рассчитать достаточный объём сырья для безубыточной разработки новой скважины и сравнить полученный объём сырья со средним запасом в каждом регионе; \n",
    "   \n",
    "   4.3. написать выводы по этапу подготовки расчёта прибыли;\n",
    "   \n",
    "5. написать функцию для расчёта прибыли по выбранным скважинам и предсказаниям модели:\n",
    "\n",
    "   5.1. выбирать скважины с максимальными значениями предсказаний; \n",
    "   \n",
    "   5.2. просуммировать целевое значение объёма сырья, соответствующее этим предсказаниям;\n",
    "   \n",
    "   5.3. рассчитать прибыль для полученного объёма сырья;\n",
    "   \n",
    "6. посчитать риски и прибыль для каждого региона:\n",
    "\n",
    "   6.1. применить технику Bootstrap с 1000 выборок, чтобы найти распределение прибыли;\n",
    "   \n",
    "   6.2. найти среднюю прибыль, 95%-й доверительный интервал и риск убытков (т.е. отрицательной прибыли);\n",
    "   \n",
    "   6.3. написать выводы: предложить регион для разработки скважин и обосновать выбор.\n"
   ]
  },
  {
   "cell_type": "markdown",
   "metadata": {},
   "source": [
    "## Загрузка и подготовка данных"
   ]
  },
  {
   "cell_type": "code",
   "execution_count": 1,
   "metadata": {},
   "outputs": [],
   "source": [
    "# импортируем нужные библиотеки\n",
    "import pandas as pd\n",
    "import seaborn as sns\n",
    "sns.set()\n",
    "import re\n",
    "import numpy as np\n",
    "import matplotlib.pyplot as plt\n",
    "from sklearn.model_selection import train_test_split\n",
    "from sklearn.preprocessing import OrdinalEncoder\n",
    "from sklearn.linear_model import LinearRegression\n",
    "from sklearn.metrics import mean_squared_error\n",
    "from sklearn.preprocessing import StandardScaler \n",
    "from sklearn.pipeline import make_pipeline"
   ]
  },
  {
   "cell_type": "code",
   "execution_count": 2,
   "metadata": {},
   "outputs": [
    {
     "name": "stdout",
     "output_type": "stream",
     "text": [
      "<class 'pandas.core.frame.DataFrame'>\n",
      "RangeIndex: 100000 entries, 0 to 99999\n",
      "Data columns (total 5 columns):\n",
      " #   Column   Non-Null Count   Dtype  \n",
      "---  ------   --------------   -----  \n",
      " 0   id       100000 non-null  object \n",
      " 1   f0       100000 non-null  float64\n",
      " 2   f1       100000 non-null  float64\n",
      " 3   f2       100000 non-null  float64\n",
      " 4   product  100000 non-null  float64\n",
      "dtypes: float64(4), object(1)\n",
      "memory usage: 3.8+ MB\n",
      "\n",
      "<class 'pandas.core.frame.DataFrame'>\n",
      "RangeIndex: 100000 entries, 0 to 99999\n",
      "Data columns (total 5 columns):\n",
      " #   Column   Non-Null Count   Dtype  \n",
      "---  ------   --------------   -----  \n",
      " 0   id       100000 non-null  object \n",
      " 1   f0       100000 non-null  float64\n",
      " 2   f1       100000 non-null  float64\n",
      " 3   f2       100000 non-null  float64\n",
      " 4   product  100000 non-null  float64\n",
      "dtypes: float64(4), object(1)\n",
      "memory usage: 3.8+ MB\n",
      "\n",
      "<class 'pandas.core.frame.DataFrame'>\n",
      "RangeIndex: 100000 entries, 0 to 99999\n",
      "Data columns (total 5 columns):\n",
      " #   Column   Non-Null Count   Dtype  \n",
      "---  ------   --------------   -----  \n",
      " 0   id       100000 non-null  object \n",
      " 1   f0       100000 non-null  float64\n",
      " 2   f1       100000 non-null  float64\n",
      " 3   f2       100000 non-null  float64\n",
      " 4   product  100000 non-null  float64\n",
      "dtypes: float64(4), object(1)\n",
      "memory usage: 3.8+ MB\n"
     ]
    }
   ],
   "source": [
    "# загружаем данные из файлов в датафреймы\n",
    "reg1 = pd.read_csv('/datasets/geo_data_0.csv')\n",
    "reg2 = pd.read_csv('/datasets/geo_data_1.csv')\n",
    "reg3 = pd.read_csv('/datasets/geo_data_2.csv')\n",
    "# выводим основную информацию о датафреймах с помощью метода info()\n",
    "reg1.info()\n",
    "print()\n",
    "reg2.info()\n",
    "print()\n",
    "reg3.info()"
   ]
  },
  {
   "cell_type": "markdown",
   "metadata": {},
   "source": [
    "Таким образом, в каждом из наших датафреймов по 5 столбцов и 10 000 строк. Названия столбцов одинаковы для каждого датафрейма. Значения четырех столбцов относятся к вещественному типу (это f0, f1, f2 и product) и одного - к строковому (id). Теперь выведем первые 10 строк каждого из датафреймов на экран."
   ]
  },
  {
   "cell_type": "code",
   "execution_count": 3,
   "metadata": {},
   "outputs": [
    {
     "data": {
      "text/html": [
       "<div>\n",
       "<style scoped>\n",
       "    .dataframe tbody tr th:only-of-type {\n",
       "        vertical-align: middle;\n",
       "    }\n",
       "\n",
       "    .dataframe tbody tr th {\n",
       "        vertical-align: top;\n",
       "    }\n",
       "\n",
       "    .dataframe thead th {\n",
       "        text-align: right;\n",
       "    }\n",
       "</style>\n",
       "<table border=\"1\" class=\"dataframe\">\n",
       "  <thead>\n",
       "    <tr style=\"text-align: right;\">\n",
       "      <th></th>\n",
       "      <th>id</th>\n",
       "      <th>f0</th>\n",
       "      <th>f1</th>\n",
       "      <th>f2</th>\n",
       "      <th>product</th>\n",
       "    </tr>\n",
       "  </thead>\n",
       "  <tbody>\n",
       "    <tr>\n",
       "      <th>0</th>\n",
       "      <td>txEyH</td>\n",
       "      <td>0.705745</td>\n",
       "      <td>-0.497823</td>\n",
       "      <td>1.221170</td>\n",
       "      <td>105.280062</td>\n",
       "    </tr>\n",
       "    <tr>\n",
       "      <th>1</th>\n",
       "      <td>2acmU</td>\n",
       "      <td>1.334711</td>\n",
       "      <td>-0.340164</td>\n",
       "      <td>4.365080</td>\n",
       "      <td>73.037750</td>\n",
       "    </tr>\n",
       "    <tr>\n",
       "      <th>2</th>\n",
       "      <td>409Wp</td>\n",
       "      <td>1.022732</td>\n",
       "      <td>0.151990</td>\n",
       "      <td>1.419926</td>\n",
       "      <td>85.265647</td>\n",
       "    </tr>\n",
       "    <tr>\n",
       "      <th>3</th>\n",
       "      <td>iJLyR</td>\n",
       "      <td>-0.032172</td>\n",
       "      <td>0.139033</td>\n",
       "      <td>2.978566</td>\n",
       "      <td>168.620776</td>\n",
       "    </tr>\n",
       "    <tr>\n",
       "      <th>4</th>\n",
       "      <td>Xdl7t</td>\n",
       "      <td>1.988431</td>\n",
       "      <td>0.155413</td>\n",
       "      <td>4.751769</td>\n",
       "      <td>154.036647</td>\n",
       "    </tr>\n",
       "    <tr>\n",
       "      <th>5</th>\n",
       "      <td>wX4Hy</td>\n",
       "      <td>0.969570</td>\n",
       "      <td>0.489775</td>\n",
       "      <td>-0.735383</td>\n",
       "      <td>64.741541</td>\n",
       "    </tr>\n",
       "    <tr>\n",
       "      <th>6</th>\n",
       "      <td>tL6pL</td>\n",
       "      <td>0.645075</td>\n",
       "      <td>0.530656</td>\n",
       "      <td>1.780266</td>\n",
       "      <td>49.055285</td>\n",
       "    </tr>\n",
       "    <tr>\n",
       "      <th>7</th>\n",
       "      <td>BYPU6</td>\n",
       "      <td>-0.400648</td>\n",
       "      <td>0.808337</td>\n",
       "      <td>-5.624670</td>\n",
       "      <td>72.943292</td>\n",
       "    </tr>\n",
       "    <tr>\n",
       "      <th>8</th>\n",
       "      <td>j9Oui</td>\n",
       "      <td>0.643105</td>\n",
       "      <td>-0.551583</td>\n",
       "      <td>2.372141</td>\n",
       "      <td>113.356160</td>\n",
       "    </tr>\n",
       "    <tr>\n",
       "      <th>9</th>\n",
       "      <td>OLuZU</td>\n",
       "      <td>2.173381</td>\n",
       "      <td>0.563698</td>\n",
       "      <td>9.441852</td>\n",
       "      <td>127.910945</td>\n",
       "    </tr>\n",
       "  </tbody>\n",
       "</table>\n",
       "</div>"
      ],
      "text/plain": [
       "      id        f0        f1        f2     product\n",
       "0  txEyH  0.705745 -0.497823  1.221170  105.280062\n",
       "1  2acmU  1.334711 -0.340164  4.365080   73.037750\n",
       "2  409Wp  1.022732  0.151990  1.419926   85.265647\n",
       "3  iJLyR -0.032172  0.139033  2.978566  168.620776\n",
       "4  Xdl7t  1.988431  0.155413  4.751769  154.036647\n",
       "5  wX4Hy  0.969570  0.489775 -0.735383   64.741541\n",
       "6  tL6pL  0.645075  0.530656  1.780266   49.055285\n",
       "7  BYPU6 -0.400648  0.808337 -5.624670   72.943292\n",
       "8  j9Oui  0.643105 -0.551583  2.372141  113.356160\n",
       "9  OLuZU  2.173381  0.563698  9.441852  127.910945"
      ]
     },
     "metadata": {},
     "output_type": "display_data"
    },
    {
     "data": {
      "text/html": [
       "<div>\n",
       "<style scoped>\n",
       "    .dataframe tbody tr th:only-of-type {\n",
       "        vertical-align: middle;\n",
       "    }\n",
       "\n",
       "    .dataframe tbody tr th {\n",
       "        vertical-align: top;\n",
       "    }\n",
       "\n",
       "    .dataframe thead th {\n",
       "        text-align: right;\n",
       "    }\n",
       "</style>\n",
       "<table border=\"1\" class=\"dataframe\">\n",
       "  <thead>\n",
       "    <tr style=\"text-align: right;\">\n",
       "      <th></th>\n",
       "      <th>id</th>\n",
       "      <th>f0</th>\n",
       "      <th>f1</th>\n",
       "      <th>f2</th>\n",
       "      <th>product</th>\n",
       "    </tr>\n",
       "  </thead>\n",
       "  <tbody>\n",
       "    <tr>\n",
       "      <th>0</th>\n",
       "      <td>kBEdx</td>\n",
       "      <td>-15.001348</td>\n",
       "      <td>-8.276000</td>\n",
       "      <td>-0.005876</td>\n",
       "      <td>3.179103</td>\n",
       "    </tr>\n",
       "    <tr>\n",
       "      <th>1</th>\n",
       "      <td>62mP7</td>\n",
       "      <td>14.272088</td>\n",
       "      <td>-3.475083</td>\n",
       "      <td>0.999183</td>\n",
       "      <td>26.953261</td>\n",
       "    </tr>\n",
       "    <tr>\n",
       "      <th>2</th>\n",
       "      <td>vyE1P</td>\n",
       "      <td>6.263187</td>\n",
       "      <td>-5.948386</td>\n",
       "      <td>5.001160</td>\n",
       "      <td>134.766305</td>\n",
       "    </tr>\n",
       "    <tr>\n",
       "      <th>3</th>\n",
       "      <td>KcrkZ</td>\n",
       "      <td>-13.081196</td>\n",
       "      <td>-11.506057</td>\n",
       "      <td>4.999415</td>\n",
       "      <td>137.945408</td>\n",
       "    </tr>\n",
       "    <tr>\n",
       "      <th>4</th>\n",
       "      <td>AHL4O</td>\n",
       "      <td>12.702195</td>\n",
       "      <td>-8.147433</td>\n",
       "      <td>5.004363</td>\n",
       "      <td>134.766305</td>\n",
       "    </tr>\n",
       "    <tr>\n",
       "      <th>5</th>\n",
       "      <td>HHckp</td>\n",
       "      <td>-3.327590</td>\n",
       "      <td>-2.205276</td>\n",
       "      <td>3.003647</td>\n",
       "      <td>84.038886</td>\n",
       "    </tr>\n",
       "    <tr>\n",
       "      <th>6</th>\n",
       "      <td>h5Ujo</td>\n",
       "      <td>-11.142655</td>\n",
       "      <td>-10.133399</td>\n",
       "      <td>4.002382</td>\n",
       "      <td>110.992147</td>\n",
       "    </tr>\n",
       "    <tr>\n",
       "      <th>7</th>\n",
       "      <td>muH9x</td>\n",
       "      <td>4.234715</td>\n",
       "      <td>-0.001354</td>\n",
       "      <td>2.004588</td>\n",
       "      <td>53.906522</td>\n",
       "    </tr>\n",
       "    <tr>\n",
       "      <th>8</th>\n",
       "      <td>YiRkx</td>\n",
       "      <td>13.355129</td>\n",
       "      <td>-0.332068</td>\n",
       "      <td>4.998647</td>\n",
       "      <td>134.766305</td>\n",
       "    </tr>\n",
       "    <tr>\n",
       "      <th>9</th>\n",
       "      <td>jG6Gi</td>\n",
       "      <td>1.069227</td>\n",
       "      <td>-11.025667</td>\n",
       "      <td>4.997844</td>\n",
       "      <td>137.945408</td>\n",
       "    </tr>\n",
       "  </tbody>\n",
       "</table>\n",
       "</div>"
      ],
      "text/plain": [
       "      id         f0         f1        f2     product\n",
       "0  kBEdx -15.001348  -8.276000 -0.005876    3.179103\n",
       "1  62mP7  14.272088  -3.475083  0.999183   26.953261\n",
       "2  vyE1P   6.263187  -5.948386  5.001160  134.766305\n",
       "3  KcrkZ -13.081196 -11.506057  4.999415  137.945408\n",
       "4  AHL4O  12.702195  -8.147433  5.004363  134.766305\n",
       "5  HHckp  -3.327590  -2.205276  3.003647   84.038886\n",
       "6  h5Ujo -11.142655 -10.133399  4.002382  110.992147\n",
       "7  muH9x   4.234715  -0.001354  2.004588   53.906522\n",
       "8  YiRkx  13.355129  -0.332068  4.998647  134.766305\n",
       "9  jG6Gi   1.069227 -11.025667  4.997844  137.945408"
      ]
     },
     "metadata": {},
     "output_type": "display_data"
    },
    {
     "data": {
      "text/html": [
       "<div>\n",
       "<style scoped>\n",
       "    .dataframe tbody tr th:only-of-type {\n",
       "        vertical-align: middle;\n",
       "    }\n",
       "\n",
       "    .dataframe tbody tr th {\n",
       "        vertical-align: top;\n",
       "    }\n",
       "\n",
       "    .dataframe thead th {\n",
       "        text-align: right;\n",
       "    }\n",
       "</style>\n",
       "<table border=\"1\" class=\"dataframe\">\n",
       "  <thead>\n",
       "    <tr style=\"text-align: right;\">\n",
       "      <th></th>\n",
       "      <th>id</th>\n",
       "      <th>f0</th>\n",
       "      <th>f1</th>\n",
       "      <th>f2</th>\n",
       "      <th>product</th>\n",
       "    </tr>\n",
       "  </thead>\n",
       "  <tbody>\n",
       "    <tr>\n",
       "      <th>0</th>\n",
       "      <td>fwXo0</td>\n",
       "      <td>-1.146987</td>\n",
       "      <td>0.963328</td>\n",
       "      <td>-0.828965</td>\n",
       "      <td>27.758673</td>\n",
       "    </tr>\n",
       "    <tr>\n",
       "      <th>1</th>\n",
       "      <td>WJtFt</td>\n",
       "      <td>0.262778</td>\n",
       "      <td>0.269839</td>\n",
       "      <td>-2.530187</td>\n",
       "      <td>56.069697</td>\n",
       "    </tr>\n",
       "    <tr>\n",
       "      <th>2</th>\n",
       "      <td>ovLUW</td>\n",
       "      <td>0.194587</td>\n",
       "      <td>0.289035</td>\n",
       "      <td>-5.586433</td>\n",
       "      <td>62.871910</td>\n",
       "    </tr>\n",
       "    <tr>\n",
       "      <th>3</th>\n",
       "      <td>q6cA6</td>\n",
       "      <td>2.236060</td>\n",
       "      <td>-0.553760</td>\n",
       "      <td>0.930038</td>\n",
       "      <td>114.572842</td>\n",
       "    </tr>\n",
       "    <tr>\n",
       "      <th>4</th>\n",
       "      <td>WPMUX</td>\n",
       "      <td>-0.515993</td>\n",
       "      <td>1.716266</td>\n",
       "      <td>5.899011</td>\n",
       "      <td>149.600746</td>\n",
       "    </tr>\n",
       "    <tr>\n",
       "      <th>5</th>\n",
       "      <td>LzZXx</td>\n",
       "      <td>-0.758092</td>\n",
       "      <td>0.710691</td>\n",
       "      <td>2.585887</td>\n",
       "      <td>90.222465</td>\n",
       "    </tr>\n",
       "    <tr>\n",
       "      <th>6</th>\n",
       "      <td>WBHRv</td>\n",
       "      <td>-0.574891</td>\n",
       "      <td>0.317727</td>\n",
       "      <td>1.773745</td>\n",
       "      <td>45.641478</td>\n",
       "    </tr>\n",
       "    <tr>\n",
       "      <th>7</th>\n",
       "      <td>XO8fn</td>\n",
       "      <td>-1.906649</td>\n",
       "      <td>-2.458350</td>\n",
       "      <td>-0.177097</td>\n",
       "      <td>72.480640</td>\n",
       "    </tr>\n",
       "    <tr>\n",
       "      <th>8</th>\n",
       "      <td>ybmQ5</td>\n",
       "      <td>1.776292</td>\n",
       "      <td>-0.279356</td>\n",
       "      <td>3.004156</td>\n",
       "      <td>106.616832</td>\n",
       "    </tr>\n",
       "    <tr>\n",
       "      <th>9</th>\n",
       "      <td>OilcN</td>\n",
       "      <td>-1.214452</td>\n",
       "      <td>-0.439314</td>\n",
       "      <td>5.922514</td>\n",
       "      <td>52.954532</td>\n",
       "    </tr>\n",
       "  </tbody>\n",
       "</table>\n",
       "</div>"
      ],
      "text/plain": [
       "      id        f0        f1        f2     product\n",
       "0  fwXo0 -1.146987  0.963328 -0.828965   27.758673\n",
       "1  WJtFt  0.262778  0.269839 -2.530187   56.069697\n",
       "2  ovLUW  0.194587  0.289035 -5.586433   62.871910\n",
       "3  q6cA6  2.236060 -0.553760  0.930038  114.572842\n",
       "4  WPMUX -0.515993  1.716266  5.899011  149.600746\n",
       "5  LzZXx -0.758092  0.710691  2.585887   90.222465\n",
       "6  WBHRv -0.574891  0.317727  1.773745   45.641478\n",
       "7  XO8fn -1.906649 -2.458350 -0.177097   72.480640\n",
       "8  ybmQ5  1.776292 -0.279356  3.004156  106.616832\n",
       "9  OilcN -1.214452 -0.439314  5.922514   52.954532"
      ]
     },
     "metadata": {},
     "output_type": "display_data"
    }
   ],
   "source": [
    "display(reg1.head(10))\n",
    "display(reg2.head(10))\n",
    "display(reg3.head(10))"
   ]
  },
  {
   "cell_type": "markdown",
   "metadata": {},
   "source": [
    "В выведенных на экран фрагментах пропуски отсутствуют. Типы данных выбраны корректно. Очевидных противоречий либо маловероятных значений в представленных фрагментах не наблюдается. Теперь посмотрим распределение по каждому из столбцов датафреймов и проведем проверку на наличие пропусков и дубликатов. "
   ]
  },
  {
   "cell_type": "code",
   "execution_count": 4,
   "metadata": {},
   "outputs": [
    {
     "data": {
      "text/html": [
       "<div>\n",
       "<style scoped>\n",
       "    .dataframe tbody tr th:only-of-type {\n",
       "        vertical-align: middle;\n",
       "    }\n",
       "\n",
       "    .dataframe tbody tr th {\n",
       "        vertical-align: top;\n",
       "    }\n",
       "\n",
       "    .dataframe thead th {\n",
       "        text-align: right;\n",
       "    }\n",
       "</style>\n",
       "<table border=\"1\" class=\"dataframe\">\n",
       "  <thead>\n",
       "    <tr style=\"text-align: right;\">\n",
       "      <th></th>\n",
       "      <th>count</th>\n",
       "      <th>mean</th>\n",
       "      <th>std</th>\n",
       "      <th>min</th>\n",
       "      <th>25%</th>\n",
       "      <th>50%</th>\n",
       "      <th>75%</th>\n",
       "      <th>max</th>\n",
       "    </tr>\n",
       "  </thead>\n",
       "  <tbody>\n",
       "    <tr>\n",
       "      <th>f0</th>\n",
       "      <td>100000.0</td>\n",
       "      <td>0.500419</td>\n",
       "      <td>0.871832</td>\n",
       "      <td>-1.408605</td>\n",
       "      <td>-0.072580</td>\n",
       "      <td>0.502360</td>\n",
       "      <td>1.073581</td>\n",
       "      <td>2.362331</td>\n",
       "    </tr>\n",
       "    <tr>\n",
       "      <th>f1</th>\n",
       "      <td>100000.0</td>\n",
       "      <td>0.250143</td>\n",
       "      <td>0.504433</td>\n",
       "      <td>-0.848218</td>\n",
       "      <td>-0.200881</td>\n",
       "      <td>0.250252</td>\n",
       "      <td>0.700646</td>\n",
       "      <td>1.343769</td>\n",
       "    </tr>\n",
       "    <tr>\n",
       "      <th>f2</th>\n",
       "      <td>100000.0</td>\n",
       "      <td>2.502647</td>\n",
       "      <td>3.248248</td>\n",
       "      <td>-12.088328</td>\n",
       "      <td>0.287748</td>\n",
       "      <td>2.515969</td>\n",
       "      <td>4.715088</td>\n",
       "      <td>16.003790</td>\n",
       "    </tr>\n",
       "    <tr>\n",
       "      <th>product</th>\n",
       "      <td>100000.0</td>\n",
       "      <td>92.500000</td>\n",
       "      <td>44.288691</td>\n",
       "      <td>0.000000</td>\n",
       "      <td>56.497507</td>\n",
       "      <td>91.849972</td>\n",
       "      <td>128.564089</td>\n",
       "      <td>185.364347</td>\n",
       "    </tr>\n",
       "  </tbody>\n",
       "</table>\n",
       "</div>"
      ],
      "text/plain": [
       "            count       mean        std        min        25%        50%  \\\n",
       "f0       100000.0   0.500419   0.871832  -1.408605  -0.072580   0.502360   \n",
       "f1       100000.0   0.250143   0.504433  -0.848218  -0.200881   0.250252   \n",
       "f2       100000.0   2.502647   3.248248 -12.088328   0.287748   2.515969   \n",
       "product  100000.0  92.500000  44.288691   0.000000  56.497507  91.849972   \n",
       "\n",
       "                75%         max  \n",
       "f0         1.073581    2.362331  \n",
       "f1         0.700646    1.343769  \n",
       "f2         4.715088   16.003790  \n",
       "product  128.564089  185.364347  "
      ]
     },
     "execution_count": 4,
     "metadata": {},
     "output_type": "execute_result"
    }
   ],
   "source": [
    "reg1.describe().T"
   ]
  },
  {
   "cell_type": "code",
   "execution_count": 5,
   "metadata": {},
   "outputs": [
    {
     "data": {
      "text/html": [
       "<div>\n",
       "<style scoped>\n",
       "    .dataframe tbody tr th:only-of-type {\n",
       "        vertical-align: middle;\n",
       "    }\n",
       "\n",
       "    .dataframe tbody tr th {\n",
       "        vertical-align: top;\n",
       "    }\n",
       "\n",
       "    .dataframe thead th {\n",
       "        text-align: right;\n",
       "    }\n",
       "</style>\n",
       "<table border=\"1\" class=\"dataframe\">\n",
       "  <thead>\n",
       "    <tr style=\"text-align: right;\">\n",
       "      <th></th>\n",
       "      <th>count</th>\n",
       "      <th>mean</th>\n",
       "      <th>std</th>\n",
       "      <th>min</th>\n",
       "      <th>25%</th>\n",
       "      <th>50%</th>\n",
       "      <th>75%</th>\n",
       "      <th>max</th>\n",
       "    </tr>\n",
       "  </thead>\n",
       "  <tbody>\n",
       "    <tr>\n",
       "      <th>f0</th>\n",
       "      <td>100000.0</td>\n",
       "      <td>1.141296</td>\n",
       "      <td>8.965932</td>\n",
       "      <td>-31.609576</td>\n",
       "      <td>-6.298551</td>\n",
       "      <td>1.153055</td>\n",
       "      <td>8.621015</td>\n",
       "      <td>29.421755</td>\n",
       "    </tr>\n",
       "    <tr>\n",
       "      <th>f1</th>\n",
       "      <td>100000.0</td>\n",
       "      <td>-4.796579</td>\n",
       "      <td>5.119872</td>\n",
       "      <td>-26.358598</td>\n",
       "      <td>-8.267985</td>\n",
       "      <td>-4.813172</td>\n",
       "      <td>-1.332816</td>\n",
       "      <td>18.734063</td>\n",
       "    </tr>\n",
       "    <tr>\n",
       "      <th>f2</th>\n",
       "      <td>100000.0</td>\n",
       "      <td>2.494541</td>\n",
       "      <td>1.703572</td>\n",
       "      <td>-0.018144</td>\n",
       "      <td>1.000021</td>\n",
       "      <td>2.011479</td>\n",
       "      <td>3.999904</td>\n",
       "      <td>5.019721</td>\n",
       "    </tr>\n",
       "    <tr>\n",
       "      <th>product</th>\n",
       "      <td>100000.0</td>\n",
       "      <td>68.825000</td>\n",
       "      <td>45.944423</td>\n",
       "      <td>0.000000</td>\n",
       "      <td>26.953261</td>\n",
       "      <td>57.085625</td>\n",
       "      <td>107.813044</td>\n",
       "      <td>137.945408</td>\n",
       "    </tr>\n",
       "  </tbody>\n",
       "</table>\n",
       "</div>"
      ],
      "text/plain": [
       "            count       mean        std        min        25%        50%  \\\n",
       "f0       100000.0   1.141296   8.965932 -31.609576  -6.298551   1.153055   \n",
       "f1       100000.0  -4.796579   5.119872 -26.358598  -8.267985  -4.813172   \n",
       "f2       100000.0   2.494541   1.703572  -0.018144   1.000021   2.011479   \n",
       "product  100000.0  68.825000  45.944423   0.000000  26.953261  57.085625   \n",
       "\n",
       "                75%         max  \n",
       "f0         8.621015   29.421755  \n",
       "f1        -1.332816   18.734063  \n",
       "f2         3.999904    5.019721  \n",
       "product  107.813044  137.945408  "
      ]
     },
     "execution_count": 5,
     "metadata": {},
     "output_type": "execute_result"
    }
   ],
   "source": [
    "reg2.describe().T"
   ]
  },
  {
   "cell_type": "code",
   "execution_count": 6,
   "metadata": {},
   "outputs": [
    {
     "data": {
      "text/html": [
       "<div>\n",
       "<style scoped>\n",
       "    .dataframe tbody tr th:only-of-type {\n",
       "        vertical-align: middle;\n",
       "    }\n",
       "\n",
       "    .dataframe tbody tr th {\n",
       "        vertical-align: top;\n",
       "    }\n",
       "\n",
       "    .dataframe thead th {\n",
       "        text-align: right;\n",
       "    }\n",
       "</style>\n",
       "<table border=\"1\" class=\"dataframe\">\n",
       "  <thead>\n",
       "    <tr style=\"text-align: right;\">\n",
       "      <th></th>\n",
       "      <th>count</th>\n",
       "      <th>mean</th>\n",
       "      <th>std</th>\n",
       "      <th>min</th>\n",
       "      <th>25%</th>\n",
       "      <th>50%</th>\n",
       "      <th>75%</th>\n",
       "      <th>max</th>\n",
       "    </tr>\n",
       "  </thead>\n",
       "  <tbody>\n",
       "    <tr>\n",
       "      <th>f0</th>\n",
       "      <td>100000.0</td>\n",
       "      <td>0.002023</td>\n",
       "      <td>1.732045</td>\n",
       "      <td>-8.760004</td>\n",
       "      <td>-1.162288</td>\n",
       "      <td>0.009424</td>\n",
       "      <td>1.158535</td>\n",
       "      <td>7.238262</td>\n",
       "    </tr>\n",
       "    <tr>\n",
       "      <th>f1</th>\n",
       "      <td>100000.0</td>\n",
       "      <td>-0.002081</td>\n",
       "      <td>1.730417</td>\n",
       "      <td>-7.084020</td>\n",
       "      <td>-1.174820</td>\n",
       "      <td>-0.009482</td>\n",
       "      <td>1.163678</td>\n",
       "      <td>7.844801</td>\n",
       "    </tr>\n",
       "    <tr>\n",
       "      <th>f2</th>\n",
       "      <td>100000.0</td>\n",
       "      <td>2.495128</td>\n",
       "      <td>3.473445</td>\n",
       "      <td>-11.970335</td>\n",
       "      <td>0.130359</td>\n",
       "      <td>2.484236</td>\n",
       "      <td>4.858794</td>\n",
       "      <td>16.739402</td>\n",
       "    </tr>\n",
       "    <tr>\n",
       "      <th>product</th>\n",
       "      <td>100000.0</td>\n",
       "      <td>95.000000</td>\n",
       "      <td>44.749921</td>\n",
       "      <td>0.000000</td>\n",
       "      <td>59.450441</td>\n",
       "      <td>94.925613</td>\n",
       "      <td>130.595027</td>\n",
       "      <td>190.029838</td>\n",
       "    </tr>\n",
       "  </tbody>\n",
       "</table>\n",
       "</div>"
      ],
      "text/plain": [
       "            count       mean        std        min        25%        50%  \\\n",
       "f0       100000.0   0.002023   1.732045  -8.760004  -1.162288   0.009424   \n",
       "f1       100000.0  -0.002081   1.730417  -7.084020  -1.174820  -0.009482   \n",
       "f2       100000.0   2.495128   3.473445 -11.970335   0.130359   2.484236   \n",
       "product  100000.0  95.000000  44.749921   0.000000  59.450441  94.925613   \n",
       "\n",
       "                75%         max  \n",
       "f0         1.158535    7.238262  \n",
       "f1         1.163678    7.844801  \n",
       "f2         4.858794   16.739402  \n",
       "product  130.595027  190.029838  "
      ]
     },
     "execution_count": 6,
     "metadata": {},
     "output_type": "execute_result"
    }
   ],
   "source": [
    "reg3.describe().T"
   ]
  },
  {
   "cell_type": "markdown",
   "metadata": {},
   "source": [
    "Учитывая, что по условиям проекта неважно, что означают три признака точек (f0, f1, f2), явных противоречий либо маловероятных значений в представленных выше распределениях не наблюдается. Теперь проверим датафреймы на наличие пропусков."
   ]
  },
  {
   "cell_type": "code",
   "execution_count": 7,
   "metadata": {},
   "outputs": [
    {
     "data": {
      "text/html": [
       "<style  type=\"text/css\" >\n",
       "#T_0fc66_row0_col0,#T_0fc66_row1_col0,#T_0fc66_row2_col0,#T_0fc66_row3_col0,#T_0fc66_row4_col0{\n",
       "            background-color:  #3b4cc0;\n",
       "            color:  #f1f1f1;\n",
       "        }</style><table id=\"T_0fc66_\" ><thead>    <tr>        <th class=\"blank level0\" ></th>        <th class=\"col_heading level0 col0\" >0</th>    </tr></thead><tbody>\n",
       "                <tr>\n",
       "                        <th id=\"T_0fc66_level0_row0\" class=\"row_heading level0 row0\" >id</th>\n",
       "                        <td id=\"T_0fc66_row0_col0\" class=\"data row0 col0\" >0.000000</td>\n",
       "            </tr>\n",
       "            <tr>\n",
       "                        <th id=\"T_0fc66_level0_row1\" class=\"row_heading level0 row1\" >f0</th>\n",
       "                        <td id=\"T_0fc66_row1_col0\" class=\"data row1 col0\" >0.000000</td>\n",
       "            </tr>\n",
       "            <tr>\n",
       "                        <th id=\"T_0fc66_level0_row2\" class=\"row_heading level0 row2\" >f1</th>\n",
       "                        <td id=\"T_0fc66_row2_col0\" class=\"data row2 col0\" >0.000000</td>\n",
       "            </tr>\n",
       "            <tr>\n",
       "                        <th id=\"T_0fc66_level0_row3\" class=\"row_heading level0 row3\" >f2</th>\n",
       "                        <td id=\"T_0fc66_row3_col0\" class=\"data row3 col0\" >0.000000</td>\n",
       "            </tr>\n",
       "            <tr>\n",
       "                        <th id=\"T_0fc66_level0_row4\" class=\"row_heading level0 row4\" >product</th>\n",
       "                        <td id=\"T_0fc66_row4_col0\" class=\"data row4 col0\" >0.000000</td>\n",
       "            </tr>\n",
       "    </tbody></table>"
      ],
      "text/plain": [
       "<pandas.io.formats.style.Styler at 0x7fe81f4e2040>"
      ]
     },
     "execution_count": 7,
     "metadata": {},
     "output_type": "execute_result"
    }
   ],
   "source": [
    "# проверим количество пропусков в % \n",
    "pd.DataFrame(round(reg1.isna().mean()*100,).sort_values(ascending=False)).style.background_gradient('coolwarm')"
   ]
  },
  {
   "cell_type": "code",
   "execution_count": 8,
   "metadata": {},
   "outputs": [
    {
     "data": {
      "text/html": [
       "<style  type=\"text/css\" >\n",
       "#T_c70da_row0_col0,#T_c70da_row1_col0,#T_c70da_row2_col0,#T_c70da_row3_col0,#T_c70da_row4_col0{\n",
       "            background-color:  #3b4cc0;\n",
       "            color:  #f1f1f1;\n",
       "        }</style><table id=\"T_c70da_\" ><thead>    <tr>        <th class=\"blank level0\" ></th>        <th class=\"col_heading level0 col0\" >0</th>    </tr></thead><tbody>\n",
       "                <tr>\n",
       "                        <th id=\"T_c70da_level0_row0\" class=\"row_heading level0 row0\" >id</th>\n",
       "                        <td id=\"T_c70da_row0_col0\" class=\"data row0 col0\" >0.000000</td>\n",
       "            </tr>\n",
       "            <tr>\n",
       "                        <th id=\"T_c70da_level0_row1\" class=\"row_heading level0 row1\" >f0</th>\n",
       "                        <td id=\"T_c70da_row1_col0\" class=\"data row1 col0\" >0.000000</td>\n",
       "            </tr>\n",
       "            <tr>\n",
       "                        <th id=\"T_c70da_level0_row2\" class=\"row_heading level0 row2\" >f1</th>\n",
       "                        <td id=\"T_c70da_row2_col0\" class=\"data row2 col0\" >0.000000</td>\n",
       "            </tr>\n",
       "            <tr>\n",
       "                        <th id=\"T_c70da_level0_row3\" class=\"row_heading level0 row3\" >f2</th>\n",
       "                        <td id=\"T_c70da_row3_col0\" class=\"data row3 col0\" >0.000000</td>\n",
       "            </tr>\n",
       "            <tr>\n",
       "                        <th id=\"T_c70da_level0_row4\" class=\"row_heading level0 row4\" >product</th>\n",
       "                        <td id=\"T_c70da_row4_col0\" class=\"data row4 col0\" >0.000000</td>\n",
       "            </tr>\n",
       "    </tbody></table>"
      ],
      "text/plain": [
       "<pandas.io.formats.style.Styler at 0x7fe7989b0d30>"
      ]
     },
     "execution_count": 8,
     "metadata": {},
     "output_type": "execute_result"
    }
   ],
   "source": [
    "pd.DataFrame(round(reg2.isna().mean()*100,).sort_values(ascending=False)).style.background_gradient('coolwarm')"
   ]
  },
  {
   "cell_type": "code",
   "execution_count": 9,
   "metadata": {},
   "outputs": [
    {
     "data": {
      "text/html": [
       "<style  type=\"text/css\" >\n",
       "#T_f4bb0_row0_col0,#T_f4bb0_row1_col0,#T_f4bb0_row2_col0,#T_f4bb0_row3_col0,#T_f4bb0_row4_col0{\n",
       "            background-color:  #3b4cc0;\n",
       "            color:  #f1f1f1;\n",
       "        }</style><table id=\"T_f4bb0_\" ><thead>    <tr>        <th class=\"blank level0\" ></th>        <th class=\"col_heading level0 col0\" >0</th>    </tr></thead><tbody>\n",
       "                <tr>\n",
       "                        <th id=\"T_f4bb0_level0_row0\" class=\"row_heading level0 row0\" >id</th>\n",
       "                        <td id=\"T_f4bb0_row0_col0\" class=\"data row0 col0\" >0.000000</td>\n",
       "            </tr>\n",
       "            <tr>\n",
       "                        <th id=\"T_f4bb0_level0_row1\" class=\"row_heading level0 row1\" >f0</th>\n",
       "                        <td id=\"T_f4bb0_row1_col0\" class=\"data row1 col0\" >0.000000</td>\n",
       "            </tr>\n",
       "            <tr>\n",
       "                        <th id=\"T_f4bb0_level0_row2\" class=\"row_heading level0 row2\" >f1</th>\n",
       "                        <td id=\"T_f4bb0_row2_col0\" class=\"data row2 col0\" >0.000000</td>\n",
       "            </tr>\n",
       "            <tr>\n",
       "                        <th id=\"T_f4bb0_level0_row3\" class=\"row_heading level0 row3\" >f2</th>\n",
       "                        <td id=\"T_f4bb0_row3_col0\" class=\"data row3 col0\" >0.000000</td>\n",
       "            </tr>\n",
       "            <tr>\n",
       "                        <th id=\"T_f4bb0_level0_row4\" class=\"row_heading level0 row4\" >product</th>\n",
       "                        <td id=\"T_f4bb0_row4_col0\" class=\"data row4 col0\" >0.000000</td>\n",
       "            </tr>\n",
       "    </tbody></table>"
      ],
      "text/plain": [
       "<pandas.io.formats.style.Styler at 0x7fe797953370>"
      ]
     },
     "execution_count": 9,
     "metadata": {},
     "output_type": "execute_result"
    }
   ],
   "source": [
    "pd.DataFrame(round(reg3.isna().mean()*100,).sort_values(ascending=False)).style.background_gradient('coolwarm')"
   ]
  },
  {
   "cell_type": "markdown",
   "metadata": {},
   "source": [
    "Как видим, во всех наших датафреймах отсутствуют пропуски. Теперь проверим на наличие дубликатов."
   ]
  },
  {
   "cell_type": "code",
   "execution_count": 10,
   "metadata": {},
   "outputs": [
    {
     "name": "stdout",
     "output_type": "stream",
     "text": [
      "0\n",
      "0\n",
      "0\n"
     ]
    }
   ],
   "source": [
    "# проведем проверку на наличие дубликатов\n",
    "print(reg1.duplicated().sum())\n",
    "print(reg2.duplicated().sum())\n",
    "print(reg3.duplicated().sum())"
   ]
  },
  {
   "cell_type": "markdown",
   "metadata": {},
   "source": [
    "Таким образом, явные дубликаты в представленных датафреймах отсутствуют. При этом, учитывая, что все значения столбцов наших датафреймов (за исключением id) являются числовыми, осуществлять поиск неявных дубликатов не имеет смысла. На этом мы закончили этап подготовки данных и можем перейти к следующему шагу. "
   ]
  },
  {
   "cell_type": "markdown",
   "metadata": {},
   "source": [
    "Таким образом, на данном этапе мы выяснили следующее:\n",
    "\n",
    "- в каждом из 3-х наших датафреймов по 5 столбцов и 10 000 строк. Названия столбцов одинаковы для каждого датафрейма. Значения четырех столбцов относятся к вещественному типу (это f0, f1, f2 и product) и одного - к строковому (id).\n",
    "- Использованные типы данных корректны.\n",
    "- Явные противоречия в данных, либо маловероятные значения отсутствуют.\n",
    "- Пропуски данных отсутствуют.\n",
    "- Явные и неявные дубликаты отсутствуют.\n",
    "\n",
    "Теперь данные готовы для проведения исследования и мы можем приступить к обучению и проверке моделей."
   ]
  },
  {
   "cell_type": "markdown",
   "metadata": {},
   "source": [
    "## Обучение и проверка модели"
   ]
  },
  {
   "cell_type": "markdown",
   "metadata": {},
   "source": [
    "Столбцы id датафреймов для дальнейшего исследования нам не понадобятся. Поэтому представляется целесообразным их удалить."
   ]
  },
  {
   "cell_type": "code",
   "execution_count": 11,
   "metadata": {},
   "outputs": [],
   "source": [
    "reg1.drop(columns='id', inplace=True)\n",
    "reg2.drop(columns='id', inplace=True)\n",
    "reg3.drop(columns='id', inplace=True)"
   ]
  },
  {
   "cell_type": "code",
   "execution_count": 12,
   "metadata": {},
   "outputs": [
    {
     "data": {
      "text/html": [
       "<div>\n",
       "<style scoped>\n",
       "    .dataframe tbody tr th:only-of-type {\n",
       "        vertical-align: middle;\n",
       "    }\n",
       "\n",
       "    .dataframe tbody tr th {\n",
       "        vertical-align: top;\n",
       "    }\n",
       "\n",
       "    .dataframe thead th {\n",
       "        text-align: right;\n",
       "    }\n",
       "</style>\n",
       "<table border=\"1\" class=\"dataframe\">\n",
       "  <thead>\n",
       "    <tr style=\"text-align: right;\">\n",
       "      <th></th>\n",
       "      <th>f0</th>\n",
       "      <th>f1</th>\n",
       "      <th>f2</th>\n",
       "      <th>product</th>\n",
       "    </tr>\n",
       "  </thead>\n",
       "  <tbody>\n",
       "    <tr>\n",
       "      <th>0</th>\n",
       "      <td>0.705745</td>\n",
       "      <td>-0.497823</td>\n",
       "      <td>1.221170</td>\n",
       "      <td>105.280062</td>\n",
       "    </tr>\n",
       "    <tr>\n",
       "      <th>1</th>\n",
       "      <td>1.334711</td>\n",
       "      <td>-0.340164</td>\n",
       "      <td>4.365080</td>\n",
       "      <td>73.037750</td>\n",
       "    </tr>\n",
       "    <tr>\n",
       "      <th>2</th>\n",
       "      <td>1.022732</td>\n",
       "      <td>0.151990</td>\n",
       "      <td>1.419926</td>\n",
       "      <td>85.265647</td>\n",
       "    </tr>\n",
       "    <tr>\n",
       "      <th>3</th>\n",
       "      <td>-0.032172</td>\n",
       "      <td>0.139033</td>\n",
       "      <td>2.978566</td>\n",
       "      <td>168.620776</td>\n",
       "    </tr>\n",
       "    <tr>\n",
       "      <th>4</th>\n",
       "      <td>1.988431</td>\n",
       "      <td>0.155413</td>\n",
       "      <td>4.751769</td>\n",
       "      <td>154.036647</td>\n",
       "    </tr>\n",
       "  </tbody>\n",
       "</table>\n",
       "</div>"
      ],
      "text/plain": [
       "         f0        f1        f2     product\n",
       "0  0.705745 -0.497823  1.221170  105.280062\n",
       "1  1.334711 -0.340164  4.365080   73.037750\n",
       "2  1.022732  0.151990  1.419926   85.265647\n",
       "3 -0.032172  0.139033  2.978566  168.620776\n",
       "4  1.988431  0.155413  4.751769  154.036647"
      ]
     },
     "metadata": {},
     "output_type": "display_data"
    },
    {
     "data": {
      "text/html": [
       "<div>\n",
       "<style scoped>\n",
       "    .dataframe tbody tr th:only-of-type {\n",
       "        vertical-align: middle;\n",
       "    }\n",
       "\n",
       "    .dataframe tbody tr th {\n",
       "        vertical-align: top;\n",
       "    }\n",
       "\n",
       "    .dataframe thead th {\n",
       "        text-align: right;\n",
       "    }\n",
       "</style>\n",
       "<table border=\"1\" class=\"dataframe\">\n",
       "  <thead>\n",
       "    <tr style=\"text-align: right;\">\n",
       "      <th></th>\n",
       "      <th>f0</th>\n",
       "      <th>f1</th>\n",
       "      <th>f2</th>\n",
       "      <th>product</th>\n",
       "    </tr>\n",
       "  </thead>\n",
       "  <tbody>\n",
       "    <tr>\n",
       "      <th>0</th>\n",
       "      <td>-15.001348</td>\n",
       "      <td>-8.276000</td>\n",
       "      <td>-0.005876</td>\n",
       "      <td>3.179103</td>\n",
       "    </tr>\n",
       "    <tr>\n",
       "      <th>1</th>\n",
       "      <td>14.272088</td>\n",
       "      <td>-3.475083</td>\n",
       "      <td>0.999183</td>\n",
       "      <td>26.953261</td>\n",
       "    </tr>\n",
       "    <tr>\n",
       "      <th>2</th>\n",
       "      <td>6.263187</td>\n",
       "      <td>-5.948386</td>\n",
       "      <td>5.001160</td>\n",
       "      <td>134.766305</td>\n",
       "    </tr>\n",
       "    <tr>\n",
       "      <th>3</th>\n",
       "      <td>-13.081196</td>\n",
       "      <td>-11.506057</td>\n",
       "      <td>4.999415</td>\n",
       "      <td>137.945408</td>\n",
       "    </tr>\n",
       "    <tr>\n",
       "      <th>4</th>\n",
       "      <td>12.702195</td>\n",
       "      <td>-8.147433</td>\n",
       "      <td>5.004363</td>\n",
       "      <td>134.766305</td>\n",
       "    </tr>\n",
       "  </tbody>\n",
       "</table>\n",
       "</div>"
      ],
      "text/plain": [
       "          f0         f1        f2     product\n",
       "0 -15.001348  -8.276000 -0.005876    3.179103\n",
       "1  14.272088  -3.475083  0.999183   26.953261\n",
       "2   6.263187  -5.948386  5.001160  134.766305\n",
       "3 -13.081196 -11.506057  4.999415  137.945408\n",
       "4  12.702195  -8.147433  5.004363  134.766305"
      ]
     },
     "metadata": {},
     "output_type": "display_data"
    },
    {
     "data": {
      "text/html": [
       "<div>\n",
       "<style scoped>\n",
       "    .dataframe tbody tr th:only-of-type {\n",
       "        vertical-align: middle;\n",
       "    }\n",
       "\n",
       "    .dataframe tbody tr th {\n",
       "        vertical-align: top;\n",
       "    }\n",
       "\n",
       "    .dataframe thead th {\n",
       "        text-align: right;\n",
       "    }\n",
       "</style>\n",
       "<table border=\"1\" class=\"dataframe\">\n",
       "  <thead>\n",
       "    <tr style=\"text-align: right;\">\n",
       "      <th></th>\n",
       "      <th>f0</th>\n",
       "      <th>f1</th>\n",
       "      <th>f2</th>\n",
       "      <th>product</th>\n",
       "    </tr>\n",
       "  </thead>\n",
       "  <tbody>\n",
       "    <tr>\n",
       "      <th>0</th>\n",
       "      <td>-1.146987</td>\n",
       "      <td>0.963328</td>\n",
       "      <td>-0.828965</td>\n",
       "      <td>27.758673</td>\n",
       "    </tr>\n",
       "    <tr>\n",
       "      <th>1</th>\n",
       "      <td>0.262778</td>\n",
       "      <td>0.269839</td>\n",
       "      <td>-2.530187</td>\n",
       "      <td>56.069697</td>\n",
       "    </tr>\n",
       "    <tr>\n",
       "      <th>2</th>\n",
       "      <td>0.194587</td>\n",
       "      <td>0.289035</td>\n",
       "      <td>-5.586433</td>\n",
       "      <td>62.871910</td>\n",
       "    </tr>\n",
       "    <tr>\n",
       "      <th>3</th>\n",
       "      <td>2.236060</td>\n",
       "      <td>-0.553760</td>\n",
       "      <td>0.930038</td>\n",
       "      <td>114.572842</td>\n",
       "    </tr>\n",
       "    <tr>\n",
       "      <th>4</th>\n",
       "      <td>-0.515993</td>\n",
       "      <td>1.716266</td>\n",
       "      <td>5.899011</td>\n",
       "      <td>149.600746</td>\n",
       "    </tr>\n",
       "  </tbody>\n",
       "</table>\n",
       "</div>"
      ],
      "text/plain": [
       "         f0        f1        f2     product\n",
       "0 -1.146987  0.963328 -0.828965   27.758673\n",
       "1  0.262778  0.269839 -2.530187   56.069697\n",
       "2  0.194587  0.289035 -5.586433   62.871910\n",
       "3  2.236060 -0.553760  0.930038  114.572842\n",
       "4 -0.515993  1.716266  5.899011  149.600746"
      ]
     },
     "metadata": {},
     "output_type": "display_data"
    }
   ],
   "source": [
    "display(reg1.head())\n",
    "display(reg2.head())\n",
    "display(reg3.head())"
   ]
  },
  {
   "cell_type": "markdown",
   "metadata": {},
   "source": [
    "Теперь обучим и проверим модель для каждого региона. Для этого:\n",
    "\n",
    "- разобьём данные на обучающую и валидационную выборки в соотношении 75:25;\n",
    "- обучим модель и сделаем предсказания на валидационной выборке;\n",
    "- сохраним предсказания и правильные ответы на валидационной выборке;\n",
    "- напечатаем на экране средний запас предсказанного сырья и RMSE модели."
   ]
  },
  {
   "cell_type": "code",
   "execution_count": 13,
   "metadata": {},
   "outputs": [
    {
     "name": "stdout",
     "output_type": "stream",
     "text": [
      "\n",
      "Для 1 региона:\n",
      "Средний запас фактического сырья = 92.58 тыс. баррелей\n",
      "Средний запас предсказанного сырья = 92.43 тыс. баррелей\n",
      "Разница = -0.16%\n",
      "RMSE модели = 37.56 тыс. баррелей\n",
      "\n",
      "Размер features_train: (75000, 3)\n",
      "Размер target_train: (75000,)\n",
      "Размер features_valid: (25000, 3)\n",
      "Размер target_valid: (25000,)\n",
      "\n",
      "Для 2 региона:\n",
      "Средний запас фактического сырья = 68.80 тыс. баррелей\n",
      "Средний запас предсказанного сырья = 68.80 тыс. баррелей\n",
      "Разница = -0.00%\n",
      "RMSE модели = 0.89 тыс. баррелей\n",
      "\n",
      "Размер features_train: (75000, 3)\n",
      "Размер target_train: (75000,)\n",
      "Размер features_valid: (25000, 3)\n",
      "Размер target_valid: (25000,)\n",
      "\n",
      "Для 3 региона:\n",
      "Средний запас фактического сырья = 94.97 тыс. баррелей\n",
      "Средний запас предсказанного сырья = 94.92 тыс. баррелей\n",
      "Разница = -0.06%\n",
      "RMSE модели = 40.10 тыс. баррелей\n",
      "\n",
      "Размер features_train: (75000, 3)\n",
      "Размер target_train: (75000,)\n",
      "Размер features_valid: (25000, 3)\n",
      "Размер target_valid: (25000,)\n"
     ]
    }
   ],
   "source": [
    "# создадим списки с наименованиями регионов и их датасетов\n",
    "reg_names = ['1', '2', '3']\n",
    "reg_df = [reg1, reg2, reg3]\n",
    "\n",
    "# создадим словарь для хранения фактического и предсказанных значений набора valid\n",
    "targets = {}\n",
    "\n",
    "# пройдём циклом по парам имя-датасет\n",
    "for name, df in zip(reg_names, reg_df):\n",
    "    \n",
    "    # создадим для каждой пары наборы признаков и целей\n",
    "    target = df['product']\n",
    "    features = df.drop('product', axis=1)\n",
    "        \n",
    "    # разобьём данные на обучающую и валидационную выборки в соотношении 75:25\n",
    "    features_train, features_valid, target_train, target_valid = train_test_split(\n",
    "    features, target, test_size=0.25, random_state=1234)\n",
    "    \n",
    "    # создадим pipeline из скелера и модели линейной регрессии\n",
    "    model = make_pipeline(StandardScaler(), LinearRegression())\n",
    "    \n",
    "    # обучим модель на обучающей выборке\n",
    "    model.fit(features_train, target_train)\n",
    "    \n",
    "    # запишем фактические данные и предсказанные в словарь\n",
    "    targets[name] = (target_valid, pd.Series(model.predict(features_valid), index=target_valid.index, name='product_predicted'))\n",
    "    \n",
    "    # напечатаем на экране средний запас предсказанного сырья и RMSE модели\n",
    "    print()\n",
    "    print(f'Для {name} региона:')\n",
    "    print(f'Средний запас фактического сырья = {targets[name][0].mean():.2f} тыс. баррелей')\n",
    "    print(f'Средний запас предсказанного сырья = {targets[name][1].mean():.2f} тыс. баррелей')\n",
    "    print(f'Разница = {(1-targets[name][0].mean()/targets[name][1].mean()):.2%}')\n",
    "    print(f'RMSE модели = {(mean_squared_error(target_valid, targets[name][1])**0.5):.2f} тыс. баррелей')\n",
    "    print()\n",
    "    print(f'Размер features_train: {features_train.shape}')\n",
    "    print(f'Размер target_train: {target_train.shape}')\n",
    "    print(f'Размер features_valid: {features_valid.shape}')\n",
    "    print(f'Размер target_valid: {target_valid.shape}')"
   ]
  },
  {
   "cell_type": "markdown",
   "metadata": {},
   "source": [
    "Таким образом, на 2-м шаге нашего исследования мы провели следующую работу:\n",
    "\n",
    "- разбили данные на обучающую и валидационную выборки в соотношении 75:25;\n",
    "- обучили модель (линейная регрессия) и сделали предсказания на валидационной выборке;\n",
    "- сохранили предсказания и правильные ответы на валидационной выборке;\n",
    "- напечатали на экране средний запас предсказанного сырья и RMSE модели.\n",
    "\n",
    "Видим, что минимальная разница между прогнозом и фактом во 2-м регионе (0.00% при RMSE модели = 0.89 тыс. баррелей), а наибольшую разницу мы получили в регионе 1 (0.16% при RMSE модели = 37.56 тыс. баррелей). При этом необходимо учесть существенную разницу в запасах сырья между данными регионами. "
   ]
  },
  {
   "cell_type": "markdown",
   "metadata": {},
   "source": [
    "## Подготовка к расчёту прибыли"
   ]
  },
  {
   "cell_type": "markdown",
   "metadata": {},
   "source": [
    "По условиям проекта при разведке региона исследуют 500 точек, из которых с помощью машинного обучения выбирают 200 лучших для разработки. Бюджет на разработку скважин в регионе составляет 10 млрд. рублей. При нынешних ценах один баррель сырья приносит 450 рублей дохода (доход с каждой единицы продукта составляет 450 тыс. рублей, поскольку объём указан в тысячах баррелей). После оценки рисков нужно оставить лишь те регионы, в которых вероятность убытков меньше 2.5%; среди них выбирают регион с наибольшей средней прибылью."
   ]
  },
  {
   "cell_type": "code",
   "execution_count": 14,
   "metadata": {},
   "outputs": [],
   "source": [
    "#сохраняем ключевые значения для расчётов в отдельных переменных\n",
    "points = 500\n",
    "best_points = 200\n",
    "budget = 10e9\n",
    "barrel_price = 450e3\n",
    "threshold = 0.025"
   ]
  },
  {
   "cell_type": "markdown",
   "metadata": {},
   "source": [
    "Рассчитаем достаточный объём сырья для безубыточной разработки новой скважины и сравним полученный объём сырья со средним запасом в каждом регионе."
   ]
  },
  {
   "cell_type": "code",
   "execution_count": 15,
   "metadata": {},
   "outputs": [
    {
     "name": "stdout",
     "output_type": "stream",
     "text": [
      "Достаточный объём сырья для безубыточной разработки = 111.11 тыс. баррелей\n"
     ]
    }
   ],
   "source": [
    "#рассчитаем точку безубыточности\n",
    "break_even = budget / (barrel_price*best_points)\n",
    "print(f'Достаточный объём сырья для безубыточной разработки = {break_even:.2f} тыс. баррелей')"
   ]
  },
  {
   "cell_type": "code",
   "execution_count": 16,
   "metadata": {},
   "outputs": [
    {
     "name": "stdout",
     "output_type": "stream",
     "text": [
      "\n",
      "Средний запас в 1 регионе = 92.50 тыс. баррелей.\n",
      "Процент скважин с объёмом больше, чем точка безубыточности = 36.58%\n",
      "Количество скважин в объёмом больше, чем точка безубыточности = 36583\n",
      "\n",
      "Средний запас в 2 регионе = 68.83 тыс. баррелей.\n",
      "Процент скважин с объёмом больше, чем точка безубыточности = 16.54%\n",
      "Количество скважин в объёмом больше, чем точка безубыточности = 16537\n",
      "\n",
      "Средний запас в 3 регионе = 95.00 тыс. баррелей.\n",
      "Процент скважин с объёмом больше, чем точка безубыточности = 38.18%\n",
      "Количество скважин в объёмом больше, чем точка безубыточности = 38178\n"
     ]
    }
   ],
   "source": [
    "#выведем на экран средний запас нефти в каждом из регионов\n",
    "#а также % и количество скважин с объемом большим, чем точка безуюбыточности\n",
    "for name, df in zip(reg_names, reg_df):\n",
    "    print()\n",
    "    print(f'Средний запас в {name} регионе = {df[\"product\"].mean():.2f} тыс. баррелей.')\n",
    "    print(f'Процент скважин с объёмом больше, чем точка безубыточности = {len(df.query(\"product > @break_even\"))/len(df):.2%}')\n",
    "    print(f'Количество скважин в объёмом больше, чем точка безубыточности = {len(df.query(\"product > @break_even\"))}')"
   ]
  },
  {
   "cell_type": "markdown",
   "metadata": {},
   "source": [
    "На данном этапе мы рассчитали точку безубыточности, а также средний запас нефти в каждом из регионов, процент и количество скважин с объемом большим, чем точка безубыточности.  \n",
    "Мы выяснили, что достаточный объём сырья для безубыточной разработки составляет 111.11 тыс. баррелей на скважину. При этом ни в одном из регионов процент скважин с объёмом больше, чем точка безубыточности, не достигает и 40%.\n",
    "Таким образом, чтобы вложения окупились, выбранные моделью скважины должны позволять добывать нефть в объемах, существенно превышающих 111.11 тыс. баррелей на скважину. "
   ]
  },
  {
   "cell_type": "markdown",
   "metadata": {},
   "source": [
    "## Расчёт прибыли и рисков "
   ]
  },
  {
   "cell_type": "markdown",
   "metadata": {},
   "source": [
    "На данном этапе исследования мы напишем функцию для расчёта прибыли по выбранным скважинам и предсказаниям модели. Для этого выберем скважины с максимальными значениями предсказаний, просуммируем целевое значение объёма сырья, соответствующее этим предсказаниям, и рассчитаем прибыль для полученного объёма сырья.\n",
    "После чего посчитаем риски и прибыль для каждого региона. Для этого применим технику Bootstrap с 1000 выборок, чтобы найти распределение прибыли, найдем среднюю прибыль, 95%-й доверительный интервал и риск убытков (т.е. отрицательной прибыли)."
   ]
  },
  {
   "cell_type": "code",
   "execution_count": 17,
   "metadata": {},
   "outputs": [],
   "source": [
    "#создаем функцию для расчёта прибыли\n",
    "def revenue(target, probabilities, count):\n",
    "    probs_sorted = probabilities.sort_values(ascending=False)[:count]\n",
    "    selected = target[probs_sorted.index]\n",
    "    return selected.sum() * barrel_price"
   ]
  },
  {
   "cell_type": "markdown",
   "metadata": {},
   "source": [
    "Теперь посчитаем риски и прибыль для каждого региона. Применим технику Bootstrap с 1000 выборок."
   ]
  },
  {
   "cell_type": "code",
   "execution_count": 18,
   "metadata": {},
   "outputs": [
    {
     "name": "stdout",
     "output_type": "stream",
     "text": [
      "\n",
      "Для 1 региона:\n",
      "Прибыль с 200 лучших скважин, отобраных по предсказанию: 387 млн. рублей.\n",
      "Доверительный интервал лежит между -165 - 872 млн. рублей.\n",
      "Риск убытков составляет: 6.90%\n",
      "\n",
      "Для 2 региона:\n",
      "Прибыль с 200 лучших скважин, отобраных по предсказанию: 434 млн. рублей.\n",
      "Доверительный интервал лежит между 47 - 820 млн. рублей.\n",
      "Риск убытков составляет: 1.30%\n",
      "\n",
      "Для 3 региона:\n",
      "Прибыль с 200 лучших скважин, отобраных по предсказанию: 332 млн. рублей.\n",
      "Доверительный интервал лежит между -191 - 865 млн. рублей.\n",
      "Риск убытков составляет: 10.10%\n"
     ]
    }
   ],
   "source": [
    "for name in reg_names:\n",
    "    state = np.random.RandomState(12345)\n",
    "    values = []\n",
    "    for _ in range(1000):\n",
    "        target_subsample = targets[name][0].sample(points, replace=True, random_state=state)\n",
    "        probs_subsample = targets[name][1][target_subsample.index]\n",
    "        target_subsample = target_subsample.reset_index(drop=True)\n",
    "        probs_subsample = probs_subsample.reset_index(drop=True)\n",
    "        values.append(revenue(target_subsample, probs_subsample, best_points) - budget)\n",
    "        \n",
    "    values = pd.Series(values)\n",
    "        \n",
    "    mean = values.mean() / 1e6\n",
    "    lower = values.quantile(.025) / 1e6\n",
    "    upper = values.quantile(.975) / 1e6\n",
    "    \n",
    "    risk = values.apply(lambda x: x < 0).sum() / len(values)\n",
    "\n",
    "    print()\n",
    "    print(f'Для {name} региона:')\n",
    "    print(f'Прибыль с 200 лучших скважин, отобраных по предсказанию: {mean:.0f} млн. рублей.')\n",
    "    print(f'Доверительный интервал лежит между {lower:.0f} - {upper:.0f} млн. рублей.')\n",
    "    print(f'Риск убытков составляет: {risk:.2%}')"
   ]
  },
  {
   "cell_type": "markdown",
   "metadata": {},
   "source": [
    "Как мы видим, наибольшая прибыль (434 млн. руб.) возможна в регионе 2. При этом в данном регионе также и наименьший риск убытков (он составляет 1.30%). Таким образом, для разработки скважин целесообразно рекомендовать именно 2-й регион. "
   ]
  },
  {
   "cell_type": "markdown",
   "metadata": {},
   "source": [
    "## Общий вывод:\n",
    "\n",
    "Целью нашего исследования было построить модель для определения региона, где добыча нефти принесёт наибольшую прибыль, а также проанализировать возможную прибыль и риски техникой Bootstrap. Для проведения анализа были представлены данные геологоразведки трёх регионов:\n",
    "\n",
    "- */datasets/geo_data_0.csv*;\n",
    "- */datasets/geo_data_1.csv*;\n",
    "- */datasets/geo_data_2.csv*.\n",
    "\n",
    "Каждый из датафреймов состоит из 5 столбцов и 10 000 строк. Названия столбцов одинаковы для каждого датафрейма. Значения четырех столбцов относятся к вещественному типу (это f0, f1, f2 и product) и одного - к строковому (id). Использованные типы данных корректны. Явные противоречия в данных, либо маловероятные значения отсутствуют. Пропуски данных отсутствуют. Явные и неявные дубликаты отсутствуют.\n",
    "\n",
    "На 2-м шаге нашего исследования мы провели следующую работу:\n",
    "\n",
    "- разбили данные на обучающую и валидационную выборки в соотношении 75:25;\n",
    "- обучили модель (линейная регрессия) и сделали предсказания на валидационной выборке;\n",
    "- сохранили предсказания и правильные ответы на валидационной выборке;\n",
    "- напечатали на экране средний запас предсказанного сырья и RMSE модели.\n",
    "\n",
    "В результате установлено, что минимальная разница между прогнозом и фактом во 2-м регионе (0.00% при RMSE модели = 0.89 тыс. баррелей), а наибольшую разницу мы получили в регионе 1 (0.16% при RMSE модели = 37.56 тыс. баррелей).\n",
    "\n",
    "Далее мы рассчитали точку безубыточности, а также средний запас нефти в каждом из регионов, процент и количество скважин с объемом большим, чем точка безубыточности. Мы выяснили, что достаточный объём сырья для безубыточной разработки составляет 111.11 тыс. баррелей на скважину. При этом ни в одном из регионов процент скважин с объёмом больше, чем точка безубыточности, не достигает и 40%. Таким образом, чтобы вложения окупились, выбранные моделью скважины должны позволять добывать нефть в объемах, существенно превышающих 111.11 тыс. баррелей на скважину.\n",
    "\n",
    "При расчете прибыли и убытков установлено следующее:\n",
    "\n",
    "1) **Для 1 региона:**\n",
    "\n",
    "- прибыль с 200 лучших скважин, отобраных по предсказанию: 387 млн. рублей;\n",
    "- доверительный интервал лежит между -165 - 872 млн. рублей;\n",
    "- риск убытков составляет: 6.90%\n",
    "\n",
    "2) **Для 2 региона:**\n",
    "\n",
    "- прибыль с 200 лучших скважин, отобраных по предсказанию: 434 млн. рублей;\n",
    "- доверительный интервал лежит между 47 - 820 млн. рублей;\n",
    "- риск убытков составляет: 1.30%\n",
    "\n",
    "3) **Для 3 региона:**\n",
    "\n",
    "- прибыль с 200 лучших скважин, отобраных по предсказанию = 332 млн. рублей;\n",
    "- доверительный интервал лежит между -191 - 865 млн. рублей;\n",
    "- риск убытков составляет = 10.10%\n",
    "\n",
    "Как мы видим, **наибольшая прибыль (434 млн. руб.) возможна в регионе 2. При этом в данном регионе также и наименьший риск убытков (он составляет 1.30%). Таким образом, для разработки скважин целесообразно рекомендовать именно 2-й регион.**"
   ]
  },
   {
   "cell_type": "code",
   "execution_count": null,
   "metadata": {},
   "outputs": [],
   "source": []
  }
 ],
 "metadata": {
  "ExecuteTimeLog": [
   {
    "duration": 1587,
    "start_time": "2023-06-14T14:36:25.580Z"
   },
   {
    "duration": 2029,
    "start_time": "2023-06-14T14:36:27.169Z"
   },
   {
    "duration": 418,
    "start_time": "2023-06-14T14:36:52.397Z"
   },
   {
    "duration": 1687,
    "start_time": "2023-06-15T06:40:47.016Z"
   },
   {
    "duration": 229,
    "start_time": "2023-06-15T06:52:01.146Z"
   },
   {
    "duration": 8,
    "start_time": "2023-06-15T06:52:13.158Z"
   },
   {
    "duration": 3372,
    "start_time": "2023-06-15T06:52:13.822Z"
   },
   {
    "duration": 59,
    "start_time": "2023-06-15T06:52:19.972Z"
   },
   {
    "duration": 26,
    "start_time": "2023-06-15T07:01:20.139Z"
   },
   {
    "duration": 442,
    "start_time": "2023-06-15T07:15:03.902Z"
   },
   {
    "duration": 127,
    "start_time": "2023-06-15T07:15:42.119Z"
   },
   {
    "duration": 102,
    "start_time": "2023-06-15T07:15:42.625Z"
   },
   {
    "duration": 116,
    "start_time": "2023-06-15T07:15:43.249Z"
   },
   {
    "duration": 39,
    "start_time": "2023-06-15T07:16:15.417Z"
   },
   {
    "duration": 50,
    "start_time": "2023-06-15T07:16:31.350Z"
   },
   {
    "duration": 47,
    "start_time": "2023-06-15T07:16:31.966Z"
   },
   {
    "duration": 52,
    "start_time": "2023-06-15T07:16:32.350Z"
   },
   {
    "duration": 83,
    "start_time": "2023-06-15T07:18:57.039Z"
   },
   {
    "duration": 14,
    "start_time": "2023-06-15T07:19:20.622Z"
   },
   {
    "duration": 21,
    "start_time": "2023-06-15T07:19:21.191Z"
   },
   {
    "duration": 25,
    "start_time": "2023-06-15T07:19:21.591Z"
   },
   {
    "duration": 155,
    "start_time": "2023-06-15T07:25:02.983Z"
   },
   {
    "duration": 103,
    "start_time": "2023-06-15T09:30:06.595Z"
   },
   {
    "duration": 11,
    "start_time": "2023-06-15T11:38:43.586Z"
   },
   {
    "duration": 6,
    "start_time": "2023-06-15T11:40:48.387Z"
   },
   {
    "duration": 1870,
    "start_time": "2023-06-15T11:40:54.191Z"
   },
   {
    "duration": 39,
    "start_time": "2023-06-15T11:40:56.063Z"
   },
   {
    "duration": 34,
    "start_time": "2023-06-15T11:40:56.103Z"
   },
   {
    "duration": 45,
    "start_time": "2023-06-15T11:40:56.273Z"
   },
   {
    "duration": 38,
    "start_time": "2023-06-15T11:40:56.634Z"
   },
   {
    "duration": 15,
    "start_time": "2023-06-15T11:40:57.417Z"
   },
   {
    "duration": 22,
    "start_time": "2023-06-15T11:40:57.683Z"
   },
   {
    "duration": 16,
    "start_time": "2023-06-15T11:40:57.922Z"
   },
   {
    "duration": 122,
    "start_time": "2023-06-15T11:40:58.401Z"
   },
   {
    "duration": 1593,
    "start_time": "2023-06-15T11:41:01.698Z"
   },
   {
    "duration": 6,
    "start_time": "2023-06-15T12:31:55.512Z"
   },
   {
    "duration": 14,
    "start_time": "2023-06-15T13:49:30.847Z"
   },
   {
    "duration": 18,
    "start_time": "2023-06-15T13:56:13.516Z"
   },
   {
    "duration": 28,
    "start_time": "2023-06-15T13:57:34.136Z"
   },
   {
    "duration": 7,
    "start_time": "2023-06-15T13:58:15.419Z"
   },
   {
    "duration": 557,
    "start_time": "2023-06-15T13:58:23.140Z"
   },
   {
    "duration": 13,
    "start_time": "2023-06-15T14:06:01.235Z"
   },
   {
    "duration": 1413,
    "start_time": "2023-06-15T14:10:13.552Z"
   },
   {
    "duration": 1352,
    "start_time": "2023-06-15T14:10:37.903Z"
   },
   {
    "duration": 1421,
    "start_time": "2023-06-15T14:12:33.769Z"
   },
   {
    "duration": 1280,
    "start_time": "2023-06-15T14:14:34.020Z"
   },
   {
    "duration": 1237,
    "start_time": "2023-06-15T14:15:58.551Z"
   },
   {
    "duration": 1122,
    "start_time": "2023-06-15T14:17:10.515Z"
   },
   {
    "duration": 514,
    "start_time": "2023-06-15T14:17:20.163Z"
   },
   {
    "duration": 458,
    "start_time": "2023-06-15T14:20:54.232Z"
   },
   {
    "duration": 134,
    "start_time": "2023-06-15T14:22:00.657Z"
   },
   {
    "duration": 513,
    "start_time": "2023-06-15T14:23:32.656Z"
   },
   {
    "duration": 469,
    "start_time": "2023-06-15T14:23:56.508Z"
   },
   {
    "duration": 548,
    "start_time": "2023-06-15T14:25:40.321Z"
   },
   {
    "duration": 387,
    "start_time": "2023-06-15T14:27:48.515Z"
   },
   {
    "duration": 484,
    "start_time": "2023-06-15T14:32:03.030Z"
   },
   {
    "duration": 398,
    "start_time": "2023-06-15T14:33:22.614Z"
   },
   {
    "duration": 23,
    "start_time": "2023-06-15T14:37:58.385Z"
   },
   {
    "duration": 506,
    "start_time": "2023-06-15T14:38:56.378Z"
   },
   {
    "duration": 533,
    "start_time": "2023-06-15T14:39:23.647Z"
   },
   {
    "duration": 471,
    "start_time": "2023-06-15T14:39:37.141Z"
   },
   {
    "duration": 462,
    "start_time": "2023-06-15T14:39:54.614Z"
   },
   {
    "duration": 526,
    "start_time": "2023-06-15T15:05:49.169Z"
   },
   {
    "duration": 2354,
    "start_time": "2023-06-16T16:15:34.770Z"
   },
   {
    "duration": 1782,
    "start_time": "2023-06-16T16:15:37.127Z"
   },
   {
    "duration": 25,
    "start_time": "2023-06-16T16:15:38.911Z"
   },
   {
    "duration": 61,
    "start_time": "2023-06-16T16:15:38.937Z"
   },
   {
    "duration": 35,
    "start_time": "2023-06-16T16:15:39.000Z"
   },
   {
    "duration": 68,
    "start_time": "2023-06-16T16:15:39.037Z"
   },
   {
    "duration": 52,
    "start_time": "2023-06-16T16:15:39.155Z"
   },
   {
    "duration": 21,
    "start_time": "2023-06-16T16:15:40.120Z"
   },
   {
    "duration": 18,
    "start_time": "2023-06-16T16:15:40.576Z"
   },
   {
    "duration": 144,
    "start_time": "2023-06-16T16:15:41.477Z"
   },
   {
    "duration": 1779,
    "start_time": "2023-06-16T16:15:43.757Z"
   },
   {
    "duration": 645,
    "start_time": "2023-06-16T16:15:45.538Z"
   },
   {
    "duration": 299,
    "start_time": "2023-06-16T16:16:48.014Z"
   },
   {
    "duration": 470,
    "start_time": "2023-06-16T16:17:21.107Z"
   },
   {
    "duration": 4,
    "start_time": "2023-06-16T16:31:16.980Z"
   },
   {
    "duration": 7,
    "start_time": "2023-06-16T16:34:03.863Z"
   },
   {
    "duration": 4,
    "start_time": "2023-06-16T16:52:32.360Z"
   },
   {
    "duration": 40,
    "start_time": "2023-06-16T17:00:25.466Z"
   },
   {
    "duration": 3,
    "start_time": "2023-06-16T17:00:40.055Z"
   },
   {
    "duration": 4,
    "start_time": "2023-06-16T17:00:41.386Z"
   },
   {
    "duration": 39,
    "start_time": "2023-06-16T17:00:42.289Z"
   },
   {
    "duration": 33,
    "start_time": "2023-06-16T17:01:04.206Z"
   },
   {
    "duration": 492,
    "start_time": "2023-06-16T17:05:09.703Z"
   },
   {
    "duration": 464,
    "start_time": "2023-06-16T17:05:26.747Z"
   },
   {
    "duration": 9,
    "start_time": "2023-06-16T17:12:14.259Z"
   },
   {
    "duration": 8,
    "start_time": "2023-06-16T17:12:35.576Z"
   },
   {
    "duration": 2,
    "start_time": "2023-06-16T17:12:40.008Z"
   },
   {
    "duration": 428,
    "start_time": "2023-06-16T17:12:42.354Z"
   },
   {
    "duration": 1485,
    "start_time": "2023-06-16T17:13:10.665Z"
   },
   {
    "duration": 421,
    "start_time": "2023-06-16T17:13:12.152Z"
   },
   {
    "duration": 26,
    "start_time": "2023-06-16T17:13:12.575Z"
   },
   {
    "duration": 42,
    "start_time": "2023-06-16T17:13:12.603Z"
   },
   {
    "duration": 40,
    "start_time": "2023-06-16T17:13:12.668Z"
   },
   {
    "duration": 57,
    "start_time": "2023-06-16T17:13:12.711Z"
   },
   {
    "duration": 54,
    "start_time": "2023-06-16T17:13:13.075Z"
   },
   {
    "duration": 16,
    "start_time": "2023-06-16T17:13:13.294Z"
   },
   {
    "duration": 15,
    "start_time": "2023-06-16T17:13:13.554Z"
   },
   {
    "duration": 185,
    "start_time": "2023-06-16T17:13:14.094Z"
   },
   {
    "duration": 22,
    "start_time": "2023-06-16T17:13:15.596Z"
   },
   {
    "duration": 3,
    "start_time": "2023-06-16T17:13:16.164Z"
   },
   {
    "duration": 434,
    "start_time": "2023-06-16T17:13:16.652Z"
   },
   {
    "duration": 1396,
    "start_time": "2023-06-16T17:19:27.651Z"
   },
   {
    "duration": 424,
    "start_time": "2023-06-16T17:19:29.049Z"
   },
   {
    "duration": 26,
    "start_time": "2023-06-16T17:19:29.475Z"
   },
   {
    "duration": 40,
    "start_time": "2023-06-16T17:19:29.503Z"
   },
   {
    "duration": 58,
    "start_time": "2023-06-16T17:19:29.544Z"
   },
   {
    "duration": 35,
    "start_time": "2023-06-16T17:19:29.604Z"
   },
   {
    "duration": 52,
    "start_time": "2023-06-16T17:19:29.668Z"
   },
   {
    "duration": 15,
    "start_time": "2023-06-16T17:19:29.919Z"
   },
   {
    "duration": 16,
    "start_time": "2023-06-16T17:19:30.196Z"
   },
   {
    "duration": 122,
    "start_time": "2023-06-16T17:19:30.718Z"
   },
   {
    "duration": 19,
    "start_time": "2023-06-16T17:19:32.312Z"
   },
   {
    "duration": 19,
    "start_time": "2023-06-16T17:19:32.553Z"
   },
   {
    "duration": 464,
    "start_time": "2023-06-16T17:19:53.323Z"
   },
   {
    "duration": 2,
    "start_time": "2023-06-16T17:22:39.694Z"
   },
   {
    "duration": 4,
    "start_time": "2023-06-16T17:22:41.244Z"
   },
   {
    "duration": 29,
    "start_time": "2023-06-16T17:22:42.481Z"
   },
   {
    "duration": 27,
    "start_time": "2023-06-16T17:33:16.166Z"
   },
   {
    "duration": 4,
    "start_time": "2023-06-16T17:48:10.733Z"
   },
   {
    "duration": 3702,
    "start_time": "2023-06-16T20:44:09.187Z"
   },
   {
    "duration": 3113,
    "start_time": "2023-06-16T20:54:42.524Z"
   },
   {
    "duration": 76,
    "start_time": "2023-06-16T21:08:42.036Z"
   },
   {
    "duration": 6,
    "start_time": "2023-06-16T21:10:15.085Z"
   },
   {
    "duration": 115,
    "start_time": "2023-06-16T21:10:40.083Z"
   },
   {
    "duration": 9,
    "start_time": "2023-06-16T21:13:03.304Z"
   },
   {
    "duration": 169,
    "start_time": "2023-06-16T21:36:59.800Z"
   },
   {
    "duration": 139,
    "start_time": "2023-06-16T21:38:08.931Z"
   },
   {
    "duration": 67,
    "start_time": "2023-06-16T21:39:21.648Z"
   },
   {
    "duration": 126,
    "start_time": "2023-06-16T21:39:53.848Z"
   },
   {
    "duration": 8,
    "start_time": "2023-06-16T21:41:34.521Z"
   },
   {
    "duration": 17,
    "start_time": "2023-06-16T21:41:35.996Z"
   },
   {
    "duration": 17,
    "start_time": "2023-06-16T21:41:40.903Z"
   },
   {
    "duration": 1367,
    "start_time": "2023-06-16T21:42:17.764Z"
   },
   {
    "duration": 385,
    "start_time": "2023-06-16T21:42:19.133Z"
   },
   {
    "duration": 27,
    "start_time": "2023-06-16T21:42:19.778Z"
   },
   {
    "duration": 38,
    "start_time": "2023-06-16T21:42:20.325Z"
   },
   {
    "duration": 35,
    "start_time": "2023-06-16T21:42:20.866Z"
   },
   {
    "duration": 35,
    "start_time": "2023-06-16T21:42:21.549Z"
   },
   {
    "duration": 56,
    "start_time": "2023-06-16T21:42:23.195Z"
   },
   {
    "duration": 14,
    "start_time": "2023-06-16T21:42:23.332Z"
   },
   {
    "duration": 17,
    "start_time": "2023-06-16T21:42:23.945Z"
   },
   {
    "duration": 116,
    "start_time": "2023-06-16T21:42:24.921Z"
   },
   {
    "duration": 17,
    "start_time": "2023-06-16T21:42:27.342Z"
   },
   {
    "duration": 17,
    "start_time": "2023-06-16T21:42:27.803Z"
   },
   {
    "duration": 371,
    "start_time": "2023-06-16T21:42:28.721Z"
   },
   {
    "duration": 3,
    "start_time": "2023-06-16T21:42:30.775Z"
   },
   {
    "duration": 3,
    "start_time": "2023-06-16T21:42:31.696Z"
   },
   {
    "duration": 24,
    "start_time": "2023-06-16T21:42:32.143Z"
   },
   {
    "duration": 3,
    "start_time": "2023-06-16T21:42:33.984Z"
   },
   {
    "duration": 3151,
    "start_time": "2023-06-16T21:42:34.942Z"
   },
   {
    "duration": 1344,
    "start_time": "2023-06-16T21:43:28.111Z"
   },
   {
    "duration": 403,
    "start_time": "2023-06-16T21:43:29.456Z"
   },
   {
    "duration": 35,
    "start_time": "2023-06-16T21:43:29.861Z"
   },
   {
    "duration": 40,
    "start_time": "2023-06-16T21:43:30.408Z"
   },
   {
    "duration": 51,
    "start_time": "2023-06-16T21:43:30.840Z"
   },
   {
    "duration": 35,
    "start_time": "2023-06-16T21:43:31.287Z"
   },
   {
    "duration": 55,
    "start_time": "2023-06-16T21:43:32.168Z"
   },
   {
    "duration": 21,
    "start_time": "2023-06-16T21:43:32.569Z"
   },
   {
    "duration": 19,
    "start_time": "2023-06-16T21:43:32.980Z"
   },
   {
    "duration": 138,
    "start_time": "2023-06-16T21:43:33.789Z"
   },
   {
    "duration": 18,
    "start_time": "2023-06-16T21:43:35.905Z"
   },
   {
    "duration": 22,
    "start_time": "2023-06-16T21:43:36.357Z"
   },
   {
    "duration": 273,
    "start_time": "2023-06-16T21:43:37.208Z"
   },
   {
    "duration": 2,
    "start_time": "2023-06-16T21:43:39.099Z"
   },
   {
    "duration": 4,
    "start_time": "2023-06-16T21:43:40.007Z"
   },
   {
    "duration": 27,
    "start_time": "2023-06-16T21:43:40.459Z"
   },
   {
    "duration": 2,
    "start_time": "2023-06-16T21:43:42.216Z"
   },
   {
    "duration": 3291,
    "start_time": "2023-06-16T21:43:43.088Z"
   },
   {
    "duration": 1809,
    "start_time": "2023-06-17T01:42:35.226Z"
   },
   {
    "duration": 427,
    "start_time": "2023-06-17T01:42:37.037Z"
   },
   {
    "duration": 29,
    "start_time": "2023-06-17T01:42:37.465Z"
   },
   {
    "duration": 43,
    "start_time": "2023-06-17T01:42:57.863Z"
   },
   {
    "duration": 38,
    "start_time": "2023-06-17T01:42:58.469Z"
   },
   {
    "duration": 43,
    "start_time": "2023-06-17T01:42:59.353Z"
   },
   {
    "duration": 80,
    "start_time": "2023-06-17T01:43:13.843Z"
   },
   {
    "duration": 17,
    "start_time": "2023-06-17T01:43:14.485Z"
   },
   {
    "duration": 17,
    "start_time": "2023-06-17T01:43:14.963Z"
   },
   {
    "duration": 149,
    "start_time": "2023-06-17T01:43:17.807Z"
   },
   {
    "duration": 18,
    "start_time": "2023-06-17T01:46:26.396Z"
   },
   {
    "duration": 23,
    "start_time": "2023-06-17T01:46:37.973Z"
   },
   {
    "duration": 433,
    "start_time": "2023-06-17T01:47:33.986Z"
   },
   {
    "duration": 109,
    "start_time": "2023-06-17T01:51:21.459Z"
   },
   {
    "duration": 3,
    "start_time": "2023-06-17T01:51:25.877Z"
   },
   {
    "duration": 4,
    "start_time": "2023-06-17T01:51:26.202Z"
   },
   {
    "duration": 19,
    "start_time": "2023-06-17T01:52:20.853Z"
   },
   {
    "duration": 27,
    "start_time": "2023-06-17T01:52:35.160Z"
   },
   {
    "duration": 3,
    "start_time": "2023-06-17T01:53:57.159Z"
   },
   {
    "duration": 3654,
    "start_time": "2023-06-17T01:54:47.427Z"
   },
   {
    "duration": 4,
    "start_time": "2023-06-17T01:55:13.323Z"
   },
   {
    "duration": 11,
    "start_time": "2023-06-17T08:05:10.846Z"
   },
   {
    "duration": 3,
    "start_time": "2023-06-17T08:10:02.457Z"
   },
   {
    "duration": 61,
    "start_time": "2023-06-17T08:10:07.810Z"
   },
   {
    "duration": 3,
    "start_time": "2023-06-17T08:10:13.406Z"
   },
   {
    "duration": 12,
    "start_time": "2023-06-17T08:13:29.711Z"
   },
   {
    "duration": 1573,
    "start_time": "2023-06-17T08:28:09.877Z"
   },
   {
    "duration": 1729,
    "start_time": "2023-06-17T08:28:11.452Z"
   },
   {
    "duration": 29,
    "start_time": "2023-06-17T08:28:13.182Z"
   },
   {
    "duration": 60,
    "start_time": "2023-06-17T08:28:13.213Z"
   },
   {
    "duration": 38,
    "start_time": "2023-06-17T08:28:13.274Z"
   },
   {
    "duration": 60,
    "start_time": "2023-06-17T08:28:13.313Z"
   },
   {
    "duration": 55,
    "start_time": "2023-06-17T08:28:13.854Z"
   },
   {
    "duration": 16,
    "start_time": "2023-06-17T08:28:14.307Z"
   },
   {
    "duration": 17,
    "start_time": "2023-06-17T08:28:14.715Z"
   },
   {
    "duration": 119,
    "start_time": "2023-06-17T08:28:15.522Z"
   },
   {
    "duration": 20,
    "start_time": "2023-06-17T08:28:18.650Z"
   },
   {
    "duration": 20,
    "start_time": "2023-06-17T08:28:19.510Z"
   },
   {
    "duration": 485,
    "start_time": "2023-06-17T08:28:20.371Z"
   },
   {
    "duration": 3,
    "start_time": "2023-06-17T08:28:23.570Z"
   },
   {
    "duration": 3,
    "start_time": "2023-06-17T08:28:24.919Z"
   },
   {
    "duration": 25,
    "start_time": "2023-06-17T08:28:26.522Z"
   },
   {
    "duration": 3,
    "start_time": "2023-06-17T08:28:30.147Z"
   },
   {
    "duration": 3100,
    "start_time": "2023-06-17T08:28:44.146Z"
   },
   {
    "duration": 3129,
    "start_time": "2023-06-17T08:29:18.735Z"
   },
   {
    "duration": 1481,
    "start_time": "2023-06-17T08:35:58.703Z"
   },
   {
    "duration": 436,
    "start_time": "2023-06-17T08:36:00.186Z"
   },
   {
    "duration": 55,
    "start_time": "2023-06-17T08:36:00.623Z"
   },
   {
    "duration": 55,
    "start_time": "2023-06-17T08:36:01.100Z"
   },
   {
    "duration": 49,
    "start_time": "2023-06-17T08:36:01.549Z"
   },
   {
    "duration": 35,
    "start_time": "2023-06-17T08:36:02.010Z"
   },
   {
    "duration": 71,
    "start_time": "2023-06-17T08:36:02.854Z"
   },
   {
    "duration": 16,
    "start_time": "2023-06-17T08:36:03.301Z"
   },
   {
    "duration": 16,
    "start_time": "2023-06-17T08:36:03.713Z"
   },
   {
    "duration": 127,
    "start_time": "2023-06-17T08:36:04.570Z"
   },
   {
    "duration": 15,
    "start_time": "2023-06-17T08:36:07.702Z"
   },
   {
    "duration": 27,
    "start_time": "2023-06-17T08:36:08.532Z"
   },
   {
    "duration": 364,
    "start_time": "2023-06-17T08:36:09.408Z"
   },
   {
    "duration": 3,
    "start_time": "2023-06-17T08:36:12.723Z"
   },
   {
    "duration": 3,
    "start_time": "2023-06-17T08:36:14.097Z"
   },
   {
    "duration": 30,
    "start_time": "2023-06-17T08:36:15.050Z"
   },
   {
    "duration": 5,
    "start_time": "2023-06-17T08:36:17.825Z"
   },
   {
    "duration": 3025,
    "start_time": "2023-06-17T08:36:19.747Z"
   }
  ],
  "kernelspec": {
   "display_name": "Python 3 (ipykernel)",
   "language": "python",
   "name": "python3"
  },
  "language_info": {
   "codemirror_mode": {
    "name": "ipython",
    "version": 3
   },
   "file_extension": ".py",
   "mimetype": "text/x-python",
   "name": "python",
   "nbconvert_exporter": "python",
   "pygments_lexer": "ipython3",
   "version": "3.9.5"
  },
  "toc": {
   "base_numbering": 1,
   "nav_menu": {},
   "number_sections": true,
   "sideBar": true,
   "skip_h1_title": true,
   "title_cell": "Table of Contents",
   "title_sidebar": "Contents",
   "toc_cell": false,
   "toc_position": {},
   "toc_section_display": true,
   "toc_window_display": false
  }
 },
 "nbformat": 4,
 "nbformat_minor": 4
}
