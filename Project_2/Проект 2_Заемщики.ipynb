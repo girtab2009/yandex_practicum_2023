{
 "cells": [
  {
   "cell_type": "markdown",
   "id": "8c2dca85",
   "metadata": {
    "deletable": false,
    "editable": false,
    "id": "c81daeeb"
   },
   "source": [
    "# Исследование надежности заемщиков\n"
   ]
  },
  {
   "cell_type": "markdown",
   "id": "88d45e31",
   "metadata": {
    "deletable": false,
    "editable": false,
    "id": "827c20bf"
   },
   "source": [
    "Во второй части проекта вы выполните шаги 3 и 4. Их вручную проверит ревьюер.\n",
    "Чтобы вам не пришлось писать код заново для шагов 1 и 2, мы добавили авторские решения в ячейки с кодом. \n",
    "\n"
   ]
  },
  {
   "cell_type": "markdown",
   "id": "2bb34443",
   "metadata": {
    "deletable": false,
    "editable": false,
    "id": "744d7639"
   },
   "source": [
    "## Откройте таблицу и изучите общую информацию о данных"
   ]
  },
  {
   "cell_type": "markdown",
   "id": "d5de2e56",
   "metadata": {
    "deletable": false,
    "editable": false,
    "id": "e7a14c31"
   },
   "source": [
    "**Задание 1. Импортируйте библиотеку pandas. Считайте данные из csv-файла в датафрейм и сохраните в переменную `data`. Путь к файлу:**\n",
    "\n",
    "`/datasets/data.csv`"
   ]
  },
  {
   "cell_type": "code",
   "execution_count": 1,
   "id": "617e6ffc",
   "metadata": {
    "deletable": false,
    "id": "7bcf75c9"
   },
   "outputs": [],
   "source": [
    "import pandas as pd\n",
    "import matplotlib\n",
    "import seaborn\n",
    "\n",
    "try:\n",
    "    data = pd.read_csv('/datasets/data.csv')\n",
    "except:\n",
    "    data = pd.read_csv('https://code.s3.yandex.net/datasets/data.csv')"
   ]
  },
  {
   "cell_type": "markdown",
   "id": "caf4f5a0",
   "metadata": {
    "deletable": false,
    "editable": false,
    "id": "b8038fe3"
   },
   "source": [
    "**Задание 2. Выведите первые 20 строчек датафрейма `data` на экран.**"
   ]
  },
  {
   "cell_type": "code",
   "execution_count": 2,
   "id": "297fb8b2",
   "metadata": {
    "deletable": false,
    "id": "2a7cab99",
    "outputId": "1a8f3ef2-d323-4ec2-ddf7-89670b5944c4"
   },
   "outputs": [
    {
     "data": {
      "text/html": [
       "<div>\n",
       "<style scoped>\n",
       "    .dataframe tbody tr th:only-of-type {\n",
       "        vertical-align: middle;\n",
       "    }\n",
       "\n",
       "    .dataframe tbody tr th {\n",
       "        vertical-align: top;\n",
       "    }\n",
       "\n",
       "    .dataframe thead th {\n",
       "        text-align: right;\n",
       "    }\n",
       "</style>\n",
       "<table border=\"1\" class=\"dataframe\">\n",
       "  <thead>\n",
       "    <tr style=\"text-align: right;\">\n",
       "      <th></th>\n",
       "      <th>children</th>\n",
       "      <th>days_employed</th>\n",
       "      <th>dob_years</th>\n",
       "      <th>education</th>\n",
       "      <th>education_id</th>\n",
       "      <th>family_status</th>\n",
       "      <th>family_status_id</th>\n",
       "      <th>gender</th>\n",
       "      <th>income_type</th>\n",
       "      <th>debt</th>\n",
       "      <th>total_income</th>\n",
       "      <th>purpose</th>\n",
       "    </tr>\n",
       "  </thead>\n",
       "  <tbody>\n",
       "    <tr>\n",
       "      <th>0</th>\n",
       "      <td>1</td>\n",
       "      <td>-8437.673028</td>\n",
       "      <td>42</td>\n",
       "      <td>высшее</td>\n",
       "      <td>0</td>\n",
       "      <td>женат / замужем</td>\n",
       "      <td>0</td>\n",
       "      <td>F</td>\n",
       "      <td>сотрудник</td>\n",
       "      <td>0</td>\n",
       "      <td>253875.639453</td>\n",
       "      <td>покупка жилья</td>\n",
       "    </tr>\n",
       "    <tr>\n",
       "      <th>1</th>\n",
       "      <td>1</td>\n",
       "      <td>-4024.803754</td>\n",
       "      <td>36</td>\n",
       "      <td>среднее</td>\n",
       "      <td>1</td>\n",
       "      <td>женат / замужем</td>\n",
       "      <td>0</td>\n",
       "      <td>F</td>\n",
       "      <td>сотрудник</td>\n",
       "      <td>0</td>\n",
       "      <td>112080.014102</td>\n",
       "      <td>приобретение автомобиля</td>\n",
       "    </tr>\n",
       "    <tr>\n",
       "      <th>2</th>\n",
       "      <td>0</td>\n",
       "      <td>-5623.422610</td>\n",
       "      <td>33</td>\n",
       "      <td>Среднее</td>\n",
       "      <td>1</td>\n",
       "      <td>женат / замужем</td>\n",
       "      <td>0</td>\n",
       "      <td>M</td>\n",
       "      <td>сотрудник</td>\n",
       "      <td>0</td>\n",
       "      <td>145885.952297</td>\n",
       "      <td>покупка жилья</td>\n",
       "    </tr>\n",
       "    <tr>\n",
       "      <th>3</th>\n",
       "      <td>3</td>\n",
       "      <td>-4124.747207</td>\n",
       "      <td>32</td>\n",
       "      <td>среднее</td>\n",
       "      <td>1</td>\n",
       "      <td>женат / замужем</td>\n",
       "      <td>0</td>\n",
       "      <td>M</td>\n",
       "      <td>сотрудник</td>\n",
       "      <td>0</td>\n",
       "      <td>267628.550329</td>\n",
       "      <td>дополнительное образование</td>\n",
       "    </tr>\n",
       "    <tr>\n",
       "      <th>4</th>\n",
       "      <td>0</td>\n",
       "      <td>340266.072047</td>\n",
       "      <td>53</td>\n",
       "      <td>среднее</td>\n",
       "      <td>1</td>\n",
       "      <td>гражданский брак</td>\n",
       "      <td>1</td>\n",
       "      <td>F</td>\n",
       "      <td>пенсионер</td>\n",
       "      <td>0</td>\n",
       "      <td>158616.077870</td>\n",
       "      <td>сыграть свадьбу</td>\n",
       "    </tr>\n",
       "    <tr>\n",
       "      <th>5</th>\n",
       "      <td>0</td>\n",
       "      <td>-926.185831</td>\n",
       "      <td>27</td>\n",
       "      <td>высшее</td>\n",
       "      <td>0</td>\n",
       "      <td>гражданский брак</td>\n",
       "      <td>1</td>\n",
       "      <td>M</td>\n",
       "      <td>компаньон</td>\n",
       "      <td>0</td>\n",
       "      <td>255763.565419</td>\n",
       "      <td>покупка жилья</td>\n",
       "    </tr>\n",
       "    <tr>\n",
       "      <th>6</th>\n",
       "      <td>0</td>\n",
       "      <td>-2879.202052</td>\n",
       "      <td>43</td>\n",
       "      <td>высшее</td>\n",
       "      <td>0</td>\n",
       "      <td>женат / замужем</td>\n",
       "      <td>0</td>\n",
       "      <td>F</td>\n",
       "      <td>компаньон</td>\n",
       "      <td>0</td>\n",
       "      <td>240525.971920</td>\n",
       "      <td>операции с жильем</td>\n",
       "    </tr>\n",
       "    <tr>\n",
       "      <th>7</th>\n",
       "      <td>0</td>\n",
       "      <td>-152.779569</td>\n",
       "      <td>50</td>\n",
       "      <td>СРЕДНЕЕ</td>\n",
       "      <td>1</td>\n",
       "      <td>женат / замужем</td>\n",
       "      <td>0</td>\n",
       "      <td>M</td>\n",
       "      <td>сотрудник</td>\n",
       "      <td>0</td>\n",
       "      <td>135823.934197</td>\n",
       "      <td>образование</td>\n",
       "    </tr>\n",
       "    <tr>\n",
       "      <th>8</th>\n",
       "      <td>2</td>\n",
       "      <td>-6929.865299</td>\n",
       "      <td>35</td>\n",
       "      <td>ВЫСШЕЕ</td>\n",
       "      <td>0</td>\n",
       "      <td>гражданский брак</td>\n",
       "      <td>1</td>\n",
       "      <td>F</td>\n",
       "      <td>сотрудник</td>\n",
       "      <td>0</td>\n",
       "      <td>95856.832424</td>\n",
       "      <td>на проведение свадьбы</td>\n",
       "    </tr>\n",
       "    <tr>\n",
       "      <th>9</th>\n",
       "      <td>0</td>\n",
       "      <td>-2188.756445</td>\n",
       "      <td>41</td>\n",
       "      <td>среднее</td>\n",
       "      <td>1</td>\n",
       "      <td>женат / замужем</td>\n",
       "      <td>0</td>\n",
       "      <td>M</td>\n",
       "      <td>сотрудник</td>\n",
       "      <td>0</td>\n",
       "      <td>144425.938277</td>\n",
       "      <td>покупка жилья для семьи</td>\n",
       "    </tr>\n",
       "    <tr>\n",
       "      <th>10</th>\n",
       "      <td>2</td>\n",
       "      <td>-4171.483647</td>\n",
       "      <td>36</td>\n",
       "      <td>высшее</td>\n",
       "      <td>0</td>\n",
       "      <td>женат / замужем</td>\n",
       "      <td>0</td>\n",
       "      <td>M</td>\n",
       "      <td>компаньон</td>\n",
       "      <td>0</td>\n",
       "      <td>113943.491460</td>\n",
       "      <td>покупка недвижимости</td>\n",
       "    </tr>\n",
       "    <tr>\n",
       "      <th>11</th>\n",
       "      <td>0</td>\n",
       "      <td>-792.701887</td>\n",
       "      <td>40</td>\n",
       "      <td>среднее</td>\n",
       "      <td>1</td>\n",
       "      <td>женат / замужем</td>\n",
       "      <td>0</td>\n",
       "      <td>F</td>\n",
       "      <td>сотрудник</td>\n",
       "      <td>0</td>\n",
       "      <td>77069.234271</td>\n",
       "      <td>покупка коммерческой недвижимости</td>\n",
       "    </tr>\n",
       "    <tr>\n",
       "      <th>12</th>\n",
       "      <td>0</td>\n",
       "      <td>NaN</td>\n",
       "      <td>65</td>\n",
       "      <td>среднее</td>\n",
       "      <td>1</td>\n",
       "      <td>гражданский брак</td>\n",
       "      <td>1</td>\n",
       "      <td>M</td>\n",
       "      <td>пенсионер</td>\n",
       "      <td>0</td>\n",
       "      <td>NaN</td>\n",
       "      <td>сыграть свадьбу</td>\n",
       "    </tr>\n",
       "    <tr>\n",
       "      <th>13</th>\n",
       "      <td>0</td>\n",
       "      <td>-1846.641941</td>\n",
       "      <td>54</td>\n",
       "      <td>неоконченное высшее</td>\n",
       "      <td>2</td>\n",
       "      <td>женат / замужем</td>\n",
       "      <td>0</td>\n",
       "      <td>F</td>\n",
       "      <td>сотрудник</td>\n",
       "      <td>0</td>\n",
       "      <td>130458.228857</td>\n",
       "      <td>приобретение автомобиля</td>\n",
       "    </tr>\n",
       "    <tr>\n",
       "      <th>14</th>\n",
       "      <td>0</td>\n",
       "      <td>-1844.956182</td>\n",
       "      <td>56</td>\n",
       "      <td>высшее</td>\n",
       "      <td>0</td>\n",
       "      <td>гражданский брак</td>\n",
       "      <td>1</td>\n",
       "      <td>F</td>\n",
       "      <td>компаньон</td>\n",
       "      <td>1</td>\n",
       "      <td>165127.911772</td>\n",
       "      <td>покупка жилой недвижимости</td>\n",
       "    </tr>\n",
       "    <tr>\n",
       "      <th>15</th>\n",
       "      <td>1</td>\n",
       "      <td>-972.364419</td>\n",
       "      <td>26</td>\n",
       "      <td>среднее</td>\n",
       "      <td>1</td>\n",
       "      <td>женат / замужем</td>\n",
       "      <td>0</td>\n",
       "      <td>F</td>\n",
       "      <td>сотрудник</td>\n",
       "      <td>0</td>\n",
       "      <td>116820.904450</td>\n",
       "      <td>строительство собственной недвижимости</td>\n",
       "    </tr>\n",
       "    <tr>\n",
       "      <th>16</th>\n",
       "      <td>0</td>\n",
       "      <td>-1719.934226</td>\n",
       "      <td>35</td>\n",
       "      <td>среднее</td>\n",
       "      <td>1</td>\n",
       "      <td>женат / замужем</td>\n",
       "      <td>0</td>\n",
       "      <td>F</td>\n",
       "      <td>сотрудник</td>\n",
       "      <td>0</td>\n",
       "      <td>289202.704229</td>\n",
       "      <td>недвижимость</td>\n",
       "    </tr>\n",
       "    <tr>\n",
       "      <th>17</th>\n",
       "      <td>0</td>\n",
       "      <td>-2369.999720</td>\n",
       "      <td>33</td>\n",
       "      <td>высшее</td>\n",
       "      <td>0</td>\n",
       "      <td>гражданский брак</td>\n",
       "      <td>1</td>\n",
       "      <td>M</td>\n",
       "      <td>сотрудник</td>\n",
       "      <td>0</td>\n",
       "      <td>90410.586745</td>\n",
       "      <td>строительство недвижимости</td>\n",
       "    </tr>\n",
       "    <tr>\n",
       "      <th>18</th>\n",
       "      <td>0</td>\n",
       "      <td>400281.136913</td>\n",
       "      <td>53</td>\n",
       "      <td>среднее</td>\n",
       "      <td>1</td>\n",
       "      <td>вдовец / вдова</td>\n",
       "      <td>2</td>\n",
       "      <td>F</td>\n",
       "      <td>пенсионер</td>\n",
       "      <td>0</td>\n",
       "      <td>56823.777243</td>\n",
       "      <td>на покупку подержанного автомобиля</td>\n",
       "    </tr>\n",
       "    <tr>\n",
       "      <th>19</th>\n",
       "      <td>0</td>\n",
       "      <td>-10038.818549</td>\n",
       "      <td>48</td>\n",
       "      <td>СРЕДНЕЕ</td>\n",
       "      <td>1</td>\n",
       "      <td>в разводе</td>\n",
       "      <td>3</td>\n",
       "      <td>F</td>\n",
       "      <td>сотрудник</td>\n",
       "      <td>0</td>\n",
       "      <td>242831.107982</td>\n",
       "      <td>на покупку своего автомобиля</td>\n",
       "    </tr>\n",
       "  </tbody>\n",
       "</table>\n",
       "</div>"
      ],
      "text/plain": [
       "    children  days_employed  dob_years            education  education_id  \\\n",
       "0          1   -8437.673028         42               высшее             0   \n",
       "1          1   -4024.803754         36              среднее             1   \n",
       "2          0   -5623.422610         33              Среднее             1   \n",
       "3          3   -4124.747207         32              среднее             1   \n",
       "4          0  340266.072047         53              среднее             1   \n",
       "5          0    -926.185831         27               высшее             0   \n",
       "6          0   -2879.202052         43               высшее             0   \n",
       "7          0    -152.779569         50              СРЕДНЕЕ             1   \n",
       "8          2   -6929.865299         35               ВЫСШЕЕ             0   \n",
       "9          0   -2188.756445         41              среднее             1   \n",
       "10         2   -4171.483647         36               высшее             0   \n",
       "11         0    -792.701887         40              среднее             1   \n",
       "12         0            NaN         65              среднее             1   \n",
       "13         0   -1846.641941         54  неоконченное высшее             2   \n",
       "14         0   -1844.956182         56               высшее             0   \n",
       "15         1    -972.364419         26              среднее             1   \n",
       "16         0   -1719.934226         35              среднее             1   \n",
       "17         0   -2369.999720         33               высшее             0   \n",
       "18         0  400281.136913         53              среднее             1   \n",
       "19         0  -10038.818549         48              СРЕДНЕЕ             1   \n",
       "\n",
       "       family_status  family_status_id gender income_type  debt  \\\n",
       "0    женат / замужем                 0      F   сотрудник     0   \n",
       "1    женат / замужем                 0      F   сотрудник     0   \n",
       "2    женат / замужем                 0      M   сотрудник     0   \n",
       "3    женат / замужем                 0      M   сотрудник     0   \n",
       "4   гражданский брак                 1      F   пенсионер     0   \n",
       "5   гражданский брак                 1      M   компаньон     0   \n",
       "6    женат / замужем                 0      F   компаньон     0   \n",
       "7    женат / замужем                 0      M   сотрудник     0   \n",
       "8   гражданский брак                 1      F   сотрудник     0   \n",
       "9    женат / замужем                 0      M   сотрудник     0   \n",
       "10   женат / замужем                 0      M   компаньон     0   \n",
       "11   женат / замужем                 0      F   сотрудник     0   \n",
       "12  гражданский брак                 1      M   пенсионер     0   \n",
       "13   женат / замужем                 0      F   сотрудник     0   \n",
       "14  гражданский брак                 1      F   компаньон     1   \n",
       "15   женат / замужем                 0      F   сотрудник     0   \n",
       "16   женат / замужем                 0      F   сотрудник     0   \n",
       "17  гражданский брак                 1      M   сотрудник     0   \n",
       "18    вдовец / вдова                 2      F   пенсионер     0   \n",
       "19         в разводе                 3      F   сотрудник     0   \n",
       "\n",
       "     total_income                                 purpose  \n",
       "0   253875.639453                           покупка жилья  \n",
       "1   112080.014102                 приобретение автомобиля  \n",
       "2   145885.952297                           покупка жилья  \n",
       "3   267628.550329              дополнительное образование  \n",
       "4   158616.077870                         сыграть свадьбу  \n",
       "5   255763.565419                           покупка жилья  \n",
       "6   240525.971920                       операции с жильем  \n",
       "7   135823.934197                             образование  \n",
       "8    95856.832424                   на проведение свадьбы  \n",
       "9   144425.938277                 покупка жилья для семьи  \n",
       "10  113943.491460                    покупка недвижимости  \n",
       "11   77069.234271       покупка коммерческой недвижимости  \n",
       "12            NaN                         сыграть свадьбу  \n",
       "13  130458.228857                 приобретение автомобиля  \n",
       "14  165127.911772              покупка жилой недвижимости  \n",
       "15  116820.904450  строительство собственной недвижимости  \n",
       "16  289202.704229                            недвижимость  \n",
       "17   90410.586745              строительство недвижимости  \n",
       "18   56823.777243      на покупку подержанного автомобиля  \n",
       "19  242831.107982            на покупку своего автомобиля  "
      ]
     },
     "execution_count": 2,
     "metadata": {},
     "output_type": "execute_result"
    }
   ],
   "source": [
    "data.head(20)"
   ]
  },
  {
   "cell_type": "markdown",
   "id": "2280c0b4",
   "metadata": {
    "deletable": false,
    "editable": false,
    "id": "1c12e233"
   },
   "source": [
    "**Задание 3. Выведите основную информацию о датафрейме с помощью метода `info()`.**"
   ]
  },
  {
   "cell_type": "code",
   "execution_count": 3,
   "id": "57e50792",
   "metadata": {
    "deletable": false,
    "id": "2b757bca",
    "outputId": "15376089-8dad-46c9-b520-c05248d43158"
   },
   "outputs": [
    {
     "name": "stdout",
     "output_type": "stream",
     "text": [
      "<class 'pandas.core.frame.DataFrame'>\n",
      "RangeIndex: 21525 entries, 0 to 21524\n",
      "Data columns (total 12 columns):\n",
      " #   Column            Non-Null Count  Dtype  \n",
      "---  ------            --------------  -----  \n",
      " 0   children          21525 non-null  int64  \n",
      " 1   days_employed     19351 non-null  float64\n",
      " 2   dob_years         21525 non-null  int64  \n",
      " 3   education         21525 non-null  object \n",
      " 4   education_id      21525 non-null  int64  \n",
      " 5   family_status     21525 non-null  object \n",
      " 6   family_status_id  21525 non-null  int64  \n",
      " 7   gender            21525 non-null  object \n",
      " 8   income_type       21525 non-null  object \n",
      " 9   debt              21525 non-null  int64  \n",
      " 10  total_income      19351 non-null  float64\n",
      " 11  purpose           21525 non-null  object \n",
      "dtypes: float64(2), int64(5), object(5)\n",
      "memory usage: 2.0+ MB\n"
     ]
    }
   ],
   "source": [
    "data.info()"
   ]
  },
  {
   "cell_type": "markdown",
   "id": "d93a237b",
   "metadata": {
    "deletable": false,
    "editable": false,
    "id": "333ec665"
   },
   "source": [
    "## Предобработка данных"
   ]
  },
  {
   "cell_type": "markdown",
   "id": "24624927",
   "metadata": {
    "deletable": false,
    "editable": false,
    "id": "02d92d53"
   },
   "source": [
    "### Удаление пропусков"
   ]
  },
  {
   "cell_type": "markdown",
   "id": "2bfb9dd7",
   "metadata": {
    "deletable": false,
    "editable": false,
    "id": "cd84967c"
   },
   "source": [
    "**Задание 4. Выведите количество пропущенных значений для каждого столбца. Используйте комбинацию двух методов.**"
   ]
  },
  {
   "cell_type": "code",
   "execution_count": 4,
   "id": "eb05ec95",
   "metadata": {
    "deletable": false,
    "id": "7f9b2309",
    "outputId": "81f4d817-781c-465c-ed15-91ce4446810d"
   },
   "outputs": [
    {
     "data": {
      "text/plain": [
       "children               0\n",
       "days_employed       2174\n",
       "dob_years              0\n",
       "education              0\n",
       "education_id           0\n",
       "family_status          0\n",
       "family_status_id       0\n",
       "gender                 0\n",
       "income_type            0\n",
       "debt                   0\n",
       "total_income        2174\n",
       "purpose                0\n",
       "dtype: int64"
      ]
     },
     "execution_count": 4,
     "metadata": {},
     "output_type": "execute_result"
    }
   ],
   "source": [
    "data.isna().sum()"
   ]
  },
  {
   "cell_type": "markdown",
   "id": "3f2272b8",
   "metadata": {
    "deletable": false,
    "editable": false,
    "id": "db86e27b"
   },
   "source": [
    "**Задание 5. В двух столбцах есть пропущенные значения. Один из них — `days_employed`. Пропуски в этом столбце вы обработаете на следующем этапе. Другой столбец с пропущенными значениями — `total_income` — хранит данные о доходах. На сумму дохода сильнее всего влияет тип занятости, поэтому заполнить пропуски в этом столбце нужно медианным значением по каждому типу из столбца `income_type`. Например, у человека с типом занятости `сотрудник` пропуск в столбце `total_income` должен быть заполнен медианным доходом среди всех записей с тем же типом.**"
   ]
  },
  {
   "cell_type": "code",
   "execution_count": 5,
   "id": "61b9fb13",
   "metadata": {
    "deletable": false,
    "id": "42006a93"
   },
   "outputs": [],
   "source": [
    "for t in data['income_type'].unique():\n",
    "    data.loc[(data['income_type'] == t) & (data['total_income'].isna()), 'total_income'] = \\\n",
    "    data.loc[(data['income_type'] == t), 'total_income'].median()"
   ]
  },
  {
   "cell_type": "markdown",
   "id": "ecedbf63",
   "metadata": {
    "deletable": false,
    "editable": false,
    "id": "89da5ece"
   },
   "source": [
    "### Обработка аномальных значений"
   ]
  },
  {
   "cell_type": "markdown",
   "id": "8a350e3b",
   "metadata": {
    "deletable": false,
    "editable": false,
    "id": "57964554"
   },
   "source": [
    "**Задание 6. В данных могут встречаться артефакты (аномалии) — значения, которые не отражают действительность и появились по какой-то ошибке. таким артефактом будет отрицательное количество дней трудового стажа в столбце `days_employed`. Для реальных данных это нормально. Обработайте значения в этом столбце: замените все отрицательные значения положительными с помощью метода `abs()`.**"
   ]
  },
  {
   "cell_type": "code",
   "execution_count": 6,
   "id": "e3728aa4",
   "metadata": {
    "deletable": false,
    "id": "f6f055bf"
   },
   "outputs": [],
   "source": [
    "data['days_employed'] = data['days_employed'].abs()"
   ]
  },
  {
   "cell_type": "markdown",
   "id": "af4aa371",
   "metadata": {
    "deletable": false,
    "editable": false,
    "id": "6107dd2f"
   },
   "source": [
    "**Задание 7. Для каждого типа занятости выведите медианное значение трудового стажа `days_employed` в днях.**"
   ]
  },
  {
   "cell_type": "code",
   "execution_count": 7,
   "id": "35f9a833",
   "metadata": {
    "deletable": false,
    "id": "85a5faf6",
    "outputId": "801ef80e-522b-4668-f34e-565af7432bcf"
   },
   "outputs": [
    {
     "data": {
      "text/plain": [
       "income_type\n",
       "безработный        366413.652744\n",
       "в декрете            3296.759962\n",
       "госслужащий          2689.368353\n",
       "компаньон            1547.382223\n",
       "пенсионер          365213.306266\n",
       "предприниматель       520.848083\n",
       "сотрудник            1574.202821\n",
       "студент               578.751554\n",
       "Name: days_employed, dtype: float64"
      ]
     },
     "execution_count": 7,
     "metadata": {},
     "output_type": "execute_result"
    }
   ],
   "source": [
    "data.groupby('income_type')['days_employed'].agg('median')"
   ]
  },
  {
   "cell_type": "markdown",
   "id": "8bae5b88",
   "metadata": {
    "deletable": false,
    "editable": false,
    "id": "38d1a030"
   },
   "source": [
    "У двух типов (безработные и пенсионеры) получатся аномально большие значения. Исправить такие значения сложно, поэтому оставьте их как есть. Тем более этот столбец не понадобится вам для исследования."
   ]
  },
  {
   "cell_type": "markdown",
   "id": "286bbc0a",
   "metadata": {
    "deletable": false,
    "editable": false,
    "id": "d8a9f147"
   },
   "source": [
    "**Задание 8. Выведите перечень уникальных значений столбца `children`.**"
   ]
  },
  {
   "cell_type": "code",
   "execution_count": 8,
   "id": "3e06f519",
   "metadata": {
    "deletable": false,
    "id": "ef5056eb",
    "outputId": "6975b15c-7f95-4697-d16d-a0c79b657b03"
   },
   "outputs": [
    {
     "data": {
      "text/plain": [
       "array([ 1,  0,  3,  2, -1,  4, 20,  5])"
      ]
     },
     "execution_count": 8,
     "metadata": {},
     "output_type": "execute_result"
    }
   ],
   "source": [
    "data['children'].unique()"
   ]
  },
  {
   "cell_type": "markdown",
   "id": "b258c93c",
   "metadata": {
    "deletable": false,
    "editable": false,
    "id": "40b9ebf2"
   },
   "source": [
    "**Задание 9. В столбце `children` есть два аномальных значения. Удалите строки, в которых встречаются такие аномальные значения из датафрейма `data`.**"
   ]
  },
  {
   "cell_type": "code",
   "execution_count": 9,
   "id": "390adcb4",
   "metadata": {
    "deletable": false,
    "id": "3ff9801d"
   },
   "outputs": [],
   "source": [
    "data = data[(data['children'] != -1) & (data['children'] != 20)]"
   ]
  },
  {
   "cell_type": "markdown",
   "id": "9012eb9c",
   "metadata": {
    "deletable": false,
    "editable": false,
    "id": "bbc4d0ce"
   },
   "source": [
    "**Задание 10. Ещё раз выведите перечень уникальных значений столбца `children`, чтобы убедиться, что артефакты удалены.**"
   ]
  },
  {
   "cell_type": "code",
   "execution_count": 10,
   "id": "0e29ba12",
   "metadata": {
    "deletable": false,
    "id": "ad4fa8b7",
    "outputId": "b2097101-d49d-44d9-901b-32a65c9463d1"
   },
   "outputs": [
    {
     "data": {
      "text/plain": [
       "array([1, 0, 3, 2, 4, 5])"
      ]
     },
     "execution_count": 10,
     "metadata": {},
     "output_type": "execute_result"
    }
   ],
   "source": [
    "data['children'].unique()"
   ]
  },
  {
   "cell_type": "markdown",
   "id": "55d3269a",
   "metadata": {
    "deletable": false,
    "editable": false,
    "id": "75440b63"
   },
   "source": [
    "### Удаление пропусков (продолжение)"
   ]
  },
  {
   "cell_type": "markdown",
   "id": "1980bc84",
   "metadata": {
    "deletable": false,
    "editable": false,
    "id": "f4ea573f"
   },
   "source": [
    "**Задание 11. Заполните пропуски в столбце `days_employed` медианными значениями по каждого типа занятости `income_type`.**"
   ]
  },
  {
   "cell_type": "code",
   "execution_count": 11,
   "id": "0ec0a780",
   "metadata": {
    "deletable": false,
    "id": "af6b1a7e"
   },
   "outputs": [],
   "source": [
    "for t in data['income_type'].unique():\n",
    "    data.loc[(data['income_type'] == t) & (data['days_employed'].isna()), 'days_employed'] = \\\n",
    "    data.loc[(data['income_type'] == t), 'days_employed'].median()"
   ]
  },
  {
   "cell_type": "markdown",
   "id": "851a4c2b",
   "metadata": {
    "deletable": false,
    "editable": false,
    "id": "2753f40d"
   },
   "source": [
    "**Задание 12. Убедитесь, что все пропуски заполнены. Проверьте себя и ещё раз выведите количество пропущенных значений для каждого столбца с помощью двух методов.**"
   ]
  },
  {
   "cell_type": "code",
   "execution_count": 12,
   "id": "3094e9af",
   "metadata": {
    "deletable": false,
    "id": "55f78bc2",
    "outputId": "8da1e4e1-358e-4e87-98c9-f261bce0a7b2"
   },
   "outputs": [
    {
     "data": {
      "text/plain": [
       "children            0\n",
       "days_employed       0\n",
       "dob_years           0\n",
       "education           0\n",
       "education_id        0\n",
       "family_status       0\n",
       "family_status_id    0\n",
       "gender              0\n",
       "income_type         0\n",
       "debt                0\n",
       "total_income        0\n",
       "purpose             0\n",
       "dtype: int64"
      ]
     },
     "execution_count": 12,
     "metadata": {},
     "output_type": "execute_result"
    }
   ],
   "source": [
    "data.isna().sum()"
   ]
  },
  {
   "cell_type": "markdown",
   "id": "812fe2dd",
   "metadata": {
    "deletable": false,
    "editable": false,
    "id": "ddc81e43"
   },
   "source": [
    "### Изменение типов данных"
   ]
  },
  {
   "cell_type": "markdown",
   "id": "f712f148",
   "metadata": {
    "deletable": false,
    "editable": false,
    "id": "42d19d24"
   },
   "source": [
    "**Задание 13. Замените вещественный тип данных в столбце `total_income` на целочисленный с помощью метода `astype()`.**"
   ]
  },
  {
   "cell_type": "code",
   "execution_count": 13,
   "id": "d5af551c",
   "metadata": {
    "deletable": false,
    "id": "920b65ad"
   },
   "outputs": [],
   "source": [
    "data['total_income'] = data['total_income'].astype(int)"
   ]
  },
  {
   "cell_type": "markdown",
   "id": "6bf5d606",
   "metadata": {
    "deletable": false,
    "editable": false,
    "id": "80c420ba"
   },
   "source": [
    "### Обработка дубликатов"
   ]
  },
  {
   "cell_type": "markdown",
   "id": "d6a12601",
   "metadata": {
    "deletable": false,
    "editable": false
   },
   "source": [
    "**Задание 14. Обработайте неявные дубликаты в столбце `education`. В этом столбце есть одни и те же значения, но записанные по-разному: с использованием заглавных и строчных букв. Приведите их к нижнему регистру. Проверьте остальные столбцы.**"
   ]
  },
  {
   "cell_type": "code",
   "execution_count": 14,
   "id": "8e838864",
   "metadata": {
    "deletable": false
   },
   "outputs": [],
   "source": [
    "data['education'] = data['education'].str.lower()"
   ]
  },
  {
   "cell_type": "markdown",
   "id": "cee56338",
   "metadata": {
    "deletable": false,
    "editable": false,
    "id": "dc587695"
   },
   "source": [
    "**Задание 15. Выведите на экран количество строк-дубликатов в данных. Если такие строки присутствуют, удалите их.**"
   ]
  },
  {
   "cell_type": "code",
   "execution_count": 15,
   "id": "b6a1b1cb",
   "metadata": {
    "deletable": false,
    "id": "3ee445e4",
    "outputId": "9684deba-1934-42d1-99e1-cda61740f822"
   },
   "outputs": [
    {
     "data": {
      "text/plain": [
       "71"
      ]
     },
     "execution_count": 15,
     "metadata": {},
     "output_type": "execute_result"
    }
   ],
   "source": [
    "data.duplicated().sum()"
   ]
  },
  {
   "cell_type": "code",
   "execution_count": 16,
   "id": "fbf25315",
   "metadata": {
    "deletable": false,
    "id": "8575fe05"
   },
   "outputs": [],
   "source": [
    "data = data.drop_duplicates()"
   ]
  },
  {
   "cell_type": "markdown",
   "id": "ed6b87cb",
   "metadata": {
    "deletable": false,
    "editable": false,
    "id": "9904cf55"
   },
   "source": [
    "### Категоризация данных"
   ]
  },
  {
   "cell_type": "markdown",
   "id": "35319abe",
   "metadata": {
    "deletable": false,
    "editable": false,
    "id": "72fcc8a2"
   },
   "source": [
    "**Задание 16. На основании диапазонов, указанных ниже, создайте в датафрейме `data` столбец `total_income_category` с категориями:**\n",
    "\n",
    "- 0–30000 — `'E'`;\n",
    "- 30001–50000 — `'D'`;\n",
    "- 50001–200000 — `'C'`;\n",
    "- 200001–1000000 — `'B'`;\n",
    "- 1000001 и выше — `'A'`.\n",
    "\n",
    "\n",
    "**Например, кредитополучателю с доходом 25000 нужно назначить категорию `'E'`, а клиенту, получающему 235000, — `'B'`. Используйте собственную функцию с именем `categorize_income()` и метод `apply()`.**"
   ]
  },
  {
   "cell_type": "code",
   "execution_count": 17,
   "id": "1099ac5c",
   "metadata": {
    "deletable": false,
    "id": "e1771346"
   },
   "outputs": [],
   "source": [
    "def categorize_income(income):\n",
    "    try:\n",
    "        if 0 <= income <= 30000:\n",
    "            return 'E'\n",
    "        elif 30001 <= income <= 50000:\n",
    "            return 'D'\n",
    "        elif 50001 <= income <= 200000:\n",
    "            return 'C'\n",
    "        elif 200001 <= income <= 1000000:\n",
    "            return 'B'\n",
    "        elif income >= 1000001:\n",
    "            return 'A'\n",
    "    except:\n",
    "        pass"
   ]
  },
  {
   "cell_type": "code",
   "execution_count": 18,
   "id": "973b59c0",
   "metadata": {
    "deletable": false,
    "id": "d5f3586d"
   },
   "outputs": [],
   "source": [
    "data['total_income_category'] = data['total_income'].apply(categorize_income)"
   ]
  },
  {
   "cell_type": "markdown",
   "id": "79681fbd",
   "metadata": {
    "deletable": false,
    "editable": false,
    "id": "dde49b5c"
   },
   "source": [
    "**Задание 17. Выведите на экран перечень уникальных целей взятия кредита из столбца `purpose`.**"
   ]
  },
  {
   "cell_type": "code",
   "execution_count": 19,
   "id": "9136baaf",
   "metadata": {
    "deletable": false,
    "id": "f67ce9b3",
    "outputId": "673c12d9-7d7e-4ae0-9812-c622c89dd244"
   },
   "outputs": [
    {
     "data": {
      "text/plain": [
       "array(['покупка жилья', 'приобретение автомобиля',\n",
       "       'дополнительное образование', 'сыграть свадьбу',\n",
       "       'операции с жильем', 'образование', 'на проведение свадьбы',\n",
       "       'покупка жилья для семьи', 'покупка недвижимости',\n",
       "       'покупка коммерческой недвижимости', 'покупка жилой недвижимости',\n",
       "       'строительство собственной недвижимости', 'недвижимость',\n",
       "       'строительство недвижимости', 'на покупку подержанного автомобиля',\n",
       "       'на покупку своего автомобиля',\n",
       "       'операции с коммерческой недвижимостью',\n",
       "       'строительство жилой недвижимости', 'жилье',\n",
       "       'операции со своей недвижимостью', 'автомобили',\n",
       "       'заняться образованием', 'сделка с подержанным автомобилем',\n",
       "       'получение образования', 'автомобиль', 'свадьба',\n",
       "       'получение дополнительного образования', 'покупка своего жилья',\n",
       "       'операции с недвижимостью', 'получение высшего образования',\n",
       "       'свой автомобиль', 'сделка с автомобилем',\n",
       "       'профильное образование', 'высшее образование',\n",
       "       'покупка жилья для сдачи', 'на покупку автомобиля', 'ремонт жилью',\n",
       "       'заняться высшим образованием'], dtype=object)"
      ]
     },
     "execution_count": 19,
     "metadata": {},
     "output_type": "execute_result"
    }
   ],
   "source": [
    "data['purpose'].unique()"
   ]
  },
  {
   "cell_type": "markdown",
   "id": "42ed9cad",
   "metadata": {
    "deletable": false,
    "editable": false,
    "id": "85d0aef0"
   },
   "source": [
    "**Задание 18. Создайте функцию, которая на основании данных из столбца `purpose` сформирует новый столбец `purpose_category`, в который войдут следующие категории:**\n",
    "\n",
    "- `'операции с автомобилем'`,\n",
    "- `'операции с недвижимостью'`,\n",
    "- `'проведение свадьбы'`,\n",
    "- `'получение образования'`.\n",
    "\n",
    "**Например, если в столбце `purpose` находится подстрока `'на покупку автомобиля'`, то в столбце `purpose_category` должна появиться строка `'операции с автомобилем'`.**\n",
    "\n",
    "**Используйте собственную функцию с именем `categorize_purpose()` и метод `apply()`. Изучите данные в столбце `purpose` и определите, какие подстроки помогут вам правильно определить категорию.**"
   ]
  },
  {
   "cell_type": "code",
   "execution_count": 20,
   "id": "9d1edde8",
   "metadata": {
    "deletable": false,
    "id": "e149fab4"
   },
   "outputs": [],
   "source": [
    "def categorize_purpose(row):\n",
    "    try:\n",
    "        if 'автом' in row:\n",
    "            return 'операции с автомобилем'\n",
    "        elif 'жил' in row or 'недвиж' in row:\n",
    "            return 'операции с недвижимостью'\n",
    "        elif 'свад' in row:\n",
    "            return 'проведение свадьбы'\n",
    "        elif 'образов' in row:\n",
    "            return 'получение образования'\n",
    "    except:\n",
    "        return 'нет категории'"
   ]
  },
  {
   "cell_type": "code",
   "execution_count": 21,
   "id": "fd7768de",
   "metadata": {
    "deletable": false,
    "id": "bf36e69b"
   },
   "outputs": [],
   "source": [
    "data['purpose_category'] = data['purpose'].apply(categorize_purpose)"
   ]
  },
  {
   "cell_type": "markdown",
   "id": "1cf09e5f",
   "metadata": {
    "deletable": false,
    "editable": false,
    "id": "09b242bf"
   },
   "source": [
    "### Шаг 3. Исследуйте данные и ответьте на вопросы"
   ]
  },
  {
   "cell_type": "markdown",
   "id": "150f2327",
   "metadata": {
    "deletable": false,
    "editable": false,
    "id": "c5d66278"
   },
   "source": [
    "#### 3.1 Есть ли зависимость между количеством детей и возвратом кредита в срок?"
   ]
  },
  {
   "cell_type": "code",
   "execution_count": 22,
   "id": "1bc3b705",
   "metadata": {
    "deletable": false,
    "id": "2cacfc4a"
   },
   "outputs": [
    {
     "name": "stdout",
     "output_type": "stream",
     "text": [
      "          borrower_count  borrower_debt  borrower_perc\n",
      "children                                              \n",
      "4                     41              4           9.76\n",
      "2                   2055            194           9.44\n",
      "1                   4818            444           9.22\n",
      "3                    330             27           8.18\n",
      "0                  14149           1063           7.51\n",
      "5                      9              0           0.00\n"
     ]
    },
    {
     "data": {
      "image/png": "[encoded data removed]",
      "text/plain": [
       "<Figure size 1080x504 with 1 Axes>"
      ]
     },
     "metadata": {
      "needs_background": "light"
     },
     "output_type": "display_data"
    }
   ],
   "source": [
    "data = pd.read_csv('/datasets/data.csv')\n",
    "data = data[(data['children'] != -1) & (data['children'] != 20)] # несмотря на то, что строки с аномальными значениями\n",
    "# удалены из датафрейма в задании № 9, без данной строки эти значения попадают на диаграмму\n",
    "debt_cl = pd.DataFrame() # создаем сводную таблицу\n",
    "debt_cl['borrower_count'] = data.groupby('children')['debt'].count() # создаем столбец с количеством заемщиков в каждой\n",
    "# категории\n",
    "debt_cl['borrower_debt'] = data.groupby('children')['debt'].sum() # создаем столбец с количеством должников в каждой категории\n",
    "# в debt только значения 0 и 1, поэтому сложение даст нам именно количество должников\n",
    "debt_cl['borrower_perc'] = round((debt_cl['borrower_debt'] / debt_cl['borrower_count'])*100, 2) # считаем долю должников в\n",
    "# каждой категории в % и округляем результат для удобства восприятия\n",
    "print(debt_cl.sort_values('borrower_perc', ascending = False)) # сортируем: в верхней части таблицы будут категории, \n",
    "# где % просрочки максимальный, и выводим на экран. Без print увидим только диаграмму\n",
    "matplotlib.rcParams['figure.figsize'] = [15, 7] # указываем размер графика\n",
    "seaborn.barplot(x=data['children'], y=data['debt']); # для удобства анализа информации строим столбчатую диаграмму\n",
    "# по горизонтали - количество детей, по вертикали - наличие задолженности"
   ]
  },
  {
   "cell_type": "markdown",
   "id": "059ed781",
   "metadata": {
    "deletable": false,
    "id": "3a6b99ec"
   },
   "source": [
    "**Вывод:** как видно из приведенной выше столбчатой диаграммы, количество заемщиков, имевших задолженность по возврату кредитов, практически совпадает для категорий \"1 ребенок\", \"2 ребенка\" и \"4 ребенка\" и несколько ниже для категорий \"0 детей\" и \"3 ребенка\". При этом различие в двух последних категориях незначительно.\n",
    "\n",
    "Из сводной таблицы мы видим, что в выборке всего 9 заемщиков, имеющих 5 детей, 41 - имеющих 4 и 330 - имеющих 3. Очевидно, выборка по данным категориям не является репрезентативной и мы не можем по ним сделать однозначный вывод о наличии/отсутствии зависимости. Поэтому указанные категории учитывать в выводах не будем. \n",
    "\n",
    "По оставшимся категориям заемщиков можно увидеть следующее: процент просрочки у заемщиков, неимеющих детей, ниже, чем у тех, у кого есть 1 или 2 ребенка (разница с имеющими 1 ребенка составляет 1,71%, а с имеющими 2 детей  - 1,93%). При этом процент просрочки у заемщиков, имеющих 2 детей, выше, чем у имеющих 1 (на 0,22%). Изложенное позволяет сделать вывод о том, что вероятность ненадлежащего исполнения кредитных обязательств возрастает с увеличением у заемщика количества детей. Однако, для подтверждения данной зависимости необходим повторный анализ на более обширной выборке для категорий заемщиков с 3, 4 и 5 детьми. "
   ]
  },
  {
   "cell_type": "markdown",
   "id": "b5316587",
   "metadata": {
    "deletable": false,
    "editable": false,
    "id": "97be82ca"
   },
   "source": [
    "#### 3.2 Есть ли зависимость между семейным положением и возвратом кредита в срок?"
   ]
  },
  {
   "cell_type": "code",
   "execution_count": 23,
   "id": "267e81dc",
   "metadata": {
    "deletable": false,
    "id": "dc3f7ee8"
   },
   "outputs": [
    {
     "name": "stdout",
     "output_type": "stream",
     "text": [
      "                       borrower_count  borrower_debt  borrower_perc\n",
      "family_status                                                      \n",
      "Не женат / не замужем            2813            274           10.0\n",
      "гражданский брак                 4177            388            9.0\n",
      "женат / замужем                 12380            931            8.0\n",
      "в разводе                        1195             85            7.0\n",
      "вдовец / вдова                    960             63            7.0\n"
     ]
    },
    {
     "data": {
      "image/png": "[encoded data removed]",
      "text/plain": [
       "<Figure size 1080x504 with 1 Axes>"
      ]
     },
     "metadata": {
      "needs_background": "light"
     },
     "output_type": "display_data"
    }
   ],
   "source": [
    "data = pd.read_csv('/datasets/data.csv')\n",
    "debt_fam = pd.DataFrame() # создаем сводную таблицу\n",
    "debt_fam['borrower_count'] = data.groupby('family_status')['debt'].count() # создаем столбец с количеством заемщиков в каждой\n",
    "# категории\n",
    "debt_fam['borrower_debt'] = data.groupby('family_status')['debt'].sum() # создаем столбец с количеством должников в каждой \n",
    "# категории\n",
    "# в debt только значения 0 и 1, поэтому сложение даст нам именно количество должников\n",
    "debt_fam['borrower_perc'] = round((debt_fam['borrower_debt'] / debt_fam['borrower_count'])*100) # считаем долю должников в\n",
    "# каждой категории в % и округляем результат для удобства восприятия\n",
    "print(debt_fam.sort_values('borrower_perc', ascending = False)) # сортируем: в верхней части таблицы будут категории, \n",
    "# где % просрочки максимальный, и выводим на экран. Без print увидим только диаграмму\n",
    "matplotlib.rcParams['figure.figsize'] = [15, 7] # указываем размер графика\n",
    "seaborn.barplot(x=data['debt'], y=data['family_status']); # для удобства анализа информации строим столбчатую диаграмму\n",
    "# по горизонтали - наличие задолженности, по вертикали - семейное положение"
   ]
  },
  {
   "cell_type": "markdown",
   "id": "df58eb0e",
   "metadata": {
    "deletable": false,
    "id": "1cef7837"
   },
   "source": [
    "**Вывод:** как видно из приведенной выше столбчатой диаграммы, наибольшее количество имевших задолженность по возврату кредитов приходится на категории \"Не женат/не замужем\" и \"гражданский брак\", а наименьшее - на категорию \"вдовец/вдова\". При этом стоит отметить, что отрыв категорий \"Не женат/не замужем\" и \"гражданский брак\" от трех оставшихся является существенным (это наглядно видно по длине столбцов диаграммы) и превышает различия между указанными 3-мя категориями (\"женат/замужем\", \"вдовец/вдова\" и \"в разводе\"). \n",
    "\n",
    "Данная закономерность видна также из приведенной выше сводной таблицы: первые строчки занимают категории \"Не женат/не замужем\" и \"гражданский брак\" с процентом просрочки 10% и 9% соответственно. Для остальных категорий процент просрочки ниже. \n",
    "\n",
    "Изложенное позвляет прийти к выводу о том, что не состоящие / не состоявшие в зарегистрированном браке заемщики (если принять, что \"гражданский брак\" в данном случае подается как отсутствие регистрации в органах ЗАГС) имеют повышенный в сравнении с другими категориями риск невыполнения кредитных обязательств. \n",
    "\n",
    "В свою очередь, это говорит о наличии зависимости между семейным положением заемщика и возвратом кредита в срок.\n"
   ]
  },
  {
   "cell_type": "markdown",
   "id": "d47c82d8",
   "metadata": {
    "deletable": false,
    "editable": false,
    "id": "1e8b2fca"
   },
   "source": [
    "#### 3.3 Есть ли зависимость между уровнем дохода и возвратом кредита в срок?"
   ]
  },
  {
   "cell_type": "code",
   "execution_count": 24,
   "id": "3af67910",
   "metadata": {
    "deletable": false,
    "id": "cd7e3720"
   },
   "outputs": [
    {
     "name": "stdout",
     "output_type": "stream",
     "text": [
      "                 borrower_count  borrower_debt  borrower_perc\n",
      "total_income_id                                              \n",
      "высокий                    4118            368           8.94\n",
      "выше среднего              5704            491           8.61\n",
      "средний                    4091            331           8.09\n",
      "очень высокий              5066            358           7.07\n",
      "низкий                      372             23           6.18\n"
     ]
    },
    {
     "data": {
      "image/png": "[encoded data removed]",
      "text/plain": [
       "<Figure size 1080x504 with 1 Axes>"
      ]
     },
     "metadata": {
      "needs_background": "light"
     },
     "output_type": "display_data"
    }
   ],
   "source": [
    "data = pd.read_csv('/datasets/data.csv')\n",
    "def sort_total_income(total_income): # для удобства дальнейшего анализа разобьем заемщиков на категории по уровню дохода\n",
    "# к низкому отнесем доход до 50 тыс. руб. включительно, к среднему: от 50 тыс. руб. до 100 тыс. руб., выше среднего:\n",
    "# от 100 тыс. руб. до 150 тыс. руб., к высокому: от 150 тыс. руб. до 200 тыс. руб. и к очень высокому: свыше 200 тыс. руб.\n",
    "    if total_income <= 50000:\n",
    "        return 'низкий'\n",
    "    if total_income > 50000 and total_income <= 100000:\n",
    "        return 'средний'\n",
    "    if total_income > 100000 and total_income <= 150000:\n",
    "        return 'выше среднего'\n",
    "    if total_income > 150000 and total_income <= 200000:\n",
    "        return 'высокий'\n",
    "    if total_income > 200000:\n",
    "        return 'очень высокий'   \n",
    "data['total_income_id'] = data['total_income'].apply(sort_total_income)\n",
    "debt_inc = pd.DataFrame() # создаем сводную таблицу\n",
    "debt_inc['borrower_count'] = data.groupby('total_income_id')['debt'].count() # создаем столбец с количеством заемщиков в каждой\n",
    "# категории\n",
    "debt_inc['borrower_debt'] = data.groupby('total_income_id')['debt'].sum() # создаем столбец с количеством должников в каждой \n",
    "# категории; в debt только значения 0 и 1, поэтому сложение даст нам именно количество должников\n",
    "debt_inc['borrower_perc'] = round((debt_inc['borrower_debt'] / debt_inc['borrower_count'])*100, 2) # считаем долю должников в\n",
    "# каждой категории в % и округляем результат для удобства восприятия\n",
    "print(debt_inc.sort_values('borrower_perc', ascending = False)) # сортируем: в верхней части таблицы будут категории, \n",
    "# где % просрочки максимальный, и выводим на экран. Без print увидим только диаграмму\n",
    "matplotlib.rcParams['figure.figsize'] = [15, 7] # указываем размер графика\n",
    "seaborn.barplot(x=data['debt'], y=data['total_income']); # для удобства анализа информации строим столбчатую диаграмму\n",
    "# по горизонтали - наличие задолженности, по вертикали - уровень дохода"
   ]
  },
  {
   "cell_type": "markdown",
   "id": "2cf8ffc1",
   "metadata": {
    "deletable": false,
    "id": "e8593def"
   },
   "source": [
    "**Вывод:** для удобства анализа мы разбили заемщиков на 5 понятных категорий по уровню дохода (с шагом 50 000 руб.):\n",
    "\n",
    "1) к низкому отнесли заемщиков с доходом до 50 000 руб. включительно;\n",
    "\n",
    "2) к среднему - с доходом от 50 000 руб. до 100 000 руб.;\n",
    "\n",
    "3) к выше среднего - с доходом от 100 000 руб. до 150 000 руб.;\n",
    "\n",
    "4) к высокому - с доходом от 150 000 руб. до 200 000 руб.;\n",
    "\n",
    "5) и к высокому - с доходом свыше 200 000 руб. \n",
    "\n",
    "\n",
    "Анализируя получившуюся таблицу, мы видим малочисленность категории заемщиков с низким доходом в представленной выборке: их всего 372. При этом оставшиеся категории получились достаточно сходными по количеству (по 4 - 5 тысяч заемщиков в каждой из категорий) и могут быть приняты к дальнейшему анализу. Категорию с низким доходом из анализа исключаем как не являющуюся репрезентативной выборкой.\n",
    "\n",
    "Анализируя данные по 4-м оставшимся категориям, мы видим определенный рост просроченных обязательств по кредитам при движении от заемщиков со средним уровнем дохода к заемщикам с высоким уровнем (почти на 1%: при среднем уровне дохода 8,09%, при выше среднего 8,61% и при высоком уже 8,94%). Но при этом для категории с очень высоким доходом процент просроченных обязательств существенно ниже: 7,07%.\n",
    "\n",
    "При этом стоит учесть, что различия между отдельными категориями при движении от заемщиков со средним уровнем дохода к заемщикам с высоким уровнем незначительны (составляет величину порядка 0,5%), что не дает возможности сделать однозначный вывод о наличии закономерности. Т.е. необходим повторный анализ на более обширной выборке.\n",
    "\n",
    "Исходя из представленных данных можно прийти к выводу о том, что процент просрочки не находится в прямой либо обратной зависимости от размера дохода (т.е. мы не видим поступательного уменьшения/увеличения доли просрочки при росте либо уменьшении дохода заемщика). При этом стоит отметить, что процент просрочки в категории заемщиков с доходом от 200 000 руб. ниже, чем у сегмента с доходом от 50 000 руб. до 200 000 руб. включительно (к примеру, разница с сегментом \"высокий\" составляет 1,87%)."
   ]
  },
  {
   "cell_type": "markdown",
   "id": "7c33480a",
   "metadata": {
    "deletable": false,
    "editable": false,
    "id": "99ecbd1f"
   },
   "source": [
    "#### 3.4 Как разные цели кредита влияют на его возврат в срок?"
   ]
  },
  {
   "cell_type": "code",
   "execution_count": 25,
   "id": "9f013f49",
   "metadata": {
    "deletable": false,
    "id": "2b687290"
   },
   "outputs": [
    {
     "name": "stdout",
     "output_type": "stream",
     "text": [
      "                          borrower_count  borrower_debt  borrower_perc\n",
      "purpose_category                                                      \n",
      "операции с автомобилем              4315            403            9.0\n",
      "получение образования               4022            370            9.0\n",
      "проведение свадьбы                  2348            186            8.0\n",
      "операции с недвижимостью           10840            782            7.0\n"
     ]
    },
    {
     "data": {
      "image/png": "[encoded data removed]",
      "text/plain": [
       "<Figure size 1080x504 with 1 Axes>"
      ]
     },
     "metadata": {
      "needs_background": "light"
     },
     "output_type": "display_data"
    }
   ],
   "source": [
    "data = pd.read_csv('/datasets/data.csv')\n",
    "def categorize_purpose(row): # для удобства анализа сведем все имеющиеся в столбце purpose цели кредита\n",
    "# к 4-м основным категориям: операции с недвижимостью, операции с автомобилем, получение образования и проведение свадьбы\n",
    "# для этого создадим функцию categorize_purpose(row), которая на основании данных из столбца purpose сформирует \n",
    "# новый столбец purpose_category\n",
    "    try:\n",
    "        if 'автом' in row:\n",
    "            return 'операции с автомобилем'\n",
    "        elif 'жил' in row or 'недвиж' in row:\n",
    "            return 'операции с недвижимостью'\n",
    "        elif 'свад' in row:\n",
    "            return 'проведение свадьбы'\n",
    "        elif 'образов' in row:\n",
    "            return 'получение образования'\n",
    "    except:\n",
    "        return 'нет категории'\n",
    "data['purpose_category'] = data['purpose'].apply(categorize_purpose)\n",
    "debt_pur = pd.DataFrame() # создаем сводную таблицу\n",
    "debt_pur['borrower_count'] = data.groupby('purpose_category')['debt'].count() # создаем столбец с количеством заемщиков в каждой\n",
    "# категории\n",
    "debt_pur['borrower_debt'] = data.groupby('purpose_category')['debt'].sum() # создаем столбец с количеством должников в каждой \n",
    "# категории\n",
    "# в debt только значения 0 и 1, поэтому сложение даст нам именно количество должников\n",
    "debt_pur['borrower_perc'] = round((debt_pur['borrower_debt'] / debt_pur['borrower_count'])*100) # считаем долю должников в\n",
    "# каждой категории в % и округляем результат для удобства восприятия\n",
    "print(debt_pur.sort_values('borrower_perc', ascending = False)) # сортируем: в верхней части таблицы будут категории, \n",
    "# где % просрочки максимальный, и выводим на экран. Без print увидим только диаграмму\n",
    "\n",
    "matplotlib.rcParams['figure.figsize'] = [15, 7] # указываем размер графика\n",
    "seaborn.barplot(x=data['debt'], y=data['purpose_category']); # для удобства анализа информации строим столбчатую диаграмму\n",
    "# по горизонтали - наличие задолженности, по вертикали - цели кредита"
   ]
  },
  {
   "cell_type": "markdown",
   "id": "efed0f6c",
   "metadata": {
    "deletable": false,
    "id": "b4bb2ce6"
   },
   "source": [
    "**Вывод:** как видно из приведенной выше столбчатой диаграммы, наибольшее количество кредитов, по которым возникала задолженность, приходится на следующие указанные заемщиками цели: операции с автомобилем и получение образования. Причем разница в количестве проблемных кредитов в этих двух категориях незначительна. \n",
    "\n",
    "Минимально количество проблемных кредитов для категории \"операции с недвижимостью\". Очевидно, причина заключается в том, что потеря недвижимости в результате обращения на нее взыскания при ненадлежащем исполнении заемщиком своих обязательств по кредитному договору, является сдерживающим фактором, стимулирующим заемщика к погашению кредита в установленные договором сроки. Кроме того, в данной категории, как правило, наибольшая сумма кредита.\n",
    "\n",
    "Аналогичные выводы можно сделать и при просмотре приведенной выше сводной таблицы: верхние строчки с максимальной долей просрочки (9%) занимают операции с автомобилем и получение образования. Далее идут проведение свадьбы и операции с недвижимостью: 8% и 7% соответственно.\n",
    "\n",
    "Таким образом, можно сделать вывод о наличии зависимости между целями кредита и его возвратом в установленный договором срок. При этом максимум проблемных кредитов приходится на операции с автомобилем и получение образования, далее следуют проведение свадьбы и операции с недвижимостью (для которых количиство проблемных кредитов в данной выборке минимально)."
   ]
  },
  {
   "cell_type": "markdown",
   "id": "b8907a21",
   "metadata": {
    "deletable": false,
    "editable": false,
    "id": "09c3ac4c"
   },
   "source": [
    "#### 3.5 Приведите возможные причины появления пропусков в исходных данных."
   ]
  },
  {
   "cell_type": "markdown",
   "id": "9512edba",
   "metadata": {
    "deletable": false,
    "id": "9da2ceda"
   },
   "source": [
    "*Ответ:* \n",
    "\n",
    "пропуски бывают трёх типов: \n",
    "- полностью случайные: если вероятность встретить пропуск не зависит ни от каких других значений;\n",
    "- случайные: если вероятность пропуска зависит от других значений в наборе данных, но не от значений собственного столбца;\n",
    "- неслучайные: если вероятность пропуска зависит от других значений, в том числе и от значений собственного столбца. \n",
    "\n",
    "Причины появления пропусков могут быть следующие: технологические ошибки (при копировании, считывании, смене формата) и человеческий фактор (опечатки и т.п.).\n",
    "\n"
   ]
  },
  {
   "cell_type": "markdown",
   "id": "39c24679",
   "metadata": {
    "deletable": false,
    "editable": false,
    "id": "7b0487d6"
   },
   "source": [
    "#### 3.6 Объясните, почему заполнить пропуски медианным значением — лучшее решение для количественных переменных."
   ]
  },
  {
   "cell_type": "markdown",
   "id": "4eec72f8",
   "metadata": {
    "deletable": false,
    "id": "7ecf2b8e"
   },
   "source": [
    "*Ответ:* \n",
    "\n",
    "Не влияют случайные выбросы. Если данные имеют нормальное распределение и их количество велико, медиана будет равняться среднему значению."
   ]
  },
  {
   "cell_type": "markdown",
   "id": "c4b48d05",
   "metadata": {
    "deletable": false,
    "editable": false,
    "id": "6db5255a"
   },
   "source": [
    "### Шаг 4: общий вывод."
   ]
  },
  {
   "cell_type": "markdown",
   "id": "b552daba",
   "metadata": {
    "deletable": false,
    "id": "bad65432"
   },
   "source": [
    "Настоящее исследование проведено с целью выяснить влияет ли семейное положение, количество детей клиента, уровень его дохода и цель кредита на факт погашения кредита в срок. Для анализа были использованы данные, предоставленные кредитным отделом Банка:  статистика о платёжеспособности клиентов (файл data.csv).\n",
    "\n",
    "В ходе анализа данных выяснилось, что в двух столбцах представленной таблицы есть пропущенные значения: в days_employed (общий трудовой стаж в днях) и total_income (ежемесячный доход). В последнем случае пропущенные значения заменены медианными.\n",
    "\n",
    "Также выявлены аномальные значения: для категорий \"безработные\" и \"пенсионеры\" (их мы не использовали в работе и оставили как есть) и данные о количестве детей (в выборке были нереальные значения \"-1\" и \"20\"; их мы удалили). Кроме того, выявлены и исправлены неявные дубликаты в столбце education (данные приведены к нижнему регистру).\n",
    "\n",
    "Проблемы с качеством данных в представленной таблице могли возникнуть как из-за технологических ошибок, так и из-за человеческого фактора. В дальнейшем просим обратить внимание на качество предоставляемых данных: предоставляя выборку с качественными данными мы существенно уменьшаем время исследования и, соответственно, представления Вам ответа на поставленные вопросы.\n",
    "\n",
    "В ходе исследования установлено следующее:\n",
    "\n",
    "1) процент просрочки у заемщиков, неимеющих детей, ниже, чем у тех, у кого есть 1 или 2 ребенка (разница с имеющими 1 ребенка составляет 1,71%, а с имеющими 2 детей  - 1,93%). При этом процент просрочки у заемщиков, имеющих 2 детей, выше, чем у имеющих 1 (на 0,22%). Изложенное позволяет сделать вывод о том, что вероятность ненадлежащего исполнения кредитных обязательств возрастает с увеличением у заемщика количества детей (однако, для подтверждения данной зависимости необходим повторный анализ на более обширной выборке для категорий заемщиков с 3, 4 и 5 детьми);\n",
    "\n",
    "2) процент просрочки не находится в прямой либо обратной зависимости от размера дохода (т.е. мы не видим поступательного уменьшения/увеличения доли просрочки при росте либо уменьшении дохода заемщика). При этом стоит отметить, что процент просрочки в категории заемщиков с доходом от 200 000 руб. ниже, чем у сегмента с доходом от 50 000 руб. до 200 000 руб. включительно (к примеру, разница с сегментом \"высокий\" составляет 1,87%);\n",
    "\n",
    "3) имеется зависимость:\n",
    "- между семейным положением заемщика и возвратом кредита в срок: не состоящие / не состоявшие в зарегистрированном браке заемщики имеют повышенный в сравнении с другими категориями риск невыполнения кредитных обязательств;\n",
    "- между целью кредита и возвратом кредита в срок: максимум проблемных кредитов приходится на операции с автомобилем и получение образования, далее следуют проведение свадьбы и операции с недвижимостью (для которых количиство проблемных кредитов в данной выборке минимально)."
   ]
  }
 ],
 "metadata": {
  "ExecuteTimeLog": [
   {
    "duration": 85,
    "start_time": "2023-03-25T19:31:22.700Z"
   },
   {
    "duration": 1455,
    "start_time": "2023-03-25T19:31:36.971Z"
   },
   {
    "duration": 693,
    "start_time": "2023-03-25T19:33:15.556Z"
   },
   {
    "duration": 560,
    "start_time": "2023-03-25T19:34:23.020Z"
   },
   {
    "duration": 468,
    "start_time": "2023-03-25T19:40:15.126Z"
   },
   {
    "duration": 79,
    "start_time": "2023-03-25T19:41:54.251Z"
   },
   {
    "duration": 367,
    "start_time": "2023-03-25T19:43:00.743Z"
   },
   {
    "duration": 353,
    "start_time": "2023-03-25T19:43:50.052Z"
   },
   {
    "duration": 402,
    "start_time": "2023-03-25T19:44:01.887Z"
   },
   {
    "duration": 487,
    "start_time": "2023-03-25T19:44:53.000Z"
   },
   {
    "duration": 418,
    "start_time": "2023-03-25T19:58:17.367Z"
   },
   {
    "duration": 504,
    "start_time": "2023-03-25T19:58:45.932Z"
   },
   {
    "duration": 607,
    "start_time": "2023-03-25T19:59:05.716Z"
   },
   {
    "duration": 493,
    "start_time": "2023-03-25T19:59:27.180Z"
   },
   {
    "duration": 476,
    "start_time": "2023-03-25T20:02:47.682Z"
   },
   {
    "duration": 434,
    "start_time": "2023-03-25T20:20:34.252Z"
   },
   {
    "duration": 415,
    "start_time": "2023-03-25T20:21:21.730Z"
   },
   {
    "duration": 522,
    "start_time": "2023-03-25T20:56:47.330Z"
   },
   {
    "duration": 375,
    "start_time": "2023-03-25T21:02:47.037Z"
   },
   {
    "duration": 1604,
    "start_time": "2023-03-25T21:17:44.074Z"
   },
   {
    "duration": 1642,
    "start_time": "2023-03-25T21:21:45.237Z"
   },
   {
    "duration": 440,
    "start_time": "2023-03-25T21:22:31.032Z"
   },
   {
    "duration": 2600,
    "start_time": "2023-03-25T21:24:36.663Z"
   },
   {
    "duration": 1452,
    "start_time": "2023-03-25T21:26:21.922Z"
   },
   {
    "duration": 445,
    "start_time": "2023-03-25T21:27:38.796Z"
   },
   {
    "duration": 838,
    "start_time": "2023-03-26T07:37:53.129Z"
   },
   {
    "duration": 26,
    "start_time": "2023-03-26T07:37:53.969Z"
   },
   {
    "duration": 25,
    "start_time": "2023-03-26T07:37:53.996Z"
   },
   {
    "duration": 13,
    "start_time": "2023-03-26T07:37:54.024Z"
   },
   {
    "duration": 61,
    "start_time": "2023-03-26T07:37:54.039Z"
   },
   {
    "duration": 20,
    "start_time": "2023-03-26T07:37:54.102Z"
   },
   {
    "duration": 18,
    "start_time": "2023-03-26T07:37:54.123Z"
   },
   {
    "duration": 6,
    "start_time": "2023-03-26T07:37:54.143Z"
   },
   {
    "duration": 10,
    "start_time": "2023-03-26T07:37:54.151Z"
   },
   {
    "duration": 6,
    "start_time": "2023-03-26T07:37:54.165Z"
   },
   {
    "duration": 74,
    "start_time": "2023-03-26T07:37:54.173Z"
   },
   {
    "duration": 15,
    "start_time": "2023-03-26T07:37:54.249Z"
   },
   {
    "duration": 12,
    "start_time": "2023-03-26T07:37:54.266Z"
   },
   {
    "duration": 34,
    "start_time": "2023-03-26T07:37:54.280Z"
   },
   {
    "duration": 53,
    "start_time": "2023-03-26T07:37:54.316Z"
   },
   {
    "duration": 22,
    "start_time": "2023-03-26T07:37:54.371Z"
   },
   {
    "duration": 5,
    "start_time": "2023-03-26T07:37:54.395Z"
   },
   {
    "duration": 21,
    "start_time": "2023-03-26T07:37:54.402Z"
   },
   {
    "duration": 23,
    "start_time": "2023-03-26T07:37:54.425Z"
   },
   {
    "duration": 12,
    "start_time": "2023-03-26T07:37:54.449Z"
   },
   {
    "duration": 19,
    "start_time": "2023-03-26T07:37:54.463Z"
   },
   {
    "duration": 1549,
    "start_time": "2023-03-26T07:37:54.484Z"
   },
   {
    "duration": 458,
    "start_time": "2023-03-26T07:37:56.036Z"
   },
   {
    "duration": 396,
    "start_time": "2023-03-26T07:37:56.496Z"
   },
   {
    "duration": 475,
    "start_time": "2023-03-26T07:37:56.894Z"
   },
   {
    "duration": 1798,
    "start_time": "2023-03-26T09:03:13.326Z"
   },
   {
    "duration": 473,
    "start_time": "2023-03-26T09:03:47.007Z"
   },
   {
    "duration": 468,
    "start_time": "2023-03-26T09:11:27.883Z"
   },
   {
    "duration": 497,
    "start_time": "2023-03-26T09:12:29.079Z"
   },
   {
    "duration": 510,
    "start_time": "2023-03-26T09:14:34.817Z"
   },
   {
    "duration": 583,
    "start_time": "2023-03-26T09:17:34.204Z"
   },
   {
    "duration": 502,
    "start_time": "2023-03-26T09:17:58.848Z"
   },
   {
    "duration": 482,
    "start_time": "2023-03-26T09:18:25.016Z"
   },
   {
    "duration": 512,
    "start_time": "2023-03-26T09:38:41.077Z"
   },
   {
    "duration": 572,
    "start_time": "2023-03-26T09:39:47.255Z"
   },
   {
    "duration": 393,
    "start_time": "2023-03-26T09:49:40.052Z"
   },
   {
    "duration": 363,
    "start_time": "2023-03-26T09:50:52.236Z"
   },
   {
    "duration": 421,
    "start_time": "2023-03-26T09:59:51.147Z"
   },
   {
    "duration": 403,
    "start_time": "2023-03-26T10:04:37.253Z"
   },
   {
    "duration": 81,
    "start_time": "2023-03-26T10:12:57.519Z"
   },
   {
    "duration": 454,
    "start_time": "2023-03-26T10:13:14.841Z"
   },
   {
    "duration": 582,
    "start_time": "2023-03-26T10:18:11.959Z"
   },
   {
    "duration": 1571,
    "start_time": "2023-03-27T06:11:41.064Z"
   },
   {
    "duration": 28,
    "start_time": "2023-03-27T06:11:42.638Z"
   },
   {
    "duration": 21,
    "start_time": "2023-03-27T06:11:42.668Z"
   },
   {
    "duration": 14,
    "start_time": "2023-03-27T06:11:42.692Z"
   },
   {
    "duration": 76,
    "start_time": "2023-03-27T06:11:42.708Z"
   },
   {
    "duration": 4,
    "start_time": "2023-03-27T06:11:42.786Z"
   },
   {
    "duration": 10,
    "start_time": "2023-03-27T06:11:42.792Z"
   },
   {
    "duration": 4,
    "start_time": "2023-03-27T06:11:42.804Z"
   },
   {
    "duration": 31,
    "start_time": "2023-03-27T06:11:42.810Z"
   },
   {
    "duration": 5,
    "start_time": "2023-03-27T06:11:42.843Z"
   },
   {
    "duration": 45,
    "start_time": "2023-03-27T06:11:42.851Z"
   },
   {
    "duration": 10,
    "start_time": "2023-03-27T06:11:42.897Z"
   },
   {
    "duration": 34,
    "start_time": "2023-03-27T06:11:42.908Z"
   },
   {
    "duration": 13,
    "start_time": "2023-03-27T06:11:42.944Z"
   },
   {
    "duration": 28,
    "start_time": "2023-03-27T06:11:42.960Z"
   },
   {
    "duration": 19,
    "start_time": "2023-03-27T06:11:42.990Z"
   },
   {
    "duration": 4,
    "start_time": "2023-03-27T06:11:43.010Z"
   },
   {
    "duration": 16,
    "start_time": "2023-03-27T06:11:43.045Z"
   },
   {
    "duration": 6,
    "start_time": "2023-03-27T06:11:43.063Z"
   },
   {
    "duration": 4,
    "start_time": "2023-03-27T06:11:43.071Z"
   },
   {
    "duration": 14,
    "start_time": "2023-03-27T06:11:43.077Z"
   },
   {
    "duration": 462,
    "start_time": "2023-03-27T06:11:43.093Z"
   },
   {
    "duration": 454,
    "start_time": "2023-03-27T06:11:43.556Z"
   },
   {
    "duration": 381,
    "start_time": "2023-03-27T06:11:44.012Z"
   },
   {
    "duration": 432,
    "start_time": "2023-03-27T06:11:44.395Z"
   },
   {
    "duration": 50,
    "start_time": "2023-03-27T08:05:13.101Z"
   },
   {
    "duration": 48,
    "start_time": "2023-03-27T08:06:20.263Z"
   },
   {
    "duration": 572,
    "start_time": "2023-03-27T08:06:44.546Z"
   },
   {
    "duration": 1501,
    "start_time": "2023-03-27T08:07:35.832Z"
   },
   {
    "duration": 398,
    "start_time": "2023-03-27T08:20:18.625Z"
   },
   {
    "duration": 137,
    "start_time": "2023-03-27T08:29:39.184Z"
   },
   {
    "duration": 104,
    "start_time": "2023-03-27T08:30:05.205Z"
   },
   {
    "duration": 87,
    "start_time": "2023-03-27T08:37:22.733Z"
   },
   {
    "duration": 95,
    "start_time": "2023-03-27T08:37:45.394Z"
   },
   {
    "duration": 93,
    "start_time": "2023-03-27T08:37:57.003Z"
   },
   {
    "duration": 122,
    "start_time": "2023-03-27T08:38:12.572Z"
   },
   {
    "duration": 122,
    "start_time": "2023-03-27T08:38:27.541Z"
   },
   {
    "duration": 119,
    "start_time": "2023-03-27T08:40:55.912Z"
   },
   {
    "duration": 49,
    "start_time": "2023-03-27T08:51:04.053Z"
   },
   {
    "duration": 51,
    "start_time": "2023-03-27T08:51:12.581Z"
   },
   {
    "duration": 84,
    "start_time": "2023-03-27T08:51:23.010Z"
   },
   {
    "duration": 88,
    "start_time": "2023-03-27T08:53:41.190Z"
   },
   {
    "duration": 103,
    "start_time": "2023-03-27T09:06:11.763Z"
   },
   {
    "duration": 352,
    "start_time": "2023-03-27T09:08:17.494Z"
   },
   {
    "duration": 302,
    "start_time": "2023-03-27T09:10:56.658Z"
   },
   {
    "duration": 416,
    "start_time": "2023-03-27T09:11:23.106Z"
   },
   {
    "duration": 85,
    "start_time": "2023-03-27T09:14:59.020Z"
   },
   {
    "duration": 352,
    "start_time": "2023-03-27T09:15:26.315Z"
   },
   {
    "duration": 380,
    "start_time": "2023-03-27T09:25:34.426Z"
   },
   {
    "duration": 1542,
    "start_time": "2023-03-27T15:19:24.922Z"
   },
   {
    "duration": 22,
    "start_time": "2023-03-27T15:19:26.466Z"
   },
   {
    "duration": 71,
    "start_time": "2023-03-27T15:19:26.489Z"
   },
   {
    "duration": 13,
    "start_time": "2023-03-27T15:19:26.563Z"
   },
   {
    "duration": 99,
    "start_time": "2023-03-27T15:19:26.579Z"
   },
   {
    "duration": 4,
    "start_time": "2023-03-27T15:19:26.681Z"
   },
   {
    "duration": 62,
    "start_time": "2023-03-27T15:19:26.687Z"
   },
   {
    "duration": 6,
    "start_time": "2023-03-27T15:19:26.751Z"
   },
   {
    "duration": 11,
    "start_time": "2023-03-27T15:19:26.760Z"
   },
   {
    "duration": 8,
    "start_time": "2023-03-27T15:19:26.773Z"
   },
   {
    "duration": 95,
    "start_time": "2023-03-27T15:19:26.783Z"
   },
   {
    "duration": 65,
    "start_time": "2023-03-27T15:19:26.881Z"
   },
   {
    "duration": 4,
    "start_time": "2023-03-27T15:19:26.948Z"
   },
   {
    "duration": 20,
    "start_time": "2023-03-27T15:19:26.956Z"
   },
   {
    "duration": 80,
    "start_time": "2023-03-27T15:19:26.978Z"
   },
   {
    "duration": 79,
    "start_time": "2023-03-27T15:19:27.060Z"
   },
   {
    "duration": 5,
    "start_time": "2023-03-27T15:19:27.141Z"
   },
   {
    "duration": 17,
    "start_time": "2023-03-27T15:19:27.147Z"
   },
   {
    "duration": 5,
    "start_time": "2023-03-27T15:19:27.166Z"
   },
   {
    "duration": 3,
    "start_time": "2023-03-27T15:19:27.173Z"
   },
   {
    "duration": 68,
    "start_time": "2023-03-27T15:19:27.178Z"
   },
   {
    "duration": 926,
    "start_time": "2023-03-27T15:19:27.248Z"
   },
   {
    "duration": 665,
    "start_time": "2023-03-27T15:19:28.175Z"
   },
   {
    "duration": 328,
    "start_time": "2023-03-27T15:19:28.842Z"
   },
   {
    "duration": 434,
    "start_time": "2023-03-27T15:19:29.172Z"
   }
  ],
  "colab": {
   "name": "dpp_template_part2.ipynb",
   "provenance": []
  },
  "kernelspec": {
   "display_name": "Python 3 (ipykernel)",
   "language": "python",
   "name": "python3"
  },
  "language_info": {
   "codemirror_mode": {
    "name": "ipython",
    "version": 3
   },
   "file_extension": ".py",
   "mimetype": "text/x-python",
   "name": "python",
   "nbconvert_exporter": "python",
   "pygments_lexer": "ipython3",
   "version": "3.9.5"
  },
  "toc": {
   "base_numbering": 1,
   "nav_menu": {},
   "number_sections": true,
   "sideBar": true,
   "skip_h1_title": true,
   "title_cell": "Table of Contents",
   "title_sidebar": "Contents",
   "toc_cell": false,
   "toc_position": {
    "height": "calc(100% - 180px)",
    "left": "10px",
    "top": "150px",
    "width": "288px"
   },
   "toc_section_display": true,
   "toc_window_display": true
  }
 },
 "nbformat": 4,
 "nbformat_minor": 5
}
